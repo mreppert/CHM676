{
 "cells": [
  {
   "cell_type": "markdown",
   "metadata": {},
   "source": [
    "# Absorption Spectra in Excitonic Systems #\n",
    "\n",
    "In lecture, we learned about the formation of *molecular excitons* when individual molecular transitions interact with each other. In this exercise, we'll examine what effect excitonic interactions have on the absorption properties of molecular systems. \n",
    "\n",
    "The code below calculates the absorption \"stick spectrum\" of a linear chain of ``Nosc`` molecules, each of which interacts with its nearest-neighbors, i.e., the molecules before and after it in the chain. Play around with the code to learn what it's doing and then complete the exercises at the bottom of the page. "
   ]
  },
  {
   "cell_type": "code",
   "execution_count": null,
   "metadata": {},
   "outputs": [],
   "source": [
    "import math\n",
    "%matplotlib inline\n",
    "import matplotlib.pyplot as plt\n",
    "from IPython import display\n",
    "import time\n",
    "import numpy as np\n",
    "plt.rcParams.update({'font.size': 20})\n",
    "np.set_printoptions(suppress=True, precision=3)\n",
    "\n",
    "# Set parameters -- all frequencies/energies are in 1/cm\n",
    "vo = 17000              # Site energy -- identical for all sites\n",
    "V = -100                # Coupling constant\n",
    "Nosc = 10               # Number of oscillators\n",
    "Mu = np.ones((Nosc,1))  # Dipole moment matrix\n",
    "\n",
    "# Build the Hamiltonian matrix -- we use frequency in 1/cm\n",
    "H = np.zeros((Nosc,Nosc))\n",
    "for n in range(0, Nosc-1):\n",
    "    H[n,n+1] = V\n",
    "H = H + np.transpose(H)\n",
    "H = H + np.eye(Nosc)*vo\n",
    "\n",
    "# Set up the frequency axis\n",
    "v1 = 16000\n",
    "v2 = 18000\n",
    "dv = 1\n",
    "vaxis = np.arange(v1,v2,dv)\n",
    "spec = np.zeros(np.shape(vaxis))\n",
    "\n",
    "# Generate a random ensemble of site energies, diagonalize, and add results to spectrum\n",
    "eVals,eVecs = np.linalg.eig(H)\n",
    "eMu = np.matmul(np.transpose(eVecs), Mu)\n",
    "for n in range(0,Nosc):\n",
    "    ndx = np.where(np.abs(vaxis-eVals[n])==np.min(np.abs(vaxis-eVals[n])))[0][0]\n",
    "    spec[ndx] += eMu[n]**2/Nosc\n",
    "\n",
    "# Plot the spectrum\n",
    "plt.figure()\n",
    "plt.plot(vaxis, spec)\n",
    "plt.title('Absorption Spectrum')\n",
    "\n",
    "# Plot the site coefficients for the lowest-energy eigenstate\n",
    "plt.figure()\n",
    "plt.bar(np.arange(0,Nosc), eVecs[:,0])\n",
    "plt.title('Site coefficients for $|0 \\\\rangle$')\n",
    "plt.xticks(range(0,Nosc))\n",
    "plt.xlabel('Exciton number')\n",
    "plt.ylabel('Site Coefficient')\n",
    "plt.show()"
   ]
  },
  {
   "cell_type": "markdown",
   "metadata": {},
   "source": [
    "# Homework #\n",
    "\n",
    "1. Consider first a \"side-by-side\" array of dipoles, all of which point in the direction perpendicular to the axis that connects their centers. Schematically, if each dipole moment is represented by an arrow, this looks like:\n",
    "$$\\uparrow \\uparrow \\uparrow ... \\uparrow$$\n",
    "Remembering that the coupling constant V specifies the change in energy when adjacent oscillators are displaced *simultaneously*, would you expect V to be positive or negative in this arrangement? \n",
    "\n",
    "2. Now suppose the dipoles are in a \"head-to-tail\" arrangement, i.e., all dipoles point directly toward their nearest neighbor. Schematically, this looks like:\n",
    "$$ \\rightarrow \\rightarrow \\rightarrow ... \\rightarrow $$\n",
    "In this case, do you expect the coupling constant V to be positive or negative? \n",
    "\n",
    "3. Calculate an absorption spectrum with 10 oscillators and with couplings corresponding either to the side-by-side or head-to-tail arrangements. (Set $|V| = 100$ cm$^{-1}$ in each case.) How does the spectrum change between the two cases? \n",
    "\n",
    "4. By examining the entries in eVecs[:,0], you can see that the lowest-frequency eigenstate corresponds in the case $V<0$ to all oscillators moving in phase with each other (all entries in eVecs[:,0] are positive) and in the case $V>0$ to all oscillators moving out of phase with their nearest neighbors (signs in eVecs[:,0] alternate). Explain why this is the case, remembering that $V$ indicates the increase or decrease in energy of the system when adjacent oscillators are displaced simultaneously. \n",
    "\n",
    "5. Finally, given what you know now about the relative phase of oscillator motion in the lowest-frequency eigenstate, explain your earlier observations about the appearance of the spectrum for the two different chain geometries, making reference to the total dipole formed when the oscillators move either in-phase or out-of-phase with each other. "
   ]
  },
  {
   "cell_type": "markdown",
   "metadata": {},
   "source": [
    "# Extra Credit #\n",
    "\n",
    "The Hamiltonian matrix for our linear chain of molecules has zeros everywhere except for the diagonal (representing pigment site energies) and immediately above and below the diagonal (representing nearest-neighbor coupling constants). How would the form of the Hamiltonian change if we instead studied a *ring* of dipoles with nearest-neighbor interactions? Modify the Hamiltonian in our exciton code accordingly and describe what effect this has on the absorption spectrum and lowest-energy exciton state. \n"
   ]
  },
  {
   "cell_type": "code",
   "execution_count": null,
   "metadata": {
    "collapsed": true
   },
   "outputs": [],
   "source": []
  }
 ],
 "metadata": {
  "kernelspec": {
   "display_name": "Python [default]",
   "language": "python",
   "name": "python3"
  },
  "language_info": {
   "codemirror_mode": {
    "name": "ipython",
    "version": 3
   },
   "file_extension": ".py",
   "mimetype": "text/x-python",
   "name": "python",
   "nbconvert_exporter": "python",
   "pygments_lexer": "ipython3",
   "version": "3.6.4"
  }
 },
 "nbformat": 4,
 "nbformat_minor": 2
}
