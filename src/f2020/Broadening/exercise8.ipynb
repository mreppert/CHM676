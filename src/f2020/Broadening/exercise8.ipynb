{
 "cells": [
  {
   "cell_type": "markdown",
   "metadata": {},
   "source": [
    "# Exercise 8\n",
    "\n",
    "Use the Broadening app to run simulations for the parameters requested below. Be sure to save the spectrum output under distinct file names and include the text files in your homework submission!\n",
    "\n",
    "For each question, use ``np.loadtxt()`` to load the appropriate spectroscopic data, and plot the absorption spectrum (second column in text file) as a <span style=\"color:red;\">red line</span> and the SDF (third column in text file) as a <span style=\"color:gray;\">gray line</span>. Be sure to properly *label the frequency axis* (first column in text file; the default units are Hz). Then use the plot to answer the question. \n",
    "\n",
    "Unless otherwise, noted, use the default parameters **except**:\n",
    "* Use at least 250 oscillators in each simulation (more oscillators will give you less noise). \n",
    "\n",
    "While playing with the simulations, you may prefer to use a smaller number of particles while you play with the controls, but be sure to use the values above for your final submission. "
   ]
  },
  {
   "cell_type": "markdown",
   "metadata": {},
   "source": [
    "## Homework Questions\n",
    "\n",
    "\n",
    "### Question 1\n",
    "\n",
    "With the SDF mode set to \"Binary\", run a simulation with $\\tau_{switch}$ = 1000 fs. How does the absorption spectrum compare to the SDF? What type of broadening does the simulation exhibit? \n"
   ]
  },
  {
   "cell_type": "code",
   "execution_count": null,
   "metadata": {},
   "outputs": [],
   "source": [
    "# Enter code here"
   ]
  },
  {
   "cell_type": "markdown",
   "metadata": {},
   "source": [
    "*Enter Markdown here*"
   ]
  },
  {
   "cell_type": "markdown",
   "metadata": {},
   "source": [
    "### Question 2\n",
    "\n",
    "Now repeat the simulation with $\\tau_{switch}$ = 1 fs. Now how does the absorption spectrum compare to the SDF? What type of broadening does this represent? "
   ]
  },
  {
   "cell_type": "code",
   "execution_count": null,
   "metadata": {},
   "outputs": [],
   "source": [
    "# Enter code here"
   ]
  },
  {
   "cell_type": "markdown",
   "metadata": {},
   "source": [
    "*Enter Markdown here*"
   ]
  },
  {
   "cell_type": "markdown",
   "metadata": {},
   "source": [
    "### Question 3\n",
    "\n",
    "Still in binary mode, run a series of simulations tuning $\\tau_{switch}$ gradually between the two limits you just examined. Around what value of $\\tau_{switch}$ does the behavior seem to change? How is this related to the average oscillator frequency? In your code cell, plot a spectrum calculated with $\\tau_{switch}$ value you identified. (If you like, you can also plot spectra calculated with other values of $\\tau_{switch}$ to illustrate the transition. Just be sure to label each curve using either ``plt.legend()`` or ``plt.title()`` commands.) "
   ]
  },
  {
   "cell_type": "code",
   "execution_count": null,
   "metadata": {},
   "outputs": [],
   "source": [
    "# Enter code here"
   ]
  },
  {
   "cell_type": "markdown",
   "metadata": {},
   "source": [
    "*Enter Markdown here*"
   ]
  },
  {
   "cell_type": "markdown",
   "metadata": {},
   "source": [
    "### Question 4\n",
    "\n",
    "Finally, run simulations in \"Normal\" mode with both $\\tau_{switch}$ = 10 fs and $\\tau_{switch}$ = 1 ps. Use **500 particles for each simulation**, since the averaging requirements are more stringent with the larger range of oscillator frequencies. Save the output from both simulations and plot the absorption spectra and SDF together on a single plot. (Use different line colors for the 10 fs and 1 ps curves, and use the `plt.legend()` command to label all three curves.) How do the two spectra differ? How do they compare to the SDF? Does each absorption spectrum more closely resemble a [*Gaussian* or *Lorentzian* line shape](https://en.wikipedia.org/wiki/Spectral_line_shape)? "
   ]
  },
  {
   "cell_type": "code",
   "execution_count": 1,
   "metadata": {},
   "outputs": [],
   "source": [
    "# Enter code here"
   ]
  },
  {
   "cell_type": "markdown",
   "metadata": {},
   "source": [
    "*Enter Markdown here*"
   ]
  },
  {
   "cell_type": "code",
   "execution_count": null,
   "metadata": {},
   "outputs": [],
   "source": []
  }
 ],
 "metadata": {
  "kernelspec": {
   "display_name": "Python 3",
   "language": "python",
   "name": "python3"
  },
  "language_info": {
   "codemirror_mode": {
    "name": "ipython",
    "version": 3
   },
   "file_extension": ".py",
   "mimetype": "text/x-python",
   "name": "python",
   "nbconvert_exporter": "python",
   "pygments_lexer": "ipython3",
   "version": "3.7.7"
  }
 },
 "nbformat": 4,
 "nbformat_minor": 2
}
