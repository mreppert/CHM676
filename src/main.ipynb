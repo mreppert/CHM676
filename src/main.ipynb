{
 "cells": [
  {
   "cell_type": "code",
   "execution_count": 7,
   "metadata": {
    "ExecuteTime": {
     "end_time": "2024-10-18T15:53:52.186996Z",
     "start_time": "2024-10-18T15:53:52.178146Z"
    }
   },
   "outputs": [
    {
     "data": {
      "application/javascript": [
       "IPython.OutputArea.auto_scroll_threshold = 9999\n"
      ],
      "text/plain": [
       "<IPython.core.display.Javascript object>"
      ]
     },
     "metadata": {},
     "output_type": "display_data"
    }
   ],
   "source": [
    "%%javascript\n",
    "IPython.OutputArea.auto_scroll_threshold = 9999"
   ]
  },
  {
   "cell_type": "code",
   "execution_count": 8,
   "metadata": {
    "ExecuteTime": {
     "end_time": "2024-10-18T15:53:52.481447Z",
     "start_time": "2024-10-18T15:53:52.475909Z"
    }
   },
   "outputs": [],
   "source": [
    "from IPython.display import display_markdown\n",
    "from datetime import date\n",
    "import datetime\n",
    "import time\n",
    "import sys, os\n",
    "\n",
    "import schedule"
   ]
  },
  {
   "cell_type": "markdown",
   "metadata": {},
   "source": [
    "# CHM 676: Molecular Spectroscopy\n",
    "\n"
   ]
  },
  {
   "cell_type": "code",
   "execution_count": 9,
   "metadata": {
    "ExecuteTime": {
     "end_time": "2024-10-18T15:53:52.964227Z",
     "start_time": "2024-10-18T15:53:52.939675Z"
    },
    "scrolled": false
   },
   "outputs": [
    {
     "data": {
      "text/markdown": [
       "Welcome to Molecular Spectroscopy!\r",
       "\r",
       "The schedule below will be updated regularly with links to online materials for each lecture. Dark blue text indicates a Jupyter Notebook-based programming/simulation module, while light-blue headings link to PDF-format lecture notes. Holidays are indicated in purple. Underlining indicates that the link is active and ready for use. A complete list of lecture notes from the most recent year is accessible [here](https://mreppert.github.io/education/chm676f22/notes/index.html). A free PDF copy of the textbook is available for download [here](https://mreppert.github.io/education/chm676f22/textbook.pdf).\r",
       "\r",
       "**Information on the [Final Project](./CHM676_Final_Project_F2024.pdf) is now posted**.\r",
       "## Module 1 \r",
       "#### Week 1\r",
       " * Aug 19: <a href=\"./programming/definitions.ipynb\"> <span style=\"color:DarkBlue;text-decoration:underline\">Python Crash Course: Introduction</span></a> ([supplement](https://youtu.be/d9ceCaVjG3o)) \r",
       "\r",
       " * Aug 21: <a href=\"./programming/arrays.ipynb\"> <span style=\"color:DarkBlue;text-decoration:underline\">Python Crash Course: Python Arrays</span></a> ([supplement](https://youtu.be/oBBv6zHXEKE)) \r",
       "\r",
       " * Aug 23: <a href=\"./programming/md.ipynb\"> <span style=\"color:DarkBlue;text-decoration:underline\">Python Crash Course: Molecular Dynamics</span></a> \r",
       "\r",
       "#### Week 2\r",
       " * Aug 26: <a href=\"https://mreppert.github.io/education/chm676f20/notes/MaxwellsEquations.pdf\"> <span style=\"color:#3090C7;text-decoration:underline\">Maxwell's equations and the Lorentz Force Law</span></a> \r",
       "\r",
       " * Aug 28: <a href=\"https://mreppert.github.io/education/chm676f20/notes/VacuumWaves.pdf\"> <span style=\"color:#3090C7;text-decoration:underline\">Electromagnetic Waves in Vacuum</span></a> \r",
       "\r",
       " * Aug 30: <a href=\"./FT/FourierTransforms.ipynb\"> <span style=\"color:DarkBlue;text-decoration:underline\">Fourier Transforms</span></a> \r",
       "\r",
       "#### Week 3\r",
       " * Sep 2: <span style=\"color:Purple\">Labor Day</span> \r",
       "\r",
       " * Sep 4: <a href=\"https://mreppert.github.io/education/chm676f20/notes/EnergyContent.pdf\"> <span style=\"color:#3090C7;text-decoration:underline\">Energy Content in EM Waves</span></a> \r",
       "\r",
       " * Sep 6: <a href=\"./MDinEField/MD.ipynb\"> <span style=\"color:DarkBlue;text-decoration:underline\">MD in an Electric Field</span></a> \r",
       "\r",
       "#### Week 4\r",
       " * Sep 9: <a href=\"https://mreppert.github.io/education/chm676f20/notes/MicroscopicElectrodynamics.pdf\"> <span style=\"color:#3090C7;text-decoration:underline\">Microscopic Electrodynamics: The Wave Equation</span></a> \r",
       "\r",
       " * Sep 11: <a href=\"https://mreppert.github.io/education/chm676f20/notes/MacroscopicElectrodynamics.pdf\"> <span style=\"color:#3090C7;text-decoration:underline\">Macroscopic Electrodynamics: Ensemble-Averaged Fields</span></a> \r",
       "\r",
       " * Sep 13: <a href=\"./Langevin/Langevin.ipynb\"> <span style=\"color:DarkBlue;text-decoration:underline\">Langevin Dynamics</span></a> \r",
       "\r",
       "#### Week 5\r",
       " * Sep 16: <a href=\"./Langevin/Langevin_oscillators.ipynb\"> <span style=\"color:DarkBlue;text-decoration:underline\">Material Polarization</span></a> \r",
       "\r",
       " * Sep 18: <a href=\"./Exam1/exam1_practice.ipynb\"> <span style=\"color:#3090C7;text-decoration:underline\">Practice Exam 1</span></a> \r",
       "\r",
       " * Sep 20: <a href=\"./Exam1/exam1.ipynb\"> <span style=\"color:#3090C7;text-decoration:underline\">Exam (link will be activated at exam time)</span></a> \r",
       "\r",
       "\r",
       "## Module 2 \r",
       "#### Week 6\r",
       " * Sep 23: <a href=\"https://mreppert.github.io/education/chm676f20/notes/ResponseTheory.pdf\"> <span style=\"color:#3090C7;text-decoration:underline\">Response Theory</span></a> \r",
       "\r",
       " * Sep 25: <a href=\"https://mreppert.github.io/education/chm676f20/notes/LinearResponse.pdf\"> <span style=\"color:#3090C7;text-decoration:underline\">Linear Response</span></a> \r",
       "\r",
       " * Sep 27: <a href=\"./Langevin/LangevinAbsorption.ipynb\"> <span style=\"color:DarkBlue;text-decoration:underline\">Absorption Spectroscopy</span></a> \r",
       "\r",
       "#### Week 7\r",
       " * Sep 30: <a href=\"https://mreppert.github.io/education/chm676f20/notes/NonlinearResponse.pdf\"> <span style=\"color:#3090C7;text-decoration:underline\">Nonlinear Response</span></a> \r",
       "\r",
       " * Oct 2: <a href=\"https://mreppert.github.io/education/chm676f20/notes/NonlinearSpectroscopy.pdf\"> <span style=\"color:#3090C7;text-decoration:underline\">Nonlinear Spectroscopy</span></a> \r",
       "\r",
       " * Oct 4: <a href=\"./Morse/exercise6.ipynb\"> <span style=\"color:DarkBlue;text-decoration:underline\">The Morse Oscillator</span></a> \r",
       "\r",
       "#### Week 8\r",
       " * Oct 7: <span style=\"color:Purple\">October Break</span> \r",
       "\r",
       " * Oct 9: <a href=\"https://mreppert.github.io/education/chm676f20/notes/FluorescenceHoleBurning.pdf\"> <span style=\"color:#3090C7;text-decoration:underline\">Fluorescence and Hole Burning</span></a> \r",
       "\r",
       " * Oct 11: <a href=\"./Broadening/broadening.ipynb\"> <span style=\"color:DarkBlue;text-decoration:underline\">Broadening Mechanisms and Motional Narrowing</span></a> ([supplement](./Broadening/Convolutions.ipynb)) \r",
       "\r",
       "#### Week 9\r",
       " * Oct 14: <a href=\"./Morse/PumpProbe.ipynb\"> <span style=\"color:DarkBlue;text-decoration:underline\">Pump-Probe Spectroscopy</span></a> \r",
       "\r",
       " * Oct 16: <a href=\"https://mreppert.github.io/education/chm676f20/notes/PPand2D.pdf\"> <span style=\"color:#3090C7;text-decoration:underline\">2D Spectroscopy</span></a> \r",
       "\r",
       " * Oct 18: <a href=\"./Morse/2DSupplement.ipynb\"> <span style=\"color:DarkBlue;text-decoration:underline\">Morse Oscillator Nonlinear Spectroscopy</span></a> \r",
       "\r",
       "#### Week 10\r",
       " * Oct 21: <a href=\"./Exam2/exam2f22.ipynb\"> <span style=\"color:#3090C7;text-decoration:underline\">Practice Exam2 (F2022)</span></a> \r",
       "\r",
       " * Oct 23: <a href=\"./Exam2/practice_exam2.ipynb\"> <span style=\"color:#3090C7;text-decoration:underline\">Practice Exam2</span></a> \r",
       "\r",
       " * Oct 25: <span style=\"color:#3090C7\">Exam</span> \r",
       "\r",
       "\r",
       "## Module 3 \r",
       "#### Week 11\r",
       " * Oct 28: <a href=\"https://mreppert.github.io/education/chm676f20/notes/IntroQuantumMechanics.pdf\"> <span style=\"color:#3090C7;text-decoration:underline\">Intro to Quantum Mechanics</span></a> \r",
       "\r",
       " * Oct 30: <span style=\"color:#3090C7\">Linear Alebra Concepts</span> \r",
       "\r",
       " * Nov 1: <span style=\"color:#3090C7\">Quantum Morse Oscillator</span> \r",
       "\r",
       "#### Week 12\r",
       " * Nov 4: <a href=\"https://mreppert.github.io/education/chm676f20/notes/QuantumResponseTheory.pdf\"> <span style=\"color:#3090C7;text-decoration:underline\">Quantum Response Theory I</span></a> \r",
       "\r",
       " * Nov 6: <a href=\"https://mreppert.github.io/education/chm676f20/notes/QuantumResponseTheory.pdf\"> <span style=\"color:#3090C7;text-decoration:underline\">Quantum Response Theory II</span></a> \r",
       "\r",
       " * Nov 8: <span style=\"color:DarkBlue\">Storyline workshopping</span> \r",
       "\r",
       "#### Week 13\r",
       " * Nov 11: <a href=\"https://mreppert.github.io/education/chm676f20/notes/DiagrammaticExpansions.pdf\"> <span style=\"color:#3090C7;text-decoration:underline\">Arrow-Ladder Diagrams I</span></a> \r",
       "\r",
       " * Nov 13: <a href=\"https://mreppert.github.io/education/chm676f20/notes/DiagrammaticExpansions.pdf\"> <span style=\"color:#3090C7;text-decoration:underline\">Arrow-Ladder Diagrams II</span></a> \r",
       "\r",
       " * Nov 15: <a href=\"./excitons/PigmentHunter.ipynb\"> <span style=\"color:DarkBlue;text-decoration:underline\">Photosynthetic Excitons</span></a> \r",
       "\r",
       "#### Week 14\r",
       " * Nov 18: <span style=\"color:#3090C7\"></span> \r",
       "\r",
       " * Nov 20: <span style=\"color:#3090C7\"></span> \r",
       "\r",
       " * Nov 22: <span style=\"color:#3090C7\"></span> \r",
       "\r",
       "#### Week 15\r",
       " * Nov 25: <span style=\"color:#3090C7\">Project Presentation</span> \r",
       "\r",
       " * Nov 27: <span style=\"color:Purple\">Thanksgiving</span> \r",
       "\r",
       " * Nov 29: <span style=\"color:Purple\">Thanksgiving</span> \r",
       "\r",
       "#### Week 16\r",
       " * Dec 2: <span style=\"color:#3090C7\">Project Presentation</span> \r",
       "\r",
       " * Dec 4: <span style=\"color:#3090C7\">Project Presentation</span> \r",
       "\r",
       " * Dec 6: <span style=\"color:#3090C7\">Project Presentation</span> \r",
       "\r",
       "#### Week 17\r",
       " * Dec 9: <span style=\"color:Purple\">Finals</span> \r",
       "\r",
       " * Dec 11: <span style=\"color:Purple\">Finals</span> \r",
       "\r",
       " * Dec 13: <span style=\"color:Purple\">Finals</span> \r",
       "\r",
       "#### Week 18\r",
       " * Dec 16: <span style=\"color:#3090C7\">Freedom!</span> \r",
       "\r"
      ]
     },
     "metadata": {},
     "output_type": "display_data"
    }
   ],
   "source": [
    "import importlib\n",
    "importlib.reload(schedule)\n",
    "\n",
    "schd = schedule.build_schedule('./')\n",
    "schd.print_events()"
   ]
  },
  {
   "cell_type": "code",
   "execution_count": null,
   "metadata": {},
   "outputs": [],
   "source": []
  },
  {
   "cell_type": "code",
   "execution_count": null,
   "metadata": {},
   "outputs": [],
   "source": []
  }
 ],
 "metadata": {
  "kernelspec": {
   "display_name": "Python 3.8",
   "language": "python",
   "name": "python3"
  },
  "language_info": {
   "codemirror_mode": {
    "name": "ipython",
    "version": 3
   },
   "file_extension": ".py",
   "mimetype": "text/x-python",
   "name": "python",
   "nbconvert_exporter": "python",
   "pygments_lexer": "ipython3",
   "version": "3.8.10"
  },
  "toc": {
   "base_numbering": 1,
   "nav_menu": {},
   "number_sections": true,
   "sideBar": true,
   "skip_h1_title": false,
   "title_cell": "Table of Contents",
   "title_sidebar": "Contents",
   "toc_cell": false,
   "toc_position": {},
   "toc_section_display": true,
   "toc_window_display": false
  },
  "varInspector": {
   "cols": {
    "lenName": 16,
    "lenType": 16,
    "lenVar": 40
   },
   "kernels_config": {
    "python": {
     "delete_cmd_postfix": "",
     "delete_cmd_prefix": "del ",
     "library": "var_list.py",
     "varRefreshCmd": "print(var_dic_list())"
    },
    "r": {
     "delete_cmd_postfix": ") ",
     "delete_cmd_prefix": "rm(",
     "library": "var_list.r",
     "varRefreshCmd": "cat(var_dic_list()) "
    }
   },
   "types_to_exclude": [
    "module",
    "function",
    "builtin_function_or_method",
    "instance",
    "_Feature"
   ],
   "window_display": false
  }
 },
 "nbformat": 4,
 "nbformat_minor": 2
}
