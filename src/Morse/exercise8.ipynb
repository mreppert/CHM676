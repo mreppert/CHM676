{
 "cells": [
  {
   "cell_type": "markdown",
   "metadata": {},
   "source": [
    "# Exercise 8\n",
    "\n",
    "For your assignment this week you will *not* turn in a Jupyter Notebook file. Instead:\n",
    "1. Use the **pump-probe** (PP) app to run simulations relevant to each question below. (Be sure to report your parameters in the answer to each question.)\n",
    "2. Take screenshots of *the PP spectra and time traces*; use the Print Screen button on your keyboard.\n",
    "3. Paste these images into your favorite text editing software (e.g., MS Word, LaTex, etc.) and use them to answer the assigned questions. \n",
    "4. Convert the final document to a PDF file (e.g., using \"print to pdf\" or \"save as pdf\") and upload *only the PDF file* to Brightspace. \n",
    "\n",
    "\n",
    "## Questions\n",
    "\n",
    "1. **Dissipation**: Find parameters for which PP spectrum is primarily broadened by dissipation. How can you tell from the pump-probe data that the broadening is driven by dissipation (and not dephasing)? \n",
    "\n",
    "2. **Inhomogeneous Broadening**: Find parameter values that illustrate the phenomenon of inhomogeneous broadening. Just by looking at the pump-probe data, can you tell that the system exhibits inhomogeneous broadening (as opposed to homogeneous broadening)? (Explain your answer.)\n",
    "\n",
    "3. **Motional Narrowing**: Change *exactly one parameter* (from the inhomogeneous broadening case) so that the spectrum exhibits motional narrowing. Is the spectrum now homogeneously or inhomogeneously broadened? Is this broadening driven by dissipation or dephasing? \n",
    "\n",
    "4. Finally, you may have found it difficult in Question 2 to distinguish homogeneous vs inhomogeneous broadening. What third order technique would make this distinction easy? What features would you look for in the spectrum to distinguish inhomogeneous vs homogeneous broadening? (You don't need to include any screen shots for this question.)\n",
    "\n"
   ]
  },
  {
   "cell_type": "code",
   "execution_count": null,
   "metadata": {},
   "outputs": [],
   "source": []
  }
 ],
 "metadata": {
  "kernelspec": {
   "display_name": "Python 3",
   "language": "python",
   "name": "python3"
  },
  "language_info": {
   "codemirror_mode": {
    "name": "ipython",
    "version": 3
   },
   "file_extension": ".py",
   "mimetype": "text/x-python",
   "name": "python",
   "nbconvert_exporter": "python",
   "pygments_lexer": "ipython3",
   "version": "3.7.7"
  }
 },
 "nbformat": 4,
 "nbformat_minor": 2
}
