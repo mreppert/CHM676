{
 "cells": [
  {
   "cell_type": "code",
   "execution_count": 1,
   "metadata": {},
   "outputs": [
    {
     "data": {
      "application/javascript": [
       "IPython.OutputArea.auto_scroll_threshold = 9999\n"
      ],
      "text/plain": [
       "<IPython.core.display.Javascript object>"
      ]
     },
     "metadata": {},
     "output_type": "display_data"
    }
   ],
   "source": [
    "%%javascript\n",
    "IPython.OutputArea.auto_scroll_threshold = 9999"
   ]
  },
  {
   "cell_type": "code",
   "execution_count": 2,
   "metadata": {},
   "outputs": [],
   "source": [
    "from IPython.display import display_markdown\n",
    "from datetime import date\n",
    "import datetime\n",
    "import time\n",
    "import sys, os\n",
    "\n",
    "import schedule"
   ]
  },
  {
   "cell_type": "markdown",
   "metadata": {},
   "source": [
    "# CHM 676: Molecular Spectroscopy\n",
    "\n"
   ]
  },
  {
   "cell_type": "code",
   "execution_count": 3,
   "metadata": {},
   "outputs": [
    {
     "data": {
      "text/markdown": [
       "Welcome to Molecular Spectroscopy!\r",
       "\r",
       "The schedule below will be updated regularly with links to online materials for each lecture. Dark blue text indicates a Jupyter Notebook-based programming/simulation module, while light-blue headings link to PDF-format lecture notes. Holidays are indicated in purple. Underlining indicates that the link is active and ready for use.\r",
       "\r",
       "Please note! You'll need to be logged into your Brightspace account to view the video lectures. (Videos are actually hosted on Brightspace, although links are provided here.)\r",
       "\r",
       "Click [here](git/CHM676/src/CHM676_Syllabus_2020.pdf) for the course syllabus. ([Here](https://983291-6.kaf.kaltura.com/media/t/0_cwi5kkdu/177251882) for a video walk-through.)\r",
       "\r",
       "\r",
       "## Module 1 \r",
       "#### Week 1\r",
       " * Aug 22: <a href=\"./programming/definitions.ipynb\"> <span style=\"color:DarkBlue;text-decoration:underline\">Python Crash Course: Introduction</span></a> ([video](https://youtu.be/d9ceCaVjG3o)) \r",
       "\r",
       " * Aug 24: <a href=\"./programming/arrays.ipynb\"> <span style=\"color:DarkBlue;text-decoration:underline\">Python Crash Course: Python Arrays</span></a> ([video](https://youtu.be/oBBv6zHXEKE)) \r",
       "\r",
       " * Aug 26: <a href=\"./programming/md.ipynb\"> <span style=\"color:DarkBlue;text-decoration:underline\">Python Crash Course: Molecular Dynamics</span></a> \r",
       "\r",
       "#### Week 2\r",
       " * Aug 29: <span style=\"color:#3090C7\">Maxwell's equations and the Lorentz Force Law</span> \r",
       "\r",
       " * Aug 31: <span style=\"color:#3090C7\">Electromagnetic Waves in Vacuum</span> \r",
       "\r",
       " * Sep 2: <span style=\"color:DarkBlue\">Fourier Transforms</span> \r",
       "\r",
       "#### Week 3\r",
       " * Sep 5: <span style=\"color:Purple\">Labor Day</span> \r",
       "\r",
       " * Sep 7: <span style=\"color:#3090C7\">Energy Content in EM Waves</span> \r",
       "\r",
       " * Sep 9: <span style=\"color:DarkBlue\">MD in an Electric Field</span> \r",
       "\r",
       "#### Week 4\r",
       " * Sep 12: <span style=\"color:#3090C7\">Microscopic Electrodynamics: The Wave Equation</span> \r",
       "\r",
       " * Sep 14: <span style=\"color:#3090C7\">Macroscopic Electrodynamics: Ensemble-Averaged Fields</span> \r",
       "\r",
       " * Sep 16: <span style=\"color:DarkBlue\">Langevin Dynamics</span> \r",
       "\r",
       "#### Week 5\r",
       " * Sep 19: <span style=\"color:DarkBlue\">Material Polarization</span> \r",
       "\r",
       " * Sep 21: <span style=\"color:#3090C7\">Practice Exam 1</span> \r",
       "\r",
       " * Sep 23: <span style=\"color:#3090C7\">Exam (link will be activated at exam time)</span> \r",
       "\r",
       "\r",
       "## Module 2 \r",
       "#### Week 6\r",
       " * Sep 26: <span style=\"color:#3090C7\">Response Theory</span> \r",
       "\r",
       " * Sep 28: <span style=\"color:#3090C7\">Linear Response</span> \r",
       "\r",
       " * Sep 30: <span style=\"color:DarkBlue\">Absorption Spectroscopy</span> \r",
       "\r",
       "#### Week 7\r",
       " * Oct 3: <span style=\"color:#3090C7\">Nonlinear Response</span> \r",
       "\r",
       " * Oct 5: <span style=\"color:#3090C7\">Nonlinear Spectroscopy</span> \r",
       "\r",
       " * Oct 7: <span style=\"color:DarkBlue\">The Morse Oscillator</span> \r",
       "\r",
       "#### Week 8\r",
       " * Oct 10: <span style=\"color:Purple\">October Break</span> \r",
       "\r",
       " * Oct 12: <span style=\"color:#3090C7\">Fluorescence and Hole Burning</span> \r",
       "\r",
       " * Oct 14: <span style=\"color:DarkBlue\">Convolutions and Hole Burning</span> \r",
       "\r",
       "#### Week 9\r",
       " * Oct 17: <span style=\"color:DarkBlue\">Broadening Mechanisms and Motional Narrowing</span> \r",
       "\r",
       " * Oct 19: <span style=\"color:DarkBlue\">Pump-Probe Spectroscopy</span> \r",
       "\r",
       " * Oct 21: <span style=\"color:#3090C7\">2D Spectroscopy</span> \r",
       "\r",
       "#### Week 10\r",
       " * Oct 24: <span style=\"color:DarkBlue\">Morse Oscillator Nonlinear Spectroscopy</span> \r",
       "\r",
       " * Oct 26: <span style=\"color:#3090C7\">Practice Exam2</span> \r",
       "\r",
       " * Oct 28: <span style=\"color:#3090C7\">Exam</span> \r",
       "\r",
       "#### Week 11\r",
       " * Oct 31: <span style=\"color:#3090C7\">Intro to Quantum Mechanics</span> \r",
       "\r",
       " * Nov 2: <span style=\"color:Purple\">Reading Day</span> \r",
       "\r",
       " * Nov 4: <span style=\"color:#3090C7\">Quantum Statistical Dynamics</span> \r",
       "\r",
       "#### Week 12\r",
       " * Nov 7: <span style=\"color:#3090C7\">Quantum Response Theory I</span> \r",
       "\r",
       " * Nov 9: <span style=\"color:#3090C7\">Quantum Response Theory II</span> \r",
       "\r",
       " * Nov 11: <span style=\"color:DarkBlue\">Amide I Excitons</span> \r",
       "\r",
       "#### Week 13\r",
       " * Nov 14: <span style=\"color:#3090C7\">Arrow-Ladder Diagrams I</span> \r",
       "\r",
       " * Nov 16: <span style=\"color:#3090C7\">Arrow-Ladder Diagrams II</span> \r",
       "\r",
       " * Nov 18: <span style=\"color:DarkBlue\">Photosynthetic Excitons</span> \r",
       "\r",
       "#### Week 14\r",
       " * Nov 21: <span style=\"color:#3090C7\">Review</span> \r",
       "\r",
       " * Nov 23: <span style=\"color:Purple\">Thanksgiving</span> \r",
       "\r",
       " * Nov 25: <span style=\"color:Purple\">Thanksgiving</span> \r",
       "\r",
       "#### Week 15\r",
       " * Nov 28: <span style=\"color:#3090C7\">Project Presentation</span> \r",
       "\r",
       " * Nov 30: <span style=\"color:#3090C7\">Project Presentation</span> \r",
       "\r",
       " * Dec 2: <span style=\"color:#3090C7\">Project Presentation</span> \r",
       "\r",
       "#### Week 16\r",
       " * Dec 5: <span style=\"color:#3090C7\">Project Presentation</span> \r",
       "\r",
       " * Dec 7: <span style=\"color:#3090C7\">Project Presentation</span> \r",
       "\r",
       " * Dec 9: <span style=\"color:#3090C7\">Project Presentation</span> \r",
       "\r",
       "#### Week 17\r",
       " * Dec 12: <span style=\"color:Purple\">Finals</span> \r",
       "\r",
       " * Dec 14: <span style=\"color:Purple\">Finals</span> \r",
       "\r",
       " * Dec 16: <span style=\"color:Purple\">Finals</span> \r",
       "\r",
       "#### Week 18\r",
       " * Dec 19: <span style=\"color:#3090C7\">Freedom!</span> \r",
       "\r"
      ]
     },
     "metadata": {},
     "output_type": "display_data"
    }
   ],
   "source": [
    "import importlib\n",
    "importlib.reload(schedule)\n",
    "\n",
    "schd = schedule.build_schedule('./')\n",
    "schd.print_events()"
   ]
  },
  {
   "cell_type": "code",
   "execution_count": null,
   "metadata": {},
   "outputs": [],
   "source": []
  }
 ],
 "metadata": {
  "kernelspec": {
   "display_name": "Python 3",
   "language": "python",
   "name": "python3"
  },
  "language_info": {
   "codemirror_mode": {
    "name": "ipython",
    "version": 3
   },
   "file_extension": ".py",
   "mimetype": "text/x-python",
   "name": "python",
   "nbconvert_exporter": "python",
   "pygments_lexer": "ipython3",
   "version": "3.7.7"
  }
 },
 "nbformat": 4,
 "nbformat_minor": 2
}
