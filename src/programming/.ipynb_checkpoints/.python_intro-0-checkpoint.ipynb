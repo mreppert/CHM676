{
 "cells": [
  {
   "cell_type": "markdown",
   "metadata": {},
   "source": [
    "# The Python programming Language"
   ]
  },
  {
   "cell_type": "markdown",
   "metadata": {},
   "source": [
    "\n",
    "\n",
    "# Variables\n",
    "\n",
    "During execution of a computer program, information is stored in **variables** of various types. Loosely speaking, a variable has two aspects: a name (determined by the programmer ahead of time) and a value (which may be either by set in advance by the programmer or generated during execution). For example, a program that calculates the area of a circle will need to reference the universal constant $\\pi$, which (in the Python language) the programmer might define with the code\n",
    "\n",
    ">``PI = 3.14159265``\n",
    "\n",
    "The programmer can then reference this value later on by simply referring to ``PI`` in the text of the program. \n",
    "\n",
    "Variables come in a variety of shapes and sizes, each with its own useful purpose. In Python, there are four basic types of variables we'll be primarily concerned with:\n",
    "* A *floating point number*, or simply **``float``**, stores decimal numbers. The variable ``PI`` defined above is an example of a ``float``. \n",
    "* An *integer*, or **``int``**, is a whole number, either positive, negative or zero. \n",
    "* A *boolean*, or **``bool``**, is a binary variable that takes only the values ``True`` or ``False``. These variables are useful for storing the outcomes of various tests to control the flow of a program. \n",
    "* A *character string*, or **``string``**, stores text values such as file names or data read from a text file. \n",
    "\n",
    "In many languages, the type of a given variable (``float``, ``int``, ``bool``, etc.) must be declared in advance, at or before the assignment of a value. The Python language is much more relaxed about this; the compiler \"guesses\" which type a variable is needed based on the value assigned to it. As a result, we very rarely need in a Python program to assign data types explicitly. It's nonetheless good to remember that, behind the scenes, each variable stored in your program falls into a well-defined class of data types -- whether you've declared it explicitly or not. \n",
    "\n",
    "### Variable Names\n",
    "\n",
    "Something you **should** think carefully about when defining a new variable is the *name* that you assign to it. Computer programs can be made very easy or very difficult to read depending on the naming convention used. \n",
    "\n",
    "In our earlier example, we stored the value ``3.14159265`` in a variable named ``PI``. Now, we could have chosen another name instead; indeed, from the computer's perspective, it's just as sensible to store the value ``3.14159265`` under a name like ``x``, ``theta``, or ``the_mathematical_constant_pi_to_eight_decimals``. But from a human perspective ``PI`` is very much preferred. The name ``x`` tells the user nothing about the significance of the variable, while a name like ``theta`` suggests (to the physicist) that the value refers to some variable angle and not to a universal constant. The name``the_mathematical_constant_pi_to_eight_decimals`` is much more informative, but the programmer would soon grow tired of typing it out. \n",
    "\n",
    "Sensible variable naming is a critical feature of good programming practice. Whenever possible, choose names like ``PI`` that are sensible, informative, and (when possible) short.\n"
   ]
  },
  {
   "cell_type": "markdown",
   "metadata": {},
   "source": [
    "\n",
    "\n",
    "# Operations\n",
    "\n",
    "### Introduction\n",
    "\n",
    "The useful thing about computers, of course, is that we can not only *store* information, but also *compute* with it. Python has a wide array of built-in \"computations\" or ``operations`` that can be performed with various data types. Important examples include:\n",
    "\n",
    "* **Addition and Subtraction**: Any two numbers (``float`` or ``int``) can be added together using the ``+`` and ``-`` operators. For example ``x = 3 + 5`` defines a variable named ``x`` whose value is ``8``. \n",
    "\n",
    "* **Multiplication and Division**: Any two numbers can be multiplied using the ``*`` operator. For example, the code ``x = 3*5`` defines a new (``int``) variable ``x`` whose value is ``15``. Likewise any number can be divided by any other number *except* zero. The code ``x = 3/5`` defines the variable ``x`` to have the ``float`` value whose decimal representation is roughly ``0.6``. (Due to limitations in numerical accuracy, the value may not be *exactly* ``0.6``, with typical errors on the order of $10^{-12}$.) The code ``x = 3/0`` returns a ``ZeroDivisionError`` reminding the user that division by zero is not a well-defined mathematical operation. \n",
    "\n",
    "* **Raising to a power**: Numbers can be raised to (either integer or non-integer) powers using the ``**`` operator. For example ``x = 2**3`` assigns to the variable ``x`` the value ``8`` (since $2^3 = 8$). Neither argument is required to be an integer.\n",
    "\n",
    "* **Comparison**: Two numbers can be *compared* using the operators ``==`` (equal to), ``>`` (greater than), and ``<`` (less than). The result of such a comparison is a boolean (True/False) value, depending on the result of the comparison. For example, the code ``x = (2>3)`` assigns the boolean value **``False``** to the variable ``x`` since in fact $2 < 3$. Conversely, ``x = (2<3)`` or ``x = (2==2)`` would assign x to be **``True``**. Note that in Python there is a critical distinction between the use of a single equals sign to assign a value (e.g., ``x = 2`` assigns the value ``2`` to the variable ``x``) and the use of a double equals sign to *compare* two values (e.g., ``x == 2`` is either **``True``** or **``False``** depending on the value of ``x``. Other comparison operators include ``>=`` (greater than or equal to) and ``<=`` (less than or equal to). \n",
    "\n",
    "\n",
    "### Example Program\n",
    "\n",
    "Many useful programs can be written using only the operations and variable types just described. As a simple example, the code below calculates the area of a circle whose radius is defined by the variable ``rad``."
   ]
  },
  {
   "cell_type": "code",
   "execution_count": 2,
   "metadata": {},
   "outputs": [
    {
     "data": {
      "text/plain": [
       "38.484509962500006"
      ]
     },
     "execution_count": 2,
     "metadata": {},
     "output_type": "execute_result"
    }
   ],
   "source": [
    "# Define the radius\n",
    "rad = 3.5\n",
    "\n",
    "# Define the constant pi (approximately)\n",
    "PI = 3.14159265\n",
    "\n",
    "# Calculate the area\n",
    "Area = PI*rad**2\n",
    "\n",
    "# Show the result\n",
    "Area"
   ]
  },
  {
   "cell_type": "markdown",
   "metadata": {},
   "source": [
    "### Assignment \n",
    "\n",
    "Using the cell above as a template, write code in the cell below to calculate the volume of a *sphere* with a given radius, using the formula $$V = \\frac{4}{3} \\pi r^3.$$"
   ]
  },
  {
   "cell_type": "code",
   "execution_count": 3,
   "metadata": {},
   "outputs": [],
   "source": [
    "# Insert your volume-calculation code here"
   ]
  },
  {
   "cell_type": "markdown",
   "metadata": {},
   "source": [
    "# Functions \n",
    "\n",
    "### Introduction \n",
    "\n",
    "In addition to the fundamental operations described above, Python natively incorporates a large number of additional methods or ``functions`` for manipulating variables in various ways. Each ``function`` may take one or more ``arguments`` and typically ``returns`` another value as output. For example, the function ``round()`` takes a ``float`` variable as input and returns the nearest integer. The code \n",
    "\n",
    ">``x = round(PI)``\n",
    "\n",
    "defines the variable ``x`` to have the value ``3``, assuming that the variable ``PI`` has been previously defined as above. \n",
    "\n",
    "Another function that we'll often make use of is the ``print()`` command that prints out a given string to the console. For example, the code\n",
    "\n",
    ">``print(2*3)``\n",
    "\n",
    "will print the string ``6`` to the console output. This function is very useful in displaying the results of our calculations in a user-readable format. \n",
    "\n",
    "### Importing Functions\n",
    "\n",
    "A great many python functions have been defined to serve various purposes, and they can be accessed in a Python program by *importing* the corresponding python *module*. A module is a collection of Python scripts that define various functions and/or variables for reference by other Python programs. For example, many important mathematical operations are contained in the ``math`` module which can be imported by including the statement \n",
    "\n",
    ">``import math``\n",
    "\n",
    "early in the Python program (before any reference to the contents of the module). Later on in the code, the user can access the imported objects by typing statements such as\n",
    "\n",
    ">``x = math.cos(2*PI)``\n",
    "\n",
    "which calls the function ``cos()`` contained in the ``math`` module to calculate the cosine of the angle $2 \\pi$. The variable ``x`` is thus assigned the floating point value ``1.0`` since $\\cos(2\\pi) = 1$.\n",
    "\n",
    "### Defining Functions\n",
    "\n",
    "Despite the large number of functions that already exist, it is often useful to define new functions that accomplish some programming task without having to type the same code over and over again. For example, if we wish to calculate the area of three circles, with radii $2$, $2.5$, and $3$, we *could* write out the operation ``Area = PI*rad**2`` once for each value of the variable ``rad``. Our code would be both more transparent and more efficient to write if we instead define a function that calculates the area of a circle with a given input radius. Thus we could write"
   ]
  },
  {
   "cell_type": "code",
   "execution_count": 4,
   "metadata": {},
   "outputs": [
    {
     "name": "stdout",
     "output_type": "stream",
     "text": [
      "12.5663706\n",
      "19.6349540625\n",
      "28.27433385\n"
     ]
    }
   ],
   "source": [
    "# Calculates the area of a circle of radius rad\n",
    "def calculate_area(rad):\n",
    "    # Define the constant pi (approximately)\n",
    "    PI = 3.14159265\n",
    "    \n",
    "    # Calculate the area\n",
    "    Area = PI*rad**2\n",
    "    \n",
    "    # Return the calculated value\n",
    "    return Area\n",
    "\n",
    "# Print the areas of circles with radii 2, 2.5, and 3\n",
    "print(calculate_area(2))\n",
    "print(calculate_area(2.5))\n",
    "print(calculate_area(3))"
   ]
  },
  {
   "cell_type": "markdown",
   "metadata": {},
   "source": [
    "One of the most important features of Python syntax is the use of *white space* to define the scope of a given operation. In the code above, the key word **``def``** informs the compiler that a function definition is about to be provided. The word that follows is the *name* of the function, while any terms in parentheses (separated by commas if needed) will be understood as *arguments* that the function will need to use to complete its task. A colon \":\" always marks the end of this first line in the function definition. \n",
    "\n",
    "Now note carefully that the lines that *follow* the colon are indented by four white spaces. It is this fixed number of white spaces that tells the compiler that these lines belong to the function definition. If the line ``Area = PI*rad**2`` were **not** indented, for example, the compiler would assume that the function definition had already ended, and a variety of errors would be thrown when the code was executed. If one line were indented by only two spaces, the compiler would throw an ``IndentationError``, indicating that it doesn't know how to interpret the code. \n",
    "\n",
    "The key point here is that **indendentation is critical** in Python programming. The actual number of spaces used to indent a block of code is arbitrary, but it **must** be consistent throughout the block. (That is, we could have used two spaces instead of four, but we could not use two on one line and four on another.) In this course, however, we will **always** use four spaces to indent code blocks. "
   ]
  },
  {
   "cell_type": "markdown",
   "metadata": {},
   "source": [
    "### Assignment\n",
    "\n",
    "Using the code above as a template..."
   ]
  },
  {
   "cell_type": "code",
   "execution_count": 5,
   "metadata": {},
   "outputs": [],
   "source": [
    "# Insert your code here"
   ]
  },
  {
   "cell_type": "markdown",
   "metadata": {},
   "source": [
    "# Iterators: the ``for`` and ``while`` loops\n",
    "\n",
    "Although simple programs like the above can certainly be useful, there are many applications where hard-coding the operations needed to complete a calculation would be tedious if not impossible. For example, suppose we want to calculate $10!$, i.e., the factorial of $10$. We could hard-code the calculation as \n",
    "\n",
    ">``x = 10*9*8*7*6*5*4*3*2*1``\n",
    "\n",
    "but, aside from being tedious to write out, the result is useful only for the particular integer $10$. If we wanted to calculate $8!$, we would have to write a completely separate line of text. And if we wanted to calculate the factorial of some integer provided by the user at run-time, we would be completely out of luck!\n",
    "\n",
    "### The ``for`` loop and ``range()`` function\n",
    "\n",
    "A much more flexible possibility is provided in Python by the ``for`` loop. The basic syntax of the Python ``for`` loop is a line of code of the form\n",
    "\n",
    ">``for <item> in <sequence>:`` \n",
    "\n",
    "followed by a code block that tells the compiler what to do at each iteration. (The notation ``<...>`` indicates that the quantity inside braces is a placeholder that should be replaced with a sensible variable name.) Here ``<sequence>`` is list of possible values for the variable ``<item>``, each of which will be assumed or \"looped over\" in turn when the ``for`` loop is executed. \n",
    "\n",
    "Very often, we'll want to loop through a sequence of consecutive integers; for this purpose, the Python function ``range()`` is very useful. The command ``range(a, b, c)`` returns a sequence of integers that begins with ``a``, has a step size of ``c``, and ends with a number *less than* ``b``. Thus, for example, the code"
   ]
  },
  {
   "cell_type": "code",
   "execution_count": 6,
   "metadata": {},
   "outputs": [
    {
     "name": "stdout",
     "output_type": "stream",
     "text": [
      "0\n",
      "2\n",
      "4\n",
      "6\n",
      "8\n"
     ]
    }
   ],
   "source": [
    "for n in range(0, 10, 2):\n",
    "    print(n)"
   ]
  },
  {
   "cell_type": "markdown",
   "metadata": {},
   "source": [
    "prints the numbers 0, 2, 4, ..., 8. If only two arguments are provided, the step size is assumed to be one. So "
   ]
  },
  {
   "cell_type": "code",
   "execution_count": 7,
   "metadata": {},
   "outputs": [
    {
     "name": "stdout",
     "output_type": "stream",
     "text": [
      "0\n",
      "1\n",
      "2\n",
      "3\n",
      "4\n",
      "5\n",
      "6\n",
      "7\n",
      "8\n",
      "9\n"
     ]
    }
   ],
   "source": [
    "for n in range(0, 10):\n",
    "    print(n)"
   ]
  },
  {
   "cell_type": "markdown",
   "metadata": {},
   "source": [
    "prints the numbers 0, 1, 2, ..., 9. "
   ]
  },
  {
   "cell_type": "markdown",
   "metadata": {},
   "source": [
    "Now, let's return to our example of calculating the factorial of an integer. A simple function to accomplish this purpose is defined as follows:"
   ]
  },
  {
   "cell_type": "code",
   "execution_count": 8,
   "metadata": {},
   "outputs": [],
   "source": [
    "def factorial(N):\n",
    "    # Initialize the value to unity\n",
    "    f = 1\n",
    "    \n",
    "    # Loop through the integers 1 through N\n",
    "    for n in range(1, N+1):\n",
    "        # Multiply f by each integer\n",
    "        f = f*n\n",
    "    return f"
   ]
  },
  {
   "cell_type": "markdown",
   "metadata": {},
   "source": [
    "Thus once this code is executed, we can use it to calculate the value of any integer by simply calling ``factorial(N)``.\n",
    "\n",
    "### The ``while()`` loop and ``bool`` variables\n",
    "\n",
    "The ``for()`` loop is undoubtedly one of the most useful programming tools at the disposal of the computational scientist. In certain circumstances, however, we may not know in advance how many times we'll need to repeat a calculation. For example, in an electronic structure calculation, the programmer cannot know in advance how many iterations will be required to optimize a molecular geometry. \n",
    "\n",
    "In such cases, the ``while()`` loop is just the tool for the job. Instead of looping through a fixed range of values of some particular variable, the ``while()`` loop executes a specific code block until some specified boolean variable evaluates as **``False``**. \n",
    "\n",
    "As a simple example, consider the code below."
   ]
  },
  {
   "cell_type": "code",
   "execution_count": 9,
   "metadata": {},
   "outputs": [
    {
     "name": "stdout",
     "output_type": "stream",
     "text": [
      "Finished after 10 iterations!\n"
     ]
    }
   ],
   "source": [
    "# Set the value of some quantity were interested in\n",
    "N = 0\n",
    "\n",
    "# Note that the value of our observable is less than 10\n",
    "less_than_ten = True\n",
    "\n",
    "# Keep executing the code block so long as less_than_ten remains True\n",
    "while less_than_ten:\n",
    "    \n",
    "    # Increase N by 1\n",
    "    N = N + 1\n",
    "    \n",
    "    # Check if N is still less than 10\n",
    "    less_than_ten = (N<10)\n",
    "    \n",
    "print('Finished after ' + str(N) + ' iterations!')"
   ]
  },
  {
   "cell_type": "markdown",
   "metadata": {},
   "source": [
    "In this example, we defined a variable ``N`` with an initial value of ``0``. We then defined a ``bool`` variable called ``less_than_ten`` with an initial value of **``True``**. The ``while`` loop then repeatedly executes the code inside the indentation block, stopping when the value of ``less_than_ten`` evaluates as **``False``**. \n",
    "\n",
    "Although extremely useful when used wisely, the ``while()`` loop is not to be used recklessly. If in the program above the line ``N = N + 1`` had inadvertently been replaced with ``N = N - 1``, the program would continue to run indefiniatly until \"killed\" by the user! For this reason, considerable care must be used to avoid landing your program in an \"infinite while loop\" at run time. "
   ]
  },
  {
   "cell_type": "markdown",
   "metadata": {},
   "source": [
    "# Program Control: The ``if`` and ``else`` conditionals\n",
    "\n",
    "Very often in the execution of a program it becomes necessary to choose between different operations based either on the results of an earlier calculation or on user-provided input. The most basic tool used in this way to control program flow is the ``if/else`` statement. Like the ``while()`` loop, the ``if`` command takes a boolean variable as an input and decides what to do based on its value. Suppose, for example, that we want to find the smallest integer $N$ whose factorial ($N!$) is greater than 10,000. Using the ``factorial`` function defined above, we can accomplish this as follows:"
   ]
  },
  {
   "cell_type": "code",
   "execution_count": 10,
   "metadata": {},
   "outputs": [
    {
     "name": "stdout",
     "output_type": "stream",
     "text": [
      "The largest integer with N! > 10000 is 8\n"
     ]
    }
   ],
   "source": [
    "for N in range(0, 10000):\n",
    "    fac = factorial(N)\n",
    "    if fac>10000:\n",
    "        print('The largest integer with N! > 10000 is ' + str(N))\n",
    "        break\n",
    "    "
   ]
  },
  {
   "cell_type": "markdown",
   "metadata": {},
   "source": [
    "The code loops through integers ranging from 1 to (potentially) 10,000 and checks the factorial of each value. When an integer is reached for which $N!>$10,000, the argument of the ``if()`` statement evaluates as **``True``**, a message is printed, and the **``break``** command is invoked to \"break out\" of the ``for()`` loop. "
   ]
  }
 ],
 "metadata": {
  "kernelspec": {
   "display_name": "Python 3",
   "language": "python",
   "name": "python3"
  },
  "language_info": {
   "codemirror_mode": {
    "name": "ipython",
    "version": 3
   },
   "file_extension": ".py",
   "mimetype": "text/x-python",
   "name": "python",
   "nbconvert_exporter": "python",
   "pygments_lexer": "ipython3",
   "version": "3.7.3"
  }
 },
 "nbformat": 4,
 "nbformat_minor": 2
}
