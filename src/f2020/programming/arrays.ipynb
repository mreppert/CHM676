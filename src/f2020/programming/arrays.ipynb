{
 "cells": [
  {
   "cell_type": "markdown",
   "metadata": {},
   "source": [
    "# Python Crash Course: Working with Python Arrays\n",
    "\n",
    "In scientific computing, we often have to work with large quantities of data, so that naming individual variables for each data point would be impossibly confusing. For example, when running a molecular dynamics (MD) simulation, we wouldn't want to have to create an entire series of variables `x1`, `x2`, `x3`, ... for a particle position at *every time point* in our simulation! \n",
    "\n",
    "To avoid this problem, we use **arrays**, variables that store multiple values which can be accessed by referencing the appropriate index. In Python programming, there are two primary array-like data types that we'll be concerned with:\n",
    "\n",
    "1. **Python Lists** are a native Python data type and can store *any kind of data*. Python lists can have arbitrary shapes (not necessarily rectangular) and come with a variety of useful indexing features which we'll explore in more detail shortly. \n",
    "\n",
    "2. **NumPy Arrays** are the central feature of the Numerical Python (NumPy) universe and store *only numerical data*. They may be of any *rectangular* shape (more on this shortly), and come with a powerful set of linear algebra and data processing tools that makes them a critical tool for scientific computing. \n",
    "\n",
    "The next two pages will walk you through these two array types in more detail. \n",
    "\n",
    "[Python Lists](lists.ipynb)<br>\n",
    "[NumPy Arrays](numpy.ipynb)\n"
   ]
  },
  {
   "cell_type": "code",
   "execution_count": null,
   "metadata": {},
   "outputs": [],
   "source": []
  }
 ],
 "metadata": {
  "kernelspec": {
   "display_name": "Python 3",
   "language": "python",
   "name": "python3"
  },
  "language_info": {
   "codemirror_mode": {
    "name": "ipython",
    "version": 3
   },
   "file_extension": ".py",
   "mimetype": "text/x-python",
   "name": "python",
   "nbconvert_exporter": "python",
   "pygments_lexer": "ipython3",
   "version": "3.7.7"
  }
 },
 "nbformat": 4,
 "nbformat_minor": 2
}
