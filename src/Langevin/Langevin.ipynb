{
 "cells": [
  {
   "cell_type": "markdown",
   "metadata": {},
   "source": [
    "# Langevin Dynamics #\n",
    "\n",
    "\n",
    "In lecture this week, we introduced the concept of *macroscopic* observables: ensemble averages of microscopic observables over all microstates consistent with a given set of macroscopic constraints. Modeling macroscopic properties numerically can be taxing. In principle, we *could* try to calculate the bulk properties of a glass of water using a macroscopic number ($\\sim10^{23}$) of particles, but in practice real computers can't even store all the necessary data, let alone run the simulation. \n",
    "\n",
    "### MD Thermostats ###\n",
    "\n",
    "To get around this problem, computational chemists have constructed a variety of methods designed to run an MD simulation with a *small* number of particles that behave as though they're interacting with a much larger number of particles. MD *thermostats*, for example, stabilize the average kinetic energy of particles in an MD simulation -- a proxy for the macroscopic temperature. Similarly, *barostats* stabilize the average pressure exerted by the particles running into the simulation box walls. In this exercise, we'll implement a simple thermostat using *Langevin dynamics*, an extension of molecular dynamics in which each particle feels (in addition to forces from other simulation particles) randomly-generated forces that simulate interaction with a large number of \"solvent\" particles whose microscopic coordinates aren't explicitly included in the simulation. \n",
    "\n",
    "### Langevin Dynamics for Solvation ###\n",
    "\n",
    "Langevin dynamics originated in the study of Brownian motion -- the diffusion of mesoscopic particles (like pollen grains) in a solvent. A key assumption in the Langevin treatment is that the solvent particle is much larger than the solute molecules around it. As a result of that difference in scale, a careful theory can be worked out that allows us to explicitly follow the coordinates and momenta of the solute molecule, while treating the solvent molecules implicitly through their influence on the solvent particles. For a single solute particle, the Langevin equation reads\n",
    "\\begin{align}\n",
    "M \\ddot {\\bf r}(t) &= {\\bf F}({\\bf r},t) - \\gamma \\dot {\\bf r} + {\\bf \\xi}(t).\n",
    "\\end{align}\n",
    "In the absence of the last two terms, this would simply be Newton's equation: ${\\bf F} = M {\\bf a}$. Here ${\\bf F}({\\bf r},t)$ is the deterministic force (if any) the particle would feel in the absence of interactions with the solvent. The last two terms represent (in an approximate way) the impact of the solvent on the solute dynamics. The $- \\gamma \\dot {\\bf r}$ is proportional to the particle velocity ${\\bf v} = - \\gamma \\dot {\\bf r}$ and describes the *viscous drag* or friction that the solute particle experiences as a result of constantly running into solvent molecules. The second term, ${\\bf \\xi}(t)$ is a random force that represents the constantly-fluctuating force exerted on the particle by the surrounding solvent: sometimes the particle gets \"kicked\" up, sometimes down, sometimes left, sometimes right, all depending on the microscopic trajectories of the solvent molecules around it. Since we don't want to actually *calculate* all those microscopic solvent trajectories, the force ${\\bf \\xi}(t)$ in our simulation will be a random variable. Because the microscopic configuration of the solvent is assumed to change much more quickly than the position of the solute particle, the random force ${\\bf \\xi}(t)$ is taken to be *delta-correlated*, i.e., the value of the force at different time points $t_1$ and $t_2$ are assumed to be statistically independent of each other. For thermodynamic consistency, it can then be shown that the random force must satisfy the *fluctuation-dissipation relation* \n",
    "\\begin{align}\n",
    "\\left \\langle {\\bf \\xi}(t_2) {\\bf \\xi}(t_1) \\right \\rangle = 2 \\gamma k_B T \\delta(t_2 - t_1)\n",
    "\\end{align}\n",
    "for any two time points $t_1$ and $t_2$. Of course, the assumption of a delta-correlated random force is an approximation. In the real world, there should always be *some* time scale (perhaps very short) over which the solvent forces remain correlated at different time points. For this reason, a key limitation to Langevin dynamics is that we only study dynamics on time scales *much longer* than this solvent correlation time. \n",
    "\n",
    "The numerical implementation of Langevin dynamics is slightly more complicated than plain-vanilla MD (mostly due to the appearance of the delta function in the noise correlation). For this simulation, we'll use an adapted Velocity-Verlet like algorithm published here: *Molecular Physics*, **111**, 983–991 (2013). You aren't responsible for understanding or coding the algorithm -- you'll just have to run the code -- although as usual you're encouraged to have a look anyway. Areas with major changes are marked by comment headings. After looking through the code, modify parameters to answer the questions in the text below it. "
   ]
  },
  {
   "cell_type": "code",
   "execution_count": 1,
   "metadata": {},
   "outputs": [
    {
     "data": {
      "application/javascript": [
       "IPython.notebook.execute_cell_range(IPython.notebook.get_selected_index()+1, IPython.notebook.ncells())"
      ],
      "text/plain": [
       "<IPython.core.display.Javascript object>"
      ]
     },
     "metadata": {},
     "output_type": "display_data"
    },
    {
     "data": {
      "application/javascript": [
       "IPython.notebook.execute_cell_range(IPython.notebook.get_selected_index()+1, IPython.notebook.ncells())"
      ],
      "text/plain": [
       "<IPython.core.display.Javascript object>"
      ]
     },
     "metadata": {},
     "output_type": "display_data"
    },
    {
     "data": {
      "application/javascript": [
       "IPython.notebook.execute_cell_range(IPython.notebook.get_selected_index()+1, IPython.notebook.ncells())"
      ],
      "text/plain": [
       "<IPython.core.display.Javascript object>"
      ]
     },
     "metadata": {},
     "output_type": "display_data"
    },
    {
     "data": {
      "application/javascript": [
       "IPython.notebook.execute_cell_range(IPython.notebook.get_selected_index()+1, IPython.notebook.ncells())"
      ],
      "text/plain": [
       "<IPython.core.display.Javascript object>"
      ]
     },
     "metadata": {},
     "output_type": "display_data"
    },
    {
     "data": {
      "application/javascript": [
       "IPython.notebook.execute_cell_range(IPython.notebook.get_selected_index()+1, IPython.notebook.ncells())"
      ],
      "text/plain": [
       "<IPython.core.display.Javascript object>"
      ]
     },
     "metadata": {},
     "output_type": "display_data"
    },
    {
     "data": {
      "application/javascript": [
       "IPython.notebook.execute_cell_range(IPython.notebook.get_selected_index()+1, IPython.notebook.ncells())"
      ],
      "text/plain": [
       "<IPython.core.display.Javascript object>"
      ]
     },
     "metadata": {},
     "output_type": "display_data"
    },
    {
     "data": {
      "application/javascript": [
       "IPython.notebook.execute_cell_range(IPython.notebook.get_selected_index()+1, IPython.notebook.ncells())"
      ],
      "text/plain": [
       "<IPython.core.display.Javascript object>"
      ]
     },
     "metadata": {},
     "output_type": "display_data"
    },
    {
     "data": {
      "application/javascript": [
       "IPython.notebook.execute_cell_range(IPython.notebook.get_selected_index()+1, IPython.notebook.ncells())"
      ],
      "text/plain": [
       "<IPython.core.display.Javascript object>"
      ]
     },
     "metadata": {},
     "output_type": "display_data"
    },
    {
     "data": {
      "application/javascript": [
       "IPython.notebook.execute_cell_range(IPython.notebook.get_selected_index()+1, IPython.notebook.ncells())"
      ],
      "text/plain": [
       "<IPython.core.display.Javascript object>"
      ]
     },
     "metadata": {},
     "output_type": "display_data"
    },
    {
     "data": {
      "application/javascript": [
       "IPython.notebook.execute_cell_range(IPython.notebook.get_selected_index()+1, IPython.notebook.ncells())"
      ],
      "text/plain": [
       "<IPython.core.display.Javascript object>"
      ]
     },
     "metadata": {},
     "output_type": "display_data"
    },
    {
     "data": {
      "application/javascript": [
       "IPython.notebook.execute_cell_range(IPython.notebook.get_selected_index()+1, IPython.notebook.ncells())"
      ],
      "text/plain": [
       "<IPython.core.display.Javascript object>"
      ]
     },
     "metadata": {},
     "output_type": "display_data"
    },
    {
     "data": {
      "application/javascript": [
       "IPython.notebook.execute_cell_range(IPython.notebook.get_selected_index()+1, IPython.notebook.ncells())"
      ],
      "text/plain": [
       "<IPython.core.display.Javascript object>"
      ]
     },
     "metadata": {},
     "output_type": "display_data"
    },
    {
     "data": {
      "application/javascript": [
       "IPython.notebook.execute_cell_range(IPython.notebook.get_selected_index()+1, IPython.notebook.ncells())"
      ],
      "text/plain": [
       "<IPython.core.display.Javascript object>"
      ]
     },
     "metadata": {},
     "output_type": "display_data"
    },
    {
     "data": {
      "application/javascript": [
       "IPython.notebook.execute_cell_range(IPython.notebook.get_selected_index()+1, IPython.notebook.ncells())"
      ],
      "text/plain": [
       "<IPython.core.display.Javascript object>"
      ]
     },
     "metadata": {},
     "output_type": "display_data"
    },
    {
     "data": {
      "application/javascript": [
       "IPython.notebook.execute_cell_range(IPython.notebook.get_selected_index()+1, IPython.notebook.ncells())"
      ],
      "text/plain": [
       "<IPython.core.display.Javascript object>"
      ]
     },
     "metadata": {},
     "output_type": "display_data"
    },
    {
     "data": {
      "application/javascript": [
       "IPython.notebook.execute_cell_range(IPython.notebook.get_selected_index()+1, IPython.notebook.ncells())"
      ],
      "text/plain": [
       "<IPython.core.display.Javascript object>"
      ]
     },
     "metadata": {},
     "output_type": "display_data"
    },
    {
     "data": {
      "application/vnd.jupyter.widget-view+json": {
       "model_id": "a46068c24f0848ff9749d9442f3e9a3a",
       "version_major": 2,
       "version_minor": 0
      },
      "text/plain": [
       "IntSlider(value=15, continuous_update=False, description='N$_{pos}$', max=50)"
      ]
     },
     "metadata": {},
     "output_type": "display_data"
    },
    {
     "data": {
      "application/vnd.jupyter.widget-view+json": {
       "model_id": "a5f3eb5ceb104ab2b2f25aa45f0271f0",
       "version_major": 2,
       "version_minor": 0
      },
      "text/plain": [
       "IntSlider(value=15, continuous_update=False, description='N$_{neg}$', max=50)"
      ]
     },
     "metadata": {},
     "output_type": "display_data"
    },
    {
     "data": {
      "application/vnd.jupyter.widget-view+json": {
       "model_id": "11a40507010d4385b72d0f4cc1088342",
       "version_major": 2,
       "version_minor": 0
      },
      "text/plain": [
       "FloatSlider(value=3.0, continuous_update=False, description='$t_{max}$ (ps)', max=20.0, readout_format='.0f', …"
      ]
     },
     "metadata": {},
     "output_type": "display_data"
    },
    {
     "data": {
      "application/vnd.jupyter.widget-view+json": {
       "model_id": "30fa6d6bfbe64a1aaf51a4531e38d411",
       "version_major": 2,
       "version_minor": 0
      },
      "text/plain": [
       "FloatSlider(value=0.5, continuous_update=False, description='$t_{pulse}$ (ps)', max=20.0, readout_format='.1f'…"
      ]
     },
     "metadata": {},
     "output_type": "display_data"
    },
    {
     "data": {
      "application/vnd.jupyter.widget-view+json": {
       "model_id": "d04b583820684ab9b9313aad65d4f57a",
       "version_major": 2,
       "version_minor": 0
      },
      "text/plain": [
       "FloatSlider(value=0.0, continuous_update=False, description='$\\\\gamma$ (pg/s):', readout_format='.0f', step=1.…"
      ]
     },
     "metadata": {},
     "output_type": "display_data"
    },
    {
     "data": {
      "application/vnd.jupyter.widget-view+json": {
       "model_id": "6ad6b24248ec4e2b99520f197a5a2541",
       "version_major": 2,
       "version_minor": 0
      },
      "text/plain": [
       "FloatSlider(value=300.0, continuous_update=False, description='T (K):', max=1000.0, readout_format='.0f', step…"
      ]
     },
     "metadata": {},
     "output_type": "display_data"
    },
    {
     "data": {
      "application/vnd.jupyter.widget-view+json": {
       "model_id": "5d055152d1ff4a9db0fcd07896fea168",
       "version_major": 2,
       "version_minor": 0
      },
      "text/plain": [
       "FloatSlider(value=10.0, continuous_update=False, description='$E_{max}\\\\cdot 10^{-4}$ (statV/cm):', readout_fo…"
      ]
     },
     "metadata": {},
     "output_type": "display_data"
    },
    {
     "data": {
      "application/vnd.jupyter.widget-view+json": {
       "model_id": "e9e09d8c4631403fab020ee98824a126",
       "version_major": 2,
       "version_minor": 0
      },
      "text/plain": [
       "Button(description='Go!', style=ButtonStyle())"
      ]
     },
     "metadata": {},
     "output_type": "display_data"
    }
   ],
   "source": [
    "import math\n",
    "%matplotlib inline\n",
    "import matplotlib.pyplot as plt\n",
    "import time\n",
    "import ipywidgets as widgets\n",
    "\n",
    "import numpy as np\n",
    "\n",
    "from IPython.display import Javascript, display\n",
    "from ipywidgets import widgets\n",
    "import IPython.display as ipd\n",
    "\n",
    "\n",
    "\n",
    "def run_all(ev):\n",
    "    display(Javascript('IPython.notebook.execute_cell_range(IPython.notebook.get_selected_index()+1, IPython.notebook.ncells())'))\n",
    "\n",
    "gamma_slider = widgets.FloatSlider(\n",
    "    value=0,\n",
    "    min=0,\n",
    "    max=100,\n",
    "    step=1.0,\n",
    "    description='$\\gamma$ (pg/s):',\n",
    "    disabled=False,\n",
    "    continuous_update=False,\n",
    "    orientation='horizontal',\n",
    "    readout=True,\n",
    "    readout_format='.0f',\n",
    ")\n",
    "    \n",
    "temp_slider = widgets.FloatSlider(\n",
    "    value=300,\n",
    "    min=0,\n",
    "    max=1000,\n",
    "    step=1.0,\n",
    "    description='T (K):',\n",
    "    disabled=False,\n",
    "    continuous_update=False,\n",
    "    orientation='horizontal',\n",
    "    readout=True,\n",
    "    readout_format='.0f',\n",
    ")\n",
    "\n",
    "emax_slider = widgets.FloatSlider(\n",
    "    value=10,\n",
    "    min=0,\n",
    "    max=100,\n",
    "    step=1.0,\n",
    "    description='$E_{max}\\cdot 10^{-4}$ (statV/cm):',\n",
    "    disabled=False,\n",
    "    continuous_update=False,\n",
    "    orientation='horizontal',\n",
    "    readout=True,\n",
    "    readout_format='.0f',\n",
    ")\n",
    "\n",
    "tmax_slider = widgets.FloatSlider(\n",
    "    value=3,\n",
    "    min=0,\n",
    "    max=20,\n",
    "    step=1.0,\n",
    "    description='$t_{max}$ (ps)',\n",
    "    disabled=False,\n",
    "    continuous_update=False,\n",
    "    orientation='horizontal',\n",
    "    readout=True,\n",
    "    readout_format='.0f',\n",
    ")\n",
    "\n",
    "tpulse_slider = widgets.FloatSlider(\n",
    "    value=0.5,\n",
    "    min=0,\n",
    "    max=20,\n",
    "    step=0.5,\n",
    "    description='$t_{pulse}$ (ps)',\n",
    "    disabled=False,\n",
    "    continuous_update=False,\n",
    "    orientation='horizontal',\n",
    "    readout=True,\n",
    "    readout_format='.1f',\n",
    ")\n",
    "\n",
    "\n",
    "npos_slider = widgets.IntSlider(\n",
    "    value=15,\n",
    "    min=0,\n",
    "    max=50,\n",
    "    step=1,\n",
    "    description='N$_{pos}$',\n",
    "    disabled=False,\n",
    "    continuous_update=False,\n",
    "    orientation='horizontal',\n",
    "    readout=True,\n",
    "    readout_format='d',\n",
    ")\n",
    "\n",
    "\n",
    "nneg_slider = widgets.IntSlider(\n",
    "    value=15,\n",
    "    min=0,\n",
    "    max=50,\n",
    "    step=1,\n",
    "    description='N$_{neg}$',\n",
    "    disabled=False,\n",
    "    continuous_update=False,\n",
    "    orientation='horizontal',\n",
    "    readout=True,\n",
    "    readout_format='d',\n",
    ")\n",
    "\n",
    "    \n",
    "button = widgets.Button(description=\"Go!\")\n",
    "button.on_click(run_all)\n",
    "# display(phase_slider)\n",
    "# display(freq_slider)\n",
    "# display(tau_slider)\n",
    "display(npos_slider)\n",
    "display(nneg_slider)\n",
    "display(tmax_slider)\n",
    "display(tpulse_slider)\n",
    "display(gamma_slider)\n",
    "display(temp_slider)\n",
    "display(emax_slider)\n",
    "display(button)"
   ]
  },
  {
   "cell_type": "code",
   "execution_count": 2,
   "metadata": {},
   "outputs": [],
   "source": [
    "gamma = gamma_slider.value*1e-12  # grams/second\n",
    "Temp = temp_slider.value          # K\n",
    "Emax = emax_slider.value*1e+4   # Maximum electric field in statV/cm\n",
    "tmax = tmax_slider.value*1e-12      # Total simulation time in seconds\n",
    "tpulse = tpulse_slider.value*1e-12      # Total simulation time in seconds\n",
    "Npos = npos_slider.value\n",
    "Nneg = nneg_slider.value\n",
    "dt=1e-15     # Time-step in seconds\n",
    "tmax = tmax_slider.value*1e-12\n"
   ]
  },
  {
   "cell_type": "code",
   "execution_count": 3,
   "metadata": {},
   "outputs": [
    {
     "data": {
      "image/png": "[encoded data removed]",
      "text/plain": [
       "<Figure size 432x288 with 3 Axes>"
      ]
     },
     "metadata": {},
     "output_type": "display_data"
    }
   ],
   "source": [
    "def calc_accel(x,y,efield):\n",
    "    Minv = 1/M\n",
    "    \n",
    "    ax = 4*epso*(Ro**4)*Minv/(x**5) - 4*epso*Minv*(Ro**4)/((L-x)**5)\n",
    "    ay = 4*epso*(Ro**4)*Minv/(y**5) - 4*epso*Minv*(Ro**4)/((L-y)**5)\n",
    "\n",
    "    # X differences: Rx[m,n] is the x-displacement between particles m and n\n",
    "    Rx = x - x.transpose()\n",
    "    \n",
    "    # Y differences: Ry[m,n] is the y-displacement between particles m and n\n",
    "    Ry = y - y.transpose()\n",
    "    \n",
    "    # Distance matrix: R[m,n] is distance between particles m and n\n",
    "    R = np.sqrt(np.power(Rx,2) + np.power(Ry,2))\n",
    "    \n",
    "    # Fill the diagonal elements with 1 to avoid divide_by_zero error\n",
    "    np.fill_diagonal(R,1)\n",
    "    \n",
    "    Rinv = (1.0)/R\n",
    "    np.fill_diagonal(Rinv,0)\n",
    "    Rinv3 = Rinv*Rinv*Rinv\n",
    "    Rinv4 = Rinv3*Rinv\n",
    "    Rinv8 = Rinv3*Rinv3*Rinv*Rinv\n",
    "    Rinv14 = Rinv8*Rinv3*Rinv3\n",
    "    Ro6 = Ro**6\n",
    "    \n",
    "    ax += np.reshape(np.sum(QQ*Rx*Minv*Rinv3,1), (Npart,1))\n",
    "    ay += np.reshape(np.sum(QQ*Ry*Minv*Rinv3,1), (Npart,1))\n",
    "        \n",
    "    ax += 12.0*epso*Minv*Ro6*np.reshape(np.sum(Ro6*Rx*Rinv14 - Rx**Rinv8, 1), (Npart,1))\n",
    "    ay += 12.0*epso*Minv*Ro6*np.reshape(np.sum(Ro6*Ry*Rinv14 - Ry**Rinv8, 1), (Npart,1))\n",
    "    \n",
    "    ay += np.reshape(Q*efield*Minv, (Npart,1))\n",
    "    return ax,ay\n",
    "    \n",
    "#############################\n",
    "######## Main Changes #######\n",
    "#############################\n",
    "\n",
    "def vv_step(x,y,vx,vy,ax,ay,efield):\n",
    "    axrand = math.sqrt(2.0*kB*Temp*gamma/dt)*np.random.normal(0,1,(Npart,1))/M\n",
    "    ayrand = math.sqrt(2.0*kB*Temp*gamma/dt)*np.random.normal(0,1,(Npart,1))/M\n",
    "    xnew = np.mod(x + B*dt*vx + 0.5*B*dt*dt*(ax + axrand), L)\n",
    "    ynew = np.mod(y + B*dt*vy + 0.5*B*dt*dt*(ay + ayrand), L)\n",
    "    axnew,aynew = calc_accel(xnew,ynew,efield)\n",
    "    vxnew = A*vx + 0.5*dt*(A*ax + axnew + 2.0*B*axrand)\n",
    "    vynew = A*vy + 0.5*dt*(A*ay + aynew + 2.0*B*ayrand)\n",
    "    return xnew,ynew,vxnew,vynew,axnew,aynew\n",
    "\n",
    "##############################\n",
    "##############################\n",
    "\n",
    "def init_plot():\n",
    "    \n",
    "    fig = plt.figure(1)\n",
    "    ax1 = plt.clf()\n",
    "    txt = plt.text(0.1*L,0.1*L,'t = '+str(round(0))+' fs')\n",
    "    negLine, = plt.plot(X[0:Npos],Y[0:Npos],'bo')\n",
    "    posLine, = plt.plot(X[Npos:],Y[Npos:],'ro')\n",
    "    plt.xlim([0,L])\n",
    "    plt.ylim([0,L])\n",
    "    plt.xticks([]) \n",
    "    plt.yticks([]) \n",
    "    \n",
    "    ax2 = plt.axes([1.0,0.575,0.3,0.3])\n",
    "    plt.xlabel('$t$')\n",
    "    plt.ylabel('$E(t)$')\n",
    "    field_line, = plt.plot(taxis,Efield)\n",
    "    plt.xticks([])\n",
    "    plt.yticks([])\n",
    "    plt.ylim([-1,1])\n",
    "    plt.ylim([0,dt*Nsteps])\n",
    "    \n",
    "    ax3 = plt.axes([1.0,0.175,0.3,0.3])\n",
    "    plt.xlabel('$t$')\n",
    "    plt.ylabel('$P(t)$')\n",
    "    pol_line, = plt.plot(taxis,Efield)\n",
    "    plt.xticks([])\n",
    "    plt.yticks([])\n",
    "    plt.ylim([-1,1])\n",
    "    plt.ylim([0,dt*Nsteps])\n",
    "    \n",
    "    return fig,ax1,ax2,ax3,negLine,posLine,txt,field_line,pol_line\n",
    "\n",
    "def update_plot(n):\n",
    "    negPts.set_ydata(Y[0:Npos])\n",
    "    negPts.set_xdata(X[0:Npos])\n",
    "    posPts.set_ydata(Y[Npos:])\n",
    "    posPts.set_xdata(X[Npos:])\n",
    "    txt.set_text('t = '+str(round(n*dt*1e+15))+' fs')\n",
    "    \n",
    "    plt.sca(ax2)\n",
    "    #plt.plot(taxis[0:n]/Emax, 'k.')\n",
    "    field_line.set_xdata(taxis[0:n])\n",
    "    field_line.set_ydata(Efield[0:n]/Emax)\n",
    "    plt.ylim([-1,1])\n",
    "    #plt.xlim([0,dt*Nsteps])\n",
    "    \n",
    "    plt.sca(ax3)\n",
    "    #plt.plot(taxis[0:n]/Emax, 'k.')\n",
    "    pol_line.set_xdata(taxis[0:n])\n",
    "    pol_line.set_ydata(Pol[0:n])\n",
    "    plt.ylim([-1,1])\n",
    "    #plt.xlim([0,dt*Nsteps])\n",
    "    \n",
    "    fig.canvas.draw()\n",
    "    display(plt.gcf())\n",
    "    ipd.clear_output(wait=True)\n",
    "    \n",
    "def gauss_pulse(t):\n",
    "    return Emax*np.cos(2.0*math.pi*(t-to)*nu)*np.exp(-((t-to)**2)/(2.0*sigma*sigma))\n",
    "\n",
    "epso = 190.0*(1.38064852e-23)*(1e+3)*(1e+4)\n",
    "Ro = 5.0e-8\n",
    "\n",
    "L = 2e-6\n",
    "to = tpulse\n",
    "sigma = 100e-15\n",
    "nu = 2e+12\n",
    "\n",
    "\n",
    "Nsteps=int(round(tmax/dt))\n",
    "M=4*(1.66054e-24)   # Mass in g\n",
    "Qo = 4.803e-10         # Elementary charge in statCoulombs\n",
    "taxis = np.arange(0,tmax,dt)   # Time axis (array of time steps)\n",
    "\n",
    "\n",
    "#####################################################\n",
    "######### Constants for Langevin integrator #########\n",
    "#####################################################\n",
    "\n",
    "kB = 1.38064852e-16                  # erg/K\n",
    "B = 1.0/(1.0 + 0.5*gamma*dt/M)\n",
    "A = B*(1.0 - 0.5*gamma*dt/M)\n",
    "\n",
    "#####################################################\n",
    "#####################################################\n",
    "\n",
    "# Set Particle charges\n",
    "Npart = Npos+Nneg\n",
    "Q = np.zeros((Npart))  # Empty vector for particle charges\n",
    "Q[0:Npos] = +Qo    # First Npos particles are positive\n",
    "Q[Npos:] = -Qo     # Last Nneg particles are negative\n",
    "\n",
    "# QQ is an (Npart)x(Npart) matrix where QQ[m,n] is the \n",
    "# *product* of the charges on particles m and n\n",
    "QQ = np.reshape(Q, (Npart,1))@np.reshape(Q, (1,Npart))\n",
    "\n",
    "# Set initial velocities to zero \n",
    "VX = np.zeros((Npart,1))\n",
    "VY = np.zeros((Npart,1))\n",
    "\n",
    "# Generate the pulse profile\n",
    "Efield = gauss_pulse(taxis)\n",
    "\n",
    "AX = 1e+50\n",
    "AY = 1e+50\n",
    "while max(np.max(np.abs(AX)), np.max(np.abs(AY)))>5.0e+20:\n",
    "    \n",
    "    # Generate a vector of random particle positions\n",
    "    X = np.random.random((Npart,1))*L\n",
    "    Y = np.random.random((Npart,1))*L\n",
    "#     X = 0.1*L + np.random.random((Npart,1))*0.8*L\n",
    "#     Y = 0.1*L + np.random.random((Npart,1))*0.8*L\n",
    "\n",
    "    # Calculate accelerations at initial positions\n",
    "    AX,AY = calc_accel(X,Y,Efield[0])\n",
    "    \n",
    "#     print(max(np.max(np.abs(AX)), np.max(np.abs(AY))))\n",
    "Pol = np.zeros(np.shape(Efield))\n",
    "fig,ax1,ax2,ax3,negPts,posPts,txt,field_line,pol_line = init_plot()\n",
    "for n in range(0,Nsteps):\n",
    "    X,Y,VX,VY,AX,AY = vv_step(X,Y,VX,VY,AX,AY,Efield[n])\n",
    "    Pol[n] = 4*np.mean(Q*np.reshape(Y-0.5*L,(Npart,)))/(Qo*L)\n",
    "    if(n%50==0):\n",
    "        update_plot(n)\n"
   ]
  },
  {
   "cell_type": "markdown",
   "metadata": {},
   "source": [
    "#### The Friction Coefficient\n",
    "\n",
    "The friction coefficient $\\gamma$ has units of grams/second. The ratio $M/\\gamma$ has units of $s$ and defines the *relaxation time* over which the viscosity of the solvent alters the particle motion. Without changing any other parameters, run simulations with \n",
    "* $t_{\\text{max}} = 3$ ps and with \n",
    "* both $\\gamma = 0$ and $\\gamma = $10 pg/s. \n",
    "\n",
    "The first case corresponds to a regular MD simulation since setting $\\gamma = 0$ eliminates interactions with the solvent. The second case (with our particle mass of 4 AMU) corresponds to a relaxation time of roughly $\\frac{M}{\\gamma} \\approx \\frac{10^{-23} g}{10^{-11} g/s} = 10^{-12} s$ or 1 ps. What are the main differences you notice between the two simulations? \n",
    "\n",
    "#### Thermalization\n",
    "Run a simulation with \n",
    "* $t_{\\text{max}} = 10$ ps\n",
    "* 50 positive particles\n",
    "* 50 negative particles\n",
    "* $\\gamma = 100$ pg/s, and \n",
    "* *without* an electric field (i.e., with $E_{max} = 0$). \n",
    "\n",
    "What do you notice happening to the particles as the simulation progresses? Why does this happen with the Langevin thermostat and not with plain-vanilla MD? \n",
    "\n",
    "Now repeat the simulation with a temperature of 10,000 K. Does the behavior change? Why? \n",
    "\n",
    "#### Polarization and Viscosity\n",
    "\n",
    "No run a simulation with the same parameters, changing only\n",
    "* the temperature back to 300 K, and\n",
    "* setting $E_{max}$ to 50e+4 statV/cm.\n",
    "\n",
    "Vary the friction coefficient $\\gamma$, which determines the \"viscocity\" of the solvent in our simulation between 20 and 100 pg/s. How is the polarization time trace affected? \n"
   ]
  },
  {
   "cell_type": "code",
   "execution_count": null,
   "metadata": {},
   "outputs": [],
   "source": []
  }
 ],
 "metadata": {
  "kernelspec": {
   "display_name": "Python 3",
   "language": "python",
   "name": "python3"
  },
  "language_info": {
   "codemirror_mode": {
    "name": "ipython",
    "version": 3
   },
   "file_extension": ".py",
   "mimetype": "text/x-python",
   "name": "python",
   "nbconvert_exporter": "python",
   "pygments_lexer": "ipython3",
   "version": "3.7.7"
  }
 },
 "nbformat": 4,
 "nbformat_minor": 2
}
