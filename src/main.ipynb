{
 "cells": [
  {
   "cell_type": "code",
   "execution_count": 1,
   "metadata": {},
   "outputs": [
    {
     "data": {
      "application/javascript": [
       "IPython.OutputArea.auto_scroll_threshold = 9999\n"
      ],
      "text/plain": [
       "<IPython.core.display.Javascript object>"
      ]
     },
     "metadata": {},
     "output_type": "display_data"
    }
   ],
   "source": [
    "%%javascript\n",
    "IPython.OutputArea.auto_scroll_threshold = 9999"
   ]
  },
  {
   "cell_type": "markdown",
   "metadata": {},
   "source": [
    "# CHM 676: Molecular Spectroscopy\n",
    "\n",
    "Welcome to Molecular Spectroscopy!\n",
    "\n",
    "The schedule below will be updated regularly with links to online materials for each lecture. Dark blue text indicates a Jupyter Notebook-based programming/simulation module, while light-blue headings link to PDF-format lecture notes. Underlining indicates that the link is active and ready for use. \n"
   ]
  },
  {
   "cell_type": "code",
   "execution_count": 42,
   "metadata": {},
   "outputs": [
    {
     "data": {
      "text/markdown": [
       "\r",
       "## Module 1 \r",
       "#### Week 1\r",
       " * Aug 24: <a href=\"./programming/definitions.ipynb\"> <span style=\"color:DarkBlue;text-decoration:underline\">Python Crash Course: Introduction</span></a> \r",
       "\r",
       " * Aug 26: <a href=\"./programming/arrays.ipynb\"> <span style=\"color:DarkBlue;text-decoration:underline\">Python Crash Course: Python Arrays</span></a> \r",
       "\r",
       " * Aug 28: <a href=\"./programming/md.ipynb\"> <span style=\"color:DarkBlue;text-decoration:underline\">Python Crash Course: Molecular Dynamics</span></a> \r",
       "\r",
       "#### Week 2\r",
       " * Aug 31: <a href=\"https://mreppert.github.io/education/chm676/notes/MaxwellsEquations.pdf\"> <span style=\"color:#3090C7;text-decoration:underline\">Maxwell's equations and the Lorentz Force Law</span></a> \r",
       "\r",
       " * Sep 2: <a href=\"https://mreppert.github.io/education/chm676/notes/VacuumWaves.pdf\"> <span style=\"color:#3090C7;text-decoration:underline\">Electromagnetic Waves in Vacuum</span></a> \r",
       "\r",
       " * Sep 4: <span style=\"color:DarkBlue\">Fourier Transforms</span> \r",
       "\r",
       "#### Week 3\r",
       " * Sep 7: <span style=\"color:#3090C7\">Energy Content in EM Waves</span> \r",
       "\r",
       " * Sep 9: <span style=\"color:#3090C7\">Microscopic Electrodynamics: The Wave Equation</span> \r",
       "\r",
       " * Sep 11: <span style=\"color:#3090C7\">MD in an Electric Field</span> \r",
       "\r",
       "#### Week 4\r",
       " * Sep 14: <span style=\"color:#3090C7\">Ensemble-Averaged Fields</span> \r",
       "\r",
       " * Sep 16: <span style=\"color:#3090C7\">Langevin Dynamics</span> \r",
       "\r",
       " * Sep 18: <span style=\"color:#3090C7\">Material Polarization</span> \r",
       "\r",
       "#### Week 5\r",
       " * Sep 21: <span style=\"color:#3090C7\">Review</span> \r",
       "\r",
       " * Sep 23: <span style=\"color:#3090C7\">Review</span> \r",
       "\r",
       " * Sep 25: <span style=\"color:#3090C7\">Exam</span> \r",
       "\r",
       "\r",
       "## Module 2 \r",
       "#### Week 6\r",
       " * Sep 28: <span style=\"color:#3090C7\">Response Theory</span> \r",
       "\r",
       " * Sep 30: <span style=\"color:#3090C7\">Linear Response: Absorption Spectroscopy</span> \r",
       "\r",
       " * Oct 2: <span style=\"color:#3090C7\">IR Absorption Spectroscopy</span> \r",
       "\r",
       "#### Week 7\r",
       " * Oct 5: <span style=\"color:#3090C7\">$n$-Wave Mixing</span> \r",
       "\r",
       " * Oct 7: <span style=\"color:#3090C7\">Nonlinear Spectroscopy</span> \r",
       "\r",
       " * Oct 9: <span style=\"color:#3090C7\">Morse Oscillator</span> \r",
       "\r",
       "#### Week 8\r",
       " * Oct 12: <span style=\"color:#3090C7\">Homogeneous vs. Inhomogenous Broadening</span> \r",
       "\r",
       " * Oct 14: <span style=\"color:#3090C7\">Hole Burning Spectroscopy</span> \r",
       "\r",
       " * Oct 16: <span style=\"color:#3090C7\">Motional Narrowing</span> \r",
       "\r",
       "#### Week 9\r",
       " * Oct 19: <span style=\"color:#3090C7\">Pump-Probe Spectroscopy</span> \r",
       "\r",
       " * Oct 21: <span style=\"color:#3090C7\">2D Spectroscopy</span> \r",
       "\r",
       " * Oct 23: <span style=\"color:#3090C7\">Morse Oscillator Nonlinear Spectroscopy</span> \r",
       "\r",
       "#### Week 10\r",
       " * Oct 26: <span style=\"color:#3090C7\">Review</span> \r",
       "\r",
       " * Oct 28: <span style=\"color:#3090C7\">Review</span> \r",
       "\r",
       " * Oct 30: <span style=\"color:#3090C7\">Exam</span> \r",
       "\r",
       "\r",
       "## Module 3 \r",
       "#### Week 11\r",
       " * Nov 2: <span style=\"color:#3090C7\">Intro to Quantum Mechanics</span> \r",
       "\r",
       " * Nov 4: <span style=\"color:#3090C7\">Quantum Statistical Dynamics</span> \r",
       "\r",
       " * Nov 6: <span style=\"color:#3090C7\">Matrix Computations</span> \r",
       "\r",
       "#### Week 12\r",
       " * Nov 9: <span style=\"color:#3090C7\">The Harmonic Oscillator</span> \r",
       "\r",
       " * Nov 11: <span style=\"color:#3090C7\">Molecular Excitons</span> \r",
       "\r",
       " * Nov 13: <span style=\"color:#3090C7\">Amide I Spectroscopy: Harmonic Excitons</span> \r",
       "\r",
       "#### Week 13\r",
       " * Nov 16: <span style=\"color:#3090C7\">Pure Dephasing Models</span> \r",
       "\r",
       " * Nov 18: <span style=\"color:#3090C7\">Dissipation: Redfield and Forster Regimes</span> \r",
       "\r",
       " * Nov 20: <span style=\"color:#3090C7\">Energy Transfer in Photosynthesis</span> \r",
       "\r",
       "#### Week 14\r",
       " * Nov 23: <span style=\"color:#3090C7\">Kubo Expansion I</span> \r",
       "\r",
       " * Nov 25: <span style=\"color:Purple\">Thanksgiving</span> \r",
       "\r",
       " * Nov 27: <span style=\"color:Purple\">Thanksgiving</span> \r",
       "\r",
       "#### Week 15\r",
       " * Nov 30: <span style=\"color:#3090C7\">Kubo Expansion II</span> \r",
       "\r",
       " * Dec 2: <span style=\"color:#3090C7\">Arrow-Ladder Diagrams</span> \r",
       "\r",
       " * Dec 4: <span style=\"color:#3090C7\">Diagrammatic 2D Spectroscopy</span> \r",
       "\r",
       "#### Week 16\r",
       " * Dec 7: <span style=\"color:Purple\">Finals</span> \r",
       "\r",
       " * Dec 9: <span style=\"color:Purple\">Finals</span> \r",
       "\r",
       " * Dec 11: <span style=\"color:Purple\">Finals</span> \r",
       "\r",
       "#### Week 17\r",
       " * Dec 14: <span style=\"color:#3090C7\">Freedom!</span> \r",
       "\r"
      ]
     },
     "metadata": {},
     "output_type": "display_data"
    }
   ],
   "source": [
    "from IPython.display import display_markdown\n",
    "from datetime import date\n",
    "import datetime\n",
    "import time\n",
    "import sys, os\n",
    "\n",
    "import schedule\n",
    "\n",
    "\n",
    "import importlib\n",
    "importlib.reload(schedule)\n",
    "\n",
    "#schd = schedule.build_schedule_f2020('git/CHM676/src/')\n",
    "schd = schedule.build_schedule_f2020('./')\n",
    "schd.print_events()"
   ]
  },
  {
   "cell_type": "code",
   "execution_count": null,
   "metadata": {},
   "outputs": [],
   "source": []
  }
 ],
 "metadata": {
  "kernelspec": {
   "display_name": "Python 3",
   "language": "python",
   "name": "python3"
  },
  "language_info": {
   "codemirror_mode": {
    "name": "ipython",
    "version": 3
   },
   "file_extension": ".py",
   "mimetype": "text/x-python",
   "name": "python",
   "nbconvert_exporter": "python",
   "pygments_lexer": "ipython3",
   "version": "3.7.7"
  }
 },
 "nbformat": 4,
 "nbformat_minor": 2
}
