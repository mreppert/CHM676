{
 "cells": [
  {
   "cell_type": "markdown",
   "metadata": {},
   "source": [
    "# Python Crash Course: Molecular Dynamics\n",
    "\n",
    "### A Simple MD Simulation\n",
    "One of the primary computational methods we'll use in this course is *molecular dynamics* -- an iterative procedure in which classical systems are propagated through time according to Newton's equations. We'll discuss these methods in more detail shortly, but for now we'll adopt a _really_ simple version just to get a hands-on feel for Python coding. Specifically, we'll look at a single, hard-sphere particle moving in a squre (two-dimensional) box with hard walls. Each time the ball hits the wall, it simply bounces off, changing the direction of either its $x$ or $y$ velocity. \n",
    "\n",
    "First, we'll define some basic parameters for our simulation. To do this, click on the grey box below and press <Ctrl+Enter> on your keyboard or click the \"play\" icon above.  "
   ]
  },
  {
   "cell_type": "code",
   "execution_count": 49,
   "metadata": {},
   "outputs": [
    {
     "name": "stdout",
     "output_type": "stream",
     "text": [
      "\n",
      "\n",
      "Successfully defined simulation parameters.\n"
     ]
    }
   ],
   "source": [
    "import math\n",
    "tmax=0.01       # Total simulation time in seconds\n",
    "dt=0.00005     # Time-step in seconds\n",
    "M=4            # Mass in AMU (1 AMU = 1.66054e-27 kg)\n",
    "L=1            # Box length in meters\n",
    "V=790          # Velocity (magnitude) in m/s\n",
    "\n",
    "print(\"\\n\\nSuccessfully defined simulation parameters.\")"
   ]
  },
  {
   "cell_type": "markdown",
   "metadata": {},
   "source": [
    "This particular cell defines five parameters: tmax, dt, M, V, and L. The text separated to the right by hash signs is commentary, explaining what each parameter represents physically. Our parameters are chosen to be typical for a single He atom at room temperature. The \"import\" command in the first line gives us access to the \"math\" library. \n",
    "\n",
    "Next, we'll need to initialize our system -- specify the particular values of position and momentum we want the particle to start with. "
   ]
  },
  {
   "cell_type": "code",
   "execution_count": 50,
   "metadata": {},
   "outputs": [
    {
     "name": "stdout",
     "output_type": "stream",
     "text": [
      "Successfully initialized particle velocity and position\n"
     ]
    }
   ],
   "source": [
    "x=0                                   # initial x-coordinate (meters)\n",
    "y=0                                   # initial y-coordinate (meters)\n",
    "vx = 1                                # initial x-component of velocity (arbitrary units)\n",
    "vy = 2                                # initial y-component of velocity (arbitrary units)\n",
    "NormFac = math.sqrt(vx*vx + vy*vy)    # This square-root command is why we needed to import the math module\n",
    "vx = V*vx/NormFac                     # Normalize so that total velocity is V\n",
    "vy = V*vy/NormFac    \n",
    "\n",
    "print(\"Successfully initialized particle velocity and position\")"
   ]
  },
  {
   "cell_type": "markdown",
   "metadata": {},
   "source": [
    "And, finally, we're ready to run the simulation. We calculate the number of steps (Nsteps) of stepsize dt needed to reach tmax. We then step through each time-value iteratively, updating the position of the particle each time. "
   ]
  },
  {
   "cell_type": "code",
   "execution_count": 51,
   "metadata": {},
   "outputs": [
    {
     "name": "stdout",
     "output_type": "stream",
     "text": [
      "Final coordinates: ( 0.4946182366229537 , 0.9185767251569139 )\n"
     ]
    }
   ],
   "source": [
    "Nsteps=int(round(tmax/dt))          # Total number of simulation time steps\n",
    "for n in range(0,Nsteps):      # Iterate n=1,2,3,....\n",
    "    x = x + dt*vx              # x-coordinate increases by dt*vx\n",
    "    y = y + dt*vy              # y-coordinate increases by dt*vy\n",
    "    if(x>L or x<0):            # If the particle hits a wall, switch the velocity!\n",
    "        vx=-vx\n",
    "    if(y>L or y<0):            # If the particle hits a wall, switch the velocity!\n",
    "        vy=-vy\n",
    "        \n",
    "print(\"Final coordinates: (\", x, \",\", y, \")\")    # Print (x,y) coordinates for final step"
   ]
  },
  {
   "cell_type": "markdown",
   "metadata": {},
   "source": [
    "That's it! We've run our first MD simulation! The pair of numbers on the line just above indicates the (x,y) coordinates of the particle after the final step. \n",
    "\n",
    "Not very exciting, was it? Let's make things more interesting by learning how to display the simulation in real-time as it progresses -- a \"molecular movie\". \n",
    "\n",
    "\n",
    "### Plotting Data Using Matplotlib\n",
    "\n",
    "Plotting in Jupyter Notebooks is accomplished using the Matplotlib library, a set of python commands that mimics (for the most part) the Matlab plotting style. Since Matplotlib isn't available by default, we have to import it. In the code snippet below, for example, we import matplotlib.pyplot as \"plt\". This means all matplotlib commands (such as `plot()`, `xlim`, and `xylim`) must be preceded by `plt`. \n",
    "\n",
    "In addition to importing the matplotlib library, we also import the *display* library. The display library gives us the tools needed to update our matplotlib figure *at each time point* in our simulation. Without this option, our plot would update only once, at the end of the simulation. "
   ]
  },
  {
   "cell_type": "code",
   "execution_count": 52,
   "metadata": {},
   "outputs": [],
   "source": [
    "%matplotlib inline\n",
    "import matplotlib.pyplot as plt\n",
    "from IPython import display"
   ]
  },
  {
   "cell_type": "markdown",
   "metadata": {},
   "source": [
    "With these tools, plotting our MD simulation on the fly is easy, although the syntax takes some getting used to. Let's outline in plain text what we're about to do in the code: \n",
    "\n",
    "1. First, before the simulation starts, we create a plot showing a single dot for our particle at its starting coordinates of (x,y) = (0,0). This is accomplished using the command ``graph_handle, = plt.plot(x, y, 'ko')``. When you review the code, note these syntax elements:\n",
    "\n",
    " * The flag `'ko'` passed to the `plt.plot()` function specifies that we want our particle to be represented by a black (`'k'`) dot (`'o'`) symbol. Check the [Markers](https://matplotlib.org/3.2.1/api/markers_api.html) or [colors](https://het.as.utexas.edu/HET/Software/Matplotlib/api/colors_api.html) documentation for other options. (A more extensive color list can be found [here](https://matplotlib.org/3.3.1/gallery/color/named_colors.html).)\n",
    " \n",
    " * The object `graph_handle` returned by this function is a Matplotlib \"lines\" object that contains information about the data point that we just plotted. During our simulation, we'll update the x- and y-coordinate data associated with this object on the fly, producing a dynamic trajectory. The extra comma on the left-hand-side of the equality (`graph_handle, =`) tells Python that we want only the first object returned by `plt.plot()`. By default it returns a list of multiple objects, of which our `graph_handle` is just one. \n",
    " \n",
    "2. Second (still before the simulation starts) we create a text label that will display the current time step in our simulation using the `plt.text()` command. The first two arguments passed to this function are the x and y coordinates of the text box, while the third is the string that is to be displayed (our current time value). \n",
    " * Again we store the \"handle\" returned by Matplotlib as a variable `text_handle` so that we can update the displayed string later. \n",
    " * The string specifying the displayed time may look a little complex: `'t = '+'{:.1f}'.format(n*dt*1000)+' ms'`. Recall that the `+` signs simply append strings to each other. So the `'t = ' +` and `+ ms'` portions of the code just mean that our string will have the form 't = \\[something inserted here\\] ms'. The \"something\" that gets inserted is `'{:.1f}'.format(n*dt*1000)`. The first portion here (`'{:.1f}'`) is a special string-formatting syntax that says that we'll be providing a float (`f`) for display as a string and we want only one decimal point (`:.1`) to be displayed on the screen. The second portion (`format(n*dt*1000)`) tells Python what specific float it is that we want formatted: the current time in ms. (Because `dt` is our time-step in seconds, and `n` is the number of time steps taken, `n*dt*1000` is the current time in ms.)\n",
    " \n",
    "3. Finally, before proceeding to the actual simulation, we update the x- and y-limits of our plot to cover the simulation box bounded by `x = 0` to the left, `x = L` to the right, `y = 0` on the bottom, and `y = L` on the top. This is accomplished using the (largely self-explanatory) commands `plt.xlim()` and `plt.ylim()`. \n",
    "\n",
    "4. With this setup completed, we proceed through the simulation. The actual simulation code here is the same as we've already seen, so we won't comment on it in detail. The updates that allow us to visualize the simulation on-the-fly are:\n",
    " * `graph_handle.set_xdata()` and `graph_handle.set_ydata()` update the coordinates of our data point in the graph. \n",
    " * `text_handle.set_text()` updates the displayed current simulation time. \n",
    " * `display.display(plt.gcf())` tells Python that we wish to update the display **now** in real-time as the simulation progresses, rather than waiting for the end of the simulation. \n",
    " * `display.clear_output(wait=True)` tells Python to keep using the same plot box when we update the display, rather than creating a new plot at each time step. "
   ]
  },
  {
   "cell_type": "code",
   "execution_count": 66,
   "metadata": {},
   "outputs": [
    {
     "data": {
      "image/png": "[encoded data removed]",
      "text/plain": [
       "<Figure size 432x288 with 1 Axes>"
      ]
     },
     "metadata": {
      "needs_background": "light"
     },
     "output_type": "display_data"
    }
   ],
   "source": [
    "graph_handle, = plt.plot(x, y, 'ko')\n",
    "text_handle = plt.text(0.1*L,0.1*L,'t = '+'{:.1f}'.format(n*dt*1000)+' ms')\n",
    "plt.xlim([0,L])\n",
    "plt.ylim([0,L])\n",
    "\n",
    "Nsteps=int(round(tmax/dt))     \n",
    "for n in range(0,Nsteps):      \n",
    "    x = x + dt*vx              \n",
    "    y = y + dt*vy              \n",
    "    if(x>L or x<0):            \n",
    "        vx=-vx\n",
    "    if(y>L or y<0):            \n",
    "        vy=-vy\n",
    "    \n",
    "    graph_handle.set_xdata(x)\n",
    "    graph_handle.set_ydata(y)\n",
    "    text_handle.set_text('t = '+'{:.1f}'.format(n*dt*1000)+' ms')\n",
    "    display.display(plt.gcf())\n",
    "    display.clear_output(wait=True)\n",
    "    "
   ]
  },
  {
   "cell_type": "markdown",
   "metadata": {},
   "source": [
    "# Exercise 1\n",
    "\n",
    "For homework this week, create a **new** Jupyter Notebook and rewrite the code above so that:\n",
    "\n",
    "1. The MD simulation can be run with an arbitrary (within reason) number of non-interacting particles with random initial coordinates and velocities. Specify the number of particles with a variable `Npart` at the start of your code. \n",
    "\n",
    "2. The x- and y-coordinate trajectories of the **first** particle are stored as NumPy arrays and plotted using a single `plt.plot()` command at the **end** of the simulation. Note:\n",
    "* The x and y coordinates should appear as separate lines in the same plot, with time on the horizontal axis. \n",
    "* Use different line colors for x and y, and use the `plt.legend()` command to label them. \n",
    "* Be sure to label both vertical and horizontal axes with the correct units! (Use the `plt.xlabel()` and `plt.ylabel()` commands.)"
   ]
  },
  {
   "cell_type": "code",
   "execution_count": null,
   "metadata": {},
   "outputs": [],
   "source": []
  }
 ],
 "metadata": {
  "kernelspec": {
   "display_name": "Python 3.8",
   "language": "python",
   "name": "python3"
  },
  "language_info": {
   "codemirror_mode": {
    "name": "ipython",
    "version": 3
   },
   "file_extension": ".py",
   "mimetype": "text/x-python",
   "name": "python",
   "nbconvert_exporter": "python",
   "pygments_lexer": "ipython3",
   "version": "3.8.10"
  },
  "toc": {
   "base_numbering": 1,
   "nav_menu": {},
   "number_sections": true,
   "sideBar": true,
   "skip_h1_title": false,
   "title_cell": "Table of Contents",
   "title_sidebar": "Contents",
   "toc_cell": false,
   "toc_position": {},
   "toc_section_display": true,
   "toc_window_display": false
  },
  "varInspector": {
   "cols": {
    "lenName": 16,
    "lenType": 16,
    "lenVar": 40
   },
   "kernels_config": {
    "python": {
     "delete_cmd_postfix": "",
     "delete_cmd_prefix": "del ",
     "library": "var_list.py",
     "varRefreshCmd": "print(var_dic_list())"
    },
    "r": {
     "delete_cmd_postfix": ") ",
     "delete_cmd_prefix": "rm(",
     "library": "var_list.r",
     "varRefreshCmd": "cat(var_dic_list()) "
    }
   },
   "types_to_exclude": [
    "module",
    "function",
    "builtin_function_or_method",
    "instance",
    "_Feature"
   ],
   "window_display": false
  }
 },
 "nbformat": 4,
 "nbformat_minor": 2
}
