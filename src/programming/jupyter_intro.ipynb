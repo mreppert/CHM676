{
 "cells": [
  {
   "cell_type": "code",
   "execution_count": 2,
   "metadata": {},
   "outputs": [],
   "source": [
    "from IPython.display import Image"
   ]
  },
  {
   "cell_type": "markdown",
   "metadata": {},
   "source": [
    "# Jupyter Notebooks\n",
    "\n",
    "Jupyter Notebooks are graphical interfaces for writing, running, and visualizing output from computer code in a variety of languages, including Python and Markdown. All programming projects (and almost all homework assignments) for this course will use the Jupyter Notebook interface. This document provides a quick-start guide to using Jupyter Notebooks. \n",
    "\n",
    "## Entering/Exiting Appmode\n",
    "\n",
    "A special feature included in nanoHUB-hosted Jupyter Notebooks is the ability to view the output in \"Appmode\" -- a setting that (when turned on) hides all programming text in the notebook, executes the code, and simply displays the result. \n",
    "\n",
    "Appmode is very useful for viewing code that has a pre-defined output, but it's not helpful if you want to interact with a notebook or see the source code for a simulation. To turn it off, click on the \"Edit App\" button at the far right of the notebook control panel. To turn it back on, click again on the \"Appmode\" button. Try it right now!\n"
   ]
  },
  {
   "cell_type": "code",
   "execution_count": 13,
   "metadata": {},
   "outputs": [],
   "source": [
    "# This is a code cell "
   ]
  },
  {
   "cell_type": "markdown",
   "metadata": {},
   "source": [
    "When you exit Appmode, you should see a \"cell\" appear just above this line with an ``In [ ]:`` icon to the left and the text \"*# This is a code cell*\" inside. If you click inside, you can type whatever you want. Cells like this are the basic coding unit of a Jupyter notebook. In just a moment, we'll explore what sort of entries can be added to Notebook cells. But first let's cover how to create and save new Notebook files. \n",
    "\n",
    "\n",
    "\n",
    "## Creating and Saving New Notebook Files\n",
    "\n",
    "Jupyter Notebook data is stored in files with the extension ``.ipynb``. The file you're currently viewing, for example, is named ``jupyter_intro.ipynb``. With Appmode turned *off*, you should be able to see the file name ``jupyter intro`` at the top left of your screen, just to the right of the nanoHUB and Jupyter logos. \n",
    "* To **change the name** of an ipynb file (from within the file), just click on the file name in the top left of the screen. A dialog box will open up for you to edit the name. \n",
    "* To **create a new** ipynb file (from within an existing file) click ``File > New Notebook > Python 3`` on the drop-down menu at the top left of your screen. Selecting Python 3 specifies that we want to program primarily using the Python language. (Markdown will also be accessible). \n",
    "* To **open an existing** ipynb file (from within an existing file) click ``File > Open`` at the top left of the screen. A new browser tab will open, displaying a file/directory list that you can navigate through with your mouse. From this \"home\" page, you can open, move, copy, or delete ipynb files by clicking with the mouse. \n",
    "\n",
    "\n",
    "## Storing local files\n",
    "\n",
    "By default, the MolSpec app **deletes** most files every time the app loads. If you want a new or modified file to be available the next time you log on, you **must store the file in the \"local\" directory**. Only files stored in this directory will be accessible the next time you log on -- all others will be deleted! \n",
    "\n",
    "The image below illustrates how to find the \"local\" directory (with Appmode turned off and after clicking the ``File > Open`` tab). \n",
    "\n",
    "![Saving Local Files](file_save_instructions.png)"
   ]
  },
  {
   "cell_type": "markdown",
   "metadata": {},
   "source": [
    "\n",
    "## Cells \n",
    "\n",
    "Now that you know how to create and save files, let's discuss *cells*, the basic \"units\" that make up a Jupyter Notebook's contents. For our purposes, there are two types of cells to think about:\n",
    "* **Markdown cells** contain Markdown code that, when executed, produces rich-text output. The text you are currently reading is the output from a Markdown cell. \n",
    "\n",
    "* **Code Cells**, like the one just discussed above, contain computer code in the Python (or occasionally another) language. \n",
    "\n",
    "The type of a given cell (Markdown vs. code) can be toggled using the dropdown menu in the Jupyter control bar at the top of your screen. At any given time, it should say either \"Markdown\" (indicating that the current cell is for Markdown code) or \"Code\", indicating that the cell is for Python code. \n",
    "\n",
    "In both cases, the computer code contained inside a cell can be **executed** by clicking on the cell and doing one of the following:\n",
    "* Hitting <Ctrl+Enter> on the keyboard.\n",
    "* Hitting <Shift+Enter> on the keyboard.\n",
    "* Clicking the Run button on the Jupyter toolbar. \n",
    "* Choosing one of the several \"run\" options from the ``Cell`` dropdown menu in the Jupyter toolbar. \n",
    "\n",
    "Note that when you run the *last cell* in an ipynb file, a new cell will be created below it. This allows the user an interface to work with whatever data was produced by the last cell execution. If you want to delete this (or any other) cell, just click on it with your mouse and then click the \"cut\" icon (that looks like a pair of scissors) at the top left of your screen. To add a new cell anywhere in the notebook click the ``Insert`` icon and select either ``Insert Cell Above`` or ``Insert Cell Below``. \n",
    "\n",
    "## Markdown Cells\n",
    "\n",
    "When you \"run\" a Markdown cell, the Jupyter compiler interprets the code and *replaces* the code text with the richly formatted output. To see the code again, just double-click on the output. To revert to formatted text, just run the code using one of the options above. If you've already exited Appmode, you can try this right now with the text your reading. \n",
    "\n",
    "## Code Cells\n",
    "\n",
    "Code cells are executed in the same way as Markdown cells, but the output is displayed differently. When a code cell is executed, text or graphical output is displayed *immediately below the cell*, with the code cell still visible. For example, the cell block contains Python code to print \"Hello, World!\" along with the current date and time. Click with your mouse inside the block and hit <Shift+Enter> to see the output. "
   ]
  },
  {
   "cell_type": "code",
   "execution_count": 12,
   "metadata": {},
   "outputs": [
    {
     "name": "stdout",
     "output_type": "stream",
     "text": [
      "Hello, World!\n",
      "It is Fri Jun 26 15:35:24 2020\n"
     ]
    }
   ],
   "source": [
    "import time\n",
    "\n",
    "print('Hello, World!')\n",
    "print('It is ' + time.asctime())"
   ]
  },
  {
   "cell_type": "markdown",
   "metadata": {},
   "source": [
    "## The Kernel and Variable Scope\n",
    "\n",
    "Before moving on, it's worth commenting on one important but sometimes confusing feature of the Jupyter Notebook: the persistence and scope of stored variables. \n",
    "\n",
    "Every time you open an ipynb file, Jupyter starts a new \"kernel\" or background process that keeps track of what code has been executed and what variables have been defined. When you first open the notebook, no variables exist, even if the notebook contains code that would define them *if executed*. To make the kernel aware of these variables, you must first execute the corresponding cells. \n",
    "\n",
    "To illustrate how this works, let's suppose we open a new notebook with two code cells. The first contains the single line \n",
    "\n",
    ">``x = 3``\n",
    "\n",
    "while the second contains only\n",
    "\n",
    ">``print(x)``\n",
    "\n",
    "If executed in sequence, the first code would produce no output, while the second would simply print ``3``. If you were to open the file and *instead of executing in sequence* execute the *second* cell *first*, the output would show an Error, complaining that the variable ``x`` had never been defined. \n",
    "\n",
    "The counterpoint here is that *once a variable has been defined, it is accessible to all cells in the notebook*. So, for example, if our ipynb file contained the same two cells illustrated above but in *reverse order*, it would throw an error if the first cell (``print(x)``) were executed first, but not if the *second* cell (``x = 3``) were executed first and *then* the first cell. \n",
    "\n",
    "Confusing? Well, it can be. What's worse is that, once a variable has been executed, it lives on in the kernel *even if the corresponding code is deleted from the notebook*. So if we were to execute our ``x = 3``, the variable ``x`` would persist with the value ``3`` *even if we were to delete the cell* ``x = 3`` *from the notebook*. \n",
    "\n",
    "Variables **are** deleted, however, whenever the kernel is shut down or restarted. On nanoHUB, this happens automatically any time the \"Terminate Session\" button is clicked or when you log out of nanoHUB. When this happens, all data and variables that were generated by executing the code are lost unless stored in another file. (Note: Output remains displayed on the screen, but the kernel will *not* remember anymore the variables that were used to generate it.) \n",
    "\n",
    "You can also restart the kernel manually by selecting one of the several options on the ``Kernel`` tab on the Jupyter control bar. If your code is behaving strangely, it's sometimes a good idea to try restarting the kernel, since odd behavior can sometimes be caused by \"ghost\" variables that have lived on past the deletion of their corresponding code. \n",
    "\n",
    "\n",
    "\n",
    "## Outlook\n",
    "\n",
    "The ability to interactively edit, compile, and run both Python and text-formatting code in a single document makes Jupyter Notebooks a powerful interface for scientific computing. To get a sense for how this works, we'll next introduce some basic Markdown and Python syntax. "
   ]
  },
  {
   "cell_type": "code",
   "execution_count": null,
   "metadata": {},
   "outputs": [],
   "source": []
  }
 ],
 "metadata": {
  "kernelspec": {
   "display_name": "Python 3",
   "language": "python",
   "name": "python3"
  },
  "language_info": {
   "codemirror_mode": {
    "name": "ipython",
    "version": 3
   },
   "file_extension": ".py",
   "mimetype": "text/x-python",
   "name": "python",
   "nbconvert_exporter": "python",
   "pygments_lexer": "ipython3",
   "version": "3.7.7"
  }
 },
 "nbformat": 4,
 "nbformat_minor": 2
}
