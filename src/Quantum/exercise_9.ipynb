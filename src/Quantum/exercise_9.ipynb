{
 "cells": [
  {
   "cell_type": "markdown",
   "id": "5ad3f020",
   "metadata": {},
   "source": [
    "# Homework #\n",
    "\n",
    "For this assignment, you'll need to copy-and-paste the code blocks from the \"Quantum Morse\" notebook into the code block below. Use this as a chance to review the code and get a sense for what it does. You **don't** need to study the entire code in detail, but it is important that you understand what each code block is accomplishing. You will need access to the Harmonic Oscillator wavefunctions and energies, as well as the Morse oscillator energies to complete the assignment, so be sure to note where these variables are defined in the code. "
   ]
  },
  {
   "cell_type": "code",
   "execution_count": 1,
   "id": "6297abbc",
   "metadata": {
    "ExecuteTime": {
     "end_time": "2024-11-01T14:48:53.748341Z",
     "start_time": "2024-11-01T14:48:53.744226Z"
    }
   },
   "outputs": [],
   "source": [
    "# Insert harmonic oscillator code here #"
   ]
  },
  {
   "cell_type": "markdown",
   "id": "b04ee435",
   "metadata": {},
   "source": [
    "\n",
    "\n",
    "## Quantum Populations ##\n",
    "\n",
    "\n",
    "In quantum systems, the equilibrium population of any given state is given by the Boltzmann formula\n",
    "$$ p_n = \\frac{e^{-\\frac{\\varepsilon_n}{k_B T}}}{Z} , $$\n",
    "where \n",
    "$$ Z = \\sum_n e^{-\\frac{\\varepsilon_n}{k_B T}} $$\n",
    "is called the *partition function*. $Z$ serves as a normalizing factor to ensure that the sum of all populations is exactly 1. For harmonic oscillator with a frequency of 50 THz (roughly 1670 cm$^{-1}$), what is the relative population $ \\frac{p_1}{p_0}$ of the first excited state relative to the ground state at room temperature (say 300 K)? Use the code block below to calculate the numerical value. What does this tell you about which initial quantum states you need to think about in spectroscopy experiments? "
   ]
  },
  {
   "cell_type": "code",
   "execution_count": null,
   "id": "09b3e192",
   "metadata": {},
   "outputs": [],
   "source": []
  },
  {
   "cell_type": "markdown",
   "id": "ac63062f",
   "metadata": {},
   "source": [
    "## Quantum selection rules ##\n",
    "\n",
    "In molecular spectroscopy, light-matter interactions are often dominated by the field-dipole energy\n",
    "$$ H_\\text{LM} = - \\vec \\mu \\cdot \\vec E ,$$\n",
    "where $\\vec E$ is the electric field and $\\vec \\mu$ is the dipole moment operator. The explicit form of $\\vec \\mu$ depends on the context, but in vibrational spectroscopy it can usually be taken to be a linear function of the oscillator coordinate:\n",
    "$$ \\vec \\mu = \\vec \\mu_o x , $$\n",
    "where $\\vec \\mu_o$ is a static (independent of $x$) vector that defines the magnitude and orientation of the molecular dipole. In a diatomic molecule, for example $\\vec \\mu_o$ points along the direction of the bond axis, with a magnitude determined by the charge difference between the two atoms. \n",
    "\n",
    "In quantum systems, this form for the interaction energy means that *transitions* between two quantum states $\\psi_m$ and $\\psi_n$ can be induced by light-matter interactions only when the matrix element for the dipole operator\n",
    "$$ \\vec \\mu_{mn} = \\left \\langle \\psi_m | \\vec \\mu | \\psi_n \\right \\rangle = \\vec \\mu_o \\left \\langle \\psi_m | x | \\psi_n \\right \\rangle$$\n",
    "is non-zero. The larger the matrix element $\\mu_{mn}$, the more likely the transition is to occur. \n",
    "\n",
    "In the code block below, construct a matrix `Xmat` containing the matrix elements for the $x$ operator in the harmonic oscillator basis. You can use the same syntax in the harmonic oscillator code to create the matrix `Vmat` but with the oscillator coordinate in place of the Morse potential. What pattern do you see? (You might want to use `plt.imshow()` to visualize the matrix.) What is the \"selection rule\" for the harmonic oscillator that dictates which quantum states can transition to each other due to electromagnetic excitation? "
   ]
  },
  {
   "cell_type": "code",
   "execution_count": null,
   "id": "265c5682",
   "metadata": {},
   "outputs": [],
   "source": []
  },
  {
   "cell_type": "markdown",
   "id": "84ee465b",
   "metadata": {},
   "source": []
  },
  {
   "cell_type": "markdown",
   "id": "3a65e18c",
   "metadata": {},
   "source": [
    "## Quantum transition frequencies ##\n",
    "\n",
    "In quantum mechanics, we generally can't measure vibrational potentials directly. Instead, we can see only the *energy gaps* between quantized states. These indirectly tell us about the shape of the vibrational potential, since different potential-energy shapes give rise to different energy-level patterns. \n",
    "\n",
    "In the code block below, plot:\n",
    "1. The energies for the first 5 states of a *harmonic oscillator* with frequency `wo` (as defined in the code above), and\n",
    "2. The energies for the first 5 states of the Morse oscillator we calculated numerically. \n",
    "\n",
    "Plot both sets of energy levels on a single plot, where the x-axis indicates state number (1, 2, 3, 4, 5), and the y-axis indicates the relative energy $\\varepsilon_n / \\hbar \\omega_o$. Use the marker symbols 'ok-' and 'ob-' for the harmonic and Morse energy levels, respectively, so that you can see both the individual data point and the \"trend line\". What qualitative difference can you see between the two data sets? "
   ]
  },
  {
   "cell_type": "code",
   "execution_count": null,
   "id": "62cc4fc1",
   "metadata": {
    "ExecuteTime": {
     "end_time": "2024-10-31T17:29:59.118627Z",
     "start_time": "2024-10-31T17:29:58.914464Z"
    }
   },
   "outputs": [],
   "source": []
  },
  {
   "cell_type": "markdown",
   "id": "b0d9b461",
   "metadata": {},
   "source": []
  },
  {
   "cell_type": "markdown",
   "id": "949d947e",
   "metadata": {},
   "source": [
    "## Quantum anharmonicity ##\n",
    "\n",
    "\n",
    "In vibrational spectroscopy, the \"anharmonicity\" of a potential is often quantifed as a \"difference of differences\" in the form\n",
    "$$ \\Delta_n = \\left( \\varepsilon_{n+1} - \\varepsilon_{n} \\right)  - \\left( \\varepsilon_n - \\varepsilon_{n-1} \\right) . $$\n",
    "Why does this quantity make sense as a metric for how \"not-harmonic\" a vibrational potential is? \n",
    "\n",
    "In the code block below, plot energy-level differences $$ \\frac{\\varepsilon_{n+1} - \\varepsilon_{n}}{\\hbar \\omega_o}$$\n",
    "for the first 5 energy states of the Morse oscillator. Can you identify a trend for how this difference scales with $n$? (Hint: does the trend you identify agree with the exact eigenvalues of the Morse oscillator, which you can find on Wikipedia?) What would be the \"anharmonicity\" $\\Delta_1$ for this system? "
   ]
  },
  {
   "cell_type": "code",
   "execution_count": null,
   "id": "4217bcff",
   "metadata": {
    "ExecuteTime": {
     "end_time": "2024-10-31T17:48:44.017761Z",
     "start_time": "2024-10-31T17:48:43.814846Z"
    }
   },
   "outputs": [],
   "source": []
  },
  {
   "cell_type": "markdown",
   "id": "ea729706",
   "metadata": {},
   "source": []
  }
 ],
 "metadata": {
  "kernelspec": {
   "display_name": "Python 3.8",
   "language": "python",
   "name": "python3"
  },
  "language_info": {
   "codemirror_mode": {
    "name": "ipython",
    "version": 3
   },
   "file_extension": ".py",
   "mimetype": "text/x-python",
   "name": "python",
   "nbconvert_exporter": "python",
   "pygments_lexer": "ipython3",
   "version": "3.8.10"
  },
  "toc": {
   "base_numbering": 1,
   "nav_menu": {},
   "number_sections": true,
   "sideBar": true,
   "skip_h1_title": false,
   "title_cell": "Table of Contents",
   "title_sidebar": "Contents",
   "toc_cell": false,
   "toc_position": {},
   "toc_section_display": true,
   "toc_window_display": false
  },
  "varInspector": {
   "cols": {
    "lenName": 16,
    "lenType": 16,
    "lenVar": 40
   },
   "kernels_config": {
    "python": {
     "delete_cmd_postfix": "",
     "delete_cmd_prefix": "del ",
     "library": "var_list.py",
     "varRefreshCmd": "print(var_dic_list())"
    },
    "r": {
     "delete_cmd_postfix": ") ",
     "delete_cmd_prefix": "rm(",
     "library": "var_list.r",
     "varRefreshCmd": "cat(var_dic_list()) "
    }
   },
   "types_to_exclude": [
    "module",
    "function",
    "builtin_function_or_method",
    "instance",
    "_Feature"
   ],
   "window_display": false
  }
 },
 "nbformat": 4,
 "nbformat_minor": 5
}
