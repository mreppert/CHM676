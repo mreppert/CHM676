{
 "cells": [
  {
   "cell_type": "markdown",
   "metadata": {},
   "source": [
    "# Exercise 8\n",
    "\n",
    "For your assignment this week you will *not* turn in a Jupyter Notebook file. Instead:\n",
    "1. Use the **pump-probe** (PP) app to run simulations relevant to each question below. (Be sure to report your parameters in the answer to each question.)\n",
    "2. Take screenshots of *the PP spectra and time traces*; use the Print Screen button on your keyboard.\n",
    "3. Paste these images into your favorite text editing software (e.g., MS Word, LaTex, etc.) and use them to answer the assigned questions. \n",
    "4. Convert the final document to a PDF file (e.g., using \"print to pdf\" or \"save as pdf\") and upload *only the PDF file* to Brightspace. \n",
    "\n",
    "\n",
    "## Questions\n",
    "\n",
    "1. **Dissipation vs Dephasing**: Find parameters for which PP spectrum is *primarily broadened by dissipation*. How can you tell from the pump-probe data that the broadening is driven by dissipation (and not dephasing)? \n",
    "\n",
    "2. **Inhomogeneous Broadening**: Find parameter values that illustrate the phenomenon of inhomogeneous broadening. Just by looking at the pump-probe data, can you tell that the system exhibits inhomogeneous broadening (as opposed to homogeneous broadening)? (Explain your answer.)\n",
    "\n",
    "3. **Motional Narrowing**: Change *exactly one parameter* (from the inhomogeneous broadening case) so that the spectrum exhibits motional narrowing. Is the spectrum now homogeneously or inhomogeneously broadened? Is this broadening driven by dissipation or dephasing? \n",
    "\n",
    "5. **\"Window\" Broadening**: Run two simulations using the pump-probe app with default simulation parameters **except** that $\\gamma$ is set to 10 pg/s, $\\tau_2^{(max)}$ is set to 50 fs, and $t_{max}$ is set to either 2 ps (first simulation) or 10 ps (second simulation). How does the *width* of the pump-probe spectrum (in the frequency domain) change between these two simulations? What causes this broadening? How is it related to the homogeneous and inhomogeneous broadening mechanisms already discussed? \n",
    "\n",
    "4. **Comparison to 2D Spectroscopy** Finally, you may have found it difficult in Question 2 to distinguish homogeneous vs inhomogeneous broadening. Explain (using screenshots from the 2D simulation notebook) how 2D spectroscopy allows these different broadening mechanisms to be distinguished. (What key feature(s) do you look for?)\n"
   ]
  },
  {
   "cell_type": "code",
   "execution_count": null,
   "metadata": {},
   "outputs": [],
   "source": []
  }
 ],
 "metadata": {
  "kernelspec": {
   "display_name": "Python 3.8",
   "language": "python",
   "name": "python3"
  },
  "language_info": {
   "codemirror_mode": {
    "name": "ipython",
    "version": 3
   },
   "file_extension": ".py",
   "mimetype": "text/x-python",
   "name": "python",
   "nbconvert_exporter": "python",
   "pygments_lexer": "ipython3",
   "version": "3.8.10"
  }
 },
 "nbformat": 4,
 "nbformat_minor": 2
}
