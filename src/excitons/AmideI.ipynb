{
 "cells": [
  {
   "cell_type": "markdown",
   "metadata": {},
   "source": [
    "# Amide I Spectroscopy: Vibrational Excitons\n",
    "\n",
    "\\[View this assignment with *Appmode* turned **off**.\\]\n",
    "\n",
    "Lecture notes associated with this assignment are [here](https://mreppert.github.io/education/chm676f20/notes/Excitons.pdf).\n",
    "\n",
    "To get a sense for how molecular excitons show up in spectroscopic experiments, we'll consider Amide I vibrational spectroscopy. The Amide I mode of peptides and proteins consists mostly of the stretching motion of the backbone amide C=O group, with a smaller contribution from the wagging motion of the adjacent N-H groups. \n",
    "\n",
    "In small peptides, each amide group tends to vibrate essentially in isolation, with limited interaction with neighboring groups. In larger proteins, however, interactions *between* amide groups cause them to form delocalized vibrational states that are well descrbed by a molecular exciton model. In this description, each state in the *site basis* corresponds to a vibrational excitation localized on a single peptide bond; in the *eigenbasis*, dipole-dipole or through-bond coupling terms induce delocalized vibrational motion that can span across entire domains of the protein secondary structure. \n",
    "\n",
    "To get a sense for how such excitonic interactions affect infrared spectra, we'll calculate Amide I absorption spectra for a series of peptides and proteins using the AmideSpec app hosted on nanoHUB at [https://nanohub.org/tools/amidespec](https://nanohub.org/tools/amidespec). \n",
    "\n",
    "1. Open the AmideSpec app and enter the code 6DIX into the PDB ID entry box. Click \"Fetch\" to pull up the structure. Once the protein structure appears, use your mouse to explore the structure a bit. Note that the \"ribbons\" in the structural representation sketch out the path of the protein backbone, while the red and grey cylinders indicate C=O bonds -- the primary unit whose stretching motion contributes to Amide I spectroscopy. Recall that many protein structures can be classified as either $\\alpha$-helix or $\\beta$-sheet. Which do you think this is? \n"
   ]
  },
  {
   "cell_type": "markdown",
   "metadata": {},
   "source": []
  },
  {
   "cell_type": "markdown",
   "metadata": {},
   "source": [
    "2. Click on the \"Calculate Couplings\" box and hit the \"PDC\" button to calculate inter-site couplings between the carbonyl groups using the Point-Dipole Approximation. (You won't see any immediate change to the interface). Then switch to the \"Spectrum\" tab and click \"Calculate\" to calculate a predicted absorption spectrum. Repeat this process using the PDB code 1YMB for myoglobin, a primarily $\\alpha$-helical protein. How do the two Amide I spectra differ? How might these differences be used experimentally to provide structural information on real proteins? "
   ]
  },
  {
   "cell_type": "markdown",
   "metadata": {},
   "source": []
  },
  {
   "cell_type": "markdown",
   "metadata": {},
   "source": [
    "3. Repeat the absorption spectrum calculation for the series of PDB files [sheet1.pdb](sheet1.pdb), [sheet2.pdb](sheet2.pdb), [sheet3.pdb](sheet3.pdb), and [sheet4.pdb](sheet4.pdb), which begins with only a single $\\beta$-strand from the 6DIX structure and progressively adds additional layers. (You'll need to save these files to your local computer and then upload them to the AmideSpec app using the Upload button. The final structure is the same as the original 6DIX structure you fetched from the PDB). How does the absorption spectrum change as you add additional layers?"
   ]
  },
  {
   "cell_type": "markdown",
   "metadata": {},
   "source": []
  },
  {
   "cell_type": "markdown",
   "metadata": {},
   "source": [
    "4. In the code cell below, create a NumPy vector that stores the peak frequency of the sheet1, sheet2, sheet3, and sheet4 spectra you just calculated. (You can read off the frequency value of your mouse location from the lower right-hand corner of the plot.) Plot the peak frequency as a function of the number of $\\beta$ strands in the structure. Why do you think adding strands has this effect on the peak frequency? (Hint: Are the vibrational excitons becoming more or less delocalized?)\n"
   ]
  },
  {
   "cell_type": "markdown",
   "metadata": {},
   "source": []
  },
  {
   "cell_type": "code",
   "execution_count": 1,
   "metadata": {},
   "outputs": [],
   "source": [
    "# Insert code here"
   ]
  }
 ],
 "metadata": {
  "kernelspec": {
   "display_name": "Python 3",
   "language": "python",
   "name": "python3"
  },
  "language_info": {
   "codemirror_mode": {
    "name": "ipython",
    "version": 3
   },
   "file_extension": ".py",
   "mimetype": "text/x-python",
   "name": "python",
   "nbconvert_exporter": "python",
   "pygments_lexer": "ipython3",
   "version": "3.7.7"
  }
 },
 "nbformat": 4,
 "nbformat_minor": 2
}
