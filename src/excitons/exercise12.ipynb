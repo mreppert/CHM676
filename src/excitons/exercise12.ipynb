{
 "cells": [
  {
   "cell_type": "markdown",
   "metadata": {},
   "source": [
    "# Photosynthetic Spectroscopy: Electronic Molecular Excitons\n",
    "\n",
    "\\[View this assignment with *Appmode* turned **off**.\\]\n",
    "\n",
    "1. Load the protein databank structure 2DRE, a model for the plant water-soluble chlorophyll protein. Calculate an absorption spectrum *for chains A and B only*. Does this configuration represent a \"sandwich\" or \"head-to-tail\" configuration? How is this reflected in the absorption spectrum?\n"
   ]
  },
  {
   "cell_type": "markdown",
   "metadata": {},
   "source": []
  },
  {
   "cell_type": "markdown",
   "metadata": {},
   "source": [
    "2. Now calculate a spectrum for chains *A and D* only. What type of configuration does this represent? How is it reflected in the absorption spectrum? "
   ]
  },
  {
   "cell_type": "markdown",
   "metadata": {},
   "source": []
  },
  {
   "cell_type": "markdown",
   "metadata": {},
   "source": [
    "3. Now take a closer look at the spectra you calculated for the A/B and A/D dimers. In each case, what is the *splitting* (i.e., frequency difference) between the two absorption peaks? Compare this to the coupling values printed to the file \"coup.txt\" by the PigmentHunter window. (Note: this file is overwritten each time you calculate a new set of coupling values, so you may want to do the A/B and A/D PigmentHunter calculations again to make sure  you're looking at the right values.) Is the peak-to-peak splitting correlated with the value of the coupling constant? Why? "
   ]
  },
  {
   "cell_type": "markdown",
   "metadata": {},
   "source": []
  },
  {
   "cell_type": "markdown",
   "metadata": {},
   "source": [
    "4. Finally, let us examine the effect of introducing *bias* into the system, i.e., shifting the site energy of one pigment relative to the other. For both A/B and A/D configurations, calculate spectra with frequency differences of 0, 100, 200, 300, 400, and 500 cm$^{-1}$ between the two sites. How do the spectra differ? In each case, read off the $y$-value of the *lower intensity peak*, and plot this data (for both A/B and A/D systems) as a function of the frequency difference between the two sites. In which case do the spectra converge more rapidly to the sum spectrum of two isolated monomers? Why? "
   ]
  },
  {
   "cell_type": "markdown",
   "metadata": {},
   "source": []
  },
  {
   "cell_type": "code",
   "execution_count": null,
   "metadata": {},
   "outputs": [],
   "source": []
  }
 ],
 "metadata": {
  "kernelspec": {
   "display_name": "Python 3",
   "language": "python",
   "name": "python3"
  },
  "language_info": {
   "codemirror_mode": {
    "name": "ipython",
    "version": 3
   },
   "file_extension": ".py",
   "mimetype": "text/x-python",
   "name": "python",
   "nbconvert_exporter": "python",
   "pygments_lexer": "ipython3",
   "version": "3.7.7"
  }
 },
 "nbformat": 4,
 "nbformat_minor": 2
}
