{
 "cells": [
  {
   "cell_type": "markdown",
   "metadata": {},
   "source": [
    "# Programming Crash Course\n",
    "\n",
    "Much of the work we do in this course will be centered around using the Python programming language to run and visualize molecular simulations, using the Jupyter Notebook interface. This week we'll be working through a \"crash course\" in Python and Jupyter. Let's start by defining some terms. (Click on each definition for a longer discussion.)"
   ]
  },
  {
   "cell_type": "code",
   "execution_count": 4,
   "metadata": {
    "scrolled": false
   },
   "outputs": [
    {
     "data": {
      "application/vnd.jupyter.widget-view+json": {
       "model_id": "e9a468d5a1de4ea2a94a9399fd4ca05a",
       "version_major": 2,
       "version_minor": 0
      },
      "text/plain": [
       "VBox(children=(Output(), Accordion(children=(Output(),), selected_index=None, _titles={'0': 'A set of commands…"
      ]
     },
     "metadata": {},
     "output_type": "display_data"
    },
    {
     "data": {
      "application/vnd.jupyter.widget-view+json": {
       "model_id": "334ef9871e8544699e745b3c6406d9a7",
       "version_major": 2,
       "version_minor": 0
      },
      "text/plain": [
       "VBox(children=(Output(), Accordion(children=(Output(),), selected_index=None, _titles={'0': 'A high-level prog…"
      ]
     },
     "metadata": {},
     "output_type": "display_data"
    },
    {
     "data": {
      "application/vnd.jupyter.widget-view+json": {
       "model_id": "d9d4807f91644dc4984df0f184d30da4",
       "version_major": 2,
       "version_minor": 0
      },
      "text/plain": [
       "VBox(children=(Output(), Accordion(children=(Output(),), selected_index=None, _titles={'0': 'A simple text-for…"
      ]
     },
     "metadata": {},
     "output_type": "display_data"
    },
    {
     "data": {
      "application/vnd.jupyter.widget-view+json": {
       "model_id": "468eb440f1c342f09a711a7867d539a8",
       "version_major": 2,
       "version_minor": 0
      },
      "text/plain": [
       "VBox(children=(Output(), Accordion(children=(Output(),), selected_index=None, _titles={'0': 'A software interf…"
      ]
     },
     "metadata": {},
     "output_type": "display_data"
    },
    {
     "data": {
      "application/vnd.jupyter.widget-view+json": {
       "model_id": "33942c0536f34b1c9677509f27b8a9f4",
       "version_major": 2,
       "version_minor": 0
      },
      "text/plain": [
       "VBox(children=(Output(), Accordion(children=(Output(),), selected_index=None, _titles={'0': 'A website that ho…"
      ]
     },
     "metadata": {},
     "output_type": "display_data"
    }
   ],
   "source": [
    "from IPython.display import display_markdown\n",
    "import ipywidgets as widgets\n",
    "from ipywidgets import Layout\n",
    "\n",
    "def make_title_font(text):\n",
    "    text = '<span style=\"font-size:large; font-weight:bold\">' + text + '</span>'\n",
    "    return text\n",
    "\n",
    "def make_def_box_old(topic, shortdef, longdef):\n",
    "    Head = widgets.Output()\n",
    "    Body = widgets.Output()\n",
    "    Accord = widgets.Accordion(children=[Body], selected_index=None)\n",
    "    Accord.set_title(0, 'More')\n",
    "    \n",
    "    with Head:\n",
    "        display_markdown(make_title_font(topic) + \": \" + shortdef, raw=True)\n",
    "        \n",
    "    with Body:\n",
    "        display_markdown(longdef, raw=True)\n",
    "        \n",
    "    return widgets.VBox([Head, Accord])\n",
    "\n",
    "def make_def_box(topic, shortdef, longdef):\n",
    "    Head = widgets.Output()\n",
    "    Body = widgets.Output()\n",
    "    Accord = widgets.Accordion(children=[Body], selected_index=None)\n",
    "    Accord.set_title(0, shortdef)\n",
    "    \n",
    "    with Head:\n",
    "        display_markdown(make_title_font(topic) + \":\", raw=True)\n",
    "        \n",
    "    with Body:\n",
    "        display_markdown(longdef, raw=True)\n",
    "        \n",
    "    return widgets.VBox([Head, Accord])\n",
    "\n",
    "\n",
    "DefBoxes = []\n",
    "\n",
    "langshort = 'A set of commands that can be used to \"translate\" between human-readable input and computer-executable code.'\n",
    "langlong = 'Physically, digitial computers operate by switching microscopic hardware components between two different (binary) physical states. For example, computer processors use transistors to toggle microscopic circuits between the states \"open\" and \"closed\", while a magnetic hard drive toggles tiny sectors of a magnetic disk between \"up\" and \"down\" polarization states. A *binary computer code* is a sequence of binary data (0/1 or True/False choices) that can be directly executed by the computer by applying the specified binary choices to the appropriate physical configuration of the computer hardware (circuits and drives). Humans, of course, have difficulty reading binary data. It would be extremely difficult to write a program to run molecular dynamics simulations directly as a string of 1s and 0s! This is where programming languages come in. They take a series of human readable commands like \"x = 3\" or \"if(x>5)\" and translate them into a binary sequence that can be directly executed by the computer. This process of \"translation\" between human- and machine-readable code is called *compiling* and the program that carries it out is called the *compiler*. If you\\'ve ever had to \\\"install\\\" a programming language on your computer, what you were really installing was the compiler, a program to translate between your text and executable files.'\n",
    "DefBoxes.append(make_def_box('Programming Language', langshort, langlong))\n",
    "\n",
    "pythonshort = 'A high-level programming language, frequently used for scientific computing.'\n",
    "pythonlong = '\"High-level\" means that a high percentage of the \"hard work\" building a machine-executable program is done by the compiler, without the oversight of the programmer. For example, in low-level languages like C and Fortran, the programmer must explicitly inform the computer of how much physical memory will be required to run the code *before the code is compiled*; if the amount of needed memory may changes during run-time, the programmer must specifically inform the computer of it ahead of time and provide a specific set of instructions for how memory should be allocated. In contrast, in high-level languages like Python, the compiler parses through the human-readable text and *automatically* does all the hard work of figuring out how much memory will be needed. For rapid coding, this is extremely helpful, although in some cases it can substantially slow down the execution of the code (relative to low-level languages).'\n",
    "DefBoxes.append(make_def_box('Python', pythonshort, pythonlong))\n",
    "\n",
    "markshort = 'A simple text-formatting language.'\n",
    "marklong = 'Text-formatting languages allow the user to encode formatting features like headings, lists, and font size/weight directly in a line of text. The compiler then produces a richly formatted graphical output based only on a simple-text line of code. For example, the line of Markdown code \\r\\r>``Normal, *Italic*, and **Bold**``\\r\\rproduces the formatted output \\r\\r>Normal, *Italic*, and **Bold**.\\r\\r Basic Markdown syntax is relatively simple, but it can also understand more complex elements like HTML or LaTex formatting.'\n",
    "DefBoxes.append(make_def_box('Markdown', markshort, marklong))\n",
    "\n",
    "jupshort = 'A software interface for writing and compiling Python and Markdown code inside a web broser.'\n",
    "juplong = 'Python and Markdown compilers come in many different forms. In principle, we could do all of our programming in a simnple text editor and then compile and run the code from a computer terminal. This approach is completely valid, but it involves a rather steep learning curve since (in addition to learning Python and Markdown) you would also need to learn to use a computer terminal efficiently and (most likely) install a large number of \"backend\" libraries for rendering the output from our programs. Jupyter wraps all of these steps into a single interface, allowing the user to write code, compile it, and view the output all in a web browser.'\n",
    "DefBoxes.append(make_def_box('Jupyter Notebook', jupshort, juplong))\n",
    "\n",
    "nanoshort = 'A website that hosts nanoscience-related materials and scientific computing applications, including an open-access Jupyter server..'\n",
    "nanolong = 'All materials for this class are hosted on nanoHub. Without the nanoHub interface, each student would ned to install a copy of Jupyter on their local computer, along with all the (many!) libraries needed to run our simulations. Thanks to nanoHub\\'s Jupyter interface, we have instead been able to create a single code repository that you can access directly just by logging onto the nanoHub site.'\n",
    "DefBoxes.append(make_def_box('nanoHub', nanoshort, nanolong))\n",
    "\n",
    "\n",
    "for box in DefBoxes:\n",
    "    display(box)"
   ]
  },
  {
   "cell_type": "markdown",
   "metadata": {},
   "source": [
    "If you're reading this document, you've already learned how to log onto nanoHub, and you're currently reading a Jupyter Notebook! All the textboxes above were programmed using the Python language, with text formatting provided by Markdown. During the course of this semester -- and in particular this week -- you'll start to learn how to use these tools for writing, running, analyzing, and displaying scientific simulations. \n",
    "\n",
    "Now that we know a little bit about what these terms mean, we'll discuss our three main programming \"tools\" in turn: Jupyter, Markdown, and Python. Click on the links below to open each notebook in turn:\n",
    "\n",
    "* [Using Jupyter Notebooks](jupyter_intro.ipynb)\n",
    "* [Markdown Basics](markdown_intro.ipynb)\n",
    "* [Python Basics](python_intro.ipynb)"
   ]
  },
  {
   "cell_type": "code",
   "execution_count": 5,
   "metadata": {},
   "outputs": [
    {
     "data": {
      "application/vnd.jupyter.widget-view+json": {
       "model_id": "e60d232542b3420d8b619b8888bc01f4",
       "version_major": 2,
       "version_minor": 0
      },
      "text/plain": [
       "Button(description='Hide Code Cells', style=ButtonStyle())"
      ]
     },
     "metadata": {},
     "output_type": "display_data"
    }
   ],
   "source": [
    "from hublib import ui as ui\n",
    "\n",
    "ui.HideCodeButton()"
   ]
  },
  {
   "cell_type": "code",
   "execution_count": null,
   "metadata": {},
   "outputs": [],
   "source": []
  }
 ],
 "metadata": {
  "kernelspec": {
   "display_name": "Python 3",
   "language": "python",
   "name": "python3"
  },
  "language_info": {
   "codemirror_mode": {
    "name": "ipython",
    "version": 3
   },
   "file_extension": ".py",
   "mimetype": "text/x-python",
   "name": "python",
   "nbconvert_exporter": "python",
   "pygments_lexer": "ipython3",
   "version": "3.7.3"
  }
 },
 "nbformat": 4,
 "nbformat_minor": 2
}
