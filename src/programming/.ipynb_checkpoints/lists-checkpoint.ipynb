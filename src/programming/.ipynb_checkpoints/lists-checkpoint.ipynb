{
 "cells": [
  {
   "cell_type": "markdown",
   "metadata": {},
   "source": [
    "# Python Lists\n",
    "\n",
    "Python lists are fairly intuitive to work with, although they possess some unusual (to a programmer) properties. \n",
    "\n",
    "### Creating Lists\n",
    "Lists are declared in Python in two ways:\n",
    "1. By direct definition using square brackets `[` and `]` to denote the ends and commas `,` to separate items, e.g.\n",
    "`MyList = [1, 2, 'three']`, or \n",
    "2. By passing the list items to the `list()` command, enclosed in parentheses and separated by commas, e.g., `MyList = list((1,2,'three'))`. \n",
    "\n",
    "In the last example, the argument `(1,2,'three')` is in fact an example of another array-like Python type, the *tuple*, but we'll rarely use tuples other than as a means to pass comma-separated data to functions as in this example. \n",
    "\n",
    "Note that both of the above list-creation commands produce identical lists. The first two items are numbers, while the third (`'three'`) is a string variable. \n",
    "\n",
    "### Appending to Lists\n",
    "\n",
    "Often after a list is created, we want to add more items to it. This can be accomplished by two different commands. Referring to the list `MyList = [1, 2, 'three']` defined above, \n",
    "* `MyList.extend(['a', 'b'])` would cause the object `MyList` to refer to the list `[1, 2, 'three', 'a', 'b']`, while\n",
    "* `MyList.append(['a', 'b'])` would cause the object `MyList` to refer to the list `[1, 2, 'three', ['a', 'b']]`. \n",
    "In the case of `extend`, the items in the new list `['a', 'b']` are appended one-by-one to the old list. In the case of `append`, the new list is added as a block to the old list. Both commands are useful in different circumstances. \n",
    "\n",
    "### Lists of Lists\n",
    "\n",
    "Because the elements of a Python list can be any Python variable, it's also easy to create Python lists whose elements are themselves lists. Thus `My2DList = [1, [2, 3]]` creates a list with *two elements*: the first elements is the integer `1`, while the second element is another list `[2, 3]` of two integer values. This ability for different elements to have variable lengths *in the same list* is what we refer to when we say that Python lists can have non-rectangular dimensions. In the more traditional NumPy arrays described next, the dimensions of all array elements must be identical. \n",
    "\n",
    "### Accessing List Elements\n",
    "\n",
    "The individual items (elements) stored in a list can be accessed by typing the list name followed by the item index, enclosed in square brackets. **Note that indexing in Python begins at zero, not one!** So, for example, to access the `1` stored in the `MyList` variable defined above, we would enter `MyList[0]`. To access the string `three` stored in the third position, we would type `MyList[2]`. \n",
    "\n",
    "To access individual elements in a multi-dimensional list, simply use multiple pairs of square brackets. E.g., the syntax `My2DList[1][0]` refers to the value `2`: The first square-bracket command `My2DList[1]` refers to the list `[2, 3]`, while the second square bracket `[0]` selects the first index of this list. \n",
    "\n",
    "### Searching Lists\n",
    "\n",
    "When using Python lists, it may often occur that we don't know the index of a particular item in the list, or perhaps don't even know if the list contains the given item. For example, suppose we had a list object `FileList` that contained a list of file names from the computer's hard drive, and we wanted to know whether the readme file \"readme.txt\" was included in the list. \n",
    "* We can check whether `FileList` contains `readme.txt` by using the `count()` function: the syntax `FileList.count(\"readme.txt\")` returns (as an integer) the number of entries in FileList whose value is \"readme.txt\". Thus if the \"readme.txt\" is not contained in the file list, the function will return `0`, and if it is found once, it will return `1`. \n",
    "* Sometimes, we may also want to know the *index* of a searched item in a list. For example, if we wanted to know which index in `FileList` pointed to \"readme.txt\", we could enter `ndx = FileList.index(\"readme.txt\")`. Then (assuming `FileList`) does, in fact, contain at least one \"readme.txt\" entry), `FileList[ndx]` will contain the value \"readme.txt\". If FileList does *not* contain an entry whose value matches the search string, FileList.index() will throw an error. If FileList contains more than one entry whose value is \"readme.txt\", only the lowest-valued index will be returned. \n",
    "\n",
    "\n"
   ]
  },
  {
   "cell_type": "code",
   "execution_count": null,
   "metadata": {},
   "outputs": [],
   "source": []
  }
 ],
 "metadata": {
  "kernelspec": {
   "display_name": "Python 3",
   "language": "python",
   "name": "python3"
  },
  "language_info": {
   "codemirror_mode": {
    "name": "ipython",
    "version": 3
   },
   "file_extension": ".py",
   "mimetype": "text/x-python",
   "name": "python",
   "nbconvert_exporter": "python",
   "pygments_lexer": "ipython3",
   "version": "3.7.7"
  }
 },
 "nbformat": 4,
 "nbformat_minor": 2
}
