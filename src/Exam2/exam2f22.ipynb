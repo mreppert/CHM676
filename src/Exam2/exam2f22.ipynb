{
 "cells": [
  {
   "cell_type": "code",
   "execution_count": 1,
   "metadata": {
    "ExecuteTime": {
     "end_time": "2024-09-20T10:02:57.764158Z",
     "start_time": "2024-09-20T10:02:57.738190Z"
    }
   },
   "outputs": [
    {
     "data": {
      "application/javascript": [
       "IPython.OutputArea.auto_scroll_threshold = 9999\n"
      ],
      "text/plain": [
       "<IPython.core.display.Javascript object>"
      ]
     },
     "metadata": {},
     "output_type": "display_data"
    }
   ],
   "source": [
    "%%javascript\n",
    "IPython.OutputArea.auto_scroll_threshold = 9999"
   ]
  },
  {
   "cell_type": "markdown",
   "metadata": {},
   "source": [
    "# Exam 2\n",
    "\n",
    "## Submission Instructions: Please Read!\n",
    "\n",
    "After you enter your answers into the notebook, you **must** \n",
    "1. Generate an output file using the \"Generate Submission\" button at the end of the exam, and \n",
    "2. Open the generated \\*.py file and upload it to Brightspace. \n",
    "Your exam **will not be graded and will receive a score of zero** if these steps are not followed. (The local copy you are currently viewing will be deleted when you logout.) \n",
    "\n",
    "## Useful Equations\n",
    "\n",
    "Some useful equations are provided for reference.\n",
    "\n",
    "#### Maxwell's Equations\n",
    "\\begin{align*}\n",
    "\\nabla\\cdot \\boldsymbol{e} &= 4\\pi\\varrho(\\boldsymbol{x},t)\\\\\n",
    "\\nabla\\cdot \\boldsymbol{b} &= 0\\\\\n",
    "\\nabla\\times\\boldsymbol{e} + \\frac{1}{c}\\frac{\\partial \\boldsymbol{b}}{\\partial t} &= 0\\\\\n",
    "\\nabla\\times\\boldsymbol{b} - \\frac{1}{c}\\frac{\\partial \\boldsymbol{e}}{\\partial t} &= \\frac{4\\pi}{c}\\boldsymbol{j}(\\boldsymbol{x},t)\n",
    "\\end{align*}\n",
    "\n",
    "#### Lorentz Force Law\n",
    "\\begin{align}\n",
    "{\\boldsymbol F}_{EM} &= q \\left( {\\boldsymbol e}({\\boldsymbol r},t) +  \\frac{{\\boldsymbol v} }{c}\\times {\\boldsymbol b}({\\boldsymbol r},t) \\right). \n",
    "\\end{align}\n",
    "\n",
    "#### Newton's Equation\n",
    "$${\\boldsymbol F} = M {\\boldsymbol a}$$\n",
    "\n",
    "## Python Libraries\n",
    "\n",
    "Note: the following libraries are already imported:\n",
    "* NumPy as `np`\n",
    "* Matplotlib.pyplot as `plt`\n",
    "* math (as `math`)\n",
    "\n",
    "You don't need to import these explicitly in your coding solutions (although it won't hurt anything if you do). \n",
    "\n",
    "\n",
    "# Questions\n",
    "\n",
    "In total, 32 points are possible: \n",
    "* Each True/False question is worth 1 point\n",
    "* Each Multiple choice question is worth 1.5 points\n",
    "* Each Short Answer and Code question is worth 2 points"
   ]
  },
  {
   "cell_type": "code",
   "execution_count": 2,
   "metadata": {
    "ExecuteTime": {
     "end_time": "2024-09-20T10:02:59.092809Z",
     "start_time": "2024-09-20T10:02:58.664660Z"
    }
   },
   "outputs": [],
   "source": [
    "import ipywidgets as widgets\n",
    "from IPython.display import display_markdown\n",
    "import matplotlib.pyplot as plt\n",
    "import numpy as np\n",
    "import math\n",
    "\n",
    "%matplotlib notebook\n",
    "\n",
    "plt.rc({'font.size': 22})\n"
   ]
  },
  {
   "cell_type": "code",
   "execution_count": 3,
   "metadata": {
    "ExecuteTime": {
     "end_time": "2024-09-20T10:02:59.777783Z",
     "start_time": "2024-09-20T10:02:59.631570Z"
    }
   },
   "outputs": [],
   "source": [
    "TFPoints = 1.0\n",
    "MCPoints = 1.5\n",
    "SAPoints = 2.0\n",
    "CoPoints = 2.0\n",
    "InPoints = 2.0\n",
    "\n",
    "class exam_question:\n",
    "    def __init__(self, style, query, options, code=''):\n",
    "        self.style = style\n",
    "        self.query = query\n",
    "        self.options = options\n",
    "        self.markdown = ''\n",
    "        self.widget = []\n",
    "        self.num = -1\n",
    "        self.box = []\n",
    "        self.code = code\n",
    "        \n",
    "    def make_widget(self, num):\n",
    "        leadin = ''\n",
    "        \n",
    "        pts = 0.0\n",
    "        \n",
    "        if self.style=='multichoice':\n",
    "            leadin = '**Multiple Choice**'\n",
    "            for n in range(0, len(self.options)):\n",
    "                self.options[n] = chr(97+n) + '. ' + self.options[n]\n",
    "            widg = widgets.RadioButtons(\n",
    "                value = None,\n",
    "                options=self.options,\n",
    "                description='',\n",
    "                layout=widgets.Layout(width='90%'),\n",
    "                disabled=False\n",
    "            )\n",
    "            pts = MCPoints\n",
    "        \n",
    "        if self.style=='truefalse':\n",
    "            leadin = '**True or False?**'\n",
    "            widg = widgets.RadioButtons(\n",
    "                value = None,\n",
    "                options=self.options,\n",
    "                description='',\n",
    "                disabled=False\n",
    "            )\n",
    "            pts = TFPoints\n",
    "        \n",
    "        if self.style=='shortanswer':\n",
    "            leadin = '**Short Answer**'\n",
    "            widg = widgets.Textarea(\n",
    "                value='',\n",
    "                placeholder='Type something',\n",
    "                description='Answer:',\n",
    "                disabled=False,\n",
    "                layout=widgets.Layout(width='90%')\n",
    "            )\n",
    "            pts = SAPoints\n",
    "            \n",
    "        if self.style=='code':      \n",
    "            leadin = '**Code**'\n",
    "            if len(self.options)>0:\n",
    "                val = self.options[0]\n",
    "            else:\n",
    "                val = ''\n",
    "            widg = widgets.Textarea(\n",
    "                value=val,\n",
    "                placeholder='Type code here',\n",
    "                description='Code:',\n",
    "                disabled=False,\n",
    "                layout=widgets.Layout(width='90%'))\n",
    "            \n",
    "            widgprompt = widgets.Textarea(\n",
    "                value=self.code,\n",
    "                placeholder='Type code here',\n",
    "                description='Prompt:',\n",
    "                disabled=True,\n",
    "                layout=widgets.Layout(width='90%'))\n",
    "            \n",
    "            widgin = widgets.Output()\n",
    "            widgout = widgets.Output()\n",
    "            \n",
    "            widgincb = widgets.Button(\n",
    "                description='Run Simulation',\n",
    "                disabled=False,\n",
    "                button_style='', # 'success', 'info', 'warning', 'danger' or ''\n",
    "                tooltip='Click to show the input data',\n",
    "            )\n",
    "                \n",
    "            widgcb = widgets.Button(\n",
    "                description='Test Code',\n",
    "                disabled=False,\n",
    "                button_style='', # 'success', 'info', 'warning', 'danger' or ''\n",
    "                tooltip='Click to test your code',\n",
    "            )\n",
    "            \n",
    "            def exec_code(b):\n",
    "                widgout.clear_output(wait=False)\n",
    "                with widgout:\n",
    "                    %matplotlib notebook \n",
    "                    exec(widg.value)\n",
    "                    \n",
    "            widgcb.on_click(exec_code)\n",
    "            \n",
    "            def exec_prompt(b):\n",
    "                widgin.clear_output(wait=False)\n",
    "                with widgin:\n",
    "                    %matplotlib notebook \n",
    "                    exec(widgprompt.value)\n",
    "                    \n",
    "            widgincb.on_click(exec_prompt)\n",
    "            \n",
    "            if len(self.code)>0:\n",
    "                self.box = widgets.VBox([widgin, widgincb, widgout, widgcb])\n",
    "            else:\n",
    "                self.box = widgets.VBox([widgout, widgcb])\n",
    "                \n",
    "            pts = CoPoints\n",
    "            \n",
    "        if self.style=='interpret':      \n",
    "            leadin = '**Interpret**'\n",
    "            Pts = InPoints\n",
    "            widg = widgets.Textarea(\n",
    "                value='',\n",
    "                placeholder='Type code here',\n",
    "                description='Answer:',\n",
    "                disabled=False,\n",
    "                layout=widgets.Layout(width='90%'))\n",
    "            widgin = widgets.Output()\n",
    "            widgincb = widgets.Button(\n",
    "                description='Show Data',\n",
    "                disabled=False,\n",
    "                button_style='', # 'success', 'info', 'warning', 'danger' or ''\n",
    "                tooltip='Click to show the input data',\n",
    "            )\n",
    "            \n",
    "            def exec_prompt(b):\n",
    "                widgin.clear_output(wait=False)\n",
    "                with widgin:\n",
    "                    %matplotlib notebook \n",
    "                    exec(self.code)\n",
    "#                     widgincb.disabled = True\n",
    "            widgincb.on_click(exec_prompt)\n",
    "            \n",
    "            self.box = widgets.VBox([widgin, widgincb])\n",
    "                \n",
    "        self.num = num\n",
    "        self.widget = widg\n",
    "        self.markdown = str(num) + '. ' + leadin+\"<br>\" + self.query\n",
    "        display_markdown(self.markdown, raw=True)\n",
    "        if self.box!=[]:\n",
    "            display(self.box)\n",
    "        display(widgets.HBox([widgets.Label(layout=widgets.Layout(width='5%', value=' ')), widg]))\n",
    "        \n",
    "        print()\n",
    "        print()\n",
    "        return pts\n",
    "\n",
    "\n",
    "def display_questions():\n",
    "    count = 0\n",
    "    Points = 0\n",
    "    for Q in QList:\n",
    "        Points += Q.make_widget(count+1)\n",
    "        count += 1\n",
    "    print(Points, ' points possible')\n",
    "    \n",
    "def display_answers(b):\n",
    "    for Q in QList:\n",
    "        if Q.widget!=[]:\n",
    "            if Q.widget.value==None:\n",
    "                val = ''\n",
    "            else:\n",
    "                val = Q.widget.value\n",
    "            tab = '&nbsp;&nbsp;&nbsp;&nbsp;&nbsp;&nbsp; '\n",
    "            display_markdown(Q.markdown, raw=True)\n",
    "            if Q.style=='code':\n",
    "                for line in val.split('\\n'):\n",
    "                    print(line)\n",
    "                print('')\n",
    "            else:\n",
    "                display_markdown(tab + tab + val, raw=True)\n",
    "            print(\"*************************************\")\n",
    "            \n",
    "def write_to_py(b):\n",
    "    fname = 'exam2_' + txt_uname.value + '.py'\n",
    "    pyfd = open(fname, 'w')\n",
    "    pyfd.write('# **************************************************************************\\n')\n",
    "    pyfd.write('# ** YOU MUST UPLOAD THIS FILE TO BRIGHTSPACE FOR YOUR EXAM TO BE GRADED! **\\n')\n",
    "    pyfd.write('# **************************************************************************\\n\\n')\n",
    "    for Q in QList:\n",
    "        if Q.widget.value==None:\n",
    "            val = ''\n",
    "        else:\n",
    "            val = Q.widget.value\n",
    "        if Q.style=='code':\n",
    "            pyfd.write(\"#Question \" + str(Q.num) + \": \\n\")\n",
    "            pyfd.write(val + \"\\n\\n\")\n",
    "        else:\n",
    "            pyfd.write(\"#Question \" + str(Q.num) + \": \" + val + \"\\n\\n\")\n",
    "    pyfd.close()\n",
    "    display_markdown('### Output written to file ' + fname + '. Click <a href=\\\"' + fname + '\\\" target=\\\"_blank\\\">here</a> to open and submit!', raw=True)\n",
    "    \n",
    "write_button = widgets.Button(\n",
    "    description='Generate Submission',\n",
    "    disabled=False,\n",
    "    button_style='', # 'success', 'info', 'warning', 'danger' or ''\n",
    "    tooltip='Click to generate submission file',\n",
    "    icon='check', # (FontAwesome names without the `fa-` prefix),\n",
    "    layout=widgets.Layout(width='6cm')\n",
    ")\n",
    "\n",
    "write_button.on_click(write_to_py)\n",
    "\n",
    "txt_uname = widgets.Text(\n",
    "    value='',\n",
    "    placeholder='User name',\n",
    "    description='Purdue ID:',\n",
    "    disabled=False\n",
    ")\n",
    "\n",
    "def sort_qlist(QList):\n",
    "    cats = [\n",
    "        'truefalse',\n",
    "        'multichoice',\n",
    "        'shortanswer',\n",
    "        'code',\n",
    "        'interpret'\n",
    "    ]\n",
    "    \n",
    "    NewQList = []\n",
    "    for cat in cats:\n",
    "        for Q in QList:\n",
    "            if Q.style==cat:\n",
    "                NewQList.append(Q)\n",
    "\n",
    "    return NewQList"
   ]
  },
  {
   "cell_type": "code",
   "execution_count": 4,
   "metadata": {
    "ExecuteTime": {
     "end_time": "2024-09-20T10:03:00.344077Z",
     "start_time": "2024-09-20T10:02:59.799223Z"
    },
    "scrolled": false
   },
   "outputs": [
    {
     "data": {
      "text/markdown": [
       "1. **True or False?**<br>In isotropic media, Neumann's principle dictates that even-order polarizations must vanish."
      ]
     },
     "metadata": {},
     "output_type": "display_data"
    },
    {
     "data": {
      "application/vnd.jupyter.widget-view+json": {
       "model_id": "f4ab5cb7e3ce4a64a16b19d048c28066",
       "version_major": 2,
       "version_minor": 0
      },
      "text/plain": [
       "HBox(children=(Label(value='', layout=Layout(width='5%')), RadioButtons(options=('True', 'False'), value=None)…"
      ]
     },
     "metadata": {},
     "output_type": "display_data"
    },
    {
     "name": "stdout",
     "output_type": "stream",
     "text": [
      "\n",
      "\n"
     ]
    },
    {
     "data": {
      "text/markdown": [
       "2. **True or False?**<br>Absorption spectroscopy probes the real part of the response function"
      ]
     },
     "metadata": {},
     "output_type": "display_data"
    },
    {
     "data": {
      "application/vnd.jupyter.widget-view+json": {
       "model_id": "1e88792ec7244cd5942102c38bf2f6a5",
       "version_major": 2,
       "version_minor": 0
      },
      "text/plain": [
       "HBox(children=(Label(value='', layout=Layout(width='5%')), RadioButtons(options=('True', 'False'), value=None)…"
      ]
     },
     "metadata": {},
     "output_type": "display_data"
    },
    {
     "name": "stdout",
     "output_type": "stream",
     "text": [
      "\n",
      "\n"
     ]
    },
    {
     "data": {
      "text/markdown": [
       "3. **True or False?**<br>The refractive index $n(\\omega)$ is related to the linear susceptibility $\\chi^{(1)}(\\omega)$ by the equation $$n(\\omega) = Re \\sqrt{1 + 4 \\pi \\chi^{(1)}(\\omega)}$$"
      ]
     },
     "metadata": {},
     "output_type": "display_data"
    },
    {
     "data": {
      "application/vnd.jupyter.widget-view+json": {
       "model_id": "fa7f88133bfc48c4b0c3d7bc820f6453",
       "version_major": 2,
       "version_minor": 0
      },
      "text/plain": [
       "HBox(children=(Label(value='', layout=Layout(width='5%')), RadioButtons(options=('True', 'False'), value=None)…"
      ]
     },
     "metadata": {},
     "output_type": "display_data"
    },
    {
     "name": "stdout",
     "output_type": "stream",
     "text": [
      "\n",
      "\n"
     ]
    },
    {
     "data": {
      "text/markdown": [
       "4. **True or False?**<br>Maxwell's equations in vacuum support only longitudinal fields."
      ]
     },
     "metadata": {},
     "output_type": "display_data"
    },
    {
     "data": {
      "application/vnd.jupyter.widget-view+json": {
       "model_id": "53b007503cba4a8daeedc921894bc2d2",
       "version_major": 2,
       "version_minor": 0
      },
      "text/plain": [
       "HBox(children=(Label(value='', layout=Layout(width='5%')), RadioButtons(options=('True', 'False'), value=None)…"
      ]
     },
     "metadata": {},
     "output_type": "display_data"
    },
    {
     "name": "stdout",
     "output_type": "stream",
     "text": [
      "\n",
      "\n"
     ]
    },
    {
     "data": {
      "text/markdown": [
       "5. **Multiple Choice**<br>The NumPy command `fx = np.fft.fft(x)` produces a discrete Fourier transform of the input vector `x`. If `x` contains `N` data points sampled with time step `dt`, what is the spacing in the frequency domain between the data points in `fx`?"
      ]
     },
     "metadata": {},
     "output_type": "display_data"
    },
    {
     "data": {
      "application/vnd.jupyter.widget-view+json": {
       "model_id": "b1b6627a9c5d43ef82a70b5df4b33758",
       "version_major": 2,
       "version_minor": 0
      },
      "text/plain": [
       "HBox(children=(Label(value='', layout=Layout(width='5%')), RadioButtons(layout=Layout(width='90%'), options=('…"
      ]
     },
     "metadata": {},
     "output_type": "display_data"
    },
    {
     "name": "stdout",
     "output_type": "stream",
     "text": [
      "\n",
      "\n"
     ]
    },
    {
     "data": {
      "text/markdown": [
       "6. **Multiple Choice**<br>Fourier transforms convert convolutions to"
      ]
     },
     "metadata": {},
     "output_type": "display_data"
    },
    {
     "data": {
      "application/vnd.jupyter.widget-view+json": {
       "model_id": "a384998c62484a5b9c6af82a8b90e69d",
       "version_major": 2,
       "version_minor": 0
      },
      "text/plain": [
       "HBox(children=(Label(value='', layout=Layout(width='5%')), RadioButtons(layout=Layout(width='90%'), options=('…"
      ]
     },
     "metadata": {},
     "output_type": "display_data"
    },
    {
     "name": "stdout",
     "output_type": "stream",
     "text": [
      "\n",
      "\n"
     ]
    },
    {
     "data": {
      "text/markdown": [
       "7. **Multiple Choice**<br>In our deduction of the response theory formalism, which of the following was **not** a physical constraint that we used to constrain the mathematical form for the dependence of $\\boldsymbol{P}(t)$ on $\\boldsymbol{E}(t)$?"
      ]
     },
     "metadata": {},
     "output_type": "display_data"
    },
    {
     "data": {
      "application/vnd.jupyter.widget-view+json": {
       "model_id": "4b71c47ce1e94955919508b608cf7cb7",
       "version_major": 2,
       "version_minor": 0
      },
      "text/plain": [
       "HBox(children=(Label(value='', layout=Layout(width='5%')), RadioButtons(layout=Layout(width='90%'), options=('…"
      ]
     },
     "metadata": {},
     "output_type": "display_data"
    },
    {
     "name": "stdout",
     "output_type": "stream",
     "text": [
      "\n",
      "\n"
     ]
    },
    {
     "data": {
      "text/markdown": [
       "8. **Multiple Choice**<br>In microscopic electrodynamics, we use the Lorentz force law to determine the influence of the electromagnetic field on the dynamics of charged particles. In macroscopic electrodynamics, we instead use what?"
      ]
     },
     "metadata": {},
     "output_type": "display_data"
    },
    {
     "data": {
      "application/vnd.jupyter.widget-view+json": {
       "model_id": "dc03a26a95034b39958e8be3ffcd6be5",
       "version_major": 2,
       "version_minor": 0
      },
      "text/plain": [
       "HBox(children=(Label(value='', layout=Layout(width='5%')), RadioButtons(layout=Layout(width='90%'), options=('…"
      ]
     },
     "metadata": {},
     "output_type": "display_data"
    },
    {
     "name": "stdout",
     "output_type": "stream",
     "text": [
      "\n",
      "\n"
     ]
    },
    {
     "data": {
      "text/markdown": [
       "9. **Multiple Choice**<br>The response theory framework can essentially be understood as a continuous-dimensional analog of"
      ]
     },
     "metadata": {},
     "output_type": "display_data"
    },
    {
     "data": {
      "application/vnd.jupyter.widget-view+json": {
       "model_id": "eb50c39843414d07a0ff018a1b1ee935",
       "version_major": 2,
       "version_minor": 0
      },
      "text/plain": [
       "HBox(children=(Label(value='', layout=Layout(width='5%')), RadioButtons(layout=Layout(width='90%'), options=('…"
      ]
     },
     "metadata": {},
     "output_type": "display_data"
    },
    {
     "name": "stdout",
     "output_type": "stream",
     "text": [
      "\n",
      "\n"
     ]
    },
    {
     "data": {
      "text/markdown": [
       "10. **Multiple Choice**<br>In the Response Theory expansion\\begin{align*}P_\\alpha^{(n)}(t) = \\sum_{\\alpha_1, ..., \\alpha_n} & \\int_{-\\infty}^\\infty d\\tau_n ... \\int_{-\\infty}^{\\infty} d\\tau_1 R_{\\alpha_1...\\alpha_n\\alpha}^{(n)}(\\tau_1, ..., \\tau_n) \\\\&\\times E_{\\alpha_1}(t - \\tau_1 - ... - \\tau_n) E_{\\alpha_2}(t - \\tau_2 - ... - \\tau_n) ... E_{\\alpha_n}(t - \\tau_n) . \\nonumber\\end{align*} the time delays $\\tau_i$ denote (most generally)"
      ]
     },
     "metadata": {},
     "output_type": "display_data"
    },
    {
     "data": {
      "application/vnd.jupyter.widget-view+json": {
       "model_id": "a4eff5c972964a5ea49a5d46fbc85f83",
       "version_major": 2,
       "version_minor": 0
      },
      "text/plain": [
       "HBox(children=(Label(value='', layout=Layout(width='5%')), RadioButtons(layout=Layout(width='90%'), options=('…"
      ]
     },
     "metadata": {},
     "output_type": "display_data"
    },
    {
     "name": "stdout",
     "output_type": "stream",
     "text": [
      "\n",
      "\n"
     ]
    },
    {
     "data": {
      "text/markdown": [
       "11. **Multiple Choice**<br>According to nonlinear response theory, the polarization density is generally expected **not** to contain components at which of the following frequencies?"
      ]
     },
     "metadata": {},
     "output_type": "display_data"
    },
    {
     "data": {
      "application/vnd.jupyter.widget-view+json": {
       "model_id": "a4770c96e8bc4ffda37247c3876308ae",
       "version_major": 2,
       "version_minor": 0
      },
      "text/plain": [
       "HBox(children=(Label(value='', layout=Layout(width='5%')), RadioButtons(layout=Layout(width='90%'), options=('…"
      ]
     },
     "metadata": {},
     "output_type": "display_data"
    },
    {
     "name": "stdout",
     "output_type": "stream",
     "text": [
      "\n",
      "\n"
     ]
    },
    {
     "data": {
      "text/markdown": [
       "12. **Multiple Choice**<br>A nonlinear process which is **not** phase-matched will"
      ]
     },
     "metadata": {},
     "output_type": "display_data"
    },
    {
     "data": {
      "application/vnd.jupyter.widget-view+json": {
       "model_id": "cad116313bb6425a97e43c03c50d4d6f",
       "version_major": 2,
       "version_minor": 0
      },
      "text/plain": [
       "HBox(children=(Label(value='', layout=Layout(width='5%')), RadioButtons(layout=Layout(width='90%'), options=('…"
      ]
     },
     "metadata": {},
     "output_type": "display_data"
    },
    {
     "name": "stdout",
     "output_type": "stream",
     "text": [
      "\n",
      "\n"
     ]
    },
    {
     "data": {
      "text/markdown": [
       "13. **Multiple Choice**<br>Fluorescence doesn't fit neatly into the nonlinear response framework we developed becayse it is"
      ]
     },
     "metadata": {},
     "output_type": "display_data"
    },
    {
     "data": {
      "application/vnd.jupyter.widget-view+json": {
       "model_id": "53b5b485661f435ca3a9fa103852f4b7",
       "version_major": 2,
       "version_minor": 0
      },
      "text/plain": [
       "HBox(children=(Label(value='', layout=Layout(width='5%')), RadioButtons(layout=Layout(width='90%'), options=('…"
      ]
     },
     "metadata": {},
     "output_type": "display_data"
    },
    {
     "name": "stdout",
     "output_type": "stream",
     "text": [
      "\n",
      "\n"
     ]
    },
    {
     "data": {
      "text/markdown": [
       "14. **Multiple Choice**<br>Absorption spectra often look like the **mirror image** of the corresponding"
      ]
     },
     "metadata": {},
     "output_type": "display_data"
    },
    {
     "data": {
      "application/vnd.jupyter.widget-view+json": {
       "model_id": "66e3f5897d884d3a9877326e753afb34",
       "version_major": 2,
       "version_minor": 0
      },
      "text/plain": [
       "HBox(children=(Label(value='', layout=Layout(width='5%')), RadioButtons(layout=Layout(width='90%'), options=('…"
      ]
     },
     "metadata": {},
     "output_type": "display_data"
    },
    {
     "name": "stdout",
     "output_type": "stream",
     "text": [
      "\n",
      "\n"
     ]
    },
    {
     "data": {
      "text/markdown": [
       "15. **Multiple Choice**<br>Hole burning spectroscopy is carried out at"
      ]
     },
     "metadata": {},
     "output_type": "display_data"
    },
    {
     "data": {
      "application/vnd.jupyter.widget-view+json": {
       "model_id": "44d86ce87e5c495e9a3eed95e5bcf318",
       "version_major": 2,
       "version_minor": 0
      },
      "text/plain": [
       "HBox(children=(Label(value='', layout=Layout(width='5%')), RadioButtons(layout=Layout(width='90%'), options=('…"
      ]
     },
     "metadata": {},
     "output_type": "display_data"
    },
    {
     "name": "stdout",
     "output_type": "stream",
     "text": [
      "\n",
      "\n"
     ]
    },
    {
     "data": {
      "text/markdown": [
       "16. **Multiple Choice**<br>At low temperatures, the bulk absorption spectrum is obtained from the single-site spectrum and the site-energy distribution function by"
      ]
     },
     "metadata": {},
     "output_type": "display_data"
    },
    {
     "data": {
      "application/vnd.jupyter.widget-view+json": {
       "model_id": "d6dc028b43bd46d69de2d1df16f4ee9d",
       "version_major": 2,
       "version_minor": 0
      },
      "text/plain": [
       "HBox(children=(Label(value='', layout=Layout(width='5%')), RadioButtons(layout=Layout(width='90%'), options=('…"
      ]
     },
     "metadata": {},
     "output_type": "display_data"
    },
    {
     "name": "stdout",
     "output_type": "stream",
     "text": [
      "\n",
      "\n"
     ]
    },
    {
     "data": {
      "text/markdown": [
       "17. **Short Answer**<br>In linear response, what quantity primarily determines the phase-shift (or change in wavelength) experienced by an electromagnetic wave propagating through a linear medium?"
      ]
     },
     "metadata": {},
     "output_type": "display_data"
    },
    {
     "data": {
      "application/vnd.jupyter.widget-view+json": {
       "model_id": "62c6e93a22e44961ad83ebd1baf67846",
       "version_major": 2,
       "version_minor": 0
      },
      "text/plain": [
       "HBox(children=(Label(value='', layout=Layout(width='5%')), Textarea(value='', description='Answer:', layout=La…"
      ]
     },
     "metadata": {},
     "output_type": "display_data"
    },
    {
     "name": "stdout",
     "output_type": "stream",
     "text": [
      "\n",
      "\n"
     ]
    },
    {
     "data": {
      "text/markdown": [
       "18. **Short Answer**<br>If $R^{(1)}(\\tau)$ is the linear response function for an isotropic sample, what quantity is defined by the integral $\\int_{-\\infty}^\\infty d\\tau R^{(1)}(\\tau) e^{i\\omega \\tau}$?"
      ]
     },
     "metadata": {},
     "output_type": "display_data"
    },
    {
     "data": {
      "application/vnd.jupyter.widget-view+json": {
       "model_id": "294f2ed9509d477cb3d70977dd748891",
       "version_major": 2,
       "version_minor": 0
      },
      "text/plain": [
       "HBox(children=(Label(value='', layout=Layout(width='5%')), Textarea(value='', description='Answer:', layout=La…"
      ]
     },
     "metadata": {},
     "output_type": "display_data"
    },
    {
     "name": "stdout",
     "output_type": "stream",
     "text": [
      "\n",
      "\n"
     ]
    },
    {
     "data": {
      "text/markdown": [
       "19. **Short Answer**<br>The response-theory expansion for the polarization $$P_\\alpha(t) = \\sum_{n=0}^\\infty P_\\alpha^{(n)}(t),$$ is an expansion in increasing powers of what quantity?"
      ]
     },
     "metadata": {},
     "output_type": "display_data"
    },
    {
     "data": {
      "application/vnd.jupyter.widget-view+json": {
       "model_id": "ce8930ea3ce9453195b5a265070d4c5a",
       "version_major": 2,
       "version_minor": 0
      },
      "text/plain": [
       "HBox(children=(Label(value='', layout=Layout(width='5%')), Textarea(value='', description='Answer:', layout=La…"
      ]
     },
     "metadata": {},
     "output_type": "display_data"
    },
    {
     "name": "stdout",
     "output_type": "stream",
     "text": [
      "\n",
      "\n"
     ]
    },
    {
     "data": {
      "text/markdown": [
       "20. **Short Answer**<br>In our simulations, we observed that induced polarizations decay more quickly in the presence of static randomized frequencies. Does this decay correspond to dephasing or dissipation? Does the resulting broadening in the absorption spectrum correspond to homogeneous or inhomogeneous broadening?"
      ]
     },
     "metadata": {},
     "output_type": "display_data"
    },
    {
     "data": {
      "application/vnd.jupyter.widget-view+json": {
       "model_id": "c4959e37c63045c1a47b0f63788e2374",
       "version_major": 2,
       "version_minor": 0
      },
      "text/plain": [
       "HBox(children=(Label(value='', layout=Layout(width='5%')), Textarea(value='', description='Answer:', layout=La…"
      ]
     },
     "metadata": {},
     "output_type": "display_data"
    },
    {
     "name": "stdout",
     "output_type": "stream",
     "text": [
      "\n",
      "\n"
     ]
    },
    {
     "data": {
      "text/markdown": [
       "21. **Short Answer**<br>What order of spectroscopy (first, second, third, etc.) is the pump-probe technique?"
      ]
     },
     "metadata": {},
     "output_type": "display_data"
    },
    {
     "data": {
      "application/vnd.jupyter.widget-view+json": {
       "model_id": "0bc7ba2035314813b9e6abe1dec8bcc4",
       "version_major": 2,
       "version_minor": 0
      },
      "text/plain": [
       "HBox(children=(Label(value='', layout=Layout(width='5%')), Textarea(value='', description='Answer:', layout=La…"
      ]
     },
     "metadata": {},
     "output_type": "display_data"
    },
    {
     "name": "stdout",
     "output_type": "stream",
     "text": [
      "\n",
      "\n"
     ]
    },
    {
     "data": {
      "text/markdown": [
       "22. **Interpret**<br>The plot below shows **polarization** traces for two samples excited by the same laser pulse (not shown). Which sample (A or B) will exhibit a **broader** absorption spectrum? How can you tell?"
      ]
     },
     "metadata": {},
     "output_type": "display_data"
    },
    {
     "data": {
      "application/vnd.jupyter.widget-view+json": {
       "model_id": "bfee317bc7f74460a0c1b0582a3b3b17",
       "version_major": 2,
       "version_minor": 0
      },
      "text/plain": [
       "VBox(children=(Output(), Button(description='Show Data', style=ButtonStyle(), tooltip='Click to show the input…"
      ]
     },
     "metadata": {},
     "output_type": "display_data"
    },
    {
     "data": {
      "application/vnd.jupyter.widget-view+json": {
       "model_id": "54be29cb52cc4ddf9066e1803e0d3efd",
       "version_major": 2,
       "version_minor": 0
      },
      "text/plain": [
       "HBox(children=(Label(value='', layout=Layout(width='5%')), Textarea(value='', description='Answer:', layout=La…"
      ]
     },
     "metadata": {},
     "output_type": "display_data"
    },
    {
     "name": "stdout",
     "output_type": "stream",
     "text": [
      "\n",
      "\n"
     ]
    },
    {
     "data": {
      "text/markdown": [
       "23. **Interpret**<br>Does the 2D spectrum below represent for a system dominated by homogeneous or inhomogeneous broadening? How can you tell?"
      ]
     },
     "metadata": {},
     "output_type": "display_data"
    },
    {
     "data": {
      "application/vnd.jupyter.widget-view+json": {
       "model_id": "a3ea9e00f9034d12b6c201ca37145668",
       "version_major": 2,
       "version_minor": 0
      },
      "text/plain": [
       "VBox(children=(Output(), Button(description='Show Data', style=ButtonStyle(), tooltip='Click to show the input…"
      ]
     },
     "metadata": {},
     "output_type": "display_data"
    },
    {
     "data": {
      "application/vnd.jupyter.widget-view+json": {
       "model_id": "ef405d44945a404eb149ec3a7391e763",
       "version_major": 2,
       "version_minor": 0
      },
      "text/plain": [
       "HBox(children=(Label(value='', layout=Layout(width='5%')), Textarea(value='', description='Answer:', layout=La…"
      ]
     },
     "metadata": {},
     "output_type": "display_data"
    },
    {
     "name": "stdout",
     "output_type": "stream",
     "text": [
      "\n",
      "\n"
     ]
    },
    {
     "data": {
      "text/markdown": [
       "24. **Interpret**<br>Which pump-probe series (A or B) corresponds to a system with faster **dephasing**? How can you tell?"
      ]
     },
     "metadata": {},
     "output_type": "display_data"
    },
    {
     "data": {
      "application/vnd.jupyter.widget-view+json": {
       "model_id": "3a45cc81bea2419ea137dbc8f8406684",
       "version_major": 2,
       "version_minor": 0
      },
      "text/plain": [
       "VBox(children=(Output(), Button(description='Show Data', style=ButtonStyle(), tooltip='Click to show the input…"
      ]
     },
     "metadata": {},
     "output_type": "display_data"
    },
    {
     "data": {
      "application/vnd.jupyter.widget-view+json": {
       "model_id": "f97a9dfd027f46bcbcdfb90233f66466",
       "version_major": 2,
       "version_minor": 0
      },
      "text/plain": [
       "HBox(children=(Label(value='', layout=Layout(width='5%')), Textarea(value='', description='Answer:', layout=La…"
      ]
     },
     "metadata": {},
     "output_type": "display_data"
    },
    {
     "name": "stdout",
     "output_type": "stream",
     "text": [
      "\n",
      "\n",
      "32.0  points possible\n"
     ]
    },
    {
     "data": {
      "text/markdown": [
       "## Submission File"
      ]
     },
     "metadata": {},
     "output_type": "display_data"
    },
    {
     "data": {
      "text/markdown": [
       "Enter your username and click the button to create your submission file."
      ]
     },
     "metadata": {},
     "output_type": "display_data"
    },
    {
     "data": {
      "application/vnd.jupyter.widget-view+json": {
       "model_id": "e7578b5e25194e7281050d076ba4c238",
       "version_major": 2,
       "version_minor": 0
      },
      "text/plain": [
       "HBox(children=(Text(value='', description='Purdue ID:', placeholder='User name'), Button(description='Generate…"
      ]
     },
     "metadata": {},
     "output_type": "display_data"
    }
   ],
   "source": [
    "QList = [\n",
    "             exam_question(\n",
    "             'multichoice',\n",
    "             'The NumPy command `fx = np.fft.fft(x)` produces a discrete Fourier transform of the input vector `x`. If `x` contains `N` data points sampled with time step `dt`, what is the spacing in the frequency domain between the data points in `fx`?',\n",
    "             ['df = 1/(N*dt)',\n",
    "              'df = 1/dt',\n",
    "              'df = N*dt',\n",
    "              'df = N/dt']),\n",
    "         \n",
    "         exam_question(\n",
    "             'multichoice',\n",
    "             'Fourier transforms convert convolutions to',\n",
    "             ['Algebraic sums',\n",
    "             'Time derivatives',\n",
    "              'Products',\n",
    "              'More convolutions']),\n",
    "    \n",
    "        exam_question(\n",
    "            'multichoice',\n",
    "            'In our deduction of the response theory formalism, which of the following was **not** a physical constraint that we used to constrain the mathematical form for the dependence of $\\\\boldsymbol{P}(t)$ on $\\\\boldsymbol{E}(t)$?',\n",
    "            ['Stability', \n",
    "             'Causality',\n",
    "             'Integrability',\n",
    "             'Locality']),\n",
    "    \n",
    "        exam_question(\n",
    "            'multichoice',\n",
    "            'In microscopic electrodynamics, we use the Lorentz force law to determine the influence of the electromagnetic field on the dynamics of charged particles. In macroscopic electrodynamics, we instead use what?',\n",
    "            ['Response theory',\n",
    "            'The polarization density',\n",
    "             'The conservation of energy',\n",
    "             'The Coulomb potential']),\n",
    "    \n",
    "        exam_question(\n",
    "            'multichoice',\n",
    "            'The response theory framework can essentially be understood as a continuous-dimensional analog of',\n",
    "            ['A Fourier transform',\n",
    "            'Gram-Schmidt orthogonalization',\n",
    "             'The rotating wave approximation',\n",
    "             'A Taylor series']),\n",
    "        \n",
    "        exam_question(\n",
    "            'truefalse',\n",
    "            'In isotropic media, Neumann\\'s principle dictates that even-order polarizations must vanish.',\n",
    "            ['True', 'False']),\n",
    "\n",
    "        exam_question(\n",
    "            'multichoice',\n",
    "            'In the Response Theory expansion\\\\begin{align*}P_\\\\alpha^{(n)}(t) = \\\\sum_{\\\\alpha_1, ..., \\\\alpha_n} & \\\\int_{-\\\\infty}^\\\\infty d\\\\tau_n ... \\int_{-\\infty}^{\\infty} d\\\\tau_1 R_{\\\\alpha_1...\\\\alpha_n\\\\alpha}^{(n)}(\\\\tau_1, ..., \\\\tau_n) \\\\\\\\&\\\\times E_{\\\\alpha_1}(t - \\\\tau_1 - ... - \\\\tau_n) E_{\\\\alpha_2}(t - \\\\tau_2 - ... - \\\\tau_n) ... E_{\\\\alpha_n}(t - \\\\tau_n) . \\\\nonumber\\\\end{align*} the time delays $\\\\tau_i$ denote (most generally)',\n",
    "            ['Time delays between laser pulses',\n",
    "            'Time intervals between field-matter interactions',\n",
    "            'Decay times for different molecular species',\n",
    "            'Times of great sorrow']),\n",
    "    \n",
    "        exam_question(\n",
    "            'truefalse',\n",
    "            'Absorption spectroscopy probes the real part of the response function',\n",
    "            ['True', 'False']\n",
    "        ),\n",
    "    \n",
    "        exam_question(\n",
    "            'truefalse',\n",
    "            'The refractive index $n(\\\\omega)$ is related to the linear susceptibility $\\\\chi^{(1)}(\\\\omega)$ by the equation $$n(\\omega) = Re \\\\sqrt{1 + 4 \\\\pi \\\\chi^{(1)}(\\\\omega)}$$',\n",
    "            ['True', 'False']),\n",
    "    \n",
    "        exam_question(\n",
    "            'shortanswer',\n",
    "            'In linear response, what quantity primarily determines the phase-shift (or change in wavelength) experienced by an electromagnetic wave propagating through a linear medium?',\n",
    "            []),\n",
    "    \n",
    "        exam_question(\n",
    "            'shortanswer',\n",
    "            'If $R^{(1)}(\\\\tau)$ is the linear response function for an isotropic sample, what quantity is defined by the integral $\\\\int_{-\\\\infty}^\\\\infty d\\\\tau R^{(1)}(\\\\tau) e^{i\\\\omega \\\\tau}$?',\n",
    "            []),\n",
    "    \n",
    "        exam_question(\n",
    "            'shortanswer',\n",
    "            'The response-theory expansion for the polarization $$P_\\\\alpha(t) = \\\\sum_{n=0}^\\\\infty P_\\\\alpha^{(n)}(t),$$ is an expansion in increasing powers of what quantity?',\n",
    "            []),\n",
    "    \n",
    "\n",
    "            exam_question(\n",
    "                'truefalse',\n",
    "                'Maxwell\\'s equations in vacuum support only longitudinal fields.',\n",
    "                ['True',\n",
    "                 'False']),\n",
    "    \n",
    "            exam_question(\n",
    "                'multichoice',\n",
    "                'According to nonlinear response theory, the polarization density is generally expected **not** to contain components at which of the following frequencies?',\n",
    "                ['The laser frequency',\n",
    "                 'Twice the laser frequency',\n",
    "                 'Half the laser frequency',\n",
    "                 'Three times the laser frequency']),\n",
    "        \n",
    "            exam_question(\n",
    "                'multichoice',\n",
    "                'A nonlinear process which is **not** phase-matched will',\n",
    "                ['Generate a large signal field',\n",
    "                'Fail to generate a material polarization',\n",
    "                'Fail to radiate',\n",
    "                'Tear the space-time continuum']),\n",
    "    \n",
    "            exam_question(\n",
    "                'multichoice',\n",
    "                'Fluorescence doesn\\'t fit neatly into the nonlinear response framework we developed becayse it is',\n",
    "                ['Inherently evil',\n",
    "                'A quantum-mechanical effect',\n",
    "                 'Incoherent',\n",
    "                 'Macroscopic']),\n",
    "    \n",
    "            exam_question(\n",
    "                'multichoice',\n",
    "                'Absorption spectra often look like the **mirror image** of the corresponding',\n",
    "                ['Fluorescence excitation spectrum',\n",
    "                 'Fluorescence emission spectrum',\n",
    "                 'Both (a) and (b)',\n",
    "                 'Neither (a) nor (b)']),\n",
    "\n",
    "            exam_question(\n",
    "            'multichoice',\n",
    "            'Hole burning spectroscopy is carried out at',\n",
    "            ['Low temperatures',\n",
    "             'High temperatures',\n",
    "             'High vacuum',\n",
    "             'Small volumes']),\n",
    "            \n",
    "    \n",
    "            exam_question(\n",
    "                'multichoice',\n",
    "                'At low temperatures, the bulk absorption spectrum is obtained from the single-site spectrum and the site-energy distribution function by',\n",
    "                ['Fourier transformation',\n",
    "                'Convolution',\n",
    "                'Involution',\n",
    "                'Multiplication']),\n",
    "    \n",
    "            exam_question(\n",
    "                'shortanswer',\n",
    "                'In our simulations, we observed that induced polarizations decay more quickly in the presence of static randomized frequencies. Does this decay correspond to dephasing or dissipation? Does the resulting broadening in the absorption spectrum correspond to homogeneous or inhomogeneous broadening?',\n",
    "                []),\n",
    "    \n",
    "            exam_question(\n",
    "                'shortanswer',\n",
    "                'What order of spectroscopy (first, second, third, etc.) is the pump-probe technique?',\n",
    "                []),\n",
    "    \n",
    "exam_question(\n",
    "'interpret',\n",
    "'The plot below shows **polarization** traces for two samples excited by the same laser pulse (not shown). \\\n",
    "Which sample (A or B) will exhibit a **broader** absorption spectrum? How can you tell?',\n",
    "[],\n",
    "code='taxis = np.arange(0.0, 2.0e-12, 1.0e-15)\\n\\\n",
    "nu = 50.0e+12\\n\\\n",
    "tau1 = 300e-15\\n\\\n",
    "tau2 = 800e-15\\n\\\n",
    "polA = np.sin(2.0*math.pi*nu*taxis)*np.exp(-taxis/tau1)\\n\\\n",
    "polB = np.sin(2.0*math.pi*nu*taxis)*np.exp(-taxis/tau2)\\n\\\n",
    "plt.figure(figsize=(3,3))\\n\\\n",
    "plt.plot(taxis*1e+15, polB, \\'b\\', label=\\'A\\')\\n\\\n",
    "plt.plot(taxis*1e+15, polA, \\'r\\', label=\\'B\\')\\n\\\n",
    "plt.xlabel(\\'Time (fs)\\')\\n\\\n",
    "plt.legend()\\n\\\n",
    "plt.tight_layout()\\n\\\n",
    "plt.show()'),\n",
    "    \n",
    "    \n",
    "exam_question(\n",
    "'interpret',\n",
    "'Does the 2D spectrum below represent for a system dominated by homogeneous or inhomogeneous broadening? How can you tell?',\n",
    "[],\n",
    "code='vaxis = np.arange(1600.0,1700.0,1.0)\\n\\\n",
    "theta = 0*(-math.pi/180.0)\\n\\\n",
    "wid1 = 50.0\\n\\\n",
    "wid2 = 50.0\\n\\\n",
    "v0 = 1650.0\\n\\\n",
    "delta = 20.0\\n\\\n",
    "vb = v0\\n\\\n",
    "vr = v0 - delta\\n\\\n",
    "vv1,vv2 = np.meshgrid(vaxis,vaxis)\\n\\\n",
    "rvec1r = +(vv1-v0)*np.cos(theta) + (vv2-vr)*np.sin(theta)\\n\\\n",
    "rvec2r = -(vv1-v0)*np.sin(theta) + (vv2-vr)*np.cos(theta)\\n\\\n",
    "sigr = np.exp(-(rvec1r)**2/wid1)*np.exp(-(rvec2r)**2/wid2)\\n\\\n",
    "rvec1b = +(vv1-v0)*np.cos(theta) + (vv2-vb)*np.sin(theta)\\n\\\n",
    "rvec2b = -(vv1-v0)*np.sin(theta) + (vv2-vb)*np.cos(theta)\\n\\\n",
    "sigb = np.exp(-(rvec1b)**2/wid1)*np.exp(-(rvec2b)**2/wid2)\\n\\\n",
    "plt.figure(figsize=(4,4))\\n\\\n",
    "plt.contourf(vv1,vv2,sigr-sigb, 25)\\n\\\n",
    "plt.gca().set_aspect(aspect=1.0)\\n\\\n",
    "plt.set_cmap(plt.cm.get_cmap(\\'bwr\\'))\\n\\\n",
    "plt.xlabel(\\'$\\\\omega_1/2 \\pi c$ (cm$^{-1}$)\\')\\n\\\n",
    "plt.ylabel(\\'$\\\\omega_3/2 \\pi c$ (cm$^{-1}$)\\')\\n\\\n",
    "plt.tight_layout()\\n\\\n",
    "plt.show()'\n",
    "),\n",
    "\n",
    "\n",
    "exam_question(\n",
    "'interpret',\n",
    "'Which pump-probe series (A or B) corresponds to a system with faster **dephasing**? How can you tell?',\n",
    "[],\n",
    "code='taxis = np.arange(0, 3.0e-12, 1.0e-15)\\n\\\n",
    "vaxis = np.arange(1550, 1750, 1.0)\\n\\\n",
    "tt,vv = np.meshgrid(taxis, vaxis)\\n\\\n",
    "v0 = 1650\\n\\\n",
    "sigw1 = 20.0\\n\\\n",
    "sigw2 = 50.0\\n\\\n",
    "tau1 = 0.5e-12\\n\\\n",
    "tau2 = 1.0e-12\\n\\\n",
    "sig1 = (vv-v0)*np.exp(-(vv-v0)**2/(2.0*sigw1**2))*np.exp(-tt/tau1)\\n\\\n",
    "sig2 = (vv-v0)*np.exp(-(vv-v0)**2/(2.0*sigw2**2))*np.exp(-tt/tau2)\\n\\\n",
    "plt.figure(figsize=(6,3))\\n\\\n",
    "plt.subplot(1,2,1)\\n\\\n",
    "plt.contourf(tt*1e+15,vv,sig1,25)\\n\\\n",
    "plt.xlabel(\\'Time (fs)\\')\\n\\\n",
    "plt.ylabel(\\'Freuqency (cm$^{-1}$\\')\\n\\\n",
    "plt.text(taxis[-1]*0.8*1e+15, 1700, \\'A\\', fontsize=32)\\n\\\n",
    "plt.subplot(1,2,2)\\n\\\n",
    "plt.contourf(tt*1e+15,vv,sig2,25)\\n\\\n",
    "plt.xlabel(\\'Time (fs)\\')\\n\\\n",
    "plt.ylabel(\\'Freuqency (cm$^{-1}$\\')\\n\\\n",
    "plt.text(taxis[-1]*0.8*1e+15, 1700, \\'B\\', fontsize=32)\\n\\\n",
    "plt.tight_layout()\\n\\\n",
    "plt.show()'\n",
    "),\n",
    "    \n",
    "    \n",
    "]\n",
    "\n",
    "\n",
    "QList = sort_qlist(QList)\n",
    "display_questions()\n",
    "display_markdown('## Submission File', raw=True)\n",
    "display_markdown('Enter your username and click the button to create your submission file.', raw=True)\n",
    "display(widgets.HBox([txt_uname, write_button]))"
   ]
  },
  {
   "cell_type": "code",
   "execution_count": null,
   "metadata": {},
   "outputs": [],
   "source": []
  },
  {
   "cell_type": "code",
   "execution_count": null,
   "metadata": {},
   "outputs": [],
   "source": []
  }
 ],
 "metadata": {
  "kernelspec": {
   "display_name": "Python 3.8",
   "language": "python",
   "name": "python3"
  },
  "language_info": {
   "codemirror_mode": {
    "name": "ipython",
    "version": 3
   },
   "file_extension": ".py",
   "mimetype": "text/x-python",
   "name": "python",
   "nbconvert_exporter": "python",
   "pygments_lexer": "ipython3",
   "version": "3.8.10"
  },
  "toc": {
   "base_numbering": 1,
   "nav_menu": {},
   "number_sections": true,
   "sideBar": true,
   "skip_h1_title": false,
   "title_cell": "Table of Contents",
   "title_sidebar": "Contents",
   "toc_cell": false,
   "toc_position": {},
   "toc_section_display": true,
   "toc_window_display": false
  },
  "varInspector": {
   "cols": {
    "lenName": 16,
    "lenType": 16,
    "lenVar": 40
   },
   "kernels_config": {
    "python": {
     "delete_cmd_postfix": "",
     "delete_cmd_prefix": "del ",
     "library": "var_list.py",
     "varRefreshCmd": "print(var_dic_list())"
    },
    "r": {
     "delete_cmd_postfix": ") ",
     "delete_cmd_prefix": "rm(",
     "library": "var_list.r",
     "varRefreshCmd": "cat(var_dic_list()) "
    }
   },
   "types_to_exclude": [
    "module",
    "function",
    "builtin_function_or_method",
    "instance",
    "_Feature"
   ],
   "window_display": false
  },
  "widgets": {
   "application/vnd.jupyter.widget-state+json": {
    "state": {
     "0004e45dd2ac4f0e8844c866aea3d63f": {
      "model_module": "@jupyter-widgets/controls",
      "model_module_version": "1.5.0",
      "model_name": "HBoxModel",
      "state": {
       "children": [
        "IPY_MODEL_1f76c4e9d77a48838690fa53cd74239f",
        "IPY_MODEL_3eead9570168479595c27fdb6ac1721e"
       ],
       "layout": "IPY_MODEL_04535edd22ba47ea9a9afa79f88cad6f"
      }
     },
     "001dfcfb60574d87b5c18768f09a44f9": {
      "model_module": "@jupyter-widgets/controls",
      "model_module_version": "1.5.0",
      "model_name": "DescriptionStyleModel",
      "state": {
       "description_width": ""
      }
     },
     "00252bb1e873462a95c117bd3f7ab0c5": {
      "model_module": "@jupyter-widgets/base",
      "model_module_version": "1.2.0",
      "model_name": "LayoutModel",
      "state": {
       "width": "5%"
      }
     },
     "002d59c9d9364a3d91c8fb7421281f0a": {
      "model_module": "@jupyter-widgets/controls",
      "model_module_version": "1.5.0",
      "model_name": "LabelModel",
      "state": {
       "layout": "IPY_MODEL_6b15525eea8c487cbd430cd9c831bb1a",
       "style": "IPY_MODEL_5e2634f6cdcf431d9ec67c55b11a3fbf"
      }
     },
     "003c3e639e8d4a70be5d39f7cc6d360e": {
      "model_module": "@jupyter-widgets/base",
      "model_module_version": "1.2.0",
      "model_name": "LayoutModel",
      "state": {
       "width": "90%"
      }
     },
     "004055b232164d8d8c8840a354b204ad": {
      "model_module": "@jupyter-widgets/controls",
      "model_module_version": "1.5.0",
      "model_name": "HBoxModel",
      "state": {
       "children": [
        "IPY_MODEL_735201103226483e8772be5ea90a9da7",
        "IPY_MODEL_1bd55816a03149bd8db48c6f43afeb6b"
       ],
       "layout": "IPY_MODEL_989c0466455045c9b20a0c914287f49d"
      }
     },
     "004169c2422146ffa66f8ab232e1017e": {
      "model_module": "@jupyter-widgets/base",
      "model_module_version": "1.2.0",
      "model_name": "LayoutModel",
      "state": {}
     },
     "005c235c10ac4fd1ac4bda37f86c3eac": {
      "model_module": "@jupyter-widgets/base",
      "model_module_version": "1.2.0",
      "model_name": "LayoutModel",
      "state": {
       "width": "5%"
      }
     },
     "0085a7db9e3a4adba22dc2ee72a97512": {
      "model_module": "@jupyter-widgets/base",
      "model_module_version": "1.2.0",
      "model_name": "LayoutModel",
      "state": {}
     },
     "00c0ad43b960462e8728760ed8dfbbb9": {
      "model_module": "@jupyter-widgets/controls",
      "model_module_version": "1.5.0",
      "model_name": "HBoxModel",
      "state": {
       "children": [
        "IPY_MODEL_c4745f63ee584d6fbd08e1939844cfda",
        "IPY_MODEL_43275c961dcf47ff8b7fb669b25f20f3"
       ],
       "layout": "IPY_MODEL_60a96bde6c5a4f60bcd43dcc9ae705b4"
      }
     },
     "00e477a57ec145f7b9cd635161e78ea0": {
      "model_module": "@jupyter-widgets/controls",
      "model_module_version": "1.5.0",
      "model_name": "LabelModel",
      "state": {
       "layout": "IPY_MODEL_fd1983ed002e4da7b22e5650fc19c6bc",
       "style": "IPY_MODEL_1acbacc87af2426aa5a744f40ba47523"
      }
     },
     "00fc5531227d4ef7914cfd1cdfe08cf2": {
      "model_module": "@jupyter-widgets/controls",
      "model_module_version": "1.5.0",
      "model_name": "RadioButtonsModel",
      "state": {
       "_options_labels": [
        "a. The Coulomb potential",
        "b. Mental anguish",
        "c. Propagating electromagnetic waves",
        "d. More charges"
       ],
       "index": 0,
       "layout": "IPY_MODEL_818be3f762924b7fb59ff2e6646039f7",
       "style": "IPY_MODEL_9cf45ea60327430db88c857bd6c43712"
      }
     },
     "010bb3fa750b429794421f3641987b1a": {
      "model_module": "@jupyter-widgets/base",
      "model_module_version": "1.2.0",
      "model_name": "LayoutModel",
      "state": {}
     },
     "01249340c74a4007a762127abb633700": {
      "model_module": "@jupyter-widgets/controls",
      "model_module_version": "1.5.0",
      "model_name": "DescriptionStyleModel",
      "state": {
       "description_width": ""
      }
     },
     "012ee3a50eae4dcbae73f0ff30d1de28": {
      "model_module": "@jupyter-widgets/controls",
      "model_module_version": "1.5.0",
      "model_name": "LabelModel",
      "state": {
       "layout": "IPY_MODEL_33c8482b1851462b85c4a0e87bac1339",
       "style": "IPY_MODEL_340de0988632400497a9ae65a91d2dc3"
      }
     },
     "0134020bfb664fc29662348f5053eb11": {
      "model_module": "@jupyter-widgets/base",
      "model_module_version": "1.2.0",
      "model_name": "LayoutModel",
      "state": {}
     },
     "0151eae18ce84e409a98553bf8c73b8f": {
      "model_module": "@jupyter-widgets/controls",
      "model_module_version": "1.5.0",
      "model_name": "DescriptionStyleModel",
      "state": {
       "description_width": ""
      }
     },
     "015c58c148a14502a3bdef023c2ead12": {
      "model_module": "@jupyter-widgets/base",
      "model_module_version": "1.2.0",
      "model_name": "LayoutModel",
      "state": {}
     },
     "0170b52a7c5e4c3d98ca323e47885e03": {
      "model_module": "@jupyter-widgets/controls",
      "model_module_version": "1.5.0",
      "model_name": "DescriptionStyleModel",
      "state": {
       "description_width": ""
      }
     },
     "017645daf9974587862f9f8d1f24a701": {
      "model_module": "@jupyter-widgets/controls",
      "model_module_version": "1.5.0",
      "model_name": "HBoxModel",
      "state": {
       "children": [
        "IPY_MODEL_cb485a8d1d124dfb891b425a3267a11f",
        "IPY_MODEL_57211a988bff43cea5ccae28f56a61c5"
       ],
       "layout": "IPY_MODEL_c45c9d432db140b19a0d47e5f9be9797"
      }
     },
     "0177bf14ab6548a1836045516249c4c1": {
      "model_module": "@jupyter-widgets/output",
      "model_module_version": "1.0.0",
      "model_name": "OutputModel",
      "state": {
       "layout": "IPY_MODEL_fb0a2ba858e54f0cbf07891599ce8783"
      }
     },
     "017a03ea9c9f42309f36b054b40c5089": {
      "model_module": "@jupyter-widgets/base",
      "model_module_version": "1.2.0",
      "model_name": "LayoutModel",
      "state": {}
     },
     "019ce509c5914ed8b281bc0700b56f2c": {
      "model_module": "@jupyter-widgets/controls",
      "model_module_version": "1.5.0",
      "model_name": "LabelModel",
      "state": {
       "layout": "IPY_MODEL_9f8587a9afcd4a0e902367c72470fadb",
       "style": "IPY_MODEL_e90a5ee7815142c18d4a65e661bc0013"
      }
     },
     "01ae8c4ac0384c33a6dd47e8fab5ad83": {
      "model_module": "@jupyter-widgets/base",
      "model_module_version": "1.2.0",
      "model_name": "LayoutModel",
      "state": {}
     },
     "01b6b5a716fb4799a229e8a19d26a6c3": {
      "model_module": "@jupyter-widgets/controls",
      "model_module_version": "1.5.0",
      "model_name": "HBoxModel",
      "state": {
       "children": [
        "IPY_MODEL_31d41def9c1d4b4d89ee709c612ace9a",
        "IPY_MODEL_ddf5ee80d0f440afa924017413f1a4a5"
       ],
       "layout": "IPY_MODEL_0dca79c76ef840a68b560d65c56c1ec8"
      }
     },
     "01d6b10a36e742c1a222f138e07420b4": {
      "model_module": "@jupyter-widgets/base",
      "model_module_version": "1.2.0",
      "model_name": "LayoutModel",
      "state": {}
     },
     "01efbcf25dc540a7875063381613c794": {
      "model_module": "@jupyter-widgets/controls",
      "model_module_version": "1.5.0",
      "model_name": "ButtonStyleModel",
      "state": {}
     },
     "01f32752f67a43b0aafe047978b5c801": {
      "model_module": "@jupyter-widgets/base",
      "model_module_version": "1.2.0",
      "model_name": "LayoutModel",
      "state": {}
     },
     "02052db4157e413e8e747d8a4b39f64b": {
      "model_module": "@jupyter-widgets/base",
      "model_module_version": "1.2.0",
      "model_name": "LayoutModel",
      "state": {}
     },
     "021a4bddadbe4f17a99d584127ca1bd0": {
      "model_module": "@jupyter-widgets/controls",
      "model_module_version": "1.5.0",
      "model_name": "DescriptionStyleModel",
      "state": {
       "description_width": ""
      }
     },
     "0228e8e611924a4aac224b0db50a97b0": {
      "model_module": "@jupyter-widgets/base",
      "model_module_version": "1.2.0",
      "model_name": "LayoutModel",
      "state": {}
     },
     "02478cce6d1042d48ba7f4f184105447": {
      "model_module": "@jupyter-widgets/controls",
      "model_module_version": "1.5.0",
      "model_name": "DescriptionStyleModel",
      "state": {
       "description_width": ""
      }
     },
     "0248fa6131cf47e7bb4fdcb348537260": {
      "model_module": "@jupyter-widgets/controls",
      "model_module_version": "1.5.0",
      "model_name": "RadioButtonsModel",
      "state": {
       "_options_labels": [
        "True",
        "False"
       ],
       "index": 0,
       "layout": "IPY_MODEL_93b86ed44f0547e8b690d3d5d75e3faa",
       "style": "IPY_MODEL_cb3d31c112274774a19b8ec9407634dc"
      }
     },
     "024a081d96d2442f867e6ad4515f0096": {
      "model_module": "@jupyter-widgets/controls",
      "model_module_version": "1.5.0",
      "model_name": "DescriptionStyleModel",
      "state": {
       "description_width": ""
      }
     },
     "025a25c0295d44ccb9775d60471180c2": {
      "model_module": "@jupyter-widgets/controls",
      "model_module_version": "1.5.0",
      "model_name": "TextareaModel",
      "state": {
       "description": "Answer:",
       "layout": "IPY_MODEL_146f583ad7054131b7856abea711f215",
       "placeholder": "Type something",
       "style": "IPY_MODEL_a3b2875361174594898b19f2225e7d27"
      }
     },
     "0265e2f54ec84dacb7fc71fa35fcd0a4": {
      "model_module": "@jupyter-widgets/base",
      "model_module_version": "1.2.0",
      "model_name": "LayoutModel",
      "state": {
       "width": "5%"
      }
     },
     "0268af02d48d4be9a58d1ff799b6e5d3": {
      "model_module": "@jupyter-widgets/controls",
      "model_module_version": "1.5.0",
      "model_name": "LabelModel",
      "state": {
       "layout": "IPY_MODEL_2c146c767ecc42beb17144931aa9eb9d",
       "style": "IPY_MODEL_28c3ec45b5e741a4972a42fffe7a44fc"
      }
     },
     "026e801428384f6a8f774ca2edacb0e4": {
      "model_module": "@jupyter-widgets/controls",
      "model_module_version": "1.5.0",
      "model_name": "LabelModel",
      "state": {
       "layout": "IPY_MODEL_8b0c42e73fb642eab3578b2f9067394d",
       "style": "IPY_MODEL_b4dc3a29579348e5b64adbbc107163e1"
      }
     },
     "0286ba69c47545cdad65a9a4363bc319": {
      "model_module": "@jupyter-widgets/controls",
      "model_module_version": "1.5.0",
      "model_name": "DescriptionStyleModel",
      "state": {
       "description_width": ""
      }
     },
     "0289e6a2207246988193e881c958c5cb": {
      "model_module": "@jupyter-widgets/base",
      "model_module_version": "1.2.0",
      "model_name": "LayoutModel",
      "state": {
       "width": "5%"
      }
     },
     "02929bdacb944261bbd758025bd330f9": {
      "model_module": "@jupyter-widgets/controls",
      "model_module_version": "1.5.0",
      "model_name": "DescriptionStyleModel",
      "state": {
       "description_width": ""
      }
     },
     "029afed2747246f691e0b83143a4ac79": {
      "model_module": "@jupyter-widgets/controls",
      "model_module_version": "1.5.0",
      "model_name": "TextareaModel",
      "state": {
       "description": "String:",
       "layout": "IPY_MODEL_bb7a1fdc5dac4edeaf2d92e2755f7bb7",
       "placeholder": "Type something",
       "style": "IPY_MODEL_bae9db7238bf4212904f391062fce88f"
      }
     },
     "02c6225720e4430cafd46db1b3ca2df1": {
      "model_module": "@jupyter-widgets/controls",
      "model_module_version": "1.5.0",
      "model_name": "RadioButtonsModel",
      "state": {
       "_options_labels": [
        "a. Far field",
        "b. Near field",
        "c. Both near field and far field",
        "d. Neither near field nor far field"
       ],
       "index": 2,
       "layout": "IPY_MODEL_63d76dd5b9f74fe99bf736c737d0db11",
       "style": "IPY_MODEL_acaeb2f98d2945f094834746f48cf6d8"
      }
     },
     "03109a5e8ab044d49c81e10a7dbadc8f": {
      "model_module": "@jupyter-widgets/base",
      "model_module_version": "1.2.0",
      "model_name": "LayoutModel",
      "state": {}
     },
     "03333d53b4984ab6b2e114ec9f60f937": {
      "model_module": "@jupyter-widgets/base",
      "model_module_version": "1.2.0",
      "model_name": "LayoutModel",
      "state": {}
     },
     "03708b7b777a430daf523a569715df87": {
      "model_module": "@jupyter-widgets/output",
      "model_module_version": "1.0.0",
      "model_name": "OutputModel",
      "state": {
       "layout": "IPY_MODEL_7361fa25e6fc47238ac590846f32b87a"
      }
     },
     "037af4080f6d4602bc4c600b998aa483": {
      "model_module": "@jupyter-widgets/controls",
      "model_module_version": "1.5.0",
      "model_name": "LabelModel",
      "state": {
       "layout": "IPY_MODEL_069796c160c847feb951ec575d579b53",
       "style": "IPY_MODEL_5fa43fa758ab4f13be7535a2dd82fba7"
      }
     },
     "03b771af871a4daca5289e22fcd127b9": {
      "model_module": "@jupyter-widgets/controls",
      "model_module_version": "1.5.0",
      "model_name": "TextareaModel",
      "state": {
       "description": "Code:",
       "layout": "IPY_MODEL_762fbc01dbcb45b48c4404bec7e8118d",
       "placeholder": "Type code here",
       "style": "IPY_MODEL_3e5385685cff4fa2922893114af8bf3f"
      }
     },
     "03c4c58060f34cebb1412e22d42cc50b": {
      "model_module": "@jupyter-widgets/base",
      "model_module_version": "1.2.0",
      "model_name": "LayoutModel",
      "state": {
       "width": "5%"
      }
     },
     "03d2412c415a41f2bc0f4cf71c67c63e": {
      "model_module": "@jupyter-widgets/controls",
      "model_module_version": "1.5.0",
      "model_name": "TextareaModel",
      "state": {
       "description": "Code:",
       "layout": "IPY_MODEL_8f8a891fdd9549a88dfe88af01933e74",
       "placeholder": "Type code here",
       "style": "IPY_MODEL_843fcb072c644d59a1a31e3f2f134aa6"
      }
     },
     "03d3fd5f32c446f4b44847a2eb5b2329": {
      "model_module": "@jupyter-widgets/base",
      "model_module_version": "1.2.0",
      "model_name": "LayoutModel",
      "state": {
       "width": "5%"
      }
     },
     "03d58e01c9cb412ab1cf8d672f4e400b": {
      "model_module": "@jupyter-widgets/controls",
      "model_module_version": "1.5.0",
      "model_name": "RadioButtonsModel",
      "state": {
       "_options_labels": [
        "a. The electric field",
        "b. The charge density",
        "c. The current density",
        "d. Both b and c"
       ],
       "index": 0,
       "layout": "IPY_MODEL_67ad00c2054a4685bdda18f3cb63fde5",
       "style": "IPY_MODEL_fe543f6e4330493b90c1146a1af6c7c9"
      }
     },
     "03ef20c524e541bcb39dc6c309f16e35": {
      "model_module": "@jupyter-widgets/base",
      "model_module_version": "1.2.0",
      "model_name": "LayoutModel",
      "state": {
       "width": "5%"
      }
     },
     "0402d5dd3762406287d0b134894d5c36": {
      "model_module": "@jupyter-widgets/controls",
      "model_module_version": "1.5.0",
      "model_name": "DescriptionStyleModel",
      "state": {
       "description_width": ""
      }
     },
     "0404bcc320f54039ada804d9862339eb": {
      "model_module": "@jupyter-widgets/controls",
      "model_module_version": "1.5.0",
      "model_name": "DescriptionStyleModel",
      "state": {
       "description_width": ""
      }
     },
     "04209f8f94a6417aae05cc589551881e": {
      "model_module": "@jupyter-widgets/controls",
      "model_module_version": "1.5.0",
      "model_name": "LabelModel",
      "state": {
       "layout": "IPY_MODEL_ac4f40cce26747aeb8c3cec5192f5943",
       "style": "IPY_MODEL_c8b48b510b9a4f4fa8ae4b672a8f4b28"
      }
     },
     "04222072c92748a0a20119fa7c1b0331": {
      "model_module": "@jupyter-widgets/controls",
      "model_module_version": "1.5.0",
      "model_name": "DescriptionStyleModel",
      "state": {
       "description_width": ""
      }
     },
     "0429437e989841f3b435b97923629e9f": {
      "model_module": "@jupyter-widgets/base",
      "model_module_version": "1.2.0",
      "model_name": "LayoutModel",
      "state": {}
     },
     "042cca2758fa46639c7059b7007b983f": {
      "model_module": "@jupyter-widgets/controls",
      "model_module_version": "1.5.0",
      "model_name": "DescriptionStyleModel",
      "state": {
       "description_width": ""
      }
     },
     "0433e7ba4a444c39a66660775e312d75": {
      "model_module": "@jupyter-widgets/output",
      "model_module_version": "1.0.0",
      "model_name": "OutputModel",
      "state": {
       "layout": "IPY_MODEL_508198b99db7430fae39ff920569e069"
      }
     },
     "04384005ce764ec8be303d16d75e945a": {
      "model_module": "@jupyter-widgets/controls",
      "model_module_version": "1.5.0",
      "model_name": "ButtonModel",
      "state": {
       "description": "Test Code",
       "layout": "IPY_MODEL_e12c5416646643b586a363d27a810c7d",
       "style": "IPY_MODEL_2c919d002378403babb086de3d643b1c",
       "tooltip": "Click to test your code"
      }
     },
     "0444f6ac4bf34efb9a559b967527b46d": {
      "model_module": "@jupyter-widgets/controls",
      "model_module_version": "1.5.0",
      "model_name": "LabelModel",
      "state": {
       "layout": "IPY_MODEL_f7081dd3b86a48d5b1ab097847a502c5",
       "style": "IPY_MODEL_6698ebe599fd48d5bc6533d3dcddfd63"
      }
     },
     "04462d79b61d4556979b1f57561bf663": {
      "model_module": "@jupyter-widgets/base",
      "model_module_version": "1.2.0",
      "model_name": "LayoutModel",
      "state": {}
     },
     "04535edd22ba47ea9a9afa79f88cad6f": {
      "model_module": "@jupyter-widgets/base",
      "model_module_version": "1.2.0",
      "model_name": "LayoutModel",
      "state": {}
     },
     "0453827f88c04c25b9c202d46bdd4138": {
      "model_module": "@jupyter-widgets/base",
      "model_module_version": "1.2.0",
      "model_name": "LayoutModel",
      "state": {}
     },
     "04543664f5094abc9bf4c7e81a28a57e": {
      "model_module": "@jupyter-widgets/controls",
      "model_module_version": "1.5.0",
      "model_name": "TextareaModel",
      "state": {
       "description": "Code:",
       "layout": "IPY_MODEL_7fb27760ad0b4628a69986d40676a1da",
       "placeholder": "Type code here",
       "style": "IPY_MODEL_b8c3e2a8dc2244b89581b8a7ac2d3892"
      }
     },
     "047085ec538043a6bb08a7f2fb8515dd": {
      "model_module": "@jupyter-widgets/controls",
      "model_module_version": "1.5.0",
      "model_name": "LabelModel",
      "state": {
       "layout": "IPY_MODEL_03ef20c524e541bcb39dc6c309f16e35",
       "style": "IPY_MODEL_81557ebf4710400ea15b081ad4d71eb5"
      }
     },
     "048c9e8a26074897ad9bc42ac73141be": {
      "model_module": "@jupyter-widgets/controls",
      "model_module_version": "1.5.0",
      "model_name": "LabelModel",
      "state": {
       "layout": "IPY_MODEL_23fa3100dcdf485db612440076d30393",
       "style": "IPY_MODEL_885f994b77d0444896c94064a4e8402d"
      }
     },
     "048dd712b78d460497049407b4e20bc9": {
      "model_module": "@jupyter-widgets/controls",
      "model_module_version": "1.5.0",
      "model_name": "LabelModel",
      "state": {
       "layout": "IPY_MODEL_39b3a0104e01424abb3d2c8bd93eafca",
       "style": "IPY_MODEL_806b3d5e4bf84a608aab6cf48d99e5d7"
      }
     },
     "0498522cb9af4f85a29835703e86c555": {
      "model_module": "@jupyter-widgets/output",
      "model_module_version": "1.0.0",
      "model_name": "OutputModel",
      "state": {
       "layout": "IPY_MODEL_6e7582c275a8490d90d66f189115515b"
      }
     },
     "04a361cea04445fb81efa28742821353": {
      "model_module": "@jupyter-widgets/output",
      "model_module_version": "1.0.0",
      "model_name": "OutputModel",
      "state": {
       "layout": "IPY_MODEL_3f53099bd244402eb8481a58cef7562b",
       "outputs": [
        {
         "name": "stdout",
         "output_type": "stream",
         "text": "0\n1\n4\n9\n16\n25\n36\n49\n64\n81\n"
        }
       ]
      }
     },
     "04b5dbf27b074f7583c76185eeb4c7a7": {
      "model_module": "@jupyter-widgets/base",
      "model_module_version": "1.2.0",
      "model_name": "LayoutModel",
      "state": {
       "width": "5%"
      }
     },
     "04d32a0cdfb64609aae11e913536eee1": {
      "model_module": "@jupyter-widgets/base",
      "model_module_version": "1.2.0",
      "model_name": "LayoutModel",
      "state": {}
     },
     "0518dc213c884fceb279e672dee172dc": {
      "model_module": "@jupyter-widgets/controls",
      "model_module_version": "1.5.0",
      "model_name": "ButtonModel",
      "state": {
       "description": "Run Code",
       "layout": "IPY_MODEL_783a54168c68474a9263e9ea1b623dfe",
       "style": "IPY_MODEL_fbf2697ab7614e1d85b9c0145e3d9fdc",
       "tooltip": "Click to test your code"
      }
     },
     "05227cc80b8b475fa1bbc45f979ca03f": {
      "model_module": "@jupyter-widgets/base",
      "model_module_version": "1.2.0",
      "model_name": "LayoutModel",
      "state": {}
     },
     "053f789702b644978c2ccce1b1bc6db9": {
      "model_module": "@jupyter-widgets/controls",
      "model_module_version": "1.5.0",
      "model_name": "DescriptionStyleModel",
      "state": {
       "description_width": ""
      }
     },
     "0544f3d6f30f4829a52a91f028af93ca": {
      "model_module": "@jupyter-widgets/base",
      "model_module_version": "1.2.0",
      "model_name": "LayoutModel",
      "state": {}
     },
     "0582ad0111f74cc4bdb491d09ceaceae": {
      "model_module": "@jupyter-widgets/base",
      "model_module_version": "1.2.0",
      "model_name": "LayoutModel",
      "state": {
       "width": "90%"
      }
     },
     "05891ced9f2746d1b97f76350695bfe5": {
      "model_module": "@jupyter-widgets/controls",
      "model_module_version": "1.5.0",
      "model_name": "TextareaModel",
      "state": {
       "description": "String:",
       "layout": "IPY_MODEL_257f7a4cb83d42a8ba19c6a2dcbf0dd6",
       "placeholder": "Type something",
       "style": "IPY_MODEL_57ba8d13167d4afc97cbe5e778a4aa5d"
      }
     },
     "05b34235922f4618a0d2a16194f2b1ed": {
      "model_module": "@jupyter-widgets/base",
      "model_module_version": "1.2.0",
      "model_name": "LayoutModel",
      "state": {}
     },
     "05b375d5be4d48dc85eb6e06122792bf": {
      "model_module": "@jupyter-widgets/controls",
      "model_module_version": "1.5.0",
      "model_name": "HBoxModel",
      "state": {
       "children": [
        "IPY_MODEL_e1ddf508506241a7a4be28ef7755153e",
        "IPY_MODEL_b978d6b01dfe4cb0941c0c80b32fab1c"
       ],
       "layout": "IPY_MODEL_4d516b1d129f434ea5bdbffd8b4db948"
      }
     },
     "05b9792e35e440669e79ff2b4f5d0990": {
      "model_module": "@jupyter-widgets/controls",
      "model_module_version": "1.5.0",
      "model_name": "LabelModel",
      "state": {
       "layout": "IPY_MODEL_f581990bc24948508829ee09938d9a02",
       "style": "IPY_MODEL_9b0b94cf828d44d7a3c568458ee05976"
      }
     },
     "05e050c00308483dad8b40a38e515b9f": {
      "model_module": "@jupyter-widgets/controls",
      "model_module_version": "1.5.0",
      "model_name": "HBoxModel",
      "state": {
       "children": [
        "IPY_MODEL_2b404f0b213f4886ad4fecbbd2d3ea2d",
        "IPY_MODEL_932c5eff108b4f01bf37219b6e503cb4"
       ],
       "layout": "IPY_MODEL_a99ccdeb84de465ab1d449a370fb784b"
      }
     },
     "05ed29549be240d692c9ab4894559697": {
      "model_module": "@jupyter-widgets/base",
      "model_module_version": "1.2.0",
      "model_name": "LayoutModel",
      "state": {
       "width": "90%"
      }
     },
     "05ede0c6b0f441849bf74f7a2b858478": {
      "model_module": "@jupyter-widgets/controls",
      "model_module_version": "1.5.0",
      "model_name": "TextareaModel",
      "state": {
       "description": "Answer:",
       "layout": "IPY_MODEL_6c24909f9a734628b90777fe4beadb59",
       "placeholder": "Type something",
       "style": "IPY_MODEL_aec7ccbd34be4fa2868a9fe5a7935977"
      }
     },
     "05eff95dab674981994398785edd9d42": {
      "model_module": "@jupyter-widgets/base",
      "model_module_version": "1.2.0",
      "model_name": "LayoutModel",
      "state": {
       "width": "5%"
      }
     },
     "060925f24dc74a29b70dfbb959a1e528": {
      "model_module": "@jupyter-widgets/base",
      "model_module_version": "1.2.0",
      "model_name": "LayoutModel",
      "state": {
       "width": "90%"
      }
     },
     "0625a9fec53a4bf2b34da18a11767a0b": {
      "model_module": "@jupyter-widgets/base",
      "model_module_version": "1.2.0",
      "model_name": "LayoutModel",
      "state": {}
     },
     "06326aeeaa224c678525b09789b20277": {
      "model_module": "@jupyter-widgets/base",
      "model_module_version": "1.2.0",
      "model_name": "LayoutModel",
      "state": {
       "width": "90%"
      }
     },
     "0634d6ab4dd84851aea3e2ac04d38365": {
      "model_module": "@jupyter-widgets/controls",
      "model_module_version": "1.5.0",
      "model_name": "RadioButtonsModel",
      "state": {
       "_options_labels": [
        "True",
        "False"
       ],
       "index": 0,
       "layout": "IPY_MODEL_6a86ce61707a4282bdde2d0f025933dc",
       "style": "IPY_MODEL_1877900a554b4a1cbcc8c3fda37ee564"
      }
     },
     "06377e551062425e8084f4748b6b366b": {
      "model_module": "@jupyter-widgets/base",
      "model_module_version": "1.2.0",
      "model_name": "LayoutModel",
      "state": {}
     },
     "065f686dfa7548579862f77ee67a4f43": {
      "model_module": "@jupyter-widgets/base",
      "model_module_version": "1.2.0",
      "model_name": "LayoutModel",
      "state": {}
     },
     "068ba9e9d8994accb6d76d4ac684e234": {
      "model_module": "@jupyter-widgets/controls",
      "model_module_version": "1.5.0",
      "model_name": "DescriptionStyleModel",
      "state": {
       "description_width": ""
      }
     },
     "069796c160c847feb951ec575d579b53": {
      "model_module": "@jupyter-widgets/base",
      "model_module_version": "1.2.0",
      "model_name": "LayoutModel",
      "state": {
       "width": "5%"
      }
     },
     "069fafdddd9040428198e71e65b47626": {
      "model_module": "@jupyter-widgets/base",
      "model_module_version": "1.2.0",
      "model_name": "LayoutModel",
      "state": {}
     },
     "06c2b061a961452ab212898856726f93": {
      "model_module": "@jupyter-widgets/controls",
      "model_module_version": "1.5.0",
      "model_name": "DescriptionStyleModel",
      "state": {
       "description_width": ""
      }
     },
     "06ce936a1607471c91eb60f013c30e95": {
      "model_module": "@jupyter-widgets/controls",
      "model_module_version": "1.5.0",
      "model_name": "DescriptionStyleModel",
      "state": {
       "description_width": ""
      }
     },
     "06d3b3e1128f4745872e7b962aa0ac80": {
      "model_module": "@jupyter-widgets/base",
      "model_module_version": "1.2.0",
      "model_name": "LayoutModel",
      "state": {
       "width": "5%"
      }
     },
     "06d78e082bf4475f9e7a73a3224148a1": {
      "model_module": "@jupyter-widgets/output",
      "model_module_version": "1.0.0",
      "model_name": "OutputModel",
      "state": {
       "layout": "IPY_MODEL_d3085cf9784b4c7e9bbf2f2c83017b47"
      }
     },
     "06df10435f954d98958935bd7de4f566": {
      "model_module": "@jupyter-widgets/base",
      "model_module_version": "1.2.0",
      "model_name": "LayoutModel",
      "state": {
       "width": "90%"
      }
     },
     "06f8af0a8aba4039a5f14d2c9c3ad4ba": {
      "model_module": "@jupyter-widgets/controls",
      "model_module_version": "1.5.0",
      "model_name": "DescriptionStyleModel",
      "state": {
       "description_width": ""
      }
     },
     "0702d06eff4844ad987ad33aaa5f33a1": {
      "model_module": "@jupyter-widgets/controls",
      "model_module_version": "1.5.0",
      "model_name": "ButtonModel",
      "state": {
       "description": "Run Code",
       "layout": "IPY_MODEL_09de94da8b554a9da1c5857303ca8677",
       "style": "IPY_MODEL_e710dfdf8169409f8927b4ba151abcae",
       "tooltip": "Click to test your code"
      }
     },
     "072a929cdfd54495bf83694f34e59936": {
      "model_module": "@jupyter-widgets/base",
      "model_module_version": "1.2.0",
      "model_name": "LayoutModel",
      "state": {}
     },
     "0737f24c75fd450e8af9bac5ec638e21": {
      "model_module": "@jupyter-widgets/controls",
      "model_module_version": "1.5.0",
      "model_name": "ButtonStyleModel",
      "state": {}
     },
     "074538cbc1774405adf029518f8c87c7": {
      "model_module": "@jupyter-widgets/controls",
      "model_module_version": "1.5.0",
      "model_name": "DescriptionStyleModel",
      "state": {
       "description_width": ""
      }
     },
     "07582670a47e4546afac636c277f3c8a": {
      "model_module": "@jupyter-widgets/output",
      "model_module_version": "1.0.0",
      "model_name": "OutputModel",
      "state": {
       "layout": "IPY_MODEL_26186f18aee94339a564e6e6532a74c1"
      }
     },
     "07abae8aa6a449c3873994a4c74ec693": {
      "model_module": "@jupyter-widgets/base",
      "model_module_version": "1.2.0",
      "model_name": "LayoutModel",
      "state": {
       "width": "5%"
      }
     },
     "07acd382b4c74b03bf0569efc20ca8d8": {
      "model_module": "@jupyter-widgets/base",
      "model_module_version": "1.2.0",
      "model_name": "LayoutModel",
      "state": {}
     },
     "07b2254aa8364b7ab31e2f307b353ed2": {
      "model_module": "@jupyter-widgets/base",
      "model_module_version": "1.2.0",
      "model_name": "LayoutModel",
      "state": {
       "width": "90%"
      }
     },
     "07ba51b7db1e42a49c3c21a6388df100": {
      "model_module": "@jupyter-widgets/base",
      "model_module_version": "1.2.0",
      "model_name": "LayoutModel",
      "state": {
       "width": "5%"
      }
     },
     "07be4193d3a34ef88b6ba8ac57b88f82": {
      "model_module": "@jupyter-widgets/controls",
      "model_module_version": "1.5.0",
      "model_name": "HBoxModel",
      "state": {
       "children": [
        "IPY_MODEL_1ba2d9c11b9841abaa459091025d6757",
        "IPY_MODEL_b4851d3f11c44c569d72080c0fbaa6b8"
       ],
       "layout": "IPY_MODEL_a770d857714245668a7aa321ac1467d2"
      }
     },
     "07c7385a8ab745bcbf0e3bb2bc763649": {
      "model_module": "@jupyter-widgets/base",
      "model_module_version": "1.2.0",
      "model_name": "LayoutModel",
      "state": {}
     },
     "07e56aea1b684d38b8df840d09f73fca": {
      "model_module": "@jupyter-widgets/controls",
      "model_module_version": "1.5.0",
      "model_name": "RadioButtonsModel",
      "state": {
       "_options_labels": [
        "a. light and matter",
        "b. time and space",
        "c. dephasing and dissipation",
        "d. linear and nonlinear processes"
       ],
       "index": 0,
       "layout": "IPY_MODEL_d117fb0aea3b402f96be22a50d090e69",
       "style": "IPY_MODEL_3818a2db70814a788b0ee6a112ca34ec"
      }
     },
     "07e80c599c8a4b0c8891f654249e433f": {
      "model_module": "@jupyter-widgets/base",
      "model_module_version": "1.2.0",
      "model_name": "LayoutModel",
      "state": {}
     },
     "07e9ae9e0f4d4aaaab4abbb8b982148b": {
      "model_module": "@jupyter-widgets/controls",
      "model_module_version": "1.5.0",
      "model_name": "DescriptionStyleModel",
      "state": {
       "description_width": ""
      }
     },
     "07eae30be9e547468c24694e5748ef15": {
      "model_module": "@jupyter-widgets/controls",
      "model_module_version": "1.5.0",
      "model_name": "TextareaModel",
      "state": {
       "description": "String:",
       "layout": "IPY_MODEL_979625b224af4799929897d2367461e0",
       "placeholder": "Type something",
       "style": "IPY_MODEL_5951c0f8e8794c2db62d776393a61874"
      }
     },
     "07eca0d4d8fb4f05b38a6d9c0ce7d2a1": {
      "model_module": "@jupyter-widgets/controls",
      "model_module_version": "1.5.0",
      "model_name": "HBoxModel",
      "state": {
       "children": [
        "IPY_MODEL_2bca0ef7fe3148ab8ae1e2f3d5428384",
        "IPY_MODEL_7bf1190b8145499791c9d961520cf181"
       ],
       "layout": "IPY_MODEL_04d32a0cdfb64609aae11e913536eee1"
      }
     },
     "07feb9a03ff94c1297d73028042d1c3a": {
      "model_module": "@jupyter-widgets/base",
      "model_module_version": "1.2.0",
      "model_name": "LayoutModel",
      "state": {
       "width": "90%"
      }
     },
     "08018faca9ff4af69d2496172923a2e8": {
      "model_module": "@jupyter-widgets/base",
      "model_module_version": "1.2.0",
      "model_name": "LayoutModel",
      "state": {
       "width": "5%"
      }
     },
     "0812f2e504224ce39c66017551a0836d": {
      "model_module": "@jupyter-widgets/base",
      "model_module_version": "1.2.0",
      "model_name": "LayoutModel",
      "state": {}
     },
     "081c504cae744c44abdb2ff9892e8e15": {
      "model_module": "@jupyter-widgets/controls",
      "model_module_version": "1.5.0",
      "model_name": "DescriptionStyleModel",
      "state": {
       "description_width": ""
      }
     },
     "0823a51693184ee98e2ad22c6ea34fdb": {
      "model_module": "@jupyter-widgets/base",
      "model_module_version": "1.2.0",
      "model_name": "LayoutModel",
      "state": {}
     },
     "082522d21a654a8f96479274a6177ef3": {
      "model_module": "@jupyter-widgets/controls",
      "model_module_version": "1.5.0",
      "model_name": "LabelModel",
      "state": {
       "layout": "IPY_MODEL_e7965e8b1e7d4f58ad9e0895944518c7",
       "style": "IPY_MODEL_6a3c885cff954cd092d21ba706ab434d"
      }
     },
     "082f6ee8a541428dbc8a9ac110fe50cf": {
      "model_module": "@jupyter-widgets/controls",
      "model_module_version": "1.5.0",
      "model_name": "DescriptionStyleModel",
      "state": {
       "description_width": ""
      }
     },
     "083dcfe3797e4bd6b14985b66d6b138a": {
      "model_module": "@jupyter-widgets/controls",
      "model_module_version": "1.5.0",
      "model_name": "DescriptionStyleModel",
      "state": {
       "description_width": ""
      }
     },
     "0869f380384d4effacffc80d3a84f06a": {
      "model_module": "@jupyter-widgets/base",
      "model_module_version": "1.2.0",
      "model_name": "LayoutModel",
      "state": {
       "width": "5%"
      }
     },
     "08774e015018478b8ff19b13af980812": {
      "model_module": "@jupyter-widgets/base",
      "model_module_version": "1.2.0",
      "model_name": "LayoutModel",
      "state": {
       "width": "5%"
      }
     },
     "08cbf48dd35849ff92a73e19eba28632": {
      "model_module": "@jupyter-widgets/controls",
      "model_module_version": "1.5.0",
      "model_name": "DescriptionStyleModel",
      "state": {
       "description_width": ""
      }
     },
     "0915991fd1614768ac5e7438823a1666": {
      "model_module": "@jupyter-widgets/base",
      "model_module_version": "1.2.0",
      "model_name": "LayoutModel",
      "state": {}
     },
     "0924900875434aa0a3657bc61257c2a9": {
      "model_module": "@jupyter-widgets/base",
      "model_module_version": "1.2.0",
      "model_name": "LayoutModel",
      "state": {}
     },
     "09275ed207344edd9458c4d3b3c8bfbd": {
      "model_module": "@jupyter-widgets/base",
      "model_module_version": "1.2.0",
      "model_name": "LayoutModel",
      "state": {}
     },
     "09295eaf40b34f08bf240ccd7a32ce96": {
      "model_module": "@jupyter-widgets/base",
      "model_module_version": "1.2.0",
      "model_name": "LayoutModel",
      "state": {}
     },
     "0945c6a2281345f0827dc64692d6ad02": {
      "model_module": "@jupyter-widgets/base",
      "model_module_version": "1.2.0",
      "model_name": "LayoutModel",
      "state": {}
     },
     "09495f102cfa489ea71d079b24736a35": {
      "model_module": "@jupyter-widgets/controls",
      "model_module_version": "1.5.0",
      "model_name": "TextareaModel",
      "state": {
       "description": "String:",
       "layout": "IPY_MODEL_de0edd9040b840eaafa8d6ddd1d2c56f",
       "placeholder": "Type something",
       "style": "IPY_MODEL_0ca3785d9eeb4b658b8a739748814e35"
      }
     },
     "09ae035eb26f4cd4a4759053eb031cd8": {
      "model_module": "@jupyter-widgets/controls",
      "model_module_version": "1.5.0",
      "model_name": "VBoxModel",
      "state": {
       "children": [
        "IPY_MODEL_6ce7fecc44694cabb2835b9670472b3b",
        "IPY_MODEL_1567a66659d54b8a95dd5bd1194e3957"
       ],
       "layout": "IPY_MODEL_5d0c3082621349e59852504163da85fc"
      }
     },
     "09b61746be0a412a8dd89c1d3f8b810a": {
      "model_module": "@jupyter-widgets/controls",
      "model_module_version": "1.5.0",
      "model_name": "LabelModel",
      "state": {
       "layout": "IPY_MODEL_e669f211825a4475844d0f9a4eb46bc5",
       "style": "IPY_MODEL_5e8ca2ac11224076821701ff0f6bdc39"
      }
     },
     "09be1e87c6434bd38cc543e67d0f47a4": {
      "model_module": "@jupyter-widgets/controls",
      "model_module_version": "1.5.0",
      "model_name": "RadioButtonsModel",
      "state": {
       "_options_labels": [
        "a. light and matter",
        "b. time and space",
        "c. dephasing and dissipation",
        "d. linear and nonlinear processes"
       ],
       "index": 0,
       "layout": "IPY_MODEL_2979cbdffe104fb695e9982cf6029681",
       "style": "IPY_MODEL_c6d5a96d28fd40fcbb97b48fa7cb46a5"
      }
     },
     "09c43fc9a1b3438fa5bb2dede6ca4b27": {
      "model_module": "@jupyter-widgets/controls",
      "model_module_version": "1.5.0",
      "model_name": "LabelModel",
      "state": {
       "layout": "IPY_MODEL_fb5dbc0566b84f3ba3e620daf5e4be90",
       "style": "IPY_MODEL_fd85e6d46cb74f5bb11f88ad6074a053"
      }
     },
     "09c522c90a0a4c838bc48360ce95b6ef": {
      "model_module": "@jupyter-widgets/base",
      "model_module_version": "1.2.0",
      "model_name": "LayoutModel",
      "state": {
       "width": "5%"
      }
     },
     "09da4945e0da4acb976b3f614c4f816b": {
      "model_module": "@jupyter-widgets/base",
      "model_module_version": "1.2.0",
      "model_name": "LayoutModel",
      "state": {
       "width": "90%"
      }
     },
     "09de94da8b554a9da1c5857303ca8677": {
      "model_module": "@jupyter-widgets/base",
      "model_module_version": "1.2.0",
      "model_name": "LayoutModel",
      "state": {}
     },
     "09f618c9fb17492aaa7c65c402f33cb6": {
      "model_module": "@jupyter-widgets/controls",
      "model_module_version": "1.5.0",
      "model_name": "DescriptionStyleModel",
      "state": {
       "description_width": ""
      }
     },
     "0a13d346171042178e5a96b8806f2909": {
      "model_module": "@jupyter-widgets/base",
      "model_module_version": "1.2.0",
      "model_name": "LayoutModel",
      "state": {
       "width": "90%"
      }
     },
     "0a2c79359097452bb20d050bac87b202": {
      "model_module": "@jupyter-widgets/base",
      "model_module_version": "1.2.0",
      "model_name": "LayoutModel",
      "state": {}
     },
     "0a3bc915a617456b89fe3882ad74aa94": {
      "model_module": "@jupyter-widgets/base",
      "model_module_version": "1.2.0",
      "model_name": "LayoutModel",
      "state": {}
     },
     "0a6816b22d4f45748587936783f1a43a": {
      "model_module": "@jupyter-widgets/controls",
      "model_module_version": "1.5.0",
      "model_name": "DescriptionStyleModel",
      "state": {
       "description_width": ""
      }
     },
     "0a9fa48ba9e847e5872ad5a187a35c0f": {
      "model_module": "@jupyter-widgets/controls",
      "model_module_version": "1.5.0",
      "model_name": "DescriptionStyleModel",
      "state": {
       "description_width": ""
      }
     },
     "0aa5924af04649f89d9e0cf77b5d6aa8": {
      "model_module": "@jupyter-widgets/controls",
      "model_module_version": "1.5.0",
      "model_name": "DescriptionStyleModel",
      "state": {
       "description_width": ""
      }
     },
     "0aa76c0b251a4e1498c079387641fc07": {
      "model_module": "@jupyter-widgets/base",
      "model_module_version": "1.2.0",
      "model_name": "LayoutModel",
      "state": {
       "width": "5%"
      }
     },
     "0acacbd2c09e44fc9caf338dd390a526": {
      "model_module": "@jupyter-widgets/controls",
      "model_module_version": "1.5.0",
      "model_name": "RadioButtonsModel",
      "state": {
       "_options_labels": [
        "True",
        "False"
       ],
       "index": 0,
       "layout": "IPY_MODEL_d0c1832116b14f9c9277ba18e5c3dbd1",
       "style": "IPY_MODEL_23b992718eb6476eb05f41ba2dbc1eb6"
      }
     },
     "0acdab0152b44279be87dc83bdf35824": {
      "model_module": "@jupyter-widgets/controls",
      "model_module_version": "1.5.0",
      "model_name": "RadioButtonsModel",
      "state": {
       "_options_labels": [
        "True",
        "False"
       ],
       "index": 0,
       "layout": "IPY_MODEL_673ad0dadc934df7bd31a1233302153c",
       "style": "IPY_MODEL_4398c85561e445a9ada36c583f5c5d12"
      }
     },
     "0ae171d48c344b05bcdaed2134bdebfd": {
      "model_module": "@jupyter-widgets/controls",
      "model_module_version": "1.5.0",
      "model_name": "TextareaModel",
      "state": {
       "description": "String:",
       "layout": "IPY_MODEL_eb3970cce3a042e9b0f2003ccb6eb156",
       "placeholder": "Type something",
       "style": "IPY_MODEL_83fa52529862440bb80b009b8d355f17"
      }
     },
     "0afef947366d4e2abb9dfcb905434843": {
      "model_module": "@jupyter-widgets/controls",
      "model_module_version": "1.5.0",
      "model_name": "DescriptionStyleModel",
      "state": {
       "description_width": ""
      }
     },
     "0b0efb6bcf7942678cbe2608dff4e001": {
      "model_module": "@jupyter-widgets/controls",
      "model_module_version": "1.5.0",
      "model_name": "DescriptionStyleModel",
      "state": {
       "description_width": ""
      }
     },
     "0b22e0708b234f4ea4b26b6f4af9d66c": {
      "model_module": "@jupyter-widgets/controls",
      "model_module_version": "1.5.0",
      "model_name": "DescriptionStyleModel",
      "state": {
       "description_width": ""
      }
     },
     "0b332d3695d74ab4838843ae5841fded": {
      "model_module": "@jupyter-widgets/controls",
      "model_module_version": "1.5.0",
      "model_name": "DescriptionStyleModel",
      "state": {
       "description_width": ""
      }
     },
     "0b4319b60b02492d972a4b12985ea1a8": {
      "model_module": "@jupyter-widgets/controls",
      "model_module_version": "1.5.0",
      "model_name": "DescriptionStyleModel",
      "state": {
       "description_width": ""
      }
     },
     "0b45628ac4664420afa5b0d119820784": {
      "model_module": "@jupyter-widgets/base",
      "model_module_version": "1.2.0",
      "model_name": "LayoutModel",
      "state": {}
     },
     "0b815cdbe120486a964823d08497fe36": {
      "model_module": "@jupyter-widgets/base",
      "model_module_version": "1.2.0",
      "model_name": "LayoutModel",
      "state": {}
     },
     "0b909d4fef8d4584b132ff066d76b9be": {
      "model_module": "@jupyter-widgets/base",
      "model_module_version": "1.2.0",
      "model_name": "LayoutModel",
      "state": {
       "width": "5%"
      }
     },
     "0ba02ed2b64646528ab0d13de0c2bea0": {
      "model_module": "@jupyter-widgets/controls",
      "model_module_version": "1.5.0",
      "model_name": "LabelModel",
      "state": {
       "layout": "IPY_MODEL_66542a72eb29457c9e38e923097c00d5",
       "style": "IPY_MODEL_bda9c22fb7f345a9b2b8dec45c181c50"
      }
     },
     "0ba096973bfb4efe897d9e998a447687": {
      "model_module": "@jupyter-widgets/controls",
      "model_module_version": "1.5.0",
      "model_name": "DescriptionStyleModel",
      "state": {
       "description_width": ""
      }
     },
     "0bb882ef8abd4b5f8f4fa7279333b4d8": {
      "model_module": "@jupyter-widgets/controls",
      "model_module_version": "1.5.0",
      "model_name": "HBoxModel",
      "state": {
       "children": [
        "IPY_MODEL_09b61746be0a412a8dd89c1d3f8b810a",
        "IPY_MODEL_9b49153c37e24090a541ab9ecb3d5c41"
       ],
       "layout": "IPY_MODEL_e3881677ee004251a646da4bdc801762"
      }
     },
     "0bbadd701c3446bbab3b62a8128787ea": {
      "model_module": "@jupyter-widgets/controls",
      "model_module_version": "1.5.0",
      "model_name": "HBoxModel",
      "state": {
       "children": [
        "IPY_MODEL_890aa2599f324d65b3c81931e4e80d78",
        "IPY_MODEL_3f14c104c8994ed2b245124e4ae51e34"
       ],
       "layout": "IPY_MODEL_a3b39ab0cbcc4e68a68c2eca3dbe3912"
      }
     },
     "0bc89fcd89d845c8abef7ad6ac626b2b": {
      "model_module": "@jupyter-widgets/controls",
      "model_module_version": "1.5.0",
      "model_name": "LabelModel",
      "state": {
       "layout": "IPY_MODEL_0cc808547f4e41489b3443550598df6b",
       "style": "IPY_MODEL_e8c0e47b819e41b99db86e5ca61921ac"
      }
     },
     "0bcc285bc8b2402bb46dc276d9e9555f": {
      "model_module": "@jupyter-widgets/base",
      "model_module_version": "1.2.0",
      "model_name": "LayoutModel",
      "state": {
       "width": "5%"
      }
     },
     "0bd2717a4adc4756ba4896f19dd6bdae": {
      "model_module": "@jupyter-widgets/base",
      "model_module_version": "1.2.0",
      "model_name": "LayoutModel",
      "state": {}
     },
     "0c007f4bc25c48afa020e18bdeb67418": {
      "model_module": "@jupyter-widgets/controls",
      "model_module_version": "1.5.0",
      "model_name": "LabelModel",
      "state": {
       "layout": "IPY_MODEL_ff827611032b4b5f92f58e98010eb378",
       "style": "IPY_MODEL_539e4bd6368647febfdd8cdeac280a0b"
      }
     },
     "0c0de87c41d74e479c23c0c39209a074": {
      "model_module": "@jupyter-widgets/base",
      "model_module_version": "1.2.0",
      "model_name": "LayoutModel",
      "state": {
       "width": "90%"
      }
     },
     "0c383bc232204041a4a872070b0b110d": {
      "model_module": "@jupyter-widgets/base",
      "model_module_version": "1.2.0",
      "model_name": "LayoutModel",
      "state": {}
     },
     "0c6ccabc3796479fb8d28725b4638220": {
      "model_module": "@jupyter-widgets/controls",
      "model_module_version": "1.5.0",
      "model_name": "DescriptionStyleModel",
      "state": {
       "description_width": ""
      }
     },
     "0c88355eb6ce4c0e87ff91a3811135d4": {
      "model_module": "@jupyter-widgets/controls",
      "model_module_version": "1.5.0",
      "model_name": "DescriptionStyleModel",
      "state": {
       "description_width": ""
      }
     },
     "0ca3785d9eeb4b658b8a739748814e35": {
      "model_module": "@jupyter-widgets/controls",
      "model_module_version": "1.5.0",
      "model_name": "DescriptionStyleModel",
      "state": {
       "description_width": ""
      }
     },
     "0ca5bfb485154a1d8c9f37e6cd0c82e3": {
      "model_module": "@jupyter-widgets/base",
      "model_module_version": "1.2.0",
      "model_name": "LayoutModel",
      "state": {}
     },
     "0cc808547f4e41489b3443550598df6b": {
      "model_module": "@jupyter-widgets/base",
      "model_module_version": "1.2.0",
      "model_name": "LayoutModel",
      "state": {
       "width": "5%"
      }
     },
     "0ccd54fa198f4db6b62824cc34455832": {
      "model_module": "@jupyter-widgets/controls",
      "model_module_version": "1.5.0",
      "model_name": "HBoxModel",
      "state": {
       "children": [
        "IPY_MODEL_64a3c3ffa45940fbb270fa672880e0fb",
        "IPY_MODEL_910aaebd128648f894e46f9f8aa7a726"
       ],
       "layout": "IPY_MODEL_2ee57e6b8ed1417e934dfdc7e4e4cdc6"
      }
     },
     "0cf52daecdc342d98dae1bedc643a849": {
      "model_module": "@jupyter-widgets/controls",
      "model_module_version": "1.5.0",
      "model_name": "LabelModel",
      "state": {
       "layout": "IPY_MODEL_80e36117c07a4fdcaefd1a3a7b0e2d26",
       "style": "IPY_MODEL_7bf4868d608c4c1bbb41384846896c0e"
      }
     },
     "0d01ddc6be7b4699bd9a3fdf6220c5a3": {
      "model_module": "@jupyter-widgets/controls",
      "model_module_version": "1.5.0",
      "model_name": "LabelModel",
      "state": {
       "layout": "IPY_MODEL_86ab9552c1bd48b08b5607a8c8e950ac",
       "style": "IPY_MODEL_f56ac1d65a774f3d83f17ebb5cea889b"
      }
     },
     "0d07c97dd6bc4e64bb2e75e44078c9a5": {
      "model_module": "@jupyter-widgets/controls",
      "model_module_version": "1.5.0",
      "model_name": "DescriptionStyleModel",
      "state": {
       "description_width": ""
      }
     },
     "0d3c0d4f10cb4c5dacd5f5e5e44e490b": {
      "model_module": "@jupyter-widgets/base",
      "model_module_version": "1.2.0",
      "model_name": "LayoutModel",
      "state": {
       "width": "5%"
      }
     },
     "0d3cab3e271148918c8f618bdcc2322f": {
      "model_module": "@jupyter-widgets/base",
      "model_module_version": "1.2.0",
      "model_name": "LayoutModel",
      "state": {}
     },
     "0d498ec52aaa430892a92b955c7c6f0d": {
      "model_module": "@jupyter-widgets/output",
      "model_module_version": "1.0.0",
      "model_name": "OutputModel",
      "state": {
       "layout": "IPY_MODEL_9be82b4fab2f4032817fd5ab1e6dbae4"
      }
     },
     "0d640bf874ff425380d3d2ffa0578bf9": {
      "model_module": "@jupyter-widgets/controls",
      "model_module_version": "1.5.0",
      "model_name": "DescriptionStyleModel",
      "state": {
       "description_width": ""
      }
     },
     "0d82c9d452ab43dd8c599ef2b267ec80": {
      "model_module": "@jupyter-widgets/controls",
      "model_module_version": "1.5.0",
      "model_name": "DescriptionStyleModel",
      "state": {
       "description_width": ""
      }
     },
     "0db51d786e9f48a0adfbf7328ffd8c9b": {
      "model_module": "@jupyter-widgets/controls",
      "model_module_version": "1.5.0",
      "model_name": "LabelModel",
      "state": {
       "layout": "IPY_MODEL_f993654a48a342229bbab11ca4a8bf5a",
       "style": "IPY_MODEL_99aaab6ba86d41c0ad9691ab0ad1f4cc"
      }
     },
     "0dca79c76ef840a68b560d65c56c1ec8": {
      "model_module": "@jupyter-widgets/base",
      "model_module_version": "1.2.0",
      "model_name": "LayoutModel",
      "state": {}
     },
     "0df0f1eebb764fc7b24bc523df2bdf7f": {
      "model_module": "@jupyter-widgets/controls",
      "model_module_version": "1.5.0",
      "model_name": "HBoxModel",
      "state": {
       "children": [
        "IPY_MODEL_af3d461300e44613adf258805d27c950",
        "IPY_MODEL_e9c9ad324081474d9de48dadbe960312"
       ],
       "layout": "IPY_MODEL_2227a9928a034f84b6e639c72f43818a"
      }
     },
     "0e29d2e82a76424896451af449572be3": {
      "model_module": "@jupyter-widgets/controls",
      "model_module_version": "1.5.0",
      "model_name": "LabelModel",
      "state": {
       "layout": "IPY_MODEL_9c3d08c3b0cb42df999a428c886cdfdc",
       "style": "IPY_MODEL_11d533861f5b4dbd9c9d8acdfa92496b"
      }
     },
     "0e2fcd4a171a48a19cb7abe4f65ec669": {
      "model_module": "@jupyter-widgets/base",
      "model_module_version": "1.2.0",
      "model_name": "LayoutModel",
      "state": {}
     },
     "0e36f1fcd2d54626bd8d1efd490454d3": {
      "model_module": "@jupyter-widgets/base",
      "model_module_version": "1.2.0",
      "model_name": "LayoutModel",
      "state": {}
     },
     "0e38b85964664d29905ad014fcf56e45": {
      "model_module": "@jupyter-widgets/controls",
      "model_module_version": "1.5.0",
      "model_name": "DescriptionStyleModel",
      "state": {
       "description_width": ""
      }
     },
     "0e44a26a7fe74c50895a6e9736e2fad1": {
      "model_module": "@jupyter-widgets/controls",
      "model_module_version": "1.5.0",
      "model_name": "LabelModel",
      "state": {
       "layout": "IPY_MODEL_79944d93b1734a978216b0ce9574add2",
       "style": "IPY_MODEL_603711df80644cfdb074c832e54b7409"
      }
     },
     "0e527dcf6c214d60a868b3cdee76bcfd": {
      "model_module": "@jupyter-widgets/controls",
      "model_module_version": "1.5.0",
      "model_name": "TextareaModel",
      "state": {
       "description": "String:",
       "layout": "IPY_MODEL_f5db7a4fc9aa49a8b16ed3e97bb33f0c",
       "placeholder": "Type something",
       "style": "IPY_MODEL_8d06a24d461d4e449830b57feb817a83"
      }
     },
     "0e52b4e7ee4c4318b727831552b5d41b": {
      "model_module": "@jupyter-widgets/controls",
      "model_module_version": "1.5.0",
      "model_name": "ButtonModel",
      "state": {
       "description": "Run Code",
       "layout": "IPY_MODEL_dd8779ffdc6049e6ad87a227a9a4f5c8",
       "style": "IPY_MODEL_7ca7bdf111f74d28943f9cd9826a5183",
       "tooltip": "Click to test your code"
      }
     },
     "0e5ec18eabad4c749d1ce1610d534098": {
      "model_module": "@jupyter-widgets/controls",
      "model_module_version": "1.5.0",
      "model_name": "RadioButtonsModel",
      "state": {
       "_options_labels": [
        "True",
        "False"
       ],
       "index": 0,
       "layout": "IPY_MODEL_26b18f47fcf8425db61a3a59633b2406",
       "style": "IPY_MODEL_495590eb1e88410da47770cd41bd2b53"
      }
     },
     "0e6af32e313f4c2899cf5e053035bdf9": {
      "model_module": "@jupyter-widgets/base",
      "model_module_version": "1.2.0",
      "model_name": "LayoutModel",
      "state": {}
     },
     "0e95a568094d4713aa179ce03c9dd6e8": {
      "model_module": "@jupyter-widgets/base",
      "model_module_version": "1.2.0",
      "model_name": "LayoutModel",
      "state": {
       "width": "5%"
      }
     },
     "0e97ee1e3b1545e9b9a73565d4cd0fd0": {
      "model_module": "@jupyter-widgets/base",
      "model_module_version": "1.2.0",
      "model_name": "LayoutModel",
      "state": {}
     },
     "0eaeafa04755480da642359c4dde0b49": {
      "model_module": "@jupyter-widgets/base",
      "model_module_version": "1.2.0",
      "model_name": "LayoutModel",
      "state": {}
     },
     "0ec968836fb24ba0a2ccd907e17933e6": {
      "model_module": "@jupyter-widgets/controls",
      "model_module_version": "1.5.0",
      "model_name": "HBoxModel",
      "state": {
       "children": [
        "IPY_MODEL_9c80447c240c460cad69b8474071093d",
        "IPY_MODEL_c486776fef2e4bd4bc141e6186a1d7c1"
       ],
       "layout": "IPY_MODEL_340ce1b013dc4d329f2a3079d98cd056"
      }
     },
     "0ed8e90e4f1342e59da572ed15911421": {
      "model_module": "@jupyter-widgets/controls",
      "model_module_version": "1.5.0",
      "model_name": "ButtonModel",
      "state": {
       "description": "Test Code",
       "layout": "IPY_MODEL_069fafdddd9040428198e71e65b47626",
       "style": "IPY_MODEL_270b3ac2a5d642e8b99ae67e3e0bf35f",
       "tooltip": "Click to test your code"
      }
     },
     "0edb79d9d1dd42519745e4a195f513ba": {
      "model_module": "@jupyter-widgets/base",
      "model_module_version": "1.2.0",
      "model_name": "LayoutModel",
      "state": {}
     },
     "0ee4829477a041999072a80961b550b8": {
      "model_module": "@jupyter-widgets/base",
      "model_module_version": "1.2.0",
      "model_name": "LayoutModel",
      "state": {}
     },
     "0f04a836b3ef4b93bdc6fff5fdafa7b6": {
      "model_module": "@jupyter-widgets/base",
      "model_module_version": "1.2.0",
      "model_name": "LayoutModel",
      "state": {}
     },
     "0f32dfdd35864d5d98a61d97e9bd94ea": {
      "model_module": "@jupyter-widgets/base",
      "model_module_version": "1.2.0",
      "model_name": "LayoutModel",
      "state": {
       "width": "5%"
      }
     },
     "0f3ff15119b845949372cf63f7807cc0": {
      "model_module": "@jupyter-widgets/base",
      "model_module_version": "1.2.0",
      "model_name": "LayoutModel",
      "state": {
       "width": "90%"
      }
     },
     "0f4f45c6aab240ca832775fcdff7336d": {
      "model_module": "@jupyter-widgets/controls",
      "model_module_version": "1.5.0",
      "model_name": "DescriptionStyleModel",
      "state": {
       "description_width": ""
      }
     },
     "0f55396459274d1080538d25f03a93d0": {
      "model_module": "@jupyter-widgets/base",
      "model_module_version": "1.2.0",
      "model_name": "LayoutModel",
      "state": {
       "width": "90%"
      }
     },
     "0f60014b16e44e15b62bb517f73228e9": {
      "model_module": "@jupyter-widgets/controls",
      "model_module_version": "1.5.0",
      "model_name": "HBoxModel",
      "state": {
       "children": [
        "IPY_MODEL_ce63bfd84f0a4b38bc2f12974ad60e57",
        "IPY_MODEL_78f88a0afbff4b9ab621294636cf5866"
       ],
       "layout": "IPY_MODEL_07c7385a8ab745bcbf0e3bb2bc763649"
      }
     },
     "0f603174661e4f10acbba0be537af0cc": {
      "model_module": "@jupyter-widgets/controls",
      "model_module_version": "1.5.0",
      "model_name": "DescriptionStyleModel",
      "state": {
       "description_width": ""
      }
     },
     "0f63f142fb804e3ea89ce7902656dd65": {
      "model_module": "@jupyter-widgets/controls",
      "model_module_version": "1.5.0",
      "model_name": "ButtonStyleModel",
      "state": {}
     },
     "0f71617982e749859620b7f0d179422e": {
      "model_module": "@jupyter-widgets/controls",
      "model_module_version": "1.5.0",
      "model_name": "DescriptionStyleModel",
      "state": {
       "description_width": ""
      }
     },
     "0f86a3606471481b8cede6cfde625ea1": {
      "model_module": "@jupyter-widgets/controls",
      "model_module_version": "1.5.0",
      "model_name": "LabelModel",
      "state": {
       "layout": "IPY_MODEL_881b7f91f1d948fabe43f49aab889de0",
       "style": "IPY_MODEL_8430ebac88934a828ccb8d88fb38d1ca"
      }
     },
     "0f888cd3f38a437aaf59517c1a004db3": {
      "model_module": "@jupyter-widgets/controls",
      "model_module_version": "1.5.0",
      "model_name": "DescriptionStyleModel",
      "state": {
       "description_width": ""
      }
     },
     "0f8adea1e42c4469b6c51a3249052975": {
      "model_module": "@jupyter-widgets/base",
      "model_module_version": "1.2.0",
      "model_name": "LayoutModel",
      "state": {}
     },
     "0f8b7145d9c2420ebc31b582d7a10db7": {
      "model_module": "@jupyter-widgets/controls",
      "model_module_version": "1.5.0",
      "model_name": "HBoxModel",
      "state": {
       "children": [
        "IPY_MODEL_30b39f5457e54dc59eef1f8e172a1f8b",
        "IPY_MODEL_e8b7fff5e7ac473e8fd279da6ed183aa"
       ],
       "layout": "IPY_MODEL_34e6023abc0646ab830db215614284b5"
      }
     },
     "0f8f65e916bc4b4fb3661617c5d0aafe": {
      "model_module": "@jupyter-widgets/controls",
      "model_module_version": "1.5.0",
      "model_name": "DescriptionStyleModel",
      "state": {
       "description_width": ""
      }
     },
     "0fcab2dfbf8b4e938d2b33f718658031": {
      "model_module": "@jupyter-widgets/base",
      "model_module_version": "1.2.0",
      "model_name": "LayoutModel",
      "state": {}
     },
     "0ff0888b3da04d17a49c3d000c03cc78": {
      "model_module": "@jupyter-widgets/output",
      "model_module_version": "1.0.0",
      "model_name": "OutputModel",
      "state": {
       "layout": "IPY_MODEL_6d572c0dfda741338dd3903fcfe5ac60",
       "outputs": [
        {
         "name": "stdout",
         "output_type": "stream",
         "text": "The output works\nprint('Hi there')\n"
        }
       ]
      }
     },
     "100f3bf3d94b4fef9e9942a1e83e458d": {
      "model_module": "@jupyter-widgets/controls",
      "model_module_version": "1.5.0",
      "model_name": "TextareaModel",
      "state": {
       "description": "Answer:",
       "layout": "IPY_MODEL_8f643b6c6d9b4479a5bfe79c588ad535",
       "placeholder": "Type something",
       "style": "IPY_MODEL_bb6d65c007d04dce815ff9256ce25b68"
      }
     },
     "1010564fd0824965afdc9e9f9a285600": {
      "model_module": "@jupyter-widgets/base",
      "model_module_version": "1.2.0",
      "model_name": "LayoutModel",
      "state": {}
     },
     "1011d3910dd94c85800c6adc30be7456": {
      "model_module": "@jupyter-widgets/base",
      "model_module_version": "1.2.0",
      "model_name": "LayoutModel",
      "state": {
       "width": "90%"
      }
     },
     "101c5d63181e40bfa7340bec086330e9": {
      "model_module": "@jupyter-widgets/base",
      "model_module_version": "1.2.0",
      "model_name": "LayoutModel",
      "state": {
       "width": "90%"
      }
     },
     "103753027a174d0590e9ff73fc4cce4e": {
      "model_module": "@jupyter-widgets/base",
      "model_module_version": "1.2.0",
      "model_name": "LayoutModel",
      "state": {}
     },
     "1087611aeda741a0871cb020fc130d41": {
      "model_module": "@jupyter-widgets/base",
      "model_module_version": "1.2.0",
      "model_name": "LayoutModel",
      "state": {}
     },
     "108ab39bd0be4d3c8ba6557e77395668": {
      "model_module": "@jupyter-widgets/controls",
      "model_module_version": "1.5.0",
      "model_name": "RadioButtonsModel",
      "state": {
       "_options_labels": [
        "a. Bite-sized pieces",
        "b. Frequency components",
        "c. A power series in small displacements",
        "d. Absolute values"
       ],
       "index": 0,
       "layout": "IPY_MODEL_1b43ebb390b442b7a99968871c1d6cf5",
       "style": "IPY_MODEL_2967f422e45245eab51d486754fceaef"
      }
     },
     "10aeda1904404bebb19276cb2539091a": {
      "model_module": "@jupyter-widgets/controls",
      "model_module_version": "1.5.0",
      "model_name": "DescriptionStyleModel",
      "state": {
       "description_width": ""
      }
     },
     "10bc5284683e4324bcb72e518906d153": {
      "model_module": "@jupyter-widgets/base",
      "model_module_version": "1.2.0",
      "model_name": "LayoutModel",
      "state": {
       "width": "5%"
      }
     },
     "10c1a705cf3749c5a12c573c65f31e9b": {
      "model_module": "@jupyter-widgets/base",
      "model_module_version": "1.2.0",
      "model_name": "LayoutModel",
      "state": {
       "width": "5%"
      }
     },
     "10eed4071b9247e382ace78c38901430": {
      "model_module": "@jupyter-widgets/base",
      "model_module_version": "1.2.0",
      "model_name": "LayoutModel",
      "state": {
       "width": "5%"
      }
     },
     "1106afc085e34baaa34dec2dbe9e02d3": {
      "model_module": "@jupyter-widgets/controls",
      "model_module_version": "1.5.0",
      "model_name": "HBoxModel",
      "state": {
       "children": [
        "IPY_MODEL_fb813b4e83844642be250807f881f1d2",
        "IPY_MODEL_8ba5a453c1984f829c24dd2780f75dd6"
       ],
       "layout": "IPY_MODEL_6853659d9a23462697960f40c350de7c"
      }
     },
     "1110757fea8e43609eede9d2024bf5ba": {
      "model_module": "@jupyter-widgets/base",
      "model_module_version": "1.2.0",
      "model_name": "LayoutModel",
      "state": {}
     },
     "1156b038939a4d1f93eb963fc9027706": {
      "model_module": "@jupyter-widgets/base",
      "model_module_version": "1.2.0",
      "model_name": "LayoutModel",
      "state": {
       "width": "90%"
      }
     },
     "11604b22a45f40eaa5d5932b867b594c": {
      "model_module": "@jupyter-widgets/controls",
      "model_module_version": "1.5.0",
      "model_name": "ButtonModel",
      "state": {
       "description": "Test Code",
       "layout": "IPY_MODEL_cd215c4c47f949acb39a94c4aff8d479",
       "style": "IPY_MODEL_aef4f15c1fb3490596ef6e80cb5525b9",
       "tooltip": "Click to test your code"
      }
     },
     "1166862fe73348a6874af44ddb0741a6": {
      "model_module": "@jupyter-widgets/base",
      "model_module_version": "1.2.0",
      "model_name": "LayoutModel",
      "state": {
       "width": "5%"
      }
     },
     "116735804c9944dd8b34ac43c50282a4": {
      "model_module": "@jupyter-widgets/base",
      "model_module_version": "1.2.0",
      "model_name": "LayoutModel",
      "state": {
       "width": "5%"
      }
     },
     "1194bc7c4105429485027ce6162c7ef3": {
      "model_module": "@jupyter-widgets/base",
      "model_module_version": "1.2.0",
      "model_name": "LayoutModel",
      "state": {}
     },
     "1199c57b555f4e6fba84534dc23f3fd2": {
      "model_module": "@jupyter-widgets/controls",
      "model_module_version": "1.5.0",
      "model_name": "ButtonStyleModel",
      "state": {}
     },
     "11aad809c74f42868e9a9b3c71c58a17": {
      "model_module": "@jupyter-widgets/controls",
      "model_module_version": "1.5.0",
      "model_name": "LabelModel",
      "state": {
       "layout": "IPY_MODEL_c8a0190ad76743c9916e287cbd686da2",
       "style": "IPY_MODEL_bf0a779709414e84bb0f735efadbd4e5"
      }
     },
     "11d533861f5b4dbd9c9d8acdfa92496b": {
      "model_module": "@jupyter-widgets/controls",
      "model_module_version": "1.5.0",
      "model_name": "DescriptionStyleModel",
      "state": {
       "description_width": ""
      }
     },
     "11eb318b662440728ddc1e5fd0375992": {
      "model_module": "@jupyter-widgets/controls",
      "model_module_version": "1.5.0",
      "model_name": "TextareaModel",
      "state": {
       "description": "String:",
       "layout": "IPY_MODEL_ce0eaf155ee9464daaa7a76e7737c1d9",
       "placeholder": "Type something",
       "style": "IPY_MODEL_22f50d0da2a94ef88802fab84a05c192"
      }
     },
     "11ed850eb7644d61a8f4da5605a77286": {
      "model_module": "@jupyter-widgets/base",
      "model_module_version": "1.2.0",
      "model_name": "LayoutModel",
      "state": {}
     },
     "11eed33b95534b12abfa7ec57802e5f6": {
      "model_module": "@jupyter-widgets/controls",
      "model_module_version": "1.5.0",
      "model_name": "TextareaModel",
      "state": {
       "description": "String:",
       "layout": "IPY_MODEL_c884ad3ce0c149e58501541f2ac4c6f5",
       "placeholder": "Type something",
       "style": "IPY_MODEL_138b1b210a0143dbb00f3bd4aff76f93"
      }
     },
     "11f2e76761b5436f8a92c029a645a3c2": {
      "model_module": "@jupyter-widgets/controls",
      "model_module_version": "1.5.0",
      "model_name": "HBoxModel",
      "state": {
       "children": [
        "IPY_MODEL_11aad809c74f42868e9a9b3c71c58a17",
        "IPY_MODEL_3284719feea743748906d6b1d5622afc"
       ],
       "layout": "IPY_MODEL_ede2a4b3aed2490d871b345428d88ea8"
      }
     },
     "11f75ec427aa4f7a89acbc513d39b1e1": {
      "model_module": "@jupyter-widgets/controls",
      "model_module_version": "1.5.0",
      "model_name": "TextareaModel",
      "state": {
       "description": "Code:",
       "layout": "IPY_MODEL_6cc17c6a6f0d40cfaea7a9cbb23205e9",
       "placeholder": "Type code here",
       "style": "IPY_MODEL_4cd5b59b960245dc9937ee0082711838",
       "value": "for n in range(0, 10):\n  print(n)"
      }
     },
     "1237807e12f949c1aef72c9d33fa08bf": {
      "model_module": "@jupyter-widgets/controls",
      "model_module_version": "1.5.0",
      "model_name": "DescriptionStyleModel",
      "state": {
       "description_width": ""
      }
     },
     "124f0fd0cf974595806c146d87e58b7c": {
      "model_module": "@jupyter-widgets/controls",
      "model_module_version": "1.5.0",
      "model_name": "TextareaModel",
      "state": {
       "description": "String:",
       "layout": "IPY_MODEL_a0491b6af5224cc8abdbf054ba406f29",
       "placeholder": "Type something",
       "style": "IPY_MODEL_ffc1dbafe94844788ef07886af902aa1"
      }
     },
     "127520ec71984bae9ac1d9e4b6ec9027": {
      "model_module": "@jupyter-widgets/base",
      "model_module_version": "1.2.0",
      "model_name": "LayoutModel",
      "state": {}
     },
     "129cafe2a7914f5cbbad8794c625bb6a": {
      "model_module": "@jupyter-widgets/base",
      "model_module_version": "1.2.0",
      "model_name": "LayoutModel",
      "state": {}
     },
     "12c987fc1ffa433385f59acfd7950b91": {
      "model_module": "@jupyter-widgets/base",
      "model_module_version": "1.2.0",
      "model_name": "LayoutModel",
      "state": {}
     },
     "12e2d407f67a46289ae2b0e627caae3b": {
      "model_module": "@jupyter-widgets/controls",
      "model_module_version": "1.5.0",
      "model_name": "LabelModel",
      "state": {
       "layout": "IPY_MODEL_2d37b0c8ad264e219ae56480f70debd6",
       "style": "IPY_MODEL_f72443689df44beda0e8c83cf8e2c6d4"
      }
     },
     "12f950577f77448996e6c054606b77c0": {
      "model_module": "@jupyter-widgets/controls",
      "model_module_version": "1.5.0",
      "model_name": "HBoxModel",
      "state": {
       "children": [
        "IPY_MODEL_4d0c4c5b094d415e8617341f99d16d2c",
        "IPY_MODEL_9c5a734054dd4ee8a605802917ec302b"
       ],
       "layout": "IPY_MODEL_15fbff14eca24ade9c576ff054e1ee5b"
      }
     },
     "12fff06a0b7543f6b29b20fdf234fbb8": {
      "model_module": "@jupyter-widgets/base",
      "model_module_version": "1.2.0",
      "model_name": "LayoutModel",
      "state": {
       "width": "5%"
      }
     },
     "130e9c4b56c045ff8c2909f22e66c2c8": {
      "model_module": "@jupyter-widgets/base",
      "model_module_version": "1.2.0",
      "model_name": "LayoutModel",
      "state": {}
     },
     "131f94ddae434080961e2e93c5f00673": {
      "model_module": "@jupyter-widgets/base",
      "model_module_version": "1.2.0",
      "model_name": "LayoutModel",
      "state": {
       "width": "90%"
      }
     },
     "13295c3559f04b03825237882b675ab4": {
      "model_module": "@jupyter-widgets/base",
      "model_module_version": "1.2.0",
      "model_name": "LayoutModel",
      "state": {}
     },
     "1333ba2acd684db89ecda45a51a54208": {
      "model_module": "@jupyter-widgets/controls",
      "model_module_version": "1.5.0",
      "model_name": "DescriptionStyleModel",
      "state": {
       "description_width": ""
      }
     },
     "13402f20d4f54e9fae390f777ad5b269": {
      "model_module": "@jupyter-widgets/controls",
      "model_module_version": "1.5.0",
      "model_name": "TextareaModel",
      "state": {
       "description": "Code:",
       "layout": "IPY_MODEL_51bb30f8cc78403cb4959c70ed882c4c",
       "placeholder": "Type code here",
       "style": "IPY_MODEL_3b87853d41614fdebda8d11c67fc14d6"
      }
     },
     "135a82b7844e46ce9ac66f6c3044f097": {
      "model_module": "@jupyter-widgets/controls",
      "model_module_version": "1.5.0",
      "model_name": "DescriptionStyleModel",
      "state": {
       "description_width": ""
      }
     },
     "138b1b210a0143dbb00f3bd4aff76f93": {
      "model_module": "@jupyter-widgets/controls",
      "model_module_version": "1.5.0",
      "model_name": "DescriptionStyleModel",
      "state": {
       "description_width": ""
      }
     },
     "13a5ddf3b1a342b3a30b17521450f664": {
      "model_module": "@jupyter-widgets/controls",
      "model_module_version": "1.5.0",
      "model_name": "DescriptionStyleModel",
      "state": {
       "description_width": ""
      }
     },
     "13c7aad4f71e43b48c906a795628e30e": {
      "model_module": "@jupyter-widgets/controls",
      "model_module_version": "1.5.0",
      "model_name": "DescriptionStyleModel",
      "state": {
       "description_width": ""
      }
     },
     "13da099ae7424e42a1bca4bbe228ab94": {
      "model_module": "@jupyter-widgets/controls",
      "model_module_version": "1.5.0",
      "model_name": "LabelModel",
      "state": {
       "layout": "IPY_MODEL_0d3c0d4f10cb4c5dacd5f5e5e44e490b",
       "style": "IPY_MODEL_02478cce6d1042d48ba7f4f184105447"
      }
     },
     "13e86b2f05534aebb59b450ddf8b4a0b": {
      "model_module": "@jupyter-widgets/base",
      "model_module_version": "1.2.0",
      "model_name": "LayoutModel",
      "state": {
       "width": "5%"
      }
     },
     "13e8c87e08ae4ab39395d121abda0e5b": {
      "model_module": "@jupyter-widgets/controls",
      "model_module_version": "1.5.0",
      "model_name": "HBoxModel",
      "state": {
       "children": [
        "IPY_MODEL_bc9e124b1df8454f8ebbba573d62e03e",
        "IPY_MODEL_124f0fd0cf974595806c146d87e58b7c"
       ],
       "layout": "IPY_MODEL_15f9683d59df464b8b43810a865dadc4"
      }
     },
     "13f5fce8ddfb436c98187db96515e58c": {
      "model_module": "@jupyter-widgets/controls",
      "model_module_version": "1.5.0",
      "model_name": "TextareaModel",
      "state": {
       "description": "String:",
       "layout": "IPY_MODEL_c21f8f1d5b544ab4b564c5227057b6c5",
       "placeholder": "Type something",
       "style": "IPY_MODEL_1a5d08d7d7674371942a6eee9a0b1f56"
      }
     },
     "14332acd450442b2b94bfc84260a8c8a": {
      "model_module": "@jupyter-widgets/base",
      "model_module_version": "1.2.0",
      "model_name": "LayoutModel",
      "state": {}
     },
     "14373bbf22d64ee681883500310fc6e7": {
      "model_module": "@jupyter-widgets/controls",
      "model_module_version": "1.5.0",
      "model_name": "TextareaModel",
      "state": {
       "description": "Code:",
       "layout": "IPY_MODEL_93dd4dcc5f6442b98e4db3ce42b9c3d6",
       "placeholder": "Type code here",
       "style": "IPY_MODEL_39118ecb67c64f5bbb215d18d4c07d16",
       "value": "plt.close()"
      }
     },
     "146c5007c1f84392bda30907163ec5d8": {
      "model_module": "@jupyter-widgets/controls",
      "model_module_version": "1.5.0",
      "model_name": "TextareaModel",
      "state": {
       "description": "Code:",
       "layout": "IPY_MODEL_6448a300886a4b03bd7b9b5d35b529e3",
       "placeholder": "Type code here",
       "style": "IPY_MODEL_eed69bf2d0a346fd871270430f8cdd73",
       "value": "import matplotlib.pyplot as plt \nplt.plot(0,5)"
      }
     },
     "146f583ad7054131b7856abea711f215": {
      "model_module": "@jupyter-widgets/base",
      "model_module_version": "1.2.0",
      "model_name": "LayoutModel",
      "state": {
       "width": "90%"
      }
     },
     "147e55cd2739450b8e60582768dab26e": {
      "model_module": "@jupyter-widgets/controls",
      "model_module_version": "1.5.0",
      "model_name": "DescriptionStyleModel",
      "state": {
       "description_width": ""
      }
     },
     "148202f2fc234d0f9036d8ba350c3f2c": {
      "model_module": "@jupyter-widgets/controls",
      "model_module_version": "1.5.0",
      "model_name": "HBoxModel",
      "state": {
       "children": [
        "IPY_MODEL_a33075e0af5542a6ab25a45f3bac70fa",
        "IPY_MODEL_3e4d6b38c1954f13817d0d22a609931e"
       ],
       "layout": "IPY_MODEL_32954a45c25248179613766fcee8a536"
      }
     },
     "14a5418d75584634a3950b6a1ea54865": {
      "model_module": "@jupyter-widgets/base",
      "model_module_version": "1.2.0",
      "model_name": "LayoutModel",
      "state": {
       "width": "5%"
      }
     },
     "14a956b9c3bd4de0a06220ac7f236b26": {
      "model_module": "@jupyter-widgets/base",
      "model_module_version": "1.2.0",
      "model_name": "LayoutModel",
      "state": {
       "width": "5%"
      }
     },
     "14c0ecf0782848ef99cdf3074c62d376": {
      "model_module": "@jupyter-widgets/controls",
      "model_module_version": "1.5.0",
      "model_name": "TextareaModel",
      "state": {
       "description": "Code:",
       "layout": "IPY_MODEL_67029f8a56c243fe87ff4b50e2c851d4",
       "placeholder": "Type code here",
       "style": "IPY_MODEL_ae62feea768643ed8fc078eaf2739cba",
       "value": "print('here')"
      }
     },
     "14c4d0dfaaed4412812883ca6fad3f9e": {
      "model_module": "@jupyter-widgets/controls",
      "model_module_version": "1.5.0",
      "model_name": "LabelModel",
      "state": {
       "layout": "IPY_MODEL_1ab57ded13584552aa8e5b4370ea69e4",
       "style": "IPY_MODEL_af00bf0b2b26489b8875f308c0592db3"
      }
     },
     "14d00612372a44518abefaba2879a5a4": {
      "model_module": "@jupyter-widgets/base",
      "model_module_version": "1.2.0",
      "model_name": "LayoutModel",
      "state": {
       "width": "5%"
      }
     },
     "14deb869cbd54ad5a3c85173253884c7": {
      "model_module": "@jupyter-widgets/controls",
      "model_module_version": "1.5.0",
      "model_name": "DescriptionStyleModel",
      "state": {
       "description_width": ""
      }
     },
     "14f4945da6924531b037be204a70ebc2": {
      "model_module": "@jupyter-widgets/controls",
      "model_module_version": "1.5.0",
      "model_name": "DescriptionStyleModel",
      "state": {
       "description_width": ""
      }
     },
     "14fec46066e44e55b0b5eafa3a55c719": {
      "model_module": "@jupyter-widgets/controls",
      "model_module_version": "1.5.0",
      "model_name": "LabelModel",
      "state": {
       "layout": "IPY_MODEL_37c866b96d204d2b91d0da944fcabb96",
       "style": "IPY_MODEL_8aef5f4faab44e8ca461ac0344280aff"
      }
     },
     "15204199d900465e8ee4cad34b9e7e67": {
      "model_module": "@jupyter-widgets/controls",
      "model_module_version": "1.5.0",
      "model_name": "ButtonStyleModel",
      "state": {}
     },
     "152a3304d4784e4d8fef67b9550211ea": {
      "model_module": "@jupyter-widgets/base",
      "model_module_version": "1.2.0",
      "model_name": "LayoutModel",
      "state": {}
     },
     "152e3318e31544d2a155390329966bd7": {
      "model_module": "@jupyter-widgets/base",
      "model_module_version": "1.2.0",
      "model_name": "LayoutModel",
      "state": {
       "width": "5%"
      }
     },
     "1567a66659d54b8a95dd5bd1194e3957": {
      "model_module": "@jupyter-widgets/controls",
      "model_module_version": "1.5.0",
      "model_name": "ButtonModel",
      "state": {
       "description": "Run Code",
       "layout": "IPY_MODEL_69ed3aa04299437d99865b91b45ba73c",
       "style": "IPY_MODEL_3f1a5b279ed74e958dad2ac817f51277",
       "tooltip": "Click to test your code"
      }
     },
     "1574f47a838d458699d4e90458108b81": {
      "model_module": "@jupyter-widgets/controls",
      "model_module_version": "1.5.0",
      "model_name": "DescriptionStyleModel",
      "state": {
       "description_width": ""
      }
     },
     "157bd6c2d14d4c2383045454dc909944": {
      "model_module": "@jupyter-widgets/base",
      "model_module_version": "1.2.0",
      "model_name": "LayoutModel",
      "state": {}
     },
     "158c05dd3b9a4a72bc13399f920653cd": {
      "model_module": "@jupyter-widgets/base",
      "model_module_version": "1.2.0",
      "model_name": "LayoutModel",
      "state": {
       "width": "90%"
      }
     },
     "15d424839a3e45488c23fdb984e72e9c": {
      "model_module": "@jupyter-widgets/controls",
      "model_module_version": "1.5.0",
      "model_name": "LabelModel",
      "state": {
       "layout": "IPY_MODEL_a490a2aeddef46ec9cff6ea48a7b180b",
       "style": "IPY_MODEL_6fe5840f34ae40eda932a58fc46288d7"
      }
     },
     "15f9683d59df464b8b43810a865dadc4": {
      "model_module": "@jupyter-widgets/base",
      "model_module_version": "1.2.0",
      "model_name": "LayoutModel",
      "state": {}
     },
     "15fbff14eca24ade9c576ff054e1ee5b": {
      "model_module": "@jupyter-widgets/base",
      "model_module_version": "1.2.0",
      "model_name": "LayoutModel",
      "state": {}
     },
     "1602fe6f0a7a49569bf4f83a4d5ca79c": {
      "model_module": "@jupyter-widgets/controls",
      "model_module_version": "1.5.0",
      "model_name": "DescriptionStyleModel",
      "state": {
       "description_width": ""
      }
     },
     "1624ace6b1c7407086495aab56cf9a8b": {
      "model_module": "@jupyter-widgets/controls",
      "model_module_version": "1.5.0",
      "model_name": "LabelModel",
      "state": {
       "layout": "IPY_MODEL_3b6f0313a1bd47d9830d4ae87b99bd46",
       "style": "IPY_MODEL_7f86323d571c4eb3913f77721e92a5b2"
      }
     },
     "162fe5e2bcd14386905ca83c10ee7135": {
      "model_module": "@jupyter-widgets/base",
      "model_module_version": "1.2.0",
      "model_name": "LayoutModel",
      "state": {}
     },
     "1636da9d9661469a8b06edbd8c158164": {
      "model_module": "@jupyter-widgets/controls",
      "model_module_version": "1.5.0",
      "model_name": "LabelModel",
      "state": {
       "layout": "IPY_MODEL_644becae1a2f47f48d3517921ec05875",
       "style": "IPY_MODEL_0404bcc320f54039ada804d9862339eb"
      }
     },
     "16833b052e514fea95854a9d37e39069": {
      "model_module": "@jupyter-widgets/controls",
      "model_module_version": "1.5.0",
      "model_name": "DescriptionStyleModel",
      "state": {
       "description_width": ""
      }
     },
     "169bd6c322824544be9c44617b33ebfd": {
      "model_module": "@jupyter-widgets/controls",
      "model_module_version": "1.5.0",
      "model_name": "LabelModel",
      "state": {
       "layout": "IPY_MODEL_1868773cd2e74fafa97921a7ef68e6b3",
       "style": "IPY_MODEL_781d3d2a1da848a695413a912ffa64b9"
      }
     },
     "16ab5a97361341eab83d6055c9fa185f": {
      "model_module": "@jupyter-widgets/controls",
      "model_module_version": "1.5.0",
      "model_name": "HBoxModel",
      "state": {
       "children": [
        "IPY_MODEL_8b89adc35f5148c0bacf11544692c909",
        "IPY_MODEL_4b501f74c4174f5db1fe845b6485d087"
       ],
       "layout": "IPY_MODEL_7188c4bac710454fbce92658cf516882"
      }
     },
     "16df57b204c2434ea28f358827236c7d": {
      "model_module": "@jupyter-widgets/controls",
      "model_module_version": "1.5.0",
      "model_name": "HBoxModel",
      "state": {
       "children": [
        "IPY_MODEL_002d59c9d9364a3d91c8fb7421281f0a",
        "IPY_MODEL_4733d7c565bb4ac99a23b11487bb5d3a"
       ],
       "layout": "IPY_MODEL_1010564fd0824965afdc9e9f9a285600"
      }
     },
     "16ea58bad4c94ea0bb6f40529b729b96": {
      "model_module": "@jupyter-widgets/controls",
      "model_module_version": "1.5.0",
      "model_name": "TextareaModel",
      "state": {
       "description": "String:",
       "layout": "IPY_MODEL_daa63af477c045b1b9ce81ac0deeb65b",
       "placeholder": "Type something",
       "style": "IPY_MODEL_07e9ae9e0f4d4aaaab4abbb8b982148b"
      }
     },
     "170a0744ee624315b29e72988bc384c6": {
      "model_module": "@jupyter-widgets/base",
      "model_module_version": "1.2.0",
      "model_name": "LayoutModel",
      "state": {
       "width": "90%"
      }
     },
     "1734638b6da94e1188af3dc38348619b": {
      "model_module": "@jupyter-widgets/base",
      "model_module_version": "1.2.0",
      "model_name": "LayoutModel",
      "state": {}
     },
     "174a6c5f44ed4c62a21d404a45e0f0aa": {
      "model_module": "@jupyter-widgets/controls",
      "model_module_version": "1.5.0",
      "model_name": "DescriptionStyleModel",
      "state": {
       "description_width": ""
      }
     },
     "176be812a8584624b9958a27f654dfda": {
      "model_module": "@jupyter-widgets/controls",
      "model_module_version": "1.5.0",
      "model_name": "DescriptionStyleModel",
      "state": {
       "description_width": ""
      }
     },
     "17917d6de1374cb293b7ed9f08ed4986": {
      "model_module": "@jupyter-widgets/controls",
      "model_module_version": "1.5.0",
      "model_name": "LabelModel",
      "state": {
       "layout": "IPY_MODEL_05eff95dab674981994398785edd9d42",
       "style": "IPY_MODEL_ff9fc85d19b14ab3832743ca5ed2ee9f"
      }
     },
     "17b1a5c1ff4f43d3af006d2cfda8d490": {
      "model_module": "@jupyter-widgets/controls",
      "model_module_version": "1.5.0",
      "model_name": "RadioButtonsModel",
      "state": {
       "_options_labels": [
        "a. light and matter",
        "b. time and space",
        "c. dephasing and dissipation",
        "d. linear and nonlinear processes"
       ],
       "index": 0,
       "layout": "IPY_MODEL_37633b91b85548e38ba0d454f2e27f3c",
       "style": "IPY_MODEL_96f1cec82fb6468f930d4f4c7a4c5fa4"
      }
     },
     "17d13e78be384df1a5fe2953cf750652": {
      "model_module": "@jupyter-widgets/base",
      "model_module_version": "1.2.0",
      "model_name": "LayoutModel",
      "state": {
       "width": "90%"
      }
     },
     "17e698a7fc4941868d49d969dc58db0a": {
      "model_module": "@jupyter-widgets/controls",
      "model_module_version": "1.5.0",
      "model_name": "ButtonModel",
      "state": {
       "description": "Test Code",
       "layout": "IPY_MODEL_f38df868ab7c468386c320a06600a40a",
       "style": "IPY_MODEL_bcab7b5d67dd4a808112d7db16683ff9",
       "tooltip": "Click to test your code"
      }
     },
     "17eddc7b94634769bc46b0b52762f9c0": {
      "model_module": "@jupyter-widgets/base",
      "model_module_version": "1.2.0",
      "model_name": "LayoutModel",
      "state": {}
     },
     "17fc5a8d03c3480c8fe82fed4d808471": {
      "model_module": "@jupyter-widgets/controls",
      "model_module_version": "1.5.0",
      "model_name": "DescriptionStyleModel",
      "state": {
       "description_width": ""
      }
     },
     "18067e3760ac40919d37b1e52ca29e10": {
      "model_module": "@jupyter-widgets/base",
      "model_module_version": "1.2.0",
      "model_name": "LayoutModel",
      "state": {
       "width": "5%"
      }
     },
     "181afb8266da481bbeb5cf91dc940f6c": {
      "model_module": "@jupyter-widgets/controls",
      "model_module_version": "1.5.0",
      "model_name": "DescriptionStyleModel",
      "state": {
       "description_width": ""
      }
     },
     "182bf784baf741a2bd3709c3e2551e7a": {
      "model_module": "@jupyter-widgets/controls",
      "model_module_version": "1.5.0",
      "model_name": "RadioButtonsModel",
      "state": {
       "_options_labels": [
        "a. Stabilize (prolong) induced polarizations",
        "b. Cause more rapid decay of the induced polarization",
        "c. Increase the magnitude of the induced polarization",
        "d. Waste money"
       ],
       "index": 0,
       "layout": "IPY_MODEL_07feb9a03ff94c1297d73028042d1c3a",
       "style": "IPY_MODEL_bfc3baa6b5c941b1ab78567752d98f35"
      }
     },
     "1854dc84736147a5a433f3f2b2181fed": {
      "model_module": "@jupyter-widgets/controls",
      "model_module_version": "1.5.0",
      "model_name": "VBoxModel",
      "state": {
       "children": [
        "IPY_MODEL_4eef617d85b84285a4168a0a8e8d2514",
        "IPY_MODEL_dd0a85a652e44343a53029612b330935"
       ],
       "layout": "IPY_MODEL_25862177a1a2481b93fb774ebf022855"
      }
     },
     "1868773cd2e74fafa97921a7ef68e6b3": {
      "model_module": "@jupyter-widgets/base",
      "model_module_version": "1.2.0",
      "model_name": "LayoutModel",
      "state": {
       "width": "5%"
      }
     },
     "1877900a554b4a1cbcc8c3fda37ee564": {
      "model_module": "@jupyter-widgets/controls",
      "model_module_version": "1.5.0",
      "model_name": "DescriptionStyleModel",
      "state": {
       "description_width": ""
      }
     },
     "18892c083d1c42e3974cb8a670dd8b10": {
      "model_module": "@jupyter-widgets/controls",
      "model_module_version": "1.5.0",
      "model_name": "LabelModel",
      "state": {
       "layout": "IPY_MODEL_6ae028b2586f47dfbc9a30f8bdd63796",
       "style": "IPY_MODEL_894d647fcc82472b813487149deba48c"
      }
     },
     "1891b18f8e3a403ab09f151a81e744e7": {
      "model_module": "@jupyter-widgets/output",
      "model_module_version": "1.0.0",
      "model_name": "OutputModel",
      "state": {
       "layout": "IPY_MODEL_337730e21c5d4de0a2af6d9a7ff1ada7",
       "outputs": [
        {
         "name": "stdout",
         "output_type": "stream",
         "text": "0\n1\n2\n3\n4\n5\n6\n7\n8\n9\n"
        }
       ]
      }
     },
     "18b78a2072624f58ae382c0ee9dd5250": {
      "model_module": "@jupyter-widgets/controls",
      "model_module_version": "1.5.0",
      "model_name": "DescriptionStyleModel",
      "state": {
       "description_width": ""
      }
     },
     "18d30aeb2a8446019e783b6024ccd906": {
      "model_module": "@jupyter-widgets/base",
      "model_module_version": "1.2.0",
      "model_name": "LayoutModel",
      "state": {
       "width": "5%"
      }
     },
     "18d422e36b9a421186e00dd746c62b1c": {
      "model_module": "@jupyter-widgets/controls",
      "model_module_version": "1.5.0",
      "model_name": "ButtonModel",
      "state": {
       "description": "Review Answers",
       "layout": "IPY_MODEL_5685193912864ea68c61f99d8799d8b7",
       "style": "IPY_MODEL_3d31f09cb9ef43a4a374c162bfefeb0c",
       "tooltip": "Click to review answers"
      }
     },
     "18dba10b38cb473a86edf7911d17e199": {
      "model_module": "@jupyter-widgets/base",
      "model_module_version": "1.2.0",
      "model_name": "LayoutModel",
      "state": {
       "width": "90%"
      }
     },
     "18f3f4d11c244a869aa5fc1919dd4030": {
      "model_module": "@jupyter-widgets/base",
      "model_module_version": "1.2.0",
      "model_name": "LayoutModel",
      "state": {
       "width": "5%"
      }
     },
     "1913b8cdbfa742e9a72ffbff47e5bab3": {
      "model_module": "@jupyter-widgets/controls",
      "model_module_version": "1.5.0",
      "model_name": "DescriptionStyleModel",
      "state": {
       "description_width": ""
      }
     },
     "193695b4b38e46978e1589a1c325a515": {
      "model_module": "@jupyter-widgets/base",
      "model_module_version": "1.2.0",
      "model_name": "LayoutModel",
      "state": {}
     },
     "1945d2182a4a4beba94cba13ffec877d": {
      "model_module": "@jupyter-widgets/base",
      "model_module_version": "1.2.0",
      "model_name": "LayoutModel",
      "state": {
       "width": "90%"
      }
     },
     "19536f13254f432c94c655e9cd9b4155": {
      "model_module": "@jupyter-widgets/controls",
      "model_module_version": "1.5.0",
      "model_name": "HBoxModel",
      "state": {
       "children": [
        "IPY_MODEL_9548259fffbf48b38c89bcec28be40f8",
        "IPY_MODEL_75bef438b5684548ae18698a8f341f2b"
       ],
       "layout": "IPY_MODEL_6af819a7115a433fab61c09840aab9a5"
      }
     },
     "1954955b65d34b1fb7a473fa89b66c42": {
      "model_module": "@jupyter-widgets/base",
      "model_module_version": "1.2.0",
      "model_name": "LayoutModel",
      "state": {}
     },
     "1968ffe59c244a019ec06089d4ac0ec2": {
      "model_module": "@jupyter-widgets/controls",
      "model_module_version": "1.5.0",
      "model_name": "TextareaModel",
      "state": {
       "description": "String:",
       "layout": "IPY_MODEL_b9536f02d6364f5bad4837255d94ccdc",
       "placeholder": "Type something",
       "style": "IPY_MODEL_c248201ee0ab41c1af93f07aed6596ca"
      }
     },
     "19a14748be0f422b94d495f502eba40b": {
      "model_module": "@jupyter-widgets/controls",
      "model_module_version": "1.5.0",
      "model_name": "HBoxModel",
      "state": {
       "children": [
        "IPY_MODEL_3da443172b95477f8f13aa5a0ba9d2c1",
        "IPY_MODEL_e0a5b7d346ad43f49a176e993795d4e7"
       ],
       "layout": "IPY_MODEL_faec9347dc1d49be93ff2e57e20d9579"
      }
     },
     "19a6794229c34ac99e2ad822410869d3": {
      "model_module": "@jupyter-widgets/base",
      "model_module_version": "1.2.0",
      "model_name": "LayoutModel",
      "state": {
       "width": "90%"
      }
     },
     "19e0625313ba4fb3ae8b85a181342a8a": {
      "model_module": "@jupyter-widgets/controls",
      "model_module_version": "1.5.0",
      "model_name": "TextareaModel",
      "state": {
       "description": "Answer:",
       "layout": "IPY_MODEL_f428994c45014f458751b062bc63342c",
       "placeholder": "Type something",
       "style": "IPY_MODEL_8c289bb3f146463c9745fea83b71666b"
      }
     },
     "19fae1a28d5243ee88b185a3defafc6c": {
      "model_module": "@jupyter-widgets/controls",
      "model_module_version": "1.5.0",
      "model_name": "RadioButtonsModel",
      "state": {
       "_options_labels": [
        "a. The Schrodinger equation",
        "b. Newton's Equations",
        "c. Maxwell's Equations",
        "d. The Klein-Gordon Equation"
       ],
       "index": 1,
       "layout": "IPY_MODEL_f94b2b1d60e542f1ac3e7b6a57f33c80",
       "style": "IPY_MODEL_89329dfa83f2477ca3508bd59add24b9"
      }
     },
     "1a4cd5bd5cae4018bd529207810af526": {
      "model_module": "@jupyter-widgets/controls",
      "model_module_version": "1.5.0",
      "model_name": "RadioButtonsModel",
      "state": {
       "_options_labels": [
        "a. Temperature",
        "b. Color",
        "c. Mass",
        "d. Charge"
       ],
       "index": 0,
       "layout": "IPY_MODEL_aed07b3ba7f24d4ba82dd38a761a8e3b",
       "style": "IPY_MODEL_c753d4dccc0c4071929957652d8f0898"
      }
     },
     "1a4ea111c8d043e595451dcd3ad626ab": {
      "model_module": "@jupyter-widgets/controls",
      "model_module_version": "1.5.0",
      "model_name": "TextareaModel",
      "state": {
       "description": "Code:",
       "layout": "IPY_MODEL_4d93c73b9523408dbac2534d23e55120",
       "placeholder": "Type code here",
       "style": "IPY_MODEL_c7ca0e9998434ef083f479dacfa75ce4",
       "value": "for n in range(0,10):\n  print(n)"
      }
     },
     "1a5c197c441444b79d8681b40de7b6cc": {
      "model_module": "@jupyter-widgets/controls",
      "model_module_version": "1.5.0",
      "model_name": "DescriptionStyleModel",
      "state": {
       "description_width": ""
      }
     },
     "1a5d08d7d7674371942a6eee9a0b1f56": {
      "model_module": "@jupyter-widgets/controls",
      "model_module_version": "1.5.0",
      "model_name": "DescriptionStyleModel",
      "state": {
       "description_width": ""
      }
     },
     "1a906bc4faf6487281f39fea7ef7900e": {
      "model_module": "@jupyter-widgets/base",
      "model_module_version": "1.2.0",
      "model_name": "LayoutModel",
      "state": {}
     },
     "1a93b6c978be47448d17e5bf1fd4a811": {
      "model_module": "@jupyter-widgets/base",
      "model_module_version": "1.2.0",
      "model_name": "LayoutModel",
      "state": {}
     },
     "1aaab338bcae4ba5b0ef046ea85ae74a": {
      "model_module": "@jupyter-widgets/output",
      "model_module_version": "1.0.0",
      "model_name": "OutputModel",
      "state": {
       "layout": "IPY_MODEL_065f686dfa7548579862f77ee67a4f43",
       "outputs": [
        {
         "name": "stdout",
         "output_type": "stream",
         "text": "The output works\nprint('here')\n"
        }
       ]
      }
     },
     "1ab57ded13584552aa8e5b4370ea69e4": {
      "model_module": "@jupyter-widgets/base",
      "model_module_version": "1.2.0",
      "model_name": "LayoutModel",
      "state": {
       "width": "5%"
      }
     },
     "1abec4de150b4c01997155c64081c946": {
      "model_module": "@jupyter-widgets/controls",
      "model_module_version": "1.5.0",
      "model_name": "DescriptionStyleModel",
      "state": {
       "description_width": ""
      }
     },
     "1ac30843371b497286bf35a3d547fc31": {
      "model_module": "@jupyter-widgets/controls",
      "model_module_version": "1.5.0",
      "model_name": "DescriptionStyleModel",
      "state": {
       "description_width": ""
      }
     },
     "1acbacc87af2426aa5a744f40ba47523": {
      "model_module": "@jupyter-widgets/controls",
      "model_module_version": "1.5.0",
      "model_name": "DescriptionStyleModel",
      "state": {
       "description_width": ""
      }
     },
     "1afc621436254b58be1994ba30d5848d": {
      "model_module": "@jupyter-widgets/base",
      "model_module_version": "1.2.0",
      "model_name": "LayoutModel",
      "state": {
       "width": "90%"
      }
     },
     "1b048eed985f42b6929471a9e6b21416": {
      "model_module": "@jupyter-widgets/controls",
      "model_module_version": "1.5.0",
      "model_name": "DescriptionStyleModel",
      "state": {
       "description_width": ""
      }
     },
     "1b1793359acf43888bad1553938c1b23": {
      "model_module": "@jupyter-widgets/controls",
      "model_module_version": "1.5.0",
      "model_name": "DescriptionStyleModel",
      "state": {
       "description_width": ""
      }
     },
     "1b1f2b476ed148d78261e0d9f1be777e": {
      "model_module": "@jupyter-widgets/base",
      "model_module_version": "1.2.0",
      "model_name": "LayoutModel",
      "state": {
       "width": "5%"
      }
     },
     "1b3ba1292ffc45629fdbe7d23e1b4fac": {
      "model_module": "@jupyter-widgets/controls",
      "model_module_version": "1.5.0",
      "model_name": "LabelModel",
      "state": {
       "layout": "IPY_MODEL_735ec201233a42d098e424225b36202a",
       "style": "IPY_MODEL_b26dd91a17494c7da1b9a15d53b22ce5"
      }
     },
     "1b43ebb390b442b7a99968871c1d6cf5": {
      "model_module": "@jupyter-widgets/base",
      "model_module_version": "1.2.0",
      "model_name": "LayoutModel",
      "state": {}
     },
     "1b50ccb29f9c4d00b0f305ec50f5cefa": {
      "model_module": "@jupyter-widgets/base",
      "model_module_version": "1.2.0",
      "model_name": "LayoutModel",
      "state": {
       "width": "90%"
      }
     },
     "1b598366f695411f83e8be5b0cb04099": {
      "model_module": "@jupyter-widgets/controls",
      "model_module_version": "1.5.0",
      "model_name": "HBoxModel",
      "state": {
       "children": [
        "IPY_MODEL_d9bab028053d4559858addfcc6a1ef7b",
        "IPY_MODEL_20249d7a26bf49398dc4b9898676fb26"
       ],
       "layout": "IPY_MODEL_ca8130c2b96b423fab294c55e6b0e025"
      }
     },
     "1b5ed7840a05403f9e3986333c3ce22e": {
      "model_module": "@jupyter-widgets/controls",
      "model_module_version": "1.5.0",
      "model_name": "ButtonStyleModel",
      "state": {}
     },
     "1b660b8e874e4f21b0dd4c212cf9e39d": {
      "model_module": "@jupyter-widgets/base",
      "model_module_version": "1.2.0",
      "model_name": "LayoutModel",
      "state": {
       "width": "90%"
      }
     },
     "1ba2d9c11b9841abaa459091025d6757": {
      "model_module": "@jupyter-widgets/controls",
      "model_module_version": "1.5.0",
      "model_name": "LabelModel",
      "state": {
       "layout": "IPY_MODEL_913df71e8b734fe487b13fc042540636",
       "style": "IPY_MODEL_62e3b8d366e042a0a5dd3d74fc788bb9"
      }
     },
     "1babfbb2918c4a4789d33e6a67738306": {
      "model_module": "@jupyter-widgets/controls",
      "model_module_version": "1.5.0",
      "model_name": "DescriptionStyleModel",
      "state": {
       "description_width": ""
      }
     },
     "1bbbf459aa87432684c55d3cee055b26": {
      "model_module": "@jupyter-widgets/base",
      "model_module_version": "1.2.0",
      "model_name": "LayoutModel",
      "state": {
       "width": "5%"
      }
     },
     "1bd55816a03149bd8db48c6f43afeb6b": {
      "model_module": "@jupyter-widgets/controls",
      "model_module_version": "1.5.0",
      "model_name": "TextareaModel",
      "state": {
       "description": "String:",
       "layout": "IPY_MODEL_e8ac0ab041de4dec9cc88cc10789f2d9",
       "placeholder": "Type something",
       "style": "IPY_MODEL_9a1b51f330a74bca824f4e88a711b4c6"
      }
     },
     "1bd97e65c2cb4aefbc33ba723f854c13": {
      "model_module": "@jupyter-widgets/controls",
      "model_module_version": "1.5.0",
      "model_name": "HBoxModel",
      "state": {
       "children": [
        "IPY_MODEL_454a01ca3da34a08895f0198e7bbc93e",
        "IPY_MODEL_5470f5529ba6437dbff69c17fa8511f1"
       ],
       "layout": "IPY_MODEL_df0a8bdcad5745729ef55f8b2ced37a4"
      }
     },
     "1beb8a269fbf4f4eb72320f69e9ae6bf": {
      "model_module": "@jupyter-widgets/controls",
      "model_module_version": "1.5.0",
      "model_name": "DescriptionStyleModel",
      "state": {
       "description_width": ""
      }
     },
     "1bebf3de8d4c4933865b795190f09c73": {
      "model_module": "@jupyter-widgets/controls",
      "model_module_version": "1.5.0",
      "model_name": "HBoxModel",
      "state": {
       "children": [
        "IPY_MODEL_1daa8e26fad74609add6931ea5bb7cde",
        "IPY_MODEL_11f75ec427aa4f7a89acbc513d39b1e1"
       ],
       "layout": "IPY_MODEL_748fa116f27446d78d1181e2fe3791a3"
      }
     },
     "1c7c865369aa419e830aef37b53b029c": {
      "model_module": "@jupyter-widgets/controls",
      "model_module_version": "1.5.0",
      "model_name": "DescriptionStyleModel",
      "state": {
       "description_width": ""
      }
     },
     "1cd14641f1af4cb2946f9ed302effe8b": {
      "model_module": "@jupyter-widgets/controls",
      "model_module_version": "1.5.0",
      "model_name": "VBoxModel",
      "state": {
       "children": [
        "IPY_MODEL_217ecf6dc9c446a6b167bc5a3af698cb",
        "IPY_MODEL_58b0900287be48faa5a933de27e91a14"
       ],
       "layout": "IPY_MODEL_d4ca8a9e30d84cb587ad74f38c6f7c10"
      }
     },
     "1cd5432643754d45a9a40e3914a8b449": {
      "model_module": "@jupyter-widgets/controls",
      "model_module_version": "1.5.0",
      "model_name": "HBoxModel",
      "state": {
       "children": [
        "IPY_MODEL_f43a45277b3742d08ca4568479140ba4",
        "IPY_MODEL_e67b4a993fce4bcc8c1eb4b8d459ef3c"
       ],
       "layout": "IPY_MODEL_129cafe2a7914f5cbbad8794c625bb6a"
      }
     },
     "1cf3b07003664250b68e9fbbe35dfa84": {
      "model_module": "@jupyter-widgets/controls",
      "model_module_version": "1.5.0",
      "model_name": "VBoxModel",
      "state": {
       "children": [
        "IPY_MODEL_515e0059528443e09f7909f6d33669ec",
        "IPY_MODEL_1f35406fd0ef44dda8a52a5cd6f4bb32"
       ],
       "layout": "IPY_MODEL_157bd6c2d14d4c2383045454dc909944"
      }
     },
     "1d16f0e7ac5340f497af8749645810ef": {
      "model_module": "@jupyter-widgets/base",
      "model_module_version": "1.2.0",
      "model_name": "LayoutModel",
      "state": {}
     },
     "1d2cadf79f7d4d90be4be633799dd4ea": {
      "model_module": "@jupyter-widgets/controls",
      "model_module_version": "1.5.0",
      "model_name": "ButtonStyleModel",
      "state": {}
     },
     "1d3857e8ccb247b0a5ed1f6b78a2bef6": {
      "model_module": "@jupyter-widgets/controls",
      "model_module_version": "1.5.0",
      "model_name": "HBoxModel",
      "state": {
       "children": [
        "IPY_MODEL_91dce700ef6d4e0e822a29c7d3c50acc",
        "IPY_MODEL_41c5ed81d1d04f04bcba4c3ba5304783"
       ],
       "layout": "IPY_MODEL_7a20d316b7da4fb0aaee082077bdc2bb"
      }
     },
     "1d45ff0c14d04dc187907b4a2fc1c883": {
      "model_module": "@jupyter-widgets/base",
      "model_module_version": "1.2.0",
      "model_name": "LayoutModel",
      "state": {}
     },
     "1d64d4a2b9894cee9e58f76ccef32bc7": {
      "model_module": "@jupyter-widgets/controls",
      "model_module_version": "1.5.0",
      "model_name": "HBoxModel",
      "state": {
       "children": [
        "IPY_MODEL_0d01ddc6be7b4699bd9a3fdf6220c5a3",
        "IPY_MODEL_9bcea361886847a38deca2bb62a2682b"
       ],
       "layout": "IPY_MODEL_9bb0d5be26504b9ba101bbc2049e5606"
      }
     },
     "1d70efa0dfa84d07a08d648b60bb7df7": {
      "model_module": "@jupyter-widgets/base",
      "model_module_version": "1.2.0",
      "model_name": "LayoutModel",
      "state": {}
     },
     "1d7d0402000a4b5a841f2d591ebeffd1": {
      "model_module": "@jupyter-widgets/base",
      "model_module_version": "1.2.0",
      "model_name": "LayoutModel",
      "state": {
       "width": "5%"
      }
     },
     "1d7e345bf08f412e8261d604bae5e01e": {
      "model_module": "@jupyter-widgets/base",
      "model_module_version": "1.2.0",
      "model_name": "LayoutModel",
      "state": {}
     },
     "1d81b495b2b1468eab3f06e176ed7e78": {
      "model_module": "@jupyter-widgets/base",
      "model_module_version": "1.2.0",
      "model_name": "LayoutModel",
      "state": {
       "width": "5%"
      }
     },
     "1d95a8b13da642e1a799a18b5bbb7ef6": {
      "model_module": "@jupyter-widgets/base",
      "model_module_version": "1.2.0",
      "model_name": "LayoutModel",
      "state": {}
     },
     "1daa8e26fad74609add6931ea5bb7cde": {
      "model_module": "@jupyter-widgets/controls",
      "model_module_version": "1.5.0",
      "model_name": "LabelModel",
      "state": {
       "layout": "IPY_MODEL_a850185709cd4842b51338bf42d99e56",
       "style": "IPY_MODEL_21ddeb480cf04af595697198dc64133f"
      }
     },
     "1db04b2cc4624e1fbdfb9fcb363a8888": {
      "model_module": "@jupyter-widgets/controls",
      "model_module_version": "1.5.0",
      "model_name": "HBoxModel",
      "state": {
       "children": [
        "IPY_MODEL_9ea575ea63a74fb38dad7c5e28d5f26a",
        "IPY_MODEL_7b5fe60ac3964a90ba760b96de55702b"
       ],
       "layout": "IPY_MODEL_3e7fee6df99848df8cdbc1e3f8311868"
      }
     },
     "1ddbdec245694e47a2fb46322369937a": {
      "model_module": "@jupyter-widgets/base",
      "model_module_version": "1.2.0",
      "model_name": "LayoutModel",
      "state": {
       "width": "5%"
      }
     },
     "1dfb724bdd84476d88a2aa99ecfe1a0a": {
      "model_module": "@jupyter-widgets/controls",
      "model_module_version": "1.5.0",
      "model_name": "ButtonStyleModel",
      "state": {}
     },
     "1dff5e76eb3d463c97fc90dbcd15780e": {
      "model_module": "@jupyter-widgets/base",
      "model_module_version": "1.2.0",
      "model_name": "LayoutModel",
      "state": {
       "width": "90%"
      }
     },
     "1e1a657436584add9e13e2f726d1ba83": {
      "model_module": "@jupyter-widgets/controls",
      "model_module_version": "1.5.0",
      "model_name": "DescriptionStyleModel",
      "state": {
       "description_width": ""
      }
     },
     "1e338c5bf2e845dc959cef3b0e716df1": {
      "model_module": "@jupyter-widgets/controls",
      "model_module_version": "1.5.0",
      "model_name": "TextareaModel",
      "state": {
       "description": "Code:",
       "layout": "IPY_MODEL_46f8d22e3a0b46349bed8e6132490d16",
       "placeholder": "Type code here",
       "style": "IPY_MODEL_313d631e34fc4410a4c0268f2d8bfa6b"
      }
     },
     "1e6e41ca8a5241ceac4df816f73fc81b": {
      "model_module": "@jupyter-widgets/controls",
      "model_module_version": "1.5.0",
      "model_name": "DescriptionStyleModel",
      "state": {
       "description_width": ""
      }
     },
     "1e910163adda4e9782fdeb590d917476": {
      "model_module": "@jupyter-widgets/controls",
      "model_module_version": "1.5.0",
      "model_name": "DescriptionStyleModel",
      "state": {
       "description_width": ""
      }
     },
     "1e9400ad1e7e401da9d5fe229d95da72": {
      "model_module": "@jupyter-widgets/controls",
      "model_module_version": "1.5.0",
      "model_name": "DescriptionStyleModel",
      "state": {
       "description_width": ""
      }
     },
     "1e9620f363bd499684442486bb6da23b": {
      "model_module": "@jupyter-widgets/controls",
      "model_module_version": "1.5.0",
      "model_name": "VBoxModel",
      "state": {
       "children": [
        "IPY_MODEL_35ef5a197982449aa06a8dbcec20352e",
        "IPY_MODEL_8910bf16141b44feb1b196a4a29129b5"
       ],
       "layout": "IPY_MODEL_af3b7321d579431a946646ab77305cb6"
      }
     },
     "1ea7df1a2b02495e9e69156a071bbeb3": {
      "model_module": "@jupyter-widgets/controls",
      "model_module_version": "1.5.0",
      "model_name": "HBoxModel",
      "state": {
       "children": [
        "IPY_MODEL_63eee32a30d54947804f2c991a593a44",
        "IPY_MODEL_baeb626baab24a479bb168507555845b"
       ],
       "layout": "IPY_MODEL_2abab62d858147dca835a628321d8132"
      }
     },
     "1eaaefa659bd43b9a0b5006641072356": {
      "model_module": "@jupyter-widgets/controls",
      "model_module_version": "1.5.0",
      "model_name": "VBoxModel",
      "state": {
       "children": [
        "IPY_MODEL_f22572ffca864241b0693b08f9e16056",
        "IPY_MODEL_0518dc213c884fceb279e672dee172dc"
       ],
       "layout": "IPY_MODEL_2334323d200b4e5392528b6fc095aa8e"
      }
     },
     "1eb906dd22984ea8862b620acc093dd9": {
      "model_module": "@jupyter-widgets/controls",
      "model_module_version": "1.5.0",
      "model_name": "HBoxModel",
      "state": {
       "children": [
        "IPY_MODEL_d3df205d6ae742e8b478f38debbed52c",
        "IPY_MODEL_4803877ed86344769fd8ed0db2f61c82"
       ],
       "layout": "IPY_MODEL_56f56abac0c84519beefdc72555d3c0e"
      }
     },
     "1ee052e0e8034ec99651c86bc30ff7a4": {
      "model_module": "@jupyter-widgets/controls",
      "model_module_version": "1.5.0",
      "model_name": "HBoxModel",
      "state": {
       "children": [
        "IPY_MODEL_026e801428384f6a8f774ca2edacb0e4",
        "IPY_MODEL_2cfdd1956657432aac5784352a805c61"
       ],
       "layout": "IPY_MODEL_0b815cdbe120486a964823d08497fe36"
      }
     },
     "1ee827b3b1714cdfb168d8183178ebc1": {
      "model_module": "@jupyter-widgets/controls",
      "model_module_version": "1.5.0",
      "model_name": "DescriptionStyleModel",
      "state": {
       "description_width": ""
      }
     },
     "1f2a88eaf82545a98218081ebe39f134": {
      "model_module": "@jupyter-widgets/base",
      "model_module_version": "1.2.0",
      "model_name": "LayoutModel",
      "state": {
       "width": "5%"
      }
     },
     "1f35406fd0ef44dda8a52a5cd6f4bb32": {
      "model_module": "@jupyter-widgets/controls",
      "model_module_version": "1.5.0",
      "model_name": "ButtonModel",
      "state": {
       "description": "Test Code",
       "layout": "IPY_MODEL_ff4ed90524a2421fa61c5edd2070258b",
       "style": "IPY_MODEL_c99f87a287b7469592f823b0d978d9fc",
       "tooltip": "Click to test your code"
      }
     },
     "1f37729891734b5f9e9c78e8acfd2f87": {
      "model_module": "@jupyter-widgets/controls",
      "model_module_version": "1.5.0",
      "model_name": "TextareaModel",
      "state": {
       "description": "Answer:",
       "layout": "IPY_MODEL_3357688bb2274294b6f222974f6ca311",
       "placeholder": "Type something",
       "style": "IPY_MODEL_2d3524e8a30f409ba0d7757381723de8"
      }
     },
     "1f76c4e9d77a48838690fa53cd74239f": {
      "model_module": "@jupyter-widgets/controls",
      "model_module_version": "1.5.0",
      "model_name": "LabelModel",
      "state": {
       "layout": "IPY_MODEL_bf43f9f47c5f4b8b92bd6ca5d377bee6",
       "style": "IPY_MODEL_e0d8dd71b381437c82383a5a8fdc0575"
      }
     },
     "1f7c5a63c0384141aeab95a091c07f9f": {
      "model_module": "@jupyter-widgets/controls",
      "model_module_version": "1.5.0",
      "model_name": "DescriptionStyleModel",
      "state": {
       "description_width": ""
      }
     },
     "1f7d3fee8bbf443fa40d99c686b45b2d": {
      "model_module": "@jupyter-widgets/controls",
      "model_module_version": "1.5.0",
      "model_name": "HBoxModel",
      "state": {
       "children": [
        "IPY_MODEL_d59697b1c6d04b9898b1d35c8d4e939f",
        "IPY_MODEL_900e7f6f02554caab805a66c3f2624a0"
       ],
       "layout": "IPY_MODEL_23756d00ec58424db2019e9db7a01cbe"
      }
     },
     "1fa6b05164df48ac9d87cd813d2437b0": {
      "model_module": "@jupyter-widgets/controls",
      "model_module_version": "1.5.0",
      "model_name": "DescriptionStyleModel",
      "state": {
       "description_width": ""
      }
     },
     "1fd4c552f28d49e5ae5510cd8a926b4a": {
      "model_module": "@jupyter-widgets/controls",
      "model_module_version": "1.5.0",
      "model_name": "HBoxModel",
      "state": {
       "children": [
        "IPY_MODEL_0e29d2e82a76424896451af449572be3",
        "IPY_MODEL_d5446f487f1848c6ac2e6a752e13c717"
       ],
       "layout": "IPY_MODEL_98f9add274e44336bb820db584d22685"
      }
     },
     "1fe77080abba4c70acff5647c6a0e0d3": {
      "model_module": "@jupyter-widgets/base",
      "model_module_version": "1.2.0",
      "model_name": "LayoutModel",
      "state": {
       "width": "5%"
      }
     },
     "1fedabb2a5e64fb5b78f9dae59b8349b": {
      "model_module": "@jupyter-widgets/base",
      "model_module_version": "1.2.0",
      "model_name": "LayoutModel",
      "state": {
       "width": "5%"
      }
     },
     "1ffab47be8614053a89e0e0a9ee4e71c": {
      "model_module": "@jupyter-widgets/base",
      "model_module_version": "1.2.0",
      "model_name": "LayoutModel",
      "state": {}
     },
     "201ba73a898b4d66bfdd4133017b19a1": {
      "model_module": "@jupyter-widgets/controls",
      "model_module_version": "1.5.0",
      "model_name": "HBoxModel",
      "state": {
       "children": [
        "IPY_MODEL_acd493d01dcb488fbe1126423b7788b4",
        "IPY_MODEL_4f62d7f2628941719f55ea2146c214f6"
       ],
       "layout": "IPY_MODEL_afdb4d7029504d6a8acde1d7cc5432cc"
      }
     },
     "20249d7a26bf49398dc4b9898676fb26": {
      "model_module": "@jupyter-widgets/controls",
      "model_module_version": "1.5.0",
      "model_name": "RadioButtonsModel",
      "state": {
       "_options_labels": [
        "a. Temperature",
        "b. Color",
        "c. Mass",
        "d. Charge"
       ],
       "index": 0,
       "layout": "IPY_MODEL_c78616976ea544f0be866311c0a06211",
       "style": "IPY_MODEL_0d640bf874ff425380d3d2ffa0578bf9"
      }
     },
     "205247816475486e901f21a64bc6a6ef": {
      "model_module": "@jupyter-widgets/base",
      "model_module_version": "1.2.0",
      "model_name": "LayoutModel",
      "state": {}
     },
     "2070580e39624427b75afb5a645acd49": {
      "model_module": "@jupyter-widgets/controls",
      "model_module_version": "1.5.0",
      "model_name": "DescriptionStyleModel",
      "state": {
       "description_width": ""
      }
     },
     "2080fcc286da47b0ac92b5f4593b455a": {
      "model_module": "@jupyter-widgets/base",
      "model_module_version": "1.2.0",
      "model_name": "LayoutModel",
      "state": {}
     },
     "208182d3c7ab43e99cccd3c5a1c8f0c2": {
      "model_module": "@jupyter-widgets/controls",
      "model_module_version": "1.5.0",
      "model_name": "VBoxModel",
      "state": {
       "children": [
        "IPY_MODEL_7e44e7193fb141b8aac4c352af4934f1",
        "IPY_MODEL_3544a93571a74b8e8badec9bdbb5374c"
       ],
       "layout": "IPY_MODEL_3a92f750885c4c959ed778863d3ce0f0"
      }
     },
     "2083152d1f55496097653f1b3f0d7faa": {
      "model_module": "@jupyter-widgets/controls",
      "model_module_version": "1.5.0",
      "model_name": "LabelModel",
      "state": {
       "layout": "IPY_MODEL_7a8fdbfe53b04cefaa8e4e072c9b5f22",
       "style": "IPY_MODEL_893105060d9149c2af79b0db01c83fb1"
      }
     },
     "209bb6df6e4042b5b1918bcab0e1f18d": {
      "model_module": "@jupyter-widgets/controls",
      "model_module_version": "1.5.0",
      "model_name": "LabelModel",
      "state": {
       "layout": "IPY_MODEL_c42e840723c4430c86e5645d1878ee7f",
       "style": "IPY_MODEL_ef8b786f4ca74031880db680ebca5944"
      }
     },
     "20c228db7664443b9e74c601ccbbf760": {
      "model_module": "@jupyter-widgets/base",
      "model_module_version": "1.2.0",
      "model_name": "LayoutModel",
      "state": {
       "width": "5%"
      }
     },
     "20f27bf0fbca405884535f172801938d": {
      "model_module": "@jupyter-widgets/controls",
      "model_module_version": "1.5.0",
      "model_name": "ButtonModel",
      "state": {
       "description": "Run Code",
       "layout": "IPY_MODEL_5487f6304f3e4e489cd0cfbfb8d8572d",
       "style": "IPY_MODEL_a4674c494fc14ee1a86ce6bd43952019",
       "tooltip": "Click to test your code"
      }
     },
     "20f853a86f82465ba26b5a9f5bd5143f": {
      "model_module": "@jupyter-widgets/controls",
      "model_module_version": "1.5.0",
      "model_name": "HBoxModel",
      "state": {
       "children": [
        "IPY_MODEL_daa5027145fd4e3bbcaa23ae8626574b",
        "IPY_MODEL_bc7d501b441a44ac9e4675df6bafbb15"
       ],
       "layout": "IPY_MODEL_94fb4bc49ce042d28cb6a118c6d2d361"
      }
     },
     "20fce0f719f04c0084e52cc831a38dbe": {
      "model_module": "@jupyter-widgets/controls",
      "model_module_version": "1.5.0",
      "model_name": "DescriptionStyleModel",
      "state": {
       "description_width": ""
      }
     },
     "213428e3d30b42488ae79530cb1a614f": {
      "model_module": "@jupyter-widgets/base",
      "model_module_version": "1.2.0",
      "model_name": "LayoutModel",
      "state": {
       "width": "90%"
      }
     },
     "213a1010e4fb49fdb3f22c9f012e74dc": {
      "model_module": "@jupyter-widgets/controls",
      "model_module_version": "1.5.0",
      "model_name": "LabelModel",
      "state": {
       "layout": "IPY_MODEL_fcca2535ab2d47b0af68e15f59ffb479",
       "style": "IPY_MODEL_224af11bc5434027a8e10d1832638970"
      }
     },
     "215f25ce4ff5459cb427888ea22d6ac7": {
      "model_module": "@jupyter-widgets/controls",
      "model_module_version": "1.5.0",
      "model_name": "HBoxModel",
      "state": {
       "children": [
        "IPY_MODEL_83b65a97f2954efc83455119c15cc2dd",
        "IPY_MODEL_4d5cc17dc75a4dba982e78e964ac3e8b"
       ],
       "layout": "IPY_MODEL_58ec780d8872470ab71f09e8e510ed8f"
      }
     },
     "2164456b729d45c18db0d592ef3b9ba4": {
      "model_module": "@jupyter-widgets/controls",
      "model_module_version": "1.5.0",
      "model_name": "VBoxModel",
      "state": {
       "children": [
        "IPY_MODEL_21aa1ca9a58646988f7d07b2960c1cb1",
        "IPY_MODEL_ab959e00954b4690b72b78e1efb19621"
       ],
       "layout": "IPY_MODEL_ae11d4adf5204d99bec85e49053faf0b"
      }
     },
     "217360b04f3e4fa9a046867bf8d364ba": {
      "model_module": "@jupyter-widgets/base",
      "model_module_version": "1.2.0",
      "model_name": "LayoutModel",
      "state": {
       "width": "5%"
      }
     },
     "217ecf6dc9c446a6b167bc5a3af698cb": {
      "model_module": "@jupyter-widgets/output",
      "model_module_version": "1.0.0",
      "model_name": "OutputModel",
      "state": {
       "layout": "IPY_MODEL_48b42b7c04364066b672e665fa6922d5"
      }
     },
     "21a5b999a2e242f6b1a90769214ac6a8": {
      "model_module": "@jupyter-widgets/base",
      "model_module_version": "1.2.0",
      "model_name": "LayoutModel",
      "state": {
       "width": "5%"
      }
     },
     "21aa1ca9a58646988f7d07b2960c1cb1": {
      "model_module": "@jupyter-widgets/output",
      "model_module_version": "1.0.0",
      "model_name": "OutputModel",
      "state": {
       "layout": "IPY_MODEL_0a2c79359097452bb20d050bac87b202"
      }
     },
     "21acf975e0b346b9a5e5787f4a2df1a7": {
      "model_module": "@jupyter-widgets/controls",
      "model_module_version": "1.5.0",
      "model_name": "ButtonModel",
      "state": {
       "description": "Test Code",
       "layout": "IPY_MODEL_c650f7722a6845f7af1843932312803f",
       "style": "IPY_MODEL_b6d124520c564877994a3075be673b39",
       "tooltip": "Click to test your code"
      }
     },
     "21b004e4cd6e4ac988182e2a44c0fd21": {
      "model_module": "@jupyter-widgets/base",
      "model_module_version": "1.2.0",
      "model_name": "LayoutModel",
      "state": {
       "width": "5%"
      }
     },
     "21ddeb480cf04af595697198dc64133f": {
      "model_module": "@jupyter-widgets/controls",
      "model_module_version": "1.5.0",
      "model_name": "DescriptionStyleModel",
      "state": {
       "description_width": ""
      }
     },
     "21de4e32bd164398b69aeb5177447c20": {
      "model_module": "@jupyter-widgets/controls",
      "model_module_version": "1.5.0",
      "model_name": "RadioButtonsModel",
      "state": {
       "_options_labels": [
        "a. df = 1/(N*dt)",
        "b. df = 1/dt",
        "c. df = N*dt",
        "d. df = N/dt"
       ],
       "index": 0,
       "layout": "IPY_MODEL_6deee33dc4b249fb9f1748bdd45f3898",
       "style": "IPY_MODEL_80ecdce6953e4cdbbae9d375dcd153fa"
      }
     },
     "221da83daf724f37b9763956f85931d5": {
      "model_module": "@jupyter-widgets/controls",
      "model_module_version": "1.5.0",
      "model_name": "LabelModel",
      "state": {
       "layout": "IPY_MODEL_08774e015018478b8ff19b13af980812",
       "style": "IPY_MODEL_930d083e8b2d4f85a8b3e91c6f9465e5"
      }
     },
     "2221b1bccd5744b3b3a5288878cae74d": {
      "model_module": "@jupyter-widgets/base",
      "model_module_version": "1.2.0",
      "model_name": "LayoutModel",
      "state": {
       "width": "5%"
      }
     },
     "2226d0cc484241c2bb071669c914ce49": {
      "model_module": "@jupyter-widgets/controls",
      "model_module_version": "1.5.0",
      "model_name": "LabelModel",
      "state": {
       "layout": "IPY_MODEL_24d41643ca824c37a709979125bc9abc",
       "style": "IPY_MODEL_b7b97244dac644f291a3a95a73b5609d"
      }
     },
     "2227a9928a034f84b6e639c72f43818a": {
      "model_module": "@jupyter-widgets/base",
      "model_module_version": "1.2.0",
      "model_name": "LayoutModel",
      "state": {}
     },
     "224af11bc5434027a8e10d1832638970": {
      "model_module": "@jupyter-widgets/controls",
      "model_module_version": "1.5.0",
      "model_name": "DescriptionStyleModel",
      "state": {
       "description_width": ""
      }
     },
     "2251d86d48cc44d4b7e9eb4c86032acf": {
      "model_module": "@jupyter-widgets/base",
      "model_module_version": "1.2.0",
      "model_name": "LayoutModel",
      "state": {}
     },
     "2274fff779d84a57a49b89973d9d6646": {
      "model_module": "@jupyter-widgets/controls",
      "model_module_version": "1.5.0",
      "model_name": "RadioButtonsModel",
      "state": {
       "_options_labels": [
        "True",
        "False"
       ],
       "index": 0,
       "layout": "IPY_MODEL_0134020bfb664fc29662348f5053eb11",
       "style": "IPY_MODEL_b9019fedfb744540873196a4fdb48d3e"
      }
     },
     "228f717753dc41b2b33edb18531673ea": {
      "model_module": "@jupyter-widgets/controls",
      "model_module_version": "1.5.0",
      "model_name": "DescriptionStyleModel",
      "state": {
       "description_width": ""
      }
     },
     "2294aa913bec4c8fbbeb858ea80a445e": {
      "model_module": "@jupyter-widgets/controls",
      "model_module_version": "1.5.0",
      "model_name": "LabelModel",
      "state": {
       "layout": "IPY_MODEL_3b6461e5af3f4ecf9dab8196e1f3cc48",
       "style": "IPY_MODEL_802ce214e57b414083b101edc454e4aa"
      }
     },
     "22c0d8871e124e0092045cc6d4155897": {
      "model_module": "@jupyter-widgets/base",
      "model_module_version": "1.2.0",
      "model_name": "LayoutModel",
      "state": {}
     },
     "22df016391de4ab5a0d1943c9dd93933": {
      "model_module": "@jupyter-widgets/base",
      "model_module_version": "1.2.0",
      "model_name": "LayoutModel",
      "state": {
       "width": "5%"
      }
     },
     "22e5ebba0d63493bbeb8e05ff0db11c5": {
      "model_module": "@jupyter-widgets/controls",
      "model_module_version": "1.5.0",
      "model_name": "HBoxModel",
      "state": {
       "children": [
        "IPY_MODEL_ae1dab4fa5eb461d93125b9bd8f07492",
        "IPY_MODEL_983d1571dcbd459d8a975caf344a3ee2"
       ],
       "layout": "IPY_MODEL_decc6d1573ea4ec2a10298bdfffac483"
      }
     },
     "22f50d0da2a94ef88802fab84a05c192": {
      "model_module": "@jupyter-widgets/controls",
      "model_module_version": "1.5.0",
      "model_name": "DescriptionStyleModel",
      "state": {
       "description_width": ""
      }
     },
     "230e71178739456c85965bce792718b0": {
      "model_module": "@jupyter-widgets/base",
      "model_module_version": "1.2.0",
      "model_name": "LayoutModel",
      "state": {
       "width": "5%"
      }
     },
     "2319fe8846bd4486afad72627cb3fe21": {
      "model_module": "@jupyter-widgets/controls",
      "model_module_version": "1.5.0",
      "model_name": "DescriptionStyleModel",
      "state": {
       "description_width": ""
      }
     },
     "2334323d200b4e5392528b6fc095aa8e": {
      "model_module": "@jupyter-widgets/base",
      "model_module_version": "1.2.0",
      "model_name": "LayoutModel",
      "state": {}
     },
     "233a56a3f5584e89b335768976cbe48d": {
      "model_module": "@jupyter-widgets/controls",
      "model_module_version": "1.5.0",
      "model_name": "HBoxModel",
      "state": {
       "children": [
        "IPY_MODEL_70bdc90d3f3749b1aa370e29683c2b58",
        "IPY_MODEL_f3354ed4a6634779a46de79a52afda64"
       ],
       "layout": "IPY_MODEL_baa6b6cea50c48e7a8db9c0e4d995c01"
      }
     },
     "233b86381da849edb115842d239b7be4": {
      "model_module": "@jupyter-widgets/controls",
      "model_module_version": "1.5.0",
      "model_name": "LabelModel",
      "state": {
       "layout": "IPY_MODEL_ab050001129f4bf5abc3e17b663e7515",
       "style": "IPY_MODEL_552a793acaa04f09ac7e9d044792a4f5"
      }
     },
     "233eb78d51554cf89d49118dc516e790": {
      "model_module": "@jupyter-widgets/controls",
      "model_module_version": "1.5.0",
      "model_name": "LabelModel",
      "state": {
       "layout": "IPY_MODEL_1d7d0402000a4b5a841f2d591ebeffd1",
       "style": "IPY_MODEL_cdc92b81328f45df954a852db51cbe01"
      }
     },
     "234b4cbaebbf416cab496433f8411d83": {
      "model_module": "@jupyter-widgets/controls",
      "model_module_version": "1.5.0",
      "model_name": "LabelModel",
      "state": {
       "layout": "IPY_MODEL_819767fe2998439b9d59dfcf5faf7d83",
       "style": "IPY_MODEL_9e2ae516d3574fe1912637d162890f55"
      }
     },
     "2351373dd9274403a9478da6c1a73702": {
      "model_module": "@jupyter-widgets/controls",
      "model_module_version": "1.5.0",
      "model_name": "HBoxModel",
      "state": {
       "children": [
        "IPY_MODEL_5a5eeeb1446d41178e529abb5b0862ca",
        "IPY_MODEL_d1abf1554bca46babd9eb315c0e8028c"
       ],
       "layout": "IPY_MODEL_fb8879d60c774c29b354caa030fc7eaa"
      }
     },
     "235cd0284ab04ca7a8b2e9ebf7038da2": {
      "model_module": "@jupyter-widgets/controls",
      "model_module_version": "1.5.0",
      "model_name": "TextareaModel",
      "state": {
       "description": "Code:",
       "layout": "IPY_MODEL_3dcce353b63f4b55b8170a26ee25ff92",
       "placeholder": "Type code here",
       "style": "IPY_MODEL_2d4cfbf3163a42768de4ba17e1b235f4"
      }
     },
     "23756d00ec58424db2019e9db7a01cbe": {
      "model_module": "@jupyter-widgets/base",
      "model_module_version": "1.2.0",
      "model_name": "LayoutModel",
      "state": {}
     },
     "239b8bd4cb41458ebdf22260422ab338": {
      "model_module": "@jupyter-widgets/controls",
      "model_module_version": "1.5.0",
      "model_name": "DescriptionStyleModel",
      "state": {
       "description_width": ""
      }
     },
     "23b40c4e332c43a3a303af0a93634bfa": {
      "model_module": "@jupyter-widgets/base",
      "model_module_version": "1.2.0",
      "model_name": "LayoutModel",
      "state": {}
     },
     "23b992718eb6476eb05f41ba2dbc1eb6": {
      "model_module": "@jupyter-widgets/controls",
      "model_module_version": "1.5.0",
      "model_name": "DescriptionStyleModel",
      "state": {
       "description_width": ""
      }
     },
     "23e2e3c1ee6444d1859b6e1a35bb06ce": {
      "model_module": "@jupyter-widgets/base",
      "model_module_version": "1.2.0",
      "model_name": "LayoutModel",
      "state": {
       "width": "90%"
      }
     },
     "23f89da637684fd9af5113eb131a6087": {
      "model_module": "@jupyter-widgets/controls",
      "model_module_version": "1.5.0",
      "model_name": "DescriptionStyleModel",
      "state": {
       "description_width": ""
      }
     },
     "23fa3100dcdf485db612440076d30393": {
      "model_module": "@jupyter-widgets/base",
      "model_module_version": "1.2.0",
      "model_name": "LayoutModel",
      "state": {
       "width": "5%"
      }
     },
     "24079ba56a9b44aebd9e68d82d7c1339": {
      "model_module": "@jupyter-widgets/controls",
      "model_module_version": "1.5.0",
      "model_name": "LabelModel",
      "state": {
       "layout": "IPY_MODEL_6688765efa544ce6ac82a6df711f9e6a",
       "style": "IPY_MODEL_1e9400ad1e7e401da9d5fe229d95da72"
      }
     },
     "24210d2770aa4ddda376daaca87e997e": {
      "model_module": "@jupyter-widgets/base",
      "model_module_version": "1.2.0",
      "model_name": "LayoutModel",
      "state": {}
     },
     "24214480b17e46e0a34d52dd85758bcd": {
      "model_module": "@jupyter-widgets/base",
      "model_module_version": "1.2.0",
      "model_name": "LayoutModel",
      "state": {
       "width": "5%"
      }
     },
     "2421d98d653b471e8c9ea78d7ed1a974": {
      "model_module": "@jupyter-widgets/base",
      "model_module_version": "1.2.0",
      "model_name": "LayoutModel",
      "state": {}
     },
     "2446357d4b554e0fb978fade97ba00b4": {
      "model_module": "@jupyter-widgets/controls",
      "model_module_version": "1.5.0",
      "model_name": "HBoxModel",
      "state": {
       "children": [
        "IPY_MODEL_c34bc9d369cc425287d7ad0392d29cc5",
        "IPY_MODEL_abcd4a552aab40478886ab58cb8e5eba"
       ],
       "layout": "IPY_MODEL_ab8d8e8c5f34451c8ce7fc9f009c7acd"
      }
     },
     "2451f181dcdb4ef489f2a55fd269e180": {
      "model_module": "@jupyter-widgets/base",
      "model_module_version": "1.2.0",
      "model_name": "LayoutModel",
      "state": {}
     },
     "246cc19f9f094b00b23493bd499c0b45": {
      "model_module": "@jupyter-widgets/controls",
      "model_module_version": "1.5.0",
      "model_name": "LabelModel",
      "state": {
       "layout": "IPY_MODEL_78a75b7fc86b436facd2cef0873eba90",
       "style": "IPY_MODEL_bb2dfc462e644748bc899b402806b35d"
      }
     },
     "247332c292aa48828f7c610b72fcecf3": {
      "model_module": "@jupyter-widgets/base",
      "model_module_version": "1.2.0",
      "model_name": "LayoutModel",
      "state": {}
     },
     "247abd2a403545359439daf5b0b6c148": {
      "model_module": "@jupyter-widgets/controls",
      "model_module_version": "1.5.0",
      "model_name": "DescriptionStyleModel",
      "state": {
       "description_width": ""
      }
     },
     "247b3311aa4c4c6ca288aab1198f5302": {
      "model_module": "@jupyter-widgets/controls",
      "model_module_version": "1.5.0",
      "model_name": "LabelModel",
      "state": {
       "layout": "IPY_MODEL_a4f1c06d6e9440129e9d908542a04076",
       "style": "IPY_MODEL_0286ba69c47545cdad65a9a4363bc319"
      }
     },
     "2490f881f912408d8fcb033ad5a9e9cb": {
      "model_module": "@jupyter-widgets/controls",
      "model_module_version": "1.5.0",
      "model_name": "DescriptionStyleModel",
      "state": {
       "description_width": ""
      }
     },
     "2496ddee1dd243f8ab79504390c0ac16": {
      "model_module": "@jupyter-widgets/controls",
      "model_module_version": "1.5.0",
      "model_name": "DescriptionStyleModel",
      "state": {
       "description_width": ""
      }
     },
     "24d41643ca824c37a709979125bc9abc": {
      "model_module": "@jupyter-widgets/base",
      "model_module_version": "1.2.0",
      "model_name": "LayoutModel",
      "state": {
       "width": "5%"
      }
     },
     "24fce035c10543cda69b279740eb24c5": {
      "model_module": "@jupyter-widgets/controls",
      "model_module_version": "1.5.0",
      "model_name": "DescriptionStyleModel",
      "state": {
       "description_width": ""
      }
     },
     "250de3284aa94c54902ce7f944a89243": {
      "model_module": "@jupyter-widgets/base",
      "model_module_version": "1.2.0",
      "model_name": "LayoutModel",
      "state": {
       "width": "90%"
      }
     },
     "25159c97858a45d0ba8708775bd65790": {
      "model_module": "@jupyter-widgets/base",
      "model_module_version": "1.2.0",
      "model_name": "LayoutModel",
      "state": {}
     },
     "25192be955f741bbbf5ab84b4ac6c1bc": {
      "model_module": "@jupyter-widgets/base",
      "model_module_version": "1.2.0",
      "model_name": "LayoutModel",
      "state": {}
     },
     "2520cbe2475a4b70a3dbc84670d31e80": {
      "model_module": "@jupyter-widgets/controls",
      "model_module_version": "1.5.0",
      "model_name": "HBoxModel",
      "state": {
       "children": [
        "IPY_MODEL_9103c3ecebd849c7943a89689e96906a",
        "IPY_MODEL_3bde66483e2346d6a104f2e079b7e68c"
       ],
       "layout": "IPY_MODEL_702676811e0a420fb706fdb72814c29c"
      }
     },
     "254e948766944c29bff1a50e39f233a1": {
      "model_module": "@jupyter-widgets/base",
      "model_module_version": "1.2.0",
      "model_name": "LayoutModel",
      "state": {
       "width": "90%"
      }
     },
     "25577b1f56bd4eb8befcd4be99914b23": {
      "model_module": "@jupyter-widgets/controls",
      "model_module_version": "1.5.0",
      "model_name": "DescriptionStyleModel",
      "state": {
       "description_width": ""
      }
     },
     "2579d30635a74254bd03e3b0386e1598": {
      "model_module": "@jupyter-widgets/controls",
      "model_module_version": "1.5.0",
      "model_name": "DescriptionStyleModel",
      "state": {
       "description_width": ""
      }
     },
     "257f7a4cb83d42a8ba19c6a2dcbf0dd6": {
      "model_module": "@jupyter-widgets/base",
      "model_module_version": "1.2.0",
      "model_name": "LayoutModel",
      "state": {
       "width": "90%"
      }
     },
     "25862177a1a2481b93fb774ebf022855": {
      "model_module": "@jupyter-widgets/base",
      "model_module_version": "1.2.0",
      "model_name": "LayoutModel",
      "state": {}
     },
     "258b7ce4ba2f42bdb33f617faa0d1c92": {
      "model_module": "@jupyter-widgets/controls",
      "model_module_version": "1.5.0",
      "model_name": "HBoxModel",
      "state": {
       "children": [
        "IPY_MODEL_660b3d2c22974043bc2fc0c7079dccf6",
        "IPY_MODEL_6837d18b2ea84511911cede0c93257de"
       ],
       "layout": "IPY_MODEL_9ee4478e0cba451ea7baaab4f1ab29c7"
      }
     },
     "258d2a92a0594e399d02d9a502053289": {
      "model_module": "@jupyter-widgets/base",
      "model_module_version": "1.2.0",
      "model_name": "LayoutModel",
      "state": {}
     },
     "259d5c8a8b1c458c80e7910b09e0cbe8": {
      "model_module": "@jupyter-widgets/base",
      "model_module_version": "1.2.0",
      "model_name": "LayoutModel",
      "state": {}
     },
     "25ab7b26725a421d9d59f53db5ba94ae": {
      "model_module": "@jupyter-widgets/base",
      "model_module_version": "1.2.0",
      "model_name": "LayoutModel",
      "state": {
       "width": "5%"
      }
     },
     "25de17457cb040378f0517a011714a3d": {
      "model_module": "@jupyter-widgets/controls",
      "model_module_version": "1.5.0",
      "model_name": "DescriptionStyleModel",
      "state": {
       "description_width": ""
      }
     },
     "260bf8ad772e426888bccb8efc7dd1ee": {
      "model_module": "@jupyter-widgets/base",
      "model_module_version": "1.2.0",
      "model_name": "LayoutModel",
      "state": {
       "width": "5%"
      }
     },
     "260e2b3e38484fd5b08617d6e93028b9": {
      "model_module": "@jupyter-widgets/controls",
      "model_module_version": "1.5.0",
      "model_name": "VBoxModel",
      "state": {
       "children": [
        "IPY_MODEL_4e5b9bb70e69404aab27092add850a79",
        "IPY_MODEL_e3f2f8b84e3e422687bf8a30897d67ef"
       ],
       "layout": "IPY_MODEL_2cc36f41edd04e7bb07591f21c79bf52"
      }
     },
     "26136f0c64754eb58948e839e867f26a": {
      "model_module": "@jupyter-widgets/base",
      "model_module_version": "1.2.0",
      "model_name": "LayoutModel",
      "state": {}
     },
     "26186f18aee94339a564e6e6532a74c1": {
      "model_module": "@jupyter-widgets/base",
      "model_module_version": "1.2.0",
      "model_name": "LayoutModel",
      "state": {}
     },
     "26226ce262514048b41f5a87b7410803": {
      "model_module": "@jupyter-widgets/controls",
      "model_module_version": "1.5.0",
      "model_name": "HBoxModel",
      "state": {
       "children": [
        "IPY_MODEL_3b2f8c5c1ff54bb5a9629e8548c08523",
        "IPY_MODEL_5635035040ea444ab44261f48c64add1"
       ],
       "layout": "IPY_MODEL_0edb79d9d1dd42519745e4a195f513ba"
      }
     },
     "264f6fc2696c449ab3b4f89657f3ce13": {
      "model_module": "@jupyter-widgets/controls",
      "model_module_version": "1.5.0",
      "model_name": "HBoxModel",
      "state": {
       "children": [
        "IPY_MODEL_9477b2a44d4d415e86631589964e2842",
        "IPY_MODEL_acb3acb9b102495bbc29141918880657"
       ],
       "layout": "IPY_MODEL_13295c3559f04b03825237882b675ab4"
      }
     },
     "2679226a8b014cce932ebe7a917a6546": {
      "model_module": "@jupyter-widgets/controls",
      "model_module_version": "1.5.0",
      "model_name": "RadioButtonsModel",
      "state": {
       "_options_labels": [
        "a. light and matter",
        "b. time and space",
        "c. dephasing and dissipation",
        "d. linear and nonlinear processes"
       ],
       "index": 0,
       "layout": "IPY_MODEL_be469499c76945069650b1aee205a503",
       "style": "IPY_MODEL_80cee2782992488588ab0e907356da71"
      }
     },
     "267f964c55c04f818ffa4cde845c691b": {
      "model_module": "@jupyter-widgets/controls",
      "model_module_version": "1.5.0",
      "model_name": "DescriptionStyleModel",
      "state": {
       "description_width": ""
      }
     },
     "2699aab409eb40328193df5f06692d16": {
      "model_module": "@jupyter-widgets/base",
      "model_module_version": "1.2.0",
      "model_name": "LayoutModel",
      "state": {}
     },
     "26aa5f3b3a124978addf487b7ab9e233": {
      "model_module": "@jupyter-widgets/base",
      "model_module_version": "1.2.0",
      "model_name": "LayoutModel",
      "state": {
       "width": "90%"
      }
     },
     "26b18f47fcf8425db61a3a59633b2406": {
      "model_module": "@jupyter-widgets/base",
      "model_module_version": "1.2.0",
      "model_name": "LayoutModel",
      "state": {}
     },
     "26d9e6824bb445a08307f95441d22a4d": {
      "model_module": "@jupyter-widgets/base",
      "model_module_version": "1.2.0",
      "model_name": "LayoutModel",
      "state": {
       "width": "5%"
      }
     },
     "26edd9be90a94bbba6c4d49cc561f4c9": {
      "model_module": "@jupyter-widgets/base",
      "model_module_version": "1.2.0",
      "model_name": "LayoutModel",
      "state": {
       "width": "5%"
      }
     },
     "26f143402c3943b7a3307f9e67b76430": {
      "model_module": "@jupyter-widgets/controls",
      "model_module_version": "1.5.0",
      "model_name": "HBoxModel",
      "state": {
       "children": [
        "IPY_MODEL_900aa77212774f8d8802d24629308362",
        "IPY_MODEL_b0e8127407b04b31ac8f74fb101d9a95"
       ],
       "layout": "IPY_MODEL_b2adc5bb5b3a43fab176aa16d144b85c"
      }
     },
     "270b3ac2a5d642e8b99ae67e3e0bf35f": {
      "model_module": "@jupyter-widgets/controls",
      "model_module_version": "1.5.0",
      "model_name": "ButtonStyleModel",
      "state": {}
     },
     "2726179f35264ddfbf61cb92204a7e67": {
      "model_module": "@jupyter-widgets/controls",
      "model_module_version": "1.5.0",
      "model_name": "DescriptionStyleModel",
      "state": {
       "description_width": ""
      }
     },
     "27289fb71c4842e39317cdbb29a4f4a6": {
      "model_module": "@jupyter-widgets/base",
      "model_module_version": "1.2.0",
      "model_name": "LayoutModel",
      "state": {}
     },
     "2771f476431c49d6a4d69f9b29772f4f": {
      "model_module": "@jupyter-widgets/controls",
      "model_module_version": "1.5.0",
      "model_name": "LabelModel",
      "state": {
       "layout": "IPY_MODEL_9ded73ab5dba435cbc2a8d7efbb1505b",
       "style": "IPY_MODEL_f6b9e885fe28484b89749fb88bfd2081"
      }
     },
     "2798ca301fac4c8284c7e660dafad7be": {
      "model_module": "@jupyter-widgets/controls",
      "model_module_version": "1.5.0",
      "model_name": "DescriptionStyleModel",
      "state": {
       "description_width": ""
      }
     },
     "27c027f87c1d404092564f5d8dab9692": {
      "model_module": "@jupyter-widgets/controls",
      "model_module_version": "1.5.0",
      "model_name": "TextareaModel",
      "state": {
       "description": "String:",
       "layout": "IPY_MODEL_3b63b046b01a4c03bff5592f428530b7",
       "placeholder": "Type code here",
       "style": "IPY_MODEL_6a0d63fe22b94cdcafaec1890d68a246",
       "value": "for n in range(0, 10):\n  print(n+2)"
      }
     },
     "27c88fa646e44bdd8cd550c24159204e": {
      "model_module": "@jupyter-widgets/controls",
      "model_module_version": "1.5.0",
      "model_name": "HBoxModel",
      "state": {
       "children": [
        "IPY_MODEL_cfaaa8d52e024323b14320479412b709",
        "IPY_MODEL_9e2adb7e265d46b49e72851371689265"
       ],
       "layout": "IPY_MODEL_e07d1b2c046b45dbb8605f17d0cbf2f0"
      }
     },
     "27d99c7912d54777abc0fc59a9669938": {
      "model_module": "@jupyter-widgets/controls",
      "model_module_version": "1.5.0",
      "model_name": "DescriptionStyleModel",
      "state": {
       "description_width": ""
      }
     },
     "27f6e2c329ed4e5c8dad196580810862": {
      "model_module": "@jupyter-widgets/controls",
      "model_module_version": "1.5.0",
      "model_name": "ButtonStyleModel",
      "state": {}
     },
     "281cf2d0263c4f6d9748a93346d5c18c": {
      "model_module": "@jupyter-widgets/controls",
      "model_module_version": "1.5.0",
      "model_name": "RadioButtonsModel",
      "state": {
       "_options_labels": [
        "a. Maxwell's equations",
        "b. Newton's Equations",
        "c. The boundary conditions",
        "d. A given macrostate"
       ],
       "index": 0,
       "layout": "IPY_MODEL_5fb4567d743148fe955dc0b37298eb5b",
       "style": "IPY_MODEL_2579d30635a74254bd03e3b0386e1598"
      }
     },
     "28524a1d196f4d5da8887e1d226b0855": {
      "model_module": "@jupyter-widgets/output",
      "model_module_version": "1.0.0",
      "model_name": "OutputModel",
      "state": {
       "layout": "IPY_MODEL_259d5c8a8b1c458c80e7910b09e0cbe8"
      }
     },
     "2858b3d1ed714a708fe2c387d62a0f6b": {
      "model_module": "@jupyter-widgets/controls",
      "model_module_version": "1.5.0",
      "model_name": "DescriptionStyleModel",
      "state": {
       "description_width": ""
      }
     },
     "287850f6782d4f3d83b6c87be53e61b6": {
      "model_module": "@jupyter-widgets/base",
      "model_module_version": "1.2.0",
      "model_name": "LayoutModel",
      "state": {
       "width": "5%"
      }
     },
     "28a725a5146446499c74f7e348b8069f": {
      "model_module": "@jupyter-widgets/controls",
      "model_module_version": "1.5.0",
      "model_name": "ButtonModel",
      "state": {
       "description": "Review Answers",
       "layout": "IPY_MODEL_96758b3f800148b5b384cbba9724bd19",
       "style": "IPY_MODEL_c9f1d2fe00d84c16ae12303a4a4c61f3",
       "tooltip": "Click to review answers"
      }
     },
     "28b0f65cea684738abfab65ff9632b5a": {
      "model_module": "@jupyter-widgets/controls",
      "model_module_version": "1.5.0",
      "model_name": "LabelModel",
      "state": {
       "layout": "IPY_MODEL_14a5418d75584634a3950b6a1ea54865",
       "style": "IPY_MODEL_86a0fb3519334d53a5e1f7ea91d8669b"
      }
     },
     "28c3ec45b5e741a4972a42fffe7a44fc": {
      "model_module": "@jupyter-widgets/controls",
      "model_module_version": "1.5.0",
      "model_name": "DescriptionStyleModel",
      "state": {
       "description_width": ""
      }
     },
     "28d07b093c61431cb239607e1b7ca8fe": {
      "model_module": "@jupyter-widgets/base",
      "model_module_version": "1.2.0",
      "model_name": "LayoutModel",
      "state": {}
     },
     "28d67516911e4c909abebf39f8dc3255": {
      "model_module": "@jupyter-widgets/base",
      "model_module_version": "1.2.0",
      "model_name": "LayoutModel",
      "state": {
       "width": "5%"
      }
     },
     "28dc14d285c04614941c8180edd77c8c": {
      "model_module": "@jupyter-widgets/controls",
      "model_module_version": "1.5.0",
      "model_name": "DescriptionStyleModel",
      "state": {
       "description_width": ""
      }
     },
     "291913bfa0d141cfb6231767ba12178d": {
      "model_module": "@jupyter-widgets/controls",
      "model_module_version": "1.5.0",
      "model_name": "ButtonStyleModel",
      "state": {}
     },
     "291fd97e49744b3c977f65175f9cf708": {
      "model_module": "@jupyter-widgets/base",
      "model_module_version": "1.2.0",
      "model_name": "LayoutModel",
      "state": {
       "width": "5%"
      }
     },
     "29255744e50d49619ec120a3440632ec": {
      "model_module": "@jupyter-widgets/controls",
      "model_module_version": "1.5.0",
      "model_name": "DescriptionStyleModel",
      "state": {
       "description_width": ""
      }
     },
     "2927a0baa69b46739f1a5e31f0bf5112": {
      "model_module": "@jupyter-widgets/base",
      "model_module_version": "1.2.0",
      "model_name": "LayoutModel",
      "state": {
       "width": "5%"
      }
     },
     "292814f3c1b644a085ba51efdb9e008d": {
      "model_module": "@jupyter-widgets/controls",
      "model_module_version": "1.5.0",
      "model_name": "LabelModel",
      "state": {
       "layout": "IPY_MODEL_e48b56e4fa9b4703a501b5be134a75f8",
       "style": "IPY_MODEL_d5d3dcdc8c6e4f288befbd204eff9de4"
      }
     },
     "293655c425da4346b0d302167449ce77": {
      "model_module": "@jupyter-widgets/controls",
      "model_module_version": "1.5.0",
      "model_name": "LabelModel",
      "state": {
       "layout": "IPY_MODEL_b269c3b692f84b85b98363f41482faaf",
       "style": "IPY_MODEL_dd081dc1cf994f2598234405c6182da2"
      }
     },
     "2967f422e45245eab51d486754fceaef": {
      "model_module": "@jupyter-widgets/controls",
      "model_module_version": "1.5.0",
      "model_name": "DescriptionStyleModel",
      "state": {
       "description_width": ""
      }
     },
     "296e3cfd5913442a8aae8a667b9cd25c": {
      "model_module": "@jupyter-widgets/controls",
      "model_module_version": "1.5.0",
      "model_name": "HBoxModel",
      "state": {
       "children": [
        "IPY_MODEL_b7f74d0e73964001ad6efa3791e1da12",
        "IPY_MODEL_c8692b99f4da4fcb8a7ea5d5745e0e64"
       ],
       "layout": "IPY_MODEL_8100e42eea3648d192eb457b58a89a8a"
      }
     },
     "2979cbdffe104fb695e9982cf6029681": {
      "model_module": "@jupyter-widgets/base",
      "model_module_version": "1.2.0",
      "model_name": "LayoutModel",
      "state": {}
     },
     "2999b100ce914a67bcf96f06f8f6b616": {
      "model_module": "@jupyter-widgets/base",
      "model_module_version": "1.2.0",
      "model_name": "LayoutModel",
      "state": {
       "width": "90%"
      }
     },
     "29a9f78326ca4752927f249f4af162b5": {
      "model_module": "@jupyter-widgets/controls",
      "model_module_version": "1.5.0",
      "model_name": "DescriptionStyleModel",
      "state": {
       "description_width": ""
      }
     },
     "29c598bab5664d6383fc2c920f4f1fd9": {
      "model_module": "@jupyter-widgets/base",
      "model_module_version": "1.2.0",
      "model_name": "LayoutModel",
      "state": {
       "width": "90%"
      }
     },
     "29c8d321f2954ee99a0eb18e45465a43": {
      "model_module": "@jupyter-widgets/base",
      "model_module_version": "1.2.0",
      "model_name": "LayoutModel",
      "state": {
       "width": "90%"
      }
     },
     "29d0a40f7ec2420480a4c4fcccee357c": {
      "model_module": "@jupyter-widgets/base",
      "model_module_version": "1.2.0",
      "model_name": "LayoutModel",
      "state": {
       "width": "90%"
      }
     },
     "29dba13ecb4d435885b4ada7dc853d22": {
      "model_module": "@jupyter-widgets/controls",
      "model_module_version": "1.5.0",
      "model_name": "HBoxModel",
      "state": {
       "children": [
        "IPY_MODEL_0db51d786e9f48a0adfbf7328ffd8c9b",
        "IPY_MODEL_e0e81bcd0db04146afb78fc679c563fa"
       ],
       "layout": "IPY_MODEL_41457ea96887497e900bafff0201f14b"
      }
     },
     "29e5f3f9da2c42c6b7a307143507f919": {
      "model_module": "@jupyter-widgets/base",
      "model_module_version": "1.2.0",
      "model_name": "LayoutModel",
      "state": {
       "width": "90%"
      }
     },
     "29e98cebaa154b3db3dc283323a74c55": {
      "model_module": "@jupyter-widgets/controls",
      "model_module_version": "1.5.0",
      "model_name": "VBoxModel",
      "state": {
       "children": [
        "IPY_MODEL_bd4430a532934e61842708bba9349bbc",
        "IPY_MODEL_39144050d2f740b4b376f3d730cb022c"
       ],
       "layout": "IPY_MODEL_0823a51693184ee98e2ad22c6ea34fdb"
      }
     },
     "29ee75d8f7484ad6b6ab479b48fa393d": {
      "model_module": "@jupyter-widgets/controls",
      "model_module_version": "1.5.0",
      "model_name": "TextareaModel",
      "state": {
       "description": "String:",
       "layout": "IPY_MODEL_1b660b8e874e4f21b0dd4c212cf9e39d",
       "placeholder": "Type something",
       "style": "IPY_MODEL_7b7eaf8f72d449f4b5e606c0009d87c7"
      }
     },
     "29fdc6169b0e495aa1c57598a9dfae16": {
      "model_module": "@jupyter-widgets/base",
      "model_module_version": "1.2.0",
      "model_name": "LayoutModel",
      "state": {
       "width": "90%"
      }
     },
     "2a0511c6b9824e63a7f3bee0881df999": {
      "model_module": "@jupyter-widgets/base",
      "model_module_version": "1.2.0",
      "model_name": "LayoutModel",
      "state": {}
     },
     "2a227cddf138427586460401d30416be": {
      "model_module": "@jupyter-widgets/output",
      "model_module_version": "1.0.0",
      "model_name": "OutputModel",
      "state": {
       "layout": "IPY_MODEL_1734638b6da94e1188af3dc38348619b"
      }
     },
     "2a407ec09ea64f9cb7f58a6869738dff": {
      "model_module": "@jupyter-widgets/controls",
      "model_module_version": "1.5.0",
      "model_name": "DescriptionStyleModel",
      "state": {
       "description_width": ""
      }
     },
     "2a46b0bc49474766ae42a5901a92371b": {
      "model_module": "@jupyter-widgets/controls",
      "model_module_version": "1.5.0",
      "model_name": "DescriptionStyleModel",
      "state": {
       "description_width": ""
      }
     },
     "2a489b261c534ad983b8780c52037ede": {
      "model_module": "@jupyter-widgets/controls",
      "model_module_version": "1.5.0",
      "model_name": "TextareaModel",
      "state": {
       "description": "Answer:",
       "layout": "IPY_MODEL_ad49aad8c9c14654a157f7d475e514e8",
       "placeholder": "Type something",
       "style": "IPY_MODEL_6099a24696cd4afa9eef91938544b6e6"
      }
     },
     "2a52229a362949759cb0d59ba8cf580f": {
      "model_module": "@jupyter-widgets/controls",
      "model_module_version": "1.5.0",
      "model_name": "TextareaModel",
      "state": {
       "description": "String:",
       "layout": "IPY_MODEL_d1a62c328ec84cff8490bf496e145214",
       "placeholder": "Type something",
       "style": "IPY_MODEL_001dfcfb60574d87b5c18768f09a44f9"
      }
     },
     "2a55c65a123c4046bdab2ca1ee3480e1": {
      "model_module": "@jupyter-widgets/controls",
      "model_module_version": "1.5.0",
      "model_name": "DescriptionStyleModel",
      "state": {
       "description_width": ""
      }
     },
     "2a662b2b4bf24708bd93fb7c284381da": {
      "model_module": "@jupyter-widgets/base",
      "model_module_version": "1.2.0",
      "model_name": "LayoutModel",
      "state": {}
     },
     "2a82df186f6346adad67672cefcb6cfc": {
      "model_module": "@jupyter-widgets/controls",
      "model_module_version": "1.5.0",
      "model_name": "RadioButtonsModel",
      "state": {
       "_options_labels": [
        "True",
        "False"
       ],
       "index": 0,
       "layout": "IPY_MODEL_67279f6fdb3a469498be777569ce9e81",
       "style": "IPY_MODEL_024a081d96d2442f867e6ad4515f0096"
      }
     },
     "2a95d13dc1534ad28fed5e33fb2d1184": {
      "model_module": "@jupyter-widgets/controls",
      "model_module_version": "1.5.0",
      "model_name": "DescriptionStyleModel",
      "state": {
       "description_width": ""
      }
     },
     "2ab55bea757b432ba5ff08d95c74c852": {
      "model_module": "@jupyter-widgets/output",
      "model_module_version": "1.0.0",
      "model_name": "OutputModel",
      "state": {
       "layout": "IPY_MODEL_23b40c4e332c43a3a303af0a93634bfa"
      }
     },
     "2ab84c6a6983491eb7ca833d2cb1a15e": {
      "model_module": "@jupyter-widgets/base",
      "model_module_version": "1.2.0",
      "model_name": "LayoutModel",
      "state": {
       "width": "90%"
      }
     },
     "2ab8645647564ea3b2534d58cb39856b": {
      "model_module": "@jupyter-widgets/base",
      "model_module_version": "1.2.0",
      "model_name": "LayoutModel",
      "state": {
       "width": "5%"
      }
     },
     "2abab62d858147dca835a628321d8132": {
      "model_module": "@jupyter-widgets/base",
      "model_module_version": "1.2.0",
      "model_name": "LayoutModel",
      "state": {}
     },
     "2ac12c6244294a7f99e466fed33f7362": {
      "model_module": "@jupyter-widgets/controls",
      "model_module_version": "1.5.0",
      "model_name": "ButtonModel",
      "state": {
       "description": "Test Code",
       "layout": "IPY_MODEL_8eb58138f6be4d7ebb3b6937cb7f5dda",
       "style": "IPY_MODEL_540826ef9580416180ad4b7c5fe8eea6",
       "tooltip": "Click to test your code"
      }
     },
     "2b029ad4d8534400a451352c5acb438b": {
      "model_module": "@jupyter-widgets/controls",
      "model_module_version": "1.5.0",
      "model_name": "DescriptionStyleModel",
      "state": {
       "description_width": ""
      }
     },
     "2b1da4822d774c81b6f9b9bd1bc77627": {
      "model_module": "@jupyter-widgets/base",
      "model_module_version": "1.2.0",
      "model_name": "LayoutModel",
      "state": {
       "width": "5%"
      }
     },
     "2b28af279eb34557ba3435ea349aa423": {
      "model_module": "@jupyter-widgets/output",
      "model_module_version": "1.0.0",
      "model_name": "OutputModel",
      "state": {
       "layout": "IPY_MODEL_815b51b228f34ea2b7e7bedb91fb256b"
      }
     },
     "2b3adbaaf98f43a9aa116b871dcf680f": {
      "model_module": "@jupyter-widgets/base",
      "model_module_version": "1.2.0",
      "model_name": "LayoutModel",
      "state": {}
     },
     "2b404f0b213f4886ad4fecbbd2d3ea2d": {
      "model_module": "@jupyter-widgets/controls",
      "model_module_version": "1.5.0",
      "model_name": "LabelModel",
      "state": {
       "layout": "IPY_MODEL_d4b11295505748f6aeaa9f16a2c3db60",
       "style": "IPY_MODEL_7ae6ef2197e04d6690d1dd9dec4b4dc1"
      }
     },
     "2b5de46d401b443d9099e39657b1a898": {
      "model_module": "@jupyter-widgets/controls",
      "model_module_version": "1.5.0",
      "model_name": "RadioButtonsModel",
      "state": {
       "_options_labels": [
        "a. light and matter",
        "b. time and space",
        "c. dephasing and dissipation",
        "d. linear and nonlinear processes"
       ],
       "index": 0,
       "layout": "IPY_MODEL_47c9f245f4c244ad99313adb2384adc2",
       "style": "IPY_MODEL_e9cfedbf05724bab945a4b3b2b295e85"
      }
     },
     "2b6590207d0f4fd3a9674780743c927c": {
      "model_module": "@jupyter-widgets/controls",
      "model_module_version": "1.5.0",
      "model_name": "TextareaModel",
      "state": {
       "description": "Answer:",
       "layout": "IPY_MODEL_1011d3910dd94c85800c6adc30be7456",
       "placeholder": "Type something",
       "style": "IPY_MODEL_81e9b7ce079a49c8952902fd957388bc"
      }
     },
     "2b83ffb8bf8a4cf3b85b1a628058f2b2": {
      "model_module": "@jupyter-widgets/controls",
      "model_module_version": "1.5.0",
      "model_name": "LabelModel",
      "state": {
       "layout": "IPY_MODEL_a30f9c8bc9924567872ea6a65abdea5e",
       "style": "IPY_MODEL_416cad3072dc4c229750eb41fd9532ff"
      }
     },
     "2bbd5f27c8a042c7ad497ba78172ddaf": {
      "model_module": "@jupyter-widgets/controls",
      "model_module_version": "1.5.0",
      "model_name": "DescriptionStyleModel",
      "state": {
       "description_width": ""
      }
     },
     "2bc289afe1914a5698f6ff663e32a633": {
      "model_module": "@jupyter-widgets/controls",
      "model_module_version": "1.5.0",
      "model_name": "DescriptionStyleModel",
      "state": {
       "description_width": ""
      }
     },
     "2bca0ef7fe3148ab8ae1e2f3d5428384": {
      "model_module": "@jupyter-widgets/controls",
      "model_module_version": "1.5.0",
      "model_name": "LabelModel",
      "state": {
       "layout": "IPY_MODEL_dfcf9165481643a7aa1be730fe26c80e",
       "style": "IPY_MODEL_4831a4a63d8044e2b34ae41a721b3524"
      }
     },
     "2bccb28af367420cafd405c485e91120": {
      "model_module": "@jupyter-widgets/controls",
      "model_module_version": "1.5.0",
      "model_name": "DescriptionStyleModel",
      "state": {
       "description_width": ""
      }
     },
     "2bd600264e5b4869b2fccf00a9bb70a7": {
      "model_module": "@jupyter-widgets/base",
      "model_module_version": "1.2.0",
      "model_name": "LayoutModel",
      "state": {
       "width": "5%"
      }
     },
     "2be791f99bc94af58c1f23523c9f21c9": {
      "model_module": "@jupyter-widgets/controls",
      "model_module_version": "1.5.0",
      "model_name": "ButtonModel",
      "state": {
       "description": "Review Answers",
       "layout": "IPY_MODEL_07e80c599c8a4b0c8891f654249e433f",
       "style": "IPY_MODEL_5776e7a38d7e4258810ba4718f680bab",
       "tooltip": "Click to review answers"
      }
     },
     "2bf5b3daaf624f67b76b61f0e1d79ae1": {
      "model_module": "@jupyter-widgets/controls",
      "model_module_version": "1.5.0",
      "model_name": "DescriptionStyleModel",
      "state": {
       "description_width": ""
      }
     },
     "2bffc96e7b9b4bd79693567d737e167f": {
      "model_module": "@jupyter-widgets/controls",
      "model_module_version": "1.5.0",
      "model_name": "LabelModel",
      "state": {
       "layout": "IPY_MODEL_20c228db7664443b9e74c601ccbbf760",
       "style": "IPY_MODEL_9b12f6969a854d8aa1d0ff5c61520fa8"
      }
     },
     "2c146c767ecc42beb17144931aa9eb9d": {
      "model_module": "@jupyter-widgets/base",
      "model_module_version": "1.2.0",
      "model_name": "LayoutModel",
      "state": {
       "width": "5%"
      }
     },
     "2c2411dc34684036a3c9d78ecfc3d805": {
      "model_module": "@jupyter-widgets/base",
      "model_module_version": "1.2.0",
      "model_name": "LayoutModel",
      "state": {}
     },
     "2c3221db70a444eface2f2780a1c2370": {
      "model_module": "@jupyter-widgets/base",
      "model_module_version": "1.2.0",
      "model_name": "LayoutModel",
      "state": {}
     },
     "2c44e5649f9d409583b94b67b6215475": {
      "model_module": "@jupyter-widgets/base",
      "model_module_version": "1.2.0",
      "model_name": "LayoutModel",
      "state": {
       "width": "90%"
      }
     },
     "2c55ad0434b844e990e58d3a4571ba9f": {
      "model_module": "@jupyter-widgets/controls",
      "model_module_version": "1.5.0",
      "model_name": "LabelModel",
      "state": {
       "layout": "IPY_MODEL_87f7db97b9ba44d28fad886bbe9d9dc7",
       "style": "IPY_MODEL_bb0e1eadfebb4f1e999af32215749193"
      }
     },
     "2c919d002378403babb086de3d643b1c": {
      "model_module": "@jupyter-widgets/controls",
      "model_module_version": "1.5.0",
      "model_name": "ButtonStyleModel",
      "state": {}
     },
     "2cb03ed33a554f528fbcef1aba19ebb0": {
      "model_module": "@jupyter-widgets/base",
      "model_module_version": "1.2.0",
      "model_name": "LayoutModel",
      "state": {}
     },
     "2cc36f41edd04e7bb07591f21c79bf52": {
      "model_module": "@jupyter-widgets/base",
      "model_module_version": "1.2.0",
      "model_name": "LayoutModel",
      "state": {}
     },
     "2ce0647a2dc44b24b5af4e0001108662": {
      "model_module": "@jupyter-widgets/controls",
      "model_module_version": "1.5.0",
      "model_name": "TextareaModel",
      "state": {
       "description": "String:",
       "layout": "IPY_MODEL_06df10435f954d98958935bd7de4f566",
       "placeholder": "Type something",
       "style": "IPY_MODEL_862f18785f2a4642965d98effd68d21f"
      }
     },
     "2ce2a0b72ecb434aa183b1e57c3447c1": {
      "model_module": "@jupyter-widgets/controls",
      "model_module_version": "1.5.0",
      "model_name": "LabelModel",
      "state": {
       "layout": "IPY_MODEL_80f759ac52e54c67b4b766a7e7315de5",
       "style": "IPY_MODEL_36e607705ce34955a20411023817cfc5"
      }
     },
     "2ce9ef9830aa4734b73b8b0a4c11b19f": {
      "model_module": "@jupyter-widgets/base",
      "model_module_version": "1.2.0",
      "model_name": "LayoutModel",
      "state": {
       "width": "90%"
      }
     },
     "2cfaa41f6f69441aa979c9883c2873eb": {
      "model_module": "@jupyter-widgets/controls",
      "model_module_version": "1.5.0",
      "model_name": "VBoxModel",
      "state": {
       "children": [
        "IPY_MODEL_e66fe9a12af348efa2a16e64737af481",
        "IPY_MODEL_6738e1473636406597ecc3d0fadf7602"
       ],
       "layout": "IPY_MODEL_9fb1e7ddacbd4460887cd71fede48a17"
      }
     },
     "2cfdd1956657432aac5784352a805c61": {
      "model_module": "@jupyter-widgets/controls",
      "model_module_version": "1.5.0",
      "model_name": "TextareaModel",
      "state": {
       "description": "Code:",
       "layout": "IPY_MODEL_57fb33e6a17843a68f4977f7ed88536d",
       "placeholder": "Type code here",
       "style": "IPY_MODEL_c66ac1532f3548508f27d5868df38aa6"
      }
     },
     "2d0247c489de4b34a2f7d9850841b68e": {
      "model_module": "@jupyter-widgets/base",
      "model_module_version": "1.2.0",
      "model_name": "LayoutModel",
      "state": {}
     },
     "2d2dc10ef5ae4db8969387361fc408bc": {
      "model_module": "@jupyter-widgets/controls",
      "model_module_version": "1.5.0",
      "model_name": "DescriptionStyleModel",
      "state": {
       "description_width": ""
      }
     },
     "2d3524e8a30f409ba0d7757381723de8": {
      "model_module": "@jupyter-widgets/controls",
      "model_module_version": "1.5.0",
      "model_name": "DescriptionStyleModel",
      "state": {
       "description_width": ""
      }
     },
     "2d37b0c8ad264e219ae56480f70debd6": {
      "model_module": "@jupyter-widgets/base",
      "model_module_version": "1.2.0",
      "model_name": "LayoutModel",
      "state": {
       "width": "5%"
      }
     },
     "2d4cfbf3163a42768de4ba17e1b235f4": {
      "model_module": "@jupyter-widgets/controls",
      "model_module_version": "1.5.0",
      "model_name": "DescriptionStyleModel",
      "state": {
       "description_width": ""
      }
     },
     "2d5e954530a5455d9f1ea9def092d8ce": {
      "model_module": "@jupyter-widgets/controls",
      "model_module_version": "1.5.0",
      "model_name": "HBoxModel",
      "state": {
       "children": [
        "IPY_MODEL_247b3311aa4c4c6ca288aab1198f5302",
        "IPY_MODEL_6c6231f9cd624708a9b9c80f8ea6cdb2"
       ],
       "layout": "IPY_MODEL_45e15e8599764a348a2af2b9737c1acc"
      }
     },
     "2d8df81ce4d24dcf8d4a3836dc721cae": {
      "model_module": "@jupyter-widgets/base",
      "model_module_version": "1.2.0",
      "model_name": "LayoutModel",
      "state": {
       "width": "5%"
      }
     },
     "2d9ab98c98024c3895791f2bb3389f42": {
      "model_module": "@jupyter-widgets/base",
      "model_module_version": "1.2.0",
      "model_name": "LayoutModel",
      "state": {
       "width": "90%"
      }
     },
     "2dba3a7d4f994649b253abeb8388af6b": {
      "model_module": "@jupyter-widgets/base",
      "model_module_version": "1.2.0",
      "model_name": "LayoutModel",
      "state": {
       "width": "5%"
      }
     },
     "2def0c08b9e041cca238abc9929d4fb5": {
      "model_module": "@jupyter-widgets/base",
      "model_module_version": "1.2.0",
      "model_name": "LayoutModel",
      "state": {}
     },
     "2dfbd907e9ac4a3db9c47ee1c65c94d7": {
      "model_module": "@jupyter-widgets/controls",
      "model_module_version": "1.5.0",
      "model_name": "VBoxModel",
      "state": {
       "children": [
        "IPY_MODEL_5e266b8ea19848628d5c2909eeeeb300",
        "IPY_MODEL_910f0ac7b4f4404bb47c9a3e29b8591c"
       ],
       "layout": "IPY_MODEL_4c782ce7bfc84a0fb8e931a9a4a4ac72"
      }
     },
     "2e1f0d38cd8042678df929c4faf6832e": {
      "model_module": "@jupyter-widgets/base",
      "model_module_version": "1.2.0",
      "model_name": "LayoutModel",
      "state": {}
     },
     "2e243c41fd0c4489b34be42d5f8bf040": {
      "model_module": "@jupyter-widgets/controls",
      "model_module_version": "1.5.0",
      "model_name": "DescriptionStyleModel",
      "state": {
       "description_width": ""
      }
     },
     "2e27bcff67fe4ee6a972f3d8efc869a8": {
      "model_module": "@jupyter-widgets/controls",
      "model_module_version": "1.5.0",
      "model_name": "LabelModel",
      "state": {
       "layout": "IPY_MODEL_f5d92a5efd55456981987744a3a2c337",
       "style": "IPY_MODEL_228f717753dc41b2b33edb18531673ea"
      }
     },
     "2e49c81c16044989a9df44f9455ecaf6": {
      "model_module": "@jupyter-widgets/controls",
      "model_module_version": "1.5.0",
      "model_name": "TextareaModel",
      "state": {
       "description": "Code:",
       "layout": "IPY_MODEL_aedd50d31a144f9596aabc882adac8fe",
       "placeholder": "Type code here",
       "style": "IPY_MODEL_75c01ed62df4480980dc5b149d2b1f2b"
      }
     },
     "2e5010aab6a74a19a2a518c30cf8e687": {
      "model_module": "@jupyter-widgets/base",
      "model_module_version": "1.2.0",
      "model_name": "LayoutModel",
      "state": {}
     },
     "2e61f5a71b5249188c0450d78fac57d8": {
      "model_module": "@jupyter-widgets/base",
      "model_module_version": "1.2.0",
      "model_name": "LayoutModel",
      "state": {
       "width": "90%"
      }
     },
     "2e7e0e0da4b94e249aaf250d8f173fde": {
      "model_module": "@jupyter-widgets/controls",
      "model_module_version": "1.5.0",
      "model_name": "TextareaModel",
      "state": {
       "description": "Code:",
       "layout": "IPY_MODEL_8ac600ffcb824d629b63a8d3e8591043",
       "placeholder": "Type code here",
       "style": "IPY_MODEL_ceb8b9b3714548c7a3216355ceb7052d"
      }
     },
     "2e87205873c04ac38a962f51faa38f1a": {
      "model_module": "@jupyter-widgets/controls",
      "model_module_version": "1.5.0",
      "model_name": "HBoxModel",
      "state": {
       "children": [
        "IPY_MODEL_3d7b245a00cf418dac83e510872d0461",
        "IPY_MODEL_dcede049aeaa487cab97f6560cbce075"
       ],
       "layout": "IPY_MODEL_62c502b68ed04daabf110a3f543b8b41"
      }
     },
     "2e8f7676c12e4ebbaedf927a8704c19a": {
      "model_module": "@jupyter-widgets/base",
      "model_module_version": "1.2.0",
      "model_name": "LayoutModel",
      "state": {
       "width": "5%"
      }
     },
     "2ea27129171c4677b9e7b3aa66035979": {
      "model_module": "@jupyter-widgets/base",
      "model_module_version": "1.2.0",
      "model_name": "LayoutModel",
      "state": {}
     },
     "2eaa9866c20d470bb333cb8232d83140": {
      "model_module": "@jupyter-widgets/base",
      "model_module_version": "1.2.0",
      "model_name": "LayoutModel",
      "state": {
       "width": "5%"
      }
     },
     "2eacd95ab4c0412d90d348d2ad2ea30c": {
      "model_module": "@jupyter-widgets/base",
      "model_module_version": "1.2.0",
      "model_name": "LayoutModel",
      "state": {}
     },
     "2edb41c41f6d449d95fb3f261776d0ec": {
      "model_module": "@jupyter-widgets/controls",
      "model_module_version": "1.5.0",
      "model_name": "ButtonModel",
      "state": {
       "description": "Review Answers",
       "layout": "IPY_MODEL_825271f59e264301a073b95008095bd3",
       "style": "IPY_MODEL_27f6e2c329ed4e5c8dad196580810862",
       "tooltip": "Click to review answers"
      }
     },
     "2ee57e6b8ed1417e934dfdc7e4e4cdc6": {
      "model_module": "@jupyter-widgets/base",
      "model_module_version": "1.2.0",
      "model_name": "LayoutModel",
      "state": {}
     },
     "2f2e2aeafeb24b3497313e722934022c": {
      "model_module": "@jupyter-widgets/controls",
      "model_module_version": "1.5.0",
      "model_name": "HBoxModel",
      "state": {
       "children": [
        "IPY_MODEL_a184f597d36f4f439d71beb0df405ef4",
        "IPY_MODEL_3e3a3e5c4b3c4d499da7069bd7fd1cf6"
       ],
       "layout": "IPY_MODEL_3bf674cb9b8e4e0195abfc4843e1c121"
      }
     },
     "2f6f75e4286743ba929c8eefb43d8111": {
      "model_module": "@jupyter-widgets/controls",
      "model_module_version": "1.5.0",
      "model_name": "DescriptionStyleModel",
      "state": {
       "description_width": ""
      }
     },
     "2f7f3c78662d4431b79ce8818eb7fef7": {
      "model_module": "@jupyter-widgets/controls",
      "model_module_version": "1.5.0",
      "model_name": "DescriptionStyleModel",
      "state": {
       "description_width": ""
      }
     },
     "2f921974f8ad4690bd2c753d2ee052fa": {
      "model_module": "@jupyter-widgets/controls",
      "model_module_version": "1.5.0",
      "model_name": "DescriptionStyleModel",
      "state": {
       "description_width": ""
      }
     },
     "2f969f6a9cdf47f18d54978161b3de74": {
      "model_module": "@jupyter-widgets/controls",
      "model_module_version": "1.5.0",
      "model_name": "HBoxModel",
      "state": {
       "children": [
        "IPY_MODEL_e07ebd1909424a55b349f87fa89427c9",
        "IPY_MODEL_29ee75d8f7484ad6b6ab479b48fa393d"
       ],
       "layout": "IPY_MODEL_869870e5cbd64ad18399498743cd23a3"
      }
     },
     "2fbf412c88e0467c8ec21c298608c3ed": {
      "model_module": "@jupyter-widgets/controls",
      "model_module_version": "1.5.0",
      "model_name": "RadioButtonsModel",
      "state": {
       "_options_labels": [
        "a. The electric field",
        "b. The charge density",
        "c. The current density",
        "d. Both b and c"
       ],
       "index": 0,
       "layout": "IPY_MODEL_5b2ae0d83dc84603b5a3eeec95fd8f7b",
       "style": "IPY_MODEL_d52f8def71ec42e79cbf0d36bc50d967"
      }
     },
     "30034e00e088435bbb0354e478f2dee9": {
      "model_module": "@jupyter-widgets/base",
      "model_module_version": "1.2.0",
      "model_name": "LayoutModel",
      "state": {}
     },
     "3007a43f7efd4db3b146aa78d9f4376b": {
      "model_module": "@jupyter-widgets/base",
      "model_module_version": "1.2.0",
      "model_name": "LayoutModel",
      "state": {}
     },
     "3063984450444c84b415ef8e5692ee9e": {
      "model_module": "@jupyter-widgets/controls",
      "model_module_version": "1.5.0",
      "model_name": "ButtonModel",
      "state": {
       "description": "Test Code",
       "layout": "IPY_MODEL_6acc4fb473224fe5950a0ad74c80c1cb",
       "style": "IPY_MODEL_1d2cadf79f7d4d90be4be633799dd4ea",
       "tooltip": "Click to test your code"
      }
     },
     "309b41a278d4451280ea402e46cfc708": {
      "model_module": "@jupyter-widgets/controls",
      "model_module_version": "1.5.0",
      "model_name": "HBoxModel",
      "state": {
       "children": [
        "IPY_MODEL_e50ad9ba992a4ed19dbd543fd784b935",
        "IPY_MODEL_415d54327906454688ee235c06033878"
       ],
       "layout": "IPY_MODEL_64ec7da3ff5b43cd9b36ab43cf6fa89b"
      }
     },
     "309dbdeea8b94991a26261642e7b1c64": {
      "model_module": "@jupyter-widgets/controls",
      "model_module_version": "1.5.0",
      "model_name": "DescriptionStyleModel",
      "state": {
       "description_width": ""
      }
     },
     "30a6ce2134134fa5ad2cab2812704d1c": {
      "model_module": "@jupyter-widgets/base",
      "model_module_version": "1.2.0",
      "model_name": "LayoutModel",
      "state": {
       "width": "5%"
      }
     },
     "30b39f5457e54dc59eef1f8e172a1f8b": {
      "model_module": "@jupyter-widgets/controls",
      "model_module_version": "1.5.0",
      "model_name": "LabelModel",
      "state": {
       "layout": "IPY_MODEL_5d8b35f752244a799bcd1aaf72067d2d",
       "style": "IPY_MODEL_dbd384d1d8804d5095e53915806607e3"
      }
     },
     "30c88a6b50ea46d098644448a998c265": {
      "model_module": "@jupyter-widgets/controls",
      "model_module_version": "1.5.0",
      "model_name": "LabelModel",
      "state": {
       "layout": "IPY_MODEL_8ffa802211994be7ad695327defe486f",
       "style": "IPY_MODEL_b05794639c5c4c4097cc270d18a14083"
      }
     },
     "30fd2d8e41f543ca849f5a45b31023dd": {
      "model_module": "@jupyter-widgets/controls",
      "model_module_version": "1.5.0",
      "model_name": "RadioButtonsModel",
      "state": {
       "_options_labels": [
        "True",
        "False"
       ],
       "index": 0,
       "layout": "IPY_MODEL_06377e551062425e8084f4748b6b366b",
       "style": "IPY_MODEL_0f4f45c6aab240ca832775fcdff7336d"
      }
     },
     "3108054c5a0b495591a5fef190260807": {
      "model_module": "@jupyter-widgets/controls",
      "model_module_version": "1.5.0",
      "model_name": "HBoxModel",
      "state": {
       "children": [
        "IPY_MODEL_803b90f840f1415b824dbf8cce1321ca",
        "IPY_MODEL_edda096466054bd8867f06942c0991bc"
       ],
       "layout": "IPY_MODEL_38329731dda047beba6267df2980766a"
      }
     },
     "310871c9c00f4cd195563c4e9561bb2d": {
      "model_module": "@jupyter-widgets/controls",
      "model_module_version": "1.5.0",
      "model_name": "DescriptionStyleModel",
      "state": {
       "description_width": ""
      }
     },
     "313d631e34fc4410a4c0268f2d8bfa6b": {
      "model_module": "@jupyter-widgets/controls",
      "model_module_version": "1.5.0",
      "model_name": "DescriptionStyleModel",
      "state": {
       "description_width": ""
      }
     },
     "31487a6e3a834d8686fe302078a1fb85": {
      "model_module": "@jupyter-widgets/base",
      "model_module_version": "1.2.0",
      "model_name": "LayoutModel",
      "state": {
       "width": "90%"
      }
     },
     "317cc3a5ac184547b06c60c0cb0b6d76": {
      "model_module": "@jupyter-widgets/base",
      "model_module_version": "1.2.0",
      "model_name": "LayoutModel",
      "state": {}
     },
     "31b2eb64a1664d4abce045459109edae": {
      "model_module": "@jupyter-widgets/base",
      "model_module_version": "1.2.0",
      "model_name": "LayoutModel",
      "state": {}
     },
     "31b3dff283074c1a99c62f721fc4a400": {
      "model_module": "@jupyter-widgets/controls",
      "model_module_version": "1.5.0",
      "model_name": "LabelModel",
      "state": {
       "layout": "IPY_MODEL_5a8c3c14d3ab47c58e002651f86b79f0",
       "style": "IPY_MODEL_b3b139a4e0d74ccd98e2a0d9808b9d54"
      }
     },
     "31d41def9c1d4b4d89ee709c612ace9a": {
      "model_module": "@jupyter-widgets/controls",
      "model_module_version": "1.5.0",
      "model_name": "LabelModel",
      "state": {
       "layout": "IPY_MODEL_77af6280afd140d6abaf19bc8482ecc7",
       "style": "IPY_MODEL_69335ec0557b43d8aa455553d11de9dc"
      }
     },
     "31e14bd76f124027975d0dc023d57553": {
      "model_module": "@jupyter-widgets/controls",
      "model_module_version": "1.5.0",
      "model_name": "DescriptionStyleModel",
      "state": {
       "description_width": ""
      }
     },
     "31f51731bc044c2fb56b9097c86cea6d": {
      "model_module": "@jupyter-widgets/base",
      "model_module_version": "1.2.0",
      "model_name": "LayoutModel",
      "state": {}
     },
     "320bd4412e5548fb9c136df80d759cd7": {
      "model_module": "@jupyter-widgets/base",
      "model_module_version": "1.2.0",
      "model_name": "LayoutModel",
      "state": {}
     },
     "3216d601dd194f9eb735da29fadb67e0": {
      "model_module": "@jupyter-widgets/controls",
      "model_module_version": "1.5.0",
      "model_name": "VBoxModel",
      "state": {
       "children": [
        "IPY_MODEL_3271f2863a784470b3bbb427f0e87875",
        "IPY_MODEL_eeda8e07fff140c5ba9cf94867995b9c"
       ],
       "layout": "IPY_MODEL_8e6ced1730d749efafc12cb897b1c14f"
      }
     },
     "322ae127520c48b8874796e67948f789": {
      "model_module": "@jupyter-widgets/controls",
      "model_module_version": "1.5.0",
      "model_name": "LabelModel",
      "state": {
       "layout": "IPY_MODEL_0289e6a2207246988193e881c958c5cb",
       "style": "IPY_MODEL_e6096350d52c43389a69fc6cb3c28826"
      }
     },
     "3271f2863a784470b3bbb427f0e87875": {
      "model_module": "@jupyter-widgets/output",
      "model_module_version": "1.0.0",
      "model_name": "OutputModel",
      "state": {
       "layout": "IPY_MODEL_f3a058484d574abf8409a4b1a20a6a18",
       "outputs": [
        {
         "name": "stdout",
         "output_type": "stream",
         "text": "0\n1\n4\n9\n16\n25\n36\n49\n64\n81\n100\n"
        }
       ]
      }
     },
     "32741e06f80e47b0a7c9b0213574cb18": {
      "model_module": "@jupyter-widgets/controls",
      "model_module_version": "1.5.0",
      "model_name": "LabelModel",
      "state": {
       "layout": "IPY_MODEL_2927a0baa69b46739f1a5e31f0bf5112",
       "style": "IPY_MODEL_b4e396eb29c54054ac8fc41fda69e2d4"
      }
     },
     "3284719feea743748906d6b1d5622afc": {
      "model_module": "@jupyter-widgets/controls",
      "model_module_version": "1.5.0",
      "model_name": "TextareaModel",
      "state": {
       "description": "Code:",
       "layout": "IPY_MODEL_6f7e4ee2a01d4a9990635c5fc3637c65",
       "placeholder": "Type code here",
       "style": "IPY_MODEL_dbe014b90a1245a09ba5a241e986950c"
      }
     },
     "32954a45c25248179613766fcee8a536": {
      "model_module": "@jupyter-widgets/base",
      "model_module_version": "1.2.0",
      "model_name": "LayoutModel",
      "state": {}
     },
     "32e937e39e0c4ec182c01f75228126a5": {
      "model_module": "@jupyter-widgets/base",
      "model_module_version": "1.2.0",
      "model_name": "LayoutModel",
      "state": {}
     },
     "32eba09db80749ee8f716f9854483397": {
      "model_module": "@jupyter-widgets/base",
      "model_module_version": "1.2.0",
      "model_name": "LayoutModel",
      "state": {
       "width": "5%"
      }
     },
     "330b71db961249dcb80ab4b269abf930": {
      "model_module": "@jupyter-widgets/base",
      "model_module_version": "1.2.0",
      "model_name": "LayoutModel",
      "state": {
       "width": "5%"
      }
     },
     "331c7b7261ed4e5fbb9ce0fa961de780": {
      "model_module": "@jupyter-widgets/controls",
      "model_module_version": "1.5.0",
      "model_name": "DescriptionStyleModel",
      "state": {
       "description_width": ""
      }
     },
     "332f7689210f4edfa43d5e68c68d1455": {
      "model_module": "@jupyter-widgets/base",
      "model_module_version": "1.2.0",
      "model_name": "LayoutModel",
      "state": {
       "width": "5%"
      }
     },
     "333303a1914c4649b7cccc27fb382064": {
      "model_module": "@jupyter-widgets/base",
      "model_module_version": "1.2.0",
      "model_name": "LayoutModel",
      "state": {}
     },
     "333b5a6c320f4de58e3e271b76f319e3": {
      "model_module": "@jupyter-widgets/controls",
      "model_module_version": "1.5.0",
      "model_name": "ButtonModel",
      "state": {
       "description": "Test Code",
       "layout": "IPY_MODEL_03109a5e8ab044d49c81e10a7dbadc8f",
       "style": "IPY_MODEL_c46d02daa5ec43fcaa0474f97382ef82",
       "tooltip": "Click to test your code"
      }
     },
     "3357688bb2274294b6f222974f6ca311": {
      "model_module": "@jupyter-widgets/base",
      "model_module_version": "1.2.0",
      "model_name": "LayoutModel",
      "state": {
       "width": "90%"
      }
     },
     "3364e21ac7234b61a770e062111dd2d7": {
      "model_module": "@jupyter-widgets/controls",
      "model_module_version": "1.5.0",
      "model_name": "RadioButtonsModel",
      "state": {
       "_options_labels": [
        "True",
        "False"
       ],
       "index": 0,
       "layout": "IPY_MODEL_58605eae836443b39361734d80b89a36",
       "style": "IPY_MODEL_8f3a90eb796e4f7eb5706fff3fb6b126"
      }
     },
     "337730e21c5d4de0a2af6d9a7ff1ada7": {
      "model_module": "@jupyter-widgets/base",
      "model_module_version": "1.2.0",
      "model_name": "LayoutModel",
      "state": {}
     },
     "338a8a5ff1104a9894f8784a594e9282": {
      "model_module": "@jupyter-widgets/controls",
      "model_module_version": "1.5.0",
      "model_name": "VBoxModel",
      "state": {
       "children": [
        "IPY_MODEL_2a227cddf138427586460401d30416be",
        "IPY_MODEL_0e52b4e7ee4c4318b727831552b5d41b"
       ],
       "layout": "IPY_MODEL_05227cc80b8b475fa1bbc45f979ca03f"
      }
     },
     "339ccc558b6740d6bc5626bcbc92e9c8": {
      "model_module": "@jupyter-widgets/controls",
      "model_module_version": "1.5.0",
      "model_name": "HBoxModel",
      "state": {
       "children": [
        "IPY_MODEL_7167838fbfea4c1fad4053b97ffb93e0",
        "IPY_MODEL_2a82df186f6346adad67672cefcb6cfc"
       ],
       "layout": "IPY_MODEL_a7c294c2ef7949d3b0b3a81e04e87dc6"
      }
     },
     "33bda95fdf094d90a16fd2fe2286fde6": {
      "model_module": "@jupyter-widgets/controls",
      "model_module_version": "1.5.0",
      "model_name": "ButtonStyleModel",
      "state": {}
     },
     "33c65bd4048243abb47ad39b884ec52b": {
      "model_module": "@jupyter-widgets/controls",
      "model_module_version": "1.5.0",
      "model_name": "DescriptionStyleModel",
      "state": {
       "description_width": ""
      }
     },
     "33c736ccfac94cf79ede1f262c1edbcd": {
      "model_module": "@jupyter-widgets/controls",
      "model_module_version": "1.5.0",
      "model_name": "LabelModel",
      "state": {
       "layout": "IPY_MODEL_76d66456afaf4cea81a6bcc957d155c1",
       "style": "IPY_MODEL_66b0f15778b044cbbac9e2418d47a930"
      }
     },
     "33c8482b1851462b85c4a0e87bac1339": {
      "model_module": "@jupyter-widgets/base",
      "model_module_version": "1.2.0",
      "model_name": "LayoutModel",
      "state": {
       "width": "5%"
      }
     },
     "33db7c18e1e846a7be06450a890bb805": {
      "model_module": "@jupyter-widgets/controls",
      "model_module_version": "1.5.0",
      "model_name": "DescriptionStyleModel",
      "state": {
       "description_width": ""
      }
     },
     "33f023d7700441b2b527a35b9b3058d3": {
      "model_module": "@jupyter-widgets/controls",
      "model_module_version": "1.5.0",
      "model_name": "DescriptionStyleModel",
      "state": {
       "description_width": ""
      }
     },
     "33f14020f5e247acb8a8b404181c7b93": {
      "model_module": "@jupyter-widgets/controls",
      "model_module_version": "1.5.0",
      "model_name": "DescriptionStyleModel",
      "state": {
       "description_width": ""
      }
     },
     "340ce1b013dc4d329f2a3079d98cd056": {
      "model_module": "@jupyter-widgets/base",
      "model_module_version": "1.2.0",
      "model_name": "LayoutModel",
      "state": {}
     },
     "340de0988632400497a9ae65a91d2dc3": {
      "model_module": "@jupyter-widgets/controls",
      "model_module_version": "1.5.0",
      "model_name": "DescriptionStyleModel",
      "state": {
       "description_width": ""
      }
     },
     "341a602c0aa1473882ed169c7f377147": {
      "model_module": "@jupyter-widgets/controls",
      "model_module_version": "1.5.0",
      "model_name": "DescriptionStyleModel",
      "state": {
       "description_width": ""
      }
     },
     "345365ab0ca34259b4819db57d9df374": {
      "model_module": "@jupyter-widgets/controls",
      "model_module_version": "1.5.0",
      "model_name": "DescriptionStyleModel",
      "state": {
       "description_width": ""
      }
     },
     "3453d003cea94899ac7bb54e698a99fe": {
      "model_module": "@jupyter-widgets/controls",
      "model_module_version": "1.5.0",
      "model_name": "RadioButtonsModel",
      "state": {
       "_options_labels": [
        "a. Algebraic sums",
        "b. Time derivatives",
        "c. Products",
        "d. More convolutions"
       ],
       "index": 0,
       "layout": "IPY_MODEL_5a3950c58fc7454ebb051ae4e1c76003",
       "style": "IPY_MODEL_176be812a8584624b9958a27f654dfda"
      }
     },
     "3457faaff8a0488bb7d5d54a9308b316": {
      "model_module": "@jupyter-widgets/base",
      "model_module_version": "1.2.0",
      "model_name": "LayoutModel",
      "state": {
       "width": "90%"
      }
     },
     "34d45f35f5f149c6a5241f22bef51ff7": {
      "model_module": "@jupyter-widgets/controls",
      "model_module_version": "1.5.0",
      "model_name": "ButtonStyleModel",
      "state": {}
     },
     "34d58bd1f2ac4964b5e46ace5d3c3554": {
      "model_module": "@jupyter-widgets/output",
      "model_module_version": "1.0.0",
      "model_name": "OutputModel",
      "state": {
       "layout": "IPY_MODEL_a82199ff4d89415198680b0bb9a29f1c"
      }
     },
     "34e6023abc0646ab830db215614284b5": {
      "model_module": "@jupyter-widgets/base",
      "model_module_version": "1.2.0",
      "model_name": "LayoutModel",
      "state": {}
     },
     "35107219ce8b41b98be8213551ab5170": {
      "model_module": "@jupyter-widgets/controls",
      "model_module_version": "1.5.0",
      "model_name": "RadioButtonsModel",
      "state": {
       "_options_labels": [
        "a. Maxwell's equations",
        "b. Newton's Equations",
        "c. The boundary conditions",
        "d. A given macrostate"
       ],
       "index": 0,
       "layout": "IPY_MODEL_411f282a199146d8803f0e26fe1fb7e6",
       "style": "IPY_MODEL_06c2b061a961452ab212898856726f93"
      }
     },
     "3512e9e09f404f3d98ddde4c275a6444": {
      "model_module": "@jupyter-widgets/base",
      "model_module_version": "1.2.0",
      "model_name": "LayoutModel",
      "state": {
       "width": "5%"
      }
     },
     "35173029094c4758a1f5f728ca01ae25": {
      "model_module": "@jupyter-widgets/controls",
      "model_module_version": "1.5.0",
      "model_name": "LabelModel",
      "state": {
       "layout": "IPY_MODEL_2ab8645647564ea3b2534d58cb39856b",
       "style": "IPY_MODEL_e94a7e406be84888b36ea0322637b989"
      }
     },
     "3536d9caccf64f44a586fa1690b3dbfe": {
      "model_module": "@jupyter-widgets/output",
      "model_module_version": "1.0.0",
      "model_name": "OutputModel",
      "state": {
       "layout": "IPY_MODEL_8a26ac1672da4e2da3c994902666d323",
       "outputs": [
        {
         "name": "stdout",
         "output_type": "stream",
         "text": "The output works\n\n"
        }
       ]
      }
     },
     "3544a93571a74b8e8badec9bdbb5374c": {
      "model_module": "@jupyter-widgets/controls",
      "model_module_version": "1.5.0",
      "model_name": "ButtonModel",
      "state": {
       "description": "Test Code",
       "layout": "IPY_MODEL_c1c654e7a7ed4e4099461bad61bff8f0",
       "style": "IPY_MODEL_1dfb724bdd84476d88a2aa99ecfe1a0a",
       "tooltip": "Click to test your code"
      }
     },
     "354e31f523cd4d4d9f367bc832097085": {
      "model_module": "@jupyter-widgets/controls",
      "model_module_version": "1.5.0",
      "model_name": "TextareaModel",
      "state": {
       "description": "String:",
       "layout": "IPY_MODEL_c3808b1317cb49d7aa218930fa0dcecd",
       "placeholder": "Type something",
       "style": "IPY_MODEL_c8ebcea52b5043a4b9145a9c33744d80"
      }
     },
     "35795399227246d5ac926b31f1d999d7": {
      "model_module": "@jupyter-widgets/base",
      "model_module_version": "1.2.0",
      "model_name": "LayoutModel",
      "state": {
       "width": "90%"
      }
     },
     "3594ac1e646d463d86bf20126eb7c83a": {
      "model_module": "@jupyter-widgets/base",
      "model_module_version": "1.2.0",
      "model_name": "LayoutModel",
      "state": {}
     },
     "359bb3927db144b8b66abdf71b5eeac2": {
      "model_module": "@jupyter-widgets/base",
      "model_module_version": "1.2.0",
      "model_name": "LayoutModel",
      "state": {}
     },
     "35b3a46fb1d142dc80de5af7c9056d7d": {
      "model_module": "@jupyter-widgets/base",
      "model_module_version": "1.2.0",
      "model_name": "LayoutModel",
      "state": {}
     },
     "35ef5a197982449aa06a8dbcec20352e": {
      "model_module": "@jupyter-widgets/output",
      "model_module_version": "1.0.0",
      "model_name": "OutputModel",
      "state": {
       "layout": "IPY_MODEL_92de191cb3a34843a9f1306457e7cbd1",
       "outputs": [
        {
         "name": "stdout",
         "output_type": "stream",
         "text": "0\n1\n4\n9\n16\n25\n36\n49\n64\n81\n"
        }
       ]
      }
     },
     "3610a5bdca644ab8937891df96763ee8": {
      "model_module": "@jupyter-widgets/base",
      "model_module_version": "1.2.0",
      "model_name": "LayoutModel",
      "state": {}
     },
     "3638a5d7189a456e9187c144023ee973": {
      "model_module": "@jupyter-widgets/base",
      "model_module_version": "1.2.0",
      "model_name": "LayoutModel",
      "state": {
       "width": "90%"
      }
     },
     "364f0f06ab934b1db1a33f9937e1d6c4": {
      "model_module": "@jupyter-widgets/base",
      "model_module_version": "1.2.0",
      "model_name": "LayoutModel",
      "state": {
       "width": "90%"
      }
     },
     "36533ecc94844cfd936fee21412ff395": {
      "model_module": "@jupyter-widgets/controls",
      "model_module_version": "1.5.0",
      "model_name": "TextareaModel",
      "state": {
       "description": "String:",
       "layout": "IPY_MODEL_06326aeeaa224c678525b09789b20277",
       "placeholder": "Type something",
       "style": "IPY_MODEL_96e6ff0901d54478b3d165dba3b4a27a"
      }
     },
     "36586dec45c942e79fadedefb717bab9": {
      "model_module": "@jupyter-widgets/output",
      "model_module_version": "1.0.0",
      "model_name": "OutputModel",
      "state": {
       "layout": "IPY_MODEL_846e161603e04340988359a5914bdce2"
      }
     },
     "366a55ca18624a70a9eab14b361c5fb6": {
      "model_module": "@jupyter-widgets/base",
      "model_module_version": "1.2.0",
      "model_name": "LayoutModel",
      "state": {
       "width": "5%"
      }
     },
     "3674d9e97cac4666a30ff52006fe18c3": {
      "model_module": "@jupyter-widgets/base",
      "model_module_version": "1.2.0",
      "model_name": "LayoutModel",
      "state": {
       "width": "90%"
      }
     },
     "36958136fb7442149d9c1d57f4e21821": {
      "model_module": "@jupyter-widgets/controls",
      "model_module_version": "1.5.0",
      "model_name": "HBoxModel",
      "state": {
       "children": [
        "IPY_MODEL_048c9e8a26074897ad9bc42ac73141be",
        "IPY_MODEL_19fae1a28d5243ee88b185a3defafc6c"
       ],
       "layout": "IPY_MODEL_ceae1652c3984533a1791793772ee3e8"
      }
     },
     "36a71a0bd5a54423a5a232f54907bc82": {
      "model_module": "@jupyter-widgets/base",
      "model_module_version": "1.2.0",
      "model_name": "LayoutModel",
      "state": {}
     },
     "36b3d4312db94015b8bc50d219fbc59e": {
      "model_module": "@jupyter-widgets/base",
      "model_module_version": "1.2.0",
      "model_name": "LayoutModel",
      "state": {}
     },
     "36bac5f3535c4c4fb04e65513641b013": {
      "model_module": "@jupyter-widgets/controls",
      "model_module_version": "1.5.0",
      "model_name": "RadioButtonsModel",
      "state": {
       "_options_labels": [
        "a. df = 1/(N*dt)",
        "b. df = 1/dt",
        "c. df = N*dt",
        "d. df = N/dt"
       ],
       "index": 0,
       "layout": "IPY_MODEL_2c44e5649f9d409583b94b67b6215475",
       "style": "IPY_MODEL_749bb6c7bff54ab1bdfa5a320bb4c5a9"
      }
     },
     "36be55d599c347998012183a9a0b3bda": {
      "model_module": "@jupyter-widgets/controls",
      "model_module_version": "1.5.0",
      "model_name": "RadioButtonsModel",
      "state": {
       "_options_labels": [
        "a. Bite-sized pieces",
        "b. Frequency components",
        "c. A power series in small displacements",
        "d. Absolute values"
       ],
       "index": 0,
       "layout": "IPY_MODEL_b9d0583a9740436196f31f8f63288558",
       "style": "IPY_MODEL_ba255bfabccc45629d2e653167687427"
      }
     },
     "36e178f7810c4a01ba19ec8db53bb134": {
      "model_module": "@jupyter-widgets/output",
      "model_module_version": "1.0.0",
      "model_name": "OutputModel",
      "state": {
       "layout": "IPY_MODEL_f46abfbcb4d840c6995b64b40a5b8513",
       "outputs": [
        {
         "name": "stdout",
         "output_type": "stream",
         "text": "here\n"
        }
       ]
      }
     },
     "36e607705ce34955a20411023817cfc5": {
      "model_module": "@jupyter-widgets/controls",
      "model_module_version": "1.5.0",
      "model_name": "DescriptionStyleModel",
      "state": {
       "description_width": ""
      }
     },
     "36e68645efa34bb094508759a8099670": {
      "model_module": "@jupyter-widgets/controls",
      "model_module_version": "1.5.0",
      "model_name": "HBoxModel",
      "state": {
       "children": [
        "IPY_MODEL_3e6b4504c239411ca43eeed73c15163c",
        "IPY_MODEL_9bfdcff55ea34b0fbe65b02939d3b2c9"
       ],
       "layout": "IPY_MODEL_0e97ee1e3b1545e9b9a73565d4cd0fd0"
      }
     },
     "36f5a664619f4e7887d9522979b7b89c": {
      "model_module": "@jupyter-widgets/controls",
      "model_module_version": "1.5.0",
      "model_name": "ButtonStyleModel",
      "state": {}
     },
     "36fc151c6a334de0b7fe001325e757d6": {
      "model_module": "@jupyter-widgets/base",
      "model_module_version": "1.2.0",
      "model_name": "LayoutModel",
      "state": {}
     },
     "373de34c73364c889c498b5da692fd8b": {
      "model_module": "@jupyter-widgets/base",
      "model_module_version": "1.2.0",
      "model_name": "LayoutModel",
      "state": {
       "width": "5%"
      }
     },
     "374b91cc937a4493b42a524dfc5369da": {
      "model_module": "@jupyter-widgets/controls",
      "model_module_version": "1.5.0",
      "model_name": "DescriptionStyleModel",
      "state": {
       "description_width": ""
      }
     },
     "37633b91b85548e38ba0d454f2e27f3c": {
      "model_module": "@jupyter-widgets/base",
      "model_module_version": "1.2.0",
      "model_name": "LayoutModel",
      "state": {
       "width": "90%"
      }
     },
     "3771fb4f8ed44a6c978e54c20d5f899c": {
      "model_module": "@jupyter-widgets/base",
      "model_module_version": "1.2.0",
      "model_name": "LayoutModel",
      "state": {
       "width": "90%"
      }
     },
     "3773f39e3fcd4188bd794d6283bfe7de": {
      "model_module": "@jupyter-widgets/controls",
      "model_module_version": "1.5.0",
      "model_name": "RadioButtonsModel",
      "state": {
       "_options_labels": [
        "a. The Coulomb potential",
        "b. Mental anguish",
        "c. Propagating electromagnetic waves",
        "d. More charges"
       ],
       "index": 0,
       "layout": "IPY_MODEL_50e31e3f531e435bbe7106929f3ec539",
       "style": "IPY_MODEL_0ba096973bfb4efe897d9e998a447687"
      }
     },
     "3788ecc43c3c49aba5ba322b93cb9266": {
      "model_module": "@jupyter-widgets/controls",
      "model_module_version": "1.5.0",
      "model_name": "ButtonStyleModel",
      "state": {}
     },
     "379dcccbe59145ccb86f54702ef13194": {
      "model_module": "@jupyter-widgets/base",
      "model_module_version": "1.2.0",
      "model_name": "LayoutModel",
      "state": {
       "width": "5%"
      }
     },
     "37a8e1eb2ecb429b86964e0fee64cb50": {
      "model_module": "@jupyter-widgets/controls",
      "model_module_version": "1.5.0",
      "model_name": "LabelModel",
      "state": {
       "layout": "IPY_MODEL_c0a821ae8ced446a8aa16b399a71b012",
       "style": "IPY_MODEL_3d2a1727e9384cd6adef05dc88067367"
      }
     },
     "37bd7bfacfb445969ef747a85aa46457": {
      "model_module": "@jupyter-widgets/base",
      "model_module_version": "1.2.0",
      "model_name": "LayoutModel",
      "state": {
       "width": "5%"
      }
     },
     "37c866b96d204d2b91d0da944fcabb96": {
      "model_module": "@jupyter-widgets/base",
      "model_module_version": "1.2.0",
      "model_name": "LayoutModel",
      "state": {
       "width": "5%"
      }
     },
     "37cdbe3213f24ce9be3943d34afde70f": {
      "model_module": "@jupyter-widgets/controls",
      "model_module_version": "1.5.0",
      "model_name": "HBoxModel",
      "state": {
       "children": [
        "IPY_MODEL_6da4fe40f58041988ad0f7fc887dafb7",
        "IPY_MODEL_78ee5926ef7849b4810f13c4979cb42f"
       ],
       "layout": "IPY_MODEL_a239dfecffce4765883d75a07a6a0eaa"
      }
     },
     "3818a2db70814a788b0ee6a112ca34ec": {
      "model_module": "@jupyter-widgets/controls",
      "model_module_version": "1.5.0",
      "model_name": "DescriptionStyleModel",
      "state": {
       "description_width": ""
      }
     },
     "3825e5560f2a4fda98a29c20dbe798f6": {
      "model_module": "@jupyter-widgets/base",
      "model_module_version": "1.2.0",
      "model_name": "LayoutModel",
      "state": {}
     },
     "38329731dda047beba6267df2980766a": {
      "model_module": "@jupyter-widgets/base",
      "model_module_version": "1.2.0",
      "model_name": "LayoutModel",
      "state": {}
     },
     "383b9401829844519897bebbc23ed505": {
      "model_module": "@jupyter-widgets/controls",
      "model_module_version": "1.5.0",
      "model_name": "DescriptionStyleModel",
      "state": {
       "description_width": ""
      }
     },
     "3850fb22d05e4269b900a09c3ec9c990": {
      "model_module": "@jupyter-widgets/controls",
      "model_module_version": "1.5.0",
      "model_name": "DescriptionStyleModel",
      "state": {
       "description_width": ""
      }
     },
     "3851b3ce4ab74979bf3401e182c6cb68": {
      "model_module": "@jupyter-widgets/base",
      "model_module_version": "1.2.0",
      "model_name": "LayoutModel",
      "state": {}
     },
     "385724a0c9f645419faf723183bcf6b4": {
      "model_module": "@jupyter-widgets/controls",
      "model_module_version": "1.5.0",
      "model_name": "TextareaModel",
      "state": {
       "description": "Code:",
       "layout": "IPY_MODEL_53b6bda8a25b4191a2b718f058ffdf92",
       "placeholder": "Type code here",
       "style": "IPY_MODEL_630f92317e8d4213a9fbd5f24210b7e0"
      }
     },
     "38691d0fcca147adad79974a275c303c": {
      "model_module": "@jupyter-widgets/base",
      "model_module_version": "1.2.0",
      "model_name": "LayoutModel",
      "state": {}
     },
     "386f1b9b93004d1e8113be1ce10c8daf": {
      "model_module": "@jupyter-widgets/controls",
      "model_module_version": "1.5.0",
      "model_name": "LabelModel",
      "state": {
       "layout": "IPY_MODEL_a06bbc72db5849f8b8da7b071eb8b77b",
       "style": "IPY_MODEL_a674037cdf1e49ccbc6524f651fb35d8"
      }
     },
     "38768d0b1cfa4f789cd0fc9d17d94913": {
      "model_module": "@jupyter-widgets/controls",
      "model_module_version": "1.5.0",
      "model_name": "TextareaModel",
      "state": {
       "description": "String:",
       "layout": "IPY_MODEL_85cc1c4e7c0049e79e19868b75a4da00",
       "placeholder": "Type something",
       "style": "IPY_MODEL_74c6eb1428bf4d2c8174452dcf6337f0"
      }
     },
     "387b80268c2d45acb286847d6474d940": {
      "model_module": "@jupyter-widgets/base",
      "model_module_version": "1.2.0",
      "model_name": "LayoutModel",
      "state": {
       "width": "5%"
      }
     },
     "388345b67b234b1aaeb743327b2a351f": {
      "model_module": "@jupyter-widgets/controls",
      "model_module_version": "1.5.0",
      "model_name": "LabelModel",
      "state": {
       "layout": "IPY_MODEL_99aa556384064376aec069d9daef3a30",
       "style": "IPY_MODEL_bf39690ad0e34b8b8ace2fd8c9b38cb6"
      }
     },
     "389f3cbee2a34df9a09cc7e2d4274347": {
      "model_module": "@jupyter-widgets/controls",
      "model_module_version": "1.5.0",
      "model_name": "DescriptionStyleModel",
      "state": {
       "description_width": ""
      }
     },
     "38ae7ab5e51e49879dcef0165db756ed": {
      "model_module": "@jupyter-widgets/base",
      "model_module_version": "1.2.0",
      "model_name": "LayoutModel",
      "state": {}
     },
     "38b8684696e64d238c0fe367b132ca8d": {
      "model_module": "@jupyter-widgets/controls",
      "model_module_version": "1.5.0",
      "model_name": "ButtonModel",
      "state": {
       "description": "Run Code",
       "layout": "IPY_MODEL_3bcd3b2814e549ce9691d1470369e2cd",
       "style": "IPY_MODEL_b4be92f34ca7496ea12dd6043e69cc61",
       "tooltip": "Click to test your code"
      }
     },
     "38dae3e0e6bd4bc0954cf2a19f29d900": {
      "model_module": "@jupyter-widgets/controls",
      "model_module_version": "1.5.0",
      "model_name": "HBoxModel",
      "state": {
       "children": [
        "IPY_MODEL_d86e251d25d6411993feb96cb6e4c078",
        "IPY_MODEL_4e346104a52e4bb1bc198f7ae7cc605e"
       ],
       "layout": "IPY_MODEL_97af656758ce44bcaa94e39d0a660b0a"
      }
     },
     "38fa985b728d4233888863f987c05645": {
      "model_module": "@jupyter-widgets/controls",
      "model_module_version": "1.5.0",
      "model_name": "HBoxModel",
      "state": {
       "children": [
        "IPY_MODEL_0268af02d48d4be9a58d1ff799b6e5d3",
        "IPY_MODEL_5db691e2bbc5445fa122001d3b67f380"
       ],
       "layout": "IPY_MODEL_83d43afb6b6147babe12197c6165e740"
      }
     },
     "39118ecb67c64f5bbb215d18d4c07d16": {
      "model_module": "@jupyter-widgets/controls",
      "model_module_version": "1.5.0",
      "model_name": "DescriptionStyleModel",
      "state": {
       "description_width": ""
      }
     },
     "39144050d2f740b4b376f3d730cb022c": {
      "model_module": "@jupyter-widgets/controls",
      "model_module_version": "1.5.0",
      "model_name": "ButtonModel",
      "state": {
       "description": "Run Code",
       "layout": "IPY_MODEL_94962ee4314b4f28b166ab229a7877eb",
       "style": "IPY_MODEL_52e171b1bf584fe38a969132662bd9ce",
       "tooltip": "Click to test your code"
      }
     },
     "39295f1faf964de4ae4bc84689d17d44": {
      "model_module": "@jupyter-widgets/base",
      "model_module_version": "1.2.0",
      "model_name": "LayoutModel",
      "state": {}
     },
     "3959ef01d4d5440d8e917c6ca67b7ba3": {
      "model_module": "@jupyter-widgets/controls",
      "model_module_version": "1.5.0",
      "model_name": "ButtonModel",
      "state": {
       "description": "Review Answers",
       "layout": "IPY_MODEL_0945c6a2281345f0827dc64692d6ad02",
       "style": "IPY_MODEL_a69c3a337fb14a4e9bac6e7930d51c7e",
       "tooltip": "Click to review answers"
      }
     },
     "3960041c4be44b17913272a10d76df7f": {
      "model_module": "@jupyter-widgets/base",
      "model_module_version": "1.2.0",
      "model_name": "LayoutModel",
      "state": {}
     },
     "3972e214d9b7407698019cbaf468a997": {
      "model_module": "@jupyter-widgets/controls",
      "model_module_version": "1.5.0",
      "model_name": "DescriptionStyleModel",
      "state": {
       "description_width": ""
      }
     },
     "39a37fc7ea1e4bf08bf61403685b6ec1": {
      "model_module": "@jupyter-widgets/controls",
      "model_module_version": "1.5.0",
      "model_name": "LabelModel",
      "state": {
       "layout": "IPY_MODEL_dd3820b69fd2408a94667d6e34b1063a",
       "style": "IPY_MODEL_418b74cda65047299e78b2bdd563b7d7"
      }
     },
     "39b3a0104e01424abb3d2c8bd93eafca": {
      "model_module": "@jupyter-widgets/base",
      "model_module_version": "1.2.0",
      "model_name": "LayoutModel",
      "state": {
       "width": "5%"
      }
     },
     "39b8ca42ec5348ba866ab16f2b94d24f": {
      "model_module": "@jupyter-widgets/controls",
      "model_module_version": "1.5.0",
      "model_name": "LabelModel",
      "state": {
       "layout": "IPY_MODEL_a461d0af096e4dd49c6d81cfe7b6e7e4",
       "style": "IPY_MODEL_a071dec2c3d542de9ed7f17d80fd1b29"
      }
     },
     "39ca35bd08734828905cef1f93e7cc52": {
      "model_module": "@jupyter-widgets/controls",
      "model_module_version": "1.5.0",
      "model_name": "DescriptionStyleModel",
      "state": {
       "description_width": ""
      }
     },
     "39d26cbf04354485a32acf1ee0006a32": {
      "model_module": "@jupyter-widgets/controls",
      "model_module_version": "1.5.0",
      "model_name": "TextareaModel",
      "state": {
       "description": "Code:",
       "layout": "IPY_MODEL_50e90e55ccc548e3a734abdd28c2e5fb",
       "placeholder": "Type code here",
       "style": "IPY_MODEL_1abec4de150b4c01997155c64081c946",
       "value": "plt.plot(np.exp(-np.arange(0, 2*math.pi, 0.1)))"
      }
     },
     "39de7cf731f2499789db1f961beab460": {
      "model_module": "@jupyter-widgets/base",
      "model_module_version": "1.2.0",
      "model_name": "LayoutModel",
      "state": {
       "width": "5%"
      }
     },
     "39e277084c024ff6ae4bc3ad5d700b9e": {
      "model_module": "@jupyter-widgets/controls",
      "model_module_version": "1.5.0",
      "model_name": "HBoxModel",
      "state": {
       "children": [
        "IPY_MODEL_78236a5e41fb4715b02960609f3ac6ee",
        "IPY_MODEL_9e3dc6277af3449cb3eb3cbb649650a6"
       ],
       "layout": "IPY_MODEL_35b3a46fb1d142dc80de5af7c9056d7d"
      }
     },
     "39f29b71d86b4d2da7ac9b7fc62ad625": {
      "model_module": "@jupyter-widgets/controls",
      "model_module_version": "1.5.0",
      "model_name": "LabelModel",
      "state": {
       "layout": "IPY_MODEL_f9657c585e634624bc9dd1ca4a1d1e1b",
       "style": "IPY_MODEL_c16838b6cea444ca9fe59ec73250aeb9"
      }
     },
     "3a1d33d689524930bf52bc3b5c9d8df0": {
      "model_module": "@jupyter-widgets/controls",
      "model_module_version": "1.5.0",
      "model_name": "DescriptionStyleModel",
      "state": {
       "description_width": ""
      }
     },
     "3a69ba95997642da986aece7a4092459": {
      "model_module": "@jupyter-widgets/controls",
      "model_module_version": "1.5.0",
      "model_name": "HBoxModel",
      "state": {
       "children": [
        "IPY_MODEL_6b1cc347f8fc4514b3cae3c2206492cb",
        "IPY_MODEL_b4ee9abab3f0463eac62b63758fafd2d"
       ],
       "layout": "IPY_MODEL_94633c58f43d4f8d9db01a5a02b3583a"
      }
     },
     "3a748dd480d945fdb95fe1b5d5b47cdb": {
      "model_module": "@jupyter-widgets/base",
      "model_module_version": "1.2.0",
      "model_name": "LayoutModel",
      "state": {
       "width": "90%"
      }
     },
     "3a92f750885c4c959ed778863d3ce0f0": {
      "model_module": "@jupyter-widgets/base",
      "model_module_version": "1.2.0",
      "model_name": "LayoutModel",
      "state": {}
     },
     "3abe693cee3540cd98368d622850e8dd": {
      "model_module": "@jupyter-widgets/controls",
      "model_module_version": "1.5.0",
      "model_name": "RadioButtonsModel",
      "state": {
       "_options_labels": [
        "True",
        "False"
       ],
       "index": 0,
       "layout": "IPY_MODEL_24210d2770aa4ddda376daaca87e997e",
       "style": "IPY_MODEL_88bfcbc1dfd148e7a6fb3eba610c4e42"
      }
     },
     "3abf205c612943728aea5f6b25d47574": {
      "model_module": "@jupyter-widgets/controls",
      "model_module_version": "1.5.0",
      "model_name": "DescriptionStyleModel",
      "state": {
       "description_width": ""
      }
     },
     "3ac7afa3f83a4af7aeaef25e79529d1c": {
      "model_module": "@jupyter-widgets/controls",
      "model_module_version": "1.5.0",
      "model_name": "HBoxModel",
      "state": {
       "children": [
        "IPY_MODEL_e36fd81157b44c4ab6c8bec0a9c7ef07",
        "IPY_MODEL_0acdab0152b44279be87dc83bdf35824"
       ],
       "layout": "IPY_MODEL_3825e5560f2a4fda98a29c20dbe798f6"
      }
     },
     "3add4760bb7b452f95bbc8b34de73b4c": {
      "model_module": "@jupyter-widgets/base",
      "model_module_version": "1.2.0",
      "model_name": "LayoutModel",
      "state": {}
     },
     "3adffa2cdec547d0b47051a7fd7fc004": {
      "model_module": "@jupyter-widgets/base",
      "model_module_version": "1.2.0",
      "model_name": "LayoutModel",
      "state": {
       "width": "5%"
      }
     },
     "3b233bc2e0934ea89e9e49513e5c3956": {
      "model_module": "@jupyter-widgets/controls",
      "model_module_version": "1.5.0",
      "model_name": "VBoxModel",
      "state": {
       "children": [
        "IPY_MODEL_3dc367113e16490dbaab06eb8b2dd4af",
        "IPY_MODEL_cf77be898aad4b868bfa2086d83a582e"
       ],
       "layout": "IPY_MODEL_cd682e92e50349eba4c5aef4a9cb76d2"
      }
     },
     "3b2f8c5c1ff54bb5a9629e8548c08523": {
      "model_module": "@jupyter-widgets/controls",
      "model_module_version": "1.5.0",
      "model_name": "LabelModel",
      "state": {
       "layout": "IPY_MODEL_de513c48c3e24b51979e62cc1dcee3b7",
       "style": "IPY_MODEL_b483fb88b660404f9e6db2bf464cff17"
      }
     },
     "3b3608a4ee15486c8ca9a9ac130a0859": {
      "model_module": "@jupyter-widgets/output",
      "model_module_version": "1.0.0",
      "model_name": "OutputModel",
      "state": {
       "layout": "IPY_MODEL_f6e8573201c7451fabe8446a8770f73a",
       "outputs": [
        {
         "name": "stdout",
         "output_type": "stream",
         "text": "0\n1\n2\n3\n4\n5\n6\n7\n8\n9\n"
        }
       ]
      }
     },
     "3b63b046b01a4c03bff5592f428530b7": {
      "model_module": "@jupyter-widgets/base",
      "model_module_version": "1.2.0",
      "model_name": "LayoutModel",
      "state": {
       "width": "90%"
      }
     },
     "3b6461e5af3f4ecf9dab8196e1f3cc48": {
      "model_module": "@jupyter-widgets/base",
      "model_module_version": "1.2.0",
      "model_name": "LayoutModel",
      "state": {
       "width": "5%"
      }
     },
     "3b6f0313a1bd47d9830d4ae87b99bd46": {
      "model_module": "@jupyter-widgets/base",
      "model_module_version": "1.2.0",
      "model_name": "LayoutModel",
      "state": {
       "width": "5%"
      }
     },
     "3b70d856714040da864c42d0f679b3cc": {
      "model_module": "@jupyter-widgets/controls",
      "model_module_version": "1.5.0",
      "model_name": "DescriptionStyleModel",
      "state": {
       "description_width": ""
      }
     },
     "3b739fe32c0b46b49a63deda6e03a41e": {
      "model_module": "@jupyter-widgets/controls",
      "model_module_version": "1.5.0",
      "model_name": "DescriptionStyleModel",
      "state": {
       "description_width": ""
      }
     },
     "3b7def0a63ca407397002c6b54c653aa": {
      "model_module": "@jupyter-widgets/controls",
      "model_module_version": "1.5.0",
      "model_name": "HBoxModel",
      "state": {
       "children": [
        "IPY_MODEL_6e5e233137244921b126411342b50d91",
        "IPY_MODEL_a8108c63de634ed19475d731a3061758"
       ],
       "layout": "IPY_MODEL_05b34235922f4618a0d2a16194f2b1ed"
      }
     },
     "3b87853d41614fdebda8d11c67fc14d6": {
      "model_module": "@jupyter-widgets/controls",
      "model_module_version": "1.5.0",
      "model_name": "DescriptionStyleModel",
      "state": {
       "description_width": ""
      }
     },
     "3bbf1db854414e89a63575d47f6d746f": {
      "model_module": "@jupyter-widgets/base",
      "model_module_version": "1.2.0",
      "model_name": "LayoutModel",
      "state": {
       "width": "90%"
      }
     },
     "3bc7dcb0ebc442a98bc13517c66c2de1": {
      "model_module": "@jupyter-widgets/controls",
      "model_module_version": "1.5.0",
      "model_name": "DescriptionStyleModel",
      "state": {
       "description_width": ""
      }
     },
     "3bcc138140244543929a5cde008eeb9b": {
      "model_module": "@jupyter-widgets/controls",
      "model_module_version": "1.5.0",
      "model_name": "DescriptionStyleModel",
      "state": {
       "description_width": ""
      }
     },
     "3bcd3b2814e549ce9691d1470369e2cd": {
      "model_module": "@jupyter-widgets/base",
      "model_module_version": "1.2.0",
      "model_name": "LayoutModel",
      "state": {}
     },
     "3bde66483e2346d6a104f2e079b7e68c": {
      "model_module": "@jupyter-widgets/controls",
      "model_module_version": "1.5.0",
      "model_name": "TextareaModel",
      "state": {
       "description": "Answer:",
       "layout": "IPY_MODEL_8336b56c420a4b8096c8164bcc535908",
       "placeholder": "Type something",
       "style": "IPY_MODEL_9d7e3c6aa3004bf1a10688b173740666"
      }
     },
     "3bee4415d14746929e3f4459aae47e0e": {
      "model_module": "@jupyter-widgets/controls",
      "model_module_version": "1.5.0",
      "model_name": "HBoxModel",
      "state": {
       "children": [
        "IPY_MODEL_b7a23376595540b28ca57a66c4128d23",
        "IPY_MODEL_03d2412c415a41f2bc0f4cf71c67c63e"
       ],
       "layout": "IPY_MODEL_6a4ba0ca83cb4cbb8f676ada83278b25"
      }
     },
     "3bf674cb9b8e4e0195abfc4843e1c121": {
      "model_module": "@jupyter-widgets/base",
      "model_module_version": "1.2.0",
      "model_name": "LayoutModel",
      "state": {}
     },
     "3bfa4638bc7e46048b1d79b53f21c474": {
      "model_module": "@jupyter-widgets/controls",
      "model_module_version": "1.5.0",
      "model_name": "LabelModel",
      "state": {
       "layout": "IPY_MODEL_ac9accdc972c4d6d829ab19a0112361c",
       "style": "IPY_MODEL_083dcfe3797e4bd6b14985b66d6b138a"
      }
     },
     "3c138393003a4669803a4f36d5d92ba0": {
      "model_module": "@jupyter-widgets/controls",
      "model_module_version": "1.5.0",
      "model_name": "DescriptionStyleModel",
      "state": {
       "description_width": ""
      }
     },
     "3c3de3cc1149451e86d2e947a2ead819": {
      "model_module": "@jupyter-widgets/controls",
      "model_module_version": "1.5.0",
      "model_name": "RadioButtonsModel",
      "state": {
       "_options_labels": [
        "a. The Coulomb potential",
        "b. Mental anguish",
        "c. Propagating electromagnetic waves",
        "d. More charges"
       ],
       "index": 0,
       "layout": "IPY_MODEL_6f56f0a01a214fa880855c0568465645",
       "style": "IPY_MODEL_60f2c80388f049d081f7f902fa97ef46"
      }
     },
     "3c45bf8659464ec3a8b370052a4993ae": {
      "model_module": "@jupyter-widgets/controls",
      "model_module_version": "1.5.0",
      "model_name": "TextareaModel",
      "state": {
       "description": "String:",
       "layout": "IPY_MODEL_0f3ff15119b845949372cf63f7807cc0",
       "placeholder": "Type something",
       "style": "IPY_MODEL_021a4bddadbe4f17a99d584127ca1bd0",
       "value": "plt.plot([0,1], [0,1])"
      }
     },
     "3c48cc5b0af340d682d7a768f6496c2f": {
      "model_module": "@jupyter-widgets/base",
      "model_module_version": "1.2.0",
      "model_name": "LayoutModel",
      "state": {}
     },
     "3c4f95cc65a046289f02659cd8e78ae2": {
      "model_module": "@jupyter-widgets/controls",
      "model_module_version": "1.5.0",
      "model_name": "DescriptionStyleModel",
      "state": {
       "description_width": ""
      }
     },
     "3c711bd71ac2488baed66ede605d5b4d": {
      "model_module": "@jupyter-widgets/controls",
      "model_module_version": "1.5.0",
      "model_name": "LabelModel",
      "state": {
       "layout": "IPY_MODEL_97c91ca4332c44f08dfdc8070da8cb26",
       "style": "IPY_MODEL_bf9634590da644e0a1f1815cc82f2786"
      }
     },
     "3c75440dfca0412eaa757c2852318969": {
      "model_module": "@jupyter-widgets/controls",
      "model_module_version": "1.5.0",
      "model_name": "LabelModel",
      "state": {
       "layout": "IPY_MODEL_a4f15246e4bc4f30a4a4e79739143893",
       "style": "IPY_MODEL_8d488672ecab4f8dbe752e66a100738a"
      }
     },
     "3c7bdeee805942d58026a3b6643862a8": {
      "model_module": "@jupyter-widgets/controls",
      "model_module_version": "1.5.0",
      "model_name": "LabelModel",
      "state": {
       "layout": "IPY_MODEL_a4640c36a5e5419aa7546455e4fed7d5",
       "style": "IPY_MODEL_a1fac7a6d07a4609a140877622432730"
      }
     },
     "3c8b375c400e40e7933141eaeef9e2c0": {
      "model_module": "@jupyter-widgets/base",
      "model_module_version": "1.2.0",
      "model_name": "LayoutModel",
      "state": {
       "width": "5%"
      }
     },
     "3cc3bbafa85b4c8a9da85a028eec1340": {
      "model_module": "@jupyter-widgets/controls",
      "model_module_version": "1.5.0",
      "model_name": "VBoxModel",
      "state": {
       "children": [
        "IPY_MODEL_4ee5959d464c42cdb3ab8d995662e41e",
        "IPY_MODEL_9575079fd31042d2b5c748ceae8a639a"
       ],
       "layout": "IPY_MODEL_a18220101f5543d0a86812546f0aded1"
      }
     },
     "3cdfcfd7c1a14cf4897c5dd5e2b3d86d": {
      "model_module": "@jupyter-widgets/controls",
      "model_module_version": "1.5.0",
      "model_name": "DescriptionStyleModel",
      "state": {
       "description_width": ""
      }
     },
     "3d27b5196b39460b91fe9ac7eda69027": {
      "model_module": "@jupyter-widgets/base",
      "model_module_version": "1.2.0",
      "model_name": "LayoutModel",
      "state": {
       "width": "5%"
      }
     },
     "3d2a1727e9384cd6adef05dc88067367": {
      "model_module": "@jupyter-widgets/controls",
      "model_module_version": "1.5.0",
      "model_name": "DescriptionStyleModel",
      "state": {
       "description_width": ""
      }
     },
     "3d31f09cb9ef43a4a374c162bfefeb0c": {
      "model_module": "@jupyter-widgets/controls",
      "model_module_version": "1.5.0",
      "model_name": "ButtonStyleModel",
      "state": {}
     },
     "3d3bec47ee2449d79d67b685a61e5f75": {
      "model_module": "@jupyter-widgets/controls",
      "model_module_version": "1.5.0",
      "model_name": "DescriptionStyleModel",
      "state": {
       "description_width": ""
      }
     },
     "3d3d563f24844be0a7ca14f00a9d4487": {
      "model_module": "@jupyter-widgets/base",
      "model_module_version": "1.2.0",
      "model_name": "LayoutModel",
      "state": {
       "width": "90%"
      }
     },
     "3d4de910070d4cccbc0ef92fd846a0c4": {
      "model_module": "@jupyter-widgets/controls",
      "model_module_version": "1.5.0",
      "model_name": "DescriptionStyleModel",
      "state": {
       "description_width": ""
      }
     },
     "3d7b245a00cf418dac83e510872d0461": {
      "model_module": "@jupyter-widgets/controls",
      "model_module_version": "1.5.0",
      "model_name": "LabelModel",
      "state": {
       "layout": "IPY_MODEL_06d3b3e1128f4745872e7b962aa0ac80",
       "style": "IPY_MODEL_01249340c74a4007a762127abb633700"
      }
     },
     "3d82dd328ce64d5ab9217a3127bdf33c": {
      "model_module": "@jupyter-widgets/controls",
      "model_module_version": "1.5.0",
      "model_name": "DescriptionStyleModel",
      "state": {
       "description_width": ""
      }
     },
     "3da443172b95477f8f13aa5a0ba9d2c1": {
      "model_module": "@jupyter-widgets/controls",
      "model_module_version": "1.5.0",
      "model_name": "LabelModel",
      "state": {
       "layout": "IPY_MODEL_925c6de1bd264204b138d82ac91cd6ba",
       "style": "IPY_MODEL_67d026698041484da5265df9a5c5c1a3"
      }
     },
     "3dc367113e16490dbaab06eb8b2dd4af": {
      "model_module": "@jupyter-widgets/output",
      "model_module_version": "1.0.0",
      "model_name": "OutputModel",
      "state": {
       "layout": "IPY_MODEL_a068da6da2dc49dc9b50fbe05b8c7478"
      }
     },
     "3dcce353b63f4b55b8170a26ee25ff92": {
      "model_module": "@jupyter-widgets/base",
      "model_module_version": "1.2.0",
      "model_name": "LayoutModel",
      "state": {
       "width": "90%"
      }
     },
     "3ddc75856803496588612356c6804961": {
      "model_module": "@jupyter-widgets/controls",
      "model_module_version": "1.5.0",
      "model_name": "LabelModel",
      "state": {
       "layout": "IPY_MODEL_373de34c73364c889c498b5da692fd8b",
       "style": "IPY_MODEL_1ee827b3b1714cdfb168d8183178ebc1"
      }
     },
     "3dea6757b6d4451c894e83dab4139b09": {
      "model_module": "@jupyter-widgets/base",
      "model_module_version": "1.2.0",
      "model_name": "LayoutModel",
      "state": {
       "width": "90%"
      }
     },
     "3dec7bfd572742b7b2370b7c63362af0": {
      "model_module": "@jupyter-widgets/base",
      "model_module_version": "1.2.0",
      "model_name": "LayoutModel",
      "state": {
       "width": "90%"
      }
     },
     "3e077ada2ba742ad8d86b178a89f23e6": {
      "model_module": "@jupyter-widgets/controls",
      "model_module_version": "1.5.0",
      "model_name": "LabelModel",
      "state": {
       "layout": "IPY_MODEL_693fb15075b24cb3869f6179b9e23ce0",
       "style": "IPY_MODEL_3b739fe32c0b46b49a63deda6e03a41e"
      }
     },
     "3e113ad94cc946b6a134b8b7881f2d60": {
      "model_module": "@jupyter-widgets/base",
      "model_module_version": "1.2.0",
      "model_name": "LayoutModel",
      "state": {
       "width": "90%"
      }
     },
     "3e18f278fc114471ba575770e177f7f1": {
      "model_module": "@jupyter-widgets/controls",
      "model_module_version": "1.5.0",
      "model_name": "DescriptionStyleModel",
      "state": {
       "description_width": ""
      }
     },
     "3e1a676a079d49ecb9568a91afab182a": {
      "model_module": "@jupyter-widgets/base",
      "model_module_version": "1.2.0",
      "model_name": "LayoutModel",
      "state": {
       "width": "5%"
      }
     },
     "3e2f9f88128f4f4fa16607d487ff826a": {
      "model_module": "@jupyter-widgets/base",
      "model_module_version": "1.2.0",
      "model_name": "LayoutModel",
      "state": {
       "width": "5%"
      }
     },
     "3e3a3e5c4b3c4d499da7069bd7fd1cf6": {
      "model_module": "@jupyter-widgets/controls",
      "model_module_version": "1.5.0",
      "model_name": "TextareaModel",
      "state": {
       "description": "String:",
       "layout": "IPY_MODEL_77d002c4f5c34c379088ee2c0064ab71",
       "placeholder": "Type something",
       "style": "IPY_MODEL_d93e6797cc8b4f809ddc1f082d3b530c"
      }
     },
     "3e43a2ad6e89485b96d351802b363700": {
      "model_module": "@jupyter-widgets/controls",
      "model_module_version": "1.5.0",
      "model_name": "HBoxModel",
      "state": {
       "children": [
        "IPY_MODEL_751cfdcf4ff744beba21e1cc6c77b730",
        "IPY_MODEL_568871d34c994ddda9cec92c5319d986"
       ],
       "layout": "IPY_MODEL_2b3adbaaf98f43a9aa116b871dcf680f"
      }
     },
     "3e47a206746f415a82cdc9f08639a897": {
      "model_module": "@jupyter-widgets/base",
      "model_module_version": "1.2.0",
      "model_name": "LayoutModel",
      "state": {}
     },
     "3e4a35327c4244cbb12fc9a41e532686": {
      "model_module": "@jupyter-widgets/controls",
      "model_module_version": "1.5.0",
      "model_name": "DescriptionStyleModel",
      "state": {
       "description_width": ""
      }
     },
     "3e4d6b38c1954f13817d0d22a609931e": {
      "model_module": "@jupyter-widgets/controls",
      "model_module_version": "1.5.0",
      "model_name": "TextareaModel",
      "state": {
       "description": "Code:",
       "layout": "IPY_MODEL_f80a0ea3e4b342a5a731ed7ef629aebd",
       "placeholder": "Type code here",
       "style": "IPY_MODEL_23f89da637684fd9af5113eb131a6087"
      }
     },
     "3e5385685cff4fa2922893114af8bf3f": {
      "model_module": "@jupyter-widgets/controls",
      "model_module_version": "1.5.0",
      "model_name": "DescriptionStyleModel",
      "state": {
       "description_width": ""
      }
     },
     "3e592a2e4a0e47e68ae89d4af673fdde": {
      "model_module": "@jupyter-widgets/controls",
      "model_module_version": "1.5.0",
      "model_name": "DescriptionStyleModel",
      "state": {
       "description_width": ""
      }
     },
     "3e5a466b1f2a4cb7b8eee6dd5996beec": {
      "model_module": "@jupyter-widgets/controls",
      "model_module_version": "1.5.0",
      "model_name": "DescriptionStyleModel",
      "state": {
       "description_width": ""
      }
     },
     "3e65d083dcaf4f91b39e5a650df661d0": {
      "model_module": "@jupyter-widgets/controls",
      "model_module_version": "1.5.0",
      "model_name": "RadioButtonsModel",
      "state": {
       "_options_labels": [
        "a. The Coulomb potential",
        "b. Mental anguish",
        "c. Propagating electromagnetic waves",
        "d. More charges"
       ],
       "index": 0,
       "layout": "IPY_MODEL_dde12b2ee38d4a42a5c81a1b33ce287f",
       "style": "IPY_MODEL_765e29fa8ea1407f8954988da08474e1"
      }
     },
     "3e6b4504c239411ca43eeed73c15163c": {
      "model_module": "@jupyter-widgets/controls",
      "model_module_version": "1.5.0",
      "model_name": "LabelModel",
      "state": {
       "layout": "IPY_MODEL_e58ce7ce27d7405d95f0d52d59d5c8fd",
       "style": "IPY_MODEL_1b1793359acf43888bad1553938c1b23"
      }
     },
     "3e6f01838f3f495ca11b763a3cc01cc6": {
      "model_module": "@jupyter-widgets/base",
      "model_module_version": "1.2.0",
      "model_name": "LayoutModel",
      "state": {}
     },
     "3e7fee6df99848df8cdbc1e3f8311868": {
      "model_module": "@jupyter-widgets/base",
      "model_module_version": "1.2.0",
      "model_name": "LayoutModel",
      "state": {}
     },
     "3e8e37a9274c4f79958d97dcd62bc8d3": {
      "model_module": "@jupyter-widgets/controls",
      "model_module_version": "1.5.0",
      "model_name": "RadioButtonsModel",
      "state": {
       "_options_labels": [
        "a. Diverges",
        "b. Converges",
        "c. Implodes",
        "d. Extrapolates"
       ],
       "index": 0,
       "layout": "IPY_MODEL_9df0d814a96d4fdb9fe1b69194521947",
       "style": "IPY_MODEL_bfcb9902c0a84ebf8934e209b30bbb91"
      }
     },
     "3e8fae2b81a4436e82949730c12231e2": {
      "model_module": "@jupyter-widgets/base",
      "model_module_version": "1.2.0",
      "model_name": "LayoutModel",
      "state": {}
     },
     "3e9e0ec4f5114025abeebfe5405f7cb6": {
      "model_module": "@jupyter-widgets/base",
      "model_module_version": "1.2.0",
      "model_name": "LayoutModel",
      "state": {
       "width": "5%"
      }
     },
     "3eb61c28c7964971afce2f26eb0a91cb": {
      "model_module": "@jupyter-widgets/base",
      "model_module_version": "1.2.0",
      "model_name": "LayoutModel",
      "state": {}
     },
     "3ebd63f985ed4aa9b30277acb09a62c7": {
      "model_module": "@jupyter-widgets/controls",
      "model_module_version": "1.5.0",
      "model_name": "DescriptionStyleModel",
      "state": {
       "description_width": ""
      }
     },
     "3ebe3511caf64a8cbb8745c2cb4da354": {
      "model_module": "@jupyter-widgets/controls",
      "model_module_version": "1.5.0",
      "model_name": "ButtonStyleModel",
      "state": {}
     },
     "3ebfb478b2b84c21866880255e8461a1": {
      "model_module": "@jupyter-widgets/base",
      "model_module_version": "1.2.0",
      "model_name": "LayoutModel",
      "state": {
       "width": "5%"
      }
     },
     "3ec80bb4da12437dbc3231e6a9aaf2c2": {
      "model_module": "@jupyter-widgets/controls",
      "model_module_version": "1.5.0",
      "model_name": "HBoxModel",
      "state": {
       "children": [
        "IPY_MODEL_e86c463965c341e1a05cfe815dc1da67",
        "IPY_MODEL_5a445dee6ca34c2c857f4f14b61e46c8"
       ],
       "layout": "IPY_MODEL_bca35732f1c04967932c76b4983c26c9"
      }
     },
     "3ec80ed574044ed69d75dd9c217b1240": {
      "model_module": "@jupyter-widgets/controls",
      "model_module_version": "1.5.0",
      "model_name": "LabelModel",
      "state": {
       "layout": "IPY_MODEL_10eed4071b9247e382ace78c38901430",
       "style": "IPY_MODEL_a50e0eaeabfa4915afe02d54e03fb9d3"
      }
     },
     "3eead9570168479595c27fdb6ac1721e": {
      "model_module": "@jupyter-widgets/controls",
      "model_module_version": "1.5.0",
      "model_name": "RadioButtonsModel",
      "state": {
       "_options_labels": [
        "a. The free charge density",
        "b. The polarization density",
        "c. The free charge current",
        "d. The magnetic field"
       ],
       "index": 0,
       "layout": "IPY_MODEL_84bb877389b64286a3a77a57d3f5fdf9",
       "style": "IPY_MODEL_6ea8323f38824bc98baf63f0208ce5bb"
      }
     },
     "3f01ad8236624b57b425fd596f8722a8": {
      "model_module": "@jupyter-widgets/controls",
      "model_module_version": "1.5.0",
      "model_name": "HBoxModel",
      "state": {
       "children": [
        "IPY_MODEL_72b00c6b04cc4d0cae3862d829e08338",
        "IPY_MODEL_fdc01233d1a442d89620396229883744"
       ],
       "layout": "IPY_MODEL_1110757fea8e43609eede9d2024bf5ba"
      }
     },
     "3f14c104c8994ed2b245124e4ae51e34": {
      "model_module": "@jupyter-widgets/controls",
      "model_module_version": "1.5.0",
      "model_name": "TextareaModel",
      "state": {
       "description": "Answer:",
       "layout": "IPY_MODEL_428c01752fdd468ca99091ae144476fc",
       "placeholder": "Type something",
       "style": "IPY_MODEL_309dbdeea8b94991a26261642e7b1c64"
      }
     },
     "3f1a5b279ed74e958dad2ac817f51277": {
      "model_module": "@jupyter-widgets/controls",
      "model_module_version": "1.5.0",
      "model_name": "ButtonStyleModel",
      "state": {}
     },
     "3f2b0274690b45209b9441fe46bbf2ce": {
      "model_module": "@jupyter-widgets/controls",
      "model_module_version": "1.5.0",
      "model_name": "DescriptionStyleModel",
      "state": {
       "description_width": ""
      }
     },
     "3f40c03a85304e1a9fe7dab31cd3d45c": {
      "model_module": "@jupyter-widgets/base",
      "model_module_version": "1.2.0",
      "model_name": "LayoutModel",
      "state": {
       "width": "5%"
      }
     },
     "3f48b3f62bc94f848f9431c6c0fd9f23": {
      "model_module": "@jupyter-widgets/controls",
      "model_module_version": "1.5.0",
      "model_name": "ButtonStyleModel",
      "state": {}
     },
     "3f53099bd244402eb8481a58cef7562b": {
      "model_module": "@jupyter-widgets/base",
      "model_module_version": "1.2.0",
      "model_name": "LayoutModel",
      "state": {}
     },
     "3f77df7eb4314f9b94691be878a085e5": {
      "model_module": "@jupyter-widgets/base",
      "model_module_version": "1.2.0",
      "model_name": "LayoutModel",
      "state": {}
     },
     "3f7c1b359165415281f9762d644e5547": {
      "model_module": "@jupyter-widgets/controls",
      "model_module_version": "1.5.0",
      "model_name": "TextareaModel",
      "state": {
       "description": "String:",
       "layout": "IPY_MODEL_d66b5360b73447948806dd1d61077dfa",
       "placeholder": "Type something",
       "style": "IPY_MODEL_82f6e42621bd4ac88466febc6f0300e6"
      }
     },
     "3f903b4df6f44b259c4dda44ded5d30f": {
      "model_module": "@jupyter-widgets/controls",
      "model_module_version": "1.5.0",
      "model_name": "HBoxModel",
      "state": {
       "children": [
        "IPY_MODEL_e93631682ddb42b497c4ab4b7e2bbc8a",
        "IPY_MODEL_03d58e01c9cb412ab1cf8d672f4e400b"
       ],
       "layout": "IPY_MODEL_c4d6e7384c9249ee8238519fb2e3ea4d"
      }
     },
     "3faf78c5750d4976ae4a4be659405711": {
      "model_module": "@jupyter-widgets/controls",
      "model_module_version": "1.5.0",
      "model_name": "RadioButtonsModel",
      "state": {
       "_options_labels": [
        "a. The free charge density",
        "b. The polarization density",
        "c. The free charge current",
        "d. The magnetic field"
       ],
       "index": 0,
       "layout": "IPY_MODEL_47afdbb6a99f49d7884e4acca9285865",
       "style": "IPY_MODEL_582b77645bbd401bb5c020efbab8e544"
      }
     },
     "3fbec7b03abd4b5399966762335d6e1e": {
      "model_module": "@jupyter-widgets/controls",
      "model_module_version": "1.5.0",
      "model_name": "LabelModel",
      "state": {
       "layout": "IPY_MODEL_10bc5284683e4324bcb72e518906d153",
       "style": "IPY_MODEL_d5885d680d854397be46027e179aa840"
      }
     },
     "3fe3d2707f514cb395e8c74f049c730b": {
      "model_module": "@jupyter-widgets/controls",
      "model_module_version": "1.5.0",
      "model_name": "ButtonStyleModel",
      "state": {}
     },
     "3fe9c45770c14ab9b3a833f007f96e73": {
      "model_module": "@jupyter-widgets/controls",
      "model_module_version": "1.5.0",
      "model_name": "DescriptionStyleModel",
      "state": {
       "description_width": ""
      }
     },
     "3fea6f2282bc48a1bbfdc62ec4803f6b": {
      "model_module": "@jupyter-widgets/base",
      "model_module_version": "1.2.0",
      "model_name": "LayoutModel",
      "state": {
       "width": "90%"
      }
     },
     "3ff690c55a7044a7aa685f8eabe5b8ef": {
      "model_module": "@jupyter-widgets/base",
      "model_module_version": "1.2.0",
      "model_name": "LayoutModel",
      "state": {
       "width": "90%"
      }
     },
     "3ff93fd00b80456e9f079ba87dfd8395": {
      "model_module": "@jupyter-widgets/base",
      "model_module_version": "1.2.0",
      "model_name": "LayoutModel",
      "state": {}
     },
     "402b9e728e0945a28a1c288fb8a8fb1f": {
      "model_module": "@jupyter-widgets/controls",
      "model_module_version": "1.5.0",
      "model_name": "TextareaModel",
      "state": {
       "description": "String:",
       "layout": "IPY_MODEL_060925f24dc74a29b70dfbb959a1e528",
       "placeholder": "Type code here",
       "style": "IPY_MODEL_3850fb22d05e4269b900a09c3ec9c990",
       "value": "print(3)"
      }
     },
     "40386ba30952465381460246c3ad4808": {
      "model_module": "@jupyter-widgets/base",
      "model_module_version": "1.2.0",
      "model_name": "LayoutModel",
      "state": {
       "width": "90%"
      }
     },
     "406283f832954d179d7be36060c81e61": {
      "model_module": "@jupyter-widgets/controls",
      "model_module_version": "1.5.0",
      "model_name": "LabelModel",
      "state": {
       "layout": "IPY_MODEL_9a3563c44a9044039acfed08b0e3aa6b",
       "style": "IPY_MODEL_977551e8c24d43949e0905d9efb4b63c"
      }
     },
     "40a20928d2aa472d943590484e87abbe": {
      "model_module": "@jupyter-widgets/base",
      "model_module_version": "1.2.0",
      "model_name": "LayoutModel",
      "state": {
       "width": "5%"
      }
     },
     "40c6d1f3248a44b1bf71c2328aa03d43": {
      "model_module": "@jupyter-widgets/controls",
      "model_module_version": "1.5.0",
      "model_name": "DescriptionStyleModel",
      "state": {
       "description_width": ""
      }
     },
     "40d0d976d068460d8f0ca7a3c3c32c8f": {
      "model_module": "@jupyter-widgets/controls",
      "model_module_version": "1.5.0",
      "model_name": "TextareaModel",
      "state": {
       "description": "String:",
       "layout": "IPY_MODEL_e8e8ecd3df764915be678abbb9bf78ef",
       "placeholder": "Type something",
       "style": "IPY_MODEL_4b2c03a44d994b4eabeaec698a9dddd4"
      }
     },
     "40d11e3b03bc4d679c0b22c456d66fee": {
      "model_module": "@jupyter-widgets/controls",
      "model_module_version": "1.5.0",
      "model_name": "HBoxModel",
      "state": {
       "children": [
        "IPY_MODEL_6ea0626d895848a9bd1a3787539393b9",
        "IPY_MODEL_05891ced9f2746d1b97f76350695bfe5"
       ],
       "layout": "IPY_MODEL_2e1f0d38cd8042678df929c4faf6832e"
      }
     },
     "40d3acbbc1984004952a391b2984e1fe": {
      "model_module": "@jupyter-widgets/output",
      "model_module_version": "1.0.0",
      "model_name": "OutputModel",
      "state": {
       "layout": "IPY_MODEL_82b9390e10b04def965792b316655d56",
       "outputs": [
        {
         "name": "stdout",
         "output_type": "stream",
         "text": "Hi there!\n"
        }
       ]
      }
     },
     "40e9fc1bc56e470a80207282ed19c163": {
      "model_module": "@jupyter-widgets/base",
      "model_module_version": "1.2.0",
      "model_name": "LayoutModel",
      "state": {}
     },
     "40efb88056b64960a36bbbd3fdf1d401": {
      "model_module": "@jupyter-widgets/base",
      "model_module_version": "1.2.0",
      "model_name": "LayoutModel",
      "state": {}
     },
     "41146f801c054f329ede2c6b95ea2c26": {
      "model_module": "@jupyter-widgets/base",
      "model_module_version": "1.2.0",
      "model_name": "LayoutModel",
      "state": {}
     },
     "4115700572b94264aca8383ab6027e6d": {
      "model_module": "@jupyter-widgets/controls",
      "model_module_version": "1.5.0",
      "model_name": "DescriptionStyleModel",
      "state": {
       "description_width": ""
      }
     },
     "411f282a199146d8803f0e26fe1fb7e6": {
      "model_module": "@jupyter-widgets/base",
      "model_module_version": "1.2.0",
      "model_name": "LayoutModel",
      "state": {
       "width": "90%"
      }
     },
     "4137f188ee494d70b87b0e35debde424": {
      "model_module": "@jupyter-widgets/controls",
      "model_module_version": "1.5.0",
      "model_name": "DescriptionStyleModel",
      "state": {
       "description_width": ""
      }
     },
     "41457ea96887497e900bafff0201f14b": {
      "model_module": "@jupyter-widgets/base",
      "model_module_version": "1.2.0",
      "model_name": "LayoutModel",
      "state": {}
     },
     "415d54327906454688ee235c06033878": {
      "model_module": "@jupyter-widgets/controls",
      "model_module_version": "1.5.0",
      "model_name": "RadioButtonsModel",
      "state": {
       "_options_labels": [
        "a. Diverges",
        "b. Converges",
        "c. Implodes",
        "d. Extrapolates"
       ],
       "index": 0,
       "layout": "IPY_MODEL_d73ce27585be44958d647dc503073da8",
       "style": "IPY_MODEL_3c138393003a4669803a4f36d5d92ba0"
      }
     },
     "4165ba7a264243ee920c8a5c8b7726cd": {
      "model_module": "@jupyter-widgets/controls",
      "model_module_version": "1.5.0",
      "model_name": "HBoxModel",
      "state": {
       "children": [
        "IPY_MODEL_511a66a4cf5748fb9d0431860c724c03",
        "IPY_MODEL_42605617a500437dbe522b9679be0d44"
       ],
       "layout": "IPY_MODEL_446448b550454b2b8805e1cc34229dc1"
      }
     },
     "416cad3072dc4c229750eb41fd9532ff": {
      "model_module": "@jupyter-widgets/controls",
      "model_module_version": "1.5.0",
      "model_name": "DescriptionStyleModel",
      "state": {
       "description_width": ""
      }
     },
     "41807961ac654f4491b82328de29e8fc": {
      "model_module": "@jupyter-widgets/base",
      "model_module_version": "1.2.0",
      "model_name": "LayoutModel",
      "state": {
       "width": "5%"
      }
     },
     "41848b5f38a24818830a319aca197929": {
      "model_module": "@jupyter-widgets/controls",
      "model_module_version": "1.5.0",
      "model_name": "LabelModel",
      "state": {
       "layout": "IPY_MODEL_91bd141c44a64e6aa644ccc1c4115b49",
       "style": "IPY_MODEL_6a1947bb01ee4c09b0a18438a72adbd9"
      }
     },
     "418b74cda65047299e78b2bdd563b7d7": {
      "model_module": "@jupyter-widgets/controls",
      "model_module_version": "1.5.0",
      "model_name": "DescriptionStyleModel",
      "state": {
       "description_width": ""
      }
     },
     "4191c5b369d94406a2dcd27f302829d6": {
      "model_module": "@jupyter-widgets/controls",
      "model_module_version": "1.5.0",
      "model_name": "LabelModel",
      "state": {
       "layout": "IPY_MODEL_366a55ca18624a70a9eab14b361c5fb6",
       "style": "IPY_MODEL_f9b388bf94324a9bb7dede6955969bea"
      }
     },
     "41a0ca4e288a4011877549d524d5e473": {
      "model_module": "@jupyter-widgets/base",
      "model_module_version": "1.2.0",
      "model_name": "LayoutModel",
      "state": {}
     },
     "41ad1f1f30ef4359a45e7e6bc4322f47": {
      "model_module": "@jupyter-widgets/controls",
      "model_module_version": "1.5.0",
      "model_name": "RadioButtonsModel",
      "state": {
       "_options_labels": [
        "a. The Coulomb potential",
        "b. Mental anguish",
        "c. Propagating electromagnetic waves",
        "d. More charges"
       ],
       "index": 1,
       "layout": "IPY_MODEL_d2259cc62a204140849ad4a1fe02d96f",
       "style": "IPY_MODEL_6a148181f4ca4197b5b79360635fbedc"
      }
     },
     "41c5ed81d1d04f04bcba4c3ba5304783": {
      "model_module": "@jupyter-widgets/controls",
      "model_module_version": "1.5.0",
      "model_name": "TextareaModel",
      "state": {
       "description": "String:",
       "layout": "IPY_MODEL_07b2254aa8364b7ab31e2f307b353ed2",
       "placeholder": "Type something",
       "style": "IPY_MODEL_ecfe0b0a48294b5ea5a5cef18aded9bf"
      }
     },
     "41cf7f84ee3b47ebbeb616b872a371f7": {
      "model_module": "@jupyter-widgets/controls",
      "model_module_version": "1.5.0",
      "model_name": "LabelModel",
      "state": {
       "layout": "IPY_MODEL_7138e0aa97814e6e925971259ef3d19a",
       "style": "IPY_MODEL_dff99256904d4299a80412e9e7a0b5ea"
      }
     },
     "4234874ff811444c8918ae3b61d866f3": {
      "model_module": "@jupyter-widgets/base",
      "model_module_version": "1.2.0",
      "model_name": "LayoutModel",
      "state": {
       "width": "90%"
      }
     },
     "42605617a500437dbe522b9679be0d44": {
      "model_module": "@jupyter-widgets/controls",
      "model_module_version": "1.5.0",
      "model_name": "TextareaModel",
      "state": {
       "description": "String:",
       "layout": "IPY_MODEL_0c0de87c41d74e479c23c0c39209a074",
       "placeholder": "Type something",
       "style": "IPY_MODEL_7d3ad8523ecf4bfe9fa60f1b9d749d97"
      }
     },
     "4266b5e9c6614665ae4355333a655245": {
      "model_module": "@jupyter-widgets/base",
      "model_module_version": "1.2.0",
      "model_name": "LayoutModel",
      "state": {
       "width": "5%"
      }
     },
     "428353f703164e26af2f4b14cd890a1c": {
      "model_module": "@jupyter-widgets/controls",
      "model_module_version": "1.5.0",
      "model_name": "DescriptionStyleModel",
      "state": {
       "description_width": ""
      }
     },
     "428c01752fdd468ca99091ae144476fc": {
      "model_module": "@jupyter-widgets/base",
      "model_module_version": "1.2.0",
      "model_name": "LayoutModel",
      "state": {
       "width": "90%"
      }
     },
     "42999902a2dc4076a1ee4951c45a8c89": {
      "model_module": "@jupyter-widgets/base",
      "model_module_version": "1.2.0",
      "model_name": "LayoutModel",
      "state": {}
     },
     "42b3da39d1c44dc28d975e0d02d18fbf": {
      "model_module": "@jupyter-widgets/controls",
      "model_module_version": "1.5.0",
      "model_name": "HBoxModel",
      "state": {
       "children": [
        "IPY_MODEL_3e077ada2ba742ad8d86b178a89f23e6",
        "IPY_MODEL_bcf5456b088945708ea572a73dfa3ce2"
       ],
       "layout": "IPY_MODEL_01d6b10a36e742c1a222f138e07420b4"
      }
     },
     "42ba4c71fabc4f869012cac1ed25d34a": {
      "model_module": "@jupyter-widgets/controls",
      "model_module_version": "1.5.0",
      "model_name": "DescriptionStyleModel",
      "state": {
       "description_width": ""
      }
     },
     "430c4ea64edb40d3b9576e36a34e1da5": {
      "model_module": "@jupyter-widgets/controls",
      "model_module_version": "1.5.0",
      "model_name": "DescriptionStyleModel",
      "state": {
       "description_width": ""
      }
     },
     "43275c961dcf47ff8b7fb669b25f20f3": {
      "model_module": "@jupyter-widgets/controls",
      "model_module_version": "1.5.0",
      "model_name": "RadioButtonsModel",
      "state": {
       "_options_labels": [
        "a. df = 1/(N*dt)",
        "b. df = 1/dt",
        "c. df = N*dt",
        "d. df = N/dt"
       ],
       "index": 0,
       "layout": "IPY_MODEL_9ece9dc6295a41ef8d08f49d14e0d511",
       "style": "IPY_MODEL_44aca1bb4f5443dbaab90a8b378bf6c4"
      }
     },
     "4335ce7928314b0ea47e77b4e2ee48fa": {
      "model_module": "@jupyter-widgets/controls",
      "model_module_version": "1.5.0",
      "model_name": "DescriptionStyleModel",
      "state": {
       "description_width": ""
      }
     },
     "4357555822054437baf8fb97bcd39b17": {
      "model_module": "@jupyter-widgets/controls",
      "model_module_version": "1.5.0",
      "model_name": "TextareaModel",
      "state": {
       "description": "Code:",
       "layout": "IPY_MODEL_d79b3cc1747445f59b3bc467d5da644d",
       "placeholder": "Type code here",
       "style": "IPY_MODEL_8cc67cfb20ac4834993f73b693456780"
      }
     },
     "4398c85561e445a9ada36c583f5c5d12": {
      "model_module": "@jupyter-widgets/controls",
      "model_module_version": "1.5.0",
      "model_name": "DescriptionStyleModel",
      "state": {
       "description_width": ""
      }
     },
     "439b129fd1af40ccab445f489b2baa3f": {
      "model_module": "@jupyter-widgets/controls",
      "model_module_version": "1.5.0",
      "model_name": "HBoxModel",
      "state": {
       "children": [
        "IPY_MODEL_6a47347c0472481d9eddb13349ab64ee",
        "IPY_MODEL_9eca6bf35a60439d8b64d21725fb3c42"
       ],
       "layout": "IPY_MODEL_9e9b30cacd064ce5b7e80dd650a24316"
      }
     },
     "439ff74482654d1aa04fdfd0297a5b36": {
      "model_module": "@jupyter-widgets/base",
      "model_module_version": "1.2.0",
      "model_name": "LayoutModel",
      "state": {
       "width": "90%"
      }
     },
     "43bf7aee0c6e4eca9f9dd9e3bc6e29eb": {
      "model_module": "@jupyter-widgets/base",
      "model_module_version": "1.2.0",
      "model_name": "LayoutModel",
      "state": {
       "width": "5%"
      }
     },
     "43ee0ae62ff44c04a0136a797f90ba11": {
      "model_module": "@jupyter-widgets/controls",
      "model_module_version": "1.5.0",
      "model_name": "HBoxModel",
      "state": {
       "children": [
        "IPY_MODEL_5c7976ef9a89463c956ae291f4ff10d2",
        "IPY_MODEL_1a4cd5bd5cae4018bd529207810af526"
       ],
       "layout": "IPY_MODEL_36b3d4312db94015b8bc50d219fbc59e"
      }
     },
     "43f7d360f6964db2bb796fe68cd04080": {
      "model_module": "@jupyter-widgets/controls",
      "model_module_version": "1.5.0",
      "model_name": "HBoxModel",
      "state": {
       "children": [
        "IPY_MODEL_a5922895a06547d493afba2cff3a0581",
        "IPY_MODEL_b8847c598a0d4b23aeaf118ba9232ff7"
       ],
       "layout": "IPY_MODEL_f2bbd52645bd440ab11efd31228245ac"
      }
     },
     "43fc946ca0a645bd8c04fbe66c329476": {
      "model_module": "@jupyter-widgets/base",
      "model_module_version": "1.2.0",
      "model_name": "LayoutModel",
      "state": {}
     },
     "441b2c6d6f7f41aaa26d9ace72f2b5a0": {
      "model_module": "@jupyter-widgets/base",
      "model_module_version": "1.2.0",
      "model_name": "LayoutModel",
      "state": {}
     },
     "442cb7f54a994d1294ea4e5677b2ec13": {
      "model_module": "@jupyter-widgets/controls",
      "model_module_version": "1.5.0",
      "model_name": "ButtonStyleModel",
      "state": {}
     },
     "443d175dd48942dda64eee7cf22c8f34": {
      "model_module": "@jupyter-widgets/base",
      "model_module_version": "1.2.0",
      "model_name": "LayoutModel",
      "state": {}
     },
     "4457a4270fc7432ca5ff5f3de63b8f0a": {
      "model_module": "@jupyter-widgets/base",
      "model_module_version": "1.2.0",
      "model_name": "LayoutModel",
      "state": {}
     },
     "446448b550454b2b8805e1cc34229dc1": {
      "model_module": "@jupyter-widgets/base",
      "model_module_version": "1.2.0",
      "model_name": "LayoutModel",
      "state": {}
     },
     "4479d65d32ac49768751e073a9de030f": {
      "model_module": "@jupyter-widgets/base",
      "model_module_version": "1.2.0",
      "model_name": "LayoutModel",
      "state": {}
     },
     "4495736abf434601903e877943f17eee": {
      "model_module": "@jupyter-widgets/base",
      "model_module_version": "1.2.0",
      "model_name": "LayoutModel",
      "state": {
       "width": "5%"
      }
     },
     "44aca1bb4f5443dbaab90a8b378bf6c4": {
      "model_module": "@jupyter-widgets/controls",
      "model_module_version": "1.5.0",
      "model_name": "DescriptionStyleModel",
      "state": {
       "description_width": ""
      }
     },
     "44af261a58ef4b649f2614ec554d5e55": {
      "model_module": "@jupyter-widgets/controls",
      "model_module_version": "1.5.0",
      "model_name": "HBoxModel",
      "state": {
       "children": [
        "IPY_MODEL_d487b58a88944df7b33513d2d4ef1ada",
        "IPY_MODEL_c5b2a9441e2a40188519526cf3d209d9"
       ],
       "layout": "IPY_MODEL_333303a1914c4649b7cccc27fb382064"
      }
     },
     "44ca04c583f343768037cc16a9dd517e": {
      "model_module": "@jupyter-widgets/controls",
      "model_module_version": "1.5.0",
      "model_name": "RadioButtonsModel",
      "state": {
       "_options_labels": [
        "a. Maxwell's equations",
        "b. Newton's Equations",
        "c. The boundary conditions",
        "d. A given macrostate"
       ],
       "index": 0,
       "layout": "IPY_MODEL_29d0a40f7ec2420480a4c4fcccee357c",
       "style": "IPY_MODEL_6a4d290d5cb74e7d8dc0910a1b22fba0"
      }
     },
     "44f32d83e4234767bae2d6074c88871d": {
      "model_module": "@jupyter-widgets/base",
      "model_module_version": "1.2.0",
      "model_name": "LayoutModel",
      "state": {}
     },
     "44fcc3c2109e4cc7889de3cf650c8277": {
      "model_module": "@jupyter-widgets/base",
      "model_module_version": "1.2.0",
      "model_name": "LayoutModel",
      "state": {
       "width": "90%"
      }
     },
     "44fe95b528e6477182d53108bfe71f49": {
      "model_module": "@jupyter-widgets/controls",
      "model_module_version": "1.5.0",
      "model_name": "LabelModel",
      "state": {
       "layout": "IPY_MODEL_04b5dbf27b074f7583c76185eeb4c7a7",
       "style": "IPY_MODEL_9cafe884826a4ef49606cd635e4320a1"
      }
     },
     "451e0559b7ab4edc8ddf55ab838fdcd5": {
      "model_module": "@jupyter-widgets/controls",
      "model_module_version": "1.5.0",
      "model_name": "DescriptionStyleModel",
      "state": {
       "description_width": ""
      }
     },
     "4529b5f8de604ac5b941b4b2ada3bc0a": {
      "model_module": "@jupyter-widgets/controls",
      "model_module_version": "1.5.0",
      "model_name": "HBoxModel",
      "state": {
       "children": [
        "IPY_MODEL_a2b38450b11d4077975471ff5e45958d",
        "IPY_MODEL_2274fff779d84a57a49b89973d9d6646"
       ],
       "layout": "IPY_MODEL_d9062bce7c2e498b8bdf9201fa485e1f"
      }
     },
     "454a01ca3da34a08895f0198e7bbc93e": {
      "model_module": "@jupyter-widgets/controls",
      "model_module_version": "1.5.0",
      "model_name": "LabelModel",
      "state": {
       "layout": "IPY_MODEL_379dcccbe59145ccb86f54702ef13194",
       "style": "IPY_MODEL_5ea6032f92f849288d4d56771cd18b8d"
      }
     },
     "454c7242412b4d5587e7911a3aff5aaa": {
      "model_module": "@jupyter-widgets/base",
      "model_module_version": "1.2.0",
      "model_name": "LayoutModel",
      "state": {}
     },
     "4569490e7533415882842eef2e4a99e7": {
      "model_module": "@jupyter-widgets/base",
      "model_module_version": "1.2.0",
      "model_name": "LayoutModel",
      "state": {}
     },
     "4587e84e5067472492c10136d38c6db1": {
      "model_module": "@jupyter-widgets/base",
      "model_module_version": "1.2.0",
      "model_name": "LayoutModel",
      "state": {}
     },
     "4593cbdfc7dd4489a4a6c0553048a5bc": {
      "model_module": "@jupyter-widgets/controls",
      "model_module_version": "1.5.0",
      "model_name": "DescriptionStyleModel",
      "state": {
       "description_width": ""
      }
     },
     "459bc05aa457499394524165c95ff752": {
      "model_module": "@jupyter-widgets/base",
      "model_module_version": "1.2.0",
      "model_name": "LayoutModel",
      "state": {
       "width": "5%"
      }
     },
     "45a61638dc9a4aaab0003df241b11a47": {
      "model_module": "@jupyter-widgets/base",
      "model_module_version": "1.2.0",
      "model_name": "LayoutModel",
      "state": {}
     },
     "45e15e8599764a348a2af2b9737c1acc": {
      "model_module": "@jupyter-widgets/base",
      "model_module_version": "1.2.0",
      "model_name": "LayoutModel",
      "state": {}
     },
     "45feebc087c840939b9a2eb7003440a9": {
      "model_module": "@jupyter-widgets/controls",
      "model_module_version": "1.5.0",
      "model_name": "DescriptionStyleModel",
      "state": {
       "description_width": ""
      }
     },
     "4601abe6b93743c58bb7104b18fa3528": {
      "model_module": "@jupyter-widgets/controls",
      "model_module_version": "1.5.0",
      "model_name": "HBoxModel",
      "state": {
       "children": [
        "IPY_MODEL_668bc6123e024c8fad2d5595454af59d",
        "IPY_MODEL_efe52ab1c5aa42f58f7105d947796bba"
       ],
       "layout": "IPY_MODEL_ada65ee00970410cb99b232390c6f13f"
      }
     },
     "461f0e204317478898c7cf9513d7057c": {
      "model_module": "@jupyter-widgets/controls",
      "model_module_version": "1.5.0",
      "model_name": "HBoxModel",
      "state": {
       "children": [
        "IPY_MODEL_c5d782c5a2dd47f296be2e637cf6bef6",
        "IPY_MODEL_108ab39bd0be4d3c8ba6557e77395668"
       ],
       "layout": "IPY_MODEL_193695b4b38e46978e1589a1c325a515"
      }
     },
     "463a884e8a9c4ac0acf946ea1f7958da": {
      "model_module": "@jupyter-widgets/base",
      "model_module_version": "1.2.0",
      "model_name": "LayoutModel",
      "state": {
       "width": "90%"
      }
     },
     "466b02914dd44e4ab4a3498ed36ecb74": {
      "model_module": "@jupyter-widgets/controls",
      "model_module_version": "1.5.0",
      "model_name": "RadioButtonsModel",
      "state": {
       "_options_labels": [
        "a. Stabilize (prolong) induced polarizations",
        "b. Cause more rapid decay of the induced polarization",
        "c. Increase the magnitude of the induced polarization",
        "d. Waste money"
       ],
       "index": 0,
       "layout": "IPY_MODEL_baf5c4e9c4bf41c28cb1e718fb970287",
       "style": "IPY_MODEL_1beb8a269fbf4f4eb72320f69e9ae6bf"
      }
     },
     "467f7cf7d4974700a3ad67ee13a612f0": {
      "model_module": "@jupyter-widgets/base",
      "model_module_version": "1.2.0",
      "model_name": "LayoutModel",
      "state": {}
     },
     "4685a81ef1eb4f839a37e5b0227e3d2b": {
      "model_module": "@jupyter-widgets/controls",
      "model_module_version": "1.5.0",
      "model_name": "HBoxModel",
      "state": {
       "children": [
        "IPY_MODEL_3bfa4638bc7e46048b1d79b53f21c474",
        "IPY_MODEL_c351b11aee434d80b8ed38d3db8ec3cc"
       ],
       "layout": "IPY_MODEL_b2c71ffab2cd422e9f05d15cf526da19"
      }
     },
     "469cd00b851141af827e15e9d1644196": {
      "model_module": "@jupyter-widgets/controls",
      "model_module_version": "1.5.0",
      "model_name": "DescriptionStyleModel",
      "state": {
       "description_width": ""
      }
     },
     "46b66a0e27f548dd80e31145edc88f74": {
      "model_module": "@jupyter-widgets/controls",
      "model_module_version": "1.5.0",
      "model_name": "HBoxModel",
      "state": {
       "children": [
        "IPY_MODEL_f8f73cfca49446239e3322ffa81949f9",
        "IPY_MODEL_cd93b63635054366b28e59158624e90d"
       ],
       "layout": "IPY_MODEL_bc7788ab63364079bfd7cf5f39d2ee55"
      }
     },
     "46c4d2c2263e4b10ba702eafc1f232d3": {
      "model_module": "@jupyter-widgets/controls",
      "model_module_version": "1.5.0",
      "model_name": "LabelModel",
      "state": {
       "layout": "IPY_MODEL_558461b68c7045f4ab127c9b351e5c14",
       "style": "IPY_MODEL_4e262ece72de445cb097fa1aff817ced"
      }
     },
     "46f5e686802846c6b9f3b2091f86b8bb": {
      "model_module": "@jupyter-widgets/base",
      "model_module_version": "1.2.0",
      "model_name": "LayoutModel",
      "state": {
       "width": "90%"
      }
     },
     "46f8d22e3a0b46349bed8e6132490d16": {
      "model_module": "@jupyter-widgets/base",
      "model_module_version": "1.2.0",
      "model_name": "LayoutModel",
      "state": {
       "width": "90%"
      }
     },
     "4704fd852e6848fa9a366babb3ba1652": {
      "model_module": "@jupyter-widgets/controls",
      "model_module_version": "1.5.0",
      "model_name": "DescriptionStyleModel",
      "state": {
       "description_width": ""
      }
     },
     "470e8adf400d4501a64f6e35a251c9a2": {
      "model_module": "@jupyter-widgets/base",
      "model_module_version": "1.2.0",
      "model_name": "LayoutModel",
      "state": {
       "width": "90%"
      }
     },
     "4710c0e99cf54f5d8afbe516740bdb2a": {
      "model_module": "@jupyter-widgets/base",
      "model_module_version": "1.2.0",
      "model_name": "LayoutModel",
      "state": {
       "width": "5%"
      }
     },
     "472e7bd85ff547f49a2011d5a0d19c5c": {
      "model_module": "@jupyter-widgets/base",
      "model_module_version": "1.2.0",
      "model_name": "LayoutModel",
      "state": {
       "width": "5%"
      }
     },
     "4733d7c565bb4ac99a23b11487bb5d3a": {
      "model_module": "@jupyter-widgets/controls",
      "model_module_version": "1.5.0",
      "model_name": "TextareaModel",
      "state": {
       "description": "String:",
       "layout": "IPY_MODEL_3674d9e97cac4666a30ff52006fe18c3",
       "placeholder": "Type something",
       "style": "IPY_MODEL_e2270ad8ac2343e79072512fb259fefa"
      }
     },
     "4782628699544fcb842edab88b62ebb7": {
      "model_module": "@jupyter-widgets/base",
      "model_module_version": "1.2.0",
      "model_name": "LayoutModel",
      "state": {}
     },
     "4797462512ed47109b2bd70b823ac9c6": {
      "model_module": "@jupyter-widgets/base",
      "model_module_version": "1.2.0",
      "model_name": "LayoutModel",
      "state": {}
     },
     "47afdbb6a99f49d7884e4acca9285865": {
      "model_module": "@jupyter-widgets/base",
      "model_module_version": "1.2.0",
      "model_name": "LayoutModel",
      "state": {
       "width": "90%"
      }
     },
     "47c9f245f4c244ad99313adb2384adc2": {
      "model_module": "@jupyter-widgets/base",
      "model_module_version": "1.2.0",
      "model_name": "LayoutModel",
      "state": {}
     },
     "47f998ba4d9e414b82a65ade55338f44": {
      "model_module": "@jupyter-widgets/base",
      "model_module_version": "1.2.0",
      "model_name": "LayoutModel",
      "state": {
       "width": "5%"
      }
     },
     "47fd2d806b854765b6fe8800de8010c1": {
      "model_module": "@jupyter-widgets/base",
      "model_module_version": "1.2.0",
      "model_name": "LayoutModel",
      "state": {
       "width": "90%"
      }
     },
     "4803877ed86344769fd8ed0db2f61c82": {
      "model_module": "@jupyter-widgets/controls",
      "model_module_version": "1.5.0",
      "model_name": "TextareaModel",
      "state": {
       "description": "String:",
       "layout": "IPY_MODEL_8c501965bec34c19a77b33e8d722f814",
       "placeholder": "Type something",
       "style": "IPY_MODEL_b7ce1e95b17d4cad8078513e65c4a8d4"
      }
     },
     "481d1389681f426f930b2c3206f04005": {
      "model_module": "@jupyter-widgets/base",
      "model_module_version": "1.2.0",
      "model_name": "LayoutModel",
      "state": {}
     },
     "4831a4a63d8044e2b34ae41a721b3524": {
      "model_module": "@jupyter-widgets/controls",
      "model_module_version": "1.5.0",
      "model_name": "DescriptionStyleModel",
      "state": {
       "description_width": ""
      }
     },
     "483ca672cb304a54b3fbcbeb3c9ccce2": {
      "model_module": "@jupyter-widgets/controls",
      "model_module_version": "1.5.0",
      "model_name": "DescriptionStyleModel",
      "state": {
       "description_width": ""
      }
     },
     "48426847bb9f4d45ada121cf650870ac": {
      "model_module": "@jupyter-widgets/controls",
      "model_module_version": "1.5.0",
      "model_name": "HBoxModel",
      "state": {
       "children": [
        "IPY_MODEL_35173029094c4758a1f5f728ca01ae25",
        "IPY_MODEL_c34de7e2d4294dd184abff528cdd32a8"
       ],
       "layout": "IPY_MODEL_40e9fc1bc56e470a80207282ed19c163"
      }
     },
     "48b42b7c04364066b672e665fa6922d5": {
      "model_module": "@jupyter-widgets/base",
      "model_module_version": "1.2.0",
      "model_name": "LayoutModel",
      "state": {}
     },
     "4900d1ba603f41a397bcc8f121c91938": {
      "model_module": "@jupyter-widgets/controls",
      "model_module_version": "1.5.0",
      "model_name": "DescriptionStyleModel",
      "state": {
       "description_width": ""
      }
     },
     "49017db6224344d086fd90fa8f65811f": {
      "model_module": "@jupyter-widgets/controls",
      "model_module_version": "1.5.0",
      "model_name": "LabelModel",
      "state": {
       "layout": "IPY_MODEL_f8e0197d60834edab8402bc6ff244557",
       "style": "IPY_MODEL_8c8cb31da1ed48b4b17c295ee853f1b7"
      }
     },
     "491397de7bdd4ecc8f2849dbb682d4e2": {
      "model_module": "@jupyter-widgets/base",
      "model_module_version": "1.2.0",
      "model_name": "LayoutModel",
      "state": {}
     },
     "4925e8b96ffd4717bf2a289f032117b0": {
      "model_module": "@jupyter-widgets/controls",
      "model_module_version": "1.5.0",
      "model_name": "VBoxModel",
      "state": {
       "children": [
        "IPY_MODEL_36e178f7810c4a01ba19ec8db53bb134",
        "IPY_MODEL_86c0abab4d304aabb76d8e947401e622"
       ],
       "layout": "IPY_MODEL_57f3db13d7b14e63a388795b02627cf9"
      }
     },
     "4954e07a93904439bcc67cd792b422b2": {
      "model_module": "@jupyter-widgets/controls",
      "model_module_version": "1.5.0",
      "model_name": "VBoxModel",
      "state": {
       "children": [
        "IPY_MODEL_db14575a98ab42ac97b715f90ae1a08d",
        "IPY_MODEL_a52d2a950c804df68b5fcc60738dbed1"
       ],
       "layout": "IPY_MODEL_7a00f109d8bf416b929178172a791e5d"
      }
     },
     "495590eb1e88410da47770cd41bd2b53": {
      "model_module": "@jupyter-widgets/controls",
      "model_module_version": "1.5.0",
      "model_name": "DescriptionStyleModel",
      "state": {
       "description_width": ""
      }
     },
     "495db9fe81fa44718cd91fd308729dd8": {
      "model_module": "@jupyter-widgets/controls",
      "model_module_version": "1.5.0",
      "model_name": "DescriptionStyleModel",
      "state": {
       "description_width": ""
      }
     },
     "495df16fdb9b4a5bb82a91df2a17c51c": {
      "model_module": "@jupyter-widgets/controls",
      "model_module_version": "1.5.0",
      "model_name": "DescriptionStyleModel",
      "state": {
       "description_width": ""
      }
     },
     "4965071dae92491992bc5e64775ce697": {
      "model_module": "@jupyter-widgets/base",
      "model_module_version": "1.2.0",
      "model_name": "LayoutModel",
      "state": {}
     },
     "499c186ee4dc4657978b2a170065348d": {
      "model_module": "@jupyter-widgets/controls",
      "model_module_version": "1.5.0",
      "model_name": "ButtonStyleModel",
      "state": {}
     },
     "49c8e5cb94c340c4a45fdf7af40c731a": {
      "model_module": "@jupyter-widgets/controls",
      "model_module_version": "1.5.0",
      "model_name": "HBoxModel",
      "state": {
       "children": [
        "IPY_MODEL_b2f109be656b4f2398d658d56c3e6d07",
        "IPY_MODEL_b34cbb579907485abb2ab26a4f04424e"
       ],
       "layout": "IPY_MODEL_6c9fece9352d4daa82e1041a469f3fc0"
      }
     },
     "49cf7d32905e4c39ba0a87948d54e8a8": {
      "model_module": "@jupyter-widgets/base",
      "model_module_version": "1.2.0",
      "model_name": "LayoutModel",
      "state": {
       "width": "5%"
      }
     },
     "49d0a07fad8b40eebdb9476d72b4c3fb": {
      "model_module": "@jupyter-widgets/controls",
      "model_module_version": "1.5.0",
      "model_name": "HBoxModel",
      "state": {
       "children": [
        "IPY_MODEL_7e75122c9ea8469eb5b275adfe485213",
        "IPY_MODEL_52f92b6ec8284a7083c2369012451b5c"
       ],
       "layout": "IPY_MODEL_1d70efa0dfa84d07a08d648b60bb7df7"
      }
     },
     "4a01dc006c73427a878f55165bcb692c": {
      "model_module": "@jupyter-widgets/controls",
      "model_module_version": "1.5.0",
      "model_name": "DescriptionStyleModel",
      "state": {
       "description_width": ""
      }
     },
     "4a0c4c3aeb2940fdad00c621697437d2": {
      "model_module": "@jupyter-widgets/controls",
      "model_module_version": "1.5.0",
      "model_name": "RadioButtonsModel",
      "state": {
       "_options_labels": [
        "a. df = 1/(N*dt)",
        "b. df = 1/dt",
        "c. df = N*dt",
        "d. df = N/dt"
       ],
       "index": 0,
       "layout": "IPY_MODEL_31487a6e3a834d8686fe302078a1fb85",
       "style": "IPY_MODEL_2a55c65a123c4046bdab2ca1ee3480e1"
      }
     },
     "4a11a926da784e56bad8556c5fc893dd": {
      "model_module": "@jupyter-widgets/base",
      "model_module_version": "1.2.0",
      "model_name": "LayoutModel",
      "state": {}
     },
     "4a19d3e4cd4c4f0cb2766fcd44ecf956": {
      "model_module": "@jupyter-widgets/controls",
      "model_module_version": "1.5.0",
      "model_name": "TextareaModel",
      "state": {
       "description": "Code:",
       "layout": "IPY_MODEL_7e4e7b57344748fd8cef04de790f568e",
       "placeholder": "Type code here",
       "style": "IPY_MODEL_16833b052e514fea95854a9d37e39069"
      }
     },
     "4a22369b36a54d35b86dffbd33143f20": {
      "model_module": "@jupyter-widgets/controls",
      "model_module_version": "1.5.0",
      "model_name": "DescriptionStyleModel",
      "state": {
       "description_width": ""
      }
     },
     "4a37f552c0b446ca9d61ca4efbacf824": {
      "model_module": "@jupyter-widgets/controls",
      "model_module_version": "1.5.0",
      "model_name": "DescriptionStyleModel",
      "state": {
       "description_width": ""
      }
     },
     "4a6e510e320547b99d97ca4cf68a865f": {
      "model_module": "@jupyter-widgets/base",
      "model_module_version": "1.2.0",
      "model_name": "LayoutModel",
      "state": {
       "width": "5%"
      }
     },
     "4a71d9315b414667b6c1eb04c6782622": {
      "model_module": "@jupyter-widgets/controls",
      "model_module_version": "1.5.0",
      "model_name": "HBoxModel",
      "state": {
       "children": [
        "IPY_MODEL_c32ab2a0ad54487591213a4060ea9dec",
        "IPY_MODEL_8b97862286824ebfaa054e812c2b8c3c"
       ],
       "layout": "IPY_MODEL_7d109c00e6224d9cbfe0ac09a085ef3e"
      }
     },
     "4a82be9667d847569c34b150c6c328b1": {
      "model_module": "@jupyter-widgets/controls",
      "model_module_version": "1.5.0",
      "model_name": "DescriptionStyleModel",
      "state": {
       "description_width": ""
      }
     },
     "4a94ca37f24c4a0fb425c95bcd038385": {
      "model_module": "@jupyter-widgets/controls",
      "model_module_version": "1.5.0",
      "model_name": "HBoxModel",
      "state": {
       "children": [
        "IPY_MODEL_94699e1d62c448b985406a4a42334ed5",
        "IPY_MODEL_2b6590207d0f4fd3a9674780743c927c"
       ],
       "layout": "IPY_MODEL_92df0db233fc41df81d45d45a54e0936"
      }
     },
     "4aea2264345f4fcba07fdd5de46beb46": {
      "model_module": "@jupyter-widgets/controls",
      "model_module_version": "1.5.0",
      "model_name": "LabelModel",
      "state": {
       "layout": "IPY_MODEL_bccf301abe1b433d94af5431c82d8e23",
       "style": "IPY_MODEL_33db7c18e1e846a7be06450a890bb805"
      }
     },
     "4aea385a7298478687ccf8cbba3d8772": {
      "model_module": "@jupyter-widgets/controls",
      "model_module_version": "1.5.0",
      "model_name": "TextareaModel",
      "state": {
       "description": "String:",
       "layout": "IPY_MODEL_6b49488c21d143018d15f723e38bb480",
       "placeholder": "Type something",
       "style": "IPY_MODEL_b91c3a3ae66c494ebb642848806f25cb"
      }
     },
     "4b02f7702fff4ca2aa14722f34d541b6": {
      "model_module": "@jupyter-widgets/controls",
      "model_module_version": "1.5.0",
      "model_name": "HBoxModel",
      "state": {
       "children": [
        "IPY_MODEL_76d33449dd55452eb237ad85c7b3cc20",
        "IPY_MODEL_7d446d9499f043b89e954a1775f5554d"
       ],
       "layout": "IPY_MODEL_b0b76f49c9e54fc2b1754134753f2c60"
      }
     },
     "4b10f023d4994ec19fcb7378d133b42a": {
      "model_module": "@jupyter-widgets/controls",
      "model_module_version": "1.5.0",
      "model_name": "ButtonStyleModel",
      "state": {}
     },
     "4b2c03a44d994b4eabeaec698a9dddd4": {
      "model_module": "@jupyter-widgets/controls",
      "model_module_version": "1.5.0",
      "model_name": "DescriptionStyleModel",
      "state": {
       "description_width": ""
      }
     },
     "4b349d4458f24e1dab65a880fb015324": {
      "model_module": "@jupyter-widgets/controls",
      "model_module_version": "1.5.0",
      "model_name": "LabelModel",
      "state": {
       "layout": "IPY_MODEL_dc821d906f044cd7a00cc8190a2fc834",
       "style": "IPY_MODEL_8748d8c153324e41a509737972daf403"
      }
     },
     "4b3dc5e5a84049bba3f5b373f971a9bd": {
      "model_module": "@jupyter-widgets/controls",
      "model_module_version": "1.5.0",
      "model_name": "VBoxModel",
      "state": {
       "children": [
        "IPY_MODEL_4b961cd8bd8a4c2ebaed1a5a2f81fad0",
        "IPY_MODEL_0ed8e90e4f1342e59da572ed15911421"
       ],
       "layout": "IPY_MODEL_072a929cdfd54495bf83694f34e59936"
      }
     },
     "4b501f74c4174f5db1fe845b6485d087": {
      "model_module": "@jupyter-widgets/controls",
      "model_module_version": "1.5.0",
      "model_name": "RadioButtonsModel",
      "state": {
       "_options_labels": [
        "a. Polarization",
        "b. Phase",
        "c. Frequency",
        "d. Propagation axis"
       ],
       "index": 0,
       "layout": "IPY_MODEL_c6f405106ef84fd3990b068a59a9b1f1",
       "style": "IPY_MODEL_c06a91f26e854337a199feb1ae7e47ed"
      }
     },
     "4b7fab9bc0c9411c89449af2b7a66c69": {
      "model_module": "@jupyter-widgets/controls",
      "model_module_version": "1.5.0",
      "model_name": "DescriptionStyleModel",
      "state": {
       "description_width": ""
      }
     },
     "4b86191f41d1419fb532efaff3876fe4": {
      "model_module": "@jupyter-widgets/controls",
      "model_module_version": "1.5.0",
      "model_name": "DescriptionStyleModel",
      "state": {
       "description_width": ""
      }
     },
     "4b8bc26846654a208b8f2555338ce563": {
      "model_module": "@jupyter-widgets/controls",
      "model_module_version": "1.5.0",
      "model_name": "DescriptionStyleModel",
      "state": {
       "description_width": ""
      }
     },
     "4b8cd759a55749d2bfe7e4d1c773890b": {
      "model_module": "@jupyter-widgets/base",
      "model_module_version": "1.2.0",
      "model_name": "LayoutModel",
      "state": {
       "width": "5%"
      }
     },
     "4b961cd8bd8a4c2ebaed1a5a2f81fad0": {
      "model_module": "@jupyter-widgets/output",
      "model_module_version": "1.0.0",
      "model_name": "OutputModel",
      "state": {
       "layout": "IPY_MODEL_b2e7bff9a69d463a81b16699a4e4e1fa"
      }
     },
     "4bbd4db4b4104fa4b8076e7642cd4a9c": {
      "model_module": "@jupyter-widgets/controls",
      "model_module_version": "1.5.0",
      "model_name": "DescriptionStyleModel",
      "state": {
       "description_width": ""
      }
     },
     "4c03eb6c75ce4a82ab320d8b1bc072d3": {
      "model_module": "@jupyter-widgets/base",
      "model_module_version": "1.2.0",
      "model_name": "LayoutModel",
      "state": {}
     },
     "4c267a00d58b4b63acfe7b8b212f76da": {
      "model_module": "@jupyter-widgets/controls",
      "model_module_version": "1.5.0",
      "model_name": "LabelModel",
      "state": {
       "layout": "IPY_MODEL_e2cda4c54e974d62953d6aec18e2279a",
       "style": "IPY_MODEL_5f6cb21a977f4c66a8b9c274208700d6"
      }
     },
     "4c67b32c07d840af9e4ee6db9e24a539": {
      "model_module": "@jupyter-widgets/base",
      "model_module_version": "1.2.0",
      "model_name": "LayoutModel",
      "state": {}
     },
     "4c782ce7bfc84a0fb8e931a9a4a4ac72": {
      "model_module": "@jupyter-widgets/base",
      "model_module_version": "1.2.0",
      "model_name": "LayoutModel",
      "state": {}
     },
     "4c9030063b5442d3a8203724d3919827": {
      "model_module": "@jupyter-widgets/base",
      "model_module_version": "1.2.0",
      "model_name": "LayoutModel",
      "state": {
       "width": "90%"
      }
     },
     "4ccc390405c3441f96967056dfb48e46": {
      "model_module": "@jupyter-widgets/base",
      "model_module_version": "1.2.0",
      "model_name": "LayoutModel",
      "state": {
       "width": "90%"
      }
     },
     "4cd5b59b960245dc9937ee0082711838": {
      "model_module": "@jupyter-widgets/controls",
      "model_module_version": "1.5.0",
      "model_name": "DescriptionStyleModel",
      "state": {
       "description_width": ""
      }
     },
     "4cee931e00ce4e5a901be25353af4f09": {
      "model_module": "@jupyter-widgets/controls",
      "model_module_version": "1.5.0",
      "model_name": "ButtonStyleModel",
      "state": {}
     },
     "4d00c62fd19e4d07812aaf8010f9e1b8": {
      "model_module": "@jupyter-widgets/base",
      "model_module_version": "1.2.0",
      "model_name": "LayoutModel",
      "state": {
       "width": "90%"
      }
     },
     "4d012971e493400a9cff04791ebddf34": {
      "model_module": "@jupyter-widgets/controls",
      "model_module_version": "1.5.0",
      "model_name": "LabelModel",
      "state": {
       "layout": "IPY_MODEL_eb3b90c901e7462fb43250ec819c7142",
       "style": "IPY_MODEL_0f888cd3f38a437aaf59517c1a004db3"
      }
     },
     "4d0c4c5b094d415e8617341f99d16d2c": {
      "model_module": "@jupyter-widgets/controls",
      "model_module_version": "1.5.0",
      "model_name": "LabelModel",
      "state": {
       "layout": "IPY_MODEL_26d9e6824bb445a08307f95441d22a4d",
       "style": "IPY_MODEL_7b30494a71a444d8823f40d31f3bedb2"
      }
     },
     "4d0ef7f6d19f401e9f1852a2e2ebd0f0": {
      "model_module": "@jupyter-widgets/controls",
      "model_module_version": "1.5.0",
      "model_name": "HBoxModel",
      "state": {
       "children": [
        "IPY_MODEL_72d12e5089594cd8aaa37947deff649e",
        "IPY_MODEL_f5b01a8477404bf98ef736d88ec6ab1f"
       ],
       "layout": "IPY_MODEL_9936ff600a1b4220a1a006a680f36f5c"
      }
     },
     "4d516b1d129f434ea5bdbffd8b4db948": {
      "model_module": "@jupyter-widgets/base",
      "model_module_version": "1.2.0",
      "model_name": "LayoutModel",
      "state": {}
     },
     "4d524bed90d44b28b8caa3ab725deaa0": {
      "model_module": "@jupyter-widgets/base",
      "model_module_version": "1.2.0",
      "model_name": "LayoutModel",
      "state": {}
     },
     "4d52a43782204b3faae7725569f99d2b": {
      "model_module": "@jupyter-widgets/controls",
      "model_module_version": "1.5.0",
      "model_name": "ButtonModel",
      "state": {
       "description": "Run Code",
       "layout": "IPY_MODEL_bee60f760ba647aba1e26007e03067ce",
       "style": "IPY_MODEL_d56ccc0a1417400ba0723fc6799be932",
       "tooltip": "Click to test your code"
      }
     },
     "4d5cc17dc75a4dba982e78e964ac3e8b": {
      "model_module": "@jupyter-widgets/controls",
      "model_module_version": "1.5.0",
      "model_name": "TextareaModel",
      "state": {
       "description": "String:",
       "layout": "IPY_MODEL_f0976a09bab841639e85b19a147edaf5",
       "placeholder": "Type something",
       "style": "IPY_MODEL_516bd0fd17c84a86a60f205e4b646cd1"
      }
     },
     "4d72569938694c048330878dff213460": {
      "model_module": "@jupyter-widgets/base",
      "model_module_version": "1.2.0",
      "model_name": "LayoutModel",
      "state": {
       "width": "5%"
      }
     },
     "4d816ea7f8ca43eaaca040a4834d68de": {
      "model_module": "@jupyter-widgets/controls",
      "model_module_version": "1.5.0",
      "model_name": "DescriptionStyleModel",
      "state": {
       "description_width": ""
      }
     },
     "4d8e49d4aca9444aa60a25b80f1b570d": {
      "model_module": "@jupyter-widgets/base",
      "model_module_version": "1.2.0",
      "model_name": "LayoutModel",
      "state": {}
     },
     "4d8ee0ed41464e5bb27812ce7300a82d": {
      "model_module": "@jupyter-widgets/base",
      "model_module_version": "1.2.0",
      "model_name": "LayoutModel",
      "state": {}
     },
     "4d93c73b9523408dbac2534d23e55120": {
      "model_module": "@jupyter-widgets/base",
      "model_module_version": "1.2.0",
      "model_name": "LayoutModel",
      "state": {
       "width": "90%"
      }
     },
     "4da567054b104856b04dfc5cd0f652bc": {
      "model_module": "@jupyter-widgets/controls",
      "model_module_version": "1.5.0",
      "model_name": "TextareaModel",
      "state": {
       "description": "String:",
       "layout": "IPY_MODEL_b95ea88fa3144f72a598183663906de9",
       "placeholder": "Type something",
       "style": "IPY_MODEL_da5ab9a626e34a3b909fe18596ee5388"
      }
     },
     "4dad7f450f454fe1972040f7d6858663": {
      "model_module": "@jupyter-widgets/base",
      "model_module_version": "1.2.0",
      "model_name": "LayoutModel",
      "state": {
       "width": "90%"
      }
     },
     "4db6ce9c3b84433d86378aa5937a491b": {
      "model_module": "@jupyter-widgets/base",
      "model_module_version": "1.2.0",
      "model_name": "LayoutModel",
      "state": {}
     },
     "4dbd30fbd0f64f31b333d604cb04e880": {
      "model_module": "@jupyter-widgets/controls",
      "model_module_version": "1.5.0",
      "model_name": "ButtonStyleModel",
      "state": {}
     },
     "4dcafefcae1a4ab085dd3816eb121438": {
      "model_module": "@jupyter-widgets/base",
      "model_module_version": "1.2.0",
      "model_name": "LayoutModel",
      "state": {
       "width": "90%"
      }
     },
     "4df523dff7204906a8f0dbc5121c50b2": {
      "model_module": "@jupyter-widgets/base",
      "model_module_version": "1.2.0",
      "model_name": "LayoutModel",
      "state": {}
     },
     "4e070f93a9424478b01b1040a4802333": {
      "model_module": "@jupyter-widgets/controls",
      "model_module_version": "1.5.0",
      "model_name": "DescriptionStyleModel",
      "state": {
       "description_width": ""
      }
     },
     "4e09c3651e5a45b6ad354d1650be8d77": {
      "model_module": "@jupyter-widgets/controls",
      "model_module_version": "1.5.0",
      "model_name": "ButtonStyleModel",
      "state": {}
     },
     "4e1588601de3454bb5bcb80e169af3c6": {
      "model_module": "@jupyter-widgets/controls",
      "model_module_version": "1.5.0",
      "model_name": "DescriptionStyleModel",
      "state": {
       "description_width": ""
      }
     },
     "4e262ece72de445cb097fa1aff817ced": {
      "model_module": "@jupyter-widgets/controls",
      "model_module_version": "1.5.0",
      "model_name": "DescriptionStyleModel",
      "state": {
       "description_width": ""
      }
     },
     "4e27dc044c2c4e8bbbb26dc7f1b0731c": {
      "model_module": "@jupyter-widgets/controls",
      "model_module_version": "1.5.0",
      "model_name": "HBoxModel",
      "state": {
       "children": [
        "IPY_MODEL_f93f950247cf4c59a1f3c298ab388279",
        "IPY_MODEL_1a4ea111c8d043e595451dcd3ad626ab"
       ],
       "layout": "IPY_MODEL_4df523dff7204906a8f0dbc5121c50b2"
      }
     },
     "4e28064a06a44b55a64379971f6fdbc7": {
      "model_module": "@jupyter-widgets/controls",
      "model_module_version": "1.5.0",
      "model_name": "HBoxModel",
      "state": {
       "children": [
        "IPY_MODEL_963c41fb046246c2b8d23a6a24475f2c",
        "IPY_MODEL_613660c1ddc541fead44b4cc72b31e49"
       ],
       "layout": "IPY_MODEL_600bf27fdcd84d708acab23d51cbf067"
      }
     },
     "4e2da10dc8a5469e9e9f1083a0fbf169": {
      "model_module": "@jupyter-widgets/controls",
      "model_module_version": "1.5.0",
      "model_name": "LabelModel",
      "state": {
       "layout": "IPY_MODEL_3adffa2cdec547d0b47051a7fd7fc004",
       "style": "IPY_MODEL_ab65be590a374a6697aa8e41d2a1ae8e"
      }
     },
     "4e308cfc2cfe464eb1a67b80a08010a9": {
      "model_module": "@jupyter-widgets/controls",
      "model_module_version": "1.5.0",
      "model_name": "HBoxModel",
      "state": {
       "children": [
        "IPY_MODEL_e518cc13147e4697a7eccb7d98705a74",
        "IPY_MODEL_97b99504f4524fbba8bc5ba98ae2f227"
       ],
       "layout": "IPY_MODEL_2c2411dc34684036a3c9d78ecfc3d805"
      }
     },
     "4e3217726dbc41a79f088d45e12a075a": {
      "model_module": "@jupyter-widgets/base",
      "model_module_version": "1.2.0",
      "model_name": "LayoutModel",
      "state": {
       "width": "5%"
      }
     },
     "4e346104a52e4bb1bc198f7ae7cc605e": {
      "model_module": "@jupyter-widgets/controls",
      "model_module_version": "1.5.0",
      "model_name": "TextareaModel",
      "state": {
       "description": "String:",
       "layout": "IPY_MODEL_b40e34bdf4c84133a419cf23270ca430",
       "placeholder": "Type something",
       "style": "IPY_MODEL_ce936241f1f04d4683165652cf64c864"
      }
     },
     "4e4624d9ba254cd9b4124d91abc4a9f4": {
      "model_module": "@jupyter-widgets/base",
      "model_module_version": "1.2.0",
      "model_name": "LayoutModel",
      "state": {}
     },
     "4e536327d6a54baf81329c7704184628": {
      "model_module": "@jupyter-widgets/base",
      "model_module_version": "1.2.0",
      "model_name": "LayoutModel",
      "state": {}
     },
     "4e56b6150e00471cb083d9c491f584f0": {
      "model_module": "@jupyter-widgets/controls",
      "model_module_version": "1.5.0",
      "model_name": "LabelModel",
      "state": {
       "layout": "IPY_MODEL_9226023cefce46faa9ed3393ee278689",
       "style": "IPY_MODEL_e7b43c22b4dd4220a093942f422df5c3"
      }
     },
     "4e5b9bb70e69404aab27092add850a79": {
      "model_module": "@jupyter-widgets/output",
      "model_module_version": "1.0.0",
      "model_name": "OutputModel",
      "state": {
       "layout": "IPY_MODEL_0a3bc915a617456b89fe3882ad74aa94",
       "outputs": [
        {
         "ename": "SyntaxError",
         "evalue": "invalid syntax (<string>, line 1)",
         "output_type": "error",
         "traceback": [
          "\u001b[0;36m  File \u001b[0;32m\"<string>\"\u001b[0;36m, line \u001b[0;32m1\u001b[0m\n\u001b[0;31m    %matplotlib inline\u001b[0m\n\u001b[0m    ^\u001b[0m\n\u001b[0;31mSyntaxError\u001b[0m\u001b[0;31m:\u001b[0m invalid syntax\n"
         ]
        }
       ]
      }
     },
     "4e6cfb2cf64f4065830c2ccbdde87902": {
      "model_module": "@jupyter-widgets/controls",
      "model_module_version": "1.5.0",
      "model_name": "DescriptionStyleModel",
      "state": {
       "description_width": ""
      }
     },
     "4e9bc200e7454d6f94a5eca77d3f1a28": {
      "model_module": "@jupyter-widgets/controls",
      "model_module_version": "1.5.0",
      "model_name": "DescriptionStyleModel",
      "state": {
       "description_width": ""
      }
     },
     "4ec8cffdde214e5183a4e7367c805f58": {
      "model_module": "@jupyter-widgets/controls",
      "model_module_version": "1.5.0",
      "model_name": "TextareaModel",
      "state": {
       "description": "Answer:",
       "layout": "IPY_MODEL_470e8adf400d4501a64f6e35a251c9a2",
       "placeholder": "Type something",
       "style": "IPY_MODEL_13c7aad4f71e43b48c906a795628e30e"
      }
     },
     "4ee5959d464c42cdb3ab8d995662e41e": {
      "model_module": "@jupyter-widgets/output",
      "model_module_version": "1.0.0",
      "model_name": "OutputModel",
      "state": {
       "layout": "IPY_MODEL_1194bc7c4105429485027ce6162c7ef3"
      }
     },
     "4eef617d85b84285a4168a0a8e8d2514": {
      "model_module": "@jupyter-widgets/output",
      "model_module_version": "1.0.0",
      "model_name": "OutputModel",
      "state": {
       "layout": "IPY_MODEL_7723f8dbd8804ecbad297fbacb908d56",
       "outputs": [
        {
         "ename": "NameError",
         "evalue": "name 'np' is not defined",
         "output_type": "error",
         "traceback": [
          "\u001b[0;31m---------------------------------------------------------------------------\u001b[0m",
          "\u001b[0;31mNameError\u001b[0m                                 Traceback (most recent call last)",
          "\u001b[0;32m<ipython-input-5-e87f74a96b0a>\u001b[0m in \u001b[0;36mexec_code\u001b[0;34m(b)\u001b[0m\n\u001b[1;32m     69\u001b[0m                 \u001b[0;32mwith\u001b[0m \u001b[0mwidgout\u001b[0m\u001b[0;34m:\u001b[0m\u001b[0;34m\u001b[0m\u001b[0;34m\u001b[0m\u001b[0m\n\u001b[1;32m     70\u001b[0m                     \u001b[0mget_ipython\u001b[0m\u001b[0;34m(\u001b[0m\u001b[0;34m)\u001b[0m\u001b[0;34m.\u001b[0m\u001b[0mrun_line_magic\u001b[0m\u001b[0;34m(\u001b[0m\u001b[0;34m'matplotlib'\u001b[0m\u001b[0;34m,\u001b[0m \u001b[0;34m'notebook '\u001b[0m\u001b[0;34m)\u001b[0m\u001b[0;34m\u001b[0m\u001b[0;34m\u001b[0m\u001b[0m\n\u001b[0;32m---> 71\u001b[0;31m                     \u001b[0mexec\u001b[0m\u001b[0;34m(\u001b[0m\u001b[0mwidg\u001b[0m\u001b[0;34m.\u001b[0m\u001b[0mvalue\u001b[0m\u001b[0;34m)\u001b[0m\u001b[0;34m\u001b[0m\u001b[0;34m\u001b[0m\u001b[0m\n\u001b[0m\u001b[1;32m     72\u001b[0m             \u001b[0mwidgcb\u001b[0m\u001b[0;34m.\u001b[0m\u001b[0mon_click\u001b[0m\u001b[0;34m(\u001b[0m\u001b[0mexec_code\u001b[0m\u001b[0;34m)\u001b[0m\u001b[0;34m\u001b[0m\u001b[0;34m\u001b[0m\u001b[0m\n\u001b[1;32m     73\u001b[0m \u001b[0;34m\u001b[0m\u001b[0m\n",
          "\u001b[0;32m<string>\u001b[0m in \u001b[0;36m<module>\u001b[0;34m\u001b[0m\n",
          "\u001b[0;31mNameError\u001b[0m: name 'np' is not defined"
         ]
        }
       ]
      }
     },
     "4effcbdf94674afdbfb11e7a80b93063": {
      "model_module": "@jupyter-widgets/base",
      "model_module_version": "1.2.0",
      "model_name": "LayoutModel",
      "state": {}
     },
     "4f220c08a4894105a301aae1794ba107": {
      "model_module": "@jupyter-widgets/base",
      "model_module_version": "1.2.0",
      "model_name": "LayoutModel",
      "state": {}
     },
     "4f293feaa2c34c79b8fa12dabf3e67eb": {
      "model_module": "@jupyter-widgets/controls",
      "model_module_version": "1.5.0",
      "model_name": "TextareaModel",
      "state": {
       "description": "String:",
       "layout": "IPY_MODEL_0f55396459274d1080538d25f03a93d0",
       "placeholder": "Type something",
       "style": "IPY_MODEL_f450ba83194b4102970c417ea46c3c92"
      }
     },
     "4f3c6a9ab9cb4780b1f33060f2e0cea3": {
      "model_module": "@jupyter-widgets/controls",
      "model_module_version": "1.5.0",
      "model_name": "HBoxModel",
      "state": {
       "children": [
        "IPY_MODEL_233eb78d51554cf89d49118dc516e790",
        "IPY_MODEL_13402f20d4f54e9fae390f777ad5b269"
       ],
       "layout": "IPY_MODEL_8c120995151e4fff8cadec3c3097e327"
      }
     },
     "4f55457e3d0e43779c110b560976dd88": {
      "model_module": "@jupyter-widgets/controls",
      "model_module_version": "1.5.0",
      "model_name": "DescriptionStyleModel",
      "state": {
       "description_width": ""
      }
     },
     "4f62d7f2628941719f55ea2146c214f6": {
      "model_module": "@jupyter-widgets/controls",
      "model_module_version": "1.5.0",
      "model_name": "TextareaModel",
      "state": {
       "description": "String:",
       "layout": "IPY_MODEL_2e61f5a71b5249188c0450d78fac57d8",
       "placeholder": "Type something",
       "style": "IPY_MODEL_ae5d2c8768874731aa1ba0227c6f8609"
      }
     },
     "4f77aab0c86e4e4196d8d34570aac3af": {
      "model_module": "@jupyter-widgets/controls",
      "model_module_version": "1.5.0",
      "model_name": "HBoxModel",
      "state": {
       "children": [
        "IPY_MODEL_7656c822187645b38a03795b13a9dcb7",
        "IPY_MODEL_b9867eefeda7405e9c4f6fc57f7126aa"
       ],
       "layout": "IPY_MODEL_7e457b5110c54df89a9f6897c33e8a99"
      }
     },
     "4fc69b7a1a4046a1925c0c1ca59518b8": {
      "model_module": "@jupyter-widgets/controls",
      "model_module_version": "1.5.0",
      "model_name": "DescriptionStyleModel",
      "state": {
       "description_width": ""
      }
     },
     "4fd1912d015b4e1c9459fba3f41946a0": {
      "model_module": "@jupyter-widgets/base",
      "model_module_version": "1.2.0",
      "model_name": "LayoutModel",
      "state": {}
     },
     "50139d20ded24d72bb6dc5524b315a7e": {
      "model_module": "@jupyter-widgets/controls",
      "model_module_version": "1.5.0",
      "model_name": "HBoxModel",
      "state": {
       "children": [
        "IPY_MODEL_bb2e0f085b614ad18162dda5a22ca7d2",
        "IPY_MODEL_f0d264a32f9841b5a4d4637c6df0669d"
       ],
       "layout": "IPY_MODEL_5b39b8eb8971486c88c888aa990b7d97"
      }
     },
     "5019557bf312495aa8bca00758c762d8": {
      "model_module": "@jupyter-widgets/base",
      "model_module_version": "1.2.0",
      "model_name": "LayoutModel",
      "state": {}
     },
     "5019f495b8fa4e09b6452a9ea406cb20": {
      "model_module": "@jupyter-widgets/output",
      "model_module_version": "1.0.0",
      "model_name": "OutputModel",
      "state": {
       "layout": "IPY_MODEL_671c6d0519514a379ca458ca5860fc3a",
       "outputs": [
        {
         "name": "stdout",
         "output_type": "stream",
         "text": "The output works\nprint('here')\n"
        }
       ]
      }
     },
     "50386acaf48f4feeae3c51bbc854bb3b": {
      "model_module": "@jupyter-widgets/controls",
      "model_module_version": "1.5.0",
      "model_name": "ButtonModel",
      "state": {
       "description": "Test Code",
       "layout": "IPY_MODEL_cabd0022da7641e8b0391afb536440d5",
       "style": "IPY_MODEL_ba60b4c9dea540f48f8d300ebc09bbca",
       "tooltip": "Click to test your code"
      }
     },
     "5040ffaa4bc74e2885297b9e3ad478c0": {
      "model_module": "@jupyter-widgets/base",
      "model_module_version": "1.2.0",
      "model_name": "LayoutModel",
      "state": {}
     },
     "508198b99db7430fae39ff920569e069": {
      "model_module": "@jupyter-widgets/base",
      "model_module_version": "1.2.0",
      "model_name": "LayoutModel",
      "state": {}
     },
     "50ae5ca4f83c451cb12b44c21d77c578": {
      "model_module": "@jupyter-widgets/base",
      "model_module_version": "1.2.0",
      "model_name": "LayoutModel",
      "state": {}
     },
     "50d18470644e4eeea52c0e6c9ad5af61": {
      "model_module": "@jupyter-widgets/controls",
      "model_module_version": "1.5.0",
      "model_name": "HBoxModel",
      "state": {
       "children": [
        "IPY_MODEL_8baddabf95bf489195cc28a9823507bd",
        "IPY_MODEL_bcffe78e4b344477a950baa077d62f89"
       ],
       "layout": "IPY_MODEL_2c3221db70a444eface2f2780a1c2370"
      }
     },
     "50d65f33d4634b86bc85476f5e511394": {
      "model_module": "@jupyter-widgets/controls",
      "model_module_version": "1.5.0",
      "model_name": "TextareaModel",
      "state": {
       "description": "Code:",
       "layout": "IPY_MODEL_23e2e3c1ee6444d1859b6e1a35bb06ce",
       "placeholder": "Type code here",
       "style": "IPY_MODEL_5bf5c59b444f4afc8d68e2d85f3375c6"
      }
     },
     "50e31e3f531e435bbe7106929f3ec539": {
      "model_module": "@jupyter-widgets/base",
      "model_module_version": "1.2.0",
      "model_name": "LayoutModel",
      "state": {}
     },
     "50e44c5219544f20be6db35133f9b20b": {
      "model_module": "@jupyter-widgets/controls",
      "model_module_version": "1.5.0",
      "model_name": "TextareaModel",
      "state": {
       "description": "Code:",
       "layout": "IPY_MODEL_44fcc3c2109e4cc7889de3cf650c8277",
       "placeholder": "Type code here",
       "style": "IPY_MODEL_eaafcd826b4346338d0351bddee7c660",
       "value": "for n in range(0, 10):\n  print(n)"
      }
     },
     "50e90e55ccc548e3a734abdd28c2e5fb": {
      "model_module": "@jupyter-widgets/base",
      "model_module_version": "1.2.0",
      "model_name": "LayoutModel",
      "state": {
       "width": "90%"
      }
     },
     "5104c322b6ed40b5ae1534d2bf27a3c5": {
      "model_module": "@jupyter-widgets/controls",
      "model_module_version": "1.5.0",
      "model_name": "HBoxModel",
      "state": {
       "children": [
        "IPY_MODEL_64a672c7e1974a8d8b94badbe2d1cc70",
        "IPY_MODEL_2ce0647a2dc44b24b5af4e0001108662"
       ],
       "layout": "IPY_MODEL_cbe5f119fe504ab2b8dd2efa9213b5fb"
      }
     },
     "510a2b427f47459b9b25bed1e7215f02": {
      "model_module": "@jupyter-widgets/controls",
      "model_module_version": "1.5.0",
      "model_name": "DescriptionStyleModel",
      "state": {
       "description_width": ""
      }
     },
     "511a66a4cf5748fb9d0431860c724c03": {
      "model_module": "@jupyter-widgets/controls",
      "model_module_version": "1.5.0",
      "model_name": "LabelModel",
      "state": {
       "layout": "IPY_MODEL_152e3318e31544d2a155390329966bd7",
       "style": "IPY_MODEL_8d47f491d07c4f5bb3eec245aaddf1ae"
      }
     },
     "515d53d747a548cb8fce0d638aeeb508": {
      "model_module": "@jupyter-widgets/controls",
      "model_module_version": "1.5.0",
      "model_name": "DescriptionStyleModel",
      "state": {
       "description_width": ""
      }
     },
     "515e0059528443e09f7909f6d33669ec": {
      "model_module": "@jupyter-widgets/output",
      "model_module_version": "1.0.0",
      "model_name": "OutputModel",
      "state": {
       "layout": "IPY_MODEL_3c48cc5b0af340d682d7a768f6496c2f"
      }
     },
     "516b3589e25f452e803518e1e8a60d52": {
      "model_module": "@jupyter-widgets/controls",
      "model_module_version": "1.5.0",
      "model_name": "LabelModel",
      "state": {
       "layout": "IPY_MODEL_7b52802a95f94f3c94f1a044a807e251",
       "style": "IPY_MODEL_dbb6a710bcfc4aaf9e6c268e58dfd1b4"
      }
     },
     "516bd0fd17c84a86a60f205e4b646cd1": {
      "model_module": "@jupyter-widgets/controls",
      "model_module_version": "1.5.0",
      "model_name": "DescriptionStyleModel",
      "state": {
       "description_width": ""
      }
     },
     "517e9004472b402982b1b1703b273b23": {
      "model_module": "@jupyter-widgets/controls",
      "model_module_version": "1.5.0",
      "model_name": "ButtonModel",
      "state": {
       "description": "Run Code",
       "layout": "IPY_MODEL_7a98a56fda044a8fb611ea0d1c1a6e72",
       "style": "IPY_MODEL_01efbcf25dc540a7875063381613c794",
       "tooltip": "Click to test your code"
      }
     },
     "517f1b5a05c842f89129c4398d9fe94d": {
      "model_module": "@jupyter-widgets/controls",
      "model_module_version": "1.5.0",
      "model_name": "LabelModel",
      "state": {
       "layout": "IPY_MODEL_3512e9e09f404f3d98ddde4c275a6444",
       "style": "IPY_MODEL_fa5266f1d8d344b0ab92c16bbb6240fd"
      }
     },
     "51a43e68c00a4401b106d533a4bd8d4f": {
      "model_module": "@jupyter-widgets/base",
      "model_module_version": "1.2.0",
      "model_name": "LayoutModel",
      "state": {
       "width": "5%"
      }
     },
     "51b0987f40d8495dad7b316e8aabe480": {
      "model_module": "@jupyter-widgets/controls",
      "model_module_version": "1.5.0",
      "model_name": "HBoxModel",
      "state": {
       "children": [
        "IPY_MODEL_49017db6224344d086fd90fa8f65811f",
        "IPY_MODEL_db985567f2dd469ab9097071f24d66a0"
       ],
       "layout": "IPY_MODEL_247332c292aa48828f7c610b72fcecf3"
      }
     },
     "51bb30f8cc78403cb4959c70ed882c4c": {
      "model_module": "@jupyter-widgets/base",
      "model_module_version": "1.2.0",
      "model_name": "LayoutModel",
      "state": {
       "width": "90%"
      }
     },
     "51fea5c3410d42a0a6cae8f0e05a19c8": {
      "model_module": "@jupyter-widgets/controls",
      "model_module_version": "1.5.0",
      "model_name": "DescriptionStyleModel",
      "state": {
       "description_width": ""
      }
     },
     "52031cdc034f4c60941731927aea5655": {
      "model_module": "@jupyter-widgets/base",
      "model_module_version": "1.2.0",
      "model_name": "LayoutModel",
      "state": {
       "width": "5%"
      }
     },
     "520979970d0141bdbc23b831a9f29f80": {
      "model_module": "@jupyter-widgets/base",
      "model_module_version": "1.2.0",
      "model_name": "LayoutModel",
      "state": {
       "width": "5%"
      }
     },
     "5219a07b89a04ef1bbb563c9909dd335": {
      "model_module": "@jupyter-widgets/base",
      "model_module_version": "1.2.0",
      "model_name": "LayoutModel",
      "state": {
       "width": "5%"
      }
     },
     "523729ad5fc24025bbcadc47574ca988": {
      "model_module": "@jupyter-widgets/controls",
      "model_module_version": "1.5.0",
      "model_name": "HBoxModel",
      "state": {
       "children": [
        "IPY_MODEL_608d62b841094bfe9fc341a328f5539d",
        "IPY_MODEL_57b49fa19d6d42adb85e46e7f0bfea5b"
       ],
       "layout": "IPY_MODEL_d1bf4d6df5464c5d8a1593ba71da51de"
      }
     },
     "523ac20036a84566ac437e5efea9d9af": {
      "model_module": "@jupyter-widgets/base",
      "model_module_version": "1.2.0",
      "model_name": "LayoutModel",
      "state": {}
     },
     "525703a3c4f24cb8a3af565cedd982cc": {
      "model_module": "@jupyter-widgets/controls",
      "model_module_version": "1.5.0",
      "model_name": "DescriptionStyleModel",
      "state": {
       "description_width": ""
      }
     },
     "525d3a5b413945b088ebd632d5e36b98": {
      "model_module": "@jupyter-widgets/controls",
      "model_module_version": "1.5.0",
      "model_name": "RadioButtonsModel",
      "state": {
       "_options_labels": [
        "a. The Coulomb potential",
        "b. Mental anguish",
        "c. Propagating electromagnetic waves",
        "d. More charges"
       ],
       "index": 0,
       "layout": "IPY_MODEL_0a13d346171042178e5a96b8806f2909",
       "style": "IPY_MODEL_7dde80d3c6fd4198b4ac7af9ecc5f3c1"
      }
     },
     "527a9746d4dd41c6b4ebb43f25a9f09e": {
      "model_module": "@jupyter-widgets/controls",
      "model_module_version": "1.5.0",
      "model_name": "HBoxModel",
      "state": {
       "children": [
        "IPY_MODEL_eeb55106626a449dac389210f1768202",
        "IPY_MODEL_74713b5990194cb0a936a348c71a11e2"
       ],
       "layout": "IPY_MODEL_0924900875434aa0a3657bc61257c2a9"
      }
     },
     "529265679e984401a1a0a294e3ac318b": {
      "model_module": "@jupyter-widgets/controls",
      "model_module_version": "1.5.0",
      "model_name": "DescriptionStyleModel",
      "state": {
       "description_width": ""
      }
     },
     "529eb3340ed84a8b9049c88e694b6462": {
      "model_module": "@jupyter-widgets/controls",
      "model_module_version": "1.5.0",
      "model_name": "RadioButtonsModel",
      "state": {
       "_options_labels": [
        "a. The electric field",
        "b. The charge density",
        "c. The current density",
        "d. Both b and c"
       ],
       "index": 0,
       "layout": "IPY_MODEL_12c987fc1ffa433385f59acfd7950b91",
       "style": "IPY_MODEL_1babfbb2918c4a4789d33e6a67738306"
      }
     },
     "52a38ba0c6d64d59b9ad60f43c2e9ad0": {
      "model_module": "@jupyter-widgets/controls",
      "model_module_version": "1.5.0",
      "model_name": "RadioButtonsModel",
      "state": {
       "_options_labels": [
        "a. Bite-sized pieces",
        "b. Frequency components",
        "c. A power series in small displacements",
        "d. Absolute values"
       ],
       "index": 0,
       "layout": "IPY_MODEL_2ce9ef9830aa4734b73b8b0a4c11b19f",
       "style": "IPY_MODEL_903c37adad2645a7ae77a7575adee1c7"
      }
     },
     "52b57b6380b94813a0a577929722f61d": {
      "model_module": "@jupyter-widgets/base",
      "model_module_version": "1.2.0",
      "model_name": "LayoutModel",
      "state": {
       "width": "90%"
      }
     },
     "52c3c8797377472ea1c0a9eff15fc993": {
      "model_module": "@jupyter-widgets/controls",
      "model_module_version": "1.5.0",
      "model_name": "LabelModel",
      "state": {
       "layout": "IPY_MODEL_472e7bd85ff547f49a2011d5a0d19c5c",
       "style": "IPY_MODEL_c5477f244d0142b2b2d41d3f39eb4387"
      }
     },
     "52c68781ffd649409d1152c0b1a78177": {
      "model_module": "@jupyter-widgets/controls",
      "model_module_version": "1.5.0",
      "model_name": "VBoxModel",
      "state": {
       "children": [
        "IPY_MODEL_7ec3f6e6981747ef8f6e356fcaafd72d",
        "IPY_MODEL_3063984450444c84b415ef8e5692ee9e"
       ],
       "layout": "IPY_MODEL_57198c0c10a740bab7026805b6fcb9d1"
      }
     },
     "52dbc1eafdf54373b75f26ef7fbf51be": {
      "model_module": "@jupyter-widgets/controls",
      "model_module_version": "1.5.0",
      "model_name": "RadioButtonsModel",
      "state": {
       "_options_labels": [
        "a. Diverges",
        "b. Converges",
        "c. Implodes",
        "d. Extrapolates"
       ],
       "index": 0,
       "layout": "IPY_MODEL_8d72737d41064516ba0b70f621c29593",
       "style": "IPY_MODEL_29a9f78326ca4752927f249f4af162b5"
      }
     },
     "52e171b1bf584fe38a969132662bd9ce": {
      "model_module": "@jupyter-widgets/controls",
      "model_module_version": "1.5.0",
      "model_name": "ButtonStyleModel",
      "state": {}
     },
     "52f61aa238274538916403d7d2388b89": {
      "model_module": "@jupyter-widgets/base",
      "model_module_version": "1.2.0",
      "model_name": "LayoutModel",
      "state": {}
     },
     "52f92b6ec8284a7083c2369012451b5c": {
      "model_module": "@jupyter-widgets/controls",
      "model_module_version": "1.5.0",
      "model_name": "RadioButtonsModel",
      "state": {
       "_options_labels": [
        "a. Polarization",
        "b. Phase",
        "c. Frequency",
        "d. Propagation axis"
       ],
       "index": 0,
       "layout": "IPY_MODEL_713d3177ae6d46ecb0dcbcdb58483623",
       "style": "IPY_MODEL_dc5b32afd89e426fb164bcd11681bb59"
      }
     },
     "531613874c4647589594a0c726b6eac3": {
      "model_module": "@jupyter-widgets/controls",
      "model_module_version": "1.5.0",
      "model_name": "DescriptionStyleModel",
      "state": {
       "description_width": ""
      }
     },
     "53331ce0be49481d900f98aaaa2428ce": {
      "model_module": "@jupyter-widgets/controls",
      "model_module_version": "1.5.0",
      "model_name": "DescriptionStyleModel",
      "state": {
       "description_width": ""
      }
     },
     "53358075fe3a457b9b5d9b4ed4e5393b": {
      "model_module": "@jupyter-widgets/base",
      "model_module_version": "1.2.0",
      "model_name": "LayoutModel",
      "state": {
       "width": "90%"
      }
     },
     "5356568bacd743d98f3a6643ef944977": {
      "model_module": "@jupyter-widgets/base",
      "model_module_version": "1.2.0",
      "model_name": "LayoutModel",
      "state": {
       "width": "5%"
      }
     },
     "538e5b9ffb0b4b42bc3832333744475d": {
      "model_module": "@jupyter-widgets/controls",
      "model_module_version": "1.5.0",
      "model_name": "DescriptionStyleModel",
      "state": {
       "description_width": ""
      }
     },
     "539e4bd6368647febfdd8cdeac280a0b": {
      "model_module": "@jupyter-widgets/controls",
      "model_module_version": "1.5.0",
      "model_name": "DescriptionStyleModel",
      "state": {
       "description_width": ""
      }
     },
     "53b6bda8a25b4191a2b718f058ffdf92": {
      "model_module": "@jupyter-widgets/base",
      "model_module_version": "1.2.0",
      "model_name": "LayoutModel",
      "state": {
       "width": "90%"
      }
     },
     "53c33d0ebd18416386c8a1795f8d9046": {
      "model_module": "@jupyter-widgets/controls",
      "model_module_version": "1.5.0",
      "model_name": "HBoxModel",
      "state": {
       "children": [
        "IPY_MODEL_28b0f65cea684738abfab65ff9632b5a",
        "IPY_MODEL_c7e1c3f8c86f4ed1bc725e25fecb7324"
       ],
       "layout": "IPY_MODEL_9f0b481a67b14e11ab77ac8a2c7ad754"
      }
     },
     "53ca1e8beb0442a193593116c5b81a23": {
      "model_module": "@jupyter-widgets/controls",
      "model_module_version": "1.5.0",
      "model_name": "HBoxModel",
      "state": {
       "children": [
        "IPY_MODEL_fb32e2b522614d8f98a28e08dd9566a5",
        "IPY_MODEL_c21bd7c6e3e943c0b30afcc20bf73c43"
       ],
       "layout": "IPY_MODEL_73c58a7a896b4e7a932968e4defbf074"
      }
     },
     "540826ef9580416180ad4b7c5fe8eea6": {
      "model_module": "@jupyter-widgets/controls",
      "model_module_version": "1.5.0",
      "model_name": "ButtonStyleModel",
      "state": {}
     },
     "541e21f63e7a483a8bfa72e1db990842": {
      "model_module": "@jupyter-widgets/controls",
      "model_module_version": "1.5.0",
      "model_name": "HBoxModel",
      "state": {
       "children": [
        "IPY_MODEL_ebd58f9974ce472e9b45237dc9645f0b",
        "IPY_MODEL_d697d5cb30874b21a7014e6303986c3b"
       ],
       "layout": "IPY_MODEL_41146f801c054f329ede2c6b95ea2c26"
      }
     },
     "5431f854bdc64349aca81cf7b1142774": {
      "model_module": "@jupyter-widgets/controls",
      "model_module_version": "1.5.0",
      "model_name": "ButtonModel",
      "state": {
       "description": "Test Code",
       "layout": "IPY_MODEL_be06e23a7d73424f91cda4c7afcbe8c7",
       "style": "IPY_MODEL_ebdd00fd05464274bbd96db2ed58e621",
       "tooltip": "Click to test your code"
      }
     },
     "5470f5529ba6437dbff69c17fa8511f1": {
      "model_module": "@jupyter-widgets/controls",
      "model_module_version": "1.5.0",
      "model_name": "RadioButtonsModel",
      "state": {
       "_options_labels": [
        "True",
        "False"
       ],
       "index": 0,
       "layout": "IPY_MODEL_72e96c3f12b44b8e8b78536104f744e4",
       "style": "IPY_MODEL_edcaf0fb95b64d1d8f767b1c988f9787"
      }
     },
     "54809998ec3d4cc59cfbd4cf4cf93cd1": {
      "model_module": "@jupyter-widgets/controls",
      "model_module_version": "1.5.0",
      "model_name": "HBoxModel",
      "state": {
       "children": [
        "IPY_MODEL_dbde11f9e7e14545a20679680e4080a9",
        "IPY_MODEL_02c6225720e4430cafd46db1b3ca2df1"
       ],
       "layout": "IPY_MODEL_0915991fd1614768ac5e7438823a1666"
      }
     },
     "5487f6304f3e4e489cd0cfbfb8d8572d": {
      "model_module": "@jupyter-widgets/base",
      "model_module_version": "1.2.0",
      "model_name": "LayoutModel",
      "state": {}
     },
     "548ab9405ead44ed8da7ead1b5965358": {
      "model_module": "@jupyter-widgets/base",
      "model_module_version": "1.2.0",
      "model_name": "LayoutModel",
      "state": {
       "width": "90%"
      }
     },
     "54b84086c1d647f9852439533c4bcccd": {
      "model_module": "@jupyter-widgets/controls",
      "model_module_version": "1.5.0",
      "model_name": "DescriptionStyleModel",
      "state": {
       "description_width": ""
      }
     },
     "54bc57c61af0482498429902f08ca30a": {
      "model_module": "@jupyter-widgets/controls",
      "model_module_version": "1.5.0",
      "model_name": "HBoxModel",
      "state": {
       "children": [
        "IPY_MODEL_98b37244b6424b2fbb30da8b90ac3337",
        "IPY_MODEL_8aff8fa018e54069abac00b1c6421f85"
       ],
       "layout": "IPY_MODEL_fcb27d6aff5f4d44b3c7ba6f27c5c915"
      }
     },
     "54d231ba99a44d5d9f51e389280e979a": {
      "model_module": "@jupyter-widgets/controls",
      "model_module_version": "1.5.0",
      "model_name": "LabelModel",
      "state": {
       "layout": "IPY_MODEL_a1b1c9ad5df84d3a8dc34668fe38609a",
       "style": "IPY_MODEL_d541ed0273f84c509997a60555636029"
      }
     },
     "54ef3cddbe584d1895e0742356c3be32": {
      "model_module": "@jupyter-widgets/controls",
      "model_module_version": "1.5.0",
      "model_name": "DescriptionStyleModel",
      "state": {
       "description_width": ""
      }
     },
     "54fd8b5e4e014ba99fee985b50519beb": {
      "model_module": "@jupyter-widgets/base",
      "model_module_version": "1.2.0",
      "model_name": "LayoutModel",
      "state": {
       "width": "90%"
      }
     },
     "552469612a8f416480a5d357e00b3d07": {
      "model_module": "@jupyter-widgets/controls",
      "model_module_version": "1.5.0",
      "model_name": "DescriptionStyleModel",
      "state": {
       "description_width": ""
      }
     },
     "552a793acaa04f09ac7e9d044792a4f5": {
      "model_module": "@jupyter-widgets/controls",
      "model_module_version": "1.5.0",
      "model_name": "DescriptionStyleModel",
      "state": {
       "description_width": ""
      }
     },
     "558461b68c7045f4ab127c9b351e5c14": {
      "model_module": "@jupyter-widgets/base",
      "model_module_version": "1.2.0",
      "model_name": "LayoutModel",
      "state": {
       "width": "5%"
      }
     },
     "55a0772cdd1c4535b817b1633afa1c60": {
      "model_module": "@jupyter-widgets/base",
      "model_module_version": "1.2.0",
      "model_name": "LayoutModel",
      "state": {
       "width": "90%"
      }
     },
     "55b98df6511142d58221c9796fccb062": {
      "model_module": "@jupyter-widgets/base",
      "model_module_version": "1.2.0",
      "model_name": "LayoutModel",
      "state": {}
     },
     "55ead108632540c3a66df750a32c368a": {
      "model_module": "@jupyter-widgets/base",
      "model_module_version": "1.2.0",
      "model_name": "LayoutModel",
      "state": {
       "width": "5%"
      }
     },
     "55fc717b94db463887e29bd51e8ee19b": {
      "model_module": "@jupyter-widgets/controls",
      "model_module_version": "1.5.0",
      "model_name": "DescriptionStyleModel",
      "state": {
       "description_width": ""
      }
     },
     "56017f5cb56241b5bfbbf3f19c8f2f3b": {
      "model_module": "@jupyter-widgets/base",
      "model_module_version": "1.2.0",
      "model_name": "LayoutModel",
      "state": {
       "width": "5%"
      }
     },
     "5627b940ceb34973abb5e066e7f75094": {
      "model_module": "@jupyter-widgets/controls",
      "model_module_version": "1.5.0",
      "model_name": "DescriptionStyleModel",
      "state": {
       "description_width": ""
      }
     },
     "5627f44c88364254a307507a4e7cba69": {
      "model_module": "@jupyter-widgets/base",
      "model_module_version": "1.2.0",
      "model_name": "LayoutModel",
      "state": {}
     },
     "5635035040ea444ab44261f48c64add1": {
      "model_module": "@jupyter-widgets/controls",
      "model_module_version": "1.5.0",
      "model_name": "TextareaModel",
      "state": {
       "description": "Code:",
       "layout": "IPY_MODEL_ab522a1a3ef747f396ad1fa091551cc9",
       "placeholder": "Type code here",
       "style": "IPY_MODEL_e395208fa9d14e858b804a240ffb3332"
      }
     },
     "56422100c42e4bd186bedd4f0e954e36": {
      "model_module": "@jupyter-widgets/controls",
      "model_module_version": "1.5.0",
      "model_name": "HBoxModel",
      "state": {
       "children": [
        "IPY_MODEL_fb1d9914a8f040b3b959b09e7d31b07c",
        "IPY_MODEL_5f69cbf8d6d84dbd9f0130c4d963d36f"
       ],
       "layout": "IPY_MODEL_481d1389681f426f930b2c3206f04005"
      }
     },
     "564f317ee85741c9b869526fd7d59c8e": {
      "model_module": "@jupyter-widgets/base",
      "model_module_version": "1.2.0",
      "model_name": "LayoutModel",
      "state": {}
     },
     "56512d0aa3e3423995a74daa3f1a5f62": {
      "model_module": "@jupyter-widgets/controls",
      "model_module_version": "1.5.0",
      "model_name": "HBoxModel",
      "state": {
       "children": [
        "IPY_MODEL_d54a2d6983f7400f938095b8f80cc171",
        "IPY_MODEL_aa24e49f09364d7d84225d5b97bd7a45"
       ],
       "layout": "IPY_MODEL_b505df4aa6b74b96b7a7953e78a7d1aa"
      }
     },
     "566d0b0dffe74a01800f7f94022990d5": {
      "model_module": "@jupyter-widgets/output",
      "model_module_version": "1.0.0",
      "model_name": "OutputModel",
      "state": {
       "layout": "IPY_MODEL_aed99e919e9046898b151af903b1a88f"
      }
     },
     "5673719a28ce4e74a0e282295bee1fd2": {
      "model_module": "@jupyter-widgets/controls",
      "model_module_version": "1.5.0",
      "model_name": "DescriptionStyleModel",
      "state": {
       "description_width": ""
      }
     },
     "567ac967a68f466fa477e1355ed07061": {
      "model_module": "@jupyter-widgets/base",
      "model_module_version": "1.2.0",
      "model_name": "LayoutModel",
      "state": {
       "width": "5%"
      }
     },
     "5685193912864ea68c61f99d8799d8b7": {
      "model_module": "@jupyter-widgets/base",
      "model_module_version": "1.2.0",
      "model_name": "LayoutModel",
      "state": {}
     },
     "568871d34c994ddda9cec92c5319d986": {
      "model_module": "@jupyter-widgets/controls",
      "model_module_version": "1.5.0",
      "model_name": "RadioButtonsModel",
      "state": {
       "_options_labels": [
        "a. Maxwell's equations",
        "b. Newton's Equations",
        "c. The boundary conditions",
        "d. A given macrostate"
       ],
       "index": 0,
       "layout": "IPY_MODEL_aec7ae38f8c84218b815fd77f778a99e",
       "style": "IPY_MODEL_a09efd45e8794bd98a291087a30c8185"
      }
     },
     "568f430663354ad5b39cc07d415d461c": {
      "model_module": "@jupyter-widgets/controls",
      "model_module_version": "1.5.0",
      "model_name": "DescriptionStyleModel",
      "state": {
       "description_width": ""
      }
     },
     "56a12e8451c64646971890460972ba39": {
      "model_module": "@jupyter-widgets/controls",
      "model_module_version": "1.5.0",
      "model_name": "DescriptionStyleModel",
      "state": {
       "description_width": ""
      }
     },
     "56a3e964badd465391c1f4d7daf0db69": {
      "model_module": "@jupyter-widgets/base",
      "model_module_version": "1.2.0",
      "model_name": "LayoutModel",
      "state": {}
     },
     "56bbb83493fc4b1794155037d288d193": {
      "model_module": "@jupyter-widgets/controls",
      "model_module_version": "1.5.0",
      "model_name": "DescriptionStyleModel",
      "state": {
       "description_width": ""
      }
     },
     "56bdf5d14aa242e2b3954fd9e543964d": {
      "model_module": "@jupyter-widgets/base",
      "model_module_version": "1.2.0",
      "model_name": "LayoutModel",
      "state": {
       "width": "90%"
      }
     },
     "56c33b9dc4bd481cabb09c7303a26a9b": {
      "model_module": "@jupyter-widgets/base",
      "model_module_version": "1.2.0",
      "model_name": "LayoutModel",
      "state": {}
     },
     "56c3eedd9de542e29b6187a3f835ddce": {
      "model_module": "@jupyter-widgets/controls",
      "model_module_version": "1.5.0",
      "model_name": "LabelModel",
      "state": {
       "layout": "IPY_MODEL_3ebfb478b2b84c21866880255e8461a1",
       "style": "IPY_MODEL_3e18f278fc114471ba575770e177f7f1"
      }
     },
     "56f13210a2a543da93b1047a9b266a99": {
      "model_module": "@jupyter-widgets/controls",
      "model_module_version": "1.5.0",
      "model_name": "DescriptionStyleModel",
      "state": {
       "description_width": ""
      }
     },
     "56f4a2da0ad8452982637331012f50c9": {
      "model_module": "@jupyter-widgets/controls",
      "model_module_version": "1.5.0",
      "model_name": "ButtonStyleModel",
      "state": {}
     },
     "56f56abac0c84519beefdc72555d3c0e": {
      "model_module": "@jupyter-widgets/base",
      "model_module_version": "1.2.0",
      "model_name": "LayoutModel",
      "state": {}
     },
     "57198c0c10a740bab7026805b6fcb9d1": {
      "model_module": "@jupyter-widgets/base",
      "model_module_version": "1.2.0",
      "model_name": "LayoutModel",
      "state": {}
     },
     "57211a988bff43cea5ccae28f56a61c5": {
      "model_module": "@jupyter-widgets/controls",
      "model_module_version": "1.5.0",
      "model_name": "TextareaModel",
      "state": {
       "description": "String:",
       "layout": "IPY_MODEL_97181d67c0034c3386aa0fc1efd28b7f",
       "placeholder": "Type something",
       "style": "IPY_MODEL_6600322bb5ad411a8ce8b2dd7e1257ee"
      }
     },
     "573968ee87d64ab494638b1252764e79": {
      "model_module": "@jupyter-widgets/base",
      "model_module_version": "1.2.0",
      "model_name": "LayoutModel",
      "state": {
       "width": "90%"
      }
     },
     "5748fba3967241a0906816d01fdfc959": {
      "model_module": "@jupyter-widgets/controls",
      "model_module_version": "1.5.0",
      "model_name": "DescriptionStyleModel",
      "state": {
       "description_width": ""
      }
     },
     "5770af37a770484f816d4bd286165582": {
      "model_module": "@jupyter-widgets/controls",
      "model_module_version": "1.5.0",
      "model_name": "HBoxModel",
      "state": {
       "children": [
        "IPY_MODEL_047085ec538043a6bb08a7f2fb8515dd",
        "IPY_MODEL_235cd0284ab04ca7a8b2e9ebf7038da2"
       ],
       "layout": "IPY_MODEL_cc253ade7650468384b5da36e2edae18"
      }
     },
     "5776e7a38d7e4258810ba4718f680bab": {
      "model_module": "@jupyter-widgets/controls",
      "model_module_version": "1.5.0",
      "model_name": "ButtonStyleModel",
      "state": {}
     },
     "579121f0d13249fa813ce1446ded999e": {
      "model_module": "@jupyter-widgets/controls",
      "model_module_version": "1.5.0",
      "model_name": "HBoxModel",
      "state": {
       "children": [
        "IPY_MODEL_4e2da10dc8a5469e9e9f1083a0fbf169",
        "IPY_MODEL_ba895984b1be48d7b23aa2a3261bb17d"
       ],
       "layout": "IPY_MODEL_4c67b32c07d840af9e4ee6db9e24a539"
      }
     },
     "57aa678e678c407f8ade0750273c68d2": {
      "model_module": "@jupyter-widgets/base",
      "model_module_version": "1.2.0",
      "model_name": "LayoutModel",
      "state": {
       "width": "5%"
      }
     },
     "57b2ebabe0864361845b5dbb85d63163": {
      "model_module": "@jupyter-widgets/base",
      "model_module_version": "1.2.0",
      "model_name": "LayoutModel",
      "state": {}
     },
     "57b49fa19d6d42adb85e46e7f0bfea5b": {
      "model_module": "@jupyter-widgets/controls",
      "model_module_version": "1.5.0",
      "model_name": "TextareaModel",
      "state": {
       "description": "String:",
       "layout": "IPY_MODEL_a824e985482049afa4f856b230383257",
       "placeholder": "Type something",
       "style": "IPY_MODEL_4f55457e3d0e43779c110b560976dd88"
      }
     },
     "57ba8d13167d4afc97cbe5e778a4aa5d": {
      "model_module": "@jupyter-widgets/controls",
      "model_module_version": "1.5.0",
      "model_name": "DescriptionStyleModel",
      "state": {
       "description_width": ""
      }
     },
     "57c5a808090b4b15937ebd1a3567751c": {
      "model_module": "@jupyter-widgets/base",
      "model_module_version": "1.2.0",
      "model_name": "LayoutModel",
      "state": {}
     },
     "57e6632a739a4bd187f73378de4d831d": {
      "model_module": "@jupyter-widgets/controls",
      "model_module_version": "1.5.0",
      "model_name": "HBoxModel",
      "state": {
       "children": [
        "IPY_MODEL_13da099ae7424e42a1bca4bbe228ab94",
        "IPY_MODEL_acdfb448bb2244439b38549e44a8744f"
       ],
       "layout": "IPY_MODEL_e34c346fa8714775a37809d08f73b839"
      }
     },
     "57e8d9aeb59d4bce859acb4951e8cff2": {
      "model_module": "@jupyter-widgets/controls",
      "model_module_version": "1.5.0",
      "model_name": "HBoxModel",
      "state": {
       "children": [
        "IPY_MODEL_15d424839a3e45488c23fdb984e72e9c",
        "IPY_MODEL_cbfd9d33171e47ac95583810918738d4"
       ],
       "layout": "IPY_MODEL_6dc3186b14bb41d3b2532baefc19cd59"
      }
     },
     "57ed2670b0d4429789b69f4bb1b42261": {
      "model_module": "@jupyter-widgets/base",
      "model_module_version": "1.2.0",
      "model_name": "LayoutModel",
      "state": {
       "width": "90%"
      }
     },
     "57f3db13d7b14e63a388795b02627cf9": {
      "model_module": "@jupyter-widgets/base",
      "model_module_version": "1.2.0",
      "model_name": "LayoutModel",
      "state": {}
     },
     "57fa18902d3e471b9e295992bc75cb0d": {
      "model_module": "@jupyter-widgets/base",
      "model_module_version": "1.2.0",
      "model_name": "LayoutModel",
      "state": {
       "width": "90%"
      }
     },
     "57fb33e6a17843a68f4977f7ed88536d": {
      "model_module": "@jupyter-widgets/base",
      "model_module_version": "1.2.0",
      "model_name": "LayoutModel",
      "state": {
       "width": "90%"
      }
     },
     "580f9c1e26ef4dc6902ea0caad1c0ad2": {
      "model_module": "@jupyter-widgets/base",
      "model_module_version": "1.2.0",
      "model_name": "LayoutModel",
      "state": {
       "width": "90%"
      }
     },
     "581b33022bfe4e2b9bf2956bdea08a57": {
      "model_module": "@jupyter-widgets/controls",
      "model_module_version": "1.5.0",
      "model_name": "DescriptionStyleModel",
      "state": {
       "description_width": ""
      }
     },
     "581c9d7e69c543ee98ada8357d84ada2": {
      "model_module": "@jupyter-widgets/controls",
      "model_module_version": "1.5.0",
      "model_name": "ButtonStyleModel",
      "state": {}
     },
     "582b77645bbd401bb5c020efbab8e544": {
      "model_module": "@jupyter-widgets/controls",
      "model_module_version": "1.5.0",
      "model_name": "DescriptionStyleModel",
      "state": {
       "description_width": ""
      }
     },
     "58593ed4aa304bb38951af3ee3ca093b": {
      "model_module": "@jupyter-widgets/base",
      "model_module_version": "1.2.0",
      "model_name": "LayoutModel",
      "state": {
       "width": "5%"
      }
     },
     "58605eae836443b39361734d80b89a36": {
      "model_module": "@jupyter-widgets/base",
      "model_module_version": "1.2.0",
      "model_name": "LayoutModel",
      "state": {}
     },
     "586696b6bfc14042938d7160d82fdbbc": {
      "model_module": "@jupyter-widgets/controls",
      "model_module_version": "1.5.0",
      "model_name": "DescriptionStyleModel",
      "state": {
       "description_width": ""
      }
     },
     "586ed80aa5f1447da33659d5dd5c9548": {
      "model_module": "@jupyter-widgets/output",
      "model_module_version": "1.0.0",
      "model_name": "OutputModel",
      "state": {
       "layout": "IPY_MODEL_1ffab47be8614053a89e0e0a9ee4e71c",
       "outputs": [
        {
         "name": "stdout",
         "output_type": "stream",
         "text": "The output works\n"
        }
       ]
      }
     },
     "586f55e825d040ee8087fc7723dc8d49": {
      "model_module": "@jupyter-widgets/controls",
      "model_module_version": "1.5.0",
      "model_name": "TextareaModel",
      "state": {
       "description": "String:",
       "layout": "IPY_MODEL_b62076cd638d4522988ffa99b6f1e919",
       "placeholder": "Type something",
       "style": "IPY_MODEL_33f14020f5e247acb8a8b404181c7b93"
      }
     },
     "589309402fde46a1b5285d6b828a38dc": {
      "model_module": "@jupyter-widgets/controls",
      "model_module_version": "1.5.0",
      "model_name": "DescriptionStyleModel",
      "state": {
       "description_width": ""
      }
     },
     "58b0900287be48faa5a933de27e91a14": {
      "model_module": "@jupyter-widgets/controls",
      "model_module_version": "1.5.0",
      "model_name": "ButtonModel",
      "state": {
       "description": "Test Code",
       "layout": "IPY_MODEL_3594ac1e646d463d86bf20126eb7c83a",
       "style": "IPY_MODEL_67562497f0b54c6b92217dbeee4de796",
       "tooltip": "Click to test your code"
      }
     },
     "58ec780d8872470ab71f09e8e510ed8f": {
      "model_module": "@jupyter-widgets/base",
      "model_module_version": "1.2.0",
      "model_name": "LayoutModel",
      "state": {}
     },
     "5951c0f8e8794c2db62d776393a61874": {
      "model_module": "@jupyter-widgets/controls",
      "model_module_version": "1.5.0",
      "model_name": "DescriptionStyleModel",
      "state": {
       "description_width": ""
      }
     },
     "5967e1ecb6504340b40416ae41606563": {
      "model_module": "@jupyter-widgets/controls",
      "model_module_version": "1.5.0",
      "model_name": "DescriptionStyleModel",
      "state": {
       "description_width": ""
      }
     },
     "596eeb72d9964f919c298d269bdb34e9": {
      "model_module": "@jupyter-widgets/base",
      "model_module_version": "1.2.0",
      "model_name": "LayoutModel",
      "state": {}
     },
     "59caa6cbcf464ae1b3c24095297d0401": {
      "model_module": "@jupyter-widgets/base",
      "model_module_version": "1.2.0",
      "model_name": "LayoutModel",
      "state": {}
     },
     "5a11f9e998cc43cda8dacefafe9cc55e": {
      "model_module": "@jupyter-widgets/controls",
      "model_module_version": "1.5.0",
      "model_name": "HBoxModel",
      "state": {
       "children": [
        "IPY_MODEL_24079ba56a9b44aebd9e68d82d7c1339",
        "IPY_MODEL_2679226a8b014cce932ebe7a917a6546"
       ],
       "layout": "IPY_MODEL_b762565a16f9489e9c3b3c547556b09a"
      }
     },
     "5a2d4a3fa6cf4a68a8b01193ceb6f805": {
      "model_module": "@jupyter-widgets/controls",
      "model_module_version": "1.5.0",
      "model_name": "TextareaModel",
      "state": {
       "description": "String:",
       "layout": "IPY_MODEL_a015c331c4674fd0965127cacb4fe347",
       "placeholder": "Type something",
       "style": "IPY_MODEL_0402d5dd3762406287d0b134894d5c36"
      }
     },
     "5a3950c58fc7454ebb051ae4e1c76003": {
      "model_module": "@jupyter-widgets/base",
      "model_module_version": "1.2.0",
      "model_name": "LayoutModel",
      "state": {
       "width": "90%"
      }
     },
     "5a3998d21dbb4331ae148ab23751ac93": {
      "model_module": "@jupyter-widgets/base",
      "model_module_version": "1.2.0",
      "model_name": "LayoutModel",
      "state": {}
     },
     "5a445dee6ca34c2c857f4f14b61e46c8": {
      "model_module": "@jupyter-widgets/controls",
      "model_module_version": "1.5.0",
      "model_name": "TextareaModel",
      "state": {
       "description": "String:",
       "layout": "IPY_MODEL_65a75d96445e4213af7ca466367534f9",
       "placeholder": "Type something",
       "style": "IPY_MODEL_3b70d856714040da864c42d0f679b3cc"
      }
     },
     "5a4cc70dae9c4051bdc5ff3f226ae995": {
      "model_module": "@jupyter-widgets/base",
      "model_module_version": "1.2.0",
      "model_name": "LayoutModel",
      "state": {}
     },
     "5a5eeeb1446d41178e529abb5b0862ca": {
      "model_module": "@jupyter-widgets/controls",
      "model_module_version": "1.5.0",
      "model_name": "LabelModel",
      "state": {
       "layout": "IPY_MODEL_1f2a88eaf82545a98218081ebe39f134",
       "style": "IPY_MODEL_2b029ad4d8534400a451352c5acb438b"
      }
     },
     "5a644e38ecc7487090f08c33a367f0c4": {
      "model_module": "@jupyter-widgets/base",
      "model_module_version": "1.2.0",
      "model_name": "LayoutModel",
      "state": {
       "width": "90%"
      }
     },
     "5a76c4a305844665b1817b4cbf993f17": {
      "model_module": "@jupyter-widgets/controls",
      "model_module_version": "1.5.0",
      "model_name": "DescriptionStyleModel",
      "state": {
       "description_width": ""
      }
     },
     "5a8c3c14d3ab47c58e002651f86b79f0": {
      "model_module": "@jupyter-widgets/base",
      "model_module_version": "1.2.0",
      "model_name": "LayoutModel",
      "state": {
       "width": "5%"
      }
     },
     "5a8ec2dd66f54a95b7952c86fd5feabe": {
      "model_module": "@jupyter-widgets/base",
      "model_module_version": "1.2.0",
      "model_name": "LayoutModel",
      "state": {}
     },
     "5acaae872acf497b8333c8f240488a2c": {
      "model_module": "@jupyter-widgets/controls",
      "model_module_version": "1.5.0",
      "model_name": "ButtonModel",
      "state": {
       "description": "Run Code",
       "layout": "IPY_MODEL_d68c3fb13f184d5198275686bdc10c99",
       "style": "IPY_MODEL_65829189a6374116b92ad251ae67e28e",
       "tooltip": "Click to test your code"
      }
     },
     "5b0d4fb663c649a482ac1c4f178fbc8f": {
      "model_module": "@jupyter-widgets/base",
      "model_module_version": "1.2.0",
      "model_name": "LayoutModel",
      "state": {}
     },
     "5b2ae0d83dc84603b5a3eeec95fd8f7b": {
      "model_module": "@jupyter-widgets/base",
      "model_module_version": "1.2.0",
      "model_name": "LayoutModel",
      "state": {}
     },
     "5b39b8eb8971486c88c888aa990b7d97": {
      "model_module": "@jupyter-widgets/base",
      "model_module_version": "1.2.0",
      "model_name": "LayoutModel",
      "state": {}
     },
     "5b5b3600f3f944158e00927422e1f96c": {
      "model_module": "@jupyter-widgets/base",
      "model_module_version": "1.2.0",
      "model_name": "LayoutModel",
      "state": {}
     },
     "5b6666d76ee6457f96cdd65159c0346c": {
      "model_module": "@jupyter-widgets/base",
      "model_module_version": "1.2.0",
      "model_name": "LayoutModel",
      "state": {
       "width": "90%"
      }
     },
     "5ba59abe2070484fa9207b2d86feba70": {
      "model_module": "@jupyter-widgets/controls",
      "model_module_version": "1.5.0",
      "model_name": "VBoxModel",
      "state": {
       "children": [
        "IPY_MODEL_a90ed0a302be4d83bdb75bbe6bf92479",
        "IPY_MODEL_a0c1a2960b324d979384149ae8ae5afa"
       ],
       "layout": "IPY_MODEL_64d3138ca99e441b93d0823fbb5ed1ab"
      }
     },
     "5bbae0e53f6c47ea86bbda5de38888cb": {
      "model_module": "@jupyter-widgets/controls",
      "model_module_version": "1.5.0",
      "model_name": "HBoxModel",
      "state": {
       "children": [
        "IPY_MODEL_2c55ad0434b844e990e58d3a4571ba9f",
        "IPY_MODEL_7d7ce9d05a4448d19917f3292fee3a90"
       ],
       "layout": "IPY_MODEL_fca6529d968b417d8e905b27141fb5b6"
      }
     },
     "5bec59f8bacf475f8d3659fe0a62f321": {
      "model_module": "@jupyter-widgets/controls",
      "model_module_version": "1.5.0",
      "model_name": "RadioButtonsModel",
      "state": {
       "_options_labels": [
        "a. Temperature",
        "b. Color",
        "c. Mass",
        "d. Charge"
       ],
       "index": 0,
       "layout": "IPY_MODEL_0582ad0111f74cc4bdb491d09ceaceae",
       "style": "IPY_MODEL_331c7b7261ed4e5fbb9ce0fa961de780"
      }
     },
     "5bf5c59b444f4afc8d68e2d85f3375c6": {
      "model_module": "@jupyter-widgets/controls",
      "model_module_version": "1.5.0",
      "model_name": "DescriptionStyleModel",
      "state": {
       "description_width": ""
      }
     },
     "5c210f756b9d4134adffe1b247daee2a": {
      "model_module": "@jupyter-widgets/controls",
      "model_module_version": "1.5.0",
      "model_name": "DescriptionStyleModel",
      "state": {
       "description_width": ""
      }
     },
     "5c30ff6ba7ba43a18f33742f92dddfde": {
      "model_module": "@jupyter-widgets/controls",
      "model_module_version": "1.5.0",
      "model_name": "LabelModel",
      "state": {
       "layout": "IPY_MODEL_fd0dbb04408b4d998cd7929724c875f3",
       "style": "IPY_MODEL_4e070f93a9424478b01b1040a4802333"
      }
     },
     "5c4a3f2d981d4e56859c034ebdd87de3": {
      "model_module": "@jupyter-widgets/controls",
      "model_module_version": "1.5.0",
      "model_name": "RadioButtonsModel",
      "state": {
       "_options_labels": [
        "a. Algebraic sums",
        "b. Time derivatives",
        "c. Products",
        "d. More convolutions"
       ],
       "index": 0,
       "layout": "IPY_MODEL_f08b3b832d234e838df94cb5dad50a9d",
       "style": "IPY_MODEL_6a182c27d85b48d992190403bf344dc9"
      }
     },
     "5c517015b4194aa49863bc583a9403d7": {
      "model_module": "@jupyter-widgets/base",
      "model_module_version": "1.2.0",
      "model_name": "LayoutModel",
      "state": {}
     },
     "5c574f0cf7324f419e87c329aa0af62e": {
      "model_module": "@jupyter-widgets/base",
      "model_module_version": "1.2.0",
      "model_name": "LayoutModel",
      "state": {
       "width": "5%"
      }
     },
     "5c7976ef9a89463c956ae291f4ff10d2": {
      "model_module": "@jupyter-widgets/controls",
      "model_module_version": "1.5.0",
      "model_name": "LabelModel",
      "state": {
       "layout": "IPY_MODEL_eef0a044e7e24bcda4d3066e95e09508",
       "style": "IPY_MODEL_bae2226361524755b5e03e683daf2790"
      }
     },
     "5c7dec76bfe945048db888b9ec8bec7a": {
      "model_module": "@jupyter-widgets/controls",
      "model_module_version": "1.5.0",
      "model_name": "DescriptionStyleModel",
      "state": {
       "description_width": ""
      }
     },
     "5cb3f9604a664a06be4d6c94092a5993": {
      "model_module": "@jupyter-widgets/controls",
      "model_module_version": "1.5.0",
      "model_name": "HBoxModel",
      "state": {
       "children": [
        "IPY_MODEL_7f9caca6e5804e0cba64ca0f3282de9b",
        "IPY_MODEL_50e44c5219544f20be6db35133f9b20b"
       ],
       "layout": "IPY_MODEL_a6e1834c80b14d04b11d24f097b790eb"
      }
     },
     "5ccc582c46dc4324888995efd1f37a6f": {
      "model_module": "@jupyter-widgets/controls",
      "model_module_version": "1.5.0",
      "model_name": "RadioButtonsModel",
      "state": {
       "_options_labels": [
        "a. light and matter",
        "b. time and space",
        "c. dephasing and dissipation",
        "d. linear and nonlinear processes"
       ],
       "index": 0,
       "layout": "IPY_MODEL_cd91c91cd0284ac1b94cb6d6c5ffb6a5",
       "style": "IPY_MODEL_33f023d7700441b2b527a35b9b3058d3"
      }
     },
     "5cda1fcacbfd48efab40b7ad164092fc": {
      "model_module": "@jupyter-widgets/controls",
      "model_module_version": "1.5.0",
      "model_name": "HBoxModel",
      "state": {
       "children": [
        "IPY_MODEL_a77b959e113b4cb8aed2b5e22b50485c",
        "IPY_MODEL_3c45bf8659464ec3a8b370052a4993ae"
       ],
       "layout": "IPY_MODEL_fe7f9d34fe6c4a84b8cefb360013f079"
      }
     },
     "5d0c3082621349e59852504163da85fc": {
      "model_module": "@jupyter-widgets/base",
      "model_module_version": "1.2.0",
      "model_name": "LayoutModel",
      "state": {}
     },
     "5d27e8d89e82494d8e97291f100f75ac": {
      "model_module": "@jupyter-widgets/controls",
      "model_module_version": "1.5.0",
      "model_name": "DescriptionStyleModel",
      "state": {
       "description_width": ""
      }
     },
     "5d36ae36b61a4147bf7c29dac92b4eda": {
      "model_module": "@jupyter-widgets/controls",
      "model_module_version": "1.5.0",
      "model_name": "RadioButtonsModel",
      "state": {
       "_options_labels": [
        "a. Temperature",
        "b. Color",
        "c. Mass",
        "d. Charge"
       ],
       "index": 0,
       "layout": "IPY_MODEL_76b619132d5c47e78db8e63977e740e9",
       "style": "IPY_MODEL_cc7815a709fb4f17849418e6529e9438"
      }
     },
     "5d449a2b973f4cf6b4ab9abe6d502587": {
      "model_module": "@jupyter-widgets/base",
      "model_module_version": "1.2.0",
      "model_name": "LayoutModel",
      "state": {
       "width": "5%"
      }
     },
     "5d778a368cc04cf2bd42cfe05d9e0eef": {
      "model_module": "@jupyter-widgets/controls",
      "model_module_version": "1.5.0",
      "model_name": "HBoxModel",
      "state": {
       "children": [
        "IPY_MODEL_c082800763204277a8aa5775b9375896",
        "IPY_MODEL_5d36ae36b61a4147bf7c29dac92b4eda"
       ],
       "layout": "IPY_MODEL_4db6ce9c3b84433d86378aa5937a491b"
      }
     },
     "5d7a6b94c3a548b381ff5092ccc42610": {
      "model_module": "@jupyter-widgets/base",
      "model_module_version": "1.2.0",
      "model_name": "LayoutModel",
      "state": {
       "width": "5%"
      }
     },
     "5d8b35f752244a799bcd1aaf72067d2d": {
      "model_module": "@jupyter-widgets/base",
      "model_module_version": "1.2.0",
      "model_name": "LayoutModel",
      "state": {
       "width": "5%"
      }
     },
     "5db0a9553bf345b0a6c2da00d4dccf38": {
      "model_module": "@jupyter-widgets/base",
      "model_module_version": "1.2.0",
      "model_name": "LayoutModel",
      "state": {
       "width": "5%"
      }
     },
     "5db691e2bbc5445fa122001d3b67f380": {
      "model_module": "@jupyter-widgets/controls",
      "model_module_version": "1.5.0",
      "model_name": "TextareaModel",
      "state": {
       "description": "String:",
       "layout": "IPY_MODEL_e9ca0fe510ed4bb29b6c37d2ee9c17f2",
       "placeholder": "Type something",
       "style": "IPY_MODEL_1333ba2acd684db89ecda45a51a54208"
      }
     },
     "5dc01a2cb522492e84a567eb7158fe34": {
      "model_module": "@jupyter-widgets/output",
      "model_module_version": "1.0.0",
      "model_name": "OutputModel",
      "state": {
       "layout": "IPY_MODEL_2cb03ed33a554f528fbcef1aba19ebb0",
       "outputs": [
        {
         "name": "stdout",
         "output_type": "stream",
         "text": "The output works\n"
        }
       ]
      }
     },
     "5de6c6da68104c86842515df6b718ae4": {
      "model_module": "@jupyter-widgets/controls",
      "model_module_version": "1.5.0",
      "model_name": "ButtonModel",
      "state": {
       "description": "Review Answers",
       "layout": "IPY_MODEL_3e6f01838f3f495ca11b763a3cc01cc6",
       "style": "IPY_MODEL_c4856631c0ed4ca38f72df9350312334",
       "tooltip": "Click to review answers"
      }
     },
     "5debfe135bd447748e541f7e3ba5e03d": {
      "model_module": "@jupyter-widgets/controls",
      "model_module_version": "1.5.0",
      "model_name": "ButtonModel",
      "state": {
       "description": "Test Code",
       "layout": "IPY_MODEL_e33feae725ae4033abb4336f7e0c60a5",
       "style": "IPY_MODEL_0737f24c75fd450e8af9bac5ec638e21",
       "tooltip": "Click to test your code"
      }
     },
     "5e2634f6cdcf431d9ec67c55b11a3fbf": {
      "model_module": "@jupyter-widgets/controls",
      "model_module_version": "1.5.0",
      "model_name": "DescriptionStyleModel",
      "state": {
       "description_width": ""
      }
     },
     "5e266b8ea19848628d5c2909eeeeb300": {
      "model_module": "@jupyter-widgets/output",
      "model_module_version": "1.0.0",
      "model_name": "OutputModel",
      "state": {
       "layout": "IPY_MODEL_99909c9455af4c97b8849393491d9790"
      }
     },
     "5e2c24c4bd2345709730a075e8a39ee9": {
      "model_module": "@jupyter-widgets/controls",
      "model_module_version": "1.5.0",
      "model_name": "TextareaModel",
      "state": {
       "description": "String:",
       "layout": "IPY_MODEL_e6fad87ea9b648c59bb40e427f8dd94a",
       "placeholder": "Type something",
       "style": "IPY_MODEL_2bf5b3daaf624f67b76b61f0e1d79ae1"
      }
     },
     "5e3a539a5c8744449f381ec4183cd52c": {
      "model_module": "@jupyter-widgets/base",
      "model_module_version": "1.2.0",
      "model_name": "LayoutModel",
      "state": {}
     },
     "5e4a2be7f875441c8ea7d568591399c0": {
      "model_module": "@jupyter-widgets/controls",
      "model_module_version": "1.5.0",
      "model_name": "DescriptionStyleModel",
      "state": {
       "description_width": ""
      }
     },
     "5e66d612787c4cccbfedf34b92e5f223": {
      "model_module": "@jupyter-widgets/controls",
      "model_module_version": "1.5.0",
      "model_name": "LabelModel",
      "state": {
       "layout": "IPY_MODEL_2b1da4822d774c81b6f9b9bd1bc77627",
       "style": "IPY_MODEL_2496ddee1dd243f8ab79504390c0ac16"
      }
     },
     "5e69bcf11af54c6aad0d13f9311a23d9": {
      "model_module": "@jupyter-widgets/base",
      "model_module_version": "1.2.0",
      "model_name": "LayoutModel",
      "state": {}
     },
     "5e897bf3e75e40c6a6bc678ba047dbbb": {
      "model_module": "@jupyter-widgets/controls",
      "model_module_version": "1.5.0",
      "model_name": "DescriptionStyleModel",
      "state": {
       "description_width": ""
      }
     },
     "5e8ca2ac11224076821701ff0f6bdc39": {
      "model_module": "@jupyter-widgets/controls",
      "model_module_version": "1.5.0",
      "model_name": "DescriptionStyleModel",
      "state": {
       "description_width": ""
      }
     },
     "5ea6032f92f849288d4d56771cd18b8d": {
      "model_module": "@jupyter-widgets/controls",
      "model_module_version": "1.5.0",
      "model_name": "DescriptionStyleModel",
      "state": {
       "description_width": ""
      }
     },
     "5eb1849311c44c178ef7a6debedea7cd": {
      "model_module": "@jupyter-widgets/base",
      "model_module_version": "1.2.0",
      "model_name": "LayoutModel",
      "state": {
       "width": "90%"
      }
     },
     "5eb91d4ce8694a0da632195d03c90e0c": {
      "model_module": "@jupyter-widgets/controls",
      "model_module_version": "1.5.0",
      "model_name": "LabelModel",
      "state": {
       "layout": "IPY_MODEL_ad757451d9534e21b1834e5425876892",
       "style": "IPY_MODEL_ca9c5a1d708a47b0a66e1f5a8032ffe1"
      }
     },
     "5eea6645849a4498992b00f2c27fc0af": {
      "model_module": "@jupyter-widgets/controls",
      "model_module_version": "1.5.0",
      "model_name": "DescriptionStyleModel",
      "state": {
       "description_width": ""
      }
     },
     "5ef65e763b0d4526907e2b5cc58d1fbd": {
      "model_module": "@jupyter-widgets/base",
      "model_module_version": "1.2.0",
      "model_name": "LayoutModel",
      "state": {
       "width": "5%"
      }
     },
     "5f00a85756a546b99adee8a1a9cc7fac": {
      "model_module": "@jupyter-widgets/controls",
      "model_module_version": "1.5.0",
      "model_name": "ButtonStyleModel",
      "state": {}
     },
     "5f15ba1fa76b4467944e130b8bc8a9df": {
      "model_module": "@jupyter-widgets/controls",
      "model_module_version": "1.5.0",
      "model_name": "ButtonModel",
      "state": {
       "description": "Review Answers",
       "layout": "IPY_MODEL_d6a8a2c8f976462eabca94d032aecd6a",
       "style": "IPY_MODEL_9f19eed583b74aca991c23ba323eb75d",
       "tooltip": "Click to review answers"
      }
     },
     "5f2d8866c42c49a098b733e5835b4914": {
      "model_module": "@jupyter-widgets/controls",
      "model_module_version": "1.5.0",
      "model_name": "ButtonStyleModel",
      "state": {}
     },
     "5f5164b32c7a40fd9dbaac0ee1c413e8": {
      "model_module": "@jupyter-widgets/output",
      "model_module_version": "1.0.0",
      "model_name": "OutputModel",
      "state": {
       "layout": "IPY_MODEL_ae5ea2d0dc9f41038d68aa0d5c234d5d",
       "outputs": [
        {
         "name": "stdout",
         "output_type": "stream",
         "text": "0\n1\n2\n3\n4\n5\n6\n7\n8\n9\n"
        }
       ]
      }
     },
     "5f69cbf8d6d84dbd9f0130c4d963d36f": {
      "model_module": "@jupyter-widgets/controls",
      "model_module_version": "1.5.0",
      "model_name": "RadioButtonsModel",
      "state": {
       "_options_labels": [
        "a. `df = 1/(N*dt)`",
        "b. `df = 1/dt`",
        "c. `df = N*dt`",
        "d. `df = N/dt`"
       ],
       "index": 0,
       "layout": "IPY_MODEL_f11c8b74c35d4b069e72d858cf9c0a0f",
       "style": "IPY_MODEL_9a06c923dde1445f8ab7ee58a7981ffe"
      }
     },
     "5f6cb21a977f4c66a8b9c274208700d6": {
      "model_module": "@jupyter-widgets/controls",
      "model_module_version": "1.5.0",
      "model_name": "DescriptionStyleModel",
      "state": {
       "description_width": ""
      }
     },
     "5f729b8ffead401c91b91a2d579a4d68": {
      "model_module": "@jupyter-widgets/controls",
      "model_module_version": "1.5.0",
      "model_name": "LabelModel",
      "state": {
       "layout": "IPY_MODEL_c32aefd949874f5688ed6119f4ed7304",
       "style": "IPY_MODEL_76cfa202565f48e2a1f70fc6c3085236"
      }
     },
     "5f755bf6003b4f749745da39814221b6": {
      "model_module": "@jupyter-widgets/controls",
      "model_module_version": "1.5.0",
      "model_name": "HBoxModel",
      "state": {
       "children": [
        "IPY_MODEL_f3532552461c4d06a964772d08b6594f",
        "IPY_MODEL_029afed2747246f691e0b83143a4ac79"
       ],
       "layout": "IPY_MODEL_0bd2717a4adc4756ba4896f19dd6bdae"
      }
     },
     "5fa43fa758ab4f13be7535a2dd82fba7": {
      "model_module": "@jupyter-widgets/controls",
      "model_module_version": "1.5.0",
      "model_name": "DescriptionStyleModel",
      "state": {
       "description_width": ""
      }
     },
     "5fa685fdb6d44e7e8a9111c5b342cfa7": {
      "model_module": "@jupyter-widgets/base",
      "model_module_version": "1.2.0",
      "model_name": "LayoutModel",
      "state": {}
     },
     "5faea397e3b441f6a7c10d919d6c6923": {
      "model_module": "@jupyter-widgets/controls",
      "model_module_version": "1.5.0",
      "model_name": "LabelModel",
      "state": {
       "layout": "IPY_MODEL_daae088fbff545a2a3fd695b95415806",
       "style": "IPY_MODEL_e6759a06f0984fdb8e6d76c3a17fb32f"
      }
     },
     "5fb4567d743148fe955dc0b37298eb5b": {
      "model_module": "@jupyter-widgets/base",
      "model_module_version": "1.2.0",
      "model_name": "LayoutModel",
      "state": {}
     },
     "5fd229fea272433ebe4febe4667d5ae6": {
      "model_module": "@jupyter-widgets/controls",
      "model_module_version": "1.5.0",
      "model_name": "DescriptionStyleModel",
      "state": {
       "description_width": ""
      }
     },
     "5fe2dcaa29bc4c088d3283395b0855a9": {
      "model_module": "@jupyter-widgets/base",
      "model_module_version": "1.2.0",
      "model_name": "LayoutModel",
      "state": {}
     },
     "5fe90a3a70ee4e38b0e35715a8f1de56": {
      "model_module": "@jupyter-widgets/base",
      "model_module_version": "1.2.0",
      "model_name": "LayoutModel",
      "state": {}
     },
     "5fefa083323646c7935e1b2c27b1890b": {
      "model_module": "@jupyter-widgets/controls",
      "model_module_version": "1.5.0",
      "model_name": "HBoxModel",
      "state": {
       "children": [
        "IPY_MODEL_c72bed6002574799ae36d85c1f083789",
        "IPY_MODEL_1968ffe59c244a019ec06089d4ac0ec2"
       ],
       "layout": "IPY_MODEL_7cf56d4a23f2470e9f5759162195ff74"
      }
     },
     "5ff1252f66b2410eb045012345855111": {
      "model_module": "@jupyter-widgets/base",
      "model_module_version": "1.2.0",
      "model_name": "LayoutModel",
      "state": {}
     },
     "600bf27fdcd84d708acab23d51cbf067": {
      "model_module": "@jupyter-widgets/base",
      "model_module_version": "1.2.0",
      "model_name": "LayoutModel",
      "state": {}
     },
     "6032b5c6a7314adb820411cf1d385f62": {
      "model_module": "@jupyter-widgets/controls",
      "model_module_version": "1.5.0",
      "model_name": "HBoxModel",
      "state": {
       "children": [
        "IPY_MODEL_33c736ccfac94cf79ede1f262c1edbcd",
        "IPY_MODEL_b217ece0a4914120a471cc189215367c"
       ],
       "layout": "IPY_MODEL_b31ec63f0ab94fd484e08537f1815010"
      }
     },
     "603711df80644cfdb074c832e54b7409": {
      "model_module": "@jupyter-widgets/controls",
      "model_module_version": "1.5.0",
      "model_name": "DescriptionStyleModel",
      "state": {
       "description_width": ""
      }
     },
     "603c39c4489a4f2492bb9215048cd681": {
      "model_module": "@jupyter-widgets/base",
      "model_module_version": "1.2.0",
      "model_name": "LayoutModel",
      "state": {
       "width": "5%"
      }
     },
     "6051bb9d2b6c4cbd874cfb1108e9784f": {
      "model_module": "@jupyter-widgets/controls",
      "model_module_version": "1.5.0",
      "model_name": "HBoxModel",
      "state": {
       "children": [
        "IPY_MODEL_8c5c324b11aa4a6190071e7990c6f0b5",
        "IPY_MODEL_466b02914dd44e4ab4a3498ed36ecb74"
       ],
       "layout": "IPY_MODEL_c5475134611b479e9ead1a3263f12bfd"
      }
     },
     "606914a57be942b4986e4dfec02ebb67": {
      "model_module": "@jupyter-widgets/controls",
      "model_module_version": "1.5.0",
      "model_name": "DescriptionStyleModel",
      "state": {
       "description_width": ""
      }
     },
     "606d6bb2afb34abcbef1205b680dad91": {
      "model_module": "@jupyter-widgets/base",
      "model_module_version": "1.2.0",
      "model_name": "LayoutModel",
      "state": {}
     },
     "608d62b841094bfe9fc341a328f5539d": {
      "model_module": "@jupyter-widgets/controls",
      "model_module_version": "1.5.0",
      "model_name": "LabelModel",
      "state": {
       "layout": "IPY_MODEL_1fedabb2a5e64fb5b78f9dae59b8349b",
       "style": "IPY_MODEL_e0efe626d3ff467fafc6e2df089ef8a0"
      }
     },
     "6099a24696cd4afa9eef91938544b6e6": {
      "model_module": "@jupyter-widgets/controls",
      "model_module_version": "1.5.0",
      "model_name": "DescriptionStyleModel",
      "state": {
       "description_width": ""
      }
     },
     "609dc1368069484087111f5e15134975": {
      "model_module": "@jupyter-widgets/base",
      "model_module_version": "1.2.0",
      "model_name": "LayoutModel",
      "state": {
       "width": "90%"
      }
     },
     "60a96bde6c5a4f60bcd43dcc9ae705b4": {
      "model_module": "@jupyter-widgets/base",
      "model_module_version": "1.2.0",
      "model_name": "LayoutModel",
      "state": {}
     },
     "60cacd068abb47aa95da8600b2ba2002": {
      "model_module": "@jupyter-widgets/controls",
      "model_module_version": "1.5.0",
      "model_name": "DescriptionStyleModel",
      "state": {
       "description_width": ""
      }
     },
     "60d7440f98f84cecb3d217c31eba6f57": {
      "model_module": "@jupyter-widgets/controls",
      "model_module_version": "1.5.0",
      "model_name": "DescriptionStyleModel",
      "state": {
       "description_width": ""
      }
     },
     "60f2c80388f049d081f7f902fa97ef46": {
      "model_module": "@jupyter-widgets/controls",
      "model_module_version": "1.5.0",
      "model_name": "DescriptionStyleModel",
      "state": {
       "description_width": ""
      }
     },
     "613660c1ddc541fead44b4cc72b31e49": {
      "model_module": "@jupyter-widgets/controls",
      "model_module_version": "1.5.0",
      "model_name": "TextareaModel",
      "state": {
       "description": "Code:",
       "layout": "IPY_MODEL_61658bea6d2e45c2ab4e5c3b5e679d53",
       "placeholder": "Type code here",
       "style": "IPY_MODEL_dd652464f5924ab38f70784cc26147e3"
      }
     },
     "6140d024a351453292f81582eed62657": {
      "model_module": "@jupyter-widgets/base",
      "model_module_version": "1.2.0",
      "model_name": "LayoutModel",
      "state": {
       "width": "5%"
      }
     },
     "61658bea6d2e45c2ab4e5c3b5e679d53": {
      "model_module": "@jupyter-widgets/base",
      "model_module_version": "1.2.0",
      "model_name": "LayoutModel",
      "state": {
       "width": "90%"
      }
     },
     "6175a9ba682e488e8f18137138dda441": {
      "model_module": "@jupyter-widgets/controls",
      "model_module_version": "1.5.0",
      "model_name": "DescriptionStyleModel",
      "state": {
       "description_width": ""
      }
     },
     "618aa6f3b7ee4d4387be5badb10a05d5": {
      "model_module": "@jupyter-widgets/base",
      "model_module_version": "1.2.0",
      "model_name": "LayoutModel",
      "state": {}
     },
     "61a05e22620f4fd9aeeea91410983d69": {
      "model_module": "@jupyter-widgets/controls",
      "model_module_version": "1.5.0",
      "model_name": "DescriptionStyleModel",
      "state": {
       "description_width": ""
      }
     },
     "61b8bada533541f9a3a2acc087394363": {
      "model_module": "@jupyter-widgets/controls",
      "model_module_version": "1.5.0",
      "model_name": "LabelModel",
      "state": {
       "layout": "IPY_MODEL_8a1ba6a839c14199b44debdd8d1e9738",
       "style": "IPY_MODEL_c014aad2ab274934bad9f0aeca6db2b3"
      }
     },
     "61c5035c0ea94c968f52fafdd3f8a2d0": {
      "model_module": "@jupyter-widgets/base",
      "model_module_version": "1.2.0",
      "model_name": "LayoutModel",
      "state": {
       "width": "90%"
      }
     },
     "61cb8cc915c34a179875439525c67371": {
      "model_module": "@jupyter-widgets/controls",
      "model_module_version": "1.5.0",
      "model_name": "LabelModel",
      "state": {
       "layout": "IPY_MODEL_a539f8a0aa624add9511194f5a3b27e4",
       "style": "IPY_MODEL_93a991cc037f4e71ac9b308ad91f606f"
      }
     },
     "61d67dc4539943e3be5eb21a9ce880c7": {
      "model_module": "@jupyter-widgets/base",
      "model_module_version": "1.2.0",
      "model_name": "LayoutModel",
      "state": {}
     },
     "622b49abcaac4053aeec632ba86cfd77": {
      "model_module": "@jupyter-widgets/base",
      "model_module_version": "1.2.0",
      "model_name": "LayoutModel",
      "state": {}
     },
     "629cc4f0a6ba4ec4a137ac1ecda3dd2e": {
      "model_module": "@jupyter-widgets/base",
      "model_module_version": "1.2.0",
      "model_name": "LayoutModel",
      "state": {}
     },
     "62af0b1cf06244fea85bf43d79be060e": {
      "model_module": "@jupyter-widgets/base",
      "model_module_version": "1.2.0",
      "model_name": "LayoutModel",
      "state": {}
     },
     "62c2c4074ba04c13822daf21d86ef828": {
      "model_module": "@jupyter-widgets/controls",
      "model_module_version": "1.5.0",
      "model_name": "HBoxModel",
      "state": {
       "children": [
        "IPY_MODEL_5eb91d4ce8694a0da632195d03c90e0c",
        "IPY_MODEL_c13ac3e0e72a4b369a614f48fd11e4e8"
       ],
       "layout": "IPY_MODEL_5e69bcf11af54c6aad0d13f9311a23d9"
      }
     },
     "62c502b68ed04daabf110a3f543b8b41": {
      "model_module": "@jupyter-widgets/base",
      "model_module_version": "1.2.0",
      "model_name": "LayoutModel",
      "state": {}
     },
     "62e3b8d366e042a0a5dd3d74fc788bb9": {
      "model_module": "@jupyter-widgets/controls",
      "model_module_version": "1.5.0",
      "model_name": "DescriptionStyleModel",
      "state": {
       "description_width": ""
      }
     },
     "62f2af46f8244546a172f6e74a9c9963": {
      "model_module": "@jupyter-widgets/controls",
      "model_module_version": "1.5.0",
      "model_name": "DescriptionStyleModel",
      "state": {
       "description_width": ""
      }
     },
     "630f92317e8d4213a9fbd5f24210b7e0": {
      "model_module": "@jupyter-widgets/controls",
      "model_module_version": "1.5.0",
      "model_name": "DescriptionStyleModel",
      "state": {
       "description_width": ""
      }
     },
     "631228888577453a8bd63df5e889475d": {
      "model_module": "@jupyter-widgets/base",
      "model_module_version": "1.2.0",
      "model_name": "LayoutModel",
      "state": {
       "width": "5%"
      }
     },
     "63542176c31846b98737c7786b4a62a0": {
      "model_module": "@jupyter-widgets/base",
      "model_module_version": "1.2.0",
      "model_name": "LayoutModel",
      "state": {
       "width": "90%"
      }
     },
     "6357e9b0506c41b5b12d0ae6750b4b21": {
      "model_module": "@jupyter-widgets/base",
      "model_module_version": "1.2.0",
      "model_name": "LayoutModel",
      "state": {
       "width": "5%"
      }
     },
     "63600082291f4e65a9797c72677af3be": {
      "model_module": "@jupyter-widgets/controls",
      "model_module_version": "1.5.0",
      "model_name": "DescriptionStyleModel",
      "state": {
       "description_width": ""
      }
     },
     "63936a5d25f94fd3a6760dcdc1af52bd": {
      "model_module": "@jupyter-widgets/base",
      "model_module_version": "1.2.0",
      "model_name": "LayoutModel",
      "state": {
       "width": "5%"
      }
     },
     "63b1c2c311724495b70b23f99f362151": {
      "model_module": "@jupyter-widgets/controls",
      "model_module_version": "1.5.0",
      "model_name": "HBoxModel",
      "state": {
       "children": [
        "IPY_MODEL_7811d009c3ad434eb4648de6573feafc",
        "IPY_MODEL_09be1e87c6434bd38cc543e67d0f47a4"
       ],
       "layout": "IPY_MODEL_aee52bfaf344499a8b68585807755cc1"
      }
     },
     "63bba2e952f0434cb03619e114000153": {
      "model_module": "@jupyter-widgets/controls",
      "model_module_version": "1.5.0",
      "model_name": "RadioButtonsModel",
      "state": {
       "_options_labels": [
        "a. Maxwell's equations",
        "b. Newton's Equations",
        "c. The boundary conditions",
        "d. A given macrostate"
       ],
       "index": 3,
       "layout": "IPY_MODEL_6db4692f2eae47408c280b1a2c77db4b",
       "style": "IPY_MODEL_74ca7e00024c4b5aad19e7878fb09c2c"
      }
     },
     "63c15fded85f46a79b2f5baf87cad026": {
      "model_module": "@jupyter-widgets/base",
      "model_module_version": "1.2.0",
      "model_name": "LayoutModel",
      "state": {}
     },
     "63d31fa247c443cbb34b0243f0f1d96d": {
      "model_module": "@jupyter-widgets/controls",
      "model_module_version": "1.5.0",
      "model_name": "DescriptionStyleModel",
      "state": {
       "description_width": ""
      }
     },
     "63d756cdf8d64339806a54f32387ed97": {
      "model_module": "@jupyter-widgets/base",
      "model_module_version": "1.2.0",
      "model_name": "LayoutModel",
      "state": {
       "width": "5%"
      }
     },
     "63d76dd5b9f74fe99bf736c737d0db11": {
      "model_module": "@jupyter-widgets/base",
      "model_module_version": "1.2.0",
      "model_name": "LayoutModel",
      "state": {
       "width": "90%"
      }
     },
     "63e6fcb78a8847a4a34141e1b991396c": {
      "model_module": "@jupyter-widgets/controls",
      "model_module_version": "1.5.0",
      "model_name": "LabelModel",
      "state": {
       "layout": "IPY_MODEL_1fe77080abba4c70acff5647c6a0e0d3",
       "style": "IPY_MODEL_3a1d33d689524930bf52bc3b5c9d8df0"
      }
     },
     "63eee32a30d54947804f2c991a593a44": {
      "model_module": "@jupyter-widgets/controls",
      "model_module_version": "1.5.0",
      "model_name": "LabelModel",
      "state": {
       "layout": "IPY_MODEL_97a25fa8bd52499ba86abfdf52e2eeea",
       "style": "IPY_MODEL_a3ad5c5b17644e6287892de4ba2d064d"
      }
     },
     "6423561ab5424d4588b1eef0e3a06f21": {
      "model_module": "@jupyter-widgets/base",
      "model_module_version": "1.2.0",
      "model_name": "LayoutModel",
      "state": {}
     },
     "642b529ab92d4fef99d2df1a4c7fb85b": {
      "model_module": "@jupyter-widgets/base",
      "model_module_version": "1.2.0",
      "model_name": "LayoutModel",
      "state": {}
     },
     "642f5f0b08224464acae5a31c042c514": {
      "model_module": "@jupyter-widgets/base",
      "model_module_version": "1.2.0",
      "model_name": "LayoutModel",
      "state": {
       "width": "5%"
      }
     },
     "643084ca34c94689a559d2f2789fc4b0": {
      "model_module": "@jupyter-widgets/controls",
      "model_module_version": "1.5.0",
      "model_name": "LabelModel",
      "state": {
       "layout": "IPY_MODEL_cb124a12728c42989228e77fa7b71c9c",
       "style": "IPY_MODEL_fb25dec9f34e409da35b5ddcc5664c06"
      }
     },
     "6438b6e69b3b481c900043217c7dd9c5": {
      "model_module": "@jupyter-widgets/base",
      "model_module_version": "1.2.0",
      "model_name": "LayoutModel",
      "state": {
       "width": "5%"
      }
     },
     "643ed3a04bef416ba73ca71f3558b1ff": {
      "model_module": "@jupyter-widgets/base",
      "model_module_version": "1.2.0",
      "model_name": "LayoutModel",
      "state": {
       "width": "5%"
      }
     },
     "6448a300886a4b03bd7b9b5d35b529e3": {
      "model_module": "@jupyter-widgets/base",
      "model_module_version": "1.2.0",
      "model_name": "LayoutModel",
      "state": {
       "width": "90%"
      }
     },
     "644becae1a2f47f48d3517921ec05875": {
      "model_module": "@jupyter-widgets/base",
      "model_module_version": "1.2.0",
      "model_name": "LayoutModel",
      "state": {
       "width": "5%"
      }
     },
     "644fe8f266d84a07a230ee54465ee32a": {
      "model_module": "@jupyter-widgets/controls",
      "model_module_version": "1.5.0",
      "model_name": "LabelModel",
      "state": {
       "layout": "IPY_MODEL_63936a5d25f94fd3a6760dcdc1af52bd",
       "style": "IPY_MODEL_9c21fe1698524e60a901a6746873b2d7"
      }
     },
     "64515293ac4047c795d02828d7b8136d": {
      "model_module": "@jupyter-widgets/controls",
      "model_module_version": "1.5.0",
      "model_name": "HBoxModel",
      "state": {
       "children": [
        "IPY_MODEL_d71682e34449456092a9c0246fe9b8bc",
        "IPY_MODEL_fc0516a0407e40f09c3398501b3769a2"
       ],
       "layout": "IPY_MODEL_aec0102862364033a86486c7ec11e3a2"
      }
     },
     "64a3c3ffa45940fbb270fa672880e0fb": {
      "model_module": "@jupyter-widgets/controls",
      "model_module_version": "1.5.0",
      "model_name": "LabelModel",
      "state": {
       "layout": "IPY_MODEL_a785c7742d0a488cb81a57fa0056e0cf",
       "style": "IPY_MODEL_eaaad50222494294b0e2442a23ff8899"
      }
     },
     "64a672c7e1974a8d8b94badbe2d1cc70": {
      "model_module": "@jupyter-widgets/controls",
      "model_module_version": "1.5.0",
      "model_name": "LabelModel",
      "state": {
       "layout": "IPY_MODEL_4266b5e9c6614665ae4355333a655245",
       "style": "IPY_MODEL_80c1ffb76633434e9b9fb55492ffd2e2"
      }
     },
     "64d3138ca99e441b93d0823fbb5ed1ab": {
      "model_module": "@jupyter-widgets/base",
      "model_module_version": "1.2.0",
      "model_name": "LayoutModel",
      "state": {}
     },
     "64d6f58f8e9d45d885620eadb21a4acc": {
      "model_module": "@jupyter-widgets/controls",
      "model_module_version": "1.5.0",
      "model_name": "DescriptionStyleModel",
      "state": {
       "description_width": ""
      }
     },
     "64ec7da3ff5b43cd9b36ab43cf6fa89b": {
      "model_module": "@jupyter-widgets/base",
      "model_module_version": "1.2.0",
      "model_name": "LayoutModel",
      "state": {}
     },
     "64ff395bc67142a59a55bc2b2a71a828": {
      "model_module": "@jupyter-widgets/base",
      "model_module_version": "1.2.0",
      "model_name": "LayoutModel",
      "state": {}
     },
     "6507b86716f0459486e6aa5d08d0ccf0": {
      "model_module": "@jupyter-widgets/base",
      "model_module_version": "1.2.0",
      "model_name": "LayoutModel",
      "state": {}
     },
     "65727ff95fdd4ba0a3371ad262da9488": {
      "model_module": "@jupyter-widgets/controls",
      "model_module_version": "1.5.0",
      "model_name": "HBoxModel",
      "state": {
       "children": [
        "IPY_MODEL_8cc06879e8b946d0ac88b1f66301fed8",
        "IPY_MODEL_3abe693cee3540cd98368d622850e8dd"
       ],
       "layout": "IPY_MODEL_fcb288a51f2e4050af3bea0d3c55762a"
      }
     },
     "6572a3bd96ed46c7bc93723b13914542": {
      "model_module": "@jupyter-widgets/base",
      "model_module_version": "1.2.0",
      "model_name": "LayoutModel",
      "state": {}
     },
     "65829189a6374116b92ad251ae67e28e": {
      "model_module": "@jupyter-widgets/controls",
      "model_module_version": "1.5.0",
      "model_name": "ButtonStyleModel",
      "state": {}
     },
     "65a75d96445e4213af7ca466367534f9": {
      "model_module": "@jupyter-widgets/base",
      "model_module_version": "1.2.0",
      "model_name": "LayoutModel",
      "state": {
       "width": "90%"
      }
     },
     "65d217e5305b44159c61ef5c5328e3ef": {
      "model_module": "@jupyter-widgets/controls",
      "model_module_version": "1.5.0",
      "model_name": "DescriptionStyleModel",
      "state": {
       "description_width": ""
      }
     },
     "6600322bb5ad411a8ce8b2dd7e1257ee": {
      "model_module": "@jupyter-widgets/controls",
      "model_module_version": "1.5.0",
      "model_name": "DescriptionStyleModel",
      "state": {
       "description_width": ""
      }
     },
     "660b3d2c22974043bc2fc0c7079dccf6": {
      "model_module": "@jupyter-widgets/controls",
      "model_module_version": "1.5.0",
      "model_name": "LabelModel",
      "state": {
       "layout": "IPY_MODEL_ad060fa7ee78405ab919245275da4cec",
       "style": "IPY_MODEL_2858b3d1ed714a708fe2c387d62a0f6b"
      }
     },
     "6627640672cf4551a44e1c49d9838aae": {
      "model_module": "@jupyter-widgets/controls",
      "model_module_version": "1.5.0",
      "model_name": "VBoxModel",
      "state": {
       "children": [
        "IPY_MODEL_0433e7ba4a444c39a66660775e312d75",
        "IPY_MODEL_17e698a7fc4941868d49d969dc58db0a"
       ],
       "layout": "IPY_MODEL_5019557bf312495aa8bca00758c762d8"
      }
     },
     "66542a72eb29457c9e38e923097c00d5": {
      "model_module": "@jupyter-widgets/base",
      "model_module_version": "1.2.0",
      "model_name": "LayoutModel",
      "state": {
       "width": "5%"
      }
     },
     "66732528f95d4bfe9febf57b4868fc10": {
      "model_module": "@jupyter-widgets/controls",
      "model_module_version": "1.5.0",
      "model_name": "DescriptionStyleModel",
      "state": {
       "description_width": ""
      }
     },
     "6688765efa544ce6ac82a6df711f9e6a": {
      "model_module": "@jupyter-widgets/base",
      "model_module_version": "1.2.0",
      "model_name": "LayoutModel",
      "state": {
       "width": "5%"
      }
     },
     "668b414360774a7e89e67a6405693d56": {
      "model_module": "@jupyter-widgets/controls",
      "model_module_version": "1.5.0",
      "model_name": "LabelModel",
      "state": {
       "layout": "IPY_MODEL_260bf8ad772e426888bccb8efc7dd1ee",
       "style": "IPY_MODEL_341a602c0aa1473882ed169c7f377147"
      }
     },
     "668bc6123e024c8fad2d5595454af59d": {
      "model_module": "@jupyter-widgets/controls",
      "model_module_version": "1.5.0",
      "model_name": "LabelModel",
      "state": {
       "layout": "IPY_MODEL_ec46c9164e1248368d103d3a091a8a69",
       "style": "IPY_MODEL_f163edea248d4a479c6a86f3353361f9"
      }
     },
     "6698ebe599fd48d5bc6533d3dcddfd63": {
      "model_module": "@jupyter-widgets/controls",
      "model_module_version": "1.5.0",
      "model_name": "DescriptionStyleModel",
      "state": {
       "description_width": ""
      }
     },
     "66a2f712131f43a68e14e6d525cf3368": {
      "model_module": "@jupyter-widgets/controls",
      "model_module_version": "1.5.0",
      "model_name": "RadioButtonsModel",
      "state": {
       "_options_labels": [
        "a. The Coulomb potential",
        "b. Mental anguish",
        "c. Propagating electromagnetic waves",
        "d. More charges"
       ],
       "index": 0,
       "layout": "IPY_MODEL_3a748dd480d945fdb95fe1b5d5b47cdb",
       "style": "IPY_MODEL_451e0559b7ab4edc8ddf55ab838fdcd5"
      }
     },
     "66b0f15778b044cbbac9e2418d47a930": {
      "model_module": "@jupyter-widgets/controls",
      "model_module_version": "1.5.0",
      "model_name": "DescriptionStyleModel",
      "state": {
       "description_width": ""
      }
     },
     "66b250cfadbe4007a64ba064718bc91d": {
      "model_module": "@jupyter-widgets/base",
      "model_module_version": "1.2.0",
      "model_name": "LayoutModel",
      "state": {}
     },
     "66ffbde90d9d4f81963bdf732a390efb": {
      "model_module": "@jupyter-widgets/controls",
      "model_module_version": "1.5.0",
      "model_name": "HBoxModel",
      "state": {
       "children": [
        "IPY_MODEL_6f1d991a60884ce1bdfc2b3b9a25cbe3",
        "IPY_MODEL_aadcf5409890473fab293cc1fcb7c69f"
       ],
       "layout": "IPY_MODEL_0e36f1fcd2d54626bd8d1efd490454d3"
      }
     },
     "670140e97fac4e3eae6642f499d45da9": {
      "model_module": "@jupyter-widgets/output",
      "model_module_version": "1.0.0",
      "model_name": "OutputModel",
      "state": {
       "layout": "IPY_MODEL_2251d86d48cc44d4b7e9eb4c86032acf"
      }
     },
     "67029f8a56c243fe87ff4b50e2c851d4": {
      "model_module": "@jupyter-widgets/base",
      "model_module_version": "1.2.0",
      "model_name": "LayoutModel",
      "state": {
       "width": "90%"
      }
     },
     "6715a396b1274de493149b9b5d03f745": {
      "model_module": "@jupyter-widgets/base",
      "model_module_version": "1.2.0",
      "model_name": "LayoutModel",
      "state": {
       "width": "90%"
      }
     },
     "671c6d0519514a379ca458ca5860fc3a": {
      "model_module": "@jupyter-widgets/base",
      "model_module_version": "1.2.0",
      "model_name": "LayoutModel",
      "state": {}
     },
     "67279f6fdb3a469498be777569ce9e81": {
      "model_module": "@jupyter-widgets/base",
      "model_module_version": "1.2.0",
      "model_name": "LayoutModel",
      "state": {}
     },
     "6730fe0bc98e405fb27b1ea06a188252": {
      "model_module": "@jupyter-widgets/controls",
      "model_module_version": "1.5.0",
      "model_name": "LabelModel",
      "state": {
       "layout": "IPY_MODEL_3e2f9f88128f4f4fa16607d487ff826a",
       "style": "IPY_MODEL_5a76c4a305844665b1817b4cbf993f17"
      }
     },
     "6738e1473636406597ecc3d0fadf7602": {
      "model_module": "@jupyter-widgets/controls",
      "model_module_version": "1.5.0",
      "model_name": "ButtonModel",
      "state": {
       "description": "Run Code",
       "layout": "IPY_MODEL_c126e88b7af14e538e7cd5ce397d2a12",
       "style": "IPY_MODEL_5f00a85756a546b99adee8a1a9cc7fac",
       "tooltip": "Click to test your code"
      }
     },
     "673ad0dadc934df7bd31a1233302153c": {
      "model_module": "@jupyter-widgets/base",
      "model_module_version": "1.2.0",
      "model_name": "LayoutModel",
      "state": {}
     },
     "673aebef94ae47e2864374507a85e41e": {
      "model_module": "@jupyter-widgets/controls",
      "model_module_version": "1.5.0",
      "model_name": "LabelModel",
      "state": {
       "layout": "IPY_MODEL_ec6a8d0054af42b99e5d938cc58264b2",
       "style": "IPY_MODEL_2a46b0bc49474766ae42a5901a92371b"
      }
     },
     "67562497f0b54c6b92217dbeee4de796": {
      "model_module": "@jupyter-widgets/controls",
      "model_module_version": "1.5.0",
      "model_name": "ButtonStyleModel",
      "state": {}
     },
     "675a690b4ed8438f85b93076bed18701": {
      "model_module": "@jupyter-widgets/controls",
      "model_module_version": "1.5.0",
      "model_name": "DescriptionStyleModel",
      "state": {
       "description_width": ""
      }
     },
     "6771652d2312419f8a1afe8450bdd7e9": {
      "model_module": "@jupyter-widgets/base",
      "model_module_version": "1.2.0",
      "model_name": "LayoutModel",
      "state": {
       "width": "90%"
      }
     },
     "679bb37d849847ea9494b041bff2de98": {
      "model_module": "@jupyter-widgets/base",
      "model_module_version": "1.2.0",
      "model_name": "LayoutModel",
      "state": {
       "width": "5%"
      }
     },
     "67ad00c2054a4685bdda18f3cb63fde5": {
      "model_module": "@jupyter-widgets/base",
      "model_module_version": "1.2.0",
      "model_name": "LayoutModel",
      "state": {
       "width": "90%"
      }
     },
     "67d026698041484da5265df9a5c5c1a3": {
      "model_module": "@jupyter-widgets/controls",
      "model_module_version": "1.5.0",
      "model_name": "DescriptionStyleModel",
      "state": {
       "description_width": ""
      }
     },
     "67d133d2a74146cbbb4f47ded9f3ed01": {
      "model_module": "@jupyter-widgets/base",
      "model_module_version": "1.2.0",
      "model_name": "LayoutModel",
      "state": {}
     },
     "67e1ab69766f43618b6d9d31911233fc": {
      "model_module": "@jupyter-widgets/controls",
      "model_module_version": "1.5.0",
      "model_name": "HBoxModel",
      "state": {
       "children": [
        "IPY_MODEL_da0b5b36fb5846a38eb7647507b48004",
        "IPY_MODEL_c6bb83c2e4bf4aeea7c270e0013dce85"
       ],
       "layout": "IPY_MODEL_017a03ea9c9f42309f36b054b40c5089"
      }
     },
     "67e6cb65a3684d769b0fa13ad5b1bba4": {
      "model_module": "@jupyter-widgets/base",
      "model_module_version": "1.2.0",
      "model_name": "LayoutModel",
      "state": {
       "width": "90%"
      }
     },
     "6805352a36b949fdac9393214160dcd9": {
      "model_module": "@jupyter-widgets/base",
      "model_module_version": "1.2.0",
      "model_name": "LayoutModel",
      "state": {
       "width": "5%"
      }
     },
     "6827732dd3db4926b8bdf9c4b04b049c": {
      "model_module": "@jupyter-widgets/controls",
      "model_module_version": "1.5.0",
      "model_name": "HBoxModel",
      "state": {
       "children": [
        "IPY_MODEL_7298b08a6101442f91d4d1a602947891",
        "IPY_MODEL_e31ad64b3d9c4ec38a303e393b5e21b2"
       ],
       "layout": "IPY_MODEL_ba126f74b2ec420eba025b0ba36c2c54"
      }
     },
     "682e98ee7cf14b4ba417b1692756b0d4": {
      "model_module": "@jupyter-widgets/controls",
      "model_module_version": "1.5.0",
      "model_name": "HBoxModel",
      "state": {
       "children": [
        "IPY_MODEL_6730fe0bc98e405fb27b1ea06a188252",
        "IPY_MODEL_b12045bbe2fd44d3a77ff49e6826e164"
       ],
       "layout": "IPY_MODEL_edcb2e2718484dd39f7ee29208b966b5"
      }
     },
     "6837d18b2ea84511911cede0c93257de": {
      "model_module": "@jupyter-widgets/controls",
      "model_module_version": "1.5.0",
      "model_name": "TextareaModel",
      "state": {
       "description": "String:",
       "layout": "IPY_MODEL_a09c8abb0b3c422293b7f4772b4ee392",
       "placeholder": "Type something",
       "style": "IPY_MODEL_45feebc087c840939b9a2eb7003440a9",
       "value": "for n in range(0, 10):\n  print(n)"
      }
     },
     "6837fb4cd99842daa923e4589b571a9b": {
      "model_module": "@jupyter-widgets/base",
      "model_module_version": "1.2.0",
      "model_name": "LayoutModel",
      "state": {
       "width": "5%"
      }
     },
     "683cd8895af2482782949dfc8206c3a7": {
      "model_module": "@jupyter-widgets/base",
      "model_module_version": "1.2.0",
      "model_name": "LayoutModel",
      "state": {
       "width": "5%"
      }
     },
     "684414ae803b409c9398a7a57f12493c": {
      "model_module": "@jupyter-widgets/controls",
      "model_module_version": "1.5.0",
      "model_name": "ButtonModel",
      "state": {
       "description": "Review Answers",
       "layout": "IPY_MODEL_07acd382b4c74b03bf0569efc20ca8d8",
       "style": "IPY_MODEL_1199c57b555f4e6fba84534dc23f3fd2",
       "tooltip": "Click to review answers"
      }
     },
     "6853659d9a23462697960f40c350de7c": {
      "model_module": "@jupyter-widgets/base",
      "model_module_version": "1.2.0",
      "model_name": "LayoutModel",
      "state": {}
     },
     "6881a94e087f47379f3f86161aef8bb0": {
      "model_module": "@jupyter-widgets/controls",
      "model_module_version": "1.5.0",
      "model_name": "HBoxModel",
      "state": {
       "children": [
        "IPY_MODEL_c65728419f7e4102817f3bc5d4d4f77c",
        "IPY_MODEL_8622942444304f81b24e316d073f0281"
       ],
       "layout": "IPY_MODEL_4782628699544fcb842edab88b62ebb7"
      }
     },
     "68a6ef0634524f9c8d08ad8f5f8b99aa": {
      "model_module": "@jupyter-widgets/controls",
      "model_module_version": "1.5.0",
      "model_name": "HBoxModel",
      "state": {
       "children": [
        "IPY_MODEL_b2c3cf09000445c792f4d7ede3b3d00f",
        "IPY_MODEL_2a489b261c534ad983b8780c52037ede"
       ],
       "layout": "IPY_MODEL_55b98df6511142d58221c9796fccb062"
      }
     },
     "68d1112433004d14b7acfe7803bf2b0e": {
      "model_module": "@jupyter-widgets/controls",
      "model_module_version": "1.5.0",
      "model_name": "DescriptionStyleModel",
      "state": {
       "description_width": ""
      }
     },
     "690648ecf33b468995750d043deb6e06": {
      "model_module": "@jupyter-widgets/base",
      "model_module_version": "1.2.0",
      "model_name": "LayoutModel",
      "state": {
       "width": "90%"
      }
     },
     "6906dd624e2b4490b0237debada6ef1f": {
      "model_module": "@jupyter-widgets/controls",
      "model_module_version": "1.5.0",
      "model_name": "DescriptionStyleModel",
      "state": {
       "description_width": ""
      }
     },
     "69335ec0557b43d8aa455553d11de9dc": {
      "model_module": "@jupyter-widgets/controls",
      "model_module_version": "1.5.0",
      "model_name": "DescriptionStyleModel",
      "state": {
       "description_width": ""
      }
     },
     "693fb15075b24cb3869f6179b9e23ce0": {
      "model_module": "@jupyter-widgets/base",
      "model_module_version": "1.2.0",
      "model_name": "LayoutModel",
      "state": {
       "width": "5%"
      }
     },
     "6973d6840a424e0096415c83a0c3c976": {
      "model_module": "@jupyter-widgets/controls",
      "model_module_version": "1.5.0",
      "model_name": "TextareaModel",
      "state": {
       "description": "String:",
       "layout": "IPY_MODEL_6c4f96098ef446f786b0919a7cfd46b2",
       "placeholder": "Type something",
       "style": "IPY_MODEL_dbbd0acf30f34408bae31b673547d795"
      }
     },
     "69a35d5b16364a92a9158e7ca22059b0": {
      "model_module": "@jupyter-widgets/controls",
      "model_module_version": "1.5.0",
      "model_name": "HBoxModel",
      "state": {
       "children": [
        "IPY_MODEL_6fdb28671c834fa4a1621666f23f37c9",
        "IPY_MODEL_fbc3619fd0934aecb3f4faf649a90af2"
       ],
       "layout": "IPY_MODEL_86ca7356a32549989645dbe08df047d0"
      }
     },
     "69ed33725ab14f8aba5abb9eb85493c8": {
      "model_module": "@jupyter-widgets/controls",
      "model_module_version": "1.5.0",
      "model_name": "HBoxModel",
      "state": {
       "children": [
        "IPY_MODEL_4c267a00d58b4b63acfe7b8b212f76da",
        "IPY_MODEL_da816d3614764bb78f28e1636415d760"
       ],
       "layout": "IPY_MODEL_31b2eb64a1664d4abce045459109edae"
      }
     },
     "69ed3aa04299437d99865b91b45ba73c": {
      "model_module": "@jupyter-widgets/base",
      "model_module_version": "1.2.0",
      "model_name": "LayoutModel",
      "state": {}
     },
     "69fb67e489d14ecd99bf4412d542b674": {
      "model_module": "@jupyter-widgets/base",
      "model_module_version": "1.2.0",
      "model_name": "LayoutModel",
      "state": {
       "width": "5%"
      }
     },
     "69fef75d1f804cb98ba8acfa25b438ce": {
      "model_module": "@jupyter-widgets/controls",
      "model_module_version": "1.5.0",
      "model_name": "HBoxModel",
      "state": {
       "children": [
        "IPY_MODEL_b980a8cf5f04490bb162a2934a03f2eb",
        "IPY_MODEL_76e7a94924aa4bd1ad538363292b6360"
       ],
       "layout": "IPY_MODEL_e734d9463ca4480395046abca70ffc0d"
      }
     },
     "6a0c84157bb345d08c3eb5b52949c1a9": {
      "model_module": "@jupyter-widgets/controls",
      "model_module_version": "1.5.0",
      "model_name": "DescriptionStyleModel",
      "state": {
       "description_width": ""
      }
     },
     "6a0d63fe22b94cdcafaec1890d68a246": {
      "model_module": "@jupyter-widgets/controls",
      "model_module_version": "1.5.0",
      "model_name": "DescriptionStyleModel",
      "state": {
       "description_width": ""
      }
     },
     "6a148181f4ca4197b5b79360635fbedc": {
      "model_module": "@jupyter-widgets/controls",
      "model_module_version": "1.5.0",
      "model_name": "DescriptionStyleModel",
      "state": {
       "description_width": ""
      }
     },
     "6a182c27d85b48d992190403bf344dc9": {
      "model_module": "@jupyter-widgets/controls",
      "model_module_version": "1.5.0",
      "model_name": "DescriptionStyleModel",
      "state": {
       "description_width": ""
      }
     },
     "6a1947bb01ee4c09b0a18438a72adbd9": {
      "model_module": "@jupyter-widgets/controls",
      "model_module_version": "1.5.0",
      "model_name": "DescriptionStyleModel",
      "state": {
       "description_width": ""
      }
     },
     "6a3c885cff954cd092d21ba706ab434d": {
      "model_module": "@jupyter-widgets/controls",
      "model_module_version": "1.5.0",
      "model_name": "DescriptionStyleModel",
      "state": {
       "description_width": ""
      }
     },
     "6a47347c0472481d9eddb13349ab64ee": {
      "model_module": "@jupyter-widgets/controls",
      "model_module_version": "1.5.0",
      "model_name": "LabelModel",
      "state": {
       "layout": "IPY_MODEL_51a43e68c00a4401b106d533a4bd8d4f",
       "style": "IPY_MODEL_5967e1ecb6504340b40416ae41606563"
      }
     },
     "6a4ba0ca83cb4cbb8f676ada83278b25": {
      "model_module": "@jupyter-widgets/base",
      "model_module_version": "1.2.0",
      "model_name": "LayoutModel",
      "state": {}
     },
     "6a4d290d5cb74e7d8dc0910a1b22fba0": {
      "model_module": "@jupyter-widgets/controls",
      "model_module_version": "1.5.0",
      "model_name": "DescriptionStyleModel",
      "state": {
       "description_width": ""
      }
     },
     "6a5739b3638743a9b1547e302b16e700": {
      "model_module": "@jupyter-widgets/base",
      "model_module_version": "1.2.0",
      "model_name": "LayoutModel",
      "state": {}
     },
     "6a657b3d21f34ce0b558a200661185b5": {
      "model_module": "@jupyter-widgets/controls",
      "model_module_version": "1.5.0",
      "model_name": "HBoxModel",
      "state": {
       "children": [
        "IPY_MODEL_44fe95b528e6477182d53108bfe71f49",
        "IPY_MODEL_9a51d3a1d19443bcb8bbfb78c65e370f"
       ],
       "layout": "IPY_MODEL_564f317ee85741c9b869526fd7d59c8e"
      }
     },
     "6a86ce61707a4282bdde2d0f025933dc": {
      "model_module": "@jupyter-widgets/base",
      "model_module_version": "1.2.0",
      "model_name": "LayoutModel",
      "state": {}
     },
     "6aa364e76e244bb29ecc4f71c38db932": {
      "model_module": "@jupyter-widgets/output",
      "model_module_version": "1.0.0",
      "model_name": "OutputModel",
      "state": {
       "layout": "IPY_MODEL_8790080c747d452e8be6f8926e499a2d"
      }
     },
     "6aa4b671e0c9481f91241d97390bfe13": {
      "model_module": "@jupyter-widgets/controls",
      "model_module_version": "1.5.0",
      "model_name": "LabelModel",
      "state": {
       "layout": "IPY_MODEL_a29fd49f4c024649a3f8a89ab76449f7",
       "style": "IPY_MODEL_0d82c9d452ab43dd8c599ef2b267ec80"
      }
     },
     "6acc4fb473224fe5950a0ad74c80c1cb": {
      "model_module": "@jupyter-widgets/base",
      "model_module_version": "1.2.0",
      "model_name": "LayoutModel",
      "state": {}
     },
     "6ae028b2586f47dfbc9a30f8bdd63796": {
      "model_module": "@jupyter-widgets/base",
      "model_module_version": "1.2.0",
      "model_name": "LayoutModel",
      "state": {
       "width": "5%"
      }
     },
     "6af819a7115a433fab61c09840aab9a5": {
      "model_module": "@jupyter-widgets/base",
      "model_module_version": "1.2.0",
      "model_name": "LayoutModel",
      "state": {}
     },
     "6b15525eea8c487cbd430cd9c831bb1a": {
      "model_module": "@jupyter-widgets/base",
      "model_module_version": "1.2.0",
      "model_name": "LayoutModel",
      "state": {
       "width": "5%"
      }
     },
     "6b1cc347f8fc4514b3cae3c2206492cb": {
      "model_module": "@jupyter-widgets/controls",
      "model_module_version": "1.5.0",
      "model_name": "LabelModel",
      "state": {
       "layout": "IPY_MODEL_803aacfdcab34a03a84f14360d6103c7",
       "style": "IPY_MODEL_a20e6f59bd8746b89812c11c5a19c000"
      }
     },
     "6b49488c21d143018d15f723e38bb480": {
      "model_module": "@jupyter-widgets/base",
      "model_module_version": "1.2.0",
      "model_name": "LayoutModel",
      "state": {
       "width": "90%"
      }
     },
     "6b70018cfdb944af95d298c09ba1d36a": {
      "model_module": "@jupyter-widgets/base",
      "model_module_version": "1.2.0",
      "model_name": "LayoutModel",
      "state": {
       "width": "5%"
      }
     },
     "6bcd0758f20545b3b216b414337a70fc": {
      "model_module": "@jupyter-widgets/controls",
      "model_module_version": "1.5.0",
      "model_name": "DescriptionStyleModel",
      "state": {
       "description_width": ""
      }
     },
     "6be8e77b0d4942fe8d175665296aa003": {
      "model_module": "@jupyter-widgets/base",
      "model_module_version": "1.2.0",
      "model_name": "LayoutModel",
      "state": {}
     },
     "6bf4ea53ae1b45ea8496c00de9462a09": {
      "model_module": "@jupyter-widgets/base",
      "model_module_version": "1.2.0",
      "model_name": "LayoutModel",
      "state": {}
     },
     "6c1cc0a6b1bd4dbabc62b83df51caf00": {
      "model_module": "@jupyter-widgets/base",
      "model_module_version": "1.2.0",
      "model_name": "LayoutModel",
      "state": {
       "width": "5%"
      }
     },
     "6c24909f9a734628b90777fe4beadb59": {
      "model_module": "@jupyter-widgets/base",
      "model_module_version": "1.2.0",
      "model_name": "LayoutModel",
      "state": {
       "width": "90%"
      }
     },
     "6c373787734b4bc4b5a38b5abc010a87": {
      "model_module": "@jupyter-widgets/controls",
      "model_module_version": "1.5.0",
      "model_name": "LabelModel",
      "state": {
       "layout": "IPY_MODEL_43bf7aee0c6e4eca9f9dd9e3bc6e29eb",
       "style": "IPY_MODEL_9f2e36a918d7490ea8949d56df0849b7"
      }
     },
     "6c4f96098ef446f786b0919a7cfd46b2": {
      "model_module": "@jupyter-widgets/base",
      "model_module_version": "1.2.0",
      "model_name": "LayoutModel",
      "state": {
       "width": "90%"
      }
     },
     "6c596f4a095f4d0dae6af30385f3ad34": {
      "model_module": "@jupyter-widgets/controls",
      "model_module_version": "1.5.0",
      "model_name": "HBoxModel",
      "state": {
       "children": [
        "IPY_MODEL_234b4cbaebbf416cab496433f8411d83",
        "IPY_MODEL_30fd2d8e41f543ca849f5a45b31023dd"
       ],
       "layout": "IPY_MODEL_ddf1d72705bf426ea80e48dfc2a5bcdc"
      }
     },
     "6c6231f9cd624708a9b9c80f8ea6cdb2": {
      "model_module": "@jupyter-widgets/controls",
      "model_module_version": "1.5.0",
      "model_name": "RadioButtonsModel",
      "state": {
       "_options_labels": [
        "a. Diverges",
        "b. Converges",
        "c. Implodes",
        "d. Extrapolates"
       ],
       "index": 0,
       "layout": "IPY_MODEL_987dc8db38b044bca1cc3c4bfe99a710",
       "style": "IPY_MODEL_0170b52a7c5e4c3d98ca323e47885e03"
      }
     },
     "6c884484c93a407c9061482a7821d8db": {
      "model_module": "@jupyter-widgets/controls",
      "model_module_version": "1.5.0",
      "model_name": "HBoxModel",
      "state": {
       "children": [
        "IPY_MODEL_f67d7d37450b496792f56190f9f80835",
        "IPY_MODEL_19e0625313ba4fb3ae8b85a181342a8a"
       ],
       "layout": "IPY_MODEL_805002292ae64605b18b502a8eaab2dd"
      }
     },
     "6c8ac1d656f143068ef59679548d1883": {
      "model_module": "@jupyter-widgets/controls",
      "model_module_version": "1.5.0",
      "model_name": "HBoxModel",
      "state": {
       "children": [
        "IPY_MODEL_d41f06e4ebd24d54a3ebd4e915e760a8",
        "IPY_MODEL_c9490e6cb2c34782a490d7c9f875482e"
       ],
       "layout": "IPY_MODEL_9c5fc8f2e73f4ece978e48ddef1fee9c"
      }
     },
     "6c9fece9352d4daa82e1041a469f3fc0": {
      "model_module": "@jupyter-widgets/base",
      "model_module_version": "1.2.0",
      "model_name": "LayoutModel",
      "state": {}
     },
     "6cbe3894d7874fd38956ee42aaa23e03": {
      "model_module": "@jupyter-widgets/controls",
      "model_module_version": "1.5.0",
      "model_name": "DescriptionStyleModel",
      "state": {
       "description_width": ""
      }
     },
     "6cc17c6a6f0d40cfaea7a9cbb23205e9": {
      "model_module": "@jupyter-widgets/base",
      "model_module_version": "1.2.0",
      "model_name": "LayoutModel",
      "state": {
       "width": "90%"
      }
     },
     "6cd119797ae94d60ab0fd91ff127f93b": {
      "model_module": "@jupyter-widgets/controls",
      "model_module_version": "1.5.0",
      "model_name": "DescriptionStyleModel",
      "state": {
       "description_width": ""
      }
     },
     "6ce7fecc44694cabb2835b9670472b3b": {
      "model_module": "@jupyter-widgets/output",
      "model_module_version": "1.0.0",
      "model_name": "OutputModel",
      "state": {
       "layout": "IPY_MODEL_0625a9fec53a4bf2b34da18a11767a0b",
       "outputs": [
        {
         "ename": "SyntaxError",
         "evalue": "invalid syntax (<string>, line 1)",
         "output_type": "error",
         "traceback": [
          "\u001b[0;36m  File \u001b[0;32m\"<string>\"\u001b[0;36m, line \u001b[0;32m1\u001b[0m\n\u001b[0;31m    %matplotlib inline\u001b[0m\n\u001b[0m    ^\u001b[0m\n\u001b[0;31mSyntaxError\u001b[0m\u001b[0;31m:\u001b[0m invalid syntax\n"
         ]
        }
       ]
      }
     },
     "6ce9c74f28fd49939702f8283e62f592": {
      "model_module": "@jupyter-widgets/controls",
      "model_module_version": "1.5.0",
      "model_name": "HBoxModel",
      "state": {
       "children": [
        "IPY_MODEL_d1805867553c4a63b179df0048f9c62d",
        "IPY_MODEL_9ffc9fdc383e47969224368a28e70ba0"
       ],
       "layout": "IPY_MODEL_11ed850eb7644d61a8f4da5605a77286"
      }
     },
     "6d12aeea9aba4ac79599b5f177144ef1": {
      "model_module": "@jupyter-widgets/controls",
      "model_module_version": "1.5.0",
      "model_name": "LabelModel",
      "state": {
       "layout": "IPY_MODEL_89167479ddf64308a5e2e5c826e320c1",
       "style": "IPY_MODEL_5c7dec76bfe945048db888b9ec8bec7a"
      }
     },
     "6d1a5c53c17f433bb3c1744b0cf770c9": {
      "model_module": "@jupyter-widgets/controls",
      "model_module_version": "1.5.0",
      "model_name": "TextareaModel",
      "state": {
       "description": "Code:",
       "layout": "IPY_MODEL_d96aa3513fe2470e9058e6a8a762e17b",
       "placeholder": "Type code here",
       "style": "IPY_MODEL_b1c5f54519474a6995ce6a88e4978e94"
      }
     },
     "6d32ac0219994682be1e654b95dd76c3": {
      "model_module": "@jupyter-widgets/base",
      "model_module_version": "1.2.0",
      "model_name": "LayoutModel",
      "state": {
       "width": "5%"
      }
     },
     "6d4e238532f74b008452e39e56d2bdac": {
      "model_module": "@jupyter-widgets/controls",
      "model_module_version": "1.5.0",
      "model_name": "VBoxModel",
      "state": {
       "children": [
        "IPY_MODEL_07582670a47e4546afac636c277f3c8a"
       ],
       "layout": "IPY_MODEL_3e47a206746f415a82cdc9f08639a897"
      }
     },
     "6d572c0dfda741338dd3903fcfe5ac60": {
      "model_module": "@jupyter-widgets/base",
      "model_module_version": "1.2.0",
      "model_name": "LayoutModel",
      "state": {}
     },
     "6d595b1419684eeb828c792c42b25173": {
      "model_module": "@jupyter-widgets/controls",
      "model_module_version": "1.5.0",
      "model_name": "LabelModel",
      "state": {
       "layout": "IPY_MODEL_1b1f2b476ed148d78261e0d9f1be777e",
       "style": "IPY_MODEL_68d1112433004d14b7acfe7803bf2b0e"
      }
     },
     "6d6533e597d7477094937dab1201e4d3": {
      "model_module": "@jupyter-widgets/controls",
      "model_module_version": "1.5.0",
      "model_name": "VBoxModel",
      "state": {
       "children": [
        "IPY_MODEL_f3fa45eddc0143f18125fda6bca9fbee",
        "IPY_MODEL_e3575457bf49412ba85c2482e7f67516"
       ],
       "layout": "IPY_MODEL_ee061ac24bbd4393bcd6c6135abf3522"
      }
     },
     "6d90af2638184ea2903e4358eb9c26e6": {
      "model_module": "@jupyter-widgets/base",
      "model_module_version": "1.2.0",
      "model_name": "LayoutModel",
      "state": {}
     },
     "6d948085246446fc8553df6c5367a33b": {
      "model_module": "@jupyter-widgets/controls",
      "model_module_version": "1.5.0",
      "model_name": "LabelModel",
      "state": {
       "layout": "IPY_MODEL_2e8f7676c12e4ebbaedf927a8704c19a",
       "style": "IPY_MODEL_a8f72f4ccc3c4086b5b510a23667e1f1"
      }
     },
     "6da4fe40f58041988ad0f7fc887dafb7": {
      "model_module": "@jupyter-widgets/controls",
      "model_module_version": "1.5.0",
      "model_name": "LabelModel",
      "state": {
       "layout": "IPY_MODEL_4b8cd759a55749d2bfe7e4d1c773890b",
       "style": "IPY_MODEL_709b4d662f0e432599aa93f1bf9b646e"
      }
     },
     "6db4692f2eae47408c280b1a2c77db4b": {
      "model_module": "@jupyter-widgets/base",
      "model_module_version": "1.2.0",
      "model_name": "LayoutModel",
      "state": {
       "width": "90%"
      }
     },
     "6dc3186b14bb41d3b2532baefc19cd59": {
      "model_module": "@jupyter-widgets/base",
      "model_module_version": "1.2.0",
      "model_name": "LayoutModel",
      "state": {}
     },
     "6deee33dc4b249fb9f1748bdd45f3898": {
      "model_module": "@jupyter-widgets/base",
      "model_module_version": "1.2.0",
      "model_name": "LayoutModel",
      "state": {
       "width": "90%"
      }
     },
     "6e062e669b1a4bceba5ab392e7b54665": {
      "model_module": "@jupyter-widgets/controls",
      "model_module_version": "1.5.0",
      "model_name": "DescriptionStyleModel",
      "state": {
       "description_width": ""
      }
     },
     "6e0c9d1e272e406a8616407f5ef9665b": {
      "model_module": "@jupyter-widgets/base",
      "model_module_version": "1.2.0",
      "model_name": "LayoutModel",
      "state": {
       "width": "90%"
      }
     },
     "6e24b326ebba4222ada6be2222d7f456": {
      "model_module": "@jupyter-widgets/controls",
      "model_module_version": "1.5.0",
      "model_name": "TextareaModel",
      "state": {
       "description": "String:",
       "layout": "IPY_MODEL_bc44c366a81c48178df35bdf56e384eb",
       "placeholder": "Type something",
       "style": "IPY_MODEL_ae7cecfdac0f430ab762b481aa6f212f"
      }
     },
     "6e45008f29a9401c937954f2bd443169": {
      "model_module": "@jupyter-widgets/base",
      "model_module_version": "1.2.0",
      "model_name": "LayoutModel",
      "state": {}
     },
     "6e5491a25a9b458d9817f7b809b5eb67": {
      "model_module": "@jupyter-widgets/controls",
      "model_module_version": "1.5.0",
      "model_name": "TextareaModel",
      "state": {
       "description": "Answer:",
       "layout": "IPY_MODEL_3771fb4f8ed44a6c978e54c20d5f899c",
       "placeholder": "Type something",
       "style": "IPY_MODEL_afab403ed9e94dc1966d21557477a5ac"
      }
     },
     "6e5e233137244921b126411342b50d91": {
      "model_module": "@jupyter-widgets/controls",
      "model_module_version": "1.5.0",
      "model_name": "LabelModel",
      "state": {
       "layout": "IPY_MODEL_a6db30ebe8ee41d1bf604feafc179288",
       "style": "IPY_MODEL_3e592a2e4a0e47e68ae89d4af673fdde"
      }
     },
     "6e70779088394b46a6b5a18d3c6c91b1": {
      "model_module": "@jupyter-widgets/base",
      "model_module_version": "1.2.0",
      "model_name": "LayoutModel",
      "state": {}
     },
     "6e7582c275a8490d90d66f189115515b": {
      "model_module": "@jupyter-widgets/base",
      "model_module_version": "1.2.0",
      "model_name": "LayoutModel",
      "state": {}
     },
     "6ea0626d895848a9bd1a3787539393b9": {
      "model_module": "@jupyter-widgets/controls",
      "model_module_version": "1.5.0",
      "model_name": "LabelModel",
      "state": {
       "layout": "IPY_MODEL_98eb4d4502b4452b83fc1c8861390787",
       "style": "IPY_MODEL_c4815b26bc724820adcad1481b6733c4"
      }
     },
     "6ea28ae7c65942d6991ee77c049cfe1a": {
      "model_module": "@jupyter-widgets/base",
      "model_module_version": "1.2.0",
      "model_name": "LayoutModel",
      "state": {}
     },
     "6ea8323f38824bc98baf63f0208ce5bb": {
      "model_module": "@jupyter-widgets/controls",
      "model_module_version": "1.5.0",
      "model_name": "DescriptionStyleModel",
      "state": {
       "description_width": ""
      }
     },
     "6eeb26b97c854825bce36edc8156ec3a": {
      "model_module": "@jupyter-widgets/controls",
      "model_module_version": "1.5.0",
      "model_name": "RadioButtonsModel",
      "state": {
       "_options_labels": [
        "a. Algebraic sums",
        "b. Time derivatives",
        "c. Products",
        "d. More convolutions"
       ],
       "index": 0,
       "layout": "IPY_MODEL_c3b0fc6d29cf44269c6e4d749c71215e",
       "style": "IPY_MODEL_a71467cc539b498eaf80aef0574e3d97"
      }
     },
     "6f028b2e09b84b0c853278a948f162bb": {
      "model_module": "@jupyter-widgets/controls",
      "model_module_version": "1.5.0",
      "model_name": "HBoxModel",
      "state": {
       "children": [
        "IPY_MODEL_4aea2264345f4fcba07fdd5de46beb46",
        "IPY_MODEL_1f37729891734b5f9e9c78e8acfd2f87"
       ],
       "layout": "IPY_MODEL_ff38bf6344b14694a17bb723002991b5"
      }
     },
     "6f1d991a60884ce1bdfc2b3b9a25cbe3": {
      "model_module": "@jupyter-widgets/controls",
      "model_module_version": "1.5.0",
      "model_name": "LabelModel",
      "state": {
       "layout": "IPY_MODEL_22df016391de4ab5a0d1943c9dd93933",
       "style": "IPY_MODEL_798c275efd3743b5b8823abbad8737d4"
      }
     },
     "6f2975e24f0342db94c26cc892e0b1d6": {
      "model_module": "@jupyter-widgets/controls",
      "model_module_version": "1.5.0",
      "model_name": "DescriptionStyleModel",
      "state": {
       "description_width": ""
      }
     },
     "6f56f0a01a214fa880855c0568465645": {
      "model_module": "@jupyter-widgets/base",
      "model_module_version": "1.2.0",
      "model_name": "LayoutModel",
      "state": {
       "width": "90%"
      }
     },
     "6f5e8b0344a344fe822fab9090114e5a": {
      "model_module": "@jupyter-widgets/controls",
      "model_module_version": "1.5.0",
      "model_name": "RadioButtonsModel",
      "state": {
       "_options_labels": [
        "a. The free charge density",
        "b. The polarization density",
        "c. The free charge current",
        "d. The magnetic field"
       ],
       "index": 0,
       "layout": "IPY_MODEL_e774a7fbeb8742b691a3117c494e5932",
       "style": "IPY_MODEL_d4c83d2e249f4032b72bf0d51dbe5031"
      }
     },
     "6f7e4ee2a01d4a9990635c5fc3637c65": {
      "model_module": "@jupyter-widgets/base",
      "model_module_version": "1.2.0",
      "model_name": "LayoutModel",
      "state": {
       "width": "90%"
      }
     },
     "6f8c9207f689401ab7ae37670011c788": {
      "model_module": "@jupyter-widgets/controls",
      "model_module_version": "1.5.0",
      "model_name": "LabelModel",
      "state": {
       "layout": "IPY_MODEL_00252bb1e873462a95c117bd3f7ab0c5",
       "style": "IPY_MODEL_9f8ec71aa47f4530b429229cb1a9ef53"
      }
     },
     "6f8f985b32d64fa087991ca8bfdad564": {
      "model_module": "@jupyter-widgets/base",
      "model_module_version": "1.2.0",
      "model_name": "LayoutModel",
      "state": {
       "width": "90%"
      }
     },
     "6faadbe2911640d38aa5dcaa1d41c208": {
      "model_module": "@jupyter-widgets/base",
      "model_module_version": "1.2.0",
      "model_name": "LayoutModel",
      "state": {
       "width": "90%"
      }
     },
     "6fc3001e6c2f4de9bb3a1935a26f450f": {
      "model_module": "@jupyter-widgets/controls",
      "model_module_version": "1.5.0",
      "model_name": "HBoxModel",
      "state": {
       "children": [
        "IPY_MODEL_f9f0a3f62e1c4d5088c5d68eb3e112da",
        "IPY_MODEL_ca68afb42567404fafeba840473ea39f"
       ],
       "layout": "IPY_MODEL_98f280e5732345479c1346bc555a3d6c"
      }
     },
     "6fc9058b970a4fc1afe836abc7352721": {
      "model_module": "@jupyter-widgets/base",
      "model_module_version": "1.2.0",
      "model_name": "LayoutModel",
      "state": {}
     },
     "6fdb28671c834fa4a1621666f23f37c9": {
      "model_module": "@jupyter-widgets/controls",
      "model_module_version": "1.5.0",
      "model_name": "LabelModel",
      "state": {
       "layout": "IPY_MODEL_af5c21cc5ff740789d4e7f68b58ca9d8",
       "style": "IPY_MODEL_9492582bc3a9410886dc80e76e4e1f5d"
      }
     },
     "6fe5840f34ae40eda932a58fc46288d7": {
      "model_module": "@jupyter-widgets/controls",
      "model_module_version": "1.5.0",
      "model_name": "DescriptionStyleModel",
      "state": {
       "description_width": ""
      }
     },
     "6ff282488a4f4d33a923f276da08cf3b": {
      "model_module": "@jupyter-widgets/controls",
      "model_module_version": "1.5.0",
      "model_name": "ButtonStyleModel",
      "state": {}
     },
     "70239d70647d4bd2b62869f7c636776e": {
      "model_module": "@jupyter-widgets/controls",
      "model_module_version": "1.5.0",
      "model_name": "LabelModel",
      "state": {
       "layout": "IPY_MODEL_3d27b5196b39460b91fe9ac7eda69027",
       "style": "IPY_MODEL_9aed3ca4cf7543129da555e31f771fd4"
      }
     },
     "702676811e0a420fb706fdb72814c29c": {
      "model_module": "@jupyter-widgets/base",
      "model_module_version": "1.2.0",
      "model_name": "LayoutModel",
      "state": {}
     },
     "709b4d662f0e432599aa93f1bf9b646e": {
      "model_module": "@jupyter-widgets/controls",
      "model_module_version": "1.5.0",
      "model_name": "DescriptionStyleModel",
      "state": {
       "description_width": ""
      }
     },
     "709daf28fca34a5db0f23243afafc318": {
      "model_module": "@jupyter-widgets/base",
      "model_module_version": "1.2.0",
      "model_name": "LayoutModel",
      "state": {
       "width": "5%"
      }
     },
     "70bdc90d3f3749b1aa370e29683c2b58": {
      "model_module": "@jupyter-widgets/controls",
      "model_module_version": "1.5.0",
      "model_name": "LabelModel",
      "state": {
       "layout": "IPY_MODEL_5db0a9553bf345b0a6c2da00d4dccf38",
       "style": "IPY_MODEL_469cd00b851141af827e15e9d1644196"
      }
     },
     "70c678db4eda4603b4ddf96b2a586756": {
      "model_module": "@jupyter-widgets/controls",
      "model_module_version": "1.5.0",
      "model_name": "LabelModel",
      "state": {
       "layout": "IPY_MODEL_a9fe5f1f516a4a34b4ffce9fff9903a9",
       "style": "IPY_MODEL_722a85dc6fa040719c4ec4efcfd9d129"
      }
     },
     "70e3f1a3774a448e98d53f4741a4957e": {
      "model_module": "@jupyter-widgets/controls",
      "model_module_version": "1.5.0",
      "model_name": "LabelModel",
      "state": {
       "layout": "IPY_MODEL_993e8ca567a2484ba5d89e4245a10963",
       "style": "IPY_MODEL_0d07c97dd6bc4e64bb2e75e44078c9a5"
      }
     },
     "71265ab2c3804b22ba856a6c05b33ba2": {
      "model_module": "@jupyter-widgets/base",
      "model_module_version": "1.2.0",
      "model_name": "LayoutModel",
      "state": {
       "width": "5%"
      }
     },
     "712d3f65fbb84b1db4d73ed77dfce941": {
      "model_module": "@jupyter-widgets/controls",
      "model_module_version": "1.5.0",
      "model_name": "DescriptionStyleModel",
      "state": {
       "description_width": ""
      }
     },
     "712d8bdcba1749078fc3e836eb3bee48": {
      "model_module": "@jupyter-widgets/controls",
      "model_module_version": "1.5.0",
      "model_name": "RadioButtonsModel",
      "state": {
       "_options_labels": [
        "a. The electric field",
        "b. The charge density",
        "c. The current density",
        "d. Both b and c"
       ],
       "index": 0,
       "layout": "IPY_MODEL_f0351ca55c434be6b7d21b8979058c13",
       "style": "IPY_MODEL_d55022897e7248d5877f485c1aed5e26"
      }
     },
     "7138e0aa97814e6e925971259ef3d19a": {
      "model_module": "@jupyter-widgets/base",
      "model_module_version": "1.2.0",
      "model_name": "LayoutModel",
      "state": {
       "width": "5%"
      }
     },
     "713d3177ae6d46ecb0dcbcdb58483623": {
      "model_module": "@jupyter-widgets/base",
      "model_module_version": "1.2.0",
      "model_name": "LayoutModel",
      "state": {
       "width": "90%"
      }
     },
     "7149b6f505c5481fb910a312cf09e8e2": {
      "model_module": "@jupyter-widgets/controls",
      "model_module_version": "1.5.0",
      "model_name": "LabelModel",
      "state": {
       "layout": "IPY_MODEL_d2232c0ad31645e2a1c95869fa6bab0a",
       "style": "IPY_MODEL_9de497d83bf84765a51cb751829914c2"
      }
     },
     "714e106980634965919d36a794548627": {
      "model_module": "@jupyter-widgets/base",
      "model_module_version": "1.2.0",
      "model_name": "LayoutModel",
      "state": {}
     },
     "715517f958c8481ea6f15262983bb65f": {
      "model_module": "@jupyter-widgets/controls",
      "model_module_version": "1.5.0",
      "model_name": "DescriptionStyleModel",
      "state": {
       "description_width": ""
      }
     },
     "7167838fbfea4c1fad4053b97ffb93e0": {
      "model_module": "@jupyter-widgets/controls",
      "model_module_version": "1.5.0",
      "model_name": "LabelModel",
      "state": {
       "layout": "IPY_MODEL_6805352a36b949fdac9393214160dcd9",
       "style": "IPY_MODEL_2f6f75e4286743ba929c8eefb43d8111"
      }
     },
     "7188c4bac710454fbce92658cf516882": {
      "model_module": "@jupyter-widgets/base",
      "model_module_version": "1.2.0",
      "model_name": "LayoutModel",
      "state": {}
     },
     "7192b9853c8d49c7aaea756838f7582e": {
      "model_module": "@jupyter-widgets/base",
      "model_module_version": "1.2.0",
      "model_name": "LayoutModel",
      "state": {}
     },
     "71c286f690f34f7bb3b9746ce128693e": {
      "model_module": "@jupyter-widgets/controls",
      "model_module_version": "1.5.0",
      "model_name": "HBoxModel",
      "state": {
       "children": [
        "IPY_MODEL_5faea397e3b441f6a7c10d919d6c6923",
        "IPY_MODEL_f773ee667f1048f995146504476eb911"
       ],
       "layout": "IPY_MODEL_1d45ff0c14d04dc187907b4a2fc1c883"
      }
     },
     "71cfa60d8b1844b9bd0b107c1765090e": {
      "model_module": "@jupyter-widgets/output",
      "model_module_version": "1.0.0",
      "model_name": "OutputModel",
      "state": {
       "layout": "IPY_MODEL_1a906bc4faf6487281f39fea7ef7900e"
      }
     },
     "71fcf93cf5ea4f2d8c395684b4c25875": {
      "model_module": "@jupyter-widgets/controls",
      "model_module_version": "1.5.0",
      "model_name": "DescriptionStyleModel",
      "state": {
       "description_width": ""
      }
     },
     "720544b44bf8487791d225ab6e8d2b83": {
      "model_module": "@jupyter-widgets/controls",
      "model_module_version": "1.5.0",
      "model_name": "TextareaModel",
      "state": {
       "description": "String:",
       "layout": "IPY_MODEL_4dcafefcae1a4ab085dd3816eb121438",
       "placeholder": "Type something",
       "style": "IPY_MODEL_1a5c197c441444b79d8681b40de7b6cc"
      }
     },
     "722a85dc6fa040719c4ec4efcfd9d129": {
      "model_module": "@jupyter-widgets/controls",
      "model_module_version": "1.5.0",
      "model_name": "DescriptionStyleModel",
      "state": {
       "description_width": ""
      }
     },
     "7245c2105117452e9e05409e04cd40c2": {
      "model_module": "@jupyter-widgets/controls",
      "model_module_version": "1.5.0",
      "model_name": "HBoxModel",
      "state": {
       "children": [
        "IPY_MODEL_a5690b9b62e14a1989f2c79fe57c42ae",
        "IPY_MODEL_21de4e32bd164398b69aeb5177447c20"
       ],
       "layout": "IPY_MODEL_c79cb1f10a194740a5423dfcb4269bd9"
      }
     },
     "724f15161aad460ba391ff983b2cf67c": {
      "model_module": "@jupyter-widgets/controls",
      "model_module_version": "1.5.0",
      "model_name": "DescriptionStyleModel",
      "state": {
       "description_width": ""
      }
     },
     "7262f9a7068f4bed91266de83e13b5c1": {
      "model_module": "@jupyter-widgets/base",
      "model_module_version": "1.2.0",
      "model_name": "LayoutModel",
      "state": {
       "width": "90%"
      }
     },
     "727414e269a449849185a0af1487da86": {
      "model_module": "@jupyter-widgets/controls",
      "model_module_version": "1.5.0",
      "model_name": "TextareaModel",
      "state": {
       "description": "Code:",
       "layout": "IPY_MODEL_e373da79c2374377aebae347898b9ef8",
       "placeholder": "Type code here",
       "style": "IPY_MODEL_4fc69b7a1a4046a1925c0c1ca59518b8",
       "value": "for n in range(0, 10):\n  print(n**2)"
      }
     },
     "72989df2ea1144e4834affca4697b9e0": {
      "model_module": "@jupyter-widgets/controls",
      "model_module_version": "1.5.0",
      "model_name": "TextareaModel",
      "state": {
       "description": "String:",
       "layout": "IPY_MODEL_40386ba30952465381460246c3ad4808",
       "placeholder": "Type something",
       "style": "IPY_MODEL_ed2b5f63e8644143b07bcb83dc817c9a"
      }
     },
     "7298b08a6101442f91d4d1a602947891": {
      "model_module": "@jupyter-widgets/controls",
      "model_module_version": "1.5.0",
      "model_name": "LabelModel",
      "state": {
       "layout": "IPY_MODEL_71265ab2c3804b22ba856a6c05b33ba2",
       "style": "IPY_MODEL_712d3f65fbb84b1db4d73ed77dfce941"
      }
     },
     "72afc0fec1f948ebab5e2c1f310c4c56": {
      "model_module": "@jupyter-widgets/controls",
      "model_module_version": "1.5.0",
      "model_name": "HBoxModel",
      "state": {
       "children": [
        "IPY_MODEL_9f895566ac4d4558b69fa6d90d38cb5a",
        "IPY_MODEL_cae99c2692dc4a42ae8f1776d26a814c"
       ],
       "layout": "IPY_MODEL_d387a678303a42f2be246b12a2d2f446"
      }
     },
     "72b00c6b04cc4d0cae3862d829e08338": {
      "model_module": "@jupyter-widgets/controls",
      "model_module_version": "1.5.0",
      "model_name": "LabelModel",
      "state": {
       "layout": "IPY_MODEL_8c25dcfdd7fa4b65979ad5a48581d6bc",
       "style": "IPY_MODEL_c542738c64464f2f9798de0ebaa52cf7"
      }
     },
     "72d12e5089594cd8aaa37947deff649e": {
      "model_module": "@jupyter-widgets/controls",
      "model_module_version": "1.5.0",
      "model_name": "LabelModel",
      "state": {
       "layout": "IPY_MODEL_ba41ee07c8bd414599899e0f755f88ef",
       "style": "IPY_MODEL_345365ab0ca34259b4819db57d9df374"
      }
     },
     "72e6cc4e795d467e9ec00fb9e3587191": {
      "model_module": "@jupyter-widgets/controls",
      "model_module_version": "1.5.0",
      "model_name": "DescriptionStyleModel",
      "state": {
       "description_width": ""
      }
     },
     "72e96c3f12b44b8e8b78536104f744e4": {
      "model_module": "@jupyter-widgets/base",
      "model_module_version": "1.2.0",
      "model_name": "LayoutModel",
      "state": {}
     },
     "7300ef0246694324a74405fd23bf7af2": {
      "model_module": "@jupyter-widgets/controls",
      "model_module_version": "1.5.0",
      "model_name": "HBoxModel",
      "state": {
       "children": [
        "IPY_MODEL_794df6f70d914aeab53e91f3ec942b6b",
        "IPY_MODEL_bc383bb6711d428c851494917f9b0ac9"
       ],
       "layout": "IPY_MODEL_1d7e345bf08f412e8261d604bae5e01e"
      }
     },
     "7313a8a604214042a97cb67b982521dc": {
      "model_module": "@jupyter-widgets/base",
      "model_module_version": "1.2.0",
      "model_name": "LayoutModel",
      "state": {
       "width": "5%"
      }
     },
     "7330697b56174e02929bec67b518be01": {
      "model_module": "@jupyter-widgets/controls",
      "model_module_version": "1.5.0",
      "model_name": "HBoxModel",
      "state": {
       "children": [
        "IPY_MODEL_048dd712b78d460497049407b4e20bc9",
        "IPY_MODEL_86bcb8fe60ed418d9f862d47b62491e0"
       ],
       "layout": "IPY_MODEL_b30fbdee83a94dea84c250ba604c6feb"
      }
     },
     "733cda3bcaaf4126844e87ac07a58279": {
      "model_module": "@jupyter-widgets/controls",
      "model_module_version": "1.5.0",
      "model_name": "ButtonStyleModel",
      "state": {}
     },
     "733e2910f6e34e32b9d1e51c9b4a5c01": {
      "model_module": "@jupyter-widgets/controls",
      "model_module_version": "1.5.0",
      "model_name": "LabelModel",
      "state": {
       "layout": "IPY_MODEL_78372eaf65c64a60b8c2ee04de98110f",
       "style": "IPY_MODEL_389f3cbee2a34df9a09cc7e2d4274347"
      }
     },
     "735201103226483e8772be5ea90a9da7": {
      "model_module": "@jupyter-widgets/controls",
      "model_module_version": "1.5.0",
      "model_name": "LabelModel",
      "state": {
       "layout": "IPY_MODEL_959f6abc9a7e4c879ab5334f26798a16",
       "style": "IPY_MODEL_374b91cc937a4493b42a524dfc5369da"
      }
     },
     "735ae5f90fed44e4bd6c907dec91966f": {
      "model_module": "@jupyter-widgets/base",
      "model_module_version": "1.2.0",
      "model_name": "LayoutModel",
      "state": {
       "width": "90%"
      }
     },
     "735c21a303234c0c9ec1b333d46b2973": {
      "model_module": "@jupyter-widgets/controls",
      "model_module_version": "1.5.0",
      "model_name": "HBoxModel",
      "state": {
       "children": [
        "IPY_MODEL_e72a0f58167a41f5a608077dd294c777",
        "IPY_MODEL_13f5fce8ddfb436c98187db96515e58c"
       ],
       "layout": "IPY_MODEL_28d07b093c61431cb239607e1b7ca8fe"
      }
     },
     "735e686da9ed40bbbd9631e21f65d390": {
      "model_module": "@jupyter-widgets/controls",
      "model_module_version": "1.5.0",
      "model_name": "HBoxModel",
      "state": {
       "children": [
        "IPY_MODEL_890e8c2a30434bb78ebaae7c1120b50a",
        "IPY_MODEL_db806e2547784001ae6dd7831667d8b9"
       ],
       "layout": "IPY_MODEL_4587e84e5067472492c10136d38c6db1"
      }
     },
     "735ec201233a42d098e424225b36202a": {
      "model_module": "@jupyter-widgets/base",
      "model_module_version": "1.2.0",
      "model_name": "LayoutModel",
      "state": {
       "width": "5%"
      }
     },
     "7361fa25e6fc47238ac590846f32b87a": {
      "model_module": "@jupyter-widgets/base",
      "model_module_version": "1.2.0",
      "model_name": "LayoutModel",
      "state": {}
     },
     "73ab3bf6d8fa47109e9b320566a4742d": {
      "model_module": "@jupyter-widgets/controls",
      "model_module_version": "1.5.0",
      "model_name": "RadioButtonsModel",
      "state": {
       "_options_labels": [
        "a. Stabilize (prolong) induced polarizations",
        "b. Cause more rapid decay of the induced polarization",
        "c. Increase the magnitude of the induced polarization",
        "d. Waste money"
       ],
       "index": 0,
       "layout": "IPY_MODEL_d67f8c38827749f3a86e5baf61395726",
       "style": "IPY_MODEL_4137f188ee494d70b87b0e35debde424"
      }
     },
     "73ac35a26564466aaaaeae1a65e2b782": {
      "model_module": "@jupyter-widgets/controls",
      "model_module_version": "1.5.0",
      "model_name": "HBoxModel",
      "state": {
       "children": [
        "IPY_MODEL_4e56b6150e00471cb083d9c491f584f0",
        "IPY_MODEL_84e21e43561e463a95abbce5a343ffe0"
       ],
       "layout": "IPY_MODEL_40efb88056b64960a36bbbd3fdf1d401"
      }
     },
     "73b917e2fa5c4cc091805bcb9bc291ca": {
      "model_module": "@jupyter-widgets/controls",
      "model_module_version": "1.5.0",
      "model_name": "DescriptionStyleModel",
      "state": {
       "description_width": ""
      }
     },
     "73c58a7a896b4e7a932968e4defbf074": {
      "model_module": "@jupyter-widgets/base",
      "model_module_version": "1.2.0",
      "model_name": "LayoutModel",
      "state": {}
     },
     "73f1a7ed097b430987f038c330ae3981": {
      "model_module": "@jupyter-widgets/controls",
      "model_module_version": "1.5.0",
      "model_name": "HBoxModel",
      "state": {
       "children": [
        "IPY_MODEL_8590167d712740e69dae43b04a4d47c2",
        "IPY_MODEL_2b5de46d401b443d9099e39657b1a898"
       ],
       "layout": "IPY_MODEL_d10cb9aae26f41708f8fcbff47e487c0"
      }
     },
     "73fc8e9467c14963a942cee407a484a6": {
      "model_module": "@jupyter-widgets/base",
      "model_module_version": "1.2.0",
      "model_name": "LayoutModel",
      "state": {}
     },
     "742e1aeac5a4404e97464cd52f8ed94b": {
      "model_module": "@jupyter-widgets/controls",
      "model_module_version": "1.5.0",
      "model_name": "DescriptionStyleModel",
      "state": {
       "description_width": ""
      }
     },
     "7468aafa88a14d88a4051848a026a1d4": {
      "model_module": "@jupyter-widgets/controls",
      "model_module_version": "1.5.0",
      "model_name": "DescriptionStyleModel",
      "state": {
       "description_width": ""
      }
     },
     "747132dc0e4b49679d9ba0468426f110": {
      "model_module": "@jupyter-widgets/controls",
      "model_module_version": "1.5.0",
      "model_name": "HBoxModel",
      "state": {
       "children": [
        "IPY_MODEL_517f1b5a05c842f89129c4398d9fe94d",
        "IPY_MODEL_41ad1f1f30ef4359a45e7e6bc4322f47"
       ],
       "layout": "IPY_MODEL_258d2a92a0594e399d02d9a502053289"
      }
     },
     "74713b5990194cb0a936a348c71a11e2": {
      "model_module": "@jupyter-widgets/controls",
      "model_module_version": "1.5.0",
      "model_name": "TextareaModel",
      "state": {
       "description": "String:",
       "layout": "IPY_MODEL_91640f2d4a6142cbb8529eb0d4ff0274",
       "placeholder": "Type something",
       "style": "IPY_MODEL_09f618c9fb17492aaa7c65c402f33cb6"
      }
     },
     "748fa116f27446d78d1181e2fe3791a3": {
      "model_module": "@jupyter-widgets/base",
      "model_module_version": "1.2.0",
      "model_name": "LayoutModel",
      "state": {}
     },
     "749bb6c7bff54ab1bdfa5a320bb4c5a9": {
      "model_module": "@jupyter-widgets/controls",
      "model_module_version": "1.5.0",
      "model_name": "DescriptionStyleModel",
      "state": {
       "description_width": ""
      }
     },
     "74c6eb1428bf4d2c8174452dcf6337f0": {
      "model_module": "@jupyter-widgets/controls",
      "model_module_version": "1.5.0",
      "model_name": "DescriptionStyleModel",
      "state": {
       "description_width": ""
      }
     },
     "74ca7e00024c4b5aad19e7878fb09c2c": {
      "model_module": "@jupyter-widgets/controls",
      "model_module_version": "1.5.0",
      "model_name": "DescriptionStyleModel",
      "state": {
       "description_width": ""
      }
     },
     "74dc380c41574aa7baf4474ad09f74a1": {
      "model_module": "@jupyter-widgets/controls",
      "model_module_version": "1.5.0",
      "model_name": "DescriptionStyleModel",
      "state": {
       "description_width": ""
      }
     },
     "74e1849037a6452487bd9f9cd7dcfaf9": {
      "model_module": "@jupyter-widgets/controls",
      "model_module_version": "1.5.0",
      "model_name": "DescriptionStyleModel",
      "state": {
       "description_width": ""
      }
     },
     "751cfdcf4ff744beba21e1cc6c77b730": {
      "model_module": "@jupyter-widgets/controls",
      "model_module_version": "1.5.0",
      "model_name": "LabelModel",
      "state": {
       "layout": "IPY_MODEL_bdcc1c3304284f409fa92562619fc7a6",
       "style": "IPY_MODEL_135a82b7844e46ce9ac66f6c3044f097"
      }
     },
     "7579ec5b45ae489f8065eed0f5278277": {
      "model_module": "@jupyter-widgets/base",
      "model_module_version": "1.2.0",
      "model_name": "LayoutModel",
      "state": {}
     },
     "757a998f66fe478e930ed3af1bf7a982": {
      "model_module": "@jupyter-widgets/base",
      "model_module_version": "1.2.0",
      "model_name": "LayoutModel",
      "state": {}
     },
     "7588311000904fc58c41bed76081b2cf": {
      "model_module": "@jupyter-widgets/controls",
      "model_module_version": "1.5.0",
      "model_name": "HBoxModel",
      "state": {
       "children": [
        "IPY_MODEL_61cb8cc915c34a179875439525c67371",
        "IPY_MODEL_4da567054b104856b04dfc5cd0f652bc"
       ],
       "layout": "IPY_MODEL_3610a5bdca644ab8937891df96763ee8"
      }
     },
     "75a871df50454312983e52293a7625d3": {
      "model_module": "@jupyter-widgets/base",
      "model_module_version": "1.2.0",
      "model_name": "LayoutModel",
      "state": {
       "width": "90%"
      }
     },
     "75bc1629095948a486216d4836f06d9c": {
      "model_module": "@jupyter-widgets/controls",
      "model_module_version": "1.5.0",
      "model_name": "DescriptionStyleModel",
      "state": {
       "description_width": ""
      }
     },
     "75bef438b5684548ae18698a8f341f2b": {
      "model_module": "@jupyter-widgets/controls",
      "model_module_version": "1.5.0",
      "model_name": "TextareaModel",
      "state": {
       "description": "String:",
       "layout": "IPY_MODEL_db5252e9876a4697b1eb06f96600a7f4",
       "placeholder": "Type something",
       "style": "IPY_MODEL_eee30ca8c2864277bb054b6973d9ba65"
      }
     },
     "75c01ed62df4480980dc5b149d2b1f2b": {
      "model_module": "@jupyter-widgets/controls",
      "model_module_version": "1.5.0",
      "model_name": "DescriptionStyleModel",
      "state": {
       "description_width": ""
      }
     },
     "75dda7c8aaac4cdcbd6597704ca19919": {
      "model_module": "@jupyter-widgets/base",
      "model_module_version": "1.2.0",
      "model_name": "LayoutModel",
      "state": {
       "width": "90%"
      }
     },
     "7608f3d90db74c44a1fad40addc165b9": {
      "model_module": "@jupyter-widgets/controls",
      "model_module_version": "1.5.0",
      "model_name": "DescriptionStyleModel",
      "state": {
       "description_width": ""
      }
     },
     "762695f6890e44c293a19a9e7802d00c": {
      "model_module": "@jupyter-widgets/controls",
      "model_module_version": "1.5.0",
      "model_name": "HBoxModel",
      "state": {
       "children": [
        "IPY_MODEL_b161dfbad2764448a74ec0dc8783e3cc",
        "IPY_MODEL_4a0c4c3aeb2940fdad00c621697437d2"
       ],
       "layout": "IPY_MODEL_7192b9853c8d49c7aaea756838f7582e"
      }
     },
     "762fbc01dbcb45b48c4404bec7e8118d": {
      "model_module": "@jupyter-widgets/base",
      "model_module_version": "1.2.0",
      "model_name": "LayoutModel",
      "state": {
       "width": "90%"
      }
     },
     "7656c822187645b38a03795b13a9dcb7": {
      "model_module": "@jupyter-widgets/controls",
      "model_module_version": "1.5.0",
      "model_name": "LabelModel",
      "state": {
       "layout": "IPY_MODEL_5d7a6b94c3a548b381ff5092ccc42610",
       "style": "IPY_MODEL_ef41f6ede35144f0b37a6d7cf31e051a"
      }
     },
     "765e29fa8ea1407f8954988da08474e1": {
      "model_module": "@jupyter-widgets/controls",
      "model_module_version": "1.5.0",
      "model_name": "DescriptionStyleModel",
      "state": {
       "description_width": ""
      }
     },
     "76865debf06b4844a484a7b0bde81559": {
      "model_module": "@jupyter-widgets/controls",
      "model_module_version": "1.5.0",
      "model_name": "DescriptionStyleModel",
      "state": {
       "description_width": ""
      }
     },
     "76ae7d89976445aeb932cfda8929338f": {
      "model_module": "@jupyter-widgets/controls",
      "model_module_version": "1.5.0",
      "model_name": "VBoxModel",
      "state": {
       "children": [
        "IPY_MODEL_36586dec45c942e79fadedefb717bab9",
        "IPY_MODEL_be0891371980438682ebad1d3bbbcace"
       ],
       "layout": "IPY_MODEL_9f9594c7508245d8b1d64c5c6659cc8f"
      }
     },
     "76b619132d5c47e78db8e63977e740e9": {
      "model_module": "@jupyter-widgets/base",
      "model_module_version": "1.2.0",
      "model_name": "LayoutModel",
      "state": {
       "width": "90%"
      }
     },
     "76cfa202565f48e2a1f70fc6c3085236": {
      "model_module": "@jupyter-widgets/controls",
      "model_module_version": "1.5.0",
      "model_name": "DescriptionStyleModel",
      "state": {
       "description_width": ""
      }
     },
     "76d33449dd55452eb237ad85c7b3cc20": {
      "model_module": "@jupyter-widgets/controls",
      "model_module_version": "1.5.0",
      "model_name": "LabelModel",
      "state": {
       "layout": "IPY_MODEL_cf85c203d4c64073b3381e0fbe330f48",
       "style": "IPY_MODEL_f941f97a61d34f2987ede3cb2afb7203"
      }
     },
     "76d66456afaf4cea81a6bcc957d155c1": {
      "model_module": "@jupyter-widgets/base",
      "model_module_version": "1.2.0",
      "model_name": "LayoutModel",
      "state": {
       "width": "5%"
      }
     },
     "76dc65078de84af8ae2ddeb8c41bcdff": {
      "model_module": "@jupyter-widgets/controls",
      "model_module_version": "1.5.0",
      "model_name": "TextareaModel",
      "state": {
       "description": "String:",
       "layout": "IPY_MODEL_dced2d7ea69741a69e3ab7d2ff352a50",
       "placeholder": "Type something",
       "style": "IPY_MODEL_6f2975e24f0342db94c26cc892e0b1d6"
      }
     },
     "76e7a94924aa4bd1ad538363292b6360": {
      "model_module": "@jupyter-widgets/controls",
      "model_module_version": "1.5.0",
      "model_name": "RadioButtonsModel",
      "state": {
       "_options_labels": [
        "a. The electric field",
        "b. The charge density",
        "c. The current density",
        "d. Both b and c"
       ],
       "index": 0,
       "layout": "IPY_MODEL_fc063594ffec462690c97178cdc65152",
       "style": "IPY_MODEL_552469612a8f416480a5d357e00b3d07"
      }
     },
     "7723f8dbd8804ecbad297fbacb908d56": {
      "model_module": "@jupyter-widgets/base",
      "model_module_version": "1.2.0",
      "model_name": "LayoutModel",
      "state": {}
     },
     "7748a6cae0a54cef8b5aa865be06b2e1": {
      "model_module": "@jupyter-widgets/base",
      "model_module_version": "1.2.0",
      "model_name": "LayoutModel",
      "state": {
       "width": "90%"
      }
     },
     "778454421b844715addb94941efea1f7": {
      "model_module": "@jupyter-widgets/controls",
      "model_module_version": "1.5.0",
      "model_name": "HBoxModel",
      "state": {
       "children": [
        "IPY_MODEL_2b83ffb8bf8a4cf3b85b1a628058f2b2",
        "IPY_MODEL_66a2f712131f43a68e14e6d525cf3368"
       ],
       "layout": "IPY_MODEL_80003d2359e84629b8e16e07fdd348e3"
      }
     },
     "778e19b5e9164bf294a472c2cb8f9fc3": {
      "model_module": "@jupyter-widgets/base",
      "model_module_version": "1.2.0",
      "model_name": "LayoutModel",
      "state": {}
     },
     "778fea75e2db47d09205e3cf4155a284": {
      "model_module": "@jupyter-widgets/controls",
      "model_module_version": "1.5.0",
      "model_name": "DescriptionStyleModel",
      "state": {
       "description_width": ""
      }
     },
     "77af6280afd140d6abaf19bc8482ecc7": {
      "model_module": "@jupyter-widgets/base",
      "model_module_version": "1.2.0",
      "model_name": "LayoutModel",
      "state": {
       "width": "5%"
      }
     },
     "77d002c4f5c34c379088ee2c0064ab71": {
      "model_module": "@jupyter-widgets/base",
      "model_module_version": "1.2.0",
      "model_name": "LayoutModel",
      "state": {
       "width": "90%"
      }
     },
     "77f95338583641f1aa4b58f91acf8585": {
      "model_module": "@jupyter-widgets/controls",
      "model_module_version": "1.5.0",
      "model_name": "DescriptionStyleModel",
      "state": {
       "description_width": ""
      }
     },
     "7801c575f4f347468af086bd90e270ea": {
      "model_module": "@jupyter-widgets/controls",
      "model_module_version": "1.5.0",
      "model_name": "ButtonStyleModel",
      "state": {}
     },
     "780adcf535d14c36afb7d0a022a87344": {
      "model_module": "@jupyter-widgets/controls",
      "model_module_version": "1.5.0",
      "model_name": "DescriptionStyleModel",
      "state": {
       "description_width": ""
      }
     },
     "7811d009c3ad434eb4648de6573feafc": {
      "model_module": "@jupyter-widgets/controls",
      "model_module_version": "1.5.0",
      "model_name": "LabelModel",
      "state": {
       "layout": "IPY_MODEL_e7b1f3d9d0e34459a73ba6567659ea5a",
       "style": "IPY_MODEL_082f6ee8a541428dbc8a9ac110fe50cf"
      }
     },
     "781d3d2a1da848a695413a912ffa64b9": {
      "model_module": "@jupyter-widgets/controls",
      "model_module_version": "1.5.0",
      "model_name": "DescriptionStyleModel",
      "state": {
       "description_width": ""
      }
     },
     "78236a5e41fb4715b02960609f3ac6ee": {
      "model_module": "@jupyter-widgets/controls",
      "model_module_version": "1.5.0",
      "model_name": "LabelModel",
      "state": {
       "layout": "IPY_MODEL_287850f6782d4f3d83b6c87be53e61b6",
       "style": "IPY_MODEL_495df16fdb9b4a5bb82a91df2a17c51c"
      }
     },
     "78372eaf65c64a60b8c2ee04de98110f": {
      "model_module": "@jupyter-widgets/base",
      "model_module_version": "1.2.0",
      "model_name": "LayoutModel",
      "state": {
       "width": "5%"
      }
     },
     "783a54168c68474a9263e9ea1b623dfe": {
      "model_module": "@jupyter-widgets/base",
      "model_module_version": "1.2.0",
      "model_name": "LayoutModel",
      "state": {}
     },
     "783b0bcdbc5c488e84d25768dcc7f44a": {
      "model_module": "@jupyter-widgets/base",
      "model_module_version": "1.2.0",
      "model_name": "LayoutModel",
      "state": {}
     },
     "7887bee1e21d4f78b64cdf67646d4cdc": {
      "model_module": "@jupyter-widgets/controls",
      "model_module_version": "1.5.0",
      "model_name": "LabelModel",
      "state": {
       "layout": "IPY_MODEL_eab27af73a2f4fcfbac6a24187cdcfad",
       "style": "IPY_MODEL_e8ec01a1d0dc415889e44a6167239454"
      }
     },
     "78942631adad42b7a54a76954604e2e7": {
      "model_module": "@jupyter-widgets/controls",
      "model_module_version": "1.5.0",
      "model_name": "DescriptionStyleModel",
      "state": {
       "description_width": ""
      }
     },
     "789cea95e6ce432cb4e2b6e7ca0138a4": {
      "model_module": "@jupyter-widgets/base",
      "model_module_version": "1.2.0",
      "model_name": "LayoutModel",
      "state": {
       "width": "5%"
      }
     },
     "78a75b7fc86b436facd2cef0873eba90": {
      "model_module": "@jupyter-widgets/base",
      "model_module_version": "1.2.0",
      "model_name": "LayoutModel",
      "state": {
       "width": "5%"
      }
     },
     "78b913544f7348aaabfe00d3763e7c19": {
      "model_module": "@jupyter-widgets/controls",
      "model_module_version": "1.5.0",
      "model_name": "HBoxModel",
      "state": {
       "children": [
        "IPY_MODEL_3c711bd71ac2488baed66ede605d5b4d",
        "IPY_MODEL_d6200b6f65454afa83b4f27f84a0227b"
       ],
       "layout": "IPY_MODEL_7579ec5b45ae489f8065eed0f5278277"
      }
     },
     "78ee5926ef7849b4810f13c4979cb42f": {
      "model_module": "@jupyter-widgets/controls",
      "model_module_version": "1.5.0",
      "model_name": "RadioButtonsModel",
      "state": {
       "_options_labels": [
        "a. Polarization",
        "b. Phase",
        "c. Frequency",
        "d. Propagation axis"
       ],
       "index": 0,
       "layout": "IPY_MODEL_7a4ef0fcc53b4e46a337a5c9d0b184cc",
       "style": "IPY_MODEL_98d7bf0e97514101bc5a76c82ab73aa9"
      }
     },
     "78f88a0afbff4b9ab621294636cf5866": {
      "model_module": "@jupyter-widgets/controls",
      "model_module_version": "1.5.0",
      "model_name": "RadioButtonsModel",
      "state": {
       "_options_labels": [
        "a. The electric field",
        "b. The charge density",
        "c. The current density",
        "d. Both b and c"
       ],
       "index": 0,
       "layout": "IPY_MODEL_9765ac340a974a74915e026afce6a3f3",
       "style": "IPY_MODEL_3fe9c45770c14ab9b3a833f007f96e73"
      }
     },
     "7923f1b5658042e6b89310276438abb3": {
      "model_module": "@jupyter-widgets/controls",
      "model_module_version": "1.5.0",
      "model_name": "DescriptionStyleModel",
      "state": {
       "description_width": ""
      }
     },
     "79292e9b119544b8a074b8845124b053": {
      "model_module": "@jupyter-widgets/controls",
      "model_module_version": "1.5.0",
      "model_name": "DescriptionStyleModel",
      "state": {
       "description_width": ""
      }
     },
     "794df6f70d914aeab53e91f3ec942b6b": {
      "model_module": "@jupyter-widgets/controls",
      "model_module_version": "1.5.0",
      "model_name": "LabelModel",
      "state": {
       "layout": "IPY_MODEL_21b004e4cd6e4ac988182e2a44c0fd21",
       "style": "IPY_MODEL_b39be5246a374a7c8f5da486f766f512"
      }
     },
     "7958c2e061be45c89ae69c0751c0328d": {
      "model_module": "@jupyter-widgets/controls",
      "model_module_version": "1.5.0",
      "model_name": "DescriptionStyleModel",
      "state": {
       "description_width": ""
      }
     },
     "798c275efd3743b5b8823abbad8737d4": {
      "model_module": "@jupyter-widgets/controls",
      "model_module_version": "1.5.0",
      "model_name": "DescriptionStyleModel",
      "state": {
       "description_width": ""
      }
     },
     "79944d93b1734a978216b0ce9574add2": {
      "model_module": "@jupyter-widgets/base",
      "model_module_version": "1.2.0",
      "model_name": "LayoutModel",
      "state": {
       "width": "5%"
      }
     },
     "799fa4a7c7a14198a1e3cc222f3f4caa": {
      "model_module": "@jupyter-widgets/controls",
      "model_module_version": "1.5.0",
      "model_name": "TextareaModel",
      "state": {
       "description": "String:",
       "layout": "IPY_MODEL_573968ee87d64ab494638b1252764e79",
       "placeholder": "Type something",
       "style": "IPY_MODEL_24fce035c10543cda69b279740eb24c5"
      }
     },
     "79ab2486e7fe431f9956a9c99a376cc7": {
      "model_module": "@jupyter-widgets/controls",
      "model_module_version": "1.5.0",
      "model_name": "HBoxModel",
      "state": {
       "children": [
        "IPY_MODEL_cb8afee2768a4c0b91b2e75eafaa2738",
        "IPY_MODEL_36533ecc94844cfd936fee21412ff395"
       ],
       "layout": "IPY_MODEL_bed02cc47ba14d2fba46b6fdda35db0a"
      }
     },
     "79ae8e3e2ce2464889993eb0196c527f": {
      "model_module": "@jupyter-widgets/base",
      "model_module_version": "1.2.0",
      "model_name": "LayoutModel",
      "state": {}
     },
     "79ec6b32209b460b909021aef0a4c2b0": {
      "model_module": "@jupyter-widgets/controls",
      "model_module_version": "1.5.0",
      "model_name": "LabelModel",
      "state": {
       "layout": "IPY_MODEL_7b091ad7db2642b885d61982ba95330d",
       "style": "IPY_MODEL_a353074f95c947c0be7ceaf249110946"
      }
     },
     "7a00f109d8bf416b929178172a791e5d": {
      "model_module": "@jupyter-widgets/base",
      "model_module_version": "1.2.0",
      "model_name": "LayoutModel",
      "state": {}
     },
     "7a20d316b7da4fb0aaee082077bdc2bb": {
      "model_module": "@jupyter-widgets/base",
      "model_module_version": "1.2.0",
      "model_name": "LayoutModel",
      "state": {}
     },
     "7a4ef0fcc53b4e46a337a5c9d0b184cc": {
      "model_module": "@jupyter-widgets/base",
      "model_module_version": "1.2.0",
      "model_name": "LayoutModel",
      "state": {
       "width": "90%"
      }
     },
     "7a738ad3a63a44719c87cf63da15ceb4": {
      "model_module": "@jupyter-widgets/output",
      "model_module_version": "1.0.0",
      "model_name": "OutputModel",
      "state": {
       "layout": "IPY_MODEL_e4caad405bf64994be9fb77af940aaa4"
      }
     },
     "7a7e3d4f5fd84cc9b3f2a7a804d89201": {
      "model_module": "@jupyter-widgets/controls",
      "model_module_version": "1.5.0",
      "model_name": "DescriptionStyleModel",
      "state": {
       "description_width": ""
      }
     },
     "7a855999557f440dae6b84af6cfec69a": {
      "model_module": "@jupyter-widgets/controls",
      "model_module_version": "1.5.0",
      "model_name": "DescriptionStyleModel",
      "state": {
       "description_width": ""
      }
     },
     "7a8fdbfe53b04cefaa8e4e072c9b5f22": {
      "model_module": "@jupyter-widgets/base",
      "model_module_version": "1.2.0",
      "model_name": "LayoutModel",
      "state": {
       "width": "5%"
      }
     },
     "7a960cc414e44dc8afb19acfe8f0e6d8": {
      "model_module": "@jupyter-widgets/base",
      "model_module_version": "1.2.0",
      "model_name": "LayoutModel",
      "state": {}
     },
     "7a98a56fda044a8fb611ea0d1c1a6e72": {
      "model_module": "@jupyter-widgets/base",
      "model_module_version": "1.2.0",
      "model_name": "LayoutModel",
      "state": {}
     },
     "7ac6ce516f8b4805bc37abab3419fef0": {
      "model_module": "@jupyter-widgets/controls",
      "model_module_version": "1.5.0",
      "model_name": "HBoxModel",
      "state": {
       "children": [
        "IPY_MODEL_eb6d8ee9cc1a452ab382ba6c7b94e4ff",
        "IPY_MODEL_a736d868fd524a8cbaee9029c8baa9f5"
       ],
       "layout": "IPY_MODEL_6572a3bd96ed46c7bc93723b13914542"
      }
     },
     "7ad635c1842e473c9d79d98306788416": {
      "model_module": "@jupyter-widgets/base",
      "model_module_version": "1.2.0",
      "model_name": "LayoutModel",
      "state": {
       "width": "90%"
      }
     },
     "7ad7245208734dcfaa57d63beb1e85b1": {
      "model_module": "@jupyter-widgets/base",
      "model_module_version": "1.2.0",
      "model_name": "LayoutModel",
      "state": {
       "width": "5%"
      }
     },
     "7ae6ef2197e04d6690d1dd9dec4b4dc1": {
      "model_module": "@jupyter-widgets/controls",
      "model_module_version": "1.5.0",
      "model_name": "DescriptionStyleModel",
      "state": {
       "description_width": ""
      }
     },
     "7af864c753094332b9ef877f9448d2d5": {
      "model_module": "@jupyter-widgets/base",
      "model_module_version": "1.2.0",
      "model_name": "LayoutModel",
      "state": {
       "width": "5%"
      }
     },
     "7b075e8916a24ebc9bbd8467e1061092": {
      "model_module": "@jupyter-widgets/controls",
      "model_module_version": "1.5.0",
      "model_name": "DescriptionStyleModel",
      "state": {
       "description_width": ""
      }
     },
     "7b091ad7db2642b885d61982ba95330d": {
      "model_module": "@jupyter-widgets/base",
      "model_module_version": "1.2.0",
      "model_name": "LayoutModel",
      "state": {
       "width": "5%"
      }
     },
     "7b30494a71a444d8823f40d31f3bedb2": {
      "model_module": "@jupyter-widgets/controls",
      "model_module_version": "1.5.0",
      "model_name": "DescriptionStyleModel",
      "state": {
       "description_width": ""
      }
     },
     "7b50d4be0d354efeaff84da3d7a51916": {
      "model_module": "@jupyter-widgets/base",
      "model_module_version": "1.2.0",
      "model_name": "LayoutModel",
      "state": {
       "width": "5%"
      }
     },
     "7b52802a95f94f3c94f1a044a807e251": {
      "model_module": "@jupyter-widgets/base",
      "model_module_version": "1.2.0",
      "model_name": "LayoutModel",
      "state": {
       "width": "5%"
      }
     },
     "7b5fe60ac3964a90ba760b96de55702b": {
      "model_module": "@jupyter-widgets/controls",
      "model_module_version": "1.5.0",
      "model_name": "RadioButtonsModel",
      "state": {
       "_options_labels": [
        "a. Far field",
        "b. Near field",
        "c. Both near field and far field",
        "d. Neither near field nor far field"
       ],
       "index": 0,
       "layout": "IPY_MODEL_29c598bab5664d6383fc2c920f4f1fd9",
       "style": "IPY_MODEL_850f50a5909447ed80a0439b1fbac845"
      }
     },
     "7b7eaf8f72d449f4b5e606c0009d87c7": {
      "model_module": "@jupyter-widgets/controls",
      "model_module_version": "1.5.0",
      "model_name": "DescriptionStyleModel",
      "state": {
       "description_width": ""
      }
     },
     "7b81cc2353394f80b7ffd2ba2ae614cf": {
      "model_module": "@jupyter-widgets/base",
      "model_module_version": "1.2.0",
      "model_name": "LayoutModel",
      "state": {}
     },
     "7bf1190b8145499791c9d961520cf181": {
      "model_module": "@jupyter-widgets/controls",
      "model_module_version": "1.5.0",
      "model_name": "RadioButtonsModel",
      "state": {
       "_options_labels": [
        "a. df = 1/(N*dt)",
        "b. df = 1/dt",
        "c. df = N*dt",
        "d. df = N/dt"
       ],
       "index": 0,
       "layout": "IPY_MODEL_e5dfbeffd2ed470090251dbb4708d115",
       "style": "IPY_MODEL_f61556240bc249d28457f4c1d9cca79c"
      }
     },
     "7bf4868d608c4c1bbb41384846896c0e": {
      "model_module": "@jupyter-widgets/controls",
      "model_module_version": "1.5.0",
      "model_name": "DescriptionStyleModel",
      "state": {
       "description_width": ""
      }
     },
     "7c048a700ff64728a91dc155fa0d163c": {
      "model_module": "@jupyter-widgets/controls",
      "model_module_version": "1.5.0",
      "model_name": "HBoxModel",
      "state": {
       "children": [
        "IPY_MODEL_70239d70647d4bd2b62869f7c636776e",
        "IPY_MODEL_1e338c5bf2e845dc959cef3b0e716df1"
       ],
       "layout": "IPY_MODEL_da99650d6efb4aff9ff76c30b8a3638b"
      }
     },
     "7c0b7d99e7a341caa2b916720c65c484": {
      "model_module": "@jupyter-widgets/base",
      "model_module_version": "1.2.0",
      "model_name": "LayoutModel",
      "state": {
       "width": "90%"
      }
     },
     "7c13e716dfdb45b48d12eb9a972a12b5": {
      "model_module": "@jupyter-widgets/base",
      "model_module_version": "1.2.0",
      "model_name": "LayoutModel",
      "state": {
       "width": "90%"
      }
     },
     "7c798ee4f59f4919bccdd8f7b5fa2e45": {
      "model_module": "@jupyter-widgets/base",
      "model_module_version": "1.2.0",
      "model_name": "LayoutModel",
      "state": {
       "width": "5%"
      }
     },
     "7c8664083d804dc7b71309c911be5349": {
      "model_module": "@jupyter-widgets/controls",
      "model_module_version": "1.5.0",
      "model_name": "HBoxModel",
      "state": {
       "children": [
        "IPY_MODEL_f32d6a74a8694e8bac57f39656bec203",
        "IPY_MODEL_ae7e114e6ada43ed8d9d617e8ec6131e"
       ],
       "layout": "IPY_MODEL_523ac20036a84566ac437e5efea9d9af"
      }
     },
     "7ca412bff4a840c3ac97fd366fa2cdaf": {
      "model_module": "@jupyter-widgets/controls",
      "model_module_version": "1.5.0",
      "model_name": "VBoxModel",
      "state": {
       "children": [
        "IPY_MODEL_dcd47b59f1d944e5be87beede891bea0",
        "IPY_MODEL_c0bbf3e7d9d54104b0cb97310583e0bb"
       ],
       "layout": "IPY_MODEL_e1c3e0336421491a8efa00a2f7680122"
      }
     },
     "7ca7bdf111f74d28943f9cd9826a5183": {
      "model_module": "@jupyter-widgets/controls",
      "model_module_version": "1.5.0",
      "model_name": "ButtonStyleModel",
      "state": {}
     },
     "7cc6b22867174ad99240deef429b1cb2": {
      "model_module": "@jupyter-widgets/base",
      "model_module_version": "1.2.0",
      "model_name": "LayoutModel",
      "state": {
       "width": "5%"
      }
     },
     "7cf56d4a23f2470e9f5759162195ff74": {
      "model_module": "@jupyter-widgets/base",
      "model_module_version": "1.2.0",
      "model_name": "LayoutModel",
      "state": {}
     },
     "7d066d66051c4809b2a7f0bd61bcbed7": {
      "model_module": "@jupyter-widgets/base",
      "model_module_version": "1.2.0",
      "model_name": "LayoutModel",
      "state": {}
     },
     "7d109c00e6224d9cbfe0ac09a085ef3e": {
      "model_module": "@jupyter-widgets/base",
      "model_module_version": "1.2.0",
      "model_name": "LayoutModel",
      "state": {}
     },
     "7d383717bbb2417e8ff57561108cde79": {
      "model_module": "@jupyter-widgets/controls",
      "model_module_version": "1.5.0",
      "model_name": "DescriptionStyleModel",
      "state": {
       "description_width": ""
      }
     },
     "7d3ad8523ecf4bfe9fa60f1b9d749d97": {
      "model_module": "@jupyter-widgets/controls",
      "model_module_version": "1.5.0",
      "model_name": "DescriptionStyleModel",
      "state": {
       "description_width": ""
      }
     },
     "7d446d9499f043b89e954a1775f5554d": {
      "model_module": "@jupyter-widgets/controls",
      "model_module_version": "1.5.0",
      "model_name": "RadioButtonsModel",
      "state": {
       "_options_labels": [
        "a. Algebraic sums",
        "b. Time derivatives",
        "c. Products",
        "d. More convolutions"
       ],
       "index": 0,
       "layout": "IPY_MODEL_d1fa20e146d04fd7bc8c99a22120c3ce",
       "style": "IPY_MODEL_cfcb149ccae24d0eb5818e02882e5f5b"
      }
     },
     "7d7ce9d05a4448d19917f3292fee3a90": {
      "model_module": "@jupyter-widgets/controls",
      "model_module_version": "1.5.0",
      "model_name": "RadioButtonsModel",
      "state": {
       "_options_labels": [
        "a. Maxwell's equations",
        "b. Newton's Equations",
        "c. The boundary conditions",
        "d. A given macrostate"
       ],
       "index": 0,
       "layout": "IPY_MODEL_46f5e686802846c6b9f3b2091f86b8bb",
       "style": "IPY_MODEL_239b8bd4cb41458ebdf22260422ab338"
      }
     },
     "7d9a014448f44334a4c8a30f48f3fb4f": {
      "model_module": "@jupyter-widgets/controls",
      "model_module_version": "1.5.0",
      "model_name": "ButtonModel",
      "state": {
       "description": "Test Code",
       "layout": "IPY_MODEL_1d95a8b13da642e1a799a18b5bbb7ef6",
       "style": "IPY_MODEL_8a1d11a4587d4546b22e88da430cde7a",
       "tooltip": "Click to test your code"
      }
     },
     "7d9ec088999b4fafaba8655160c56b9c": {
      "model_module": "@jupyter-widgets/controls",
      "model_module_version": "1.5.0",
      "model_name": "DescriptionStyleModel",
      "state": {
       "description_width": ""
      }
     },
     "7dab8c6fa1f8441f884e1280900e483f": {
      "model_module": "@jupyter-widgets/output",
      "model_module_version": "1.0.0",
      "model_name": "OutputModel",
      "state": {
       "layout": "IPY_MODEL_cb36178a1f6544138a2c4228bd40a222",
       "outputs": [
        {
         "name": "stdout",
         "output_type": "stream",
         "text": "The output works\nplt.plot(0, 10, 'o')\n"
        }
       ]
      }
     },
     "7dadf4eee061455d9068c263e652122c": {
      "model_module": "@jupyter-widgets/controls",
      "model_module_version": "1.5.0",
      "model_name": "ButtonStyleModel",
      "state": {}
     },
     "7dd72aff0b204b6483a84f807e39587b": {
      "model_module": "@jupyter-widgets/controls",
      "model_module_version": "1.5.0",
      "model_name": "TextareaModel",
      "state": {
       "description": "Answer:",
       "layout": "IPY_MODEL_690648ecf33b468995750d043deb6e06",
       "placeholder": "Type something",
       "style": "IPY_MODEL_4115700572b94264aca8383ab6027e6d"
      }
     },
     "7dde80d3c6fd4198b4ac7af9ecc5f3c1": {
      "model_module": "@jupyter-widgets/controls",
      "model_module_version": "1.5.0",
      "model_name": "DescriptionStyleModel",
      "state": {
       "description_width": ""
      }
     },
     "7e44e7193fb141b8aac4c352af4934f1": {
      "model_module": "@jupyter-widgets/output",
      "model_module_version": "1.0.0",
      "model_name": "OutputModel",
      "state": {
       "layout": "IPY_MODEL_85e1e984a48a463ab5736c15ce365e24"
      }
     },
     "7e457b5110c54df89a9f6897c33e8a99": {
      "model_module": "@jupyter-widgets/base",
      "model_module_version": "1.2.0",
      "model_name": "LayoutModel",
      "state": {}
     },
     "7e4e7b57344748fd8cef04de790f568e": {
      "model_module": "@jupyter-widgets/base",
      "model_module_version": "1.2.0",
      "model_name": "LayoutModel",
      "state": {
       "width": "90%"
      }
     },
     "7e75122c9ea8469eb5b275adfe485213": {
      "model_module": "@jupyter-widgets/controls",
      "model_module_version": "1.5.0",
      "model_name": "LabelModel",
      "state": {
       "layout": "IPY_MODEL_9e3e79b02e704a25b9ffc6c75f92973d",
       "style": "IPY_MODEL_9175a893464042fdad821ef0bc0454ac"
      }
     },
     "7ec3f6e6981747ef8f6e356fcaafd72d": {
      "model_module": "@jupyter-widgets/output",
      "model_module_version": "1.0.0",
      "model_name": "OutputModel",
      "state": {
       "layout": "IPY_MODEL_ee59b80a0b6e45a6a5308e0cc0b2fe15"
      }
     },
     "7ed5208454824869a3b20a813f9fcd22": {
      "model_module": "@jupyter-widgets/controls",
      "model_module_version": "1.5.0",
      "model_name": "LabelModel",
      "state": {
       "layout": "IPY_MODEL_cf05f456ff174aeeb370d5f1b21966bf",
       "style": "IPY_MODEL_a8a5787524e643a0bdcd750bed6365d8"
      }
     },
     "7f3a0fb4271e483a996785fe0b5a5b7b": {
      "model_module": "@jupyter-widgets/controls",
      "model_module_version": "1.5.0",
      "model_name": "ButtonStyleModel",
      "state": {}
     },
     "7f5a938075b849b6b1d3871e60ea84c1": {
      "model_module": "@jupyter-widgets/controls",
      "model_module_version": "1.5.0",
      "model_name": "TextareaModel",
      "state": {
       "description": "Code:",
       "layout": "IPY_MODEL_cdc88b57ff924bcd979be2fe62f457ee",
       "placeholder": "Type code here",
       "style": "IPY_MODEL_73b917e2fa5c4cc091805bcb9bc291ca",
       "value": "x = np.arange(0, 2.0*math.pi, 0.1)\nplt.plot(x, np.sin(x))"
      }
     },
     "7f86323d571c4eb3913f77721e92a5b2": {
      "model_module": "@jupyter-widgets/controls",
      "model_module_version": "1.5.0",
      "model_name": "DescriptionStyleModel",
      "state": {
       "description_width": ""
      }
     },
     "7f95666e658d442490afdf246620d372": {
      "model_module": "@jupyter-widgets/output",
      "model_module_version": "1.0.0",
      "model_name": "OutputModel",
      "state": {
       "layout": "IPY_MODEL_59caa6cbcf464ae1b3c24095297d0401",
       "outputs": [
        {
         "name": "stdout",
         "output_type": "stream",
         "text": "0\n1\n4\n9\n16\n25\n36\n49\n64\n81\n"
        }
       ]
      }
     },
     "7f9caca6e5804e0cba64ca0f3282de9b": {
      "model_module": "@jupyter-widgets/controls",
      "model_module_version": "1.5.0",
      "model_name": "LabelModel",
      "state": {
       "layout": "IPY_MODEL_e4e15c5148fd43f4ab19ba228ebc70c9",
       "style": "IPY_MODEL_db997bde5c274d30afd0b3dd99d3f199"
      }
     },
     "7fb27760ad0b4628a69986d40676a1da": {
      "model_module": "@jupyter-widgets/base",
      "model_module_version": "1.2.0",
      "model_name": "LayoutModel",
      "state": {
       "width": "90%"
      }
     },
     "7fc5c05c49cf498b99fc87f5cbd218ce": {
      "model_module": "@jupyter-widgets/controls",
      "model_module_version": "1.5.0",
      "model_name": "HBoxModel",
      "state": {
       "children": [
        "IPY_MODEL_d6fe8d71c39543cd8e5af65d3f44d355",
        "IPY_MODEL_11eb318b662440728ddc1e5fd0375992"
       ],
       "layout": "IPY_MODEL_f6565f00f3e54ad98276730467eec5ba"
      }
     },
     "7fd0faaead57494a9fbf19ff2b57cccd": {
      "model_module": "@jupyter-widgets/controls",
      "model_module_version": "1.5.0",
      "model_name": "HBoxModel",
      "state": {
       "children": [
        "IPY_MODEL_6d948085246446fc8553df6c5367a33b",
        "IPY_MODEL_63bba2e952f0434cb03619e114000153"
       ],
       "layout": "IPY_MODEL_94ca6dc11f3f41a8bf9de84d84c08130"
      }
     },
     "80003d2359e84629b8e16e07fdd348e3": {
      "model_module": "@jupyter-widgets/base",
      "model_module_version": "1.2.0",
      "model_name": "LayoutModel",
      "state": {}
     },
     "8000a83b356b4e5f8ffddb620d8660b7": {
      "model_module": "@jupyter-widgets/controls",
      "model_module_version": "1.5.0",
      "model_name": "DescriptionStyleModel",
      "state": {
       "description_width": ""
      }
     },
     "8024d869a1e74f53bd4bc310dc5e3901": {
      "model_module": "@jupyter-widgets/controls",
      "model_module_version": "1.5.0",
      "model_name": "LabelModel",
      "state": {
       "layout": "IPY_MODEL_9fc2790308f64cc398eba491f57a554a",
       "style": "IPY_MODEL_4a01dc006c73427a878f55165bcb692c"
      }
     },
     "802ce214e57b414083b101edc454e4aa": {
      "model_module": "@jupyter-widgets/controls",
      "model_module_version": "1.5.0",
      "model_name": "DescriptionStyleModel",
      "state": {
       "description_width": ""
      }
     },
     "803aacfdcab34a03a84f14360d6103c7": {
      "model_module": "@jupyter-widgets/base",
      "model_module_version": "1.2.0",
      "model_name": "LayoutModel",
      "state": {
       "width": "5%"
      }
     },
     "803b90f840f1415b824dbf8cce1321ca": {
      "model_module": "@jupyter-widgets/controls",
      "model_module_version": "1.5.0",
      "model_name": "LabelModel",
      "state": {
       "layout": "IPY_MODEL_0869f380384d4effacffc80d3a84f06a",
       "style": "IPY_MODEL_39ca35bd08734828905cef1f93e7cc52"
      }
     },
     "805002292ae64605b18b502a8eaab2dd": {
      "model_module": "@jupyter-widgets/base",
      "model_module_version": "1.2.0",
      "model_name": "LayoutModel",
      "state": {}
     },
     "806b3d5e4bf84a608aab6cf48d99e5d7": {
      "model_module": "@jupyter-widgets/controls",
      "model_module_version": "1.5.0",
      "model_name": "DescriptionStyleModel",
      "state": {
       "description_width": ""
      }
     },
     "8080e0268a164521b226fb9f384d08f8": {
      "model_module": "@jupyter-widgets/controls",
      "model_module_version": "1.5.0",
      "model_name": "LabelModel",
      "state": {
       "layout": "IPY_MODEL_b5416acdfc074fde968ae14234b33651",
       "style": "IPY_MODEL_dac5e653c27b4ad18649b45ca4656640"
      }
     },
     "80c1ffb76633434e9b9fb55492ffd2e2": {
      "model_module": "@jupyter-widgets/controls",
      "model_module_version": "1.5.0",
      "model_name": "DescriptionStyleModel",
      "state": {
       "description_width": ""
      }
     },
     "80cda696e9c14307a14a6bcbe45c684b": {
      "model_module": "@jupyter-widgets/base",
      "model_module_version": "1.2.0",
      "model_name": "LayoutModel",
      "state": {}
     },
     "80cee2782992488588ab0e907356da71": {
      "model_module": "@jupyter-widgets/controls",
      "model_module_version": "1.5.0",
      "model_name": "DescriptionStyleModel",
      "state": {
       "description_width": ""
      }
     },
     "80e36117c07a4fdcaefd1a3a7b0e2d26": {
      "model_module": "@jupyter-widgets/base",
      "model_module_version": "1.2.0",
      "model_name": "LayoutModel",
      "state": {
       "width": "5%"
      }
     },
     "80ecdce6953e4cdbbae9d375dcd153fa": {
      "model_module": "@jupyter-widgets/controls",
      "model_module_version": "1.5.0",
      "model_name": "DescriptionStyleModel",
      "state": {
       "description_width": ""
      }
     },
     "80f759ac52e54c67b4b766a7e7315de5": {
      "model_module": "@jupyter-widgets/base",
      "model_module_version": "1.2.0",
      "model_name": "LayoutModel",
      "state": {
       "width": "5%"
      }
     },
     "8100e42eea3648d192eb457b58a89a8a": {
      "model_module": "@jupyter-widgets/base",
      "model_module_version": "1.2.0",
      "model_name": "LayoutModel",
      "state": {}
     },
     "810ac875d7d94432a3afed4f46cdd872": {
      "model_module": "@jupyter-widgets/controls",
      "model_module_version": "1.5.0",
      "model_name": "LabelModel",
      "state": {
       "layout": "IPY_MODEL_2221b1bccd5744b3b3a5288878cae74d",
       "style": "IPY_MODEL_0aa5924af04649f89d9e0cf77b5d6aa8"
      }
     },
     "81557ebf4710400ea15b081ad4d71eb5": {
      "model_module": "@jupyter-widgets/controls",
      "model_module_version": "1.5.0",
      "model_name": "DescriptionStyleModel",
      "state": {
       "description_width": ""
      }
     },
     "815b51b228f34ea2b7e7bedb91fb256b": {
      "model_module": "@jupyter-widgets/base",
      "model_module_version": "1.2.0",
      "model_name": "LayoutModel",
      "state": {}
     },
     "81633db14a184f2296eb9fbb493109b3": {
      "model_module": "@jupyter-widgets/base",
      "model_module_version": "1.2.0",
      "model_name": "LayoutModel",
      "state": {}
     },
     "818be3f762924b7fb59ff2e6646039f7": {
      "model_module": "@jupyter-widgets/base",
      "model_module_version": "1.2.0",
      "model_name": "LayoutModel",
      "state": {}
     },
     "819767fe2998439b9d59dfcf5faf7d83": {
      "model_module": "@jupyter-widgets/base",
      "model_module_version": "1.2.0",
      "model_name": "LayoutModel",
      "state": {
       "width": "5%"
      }
     },
     "81b776b277e444f3a10337e7c5659d88": {
      "model_module": "@jupyter-widgets/controls",
      "model_module_version": "1.5.0",
      "model_name": "ButtonModel",
      "state": {
       "description": "Run Code",
       "layout": "IPY_MODEL_f384a511e67842a993fdca5d5b832586",
       "style": "IPY_MODEL_6ff282488a4f4d33a923f276da08cf3b",
       "tooltip": "Click to test your code"
      }
     },
     "81c5a8c471644b7b9dcf3cb4e74dc071": {
      "model_module": "@jupyter-widgets/controls",
      "model_module_version": "1.5.0",
      "model_name": "LabelModel",
      "state": {
       "layout": "IPY_MODEL_0aa76c0b251a4e1498c079387641fc07",
       "style": "IPY_MODEL_9ce8c52450a346b6861ca2bf464244bc"
      }
     },
     "81d1748a967d4faba7fad4243003d2df": {
      "model_module": "@jupyter-widgets/controls",
      "model_module_version": "1.5.0",
      "model_name": "LabelModel",
      "state": {
       "layout": "IPY_MODEL_24214480b17e46e0a34d52dd85758bcd",
       "style": "IPY_MODEL_ef37a8e3b7834a9eb3ca25a3bfccbf22"
      }
     },
     "81d95b68df424089a594b0bc53fc7575": {
      "model_module": "@jupyter-widgets/controls",
      "model_module_version": "1.5.0",
      "model_name": "LabelModel",
      "state": {
       "layout": "IPY_MODEL_ec3e71a956144d17a1b133133de12a77",
       "style": "IPY_MODEL_e87423b5836842c4a6cedcb5ca922a55"
      }
     },
     "81e9b7ce079a49c8952902fd957388bc": {
      "model_module": "@jupyter-widgets/controls",
      "model_module_version": "1.5.0",
      "model_name": "DescriptionStyleModel",
      "state": {
       "description_width": ""
      }
     },
     "825271f59e264301a073b95008095bd3": {
      "model_module": "@jupyter-widgets/base",
      "model_module_version": "1.2.0",
      "model_name": "LayoutModel",
      "state": {}
     },
     "828d09bb5fe748fe85447e513974d034": {
      "model_module": "@jupyter-widgets/controls",
      "model_module_version": "1.5.0",
      "model_name": "LabelModel",
      "state": {
       "layout": "IPY_MODEL_18d30aeb2a8446019e783b6024ccd906",
       "style": "IPY_MODEL_987a39c5d6e64542b96dd4133c202c3c"
      }
     },
     "829e280018554e4e99421d34b8dea441": {
      "model_module": "@jupyter-widgets/output",
      "model_module_version": "1.0.0",
      "model_name": "OutputModel",
      "state": {
       "layout": "IPY_MODEL_ab3629d20d404fb682aaf9ec4d7732f0"
      }
     },
     "82b9390e10b04def965792b316655d56": {
      "model_module": "@jupyter-widgets/base",
      "model_module_version": "1.2.0",
      "model_name": "LayoutModel",
      "state": {}
     },
     "82bf9f3a8b1e495e8fae2cd4d24050b5": {
      "model_module": "@jupyter-widgets/base",
      "model_module_version": "1.2.0",
      "model_name": "LayoutModel",
      "state": {}
     },
     "82cffb595ae04894a8242983961454bc": {
      "model_module": "@jupyter-widgets/controls",
      "model_module_version": "1.5.0",
      "model_name": "ButtonModel",
      "state": {
       "description": "Run Code",
       "layout": "IPY_MODEL_c175b478ada1464f80728dc628c0db66",
       "style": "IPY_MODEL_94b49b64f0f149bf85388475116836dc",
       "tooltip": "Click to test your code"
      }
     },
     "82d8d77739d2457ab1b1fcc26841c735": {
      "model_module": "@jupyter-widgets/base",
      "model_module_version": "1.2.0",
      "model_name": "LayoutModel",
      "state": {
       "width": "90%"
      }
     },
     "82e587526d914ecb842a7d59c3fe3de5": {
      "model_module": "@jupyter-widgets/base",
      "model_module_version": "1.2.0",
      "model_name": "LayoutModel",
      "state": {
       "width": "5%"
      }
     },
     "82f4a8a43da8427f9e7d5cf5c5eb3ae6": {
      "model_module": "@jupyter-widgets/controls",
      "model_module_version": "1.5.0",
      "model_name": "HBoxModel",
      "state": {
       "children": [
        "IPY_MODEL_2bffc96e7b9b4bd79693567d737e167f",
        "IPY_MODEL_d9b6ca447dea4db7b152209ddf247218"
       ],
       "layout": "IPY_MODEL_454c7242412b4d5587e7911a3aff5aaa"
      }
     },
     "82f6e42621bd4ac88466febc6f0300e6": {
      "model_module": "@jupyter-widgets/controls",
      "model_module_version": "1.5.0",
      "model_name": "DescriptionStyleModel",
      "state": {
       "description_width": ""
      }
     },
     "832321046b434d469e1f137d06f660d9": {
      "model_module": "@jupyter-widgets/controls",
      "model_module_version": "1.5.0",
      "model_name": "HBoxModel",
      "state": {
       "children": [
        "IPY_MODEL_dbf6a0b02a97449cb1a665fb28020bee",
        "IPY_MODEL_f64d826fe94f4dd1acc56c942c5bffb5"
       ],
       "layout": "IPY_MODEL_a73bed598fef4c2a9b1cfaee89ddcdec"
      }
     },
     "833608c37c50467482162f74d317b915": {
      "model_module": "@jupyter-widgets/base",
      "model_module_version": "1.2.0",
      "model_name": "LayoutModel",
      "state": {
       "width": "5%"
      }
     },
     "8336b56c420a4b8096c8164bcc535908": {
      "model_module": "@jupyter-widgets/base",
      "model_module_version": "1.2.0",
      "model_name": "LayoutModel",
      "state": {
       "width": "90%"
      }
     },
     "83611dd0ce9849ff96ee49207acdcfb6": {
      "model_module": "@jupyter-widgets/controls",
      "model_module_version": "1.5.0",
      "model_name": "DescriptionStyleModel",
      "state": {
       "description_width": ""
      }
     },
     "83b361e20a564b448c4ba38ae1025fa7": {
      "model_module": "@jupyter-widgets/output",
      "model_module_version": "1.0.0",
      "model_name": "OutputModel",
      "state": {
       "layout": "IPY_MODEL_e854ef75c3ed492e86a75f2d6bb52d6c"
      }
     },
     "83b65a97f2954efc83455119c15cc2dd": {
      "model_module": "@jupyter-widgets/controls",
      "model_module_version": "1.5.0",
      "model_name": "LabelModel",
      "state": {
       "layout": "IPY_MODEL_c7e153ca14564f8fbe65a3dd5cfab1f8",
       "style": "IPY_MODEL_cbd79e4dfa544e88bf96444a4e803836"
      }
     },
     "83c4b30e4f6a45b6a48a0921c01292ae": {
      "model_module": "@jupyter-widgets/base",
      "model_module_version": "1.2.0",
      "model_name": "LayoutModel",
      "state": {
       "width": "90%"
      }
     },
     "83d43afb6b6147babe12197c6165e740": {
      "model_module": "@jupyter-widgets/base",
      "model_module_version": "1.2.0",
      "model_name": "LayoutModel",
      "state": {}
     },
     "83f3128542ee4c97bf8d1289f408ab02": {
      "model_module": "@jupyter-widgets/controls",
      "model_module_version": "1.5.0",
      "model_name": "VBoxModel",
      "state": {
       "children": [
        "IPY_MODEL_2ab55bea757b432ba5ff08d95c74c852",
        "IPY_MODEL_517e9004472b402982b1b1703b273b23"
       ],
       "layout": "IPY_MODEL_2a0511c6b9824e63a7f3bee0881df999"
      }
     },
     "83fa52529862440bb80b009b8d355f17": {
      "model_module": "@jupyter-widgets/controls",
      "model_module_version": "1.5.0",
      "model_name": "DescriptionStyleModel",
      "state": {
       "description_width": ""
      }
     },
     "8430ebac88934a828ccb8d88fb38d1ca": {
      "model_module": "@jupyter-widgets/controls",
      "model_module_version": "1.5.0",
      "model_name": "DescriptionStyleModel",
      "state": {
       "description_width": ""
      }
     },
     "843eaff251a94017be3cf84608c3de16": {
      "model_module": "@jupyter-widgets/controls",
      "model_module_version": "1.5.0",
      "model_name": "HBoxModel",
      "state": {
       "children": [
        "IPY_MODEL_61b8bada533541f9a3a2acc087394363",
        "IPY_MODEL_b81c8be7d5ab4c86aa6e950b6f824644"
       ],
       "layout": "IPY_MODEL_0228e8e611924a4aac224b0db50a97b0"
      }
     },
     "843fcb072c644d59a1a31e3f2f134aa6": {
      "model_module": "@jupyter-widgets/controls",
      "model_module_version": "1.5.0",
      "model_name": "DescriptionStyleModel",
      "state": {
       "description_width": ""
      }
     },
     "846e161603e04340988359a5914bdce2": {
      "model_module": "@jupyter-widgets/base",
      "model_module_version": "1.2.0",
      "model_name": "LayoutModel",
      "state": {}
     },
     "849bdb7fee5e4b8387fcbe058a01e422": {
      "model_module": "@jupyter-widgets/base",
      "model_module_version": "1.2.0",
      "model_name": "LayoutModel",
      "state": {
       "width": "5%"
      }
     },
     "84bb877389b64286a3a77a57d3f5fdf9": {
      "model_module": "@jupyter-widgets/base",
      "model_module_version": "1.2.0",
      "model_name": "LayoutModel",
      "state": {}
     },
     "84d4a46829dd469ca25308caa52cdebc": {
      "model_module": "@jupyter-widgets/controls",
      "model_module_version": "1.5.0",
      "model_name": "VBoxModel",
      "state": {
       "children": [
        "IPY_MODEL_eca6b7181e4848628432100a79c05978",
        "IPY_MODEL_a2914e5c2fb142df83f6f79819f8b8a7"
       ],
       "layout": "IPY_MODEL_4fd1912d015b4e1c9459fba3f41946a0"
      }
     },
     "84e21e43561e463a95abbce5a343ffe0": {
      "model_module": "@jupyter-widgets/controls",
      "model_module_version": "1.5.0",
      "model_name": "TextareaModel",
      "state": {
       "description": "String:",
       "layout": "IPY_MODEL_609dc1368069484087111f5e15134975",
       "placeholder": "Type something",
       "style": "IPY_MODEL_29255744e50d49619ec120a3440632ec"
      }
     },
     "850ed96989a84d919295ceef0a01831e": {
      "model_module": "@jupyter-widgets/controls",
      "model_module_version": "1.5.0",
      "model_name": "LabelModel",
      "state": {
       "layout": "IPY_MODEL_c0b4ac92253c4aa5b5146dca4936d516",
       "style": "IPY_MODEL_510a2b427f47459b9b25bed1e7215f02"
      }
     },
     "850f50a5909447ed80a0439b1fbac845": {
      "model_module": "@jupyter-widgets/controls",
      "model_module_version": "1.5.0",
      "model_name": "DescriptionStyleModel",
      "state": {
       "description_width": ""
      }
     },
     "85233dcfebfd4d3da42040ea6443ace2": {
      "model_module": "@jupyter-widgets/controls",
      "model_module_version": "1.5.0",
      "model_name": "LabelModel",
      "state": {
       "layout": "IPY_MODEL_c2f45358547a4f31a2bc5fa8422f708f",
       "style": "IPY_MODEL_d6ba18c2dc4b4a9581cd51743ecc8d96"
      }
     },
     "856d70479a3444ca8bda88cdc8bcd03a": {
      "model_module": "@jupyter-widgets/base",
      "model_module_version": "1.2.0",
      "model_name": "LayoutModel",
      "state": {
       "width": "5%"
      }
     },
     "857cd4de7fb74f2db60f6ac69e252ebe": {
      "model_module": "@jupyter-widgets/controls",
      "model_module_version": "1.5.0",
      "model_name": "LabelModel",
      "state": {
       "layout": "IPY_MODEL_9b61a396841c45089df156b9616c68c9",
       "style": "IPY_MODEL_538e5b9ffb0b4b42bc3832333744475d"
      }
     },
     "857ff91cf8ad4952bdd582cc7554730b": {
      "model_module": "@jupyter-widgets/controls",
      "model_module_version": "1.5.0",
      "model_name": "HBoxModel",
      "state": {
       "children": [
        "IPY_MODEL_850ed96989a84d919295ceef0a01831e",
        "IPY_MODEL_7dd72aff0b204b6483a84f807e39587b"
       ],
       "layout": "IPY_MODEL_57b2ebabe0864361845b5dbb85d63163"
      }
     },
     "8581857d25a04e40b2fe72a9e02f5e8a": {
      "model_module": "@jupyter-widgets/controls",
      "model_module_version": "1.5.0",
      "model_name": "HBoxModel",
      "state": {
       "children": [
        "IPY_MODEL_246cc19f9f094b00b23493bd499c0b45",
        "IPY_MODEL_73ab3bf6d8fa47109e9b320566a4742d"
       ],
       "layout": "IPY_MODEL_629cc4f0a6ba4ec4a137ac1ecda3dd2e"
      }
     },
     "8590167d712740e69dae43b04a4d47c2": {
      "model_module": "@jupyter-widgets/controls",
      "model_module_version": "1.5.0",
      "model_name": "LabelModel",
      "state": {
       "layout": "IPY_MODEL_21a5b999a2e242f6b1a90769214ac6a8",
       "style": "IPY_MODEL_db9f8701b6044e348c79a8b359be853d"
      }
     },
     "85cc1c4e7c0049e79e19868b75a4da00": {
      "model_module": "@jupyter-widgets/base",
      "model_module_version": "1.2.0",
      "model_name": "LayoutModel",
      "state": {
       "width": "90%"
      }
     },
     "85e1e984a48a463ab5736c15ce365e24": {
      "model_module": "@jupyter-widgets/base",
      "model_module_version": "1.2.0",
      "model_name": "LayoutModel",
      "state": {}
     },
     "85f3bb57cb1943ea8426ad70f1452b33": {
      "model_module": "@jupyter-widgets/controls",
      "model_module_version": "1.5.0",
      "model_name": "HBoxModel",
      "state": {
       "children": [
        "IPY_MODEL_9be75c8310c443449fa2aa29b7567fa9",
        "IPY_MODEL_eb47cb1e434f40e1993a0de924030f1f"
       ],
       "layout": "IPY_MODEL_ef1d89ce4651439a826353c0e903a336"
      }
     },
     "85fbe35b23f24a0cb5389a66ef5f92d8": {
      "model_module": "@jupyter-widgets/base",
      "model_module_version": "1.2.0",
      "model_name": "LayoutModel",
      "state": {
       "width": "90%"
      }
     },
     "8619083b06d64bffb3d9e88aedad7033": {
      "model_module": "@jupyter-widgets/controls",
      "model_module_version": "1.5.0",
      "model_name": "TextareaModel",
      "state": {
       "description": "String:",
       "layout": "IPY_MODEL_cc0600e41e12434998dd2cb78620b6b7",
       "placeholder": "Type something",
       "style": "IPY_MODEL_d5eb5697e49b4870800ac4935e22eeb0"
      }
     },
     "8622942444304f81b24e316d073f0281": {
      "model_module": "@jupyter-widgets/controls",
      "model_module_version": "1.5.0",
      "model_name": "TextareaModel",
      "state": {
       "description": "String:",
       "layout": "IPY_MODEL_e82ba7fa5ff94a72bbb559019909fab9",
       "placeholder": "Type code here",
       "style": "IPY_MODEL_d3078672f48d40c2aede9a381d3e1927",
       "value": "print(3)"
      }
     },
     "862f18785f2a4642965d98effd68d21f": {
      "model_module": "@jupyter-widgets/controls",
      "model_module_version": "1.5.0",
      "model_name": "DescriptionStyleModel",
      "state": {
       "description_width": ""
      }
     },
     "864c74cc0f7442c7b907967bc74f206a": {
      "model_module": "@jupyter-widgets/controls",
      "model_module_version": "1.5.0",
      "model_name": "TextareaModel",
      "state": {
       "description": "String:",
       "layout": "IPY_MODEL_4c9030063b5442d3a8203724d3919827",
       "placeholder": "Type something",
       "style": "IPY_MODEL_96da5cca3a9b4fc8861ffbdd6119574d"
      }
     },
     "869870e5cbd64ad18399498743cd23a3": {
      "model_module": "@jupyter-widgets/base",
      "model_module_version": "1.2.0",
      "model_name": "LayoutModel",
      "state": {}
     },
     "86a0fb3519334d53a5e1f7ea91d8669b": {
      "model_module": "@jupyter-widgets/controls",
      "model_module_version": "1.5.0",
      "model_name": "DescriptionStyleModel",
      "state": {
       "description_width": ""
      }
     },
     "86ab9552c1bd48b08b5607a8c8e950ac": {
      "model_module": "@jupyter-widgets/base",
      "model_module_version": "1.2.0",
      "model_name": "LayoutModel",
      "state": {
       "width": "5%"
      }
     },
     "86bcb8fe60ed418d9f862d47b62491e0": {
      "model_module": "@jupyter-widgets/controls",
      "model_module_version": "1.5.0",
      "model_name": "TextareaModel",
      "state": {
       "description": "String:",
       "layout": "IPY_MODEL_ec914579a06f497db3f2bc26ca98400d",
       "placeholder": "Type something",
       "style": "IPY_MODEL_3bc7dcb0ebc442a98bc13517c66c2de1"
      }
     },
     "86c0abab4d304aabb76d8e947401e622": {
      "model_module": "@jupyter-widgets/controls",
      "model_module_version": "1.5.0",
      "model_name": "ButtonModel",
      "state": {
       "description": "Test Code",
       "layout": "IPY_MODEL_0ee4829477a041999072a80961b550b8",
       "style": "IPY_MODEL_d3bcca5142b2427096272f06f89f886f",
       "tooltip": "Click to test your code"
      }
     },
     "86ca7356a32549989645dbe08df047d0": {
      "model_module": "@jupyter-widgets/base",
      "model_module_version": "1.2.0",
      "model_name": "LayoutModel",
      "state": {}
     },
     "870844ba84e04d08be9ca1eb0d8fd7df": {
      "model_module": "@jupyter-widgets/controls",
      "model_module_version": "1.5.0",
      "model_name": "ButtonStyleModel",
      "state": {}
     },
     "8726c44e82f14ae68f2da615de472207": {
      "model_module": "@jupyter-widgets/controls",
      "model_module_version": "1.5.0",
      "model_name": "VBoxModel",
      "state": {
       "children": [
        "IPY_MODEL_03708b7b777a430daf523a569715df87",
        "IPY_MODEL_fdb7e09d83934448aa97ce2d63b72efc"
       ],
       "layout": "IPY_MODEL_ff248f9518724d4b8d1b479303fd39dd"
      }
     },
     "872d5744969c403bb3c2bcbb223faba5": {
      "model_module": "@jupyter-widgets/controls",
      "model_module_version": "1.5.0",
      "model_name": "DescriptionStyleModel",
      "state": {
       "description_width": ""
      }
     },
     "8748d8c153324e41a509737972daf403": {
      "model_module": "@jupyter-widgets/controls",
      "model_module_version": "1.5.0",
      "model_name": "DescriptionStyleModel",
      "state": {
       "description_width": ""
      }
     },
     "874cf4a1fe5643a5bd5c2cd41e309a91": {
      "model_module": "@jupyter-widgets/controls",
      "model_module_version": "1.5.0",
      "model_name": "DescriptionStyleModel",
      "state": {
       "description_width": ""
      }
     },
     "87803aec13b544fba907780ffbb0d9e5": {
      "model_module": "@jupyter-widgets/base",
      "model_module_version": "1.2.0",
      "model_name": "LayoutModel",
      "state": {}
     },
     "8790080c747d452e8be6f8926e499a2d": {
      "model_module": "@jupyter-widgets/base",
      "model_module_version": "1.2.0",
      "model_name": "LayoutModel",
      "state": {}
     },
     "8792e43355be4cb98a61818d82032f5c": {
      "model_module": "@jupyter-widgets/controls",
      "model_module_version": "1.5.0",
      "model_name": "HBoxModel",
      "state": {
       "children": [
        "IPY_MODEL_8f61f44ece754703a3f1595d91d15d44",
        "IPY_MODEL_91d085b82f5e4d28ac3296b3bbee547a"
       ],
       "layout": "IPY_MODEL_0c383bc232204041a4a872070b0b110d"
      }
     },
     "87d9a43bd37a48d8b2369e5dcdb3a778": {
      "model_module": "@jupyter-widgets/controls",
      "model_module_version": "1.5.0",
      "model_name": "HBoxModel",
      "state": {
       "children": [
        "IPY_MODEL_d0726380190e46949b67f5befb025e0d",
        "IPY_MODEL_e619c763956347f69f558417270f21a6"
       ],
       "layout": "IPY_MODEL_5e3a539a5c8744449f381ec4183cd52c"
      }
     },
     "87ea68842af6436d9436f5b6d7585c36": {
      "model_module": "@jupyter-widgets/base",
      "model_module_version": "1.2.0",
      "model_name": "LayoutModel",
      "state": {
       "width": "90%"
      }
     },
     "87f25c124fe24d47bef6e1b200861236": {
      "model_module": "@jupyter-widgets/base",
      "model_module_version": "1.2.0",
      "model_name": "LayoutModel",
      "state": {
       "width": "5%"
      }
     },
     "87f7db97b9ba44d28fad886bbe9d9dc7": {
      "model_module": "@jupyter-widgets/base",
      "model_module_version": "1.2.0",
      "model_name": "LayoutModel",
      "state": {
       "width": "5%"
      }
     },
     "880d753d5f6d482a803bca0f2e4c6c4f": {
      "model_module": "@jupyter-widgets/base",
      "model_module_version": "1.2.0",
      "model_name": "LayoutModel",
      "state": {}
     },
     "881b7f91f1d948fabe43f49aab889de0": {
      "model_module": "@jupyter-widgets/base",
      "model_module_version": "1.2.0",
      "model_name": "LayoutModel",
      "state": {
       "width": "5%"
      }
     },
     "882cf466c4ff41959782f949fb506033": {
      "model_module": "@jupyter-widgets/base",
      "model_module_version": "1.2.0",
      "model_name": "LayoutModel",
      "state": {
       "width": "90%"
      }
     },
     "88302d539be149759daa88b061bdd12a": {
      "model_module": "@jupyter-widgets/controls",
      "model_module_version": "1.5.0",
      "model_name": "RadioButtonsModel",
      "state": {
       "_options_labels": [
        "a. Polarization",
        "b. Phase",
        "c. Frequency",
        "d. Propagation axis"
       ],
       "index": 0,
       "layout": "IPY_MODEL_a76fa631a86e4396a46692bb1a209b7e",
       "style": "IPY_MODEL_a30f4c5e80a24948b80211111b48b31d"
      }
     },
     "883d1d2c110b48df8bfe07522c6a3768": {
      "model_module": "@jupyter-widgets/controls",
      "model_module_version": "1.5.0",
      "model_name": "ButtonModel",
      "state": {
       "description": "Review Answers",
       "layout": "IPY_MODEL_ad4a166eddb14f3eb29fbec150da2b28",
       "style": "IPY_MODEL_15204199d900465e8ee4cad34b9e7e67",
       "tooltip": "Click to review answers"
      }
     },
     "885f994b77d0444896c94064a4e8402d": {
      "model_module": "@jupyter-widgets/controls",
      "model_module_version": "1.5.0",
      "model_name": "DescriptionStyleModel",
      "state": {
       "description_width": ""
      }
     },
     "886cde1a1f214dfeabbecacc88219fa7": {
      "model_module": "@jupyter-widgets/base",
      "model_module_version": "1.2.0",
      "model_name": "LayoutModel",
      "state": {}
     },
     "88bfcbc1dfd148e7a6fb3eba610c4e42": {
      "model_module": "@jupyter-widgets/controls",
      "model_module_version": "1.5.0",
      "model_name": "DescriptionStyleModel",
      "state": {
       "description_width": ""
      }
     },
     "88f098932eea427dbc4484c0b5097c01": {
      "model_module": "@jupyter-widgets/controls",
      "model_module_version": "1.5.0",
      "model_name": "HBoxModel",
      "state": {
       "children": [
        "IPY_MODEL_5e66d612787c4cccbfedf34b92e5f223",
        "IPY_MODEL_5e2c24c4bd2345709730a075e8a39ee9"
       ],
       "layout": "IPY_MODEL_4e536327d6a54baf81329c7704184628"
      }
     },
     "890aa2599f324d65b3c81931e4e80d78": {
      "model_module": "@jupyter-widgets/controls",
      "model_module_version": "1.5.0",
      "model_name": "LabelModel",
      "state": {
       "layout": "IPY_MODEL_ccc9d0aad75745acb91ce89530c45262",
       "style": "IPY_MODEL_b642941ead84407698b5d22b9917b1b8"
      }
     },
     "890e8c2a30434bb78ebaae7c1120b50a": {
      "model_module": "@jupyter-widgets/controls",
      "model_module_version": "1.5.0",
      "model_name": "LabelModel",
      "state": {
       "layout": "IPY_MODEL_957ddecc263e44f8bfdd2d9f537cfa7b",
       "style": "IPY_MODEL_e5e3bba17bbb47c88c1c4bc7d8768543"
      }
     },
     "8910bf16141b44feb1b196a4a29129b5": {
      "model_module": "@jupyter-widgets/controls",
      "model_module_version": "1.5.0",
      "model_name": "ButtonModel",
      "state": {
       "description": "Run Code",
       "layout": "IPY_MODEL_c7ce69ce154f4ce4b7237eaa2c51d80d",
       "style": "IPY_MODEL_3f48b3f62bc94f848f9431c6c0fd9f23",
       "tooltip": "Click to test your code"
      }
     },
     "89167479ddf64308a5e2e5c826e320c1": {
      "model_module": "@jupyter-widgets/base",
      "model_module_version": "1.2.0",
      "model_name": "LayoutModel",
      "state": {
       "width": "5%"
      }
     },
     "893105060d9149c2af79b0db01c83fb1": {
      "model_module": "@jupyter-widgets/controls",
      "model_module_version": "1.5.0",
      "model_name": "DescriptionStyleModel",
      "state": {
       "description_width": ""
      }
     },
     "89329dfa83f2477ca3508bd59add24b9": {
      "model_module": "@jupyter-widgets/controls",
      "model_module_version": "1.5.0",
      "model_name": "DescriptionStyleModel",
      "state": {
       "description_width": ""
      }
     },
     "893ee1fd7cab45cebc9272b40c62f752": {
      "model_module": "@jupyter-widgets/base",
      "model_module_version": "1.2.0",
      "model_name": "LayoutModel",
      "state": {
       "width": "5%"
      }
     },
     "8944ff552e7d4f3eba2ec176599bf312": {
      "model_module": "@jupyter-widgets/output",
      "model_module_version": "1.0.0",
      "model_name": "OutputModel",
      "state": {
       "layout": "IPY_MODEL_ddd071c8c75b461c94f3896d69b115cf"
      }
     },
     "894d647fcc82472b813487149deba48c": {
      "model_module": "@jupyter-widgets/controls",
      "model_module_version": "1.5.0",
      "model_name": "DescriptionStyleModel",
      "state": {
       "description_width": ""
      }
     },
     "895e49feceae4f8787ab4cf871a8d544": {
      "model_module": "@jupyter-widgets/controls",
      "model_module_version": "1.5.0",
      "model_name": "HBoxModel",
      "state": {
       "children": [
        "IPY_MODEL_f8680c6682db4214b04dc1385373225f",
        "IPY_MODEL_bc12aeedaf7e4da6a641e83838ebde00"
       ],
       "layout": "IPY_MODEL_778e19b5e9164bf294a472c2cb8f9fc3"
      }
     },
     "89770f905a414e25ab06558f405bd6d0": {
      "model_module": "@jupyter-widgets/controls",
      "model_module_version": "1.5.0",
      "model_name": "HBoxModel",
      "state": {
       "children": [
        "IPY_MODEL_39a37fc7ea1e4bf08bf61403685b6ec1",
        "IPY_MODEL_d900bf9254fd4594be1b5a3e0485c9b6"
       ],
       "layout": "IPY_MODEL_9cfa29b66d1f4b2d9dc44ec28f0aea15"
      }
     },
     "8991f4c97158450582e5b2a593abbe44": {
      "model_module": "@jupyter-widgets/controls",
      "model_module_version": "1.5.0",
      "model_name": "LabelModel",
      "state": {
       "layout": "IPY_MODEL_643ed3a04bef416ba73ca71f3558b1ff",
       "style": "IPY_MODEL_56f13210a2a543da93b1047a9b266a99"
      }
     },
     "89948e5e381e4f07911834f85e4492ef": {
      "model_module": "@jupyter-widgets/controls",
      "model_module_version": "1.5.0",
      "model_name": "HBoxModel",
      "state": {
       "children": [
        "IPY_MODEL_0c007f4bc25c48afa020e18bdeb67418",
        "IPY_MODEL_6f5e8b0344a344fe822fab9090114e5a"
       ],
       "layout": "IPY_MODEL_7d066d66051c4809b2a7f0bd61bcbed7"
      }
     },
     "89baf29cdaf449e3b74f53f747485cf8": {
      "model_module": "@jupyter-widgets/controls",
      "model_module_version": "1.5.0",
      "model_name": "HBoxModel",
      "state": {
       "children": [
        "IPY_MODEL_6f8c9207f689401ab7ae37670011c788",
        "IPY_MODEL_5c4a3f2d981d4e56859c034ebdd87de3"
       ],
       "layout": "IPY_MODEL_c9f2d57cc7f546c7a7dbc307f88de473"
      }
     },
     "89bbfed6b0194dcf9bbea8f258224cf7": {
      "model_module": "@jupyter-widgets/controls",
      "model_module_version": "1.5.0",
      "model_name": "TextareaModel",
      "state": {
       "description": "String:",
       "layout": "IPY_MODEL_3fea6f2282bc48a1bbfdc62ec4803f6b",
       "placeholder": "Type something",
       "style": "IPY_MODEL_4a22369b36a54d35b86dffbd33143f20"
      }
     },
     "89bdcc97983d403081fafd6cad60f4ca": {
      "model_module": "@jupyter-widgets/base",
      "model_module_version": "1.2.0",
      "model_name": "LayoutModel",
      "state": {}
     },
     "8a1ba6a839c14199b44debdd8d1e9738": {
      "model_module": "@jupyter-widgets/base",
      "model_module_version": "1.2.0",
      "model_name": "LayoutModel",
      "state": {
       "width": "5%"
      }
     },
     "8a1d11a4587d4546b22e88da430cde7a": {
      "model_module": "@jupyter-widgets/controls",
      "model_module_version": "1.5.0",
      "model_name": "ButtonStyleModel",
      "state": {}
     },
     "8a22baa7fe334c099852a8d4b053c474": {
      "model_module": "@jupyter-widgets/controls",
      "model_module_version": "1.5.0",
      "model_name": "TextareaModel",
      "state": {
       "description": "Code:",
       "layout": "IPY_MODEL_67e6cb65a3684d769b0fa13ad5b1bba4",
       "placeholder": "Type code here",
       "style": "IPY_MODEL_b1b8af58dc4547ec9635a807a0d96bfd"
      }
     },
     "8a26ac1672da4e2da3c994902666d323": {
      "model_module": "@jupyter-widgets/base",
      "model_module_version": "1.2.0",
      "model_name": "LayoutModel",
      "state": {}
     },
     "8a2a9ee08bfc4861980db695f2c4cfe4": {
      "model_module": "@jupyter-widgets/controls",
      "model_module_version": "1.5.0",
      "model_name": "DescriptionStyleModel",
      "state": {
       "description_width": ""
      }
     },
     "8a3a46c2bc93430db3506161f0bad262": {
      "model_module": "@jupyter-widgets/controls",
      "model_module_version": "1.5.0",
      "model_name": "HBoxModel",
      "state": {
       "children": [
        "IPY_MODEL_2294aa913bec4c8fbbeb858ea80a445e",
        "IPY_MODEL_fa6e683f5cec4bbd98a48d2942502579"
       ],
       "layout": "IPY_MODEL_36fc151c6a334de0b7fe001325e757d6"
      }
     },
     "8a3eb499157e4ee192b12af3df425670": {
      "model_module": "@jupyter-widgets/controls",
      "model_module_version": "1.5.0",
      "model_name": "DescriptionStyleModel",
      "state": {
       "description_width": ""
      }
     },
     "8a8b72eb40a149c6a1200e9fe19a8a81": {
      "model_module": "@jupyter-widgets/base",
      "model_module_version": "1.2.0",
      "model_name": "LayoutModel",
      "state": {
       "width": "5%"
      }
     },
     "8aac855d53634ce7902be62ea747f896": {
      "model_module": "@jupyter-widgets/base",
      "model_module_version": "1.2.0",
      "model_name": "LayoutModel",
      "state": {
       "width": "90%"
      }
     },
     "8ac600ffcb824d629b63a8d3e8591043": {
      "model_module": "@jupyter-widgets/base",
      "model_module_version": "1.2.0",
      "model_name": "LayoutModel",
      "state": {
       "width": "90%"
      }
     },
     "8ad2f5b4136e405d90e8e1a20a2ee5a5": {
      "model_module": "@jupyter-widgets/controls",
      "model_module_version": "1.5.0",
      "model_name": "ButtonModel",
      "state": {
       "description": "Review Answers",
       "layout": "IPY_MODEL_0544f3d6f30f4829a52a91f028af93ca",
       "style": "IPY_MODEL_581c9d7e69c543ee98ada8357d84ada2",
       "tooltip": "Click to review answers"
      }
     },
     "8ae1acd965624406ab3d0191e8eb723e": {
      "model_module": "@jupyter-widgets/controls",
      "model_module_version": "1.5.0",
      "model_name": "LabelModel",
      "state": {
       "layout": "IPY_MODEL_6140d024a351453292f81582eed62657",
       "style": "IPY_MODEL_fad302a813ae492c88eaed45beaf2312"
      }
     },
     "8aef5f4faab44e8ca461ac0344280aff": {
      "model_module": "@jupyter-widgets/controls",
      "model_module_version": "1.5.0",
      "model_name": "DescriptionStyleModel",
      "state": {
       "description_width": ""
      }
     },
     "8aff8fa018e54069abac00b1c6421f85": {
      "model_module": "@jupyter-widgets/controls",
      "model_module_version": "1.5.0",
      "model_name": "TextareaModel",
      "state": {
       "description": "Code:",
       "layout": "IPY_MODEL_213428e3d30b42488ae79530cb1a614f",
       "placeholder": "Type code here",
       "style": "IPY_MODEL_77f95338583641f1aa4b58f91acf8585"
      }
     },
     "8b0c42e73fb642eab3578b2f9067394d": {
      "model_module": "@jupyter-widgets/base",
      "model_module_version": "1.2.0",
      "model_name": "LayoutModel",
      "state": {
       "width": "5%"
      }
     },
     "8b1a57f192844a26849c8517f2244fcc": {
      "model_module": "@jupyter-widgets/controls",
      "model_module_version": "1.5.0",
      "model_name": "HBoxModel",
      "state": {
       "children": [
        "IPY_MODEL_12e2d407f67a46289ae2b0e627caae3b",
        "IPY_MODEL_e5111fb20142496fbc5d1ab0a44b53eb"
       ],
       "layout": "IPY_MODEL_4457a4270fc7432ca5ff5f3de63b8f0a"
      }
     },
     "8b72e87ecdcb48918a8c7cca46ef4982": {
      "model_module": "@jupyter-widgets/controls",
      "model_module_version": "1.5.0",
      "model_name": "TextareaModel",
      "state": {
       "description": "String:",
       "layout": "IPY_MODEL_b7569efec6814afca7f2d49fe39fbbdb",
       "placeholder": "Type something",
       "style": "IPY_MODEL_fd4bbfeb5bf64e6a9d71d4faedd6845b"
      }
     },
     "8b89adc35f5148c0bacf11544692c909": {
      "model_module": "@jupyter-widgets/controls",
      "model_module_version": "1.5.0",
      "model_name": "LabelModel",
      "state": {
       "layout": "IPY_MODEL_642f5f0b08224464acae5a31c042c514",
       "style": "IPY_MODEL_c4c0e9a4155145559a1a35d3ee4e3b96"
      }
     },
     "8b8a57685650449397588cbfbacbe67e": {
      "model_module": "@jupyter-widgets/controls",
      "model_module_version": "1.5.0",
      "model_name": "HBoxModel",
      "state": {
       "children": [
        "IPY_MODEL_41848b5f38a24818830a319aca197929",
        "IPY_MODEL_17b1a5c1ff4f43d3af006d2cfda8d490"
       ],
       "layout": "IPY_MODEL_ce922cd1c08c4b9f97853f9c5b824653"
      }
     },
     "8b97862286824ebfaa054e812c2b8c3c": {
      "model_module": "@jupyter-widgets/controls",
      "model_module_version": "1.5.0",
      "model_name": "TextareaModel",
      "state": {
       "description": "String:",
       "layout": "IPY_MODEL_1156b038939a4d1f93eb963fc9027706",
       "placeholder": "Type something",
       "style": "IPY_MODEL_ce40134031b44ea1a5a02fac9644cb5e"
      }
     },
     "8ba5a453c1984f829c24dd2780f75dd6": {
      "model_module": "@jupyter-widgets/controls",
      "model_module_version": "1.5.0",
      "model_name": "TextareaModel",
      "state": {
       "description": "Answer:",
       "layout": "IPY_MODEL_364f0f06ab934b1db1a33f9937e1d6c4",
       "placeholder": "Type something",
       "style": "IPY_MODEL_8a3eb499157e4ee192b12af3df425670"
      }
     },
     "8baddabf95bf489195cc28a9823507bd": {
      "model_module": "@jupyter-widgets/controls",
      "model_module_version": "1.5.0",
      "model_name": "LabelModel",
      "state": {
       "layout": "IPY_MODEL_49cf7d32905e4c39ba0a87948d54e8a8",
       "style": "IPY_MODEL_2a407ec09ea64f9cb7f58a6869738dff"
      }
     },
     "8bc36ec1590c46939a9215460ac08f63": {
      "model_module": "@jupyter-widgets/controls",
      "model_module_version": "1.5.0",
      "model_name": "DescriptionStyleModel",
      "state": {
       "description_width": ""
      }
     },
     "8bce387d433741b08369524701e58f3f": {
      "model_module": "@jupyter-widgets/controls",
      "model_module_version": "1.5.0",
      "model_name": "LabelModel",
      "state": {
       "layout": "IPY_MODEL_3f40c03a85304e1a9fe7dab31cd3d45c",
       "style": "IPY_MODEL_dce035d7d67d48e9b2e1bf9a276f61ca"
      }
     },
     "8be040685f77467ab185fd71826aec88": {
      "model_module": "@jupyter-widgets/controls",
      "model_module_version": "1.5.0",
      "model_name": "DescriptionStyleModel",
      "state": {
       "description_width": ""
      }
     },
     "8c120995151e4fff8cadec3c3097e327": {
      "model_module": "@jupyter-widgets/base",
      "model_module_version": "1.2.0",
      "model_name": "LayoutModel",
      "state": {}
     },
     "8c24e4c1777045af859eaf163ddf9593": {
      "model_module": "@jupyter-widgets/base",
      "model_module_version": "1.2.0",
      "model_name": "LayoutModel",
      "state": {
       "width": "90%"
      }
     },
     "8c25dcfdd7fa4b65979ad5a48581d6bc": {
      "model_module": "@jupyter-widgets/base",
      "model_module_version": "1.2.0",
      "model_name": "LayoutModel",
      "state": {
       "width": "5%"
      }
     },
     "8c289bb3f146463c9745fea83b71666b": {
      "model_module": "@jupyter-widgets/controls",
      "model_module_version": "1.5.0",
      "model_name": "DescriptionStyleModel",
      "state": {
       "description_width": ""
      }
     },
     "8c501965bec34c19a77b33e8d722f814": {
      "model_module": "@jupyter-widgets/base",
      "model_module_version": "1.2.0",
      "model_name": "LayoutModel",
      "state": {
       "width": "90%"
      }
     },
     "8c55056050cc4b50ad3a83e190e009a7": {
      "model_module": "@jupyter-widgets/base",
      "model_module_version": "1.2.0",
      "model_name": "LayoutModel",
      "state": {}
     },
     "8c5c324b11aa4a6190071e7990c6f0b5": {
      "model_module": "@jupyter-widgets/controls",
      "model_module_version": "1.5.0",
      "model_name": "LabelModel",
      "state": {
       "layout": "IPY_MODEL_7ad7245208734dcfaa57d63beb1e85b1",
       "style": "IPY_MODEL_31e14bd76f124027975d0dc023d57553"
      }
     },
     "8c8c12bc96354d1f81f7a27616634397": {
      "model_module": "@jupyter-widgets/base",
      "model_module_version": "1.2.0",
      "model_name": "LayoutModel",
      "state": {
       "width": "90%"
      }
     },
     "8c8cb31da1ed48b4b17c295ee853f1b7": {
      "model_module": "@jupyter-widgets/controls",
      "model_module_version": "1.5.0",
      "model_name": "DescriptionStyleModel",
      "state": {
       "description_width": ""
      }
     },
     "8c9a0c84ec9d4a9085be93d271fbd1d5": {
      "model_module": "@jupyter-widgets/base",
      "model_module_version": "1.2.0",
      "model_name": "LayoutModel",
      "state": {}
     },
     "8cc06879e8b946d0ac88b1f66301fed8": {
      "model_module": "@jupyter-widgets/controls",
      "model_module_version": "1.5.0",
      "model_name": "LabelModel",
      "state": {
       "layout": "IPY_MODEL_7c798ee4f59f4919bccdd8f7b5fa2e45",
       "style": "IPY_MODEL_e4b217cb14c54e40a1531019349fcc89"
      }
     },
     "8cc67cfb20ac4834993f73b693456780": {
      "model_module": "@jupyter-widgets/controls",
      "model_module_version": "1.5.0",
      "model_name": "DescriptionStyleModel",
      "state": {
       "description_width": ""
      }
     },
     "8cd5cbdb8a5b46359c8a03e221b61fa4": {
      "model_module": "@jupyter-widgets/controls",
      "model_module_version": "1.5.0",
      "model_name": "HBoxModel",
      "state": {
       "children": [
        "IPY_MODEL_733e2910f6e34e32b9d1e51c9b4a5c01",
        "IPY_MODEL_44ca04c583f343768037cc16a9dd517e"
       ],
       "layout": "IPY_MODEL_01f32752f67a43b0aafe047978b5c801"
      }
     },
     "8cee3492d0924d89bbbae8c25ffb1aab": {
      "model_module": "@jupyter-widgets/controls",
      "model_module_version": "1.5.0",
      "model_name": "LabelModel",
      "state": {
       "layout": "IPY_MODEL_903f2713a3c14a2592fa3dccc1481b33",
       "style": "IPY_MODEL_4a82be9667d847569c34b150c6c328b1"
      }
     },
     "8d06a24d461d4e449830b57feb817a83": {
      "model_module": "@jupyter-widgets/controls",
      "model_module_version": "1.5.0",
      "model_name": "DescriptionStyleModel",
      "state": {
       "description_width": ""
      }
     },
     "8d27c1b834dd48bf84e15236df1dd908": {
      "model_module": "@jupyter-widgets/controls",
      "model_module_version": "1.5.0",
      "model_name": "TextareaModel",
      "state": {
       "description": "String:",
       "layout": "IPY_MODEL_3457faaff8a0488bb7d5d54a9308b316",
       "placeholder": "Type something",
       "style": "IPY_MODEL_ae83d376048549a29bf8711d86241a5d"
      }
     },
     "8d3a4d7f4c084094a463a9f02506cd29": {
      "model_module": "@jupyter-widgets/controls",
      "model_module_version": "1.5.0",
      "model_name": "HBoxModel",
      "state": {
       "children": [
        "IPY_MODEL_037af4080f6d4602bc4c600b998aa483",
        "IPY_MODEL_281cf2d0263c4f6d9748a93346d5c18c"
       ],
       "layout": "IPY_MODEL_ba24def15afb4f76ab5a7d97bfe4c08d"
      }
     },
     "8d47f491d07c4f5bb3eec245aaddf1ae": {
      "model_module": "@jupyter-widgets/controls",
      "model_module_version": "1.5.0",
      "model_name": "DescriptionStyleModel",
      "state": {
       "description_width": ""
      }
     },
     "8d488672ecab4f8dbe752e66a100738a": {
      "model_module": "@jupyter-widgets/controls",
      "model_module_version": "1.5.0",
      "model_name": "DescriptionStyleModel",
      "state": {
       "description_width": ""
      }
     },
     "8d704a912a904253a5c1e60bc97ecd93": {
      "model_module": "@jupyter-widgets/controls",
      "model_module_version": "1.5.0",
      "model_name": "VBoxModel",
      "state": {
       "children": [
        "IPY_MODEL_cc474d3b48204f3ca76f2573003c249d",
        "IPY_MODEL_d259230b354346dca903a31b160c9d5b"
       ],
       "layout": "IPY_MODEL_a2b62ccfa4e648de86c35b0aa2791cca"
      }
     },
     "8d72737d41064516ba0b70f621c29593": {
      "model_module": "@jupyter-widgets/base",
      "model_module_version": "1.2.0",
      "model_name": "LayoutModel",
      "state": {}
     },
     "8dd3af1f7a2144bebe155df87aea2220": {
      "model_module": "@jupyter-widgets/base",
      "model_module_version": "1.2.0",
      "model_name": "LayoutModel",
      "state": {
       "width": "5%"
      }
     },
     "8e010f800d774db8960fab05d1df4b81": {
      "model_module": "@jupyter-widgets/controls",
      "model_module_version": "1.5.0",
      "model_name": "DescriptionStyleModel",
      "state": {
       "description_width": ""
      }
     },
     "8e164281c6fa404d8668e4214506a203": {
      "model_module": "@jupyter-widgets/controls",
      "model_module_version": "1.5.0",
      "model_name": "ButtonStyleModel",
      "state": {}
     },
     "8e6ced1730d749efafc12cb897b1c14f": {
      "model_module": "@jupyter-widgets/base",
      "model_module_version": "1.2.0",
      "model_name": "LayoutModel",
      "state": {}
     },
     "8e928c29c610443b8adf83207dbc22a6": {
      "model_module": "@jupyter-widgets/base",
      "model_module_version": "1.2.0",
      "model_name": "LayoutModel",
      "state": {
       "width": "5%"
      }
     },
     "8eb58138f6be4d7ebb3b6937cb7f5dda": {
      "model_module": "@jupyter-widgets/base",
      "model_module_version": "1.2.0",
      "model_name": "LayoutModel",
      "state": {}
     },
     "8ec37c9afac445918b3b1fb830c04035": {
      "model_module": "@jupyter-widgets/controls",
      "model_module_version": "1.5.0",
      "model_name": "HBoxModel",
      "state": {
       "children": [
        "IPY_MODEL_322ae127520c48b8874796e67948f789",
        "IPY_MODEL_39d26cbf04354485a32acf1ee0006a32"
       ],
       "layout": "IPY_MODEL_57c5a808090b4b15937ebd1a3567751c"
      }
     },
     "8f0b83bc0a5542f98ba8a10cfc9b1daf": {
      "model_module": "@jupyter-widgets/base",
      "model_module_version": "1.2.0",
      "model_name": "LayoutModel",
      "state": {}
     },
     "8f3a90eb796e4f7eb5706fff3fb6b126": {
      "model_module": "@jupyter-widgets/controls",
      "model_module_version": "1.5.0",
      "model_name": "DescriptionStyleModel",
      "state": {
       "description_width": ""
      }
     },
     "8f40e6cbb1804547a60460c85bed0608": {
      "model_module": "@jupyter-widgets/controls",
      "model_module_version": "1.5.0",
      "model_name": "HBoxModel",
      "state": {
       "children": [
        "IPY_MODEL_81d1748a967d4faba7fad4243003d2df",
        "IPY_MODEL_586f55e825d040ee8087fc7723dc8d49"
       ],
       "layout": "IPY_MODEL_596eeb72d9964f919c298d269bdb34e9"
      }
     },
     "8f61f44ece754703a3f1595d91d15d44": {
      "model_module": "@jupyter-widgets/controls",
      "model_module_version": "1.5.0",
      "model_name": "LabelModel",
      "state": {
       "layout": "IPY_MODEL_ade847012f4245f19e2e37daa63aea2b",
       "style": "IPY_MODEL_e1320effd3754f668013d00b23611248"
      }
     },
     "8f643b6c6d9b4479a5bfe79c588ad535": {
      "model_module": "@jupyter-widgets/base",
      "model_module_version": "1.2.0",
      "model_name": "LayoutModel",
      "state": {
       "width": "90%"
      }
     },
     "8f759390ac134c2a8a84a0af66ec7dba": {
      "model_module": "@jupyter-widgets/controls",
      "model_module_version": "1.5.0",
      "model_name": "VBoxModel",
      "state": {
       "children": [
        "IPY_MODEL_f8216b5a6908404dafacbd64c8022ab1",
        "IPY_MODEL_333b5a6c320f4de58e3e271b76f319e3"
       ],
       "layout": "IPY_MODEL_26136f0c64754eb58948e839e867f26a"
      }
     },
     "8f8a891fdd9549a88dfe88af01933e74": {
      "model_module": "@jupyter-widgets/base",
      "model_module_version": "1.2.0",
      "model_name": "LayoutModel",
      "state": {
       "width": "90%"
      }
     },
     "8f98f01a3bde42d7914ec9866bdf7e8e": {
      "model_module": "@jupyter-widgets/controls",
      "model_module_version": "1.5.0",
      "model_name": "DescriptionStyleModel",
      "state": {
       "description_width": ""
      }
     },
     "8f9e0f28facc42899e342e25d90533e1": {
      "model_module": "@jupyter-widgets/controls",
      "model_module_version": "1.5.0",
      "model_name": "LabelModel",
      "state": {
       "layout": "IPY_MODEL_6d32ac0219994682be1e654b95dd76c3",
       "style": "IPY_MODEL_a2878c17289341ef8314cdfdcfd7d46c"
      }
     },
     "8fd33e4ae40d4d7b916cead8c2a72732": {
      "model_module": "@jupyter-widgets/controls",
      "model_module_version": "1.5.0",
      "model_name": "HBoxModel",
      "state": {
       "children": [
        "IPY_MODEL_05b9792e35e440669e79ff2b4f5d0990",
        "IPY_MODEL_f04f6697576a4f2d859ef1fb4cc66c7c"
       ],
       "layout": "IPY_MODEL_3851b3ce4ab74979bf3401e182c6cb68"
      }
     },
     "8fe9071c116841f384d4694ee1a49d3a": {
      "model_module": "@jupyter-widgets/base",
      "model_module_version": "1.2.0",
      "model_name": "LayoutModel",
      "state": {}
     },
     "8ffa802211994be7ad695327defe486f": {
      "model_module": "@jupyter-widgets/base",
      "model_module_version": "1.2.0",
      "model_name": "LayoutModel",
      "state": {
       "width": "5%"
      }
     },
     "900aa77212774f8d8802d24629308362": {
      "model_module": "@jupyter-widgets/controls",
      "model_module_version": "1.5.0",
      "model_name": "LabelModel",
      "state": {
       "layout": "IPY_MODEL_cadedaf2404546c38bfb9498721fa8ff",
       "style": "IPY_MODEL_c8fba774cd2145f5a448511ba465a451"
      }
     },
     "900e7f6f02554caab805a66c3f2624a0": {
      "model_module": "@jupyter-widgets/controls",
      "model_module_version": "1.5.0",
      "model_name": "RadioButtonsModel",
      "state": {
       "_options_labels": [
        "a. The Schrodinger equation",
        "b. Newton's Equations",
        "c. Maxwell's Equations",
        "d. The Klein-Gordon Equation"
       ],
       "index": 0,
       "layout": "IPY_MODEL_548ab9405ead44ed8da7ead1b5965358",
       "style": "IPY_MODEL_c5c2a233903040c5ae0cad3486753acb"
      }
     },
     "900ee8290ec24af9ba147c083329dd01": {
      "model_module": "@jupyter-widgets/controls",
      "model_module_version": "1.5.0",
      "model_name": "LabelModel",
      "state": {
       "layout": "IPY_MODEL_c2d08468a16a4efbb83e23f93dac3474",
       "style": "IPY_MODEL_7923f1b5658042e6b89310276438abb3"
      }
     },
     "903694c1295247b1952b8175be62afc4": {
      "model_module": "@jupyter-widgets/base",
      "model_module_version": "1.2.0",
      "model_name": "LayoutModel",
      "state": {
       "width": "90%"
      }
     },
     "903c37adad2645a7ae77a7575adee1c7": {
      "model_module": "@jupyter-widgets/controls",
      "model_module_version": "1.5.0",
      "model_name": "DescriptionStyleModel",
      "state": {
       "description_width": ""
      }
     },
     "903f2713a3c14a2592fa3dccc1481b33": {
      "model_module": "@jupyter-widgets/base",
      "model_module_version": "1.2.0",
      "model_name": "LayoutModel",
      "state": {
       "width": "5%"
      }
     },
     "904cf3da09154218be4c716f5bc88692": {
      "model_module": "@jupyter-widgets/base",
      "model_module_version": "1.2.0",
      "model_name": "LayoutModel",
      "state": {}
     },
     "905eb6d75ba242f78df8cc26024f59ab": {
      "model_module": "@jupyter-widgets/controls",
      "model_module_version": "1.5.0",
      "model_name": "TextareaModel",
      "state": {
       "description": "String:",
       "layout": "IPY_MODEL_b9c6e1db8fd045169b03f3217f55ddd2",
       "placeholder": "Type something",
       "style": "IPY_MODEL_2319fe8846bd4486afad72627cb3fe21"
      }
     },
     "90825f6f38d8427e86d7c28cc2669f0a": {
      "model_module": "@jupyter-widgets/controls",
      "model_module_version": "1.5.0",
      "model_name": "DescriptionStyleModel",
      "state": {
       "description_width": ""
      }
     },
     "908e907aa0864bbe9e8a22c6bd2a4318": {
      "model_module": "@jupyter-widgets/controls",
      "model_module_version": "1.5.0",
      "model_name": "HBoxModel",
      "state": {
       "children": [
        "IPY_MODEL_39b8ca42ec5348ba866ab16f2b94d24f",
        "IPY_MODEL_e2fe8efdea8c451c9572492c6fab62bd"
       ],
       "layout": "IPY_MODEL_b8db3acb368548a39d87d776c8eb732e"
      }
     },
     "90ad220b89194a16ac1d5ec934eab7cf": {
      "model_module": "@jupyter-widgets/base",
      "model_module_version": "1.2.0",
      "model_name": "LayoutModel",
      "state": {}
     },
     "90b97596339d4d2eb2d3fc9bc03a8cda": {
      "model_module": "@jupyter-widgets/controls",
      "model_module_version": "1.5.0",
      "model_name": "LabelModel",
      "state": {
       "layout": "IPY_MODEL_ce1fb3281e0d42f78706cfd8bb9e2a4c",
       "style": "IPY_MODEL_c12d27433b8b4772b5251191d2c00f90"
      }
     },
     "90eca20b69c4421ea7afa0dffbdeb1a6": {
      "model_module": "@jupyter-widgets/base",
      "model_module_version": "1.2.0",
      "model_name": "LayoutModel",
      "state": {}
     },
     "9103c3ecebd849c7943a89689e96906a": {
      "model_module": "@jupyter-widgets/controls",
      "model_module_version": "1.5.0",
      "model_name": "LabelModel",
      "state": {
       "layout": "IPY_MODEL_b49e7a17ff0c4786bb475415d6fd69bb",
       "style": "IPY_MODEL_b27ca71261a34912bbbcbec49b48ca42"
      }
     },
     "910aaebd128648f894e46f9f8aa7a726": {
      "model_module": "@jupyter-widgets/controls",
      "model_module_version": "1.5.0",
      "model_name": "TextareaModel",
      "state": {
       "description": "Answer:",
       "layout": "IPY_MODEL_ef2d59f1df87427ab186b06eeb2b6676",
       "placeholder": "Type something",
       "style": "IPY_MODEL_0c6ccabc3796479fb8d28725b4638220",
       "value": "This is a short answer"
      }
     },
     "910f0ac7b4f4404bb47c9a3e29b8591c": {
      "model_module": "@jupyter-widgets/controls",
      "model_module_version": "1.5.0",
      "model_name": "ButtonModel",
      "state": {
       "description": "Test Code",
       "layout": "IPY_MODEL_c979b563babe49619c03ca4ae720dddc",
       "style": "IPY_MODEL_4e09c3651e5a45b6ad354d1650be8d77",
       "tooltip": "Click to test your code"
      }
     },
     "913df71e8b734fe487b13fc042540636": {
      "model_module": "@jupyter-widgets/base",
      "model_module_version": "1.2.0",
      "model_name": "LayoutModel",
      "state": {
       "width": "5%"
      }
     },
     "91476dd603864e598e2c15d626b554df": {
      "model_module": "@jupyter-widgets/base",
      "model_module_version": "1.2.0",
      "model_name": "LayoutModel",
      "state": {
       "width": "5%"
      }
     },
     "91640f2d4a6142cbb8529eb0d4ff0274": {
      "model_module": "@jupyter-widgets/base",
      "model_module_version": "1.2.0",
      "model_name": "LayoutModel",
      "state": {
       "width": "90%"
      }
     },
     "9175a893464042fdad821ef0bc0454ac": {
      "model_module": "@jupyter-widgets/controls",
      "model_module_version": "1.5.0",
      "model_name": "DescriptionStyleModel",
      "state": {
       "description_width": ""
      }
     },
     "91a13fb25b0e497f9f4890aeef136824": {
      "model_module": "@jupyter-widgets/controls",
      "model_module_version": "1.5.0",
      "model_name": "DescriptionStyleModel",
      "state": {
       "description_width": ""
      }
     },
     "91af76b14b7248e6bdd64a7ed659a8d1": {
      "model_module": "@jupyter-widgets/base",
      "model_module_version": "1.2.0",
      "model_name": "LayoutModel",
      "state": {}
     },
     "91bd141c44a64e6aa644ccc1c4115b49": {
      "model_module": "@jupyter-widgets/base",
      "model_module_version": "1.2.0",
      "model_name": "LayoutModel",
      "state": {
       "width": "5%"
      }
     },
     "91c7132a58a3499f8c4c8d1fee89d5b8": {
      "model_module": "@jupyter-widgets/controls",
      "model_module_version": "1.5.0",
      "model_name": "DescriptionStyleModel",
      "state": {
       "description_width": ""
      }
     },
     "91d085b82f5e4d28ac3296b3bbee547a": {
      "model_module": "@jupyter-widgets/controls",
      "model_module_version": "1.5.0",
      "model_name": "TextareaModel",
      "state": {
       "description": "Code:",
       "layout": "IPY_MODEL_5eb1849311c44c178ef7a6debedea7cd",
       "placeholder": "Type code here",
       "style": "IPY_MODEL_baf0338e4cff44fba60a23aee0d77be9"
      }
     },
     "91d85c07658d4098bb1d6422295ca9bf": {
      "model_module": "@jupyter-widgets/base",
      "model_module_version": "1.2.0",
      "model_name": "LayoutModel",
      "state": {
       "width": "90%"
      }
     },
     "91db1392f75d41ed934cfa2b46659c6e": {
      "model_module": "@jupyter-widgets/controls",
      "model_module_version": "1.5.0",
      "model_name": "VBoxModel",
      "state": {
       "children": [
        "IPY_MODEL_6aa364e76e244bb29ecc4f71c38db932",
        "IPY_MODEL_f404218db9a4496db170bdfb40be61dd"
       ],
       "layout": "IPY_MODEL_f392068b5c3e4f5f81cf0882e620fc1b"
      }
     },
     "91dce700ef6d4e0e822a29c7d3c50acc": {
      "model_module": "@jupyter-widgets/controls",
      "model_module_version": "1.5.0",
      "model_name": "LabelModel",
      "state": {
       "layout": "IPY_MODEL_e2e20651e92344a1b2d6ef1a5c5d5976",
       "style": "IPY_MODEL_53331ce0be49481d900f98aaaa2428ce"
      }
     },
     "91e73482d1304c36a451f28b6cca8ecb": {
      "model_module": "@jupyter-widgets/controls",
      "model_module_version": "1.5.0",
      "model_name": "HBoxModel",
      "state": {
       "children": [
        "IPY_MODEL_3ec80ed574044ed69d75dd9c217b1240",
        "IPY_MODEL_f98d264615f247e8a40b8b476e49da1d"
       ],
       "layout": "IPY_MODEL_bbb3eb8fca6842849ff0906eae4b6be2"
      }
     },
     "9226023cefce46faa9ed3393ee278689": {
      "model_module": "@jupyter-widgets/base",
      "model_module_version": "1.2.0",
      "model_name": "LayoutModel",
      "state": {
       "width": "5%"
      }
     },
     "922d487b2d1743c8863f31a415299f95": {
      "model_module": "@jupyter-widgets/base",
      "model_module_version": "1.2.0",
      "model_name": "LayoutModel",
      "state": {}
     },
     "924ba8033ecc4750b028170e20f8733d": {
      "model_module": "@jupyter-widgets/controls",
      "model_module_version": "1.5.0",
      "model_name": "HBoxModel",
      "state": {
       "children": [
        "IPY_MODEL_17917d6de1374cb293b7ed9f08ed4986",
        "IPY_MODEL_0e5ec18eabad4c749d1ce1610d534098"
       ],
       "layout": "IPY_MODEL_79ae8e3e2ce2464889993eb0196c527f"
      }
     },
     "924f2f6841de4e279df569d09195d281": {
      "model_module": "@jupyter-widgets/controls",
      "model_module_version": "1.5.0",
      "model_name": "DescriptionStyleModel",
      "state": {
       "description_width": ""
      }
     },
     "925c6de1bd264204b138d82ac91cd6ba": {
      "model_module": "@jupyter-widgets/base",
      "model_module_version": "1.2.0",
      "model_name": "LayoutModel",
      "state": {
       "width": "5%"
      }
     },
     "929f15c42f3c45b086c3e6219aaeb551": {
      "model_module": "@jupyter-widgets/base",
      "model_module_version": "1.2.0",
      "model_name": "LayoutModel",
      "state": {
       "width": "90%"
      }
     },
     "92ce288eaec84a3190350aa2cc01f632": {
      "model_module": "@jupyter-widgets/controls",
      "model_module_version": "1.5.0",
      "model_name": "DescriptionStyleModel",
      "state": {
       "description_width": ""
      }
     },
     "92d0f6527e4e441f9d7158cc344a8cb0": {
      "model_module": "@jupyter-widgets/controls",
      "model_module_version": "1.5.0",
      "model_name": "DescriptionStyleModel",
      "state": {
       "description_width": ""
      }
     },
     "92de191cb3a34843a9f1306457e7cbd1": {
      "model_module": "@jupyter-widgets/base",
      "model_module_version": "1.2.0",
      "model_name": "LayoutModel",
      "state": {}
     },
     "92df0db233fc41df81d45d45a54e0936": {
      "model_module": "@jupyter-widgets/base",
      "model_module_version": "1.2.0",
      "model_name": "LayoutModel",
      "state": {}
     },
     "9308f447e7914dbaa36ede72b12a3be9": {
      "model_module": "@jupyter-widgets/controls",
      "model_module_version": "1.5.0",
      "model_name": "DescriptionStyleModel",
      "state": {
       "description_width": ""
      }
     },
     "930d083e8b2d4f85a8b3e91c6f9465e5": {
      "model_module": "@jupyter-widgets/controls",
      "model_module_version": "1.5.0",
      "model_name": "DescriptionStyleModel",
      "state": {
       "description_width": ""
      }
     },
     "932c5eff108b4f01bf37219b6e503cb4": {
      "model_module": "@jupyter-widgets/controls",
      "model_module_version": "1.5.0",
      "model_name": "TextareaModel",
      "state": {
       "description": "Answer:",
       "layout": "IPY_MODEL_6f8f985b32d64fa087991ca8bfdad564",
       "placeholder": "Type something",
       "style": "IPY_MODEL_75bc1629095948a486216d4836f06d9c"
      }
     },
     "9349b91ffe28467c83fc299c27a7a8d2": {
      "model_module": "@jupyter-widgets/controls",
      "model_module_version": "1.5.0",
      "model_name": "HBoxModel",
      "state": {
       "children": [
        "IPY_MODEL_233b86381da849edb115842d239b7be4",
        "IPY_MODEL_fef5254a7a624f52aea2fe1e5c137ffe"
       ],
       "layout": "IPY_MODEL_642b529ab92d4fef99d2df1a4c7fb85b"
      }
     },
     "9371854f1a974b3d99b067601150a29a": {
      "model_module": "@jupyter-widgets/base",
      "model_module_version": "1.2.0",
      "model_name": "LayoutModel",
      "state": {}
     },
     "937d81131f494bf3b8b56a1c1e0e78b0": {
      "model_module": "@jupyter-widgets/base",
      "model_module_version": "1.2.0",
      "model_name": "LayoutModel",
      "state": {
       "width": "90%"
      }
     },
     "938dbf3f451b475aa78a428a33420590": {
      "model_module": "@jupyter-widgets/controls",
      "model_module_version": "1.5.0",
      "model_name": "VBoxModel",
      "state": {
       "children": [
        "IPY_MODEL_7f95666e658d442490afdf246620d372",
        "IPY_MODEL_5431f854bdc64349aca81cf7b1142774"
       ],
       "layout": "IPY_MODEL_25159c97858a45d0ba8708775bd65790"
      }
     },
     "93a2067466274930b36833b465117796": {
      "model_module": "@jupyter-widgets/controls",
      "model_module_version": "1.5.0",
      "model_name": "TextareaModel",
      "state": {
       "description": "String:",
       "layout": "IPY_MODEL_63542176c31846b98737c7786b4a62a0",
       "placeholder": "Type something",
       "style": "IPY_MODEL_267f964c55c04f818ffa4cde845c691b"
      }
     },
     "93a991cc037f4e71ac9b308ad91f606f": {
      "model_module": "@jupyter-widgets/controls",
      "model_module_version": "1.5.0",
      "model_name": "DescriptionStyleModel",
      "state": {
       "description_width": ""
      }
     },
     "93b86ed44f0547e8b690d3d5d75e3faa": {
      "model_module": "@jupyter-widgets/base",
      "model_module_version": "1.2.0",
      "model_name": "LayoutModel",
      "state": {}
     },
     "93c60ad0989448ee8fa260a159910840": {
      "model_module": "@jupyter-widgets/controls",
      "model_module_version": "1.5.0",
      "model_name": "DescriptionStyleModel",
      "state": {
       "description_width": ""
      }
     },
     "93dd4dcc5f6442b98e4db3ce42b9c3d6": {
      "model_module": "@jupyter-widgets/base",
      "model_module_version": "1.2.0",
      "model_name": "LayoutModel",
      "state": {
       "width": "90%"
      }
     },
     "93f9da36187c4e3cb17d5c40dbb50453": {
      "model_module": "@jupyter-widgets/controls",
      "model_module_version": "1.5.0",
      "model_name": "DescriptionStyleModel",
      "state": {
       "description_width": ""
      }
     },
     "93fcd9a4b1924348800a5d719c36ffb0": {
      "model_module": "@jupyter-widgets/controls",
      "model_module_version": "1.5.0",
      "model_name": "DescriptionStyleModel",
      "state": {
       "description_width": ""
      }
     },
     "9424cf7103434fd098ffb08b3d5e54bd": {
      "model_module": "@jupyter-widgets/controls",
      "model_module_version": "1.5.0",
      "model_name": "DescriptionStyleModel",
      "state": {
       "description_width": ""
      }
     },
     "94633c58f43d4f8d9db01a5a02b3583a": {
      "model_module": "@jupyter-widgets/base",
      "model_module_version": "1.2.0",
      "model_name": "LayoutModel",
      "state": {}
     },
     "94699e1d62c448b985406a4a42334ed5": {
      "model_module": "@jupyter-widgets/controls",
      "model_module_version": "1.5.0",
      "model_name": "LabelModel",
      "state": {
       "layout": "IPY_MODEL_849bdb7fee5e4b8387fcbe058a01e422",
       "style": "IPY_MODEL_074538cbc1774405adf029518f8c87c7"
      }
     },
     "9477b2a44d4d415e86631589964e2842": {
      "model_module": "@jupyter-widgets/controls",
      "model_module_version": "1.5.0",
      "model_name": "LabelModel",
      "state": {
       "layout": "IPY_MODEL_18f3f4d11c244a869aa5fc1919dd4030",
       "style": "IPY_MODEL_606914a57be942b4986e4dfec02ebb67"
      }
     },
     "9485bb2edfa5491c8e8b3f772304dbd8": {
      "model_module": "@jupyter-widgets/controls",
      "model_module_version": "1.5.0",
      "model_name": "HBoxModel",
      "state": {
       "children": [
        "IPY_MODEL_14fec46066e44e55b0b5eafa3a55c719",
        "IPY_MODEL_402b9e728e0945a28a1c288fb8a8fb1f"
       ],
       "layout": "IPY_MODEL_fa4abd5df7a748e0b429c1840ca90a3b"
      }
     },
     "9492582bc3a9410886dc80e76e4e1f5d": {
      "model_module": "@jupyter-widgets/controls",
      "model_module_version": "1.5.0",
      "model_name": "DescriptionStyleModel",
      "state": {
       "description_width": ""
      }
     },
     "94962ee4314b4f28b166ab229a7877eb": {
      "model_module": "@jupyter-widgets/base",
      "model_module_version": "1.2.0",
      "model_name": "LayoutModel",
      "state": {}
     },
     "94a53ac47ca8435ba307292d63b37f24": {
      "model_module": "@jupyter-widgets/controls",
      "model_module_version": "1.5.0",
      "model_name": "DescriptionStyleModel",
      "state": {
       "description_width": ""
      }
     },
     "94b49b64f0f149bf85388475116836dc": {
      "model_module": "@jupyter-widgets/controls",
      "model_module_version": "1.5.0",
      "model_name": "ButtonStyleModel",
      "state": {}
     },
     "94ca6dc11f3f41a8bf9de84d84c08130": {
      "model_module": "@jupyter-widgets/base",
      "model_module_version": "1.2.0",
      "model_name": "LayoutModel",
      "state": {}
     },
     "94f43d4de7a942e5822e648fc6574308": {
      "model_module": "@jupyter-widgets/base",
      "model_module_version": "1.2.0",
      "model_name": "LayoutModel",
      "state": {}
     },
     "94fb4bc49ce042d28cb6a118c6d2d361": {
      "model_module": "@jupyter-widgets/base",
      "model_module_version": "1.2.0",
      "model_name": "LayoutModel",
      "state": {}
     },
     "952775648c964880a0381204d559d155": {
      "model_module": "@jupyter-widgets/controls",
      "model_module_version": "1.5.0",
      "model_name": "HBoxModel",
      "state": {
       "children": [
        "IPY_MODEL_0cf52daecdc342d98dae1bedc643a849",
        "IPY_MODEL_03b771af871a4daca5289e22fcd127b9"
       ],
       "layout": "IPY_MODEL_63c15fded85f46a79b2f5baf87cad026"
      }
     },
     "9548259fffbf48b38c89bcec28be40f8": {
      "model_module": "@jupyter-widgets/controls",
      "model_module_version": "1.5.0",
      "model_name": "LabelModel",
      "state": {
       "layout": "IPY_MODEL_aeabd36475db4ac38c9ee5e23c8eb1eb",
       "style": "IPY_MODEL_9308f447e7914dbaa36ede72b12a3be9"
      }
     },
     "954ce16f23ef4060bbac51290a9a0f2a": {
      "model_module": "@jupyter-widgets/controls",
      "model_module_version": "1.5.0",
      "model_name": "DescriptionStyleModel",
      "state": {
       "description_width": ""
      }
     },
     "9575079fd31042d2b5c748ceae8a639a": {
      "model_module": "@jupyter-widgets/controls",
      "model_module_version": "1.5.0",
      "model_name": "ButtonModel",
      "state": {
       "description": "Run Code",
       "layout": "IPY_MODEL_4479d65d32ac49768751e073a9de030f",
       "style": "IPY_MODEL_0f63f142fb804e3ea89ce7902656dd65",
       "tooltip": "Click to test your code"
      }
     },
     "957ddecc263e44f8bfdd2d9f537cfa7b": {
      "model_module": "@jupyter-widgets/base",
      "model_module_version": "1.2.0",
      "model_name": "LayoutModel",
      "state": {
       "width": "5%"
      }
     },
     "959f6abc9a7e4c879ab5334f26798a16": {
      "model_module": "@jupyter-widgets/base",
      "model_module_version": "1.2.0",
      "model_name": "LayoutModel",
      "state": {
       "width": "5%"
      }
     },
     "95c33b1fe6d541419e1a1aaab50c4ae1": {
      "model_module": "@jupyter-widgets/controls",
      "model_module_version": "1.5.0",
      "model_name": "HBoxModel",
      "state": {
       "children": [
        "IPY_MODEL_39f29b71d86b4d2da7ac9b7fc62ad625",
        "IPY_MODEL_b602d0db8e9740e69a2e045e6a6c9652"
       ],
       "layout": "IPY_MODEL_a15191eb7f9d48a3ab5fa3ed93e4c26f"
      }
     },
     "95d5c7d59fa44f088c6c8b7526da3c32": {
      "model_module": "@jupyter-widgets/controls",
      "model_module_version": "1.5.0",
      "model_name": "VBoxModel",
      "state": {
       "children": [
        "IPY_MODEL_71cfa60d8b1844b9bd0b107c1765090e",
        "IPY_MODEL_4d52a43782204b3faae7725569f99d2b"
       ],
       "layout": "IPY_MODEL_4c03eb6c75ce4a82ab320d8b1bc072d3"
      }
     },
     "95dde2a6db3d456192fb0f0d9a7427a2": {
      "model_module": "@jupyter-widgets/base",
      "model_module_version": "1.2.0",
      "model_name": "LayoutModel",
      "state": {}
     },
     "95f44ae3361944ab91b376f082623654": {
      "model_module": "@jupyter-widgets/output",
      "model_module_version": "1.0.0",
      "model_name": "OutputModel",
      "state": {
       "layout": "IPY_MODEL_1954955b65d34b1fb7a473fa89b66c42",
       "outputs": [
        {
         "name": "stdout",
         "output_type": "stream",
         "text": "The output works\nprint('here')\n"
        }
       ]
      }
     },
     "963c41fb046246c2b8d23a6a24475f2c": {
      "model_module": "@jupyter-widgets/controls",
      "model_module_version": "1.5.0",
      "model_name": "LabelModel",
      "state": {
       "layout": "IPY_MODEL_a076e6ab74cf43f2b8c2a6a8a1129d41",
       "style": "IPY_MODEL_92d0f6527e4e441f9d7158cc344a8cb0"
      }
     },
     "96758b3f800148b5b384cbba9724bd19": {
      "model_module": "@jupyter-widgets/base",
      "model_module_version": "1.2.0",
      "model_name": "LayoutModel",
      "state": {}
     },
     "969f68229f7647019b5a7324af0fe00e": {
      "model_module": "@jupyter-widgets/controls",
      "model_module_version": "1.5.0",
      "model_name": "DescriptionStyleModel",
      "state": {
       "description_width": ""
      }
     },
     "96c5444a80e748fb9203e2b182e1550b": {
      "model_module": "@jupyter-widgets/base",
      "model_module_version": "1.2.0",
      "model_name": "LayoutModel",
      "state": {
       "width": "5%"
      }
     },
     "96da5cca3a9b4fc8861ffbdd6119574d": {
      "model_module": "@jupyter-widgets/controls",
      "model_module_version": "1.5.0",
      "model_name": "DescriptionStyleModel",
      "state": {
       "description_width": ""
      }
     },
     "96e6ff0901d54478b3d165dba3b4a27a": {
      "model_module": "@jupyter-widgets/controls",
      "model_module_version": "1.5.0",
      "model_name": "DescriptionStyleModel",
      "state": {
       "description_width": ""
      }
     },
     "96f1cec82fb6468f930d4f4c7a4c5fa4": {
      "model_module": "@jupyter-widgets/controls",
      "model_module_version": "1.5.0",
      "model_name": "DescriptionStyleModel",
      "state": {
       "description_width": ""
      }
     },
     "96fabbaa6c804ab09f612870cc32e06a": {
      "model_module": "@jupyter-widgets/base",
      "model_module_version": "1.2.0",
      "model_name": "LayoutModel",
      "state": {
       "width": "5%"
      }
     },
     "97155048d6b343d0ac61389ff87cad39": {
      "model_module": "@jupyter-widgets/controls",
      "model_module_version": "1.5.0",
      "model_name": "LabelModel",
      "state": {
       "layout": "IPY_MODEL_b52b7697739e4870bf5245061ef39074",
       "style": "IPY_MODEL_14f4945da6924531b037be204a70ebc2"
      }
     },
     "97181d67c0034c3386aa0fc1efd28b7f": {
      "model_module": "@jupyter-widgets/base",
      "model_module_version": "1.2.0",
      "model_name": "LayoutModel",
      "state": {
       "width": "90%"
      }
     },
     "972638618d0146b5b107c173142a60e3": {
      "model_module": "@jupyter-widgets/base",
      "model_module_version": "1.2.0",
      "model_name": "LayoutModel",
      "state": {
       "width": "90%"
      }
     },
     "97330ebe6b7648e0ab474c39f4d46432": {
      "model_module": "@jupyter-widgets/controls",
      "model_module_version": "1.5.0",
      "model_name": "VBoxModel",
      "state": {
       "children": [
        "IPY_MODEL_c4b8dbad684241e899c7dcd1065cb100",
        "IPY_MODEL_04384005ce764ec8be303d16d75e945a"
       ],
       "layout": "IPY_MODEL_38691d0fcca147adad79974a275c303c"
      }
     },
     "975a99e0e0ce445ab0fd3a63be18053e": {
      "model_module": "@jupyter-widgets/base",
      "model_module_version": "1.2.0",
      "model_name": "LayoutModel",
      "state": {}
     },
     "9765ac340a974a74915e026afce6a3f3": {
      "model_module": "@jupyter-widgets/base",
      "model_module_version": "1.2.0",
      "model_name": "LayoutModel",
      "state": {
       "width": "90%"
      }
     },
     "977551e8c24d43949e0905d9efb4b63c": {
      "model_module": "@jupyter-widgets/controls",
      "model_module_version": "1.5.0",
      "model_name": "DescriptionStyleModel",
      "state": {
       "description_width": ""
      }
     },
     "979625b224af4799929897d2367461e0": {
      "model_module": "@jupyter-widgets/base",
      "model_module_version": "1.2.0",
      "model_name": "LayoutModel",
      "state": {
       "width": "90%"
      }
     },
     "97a25fa8bd52499ba86abfdf52e2eeea": {
      "model_module": "@jupyter-widgets/base",
      "model_module_version": "1.2.0",
      "model_name": "LayoutModel",
      "state": {
       "width": "5%"
      }
     },
     "97ace8a2d51248f388e36bb97fa07136": {
      "model_module": "@jupyter-widgets/base",
      "model_module_version": "1.2.0",
      "model_name": "LayoutModel",
      "state": {
       "width": "90%"
      }
     },
     "97af656758ce44bcaa94e39d0a660b0a": {
      "model_module": "@jupyter-widgets/base",
      "model_module_version": "1.2.0",
      "model_name": "LayoutModel",
      "state": {}
     },
     "97b99504f4524fbba8bc5ba98ae2f227": {
      "model_module": "@jupyter-widgets/controls",
      "model_module_version": "1.5.0",
      "model_name": "TextareaModel",
      "state": {
       "description": "String:",
       "layout": "IPY_MODEL_4dad7f450f454fe1972040f7d6858663",
       "placeholder": "Type something",
       "style": "IPY_MODEL_ca30754298fd4e87bd5eaf754221dadb"
      }
     },
     "97c4745dc1864155a40693d013c444c1": {
      "model_module": "@jupyter-widgets/base",
      "model_module_version": "1.2.0",
      "model_name": "LayoutModel",
      "state": {
       "width": "5%"
      }
     },
     "97c91ca4332c44f08dfdc8070da8cb26": {
      "model_module": "@jupyter-widgets/base",
      "model_module_version": "1.2.0",
      "model_name": "LayoutModel",
      "state": {
       "width": "5%"
      }
     },
     "97d5b79232184b139103d7edb8fc35bd": {
      "model_module": "@jupyter-widgets/controls",
      "model_module_version": "1.5.0",
      "model_name": "TextareaModel",
      "state": {
       "description": "String:",
       "layout": "IPY_MODEL_3e113ad94cc946b6a134b8b7881f2d60",
       "placeholder": "Type something",
       "style": "IPY_MODEL_ff6216bf110b4b13a89255070619a2a3"
      }
     },
     "97e3918aa6674d3c9823b6400aea6eed": {
      "model_module": "@jupyter-widgets/controls",
      "model_module_version": "1.5.0",
      "model_name": "HBoxModel",
      "state": {
       "children": [
        "IPY_MODEL_388345b67b234b1aaeb743327b2a351f",
        "IPY_MODEL_97d5b79232184b139103d7edb8fc35bd"
       ],
       "layout": "IPY_MODEL_015c58c148a14502a3bdef023c2ead12"
      }
     },
     "97fe458d6f584788bec1b5ef9711387b": {
      "model_module": "@jupyter-widgets/controls",
      "model_module_version": "1.5.0",
      "model_name": "DescriptionStyleModel",
      "state": {
       "description_width": ""
      }
     },
     "980a7d51912f42eabe02b94c6c278304": {
      "model_module": "@jupyter-widgets/base",
      "model_module_version": "1.2.0",
      "model_name": "LayoutModel",
      "state": {}
     },
     "980d522de58a49b1b7251a643f4b8b92": {
      "model_module": "@jupyter-widgets/controls",
      "model_module_version": "1.5.0",
      "model_name": "DescriptionStyleModel",
      "state": {
       "description_width": ""
      }
     },
     "982d70b4a16544d288b222639ccecdc3": {
      "model_module": "@jupyter-widgets/controls",
      "model_module_version": "1.5.0",
      "model_name": "HBoxModel",
      "state": {
       "children": [
        "IPY_MODEL_bc00cfc95ed7430eac7bab2e0cbfb2e1",
        "IPY_MODEL_bde4502dc38b4331b8c01f5b427c0888"
       ],
       "layout": "IPY_MODEL_6bf4ea53ae1b45ea8496c00de9462a09"
      }
     },
     "9838ccad17d34bf495462940390e328f": {
      "model_module": "@jupyter-widgets/base",
      "model_module_version": "1.2.0",
      "model_name": "LayoutModel",
      "state": {
       "width": "90%"
      }
     },
     "983d1571dcbd459d8a975caf344a3ee2": {
      "model_module": "@jupyter-widgets/controls",
      "model_module_version": "1.5.0",
      "model_name": "TextareaModel",
      "state": {
       "description": "Code:",
       "layout": "IPY_MODEL_55a0772cdd1c4535b817b1633afa1c60",
       "placeholder": "Type code here",
       "style": "IPY_MODEL_7d383717bbb2417e8ff57561108cde79",
       "value": "plt.plot(0, 10, 'o')"
      }
     },
     "9842cbd4b71440b59f7d786e16a7f884": {
      "model_module": "@jupyter-widgets/controls",
      "model_module_version": "1.5.0",
      "model_name": "HBoxModel",
      "state": {
       "children": [
        "IPY_MODEL_e7a829bed700413dbfdef97af4a271a3",
        "IPY_MODEL_05ede0c6b0f441849bf74f7a2b858478"
       ],
       "layout": "IPY_MODEL_130e9c4b56c045ff8c2909f22e66c2c8"
      }
     },
     "9862c731e0914b228ad74ec1e3b85244": {
      "model_module": "@jupyter-widgets/controls",
      "model_module_version": "1.5.0",
      "model_name": "DescriptionStyleModel",
      "state": {
       "description_width": ""
      }
     },
     "9869ab628336445f9f5252709312bef6": {
      "model_module": "@jupyter-widgets/controls",
      "model_module_version": "1.5.0",
      "model_name": "RadioButtonsModel",
      "state": {
       "_options_labels": [
        "a. Temperature",
        "b. Color",
        "c. Mass",
        "d. Charge"
       ],
       "index": 0,
       "layout": "IPY_MODEL_9ae85e2438a94c5f9cb8b6f8f18c2c8b",
       "style": "IPY_MODEL_483ca672cb304a54b3fbcbeb3c9ccce2"
      }
     },
     "987a39c5d6e64542b96dd4133c202c3c": {
      "model_module": "@jupyter-widgets/controls",
      "model_module_version": "1.5.0",
      "model_name": "DescriptionStyleModel",
      "state": {
       "description_width": ""
      }
     },
     "987dc8db38b044bca1cc3c4bfe99a710": {
      "model_module": "@jupyter-widgets/base",
      "model_module_version": "1.2.0",
      "model_name": "LayoutModel",
      "state": {
       "width": "90%"
      }
     },
     "989c0466455045c9b20a0c914287f49d": {
      "model_module": "@jupyter-widgets/base",
      "model_module_version": "1.2.0",
      "model_name": "LayoutModel",
      "state": {}
     },
     "98b37244b6424b2fbb30da8b90ac3337": {
      "model_module": "@jupyter-widgets/controls",
      "model_module_version": "1.5.0",
      "model_name": "LabelModel",
      "state": {
       "layout": "IPY_MODEL_1bbbf459aa87432684c55d3cee055b26",
       "style": "IPY_MODEL_0b332d3695d74ab4838843ae5841fded"
      }
     },
     "98d7bf0e97514101bc5a76c82ab73aa9": {
      "model_module": "@jupyter-widgets/controls",
      "model_module_version": "1.5.0",
      "model_name": "DescriptionStyleModel",
      "state": {
       "description_width": ""
      }
     },
     "98e21317cbad421e8b4f360164ebea2c": {
      "model_module": "@jupyter-widgets/base",
      "model_module_version": "1.2.0",
      "model_name": "LayoutModel",
      "state": {}
     },
     "98eb4d4502b4452b83fc1c8861390787": {
      "model_module": "@jupyter-widgets/base",
      "model_module_version": "1.2.0",
      "model_name": "LayoutModel",
      "state": {
       "width": "5%"
      }
     },
     "98f280e5732345479c1346bc555a3d6c": {
      "model_module": "@jupyter-widgets/base",
      "model_module_version": "1.2.0",
      "model_name": "LayoutModel",
      "state": {}
     },
     "98f9add274e44336bb820db584d22685": {
      "model_module": "@jupyter-widgets/base",
      "model_module_version": "1.2.0",
      "model_name": "LayoutModel",
      "state": {}
     },
     "9908a637531e4e548efdf99712b12cb7": {
      "model_module": "@jupyter-widgets/controls",
      "model_module_version": "1.5.0",
      "model_name": "VBoxModel",
      "state": {
       "children": [
        "IPY_MODEL_f6af6e8704e0492b802e966a7d45031d",
        "IPY_MODEL_f3afe2b0e6c64bb4b7685633ec94d3e4"
       ],
       "layout": "IPY_MODEL_2def0c08b9e041cca238abc9929d4fb5"
      }
     },
     "9936ff600a1b4220a1a006a680f36f5c": {
      "model_module": "@jupyter-widgets/base",
      "model_module_version": "1.2.0",
      "model_name": "LayoutModel",
      "state": {}
     },
     "993e8ca567a2484ba5d89e4245a10963": {
      "model_module": "@jupyter-widgets/base",
      "model_module_version": "1.2.0",
      "model_name": "LayoutModel",
      "state": {
       "width": "5%"
      }
     },
     "994262d7a046449a952795a7708a5649": {
      "model_module": "@jupyter-widgets/base",
      "model_module_version": "1.2.0",
      "model_name": "LayoutModel",
      "state": {
       "width": "5%"
      }
     },
     "998180cef09642dbad4d55aae9b3e736": {
      "model_module": "@jupyter-widgets/controls",
      "model_module_version": "1.5.0",
      "model_name": "HBoxModel",
      "state": {
       "children": [
        "IPY_MODEL_e7535db039e14fd4836def3564e5cfd8",
        "IPY_MODEL_864c74cc0f7442c7b907967bc74f206a"
       ],
       "layout": "IPY_MODEL_205247816475486e901f21a64bc6a6ef"
      }
     },
     "99909c9455af4c97b8849393491d9790": {
      "model_module": "@jupyter-widgets/base",
      "model_module_version": "1.2.0",
      "model_name": "LayoutModel",
      "state": {}
     },
     "99aa25234dd84fbe8ff83e0537b38db2": {
      "model_module": "@jupyter-widgets/base",
      "model_module_version": "1.2.0",
      "model_name": "LayoutModel",
      "state": {
       "width": "90%"
      }
     },
     "99aa556384064376aec069d9daef3a30": {
      "model_module": "@jupyter-widgets/base",
      "model_module_version": "1.2.0",
      "model_name": "LayoutModel",
      "state": {
       "width": "5%"
      }
     },
     "99aaab6ba86d41c0ad9691ab0ad1f4cc": {
      "model_module": "@jupyter-widgets/controls",
      "model_module_version": "1.5.0",
      "model_name": "DescriptionStyleModel",
      "state": {
       "description_width": ""
      }
     },
     "99eeb3a4307b4686a908d9291721cc49": {
      "model_module": "@jupyter-widgets/controls",
      "model_module_version": "1.5.0",
      "model_name": "RadioButtonsModel",
      "state": {
       "_options_labels": [
        "a. Bite-sized pieces",
        "b. Frequency components",
        "c. A power series in small displacements",
        "d. Absolute values"
       ],
       "index": 0,
       "layout": "IPY_MODEL_c7c80c3179c144bd96370d2fa95aacf7",
       "style": "IPY_MODEL_8a2a9ee08bfc4861980db695f2c4cfe4"
      }
     },
     "9a06c923dde1445f8ab7ee58a7981ffe": {
      "model_module": "@jupyter-widgets/controls",
      "model_module_version": "1.5.0",
      "model_name": "DescriptionStyleModel",
      "state": {
       "description_width": ""
      }
     },
     "9a1b51f330a74bca824f4e88a711b4c6": {
      "model_module": "@jupyter-widgets/controls",
      "model_module_version": "1.5.0",
      "model_name": "DescriptionStyleModel",
      "state": {
       "description_width": ""
      }
     },
     "9a1cc66204db4ccda148564a10262064": {
      "model_module": "@jupyter-widgets/controls",
      "model_module_version": "1.5.0",
      "model_name": "HBoxModel",
      "state": {
       "children": [
        "IPY_MODEL_082522d21a654a8f96479274a6177ef3",
        "IPY_MODEL_d1a28ebe8fc84d469ebfb15936e19541"
       ],
       "layout": "IPY_MODEL_1087611aeda741a0871cb020fc130d41"
      }
     },
     "9a3563c44a9044039acfed08b0e3aa6b": {
      "model_module": "@jupyter-widgets/base",
      "model_module_version": "1.2.0",
      "model_name": "LayoutModel",
      "state": {
       "width": "5%"
      }
     },
     "9a51d3a1d19443bcb8bbfb78c65e370f": {
      "model_module": "@jupyter-widgets/controls",
      "model_module_version": "1.5.0",
      "model_name": "RadioButtonsModel",
      "state": {
       "_options_labels": [
        "True",
        "False"
       ],
       "index": 0,
       "layout": "IPY_MODEL_5627f44c88364254a307507a4e7cba69",
       "style": "IPY_MODEL_a301c510193f4c6b83a031e66f011c23"
      }
     },
     "9a83373de448482593626b9ec0ce6552": {
      "model_module": "@jupyter-widgets/controls",
      "model_module_version": "1.5.0",
      "model_name": "HBoxModel",
      "state": {
       "children": [
        "IPY_MODEL_00e477a57ec145f7b9cd635161e78ea0",
        "IPY_MODEL_ef557c8e452d424e835c65b5b1c3efb6"
       ],
       "layout": "IPY_MODEL_4a11a926da784e56bad8556c5fc893dd"
      }
     },
     "9a9ff03a1e5c4e19aac246784159373f": {
      "model_module": "@jupyter-widgets/base",
      "model_module_version": "1.2.0",
      "model_name": "LayoutModel",
      "state": {
       "width": "5%"
      }
     },
     "9aa2c36f3b2248fcbcf6718e33dc5830": {
      "model_module": "@jupyter-widgets/controls",
      "model_module_version": "1.5.0",
      "model_name": "DescriptionStyleModel",
      "state": {
       "description_width": ""
      }
     },
     "9aad2d7a376f472cabba15983a7e3cce": {
      "model_module": "@jupyter-widgets/controls",
      "model_module_version": "1.5.0",
      "model_name": "ButtonStyleModel",
      "state": {}
     },
     "9ac6c182c47144208744365a5e977264": {
      "model_module": "@jupyter-widgets/base",
      "model_module_version": "1.2.0",
      "model_name": "LayoutModel",
      "state": {}
     },
     "9ae85e2438a94c5f9cb8b6f8f18c2c8b": {
      "model_module": "@jupyter-widgets/base",
      "model_module_version": "1.2.0",
      "model_name": "LayoutModel",
      "state": {}
     },
     "9aed3ca4cf7543129da555e31f771fd4": {
      "model_module": "@jupyter-widgets/controls",
      "model_module_version": "1.5.0",
      "model_name": "DescriptionStyleModel",
      "state": {
       "description_width": ""
      }
     },
     "9af3f7713fc4487496eaaf80ea411966": {
      "model_module": "@jupyter-widgets/controls",
      "model_module_version": "1.5.0",
      "model_name": "HBoxModel",
      "state": {
       "children": [
        "IPY_MODEL_30c88a6b50ea46d098644448a998c265",
        "IPY_MODEL_529eb3340ed84a8b9049c88e694b6462"
       ],
       "layout": "IPY_MODEL_6fc9058b970a4fc1afe836abc7352721"
      }
     },
     "9b0b94cf828d44d7a3c568458ee05976": {
      "model_module": "@jupyter-widgets/controls",
      "model_module_version": "1.5.0",
      "model_name": "DescriptionStyleModel",
      "state": {
       "description_width": ""
      }
     },
     "9b12f6969a854d8aa1d0ff5c61520fa8": {
      "model_module": "@jupyter-widgets/controls",
      "model_module_version": "1.5.0",
      "model_name": "DescriptionStyleModel",
      "state": {
       "description_width": ""
      }
     },
     "9b40e449f3894d218d55c978de5c4cbe": {
      "model_module": "@jupyter-widgets/base",
      "model_module_version": "1.2.0",
      "model_name": "LayoutModel",
      "state": {}
     },
     "9b49153c37e24090a541ab9ecb3d5c41": {
      "model_module": "@jupyter-widgets/controls",
      "model_module_version": "1.5.0",
      "model_name": "TextareaModel",
      "state": {
       "description": "String:",
       "layout": "IPY_MODEL_937d81131f494bf3b8b56a1c1e0e78b0",
       "placeholder": "Type something",
       "style": "IPY_MODEL_10aeda1904404bebb19276cb2539091a"
      }
     },
     "9b49187cea0c4ae28368c64ffe307fbd": {
      "model_module": "@jupyter-widgets/controls",
      "model_module_version": "1.5.0",
      "model_name": "HBoxModel",
      "state": {
       "children": [
        "IPY_MODEL_31b3dff283074c1a99c62f721fc4a400",
        "IPY_MODEL_99eeb3a4307b4686a908d9291721cc49"
       ],
       "layout": "IPY_MODEL_03333d53b4984ab6b2e114ec9f60f937"
      }
     },
     "9b61a396841c45089df156b9616c68c9": {
      "model_module": "@jupyter-widgets/base",
      "model_module_version": "1.2.0",
      "model_name": "LayoutModel",
      "state": {
       "width": "5%"
      }
     },
     "9b727e68d5b84710853b979c5288b471": {
      "model_module": "@jupyter-widgets/base",
      "model_module_version": "1.2.0",
      "model_name": "LayoutModel",
      "state": {}
     },
     "9b923df0471b4f2d85747566bfa2d3c3": {
      "model_module": "@jupyter-widgets/controls",
      "model_module_version": "1.5.0",
      "model_name": "DescriptionStyleModel",
      "state": {
       "description_width": ""
      }
     },
     "9bb0d5be26504b9ba101bbc2049e5606": {
      "model_module": "@jupyter-widgets/base",
      "model_module_version": "1.2.0",
      "model_name": "LayoutModel",
      "state": {}
     },
     "9bcea361886847a38deca2bb62a2682b": {
      "model_module": "@jupyter-widgets/controls",
      "model_module_version": "1.5.0",
      "model_name": "TextareaModel",
      "state": {
       "description": "Code:",
       "layout": "IPY_MODEL_2d9ab98c98024c3895791f2bb3389f42",
       "placeholder": "Type code here",
       "style": "IPY_MODEL_6cd119797ae94d60ab0fd91ff127f93b"
      }
     },
     "9be75c8310c443449fa2aa29b7567fa9": {
      "model_module": "@jupyter-widgets/controls",
      "model_module_version": "1.5.0",
      "model_name": "LabelModel",
      "state": {
       "layout": "IPY_MODEL_0b909d4fef8d4584b132ff066d76b9be",
       "style": "IPY_MODEL_d99f31f041c4418695fc6adb44dd01b6"
      }
     },
     "9be82b4fab2f4032817fd5ab1e6dbae4": {
      "model_module": "@jupyter-widgets/base",
      "model_module_version": "1.2.0",
      "model_name": "LayoutModel",
      "state": {}
     },
     "9bfa526c3898480aa156d8604cec4b10": {
      "model_module": "@jupyter-widgets/controls",
      "model_module_version": "1.5.0",
      "model_name": "DescriptionStyleModel",
      "state": {
       "description_width": ""
      }
     },
     "9bfdcff55ea34b0fbe65b02939d3b2c9": {
      "model_module": "@jupyter-widgets/controls",
      "model_module_version": "1.5.0",
      "model_name": "RadioButtonsModel",
      "state": {
       "_options_labels": [
        "a. Stabilize (prolong) induced polarizations",
        "b. Cause more rapid decay of the induced polarization",
        "c. Increase the magnitude of the induced polarization",
        "d. Waste money"
       ],
       "index": 0,
       "layout": "IPY_MODEL_6faadbe2911640d38aa5dcaa1d41c208",
       "style": "IPY_MODEL_6cbe3894d7874fd38956ee42aaa23e03"
      }
     },
     "9c034da6fda5478ebd1a5d49709727e0": {
      "model_module": "@jupyter-widgets/controls",
      "model_module_version": "1.5.0",
      "model_name": "LabelModel",
      "state": {
       "layout": "IPY_MODEL_12fff06a0b7543f6b29b20fdf234fbb8",
       "style": "IPY_MODEL_e0cdeb0b6e814abc846985b55761778c"
      }
     },
     "9c21fe1698524e60a901a6746873b2d7": {
      "model_module": "@jupyter-widgets/controls",
      "model_module_version": "1.5.0",
      "model_name": "DescriptionStyleModel",
      "state": {
       "description_width": ""
      }
     },
     "9c2640d6390d45e799427befd5097908": {
      "model_module": "@jupyter-widgets/base",
      "model_module_version": "1.2.0",
      "model_name": "LayoutModel",
      "state": {
       "width": "90%"
      }
     },
     "9c3d08c3b0cb42df999a428c886cdfdc": {
      "model_module": "@jupyter-widgets/base",
      "model_module_version": "1.2.0",
      "model_name": "LayoutModel",
      "state": {
       "width": "5%"
      }
     },
     "9c5a734054dd4ee8a605802917ec302b": {
      "model_module": "@jupyter-widgets/controls",
      "model_module_version": "1.5.0",
      "model_name": "TextareaModel",
      "state": {
       "description": "String:",
       "layout": "IPY_MODEL_54fd8b5e4e014ba99fee985b50519beb",
       "placeholder": "Type something",
       "style": "IPY_MODEL_20fce0f719f04c0084e52cc831a38dbe"
      }
     },
     "9c5fc8f2e73f4ece978e48ddef1fee9c": {
      "model_module": "@jupyter-widgets/base",
      "model_module_version": "1.2.0",
      "model_name": "LayoutModel",
      "state": {}
     },
     "9c631861299849f58e2554c5d1c361a9": {
      "model_module": "@jupyter-widgets/controls",
      "model_module_version": "1.5.0",
      "model_name": "RadioButtonsModel",
      "state": {
       "_options_labels": [
        "a. The electric field",
        "b. The charge density",
        "c. The current density",
        "d. Both b and c"
       ],
       "index": 0,
       "layout": "IPY_MODEL_f210b73a3f9d4267a7dca9700e636eae",
       "style": "IPY_MODEL_0b22e0708b234f4ea4b26b6f4af9d66c"
      }
     },
     "9c7ab3a631be4f06aee7b9f739a88f7c": {
      "model_module": "@jupyter-widgets/controls",
      "model_module_version": "1.5.0",
      "model_name": "TextareaModel",
      "state": {
       "description": "String:",
       "layout": "IPY_MODEL_1afc621436254b58be1994ba30d5848d",
       "placeholder": "Type something",
       "style": "IPY_MODEL_a1c5d77d4dee4ec7bc23a2dd4bc8fcdf"
      }
     },
     "9c80447c240c460cad69b8474071093d": {
      "model_module": "@jupyter-widgets/controls",
      "model_module_version": "1.5.0",
      "model_name": "LabelModel",
      "state": {
       "layout": "IPY_MODEL_116735804c9944dd8b34ac43c50282a4",
       "style": "IPY_MODEL_93f9da36187c4e3cb17d5c40dbb50453"
      }
     },
     "9c831eb768874472818b80179482aae5": {
      "model_module": "@jupyter-widgets/controls",
      "model_module_version": "1.5.0",
      "model_name": "HBoxModel",
      "state": {
       "children": [
        "IPY_MODEL_81d95b68df424089a594b0bc53fc7575",
        "IPY_MODEL_5ccc582c46dc4324888995efd1f37a6f"
       ],
       "layout": "IPY_MODEL_d9cf3327224e478295ac664bea010d9e"
      }
     },
     "9c8d64836a1044ada1710c53bc420a28": {
      "model_module": "@jupyter-widgets/controls",
      "model_module_version": "1.5.0",
      "model_name": "HBoxModel",
      "state": {
       "children": [
        "IPY_MODEL_673aebef94ae47e2864374507a85e41e",
        "IPY_MODEL_d1c1be6148d34917b25088dab7c03d6a"
       ],
       "layout": "IPY_MODEL_d790379e2bab406b8bfe30d6bf5db359"
      }
     },
     "9ca1f243a9ae46518adaa446258e330d": {
      "model_module": "@jupyter-widgets/controls",
      "model_module_version": "1.5.0",
      "model_name": "RadioButtonsModel",
      "state": {
       "_options_labels": [
        "a. Bite-sized pieces",
        "b. Frequency components",
        "c. A power series in small displacements",
        "d. Absolute values"
       ],
       "index": 0,
       "layout": "IPY_MODEL_57fa18902d3e471b9e295992bc75cb0d",
       "style": "IPY_MODEL_4e9bc200e7454d6f94a5eca77d3f1a28"
      }
     },
     "9cafe884826a4ef49606cd635e4320a1": {
      "model_module": "@jupyter-widgets/controls",
      "model_module_version": "1.5.0",
      "model_name": "DescriptionStyleModel",
      "state": {
       "description_width": ""
      }
     },
     "9cb37bec3054428ba6d51b6cba0fda76": {
      "model_module": "@jupyter-widgets/controls",
      "model_module_version": "1.5.0",
      "model_name": "RadioButtonsModel",
      "state": {
       "_options_labels": [
        "True",
        "False"
       ],
       "index": 0,
       "layout": "IPY_MODEL_02052db4157e413e8e747d8a4b39f64b",
       "style": "IPY_MODEL_181afb8266da481bbeb5cf91dc940f6c"
      }
     },
     "9cd8db8b63744914923e46bdeac1f4bd": {
      "model_module": "@jupyter-widgets/controls",
      "model_module_version": "1.5.0",
      "model_name": "TextareaModel",
      "state": {
       "description": "Answer:",
       "layout": "IPY_MODEL_735ae5f90fed44e4bd6c907dec91966f",
       "placeholder": "Type something",
       "style": "IPY_MODEL_042cca2758fa46639c7059b7007b983f"
      }
     },
     "9ce0db1016734bf7b17b2216efcdc163": {
      "model_module": "@jupyter-widgets/base",
      "model_module_version": "1.2.0",
      "model_name": "LayoutModel",
      "state": {}
     },
     "9ce8c52450a346b6861ca2bf464244bc": {
      "model_module": "@jupyter-widgets/controls",
      "model_module_version": "1.5.0",
      "model_name": "DescriptionStyleModel",
      "state": {
       "description_width": ""
      }
     },
     "9cf45ea60327430db88c857bd6c43712": {
      "model_module": "@jupyter-widgets/controls",
      "model_module_version": "1.5.0",
      "model_name": "DescriptionStyleModel",
      "state": {
       "description_width": ""
      }
     },
     "9cfa29b66d1f4b2d9dc44ec28f0aea15": {
      "model_module": "@jupyter-widgets/base",
      "model_module_version": "1.2.0",
      "model_name": "LayoutModel",
      "state": {}
     },
     "9d097f55aa584f46830daf4be366c70c": {
      "model_module": "@jupyter-widgets/base",
      "model_module_version": "1.2.0",
      "model_name": "LayoutModel",
      "state": {}
     },
     "9d1285a314e841cb872324b8f211b538": {
      "model_module": "@jupyter-widgets/base",
      "model_module_version": "1.2.0",
      "model_name": "LayoutModel",
      "state": {}
     },
     "9d326846a6404147848f2b7e7798078f": {
      "model_module": "@jupyter-widgets/controls",
      "model_module_version": "1.5.0",
      "model_name": "HBoxModel",
      "state": {
       "children": [
        "IPY_MODEL_ca1a1278ff7444c18721241e7c40ba36",
        "IPY_MODEL_3364e21ac7234b61a770e062111dd2d7"
       ],
       "layout": "IPY_MODEL_f4e76f3230534feb8c69e9b9aa2ed801"
      }
     },
     "9d35eed271354a43832a3f13cc01a9f1": {
      "model_module": "@jupyter-widgets/controls",
      "model_module_version": "1.5.0",
      "model_name": "HBoxModel",
      "state": {
       "children": [
        "IPY_MODEL_8024d869a1e74f53bd4bc310dc5e3901",
        "IPY_MODEL_c1986cd4abf643aca24f77cc53c51801"
       ],
       "layout": "IPY_MODEL_04462d79b61d4556979b1f57561bf663"
      }
     },
     "9d483dadb8c147d49cc08af718835b57": {
      "model_module": "@jupyter-widgets/controls",
      "model_module_version": "1.5.0",
      "model_name": "ButtonStyleModel",
      "state": {}
     },
     "9d7e3c6aa3004bf1a10688b173740666": {
      "model_module": "@jupyter-widgets/controls",
      "model_module_version": "1.5.0",
      "model_name": "DescriptionStyleModel",
      "state": {
       "description_width": ""
      }
     },
     "9daf6a885efb495790548f2a70d95c36": {
      "model_module": "@jupyter-widgets/controls",
      "model_module_version": "1.5.0",
      "model_name": "TextareaModel",
      "state": {
       "description": "Code:",
       "layout": "IPY_MODEL_c2c989b3f53a4c478f6bc28296a6d142",
       "placeholder": "Type code here",
       "style": "IPY_MODEL_c4eb95a968a7440b8756926006dc978d",
       "value": "for n in range(0, 9):\nprint(n)"
      }
     },
     "9dd6c5591be743ddab9c95f1831519ef": {
      "model_module": "@jupyter-widgets/controls",
      "model_module_version": "1.5.0",
      "model_name": "DescriptionStyleModel",
      "state": {
       "description_width": ""
      }
     },
     "9de497d83bf84765a51cb751829914c2": {
      "model_module": "@jupyter-widgets/controls",
      "model_module_version": "1.5.0",
      "model_name": "DescriptionStyleModel",
      "state": {
       "description_width": ""
      }
     },
     "9ded73ab5dba435cbc2a8d7efbb1505b": {
      "model_module": "@jupyter-widgets/base",
      "model_module_version": "1.2.0",
      "model_name": "LayoutModel",
      "state": {
       "width": "5%"
      }
     },
     "9df0d814a96d4fdb9fe1b69194521947": {
      "model_module": "@jupyter-widgets/base",
      "model_module_version": "1.2.0",
      "model_name": "LayoutModel",
      "state": {
       "width": "90%"
      }
     },
     "9e07430d47804bcb96ec8ce239c46f82": {
      "model_module": "@jupyter-widgets/controls",
      "model_module_version": "1.5.0",
      "model_name": "DescriptionStyleModel",
      "state": {
       "description_width": ""
      }
     },
     "9e2158c7569e42f4b15bbe2318e4c348": {
      "model_module": "@jupyter-widgets/controls",
      "model_module_version": "1.5.0",
      "model_name": "HBoxModel",
      "state": {
       "children": [
        "IPY_MODEL_3c75440dfca0412eaa757c2852318969",
        "IPY_MODEL_4ec8cffdde214e5183a4e7367c805f58"
       ],
       "layout": "IPY_MODEL_44f32d83e4234767bae2d6074c88871d"
      }
     },
     "9e2adb7e265d46b49e72851371689265": {
      "model_module": "@jupyter-widgets/controls",
      "model_module_version": "1.5.0",
      "model_name": "RadioButtonsModel",
      "state": {
       "_options_labels": [
        "a. Bite-sized pieces",
        "b. Frequency components",
        "c. A power series in small displacements",
        "d. Absolute values"
       ],
       "index": 0,
       "layout": "IPY_MODEL_99aa25234dd84fbe8ff83e0537b38db2",
       "style": "IPY_MODEL_7608f3d90db74c44a1fad40addc165b9"
      }
     },
     "9e2ae516d3574fe1912637d162890f55": {
      "model_module": "@jupyter-widgets/controls",
      "model_module_version": "1.5.0",
      "model_name": "DescriptionStyleModel",
      "state": {
       "description_width": ""
      }
     },
     "9e304f5f0dcd46cb819c85ef6c854b8d": {
      "model_module": "@jupyter-widgets/base",
      "model_module_version": "1.2.0",
      "model_name": "LayoutModel",
      "state": {
       "width": "5%"
      }
     },
     "9e3dc6277af3449cb3eb3cbb649650a6": {
      "model_module": "@jupyter-widgets/controls",
      "model_module_version": "1.5.0",
      "model_name": "RadioButtonsModel",
      "state": {
       "_options_labels": [
        "a. Diverges",
        "b. Converges",
        "c. Implodes",
        "d. Extrapolates"
       ],
       "index": 0,
       "layout": "IPY_MODEL_a68012ad9420451eb1730776b66dc40f",
       "style": "IPY_MODEL_62f2af46f8244546a172f6e74a9c9963"
      }
     },
     "9e3e79b02e704a25b9ffc6c75f92973d": {
      "model_module": "@jupyter-widgets/base",
      "model_module_version": "1.2.0",
      "model_name": "LayoutModel",
      "state": {
       "width": "5%"
      }
     },
     "9e4ad30aa1f042a0b6caf70e0e44356c": {
      "model_module": "@jupyter-widgets/base",
      "model_module_version": "1.2.0",
      "model_name": "LayoutModel",
      "state": {
       "width": "5%"
      }
     },
     "9e56913740b94cbbb16e11db60b558a1": {
      "model_module": "@jupyter-widgets/base",
      "model_module_version": "1.2.0",
      "model_name": "LayoutModel",
      "state": {
       "width": "90%"
      }
     },
     "9e9b30cacd064ce5b7e80dd650a24316": {
      "model_module": "@jupyter-widgets/base",
      "model_module_version": "1.2.0",
      "model_name": "LayoutModel",
      "state": {}
     },
     "9ea575ea63a74fb38dad7c5e28d5f26a": {
      "model_module": "@jupyter-widgets/controls",
      "model_module_version": "1.5.0",
      "model_name": "LabelModel",
      "state": {
       "layout": "IPY_MODEL_6c1cc0a6b1bd4dbabc62b83df51caf00",
       "style": "IPY_MODEL_ef6dbc14661d44118c6661feccbd767a"
      }
     },
     "9eaa13de864b4f6b9687928d38395a14": {
      "model_module": "@jupyter-widgets/base",
      "model_module_version": "1.2.0",
      "model_name": "LayoutModel",
      "state": {
       "width": "90%"
      }
     },
     "9ec4da4b7eb941fab5fb43e237ea82ad": {
      "model_module": "@jupyter-widgets/base",
      "model_module_version": "1.2.0",
      "model_name": "LayoutModel",
      "state": {}
     },
     "9eca6bf35a60439d8b64d21725fb3c42": {
      "model_module": "@jupyter-widgets/controls",
      "model_module_version": "1.5.0",
      "model_name": "TextareaModel",
      "state": {
       "description": "Code:",
       "layout": "IPY_MODEL_75dda7c8aaac4cdcbd6597704ca19919",
       "placeholder": "Type code here",
       "style": "IPY_MODEL_9e07430d47804bcb96ec8ce239c46f82",
       "value": "for n in range(0, 10):\n  print(n)"
      }
     },
     "9ece9dc6295a41ef8d08f49d14e0d511": {
      "model_module": "@jupyter-widgets/base",
      "model_module_version": "1.2.0",
      "model_name": "LayoutModel",
      "state": {}
     },
     "9ee4478e0cba451ea7baaab4f1ab29c7": {
      "model_module": "@jupyter-widgets/base",
      "model_module_version": "1.2.0",
      "model_name": "LayoutModel",
      "state": {}
     },
     "9eea6e46c76e451ca7dfa8c5ec8554a2": {
      "model_module": "@jupyter-widgets/base",
      "model_module_version": "1.2.0",
      "model_name": "LayoutModel",
      "state": {}
     },
     "9ef9857fe32d4194b795dbfd25158987": {
      "model_module": "@jupyter-widgets/controls",
      "model_module_version": "1.5.0",
      "model_name": "DescriptionStyleModel",
      "state": {
       "description_width": ""
      }
     },
     "9f0b481a67b14e11ab77ac8a2c7ad754": {
      "model_module": "@jupyter-widgets/base",
      "model_module_version": "1.2.0",
      "model_name": "LayoutModel",
      "state": {}
     },
     "9f19eed583b74aca991c23ba323eb75d": {
      "model_module": "@jupyter-widgets/controls",
      "model_module_version": "1.5.0",
      "model_name": "ButtonStyleModel",
      "state": {}
     },
     "9f2e36a918d7490ea8949d56df0849b7": {
      "model_module": "@jupyter-widgets/controls",
      "model_module_version": "1.5.0",
      "model_name": "DescriptionStyleModel",
      "state": {
       "description_width": ""
      }
     },
     "9f3644e7f8c5428b9b5c0a3e6dbf44f0": {
      "model_module": "@jupyter-widgets/controls",
      "model_module_version": "1.5.0",
      "model_name": "RadioButtonsModel",
      "state": {
       "_options_labels": [
        "a. Algebraic sums",
        "b. Time derivatives",
        "c. Products",
        "d. More convolutions"
       ],
       "index": 0,
       "layout": "IPY_MODEL_d466a171134846de85c5f439031a12e9",
       "style": "IPY_MODEL_1fa6b05164df48ac9d87cd813d2437b0"
      }
     },
     "9f8587a9afcd4a0e902367c72470fadb": {
      "model_module": "@jupyter-widgets/base",
      "model_module_version": "1.2.0",
      "model_name": "LayoutModel",
      "state": {
       "width": "5%"
      }
     },
     "9f895566ac4d4558b69fa6d90d38cb5a": {
      "model_module": "@jupyter-widgets/controls",
      "model_module_version": "1.5.0",
      "model_name": "LabelModel",
      "state": {
       "layout": "IPY_MODEL_2eaa9866c20d470bb333cb8232d83140",
       "style": "IPY_MODEL_5627b940ceb34973abb5e066e7f75094"
      }
     },
     "9f8ec71aa47f4530b429229cb1a9ef53": {
      "model_module": "@jupyter-widgets/controls",
      "model_module_version": "1.5.0",
      "model_name": "DescriptionStyleModel",
      "state": {
       "description_width": ""
      }
     },
     "9f9594c7508245d8b1d64c5c6659cc8f": {
      "model_module": "@jupyter-widgets/base",
      "model_module_version": "1.2.0",
      "model_name": "LayoutModel",
      "state": {}
     },
     "9fb1e7ddacbd4460887cd71fede48a17": {
      "model_module": "@jupyter-widgets/base",
      "model_module_version": "1.2.0",
      "model_name": "LayoutModel",
      "state": {}
     },
     "9fc2790308f64cc398eba491f57a554a": {
      "model_module": "@jupyter-widgets/base",
      "model_module_version": "1.2.0",
      "model_name": "LayoutModel",
      "state": {
       "width": "5%"
      }
     },
     "9ffc9fdc383e47969224368a28e70ba0": {
      "model_module": "@jupyter-widgets/controls",
      "model_module_version": "1.5.0",
      "model_name": "RadioButtonsModel",
      "state": {
       "_options_labels": [
        "a. The Coulomb potential",
        "b. Mental anguish",
        "c. Propagating electromagnetic waves",
        "d. More charges"
       ],
       "index": 0,
       "layout": "IPY_MODEL_7262f9a7068f4bed91266de83e13b5c1",
       "style": "IPY_MODEL_f2095eca512742bfa4b2472e612816bc"
      }
     },
     "a015c331c4674fd0965127cacb4fe347": {
      "model_module": "@jupyter-widgets/base",
      "model_module_version": "1.2.0",
      "model_name": "LayoutModel",
      "state": {
       "width": "90%"
      }
     },
     "a046ba98d7e24101a7ab84286efa7d16": {
      "model_module": "@jupyter-widgets/controls",
      "model_module_version": "1.5.0",
      "model_name": "TextareaModel",
      "state": {
       "description": "Answer:",
       "layout": "IPY_MODEL_f2c2212c43cc434db9211e42f1ae10a3",
       "placeholder": "Type something",
       "style": "IPY_MODEL_428353f703164e26af2f4b14cd890a1c"
      }
     },
     "a0491b6af5224cc8abdbf054ba406f29": {
      "model_module": "@jupyter-widgets/base",
      "model_module_version": "1.2.0",
      "model_name": "LayoutModel",
      "state": {
       "width": "90%"
      }
     },
     "a04d37cb784e49e49317e33043f668aa": {
      "model_module": "@jupyter-widgets/controls",
      "model_module_version": "1.5.0",
      "model_name": "HBoxModel",
      "state": {
       "children": [
        "IPY_MODEL_019ce509c5914ed8b281bc0700b56f2c",
        "IPY_MODEL_a8c75e8fd5214e2aaab09abab7ebcaef"
       ],
       "layout": "IPY_MODEL_783b0bcdbc5c488e84d25768dcc7f44a"
      }
     },
     "a0616a65280f447496ac0bd77afe871f": {
      "model_module": "@jupyter-widgets/controls",
      "model_module_version": "1.5.0",
      "model_name": "HBoxModel",
      "state": {
       "children": [
        "IPY_MODEL_8f9e0f28facc42899e342e25d90533e1",
        "IPY_MODEL_5bec59f8bacf475f8d3659fe0a62f321"
       ],
       "layout": "IPY_MODEL_2699aab409eb40328193df5f06692d16"
      }
     },
     "a068da6da2dc49dc9b50fbe05b8c7478": {
      "model_module": "@jupyter-widgets/base",
      "model_module_version": "1.2.0",
      "model_name": "LayoutModel",
      "state": {}
     },
     "a06bbc72db5849f8b8da7b071eb8b77b": {
      "model_module": "@jupyter-widgets/base",
      "model_module_version": "1.2.0",
      "model_name": "LayoutModel",
      "state": {
       "width": "5%"
      }
     },
     "a071dec2c3d542de9ed7f17d80fd1b29": {
      "model_module": "@jupyter-widgets/controls",
      "model_module_version": "1.5.0",
      "model_name": "DescriptionStyleModel",
      "state": {
       "description_width": ""
      }
     },
     "a0759a462ee64cba9fdf6bf9ec2ebed9": {
      "model_module": "@jupyter-widgets/controls",
      "model_module_version": "1.5.0",
      "model_name": "TextareaModel",
      "state": {
       "description": "Code:",
       "layout": "IPY_MODEL_85fbe35b23f24a0cb5389a66ef5f92d8",
       "placeholder": "Type code here",
       "style": "IPY_MODEL_a3a7ded01c2444bea5857a2bab5f6f55",
       "value": "for n in range(0, 11):\n  print(n**2)"
      }
     },
     "a076e6ab74cf43f2b8c2a6a8a1129d41": {
      "model_module": "@jupyter-widgets/base",
      "model_module_version": "1.2.0",
      "model_name": "LayoutModel",
      "state": {
       "width": "5%"
      }
     },
     "a082ff2448c64d8a9b7ab40b80fe726c": {
      "model_module": "@jupyter-widgets/controls",
      "model_module_version": "1.5.0",
      "model_name": "DescriptionStyleModel",
      "state": {
       "description_width": ""
      }
     },
     "a09c8abb0b3c422293b7f4772b4ee392": {
      "model_module": "@jupyter-widgets/base",
      "model_module_version": "1.2.0",
      "model_name": "LayoutModel",
      "state": {
       "width": "90%"
      }
     },
     "a09efd45e8794bd98a291087a30c8185": {
      "model_module": "@jupyter-widgets/controls",
      "model_module_version": "1.5.0",
      "model_name": "DescriptionStyleModel",
      "state": {
       "description_width": ""
      }
     },
     "a0c1a2960b324d979384149ae8ae5afa": {
      "model_module": "@jupyter-widgets/controls",
      "model_module_version": "1.5.0",
      "model_name": "ButtonModel",
      "state": {
       "description": "Test Code",
       "layout": "IPY_MODEL_6a5739b3638743a9b1547e302b16e700",
       "style": "IPY_MODEL_c9ed0a1f32af43e88ec3e498b89d93ef",
       "tooltip": "Click to test your code"
      }
     },
     "a0f0fc2c698948d193663377cdf14177": {
      "model_module": "@jupyter-widgets/controls",
      "model_module_version": "1.5.0",
      "model_name": "HBoxModel",
      "state": {
       "children": [
        "IPY_MODEL_e93fb950b5fa40e6a988e5017bfdbf25",
        "IPY_MODEL_eddc759a2cdb4326b04b266605d659e8"
       ],
       "layout": "IPY_MODEL_81633db14a184f2296eb9fbb493109b3"
      }
     },
     "a0f62539b63845e1ac80a6460e67d9ff": {
      "model_module": "@jupyter-widgets/controls",
      "model_module_version": "1.5.0",
      "model_name": "HBoxModel",
      "state": {
       "children": [
        "IPY_MODEL_b521398d8533451888533b7159487407",
        "IPY_MODEL_a32cce34bd8c45a2bcdf6964c23984c7"
       ],
       "layout": "IPY_MODEL_98e21317cbad421e8b4f360164ebea2c"
      }
     },
     "a15191eb7f9d48a3ab5fa3ed93e4c26f": {
      "model_module": "@jupyter-widgets/base",
      "model_module_version": "1.2.0",
      "model_name": "LayoutModel",
      "state": {}
     },
     "a18220101f5543d0a86812546f0aded1": {
      "model_module": "@jupyter-widgets/base",
      "model_module_version": "1.2.0",
      "model_name": "LayoutModel",
      "state": {}
     },
     "a184f597d36f4f439d71beb0df405ef4": {
      "model_module": "@jupyter-widgets/controls",
      "model_module_version": "1.5.0",
      "model_name": "LabelModel",
      "state": {
       "layout": "IPY_MODEL_87f25c124fe24d47bef6e1b200861236",
       "style": "IPY_MODEL_17fc5a8d03c3480c8fe82fed4d808471"
      }
     },
     "a1b1c9ad5df84d3a8dc34668fe38609a": {
      "model_module": "@jupyter-widgets/base",
      "model_module_version": "1.2.0",
      "model_name": "LayoutModel",
      "state": {
       "width": "5%"
      }
     },
     "a1c5d77d4dee4ec7bc23a2dd4bc8fcdf": {
      "model_module": "@jupyter-widgets/controls",
      "model_module_version": "1.5.0",
      "model_name": "DescriptionStyleModel",
      "state": {
       "description_width": ""
      }
     },
     "a1ca0b07aabe4b6ab8151c0f07421f09": {
      "model_module": "@jupyter-widgets/controls",
      "model_module_version": "1.5.0",
      "model_name": "DescriptionStyleModel",
      "state": {
       "description_width": ""
      }
     },
     "a1fac7a6d07a4609a140877622432730": {
      "model_module": "@jupyter-widgets/controls",
      "model_module_version": "1.5.0",
      "model_name": "DescriptionStyleModel",
      "state": {
       "description_width": ""
      }
     },
     "a20e6f59bd8746b89812c11c5a19c000": {
      "model_module": "@jupyter-widgets/controls",
      "model_module_version": "1.5.0",
      "model_name": "DescriptionStyleModel",
      "state": {
       "description_width": ""
      }
     },
     "a226358d0c2f473b8fae22e4de6cb795": {
      "model_module": "@jupyter-widgets/controls",
      "model_module_version": "1.5.0",
      "model_name": "HBoxModel",
      "state": {
       "children": [
        "IPY_MODEL_221da83daf724f37b9763956f85931d5",
        "IPY_MODEL_36be55d599c347998012183a9a0b3bda"
       ],
       "layout": "IPY_MODEL_714e106980634965919d36a794548627"
      }
     },
     "a239dfecffce4765883d75a07a6a0eaa": {
      "model_module": "@jupyter-widgets/base",
      "model_module_version": "1.2.0",
      "model_name": "LayoutModel",
      "state": {}
     },
     "a25a9c1c1a30444fa417783c562579e0": {
      "model_module": "@jupyter-widgets/base",
      "model_module_version": "1.2.0",
      "model_name": "LayoutModel",
      "state": {}
     },
     "a27b52b43f68415eb26983fb32fd4e4c": {
      "model_module": "@jupyter-widgets/base",
      "model_module_version": "1.2.0",
      "model_name": "LayoutModel",
      "state": {}
     },
     "a2878c17289341ef8314cdfdcfd7d46c": {
      "model_module": "@jupyter-widgets/controls",
      "model_module_version": "1.5.0",
      "model_name": "DescriptionStyleModel",
      "state": {
       "description_width": ""
      }
     },
     "a2914e5c2fb142df83f6f79819f8b8a7": {
      "model_module": "@jupyter-widgets/controls",
      "model_module_version": "1.5.0",
      "model_name": "ButtonModel",
      "state": {
       "description": "Test Code",
       "layout": "IPY_MODEL_fa883de9a1f84335be919a7ce848341f",
       "style": "IPY_MODEL_a3fe46e6710e423c845c1599c4247506",
       "tooltip": "Click to test your code"
      }
     },
     "a29fd49f4c024649a3f8a89ab76449f7": {
      "model_module": "@jupyter-widgets/base",
      "model_module_version": "1.2.0",
      "model_name": "LayoutModel",
      "state": {
       "width": "5%"
      }
     },
     "a2b38450b11d4077975471ff5e45958d": {
      "model_module": "@jupyter-widgets/controls",
      "model_module_version": "1.5.0",
      "model_name": "LabelModel",
      "state": {
       "layout": "IPY_MODEL_567ac967a68f466fa477e1355ed07061",
       "style": "IPY_MODEL_51fea5c3410d42a0a6cae8f0e05a19c8"
      }
     },
     "a2b62ccfa4e648de86c35b0aa2791cca": {
      "model_module": "@jupyter-widgets/base",
      "model_module_version": "1.2.0",
      "model_name": "LayoutModel",
      "state": {}
     },
     "a2c2a45dd2f848d1b343b3fc387b03d1": {
      "model_module": "@jupyter-widgets/controls",
      "model_module_version": "1.5.0",
      "model_name": "TextareaModel",
      "state": {
       "description": "String:",
       "layout": "IPY_MODEL_3dea6757b6d4451c894e83dab4139b09",
       "placeholder": "Type something",
       "style": "IPY_MODEL_724f15161aad460ba391ff983b2cf67c"
      }
     },
     "a2d6deda773940a6941f64c27f2e0d78": {
      "model_module": "@jupyter-widgets/controls",
      "model_module_version": "1.5.0",
      "model_name": "RadioButtonsModel",
      "state": {
       "_options_labels": [
        "a. Algebraic sums",
        "b. Time derivatives",
        "c. Products",
        "d. More convolutions"
       ],
       "index": 0,
       "layout": "IPY_MODEL_3638a5d7189a456e9187c144023ee973",
       "style": "IPY_MODEL_74dc380c41574aa7baf4474ad09f74a1"
      }
     },
     "a301c510193f4c6b83a031e66f011c23": {
      "model_module": "@jupyter-widgets/controls",
      "model_module_version": "1.5.0",
      "model_name": "DescriptionStyleModel",
      "state": {
       "description_width": ""
      }
     },
     "a30f4c5e80a24948b80211111b48b31d": {
      "model_module": "@jupyter-widgets/controls",
      "model_module_version": "1.5.0",
      "model_name": "DescriptionStyleModel",
      "state": {
       "description_width": ""
      }
     },
     "a30f9c8bc9924567872ea6a65abdea5e": {
      "model_module": "@jupyter-widgets/base",
      "model_module_version": "1.2.0",
      "model_name": "LayoutModel",
      "state": {
       "width": "5%"
      }
     },
     "a3228eac08534d2d8a22a0e2a12ff003": {
      "model_module": "@jupyter-widgets/controls",
      "model_module_version": "1.5.0",
      "model_name": "DescriptionStyleModel",
      "state": {
       "description_width": ""
      }
     },
     "a32cce34bd8c45a2bcdf6964c23984c7": {
      "model_module": "@jupyter-widgets/controls",
      "model_module_version": "1.5.0",
      "model_name": "TextareaModel",
      "state": {
       "description": "String:",
       "layout": "IPY_MODEL_52b57b6380b94813a0a577929722f61d",
       "placeholder": "Type something",
       "style": "IPY_MODEL_e30754018f2a4d3a91305edddb4e85d1"
      }
     },
     "a33075e0af5542a6ab25a45f3bac70fa": {
      "model_module": "@jupyter-widgets/controls",
      "model_module_version": "1.5.0",
      "model_name": "LabelModel",
      "state": {
       "layout": "IPY_MODEL_69fb67e489d14ecd99bf4412d542b674",
       "style": "IPY_MODEL_8000a83b356b4e5f8ffddb620d8660b7"
      }
     },
     "a353074f95c947c0be7ceaf249110946": {
      "model_module": "@jupyter-widgets/controls",
      "model_module_version": "1.5.0",
      "model_name": "DescriptionStyleModel",
      "state": {
       "description_width": ""
      }
     },
     "a3a7ded01c2444bea5857a2bab5f6f55": {
      "model_module": "@jupyter-widgets/controls",
      "model_module_version": "1.5.0",
      "model_name": "DescriptionStyleModel",
      "state": {
       "description_width": ""
      }
     },
     "a3ad5c5b17644e6287892de4ba2d064d": {
      "model_module": "@jupyter-widgets/controls",
      "model_module_version": "1.5.0",
      "model_name": "DescriptionStyleModel",
      "state": {
       "description_width": ""
      }
     },
     "a3b2875361174594898b19f2225e7d27": {
      "model_module": "@jupyter-widgets/controls",
      "model_module_version": "1.5.0",
      "model_name": "DescriptionStyleModel",
      "state": {
       "description_width": ""
      }
     },
     "a3b39ab0cbcc4e68a68c2eca3dbe3912": {
      "model_module": "@jupyter-widgets/base",
      "model_module_version": "1.2.0",
      "model_name": "LayoutModel",
      "state": {}
     },
     "a3cce101d5db43169890651ae927472c": {
      "model_module": "@jupyter-widgets/controls",
      "model_module_version": "1.5.0",
      "model_name": "HBoxModel",
      "state": {
       "children": [
        "IPY_MODEL_2083152d1f55496097653f1b3f0d7faa",
        "IPY_MODEL_fac200f5c45949008c89f846db023485"
       ],
       "layout": "IPY_MODEL_f0f55181e8834abf8c5d64f5046e6c5e"
      }
     },
     "a3fe46e6710e423c845c1599c4247506": {
      "model_module": "@jupyter-widgets/controls",
      "model_module_version": "1.5.0",
      "model_name": "ButtonStyleModel",
      "state": {}
     },
     "a4108d1c85c642bba598a2b2d69a92c9": {
      "model_module": "@jupyter-widgets/controls",
      "model_module_version": "1.5.0",
      "model_name": "HBoxModel",
      "state": {
       "children": [
        "IPY_MODEL_0bc89fcd89d845c8abef7ad6ac626b2b",
        "IPY_MODEL_fd4917c9fc784aacb9f65aca6f1adcf7"
       ],
       "layout": "IPY_MODEL_39295f1faf964de4ae4bc84689d17d44"
      }
     },
     "a4517fdbf0414a20802dcbc95c3e6213": {
      "model_module": "@jupyter-widgets/controls",
      "model_module_version": "1.5.0",
      "model_name": "VBoxModel",
      "state": {
       "children": [
        "IPY_MODEL_c7d7b66c268c4b87a34681e3587e4cf6",
        "IPY_MODEL_ee7e0d3a5c284ddab6ec4201abdd32b5"
       ],
       "layout": "IPY_MODEL_9eea6e46c76e451ca7dfa8c5ec8554a2"
      }
     },
     "a461d0af096e4dd49c6d81cfe7b6e7e4": {
      "model_module": "@jupyter-widgets/base",
      "model_module_version": "1.2.0",
      "model_name": "LayoutModel",
      "state": {
       "width": "5%"
      }
     },
     "a4640c36a5e5419aa7546455e4fed7d5": {
      "model_module": "@jupyter-widgets/base",
      "model_module_version": "1.2.0",
      "model_name": "LayoutModel",
      "state": {
       "width": "5%"
      }
     },
     "a4674c494fc14ee1a86ce6bd43952019": {
      "model_module": "@jupyter-widgets/controls",
      "model_module_version": "1.5.0",
      "model_name": "ButtonStyleModel",
      "state": {}
     },
     "a47c79fbd76041daac9c6bba8938e210": {
      "model_module": "@jupyter-widgets/controls",
      "model_module_version": "1.5.0",
      "model_name": "LabelModel",
      "state": {
       "layout": "IPY_MODEL_56017f5cb56241b5bfbbf3f19c8f2f3b",
       "style": "IPY_MODEL_bb40acf3c65448e1ac7c8f06345f6a69"
      }
     },
     "a490a2aeddef46ec9cff6ea48a7b180b": {
      "model_module": "@jupyter-widgets/base",
      "model_module_version": "1.2.0",
      "model_name": "LayoutModel",
      "state": {
       "width": "5%"
      }
     },
     "a4aa40cf7d6142819a1708506fdb7b92": {
      "model_module": "@jupyter-widgets/controls",
      "model_module_version": "1.5.0",
      "model_name": "DescriptionStyleModel",
      "state": {
       "description_width": ""
      }
     },
     "a4aa9c1ee2904534ad3b4f233b9562de": {
      "model_module": "@jupyter-widgets/base",
      "model_module_version": "1.2.0",
      "model_name": "LayoutModel",
      "state": {}
     },
     "a4b71278257e4d989389c4a2342439fb": {
      "model_module": "@jupyter-widgets/base",
      "model_module_version": "1.2.0",
      "model_name": "LayoutModel",
      "state": {
       "width": "90%"
      }
     },
     "a4ea5558e36b445e9009391a32e0f870": {
      "model_module": "@jupyter-widgets/controls",
      "model_module_version": "1.5.0",
      "model_name": "TextareaModel",
      "state": {
       "description": "Answer:",
       "layout": "IPY_MODEL_d3000d57518745f1af1d0701f0357197",
       "placeholder": "Type something",
       "style": "IPY_MODEL_4335ce7928314b0ea47e77b4e2ee48fa"
      }
     },
     "a4f15246e4bc4f30a4a4e79739143893": {
      "model_module": "@jupyter-widgets/base",
      "model_module_version": "1.2.0",
      "model_name": "LayoutModel",
      "state": {
       "width": "5%"
      }
     },
     "a4f1c06d6e9440129e9d908542a04076": {
      "model_module": "@jupyter-widgets/base",
      "model_module_version": "1.2.0",
      "model_name": "LayoutModel",
      "state": {
       "width": "5%"
      }
     },
     "a4fe07dc62b143d1b3e0dffbda8fb890": {
      "model_module": "@jupyter-widgets/controls",
      "model_module_version": "1.5.0",
      "model_name": "HBoxModel",
      "state": {
       "children": [
        "IPY_MODEL_81c5a8c471644b7b9dcf3cb4e74dc071",
        "IPY_MODEL_14c0ecf0782848ef99cdf3074c62d376"
       ],
       "layout": "IPY_MODEL_9371854f1a974b3d99b067601150a29a"
      }
     },
     "a500f8b8e313407786fbb4c60c79fdc4": {
      "model_module": "@jupyter-widgets/controls",
      "model_module_version": "1.5.0",
      "model_name": "HBoxModel",
      "state": {
       "children": [
        "IPY_MODEL_37a8e1eb2ecb429b86964e0fee64cb50",
        "IPY_MODEL_da71cd1c827c4eeba792d5d209130300"
       ],
       "layout": "IPY_MODEL_f873d80ff8cf464a813906492f060ea0"
      }
     },
     "a50e0eaeabfa4915afe02d54e03fb9d3": {
      "model_module": "@jupyter-widgets/controls",
      "model_module_version": "1.5.0",
      "model_name": "DescriptionStyleModel",
      "state": {
       "description_width": ""
      }
     },
     "a52d2a950c804df68b5fcc60738dbed1": {
      "model_module": "@jupyter-widgets/controls",
      "model_module_version": "1.5.0",
      "model_name": "ButtonModel",
      "state": {
       "description": "Test Code",
       "layout": "IPY_MODEL_2d0247c489de4b34a2f7d9850841b68e",
       "style": "IPY_MODEL_8e164281c6fa404d8668e4214506a203",
       "tooltip": "Click to test your code"
      }
     },
     "a539f8a0aa624add9511194f5a3b27e4": {
      "model_module": "@jupyter-widgets/base",
      "model_module_version": "1.2.0",
      "model_name": "LayoutModel",
      "state": {
       "width": "5%"
      }
     },
     "a5690b9b62e14a1989f2c79fe57c42ae": {
      "model_module": "@jupyter-widgets/controls",
      "model_module_version": "1.5.0",
      "model_name": "LabelModel",
      "state": {
       "layout": "IPY_MODEL_f1af3c5fa6084d59b7ea45b51051c883",
       "style": "IPY_MODEL_0f8f65e916bc4b4fb3661617c5d0aafe"
      }
     },
     "a5922895a06547d493afba2cff3a0581": {
      "model_module": "@jupyter-widgets/controls",
      "model_module_version": "1.5.0",
      "model_name": "LabelModel",
      "state": {
       "layout": "IPY_MODEL_03d3fd5f32c446f4b44847a2eb5b2329",
       "style": "IPY_MODEL_e061e325a4b347e997bc4004665f1b53"
      }
     },
     "a5946d7f9b0347a0a2d02c0f49132ee4": {
      "model_module": "@jupyter-widgets/controls",
      "model_module_version": "1.5.0",
      "model_name": "HBoxModel",
      "state": {
       "children": [
        "IPY_MODEL_e077facadf2e43c9876013d5e50f254e",
        "IPY_MODEL_9c7ab3a631be4f06aee7b9f739a88f7c"
       ],
       "layout": "IPY_MODEL_14332acd450442b2b94bfc84260a8c8a"
      }
     },
     "a5a83420963e4919804f7abb01d5a067": {
      "model_module": "@jupyter-widgets/base",
      "model_module_version": "1.2.0",
      "model_name": "LayoutModel",
      "state": {}
     },
     "a5aa3ce349f245e3acc2f68a8ffd30bc": {
      "model_module": "@jupyter-widgets/base",
      "model_module_version": "1.2.0",
      "model_name": "LayoutModel",
      "state": {}
     },
     "a5b40fd38f764bf68673c47453834080": {
      "model_module": "@jupyter-widgets/controls",
      "model_module_version": "1.5.0",
      "model_name": "HBoxModel",
      "state": {
       "children": [
        "IPY_MODEL_1636da9d9661469a8b06edbd8c158164",
        "IPY_MODEL_8b72e87ecdcb48918a8c7cca46ef4982"
       ],
       "layout": "IPY_MODEL_9ce0db1016734bf7b17b2216efcdc163"
      }
     },
     "a5bf7aa39c424f138c8b973244310941": {
      "model_module": "@jupyter-widgets/base",
      "model_module_version": "1.2.0",
      "model_name": "LayoutModel",
      "state": {
       "width": "90%"
      }
     },
     "a5c1f52d197a444187e3109f60ac71f8": {
      "model_module": "@jupyter-widgets/controls",
      "model_module_version": "1.5.0",
      "model_name": "LabelModel",
      "state": {
       "layout": "IPY_MODEL_387b80268c2d45acb286847d6474d940",
       "style": "IPY_MODEL_3cdfcfd7c1a14cf4897c5dd5e2b3d86d"
      }
     },
     "a5cb2e36f01e4fc7b06fccb1123090b3": {
      "model_module": "@jupyter-widgets/base",
      "model_module_version": "1.2.0",
      "model_name": "LayoutModel",
      "state": {
       "width": "90%"
      }
     },
     "a603a4578e7e4ecaa6520926514c7aa6": {
      "model_module": "@jupyter-widgets/controls",
      "model_module_version": "1.5.0",
      "model_name": "ButtonModel",
      "state": {
       "description": "Run Code",
       "layout": "IPY_MODEL_90eca20b69c4421ea7afa0dffbdeb1a6",
       "style": "IPY_MODEL_733cda3bcaaf4126844e87ac07a58279",
       "tooltip": "Click to test your code"
      }
     },
     "a674037cdf1e49ccbc6524f651fb35d8": {
      "model_module": "@jupyter-widgets/controls",
      "model_module_version": "1.5.0",
      "model_name": "DescriptionStyleModel",
      "state": {
       "description_width": ""
      }
     },
     "a68012ad9420451eb1730776b66dc40f": {
      "model_module": "@jupyter-widgets/base",
      "model_module_version": "1.2.0",
      "model_name": "LayoutModel",
      "state": {}
     },
     "a69c3a337fb14a4e9bac6e7930d51c7e": {
      "model_module": "@jupyter-widgets/controls",
      "model_module_version": "1.5.0",
      "model_name": "ButtonStyleModel",
      "state": {}
     },
     "a6bb09e334824da7a8430a831e0b4dfa": {
      "model_module": "@jupyter-widgets/controls",
      "model_module_version": "1.5.0",
      "model_name": "DescriptionStyleModel",
      "state": {
       "description_width": ""
      }
     },
     "a6db30ebe8ee41d1bf604feafc179288": {
      "model_module": "@jupyter-widgets/base",
      "model_module_version": "1.2.0",
      "model_name": "LayoutModel",
      "state": {
       "width": "5%"
      }
     },
     "a6e1834c80b14d04b11d24f097b790eb": {
      "model_module": "@jupyter-widgets/base",
      "model_module_version": "1.2.0",
      "model_name": "LayoutModel",
      "state": {}
     },
     "a6f2d12f81254397ab2887e633e0c1c3": {
      "model_module": "@jupyter-widgets/controls",
      "model_module_version": "1.5.0",
      "model_name": "HBoxModel",
      "state": {
       "children": [
        "IPY_MODEL_8cee3492d0924d89bbbae8c25ffb1aab",
        "IPY_MODEL_3faf78c5750d4976ae4a4be659405711"
       ],
       "layout": "IPY_MODEL_0e2fcd4a171a48a19cb7abe4f65ec669"
      }
     },
     "a71467cc539b498eaf80aef0574e3d97": {
      "model_module": "@jupyter-widgets/controls",
      "model_module_version": "1.5.0",
      "model_name": "DescriptionStyleModel",
      "state": {
       "description_width": ""
      }
     },
     "a716701a15cc4315a0ede16b5d919732": {
      "model_module": "@jupyter-widgets/controls",
      "model_module_version": "1.5.0",
      "model_name": "LabelModel",
      "state": {
       "layout": "IPY_MODEL_9a9ff03a1e5c4e19aac246784159373f",
       "style": "IPY_MODEL_6bcd0758f20545b3b216b414337a70fc"
      }
     },
     "a73697e99b8245df89f5418ebd2ce9f5": {
      "model_module": "@jupyter-widgets/controls",
      "model_module_version": "1.5.0",
      "model_name": "LabelModel",
      "state": {
       "layout": "IPY_MODEL_7b50d4be0d354efeaff84da3d7a51916",
       "style": "IPY_MODEL_874cf4a1fe5643a5bd5c2cd41e309a91"
      }
     },
     "a736d868fd524a8cbaee9029c8baa9f5": {
      "model_module": "@jupyter-widgets/controls",
      "model_module_version": "1.5.0",
      "model_name": "RadioButtonsModel",
      "state": {
       "_options_labels": [
        "a. Polarization",
        "b. Phase",
        "c. Frequency",
        "d. Propagation axis"
       ],
       "index": 0,
       "layout": "IPY_MODEL_6be8e77b0d4942fe8d175665296aa003",
       "style": "IPY_MODEL_3ebd63f985ed4aa9b30277acb09a62c7"
      }
     },
     "a73bed598fef4c2a9b1cfaee89ddcdec": {
      "model_module": "@jupyter-widgets/base",
      "model_module_version": "1.2.0",
      "model_name": "LayoutModel",
      "state": {}
     },
     "a7485b0136ef4a29bc9aae4da86e3445": {
      "model_module": "@jupyter-widgets/base",
      "model_module_version": "1.2.0",
      "model_name": "LayoutModel",
      "state": {}
     },
     "a76fa631a86e4396a46692bb1a209b7e": {
      "model_module": "@jupyter-widgets/base",
      "model_module_version": "1.2.0",
      "model_name": "LayoutModel",
      "state": {}
     },
     "a770d857714245668a7aa321ac1467d2": {
      "model_module": "@jupyter-widgets/base",
      "model_module_version": "1.2.0",
      "model_name": "LayoutModel",
      "state": {}
     },
     "a77b959e113b4cb8aed2b5e22b50485c": {
      "model_module": "@jupyter-widgets/controls",
      "model_module_version": "1.5.0",
      "model_name": "LabelModel",
      "state": {
       "layout": "IPY_MODEL_cbfe65c276514b4bb31441f491866e42",
       "style": "IPY_MODEL_778fea75e2db47d09205e3cf4155a284"
      }
     },
     "a785c7742d0a488cb81a57fa0056e0cf": {
      "model_module": "@jupyter-widgets/base",
      "model_module_version": "1.2.0",
      "model_name": "LayoutModel",
      "state": {
       "width": "5%"
      }
     },
     "a7865f646a35415dbbe3409b36ee7e17": {
      "model_module": "@jupyter-widgets/controls",
      "model_module_version": "1.5.0",
      "model_name": "HBoxModel",
      "state": {
       "children": [
        "IPY_MODEL_fcd6ad052be64c598953d016368ffc6a",
        "IPY_MODEL_dc8f17b2ae14432d852f991e9d8c46d8"
       ],
       "layout": "IPY_MODEL_317cc3a5ac184547b06c60c0cb0b6d76"
      }
     },
     "a78b04bce0ca431ebd8c88827e3db9a7": {
      "model_module": "@jupyter-widgets/base",
      "model_module_version": "1.2.0",
      "model_name": "LayoutModel",
      "state": {
       "width": "90%"
      }
     },
     "a7aef266f3a44c4ca198b3912f7ebd6a": {
      "model_module": "@jupyter-widgets/controls",
      "model_module_version": "1.5.0",
      "model_name": "ButtonModel",
      "state": {
       "description": "Test Code",
       "layout": "IPY_MODEL_1d16f0e7ac5340f497af8749645810ef",
       "style": "IPY_MODEL_291913bfa0d141cfb6231767ba12178d",
       "tooltip": "Click to test your code"
      }
     },
     "a7baa2fa62cb4e91aef3be7e9dd498b2": {
      "model_module": "@jupyter-widgets/base",
      "model_module_version": "1.2.0",
      "model_name": "LayoutModel",
      "state": {}
     },
     "a7c294c2ef7949d3b0b3a81e04e87dc6": {
      "model_module": "@jupyter-widgets/base",
      "model_module_version": "1.2.0",
      "model_name": "LayoutModel",
      "state": {}
     },
     "a8108c63de634ed19475d731a3061758": {
      "model_module": "@jupyter-widgets/controls",
      "model_module_version": "1.5.0",
      "model_name": "TextareaModel",
      "state": {
       "description": "Code:",
       "layout": "IPY_MODEL_d74f61ca7b0947a9896415a78cdcbffb",
       "placeholder": "Type code here",
       "style": "IPY_MODEL_1e6e41ca8a5241ceac4df816f73fc81b",
       "value": "\nplt.plot()"
      }
     },
     "a817749956b943559b0a292249c062d3": {
      "model_module": "@jupyter-widgets/controls",
      "model_module_version": "1.5.0",
      "model_name": "HBoxModel",
      "state": {
       "children": [
        "IPY_MODEL_aff7ac4c94c04740b795f2c387078ba6",
        "IPY_MODEL_9cd8db8b63744914923e46bdeac1f4bd"
       ],
       "layout": "IPY_MODEL_1a93b6c978be47448d17e5bf1fd4a811"
      }
     },
     "a8187b42a9234de986c5b32ac2870779": {
      "model_module": "@jupyter-widgets/controls",
      "model_module_version": "1.5.0",
      "model_name": "RadioButtonsModel",
      "state": {
       "_options_labels": [
        "a. Maxwell's equations",
        "b. Newton's Equations",
        "c. The boundary conditions",
        "d. A given macrostate"
       ],
       "index": 0,
       "layout": "IPY_MODEL_f1070388809b42a880ba9e57c8b22521",
       "style": "IPY_MODEL_97fe458d6f584788bec1b5ef9711387b"
      }
     },
     "a82199ff4d89415198680b0bb9a29f1c": {
      "model_module": "@jupyter-widgets/base",
      "model_module_version": "1.2.0",
      "model_name": "LayoutModel",
      "state": {}
     },
     "a824e985482049afa4f856b230383257": {
      "model_module": "@jupyter-widgets/base",
      "model_module_version": "1.2.0",
      "model_name": "LayoutModel",
      "state": {
       "width": "90%"
      }
     },
     "a850185709cd4842b51338bf42d99e56": {
      "model_module": "@jupyter-widgets/base",
      "model_module_version": "1.2.0",
      "model_name": "LayoutModel",
      "state": {
       "width": "5%"
      }
     },
     "a893bf1b53024131b56d16efd5472aa4": {
      "model_module": "@jupyter-widgets/base",
      "model_module_version": "1.2.0",
      "model_name": "LayoutModel",
      "state": {}
     },
     "a8a5787524e643a0bdcd750bed6365d8": {
      "model_module": "@jupyter-widgets/controls",
      "model_module_version": "1.5.0",
      "model_name": "DescriptionStyleModel",
      "state": {
       "description_width": ""
      }
     },
     "a8af9d641dbd4ad093452580d8dd5a89": {
      "model_module": "@jupyter-widgets/base",
      "model_module_version": "1.2.0",
      "model_name": "LayoutModel",
      "state": {
       "width": "5%"
      }
     },
     "a8bce427882e4ac8970fcd10cf838c25": {
      "model_module": "@jupyter-widgets/controls",
      "model_module_version": "1.5.0",
      "model_name": "HBoxModel",
      "state": {
       "children": [
        "IPY_MODEL_2771f476431c49d6a4d69f9b29772f4f",
        "IPY_MODEL_11eed33b95534b12abfa7ec57802e5f6"
       ],
       "layout": "IPY_MODEL_95dde2a6db3d456192fb0f0d9a7427a2"
      }
     },
     "a8c75e8fd5214e2aaab09abab7ebcaef": {
      "model_module": "@jupyter-widgets/controls",
      "model_module_version": "1.5.0",
      "model_name": "RadioButtonsModel",
      "state": {
       "_options_labels": [
        "a. Temperature",
        "b. Color",
        "c. Mass",
        "d. Charge"
       ],
       "index": 0,
       "layout": "IPY_MODEL_a5cb2e36f01e4fc7b06fccb1123090b3",
       "style": "IPY_MODEL_bed048f9c83848a8a48fc12779923a8c"
      }
     },
     "a8cf0a9873e04d038393e853d51fc903": {
      "model_module": "@jupyter-widgets/controls",
      "model_module_version": "1.5.0",
      "model_name": "DescriptionStyleModel",
      "state": {
       "description_width": ""
      }
     },
     "a8d7d84d80b14cf88c67b7610ffbca90": {
      "model_module": "@jupyter-widgets/base",
      "model_module_version": "1.2.0",
      "model_name": "LayoutModel",
      "state": {}
     },
     "a8e3216833ee4fd080eefeb7037d6929": {
      "model_module": "@jupyter-widgets/controls",
      "model_module_version": "1.5.0",
      "model_name": "DescriptionStyleModel",
      "state": {
       "description_width": ""
      }
     },
     "a8ea608eb5114a52b9551b0d56fa5dc7": {
      "model_module": "@jupyter-widgets/controls",
      "model_module_version": "1.5.0",
      "model_name": "ButtonModel",
      "state": {
       "description": "Test Code",
       "layout": "IPY_MODEL_80cda696e9c14307a14a6bcbe45c684b",
       "style": "IPY_MODEL_7f3a0fb4271e483a996785fe0b5a5b7b",
       "tooltip": "Click to test your code"
      }
     },
     "a8f2ae49697f42aebea1ca8bc5a96690": {
      "model_module": "@jupyter-widgets/controls",
      "model_module_version": "1.5.0",
      "model_name": "HBoxModel",
      "state": {
       "children": [
        "IPY_MODEL_857cd4de7fb74f2db60f6ac69e252ebe",
        "IPY_MODEL_799fa4a7c7a14198a1e3cc222f3f4caa"
       ],
       "layout": "IPY_MODEL_3960041c4be44b17913272a10d76df7f"
      }
     },
     "a8f72f4ccc3c4086b5b510a23667e1f1": {
      "model_module": "@jupyter-widgets/controls",
      "model_module_version": "1.5.0",
      "model_name": "DescriptionStyleModel",
      "state": {
       "description_width": ""
      }
     },
     "a90ed0a302be4d83bdb75bbe6bf92479": {
      "model_module": "@jupyter-widgets/output",
      "model_module_version": "1.0.0",
      "model_name": "OutputModel",
      "state": {
       "layout": "IPY_MODEL_b2fa8192d89a4829b5c22de1c05a7e31",
       "outputs": [
        {
         "name": "stdout",
         "output_type": "stream",
         "text": "0\n1\n2\n3\n4\n5\n6\n7\n8\n"
        }
       ]
      }
     },
     "a921911f44734713b193c4266337b17e": {
      "model_module": "@jupyter-widgets/controls",
      "model_module_version": "1.5.0",
      "model_name": "DescriptionStyleModel",
      "state": {
       "description_width": ""
      }
     },
     "a93e882b7526413a87a259ac9df92cc5": {
      "model_module": "@jupyter-widgets/base",
      "model_module_version": "1.2.0",
      "model_name": "LayoutModel",
      "state": {
       "width": "90%"
      }
     },
     "a94bc3c10c4d4a3fb086350824a31e7e": {
      "model_module": "@jupyter-widgets/controls",
      "model_module_version": "1.5.0",
      "model_name": "TextareaModel",
      "state": {
       "description": "String:",
       "layout": "IPY_MODEL_250de3284aa94c54902ce7f944a89243",
       "placeholder": "Type something",
       "style": "IPY_MODEL_e48947c3ab6342688e3d957ea32e42ec"
      }
     },
     "a957bad839a3402ba6a4e227e0742d7e": {
      "model_module": "@jupyter-widgets/controls",
      "model_module_version": "1.5.0",
      "model_name": "TextareaModel",
      "state": {
       "description": "String:",
       "layout": "IPY_MODEL_eec52c3ab28d4ab6ba20735f50485104",
       "placeholder": "Type something",
       "style": "IPY_MODEL_4e6cfb2cf64f4065830c2ccbdde87902"
      }
     },
     "a99ccdeb84de465ab1d449a370fb784b": {
      "model_module": "@jupyter-widgets/base",
      "model_module_version": "1.2.0",
      "model_name": "LayoutModel",
      "state": {}
     },
     "a9c3cd8705af4c9bb1e62ded6ed4d854": {
      "model_module": "@jupyter-widgets/controls",
      "model_module_version": "1.5.0",
      "model_name": "HBoxModel",
      "state": {
       "children": [
        "IPY_MODEL_63e6fcb78a8847a4a34141e1b991396c",
        "IPY_MODEL_76dc65078de84af8ae2ddeb8c41bcdff"
       ],
       "layout": "IPY_MODEL_b8d481d30cd543b996bedf33be10f271"
      }
     },
     "a9d06d38e17041128472d21db11f5789": {
      "model_module": "@jupyter-widgets/controls",
      "model_module_version": "1.5.0",
      "model_name": "TextareaModel",
      "state": {
       "description": "Code:",
       "layout": "IPY_MODEL_5b6666d76ee6457f96cdd65159c0346c",
       "placeholder": "Type code here",
       "style": "IPY_MODEL_1237807e12f949c1aef72c9d33fa08bf"
      }
     },
     "a9fe5f1f516a4a34b4ffce9fff9903a9": {
      "model_module": "@jupyter-widgets/base",
      "model_module_version": "1.2.0",
      "model_name": "LayoutModel",
      "state": {
       "width": "5%"
      }
     },
     "aa24e49f09364d7d84225d5b97bd7a45": {
      "model_module": "@jupyter-widgets/controls",
      "model_module_version": "1.5.0",
      "model_name": "TextareaModel",
      "state": {
       "description": "String:",
       "layout": "IPY_MODEL_3dec7bfd572742b7b2370b7c63362af0",
       "placeholder": "Type something",
       "style": "IPY_MODEL_5eea6645849a4498992b00f2c27fc0af"
      }
     },
     "aa52042a29b44470ac4afb8994423389": {
      "model_module": "@jupyter-widgets/output",
      "model_module_version": "1.0.0",
      "model_name": "OutputModel",
      "state": {
       "layout": "IPY_MODEL_daf6cc71042b403ba2357881bc07af6a",
       "outputs": [
        {
         "name": "stdout",
         "output_type": "stream",
         "text": "The output works\n\n"
        }
       ]
      }
     },
     "aa81ae83a3be4934894b5a0fd1f50e92": {
      "model_module": "@jupyter-widgets/controls",
      "model_module_version": "1.5.0",
      "model_name": "LabelModel",
      "state": {
       "layout": "IPY_MODEL_47f998ba4d9e414b82a65ade55338f44",
       "style": "IPY_MODEL_a1ca0b07aabe4b6ab8151c0f07421f09"
      }
     },
     "aa8d69877c5c4fb1881e401cb40a6387": {
      "model_module": "@jupyter-widgets/controls",
      "model_module_version": "1.5.0",
      "model_name": "LabelModel",
      "state": {
       "layout": "IPY_MODEL_3e1a676a079d49ecb9568a91afab182a",
       "style": "IPY_MODEL_1e1a657436584add9e13e2f726d1ba83"
      }
     },
     "aab041258f8a4fcbab5205c741cc08e7": {
      "model_module": "@jupyter-widgets/base",
      "model_module_version": "1.2.0",
      "model_name": "LayoutModel",
      "state": {
       "width": "90%"
      }
     },
     "aabe1cd10a66482599b5f388b4dcd9a4": {
      "model_module": "@jupyter-widgets/controls",
      "model_module_version": "1.5.0",
      "model_name": "DescriptionStyleModel",
      "state": {
       "description_width": ""
      }
     },
     "aacc20e23bc1404fac8128022543ca54": {
      "model_module": "@jupyter-widgets/controls",
      "model_module_version": "1.5.0",
      "model_name": "HBoxModel",
      "state": {
       "children": [
        "IPY_MODEL_e0b0ddd2c3e34fa7a40cd5f0e17325ab",
        "IPY_MODEL_385724a0c9f645419faf723183bcf6b4"
       ],
       "layout": "IPY_MODEL_dcb5e04a4ff94c5c86955cf25f1d1153"
      }
     },
     "aacf957b6f694ed199abc6fab2fb42a6": {
      "model_module": "@jupyter-widgets/base",
      "model_module_version": "1.2.0",
      "model_name": "LayoutModel",
      "state": {}
     },
     "aadcf5409890473fab293cc1fcb7c69f": {
      "model_module": "@jupyter-widgets/controls",
      "model_module_version": "1.5.0",
      "model_name": "RadioButtonsModel",
      "state": {
       "_options_labels": [
        "a. The free charge density",
        "b. The polarization density",
        "c. The free charge current",
        "d. The magnetic field"
       ],
       "index": 0,
       "layout": "IPY_MODEL_57ed2670b0d4429789b69f4bb1b42261",
       "style": "IPY_MODEL_3f2b0274690b45209b9441fe46bbf2ce"
      }
     },
     "aaef47321aa443da803b04e005683bd5": {
      "model_module": "@jupyter-widgets/output",
      "model_module_version": "1.0.0",
      "model_name": "OutputModel",
      "state": {
       "layout": "IPY_MODEL_afebde63d8444a339646a747230b5cbf"
      }
     },
     "ab050001129f4bf5abc3e17b663e7515": {
      "model_module": "@jupyter-widgets/base",
      "model_module_version": "1.2.0",
      "model_name": "LayoutModel",
      "state": {
       "width": "5%"
      }
     },
     "ab3629d20d404fb682aaf9ec4d7732f0": {
      "model_module": "@jupyter-widgets/base",
      "model_module_version": "1.2.0",
      "model_name": "LayoutModel",
      "state": {}
     },
     "ab522a1a3ef747f396ad1fa091551cc9": {
      "model_module": "@jupyter-widgets/base",
      "model_module_version": "1.2.0",
      "model_name": "LayoutModel",
      "state": {
       "width": "90%"
      }
     },
     "ab65be590a374a6697aa8e41d2a1ae8e": {
      "model_module": "@jupyter-widgets/controls",
      "model_module_version": "1.5.0",
      "model_name": "DescriptionStyleModel",
      "state": {
       "description_width": ""
      }
     },
     "ab8d8e8c5f34451c8ce7fc9f009c7acd": {
      "model_module": "@jupyter-widgets/base",
      "model_module_version": "1.2.0",
      "model_name": "LayoutModel",
      "state": {}
     },
     "ab959e00954b4690b72b78e1efb19621": {
      "model_module": "@jupyter-widgets/controls",
      "model_module_version": "1.5.0",
      "model_name": "ButtonModel",
      "state": {
       "description": "Run Code",
       "layout": "IPY_MODEL_a5a83420963e4919804f7abb01d5a067",
       "style": "IPY_MODEL_499c186ee4dc4657978b2a170065348d",
       "tooltip": "Click to test your code"
      }
     },
     "aba1a8a18d0c49f1973ce6272ee3f4f6": {
      "model_module": "@jupyter-widgets/controls",
      "model_module_version": "1.5.0",
      "model_name": "DescriptionStyleModel",
      "state": {
       "description_width": ""
      }
     },
     "abc8e81a8ff842eb850d5a7c0c8a97ce": {
      "model_module": "@jupyter-widgets/controls",
      "model_module_version": "1.5.0",
      "model_name": "RadioButtonsModel",
      "state": {
       "_options_labels": [
        "a. Stabilize (prolong) induced polarizations",
        "b. Cause more rapid decay of the induced polarization",
        "c. Increase the magnitude of the induced polarization",
        "d. Waste money"
       ],
       "index": 0,
       "layout": "IPY_MODEL_972638618d0146b5b107c173142a60e3",
       "style": "IPY_MODEL_310871c9c00f4cd195563c4e9561bb2d"
      }
     },
     "abcd4a552aab40478886ab58cb8e5eba": {
      "model_module": "@jupyter-widgets/controls",
      "model_module_version": "1.5.0",
      "model_name": "RadioButtonsModel",
      "state": {
       "_options_labels": [
        "a. Bite-sized pieces",
        "b. Frequency components",
        "c. A power series in small displacements",
        "d. Absolute values"
       ],
       "index": 0,
       "layout": "IPY_MODEL_929f15c42f3c45b086c3e6219aaeb551",
       "style": "IPY_MODEL_ba1075f689794ec18fdd27c0784d2667"
      }
     },
     "ac13e7a29ea84afe85e487b3e693a1a8": {
      "model_module": "@jupyter-widgets/controls",
      "model_module_version": "1.5.0",
      "model_name": "HBoxModel",
      "state": {
       "children": [
        "IPY_MODEL_810ac875d7d94432a3afed4f46cdd872",
        "IPY_MODEL_a4ea5558e36b445e9009391a32e0f870"
       ],
       "layout": "IPY_MODEL_606d6bb2afb34abcbef1205b680dad91"
      }
     },
     "ac42130e70e2428c9d27006d359397e7": {
      "model_module": "@jupyter-widgets/controls",
      "model_module_version": "1.5.0",
      "model_name": "HBoxModel",
      "state": {
       "children": [
        "IPY_MODEL_a5c1f52d197a444187e3109f60ac71f8",
        "IPY_MODEL_cac064dafce74091babc6762c6c881bf"
       ],
       "layout": "IPY_MODEL_467f7cf7d4974700a3ad67ee13a612f0"
      }
     },
     "ac4f40cce26747aeb8c3cec5192f5943": {
      "model_module": "@jupyter-widgets/base",
      "model_module_version": "1.2.0",
      "model_name": "LayoutModel",
      "state": {
       "width": "5%"
      }
     },
     "ac60974c81b1499c9fe3dfec219c9fa2": {
      "model_module": "@jupyter-widgets/controls",
      "model_module_version": "1.5.0",
      "model_name": "DescriptionStyleModel",
      "state": {
       "description_width": ""
      }
     },
     "ac98cae931334f03ba52c6f09021a820": {
      "model_module": "@jupyter-widgets/controls",
      "model_module_version": "1.5.0",
      "model_name": "HBoxModel",
      "state": {
       "children": [
        "IPY_MODEL_293655c425da4346b0d302167449ce77",
        "IPY_MODEL_2a52229a362949759cb0d59ba8cf580f"
       ],
       "layout": "IPY_MODEL_ea8a3064ca934374bd807dafde86ed4a"
      }
     },
     "ac9accdc972c4d6d829ab19a0112361c": {
      "model_module": "@jupyter-widgets/base",
      "model_module_version": "1.2.0",
      "model_name": "LayoutModel",
      "state": {
       "width": "5%"
      }
     },
     "acaeb2f98d2945f094834746f48cf6d8": {
      "model_module": "@jupyter-widgets/controls",
      "model_module_version": "1.5.0",
      "model_name": "DescriptionStyleModel",
      "state": {
       "description_width": ""
      }
     },
     "acb3acb9b102495bbc29141918880657": {
      "model_module": "@jupyter-widgets/controls",
      "model_module_version": "1.5.0",
      "model_name": "RadioButtonsModel",
      "state": {
       "_options_labels": [
        "a. Temperature",
        "b. Color",
        "c. Mass",
        "d. Charge"
       ],
       "index": 0,
       "layout": "IPY_MODEL_1dff5e76eb3d463c97fc90dbcd15780e",
       "style": "IPY_MODEL_aba1a8a18d0c49f1973ce6272ee3f4f6"
      }
     },
     "acd493d01dcb488fbe1126423b7788b4": {
      "model_module": "@jupyter-widgets/controls",
      "model_module_version": "1.5.0",
      "model_name": "LabelModel",
      "state": {
       "layout": "IPY_MODEL_6357e9b0506c41b5b12d0ae6750b4b21",
       "style": "IPY_MODEL_9aa2c36f3b2248fcbcf6718e33dc5830"
      }
     },
     "acdfb448bb2244439b38549e44a8744f": {
      "model_module": "@jupyter-widgets/controls",
      "model_module_version": "1.5.0",
      "model_name": "RadioButtonsModel",
      "state": {
       "_options_labels": [
        "a. Bite-sized pieces",
        "b. Frequency components",
        "c. A power series in small displacements",
        "d. Absolute values"
       ],
       "index": 0,
       "layout": "IPY_MODEL_8c8c12bc96354d1f81f7a27616634397",
       "style": "IPY_MODEL_8e010f800d774db8960fab05d1df4b81"
      }
     },
     "aced03d4dbbc43678bd9dfca5de9de53": {
      "model_module": "@jupyter-widgets/controls",
      "model_module_version": "1.5.0",
      "model_name": "HBoxModel",
      "state": {
       "children": [
        "IPY_MODEL_f118cb76af51495ea18f12250d6ab1c9",
        "IPY_MODEL_cb19e6cede9a4b0da19a8dfafc0ffd63"
       ],
       "layout": "IPY_MODEL_41a0ca4e288a4011877549d524d5e473"
      }
     },
     "acfe7ed108a245f58ce095d10b827033": {
      "model_module": "@jupyter-widgets/controls",
      "model_module_version": "1.5.0",
      "model_name": "LabelModel",
      "state": {
       "layout": "IPY_MODEL_833608c37c50467482162f74d317b915",
       "style": "IPY_MODEL_5748fba3967241a0906816d01fdfc959"
      }
     },
     "ad060fa7ee78405ab919245275da4cec": {
      "model_module": "@jupyter-widgets/base",
      "model_module_version": "1.2.0",
      "model_name": "LayoutModel",
      "state": {
       "width": "5%"
      }
     },
     "ad27ee340ac0494d939bd6edc28b17d0": {
      "model_module": "@jupyter-widgets/controls",
      "model_module_version": "1.5.0",
      "model_name": "TextareaModel",
      "state": {
       "description": "Answer:",
       "layout": "IPY_MODEL_aab041258f8a4fcbab5205c741cc08e7",
       "placeholder": "Type something",
       "style": "IPY_MODEL_ff43c276421a461193b8bbc90ce755f9"
      }
     },
     "ad3d0917aa6a42d6ac8a618d4b54c938": {
      "model_module": "@jupyter-widgets/controls",
      "model_module_version": "1.5.0",
      "model_name": "DescriptionStyleModel",
      "state": {
       "description_width": ""
      }
     },
     "ad49aad8c9c14654a157f7d475e514e8": {
      "model_module": "@jupyter-widgets/base",
      "model_module_version": "1.2.0",
      "model_name": "LayoutModel",
      "state": {
       "width": "90%"
      }
     },
     "ad4a166eddb14f3eb29fbec150da2b28": {
      "model_module": "@jupyter-widgets/base",
      "model_module_version": "1.2.0",
      "model_name": "LayoutModel",
      "state": {}
     },
     "ad757451d9534e21b1834e5425876892": {
      "model_module": "@jupyter-widgets/base",
      "model_module_version": "1.2.0",
      "model_name": "LayoutModel",
      "state": {
       "width": "5%"
      }
     },
     "ad8d608b49fb4a5ba85c240b17b060aa": {
      "model_module": "@jupyter-widgets/controls",
      "model_module_version": "1.5.0",
      "model_name": "DescriptionStyleModel",
      "state": {
       "description_width": ""
      }
     },
     "ada65ee00970410cb99b232390c6f13f": {
      "model_module": "@jupyter-widgets/base",
      "model_module_version": "1.2.0",
      "model_name": "LayoutModel",
      "state": {}
     },
     "adac7f08b83d46e893f5036ccd7032f3": {
      "model_module": "@jupyter-widgets/controls",
      "model_module_version": "1.5.0",
      "model_name": "HBoxModel",
      "state": {
       "children": [
        "IPY_MODEL_f044da5608df43a08ddf904469019c77",
        "IPY_MODEL_da2bbd03fe3b48fba05c6654e73ce6ae"
       ],
       "layout": "IPY_MODEL_7a960cc414e44dc8afb19acfe8f0e6d8"
      }
     },
     "adcb6906b3214ed7a51a39bb3e86994f": {
      "model_module": "@jupyter-widgets/controls",
      "model_module_version": "1.5.0",
      "model_name": "HBoxModel",
      "state": {
       "children": [
        "IPY_MODEL_aa81ae83a3be4934894b5a0fd1f50e92",
        "IPY_MODEL_3453d003cea94899ac7bb54e698a99fe"
       ],
       "layout": "IPY_MODEL_320bd4412e5548fb9c136df80d759cd7"
      }
     },
     "addbde89b11f449497da2c42b66b20a9": {
      "model_module": "@jupyter-widgets/controls",
      "model_module_version": "1.5.0",
      "model_name": "ButtonModel",
      "state": {
       "description": "Test Code",
       "layout": "IPY_MODEL_618aa6f3b7ee4d4387be5badb10a05d5",
       "style": "IPY_MODEL_7801c575f4f347468af086bd90e270ea",
       "tooltip": "Click to test your code"
      }
     },
     "ade847012f4245f19e2e37daa63aea2b": {
      "model_module": "@jupyter-widgets/base",
      "model_module_version": "1.2.0",
      "model_name": "LayoutModel",
      "state": {
       "width": "5%"
      }
     },
     "adfbdb2c13f14ce881a1821ebfb6179d": {
      "model_module": "@jupyter-widgets/controls",
      "model_module_version": "1.5.0",
      "model_name": "VBoxModel",
      "state": {
       "children": [
        "IPY_MODEL_28524a1d196f4d5da8887e1d226b0855",
        "IPY_MODEL_2ac12c6244294a7f99e466fed33f7362"
       ],
       "layout": "IPY_MODEL_359bb3927db144b8b66abdf71b5eeac2"
      }
     },
     "ae059f0ba8e1400fb1275f08e79b0c6b": {
      "model_module": "@jupyter-widgets/controls",
      "model_module_version": "1.5.0",
      "model_name": "DescriptionStyleModel",
      "state": {
       "description_width": ""
      }
     },
     "ae11d4adf5204d99bec85e49053faf0b": {
      "model_module": "@jupyter-widgets/base",
      "model_module_version": "1.2.0",
      "model_name": "LayoutModel",
      "state": {}
     },
     "ae1dab4fa5eb461d93125b9bd8f07492": {
      "model_module": "@jupyter-widgets/controls",
      "model_module_version": "1.5.0",
      "model_name": "LabelModel",
      "state": {
       "layout": "IPY_MODEL_28d67516911e4c909abebf39f8dc3255",
       "style": "IPY_MODEL_3c4f95cc65a046289f02659cd8e78ae2"
      }
     },
     "ae5d2c8768874731aa1ba0227c6f8609": {
      "model_module": "@jupyter-widgets/controls",
      "model_module_version": "1.5.0",
      "model_name": "DescriptionStyleModel",
      "state": {
       "description_width": ""
      }
     },
     "ae5ea24f6bd14b3cacdbccacbe312593": {
      "model_module": "@jupyter-widgets/controls",
      "model_module_version": "1.5.0",
      "model_name": "HBoxModel",
      "state": {
       "children": [
        "IPY_MODEL_516b3589e25f452e803518e1e8a60d52",
        "IPY_MODEL_c8fb893a91364ec995e94abfe12696c3"
       ],
       "layout": "IPY_MODEL_f6ba9ee9d7314a67af1d19634127d4d2"
      }
     },
     "ae5ea2d0dc9f41038d68aa0d5c234d5d": {
      "model_module": "@jupyter-widgets/base",
      "model_module_version": "1.2.0",
      "model_name": "LayoutModel",
      "state": {}
     },
     "ae62feea768643ed8fc078eaf2739cba": {
      "model_module": "@jupyter-widgets/controls",
      "model_module_version": "1.5.0",
      "model_name": "DescriptionStyleModel",
      "state": {
       "description_width": ""
      }
     },
     "ae7cecfdac0f430ab762b481aa6f212f": {
      "model_module": "@jupyter-widgets/controls",
      "model_module_version": "1.5.0",
      "model_name": "DescriptionStyleModel",
      "state": {
       "description_width": ""
      }
     },
     "ae7e114e6ada43ed8d9d617e8ec6131e": {
      "model_module": "@jupyter-widgets/controls",
      "model_module_version": "1.5.0",
      "model_name": "RadioButtonsModel",
      "state": {
       "_options_labels": [
        "a. Polarization",
        "b. Phase",
        "c. Frequency",
        "d. Propagation axis"
       ],
       "index": 0,
       "layout": "IPY_MODEL_3d3d563f24844be0a7ca14f00a9d4487",
       "style": "IPY_MODEL_2070580e39624427b75afb5a645acd49"
      }
     },
     "ae83d376048549a29bf8711d86241a5d": {
      "model_module": "@jupyter-widgets/controls",
      "model_module_version": "1.5.0",
      "model_name": "DescriptionStyleModel",
      "state": {
       "description_width": ""
      }
     },
     "ae85554145624ad08e68b1197ebe361d": {
      "model_module": "@jupyter-widgets/controls",
      "model_module_version": "1.5.0",
      "model_name": "VBoxModel",
      "state": {
       "children": [
        "IPY_MODEL_c9d27409d3c244e3bac08440f0a473a2",
        "IPY_MODEL_7d9a014448f44334a4c8a30f48f3fb4f"
       ],
       "layout": "IPY_MODEL_c4d57363d7464eb1a50c6322ec1bbd3e"
      }
     },
     "aeabd36475db4ac38c9ee5e23c8eb1eb": {
      "model_module": "@jupyter-widgets/base",
      "model_module_version": "1.2.0",
      "model_name": "LayoutModel",
      "state": {
       "width": "5%"
      }
     },
     "aeb996611547471eaba92ad5087c7e2a": {
      "model_module": "@jupyter-widgets/controls",
      "model_module_version": "1.5.0",
      "model_name": "LabelModel",
      "state": {
       "layout": "IPY_MODEL_856d70479a3444ca8bda88cdc8bcd03a",
       "style": "IPY_MODEL_053f789702b644978c2ccce1b1bc6db9"
      }
     },
     "aec0102862364033a86486c7ec11e3a2": {
      "model_module": "@jupyter-widgets/base",
      "model_module_version": "1.2.0",
      "model_name": "LayoutModel",
      "state": {}
     },
     "aec7ae38f8c84218b815fd77f778a99e": {
      "model_module": "@jupyter-widgets/base",
      "model_module_version": "1.2.0",
      "model_name": "LayoutModel",
      "state": {}
     },
     "aec7ccbd34be4fa2868a9fe5a7935977": {
      "model_module": "@jupyter-widgets/controls",
      "model_module_version": "1.5.0",
      "model_name": "DescriptionStyleModel",
      "state": {
       "description_width": ""
      }
     },
     "aed07b3ba7f24d4ba82dd38a761a8e3b": {
      "model_module": "@jupyter-widgets/base",
      "model_module_version": "1.2.0",
      "model_name": "LayoutModel",
      "state": {}
     },
     "aed7ede46c114c4d9192d081367253ff": {
      "model_module": "@jupyter-widgets/controls",
      "model_module_version": "1.5.0",
      "model_name": "HBoxModel",
      "state": {
       "children": [
        "IPY_MODEL_52c3c8797377472ea1c0a9eff15fc993",
        "IPY_MODEL_e1bfd6243b9241a69c60436ca9d412d5"
       ],
       "layout": "IPY_MODEL_0fcab2dfbf8b4e938d2b33f718658031"
      }
     },
     "aed99e919e9046898b151af903b1a88f": {
      "model_module": "@jupyter-widgets/base",
      "model_module_version": "1.2.0",
      "model_name": "LayoutModel",
      "state": {}
     },
     "aedd50d31a144f9596aabc882adac8fe": {
      "model_module": "@jupyter-widgets/base",
      "model_module_version": "1.2.0",
      "model_name": "LayoutModel",
      "state": {
       "width": "90%"
      }
     },
     "aee52bfaf344499a8b68585807755cc1": {
      "model_module": "@jupyter-widgets/base",
      "model_module_version": "1.2.0",
      "model_name": "LayoutModel",
      "state": {}
     },
     "aef4f15c1fb3490596ef6e80cb5525b9": {
      "model_module": "@jupyter-widgets/controls",
      "model_module_version": "1.5.0",
      "model_name": "ButtonStyleModel",
      "state": {}
     },
     "aeffbfe40f3a4ac986f9a451cc88a8a8": {
      "model_module": "@jupyter-widgets/base",
      "model_module_version": "1.2.0",
      "model_name": "LayoutModel",
      "state": {
       "width": "5%"
      }
     },
     "af00bf0b2b26489b8875f308c0592db3": {
      "model_module": "@jupyter-widgets/controls",
      "model_module_version": "1.5.0",
      "model_name": "DescriptionStyleModel",
      "state": {
       "description_width": ""
      }
     },
     "af3b7321d579431a946646ab77305cb6": {
      "model_module": "@jupyter-widgets/base",
      "model_module_version": "1.2.0",
      "model_name": "LayoutModel",
      "state": {}
     },
     "af3d461300e44613adf258805d27c950": {
      "model_module": "@jupyter-widgets/controls",
      "model_module_version": "1.5.0",
      "model_name": "LabelModel",
      "state": {
       "layout": "IPY_MODEL_52031cdc034f4c60941731927aea5655",
       "style": "IPY_MODEL_90825f6f38d8427e86d7c28cc2669f0a"
      }
     },
     "af43baee4231477da4336176fb312a51": {
      "model_module": "@jupyter-widgets/controls",
      "model_module_version": "1.5.0",
      "model_name": "HBoxModel",
      "state": {
       "children": [
        "IPY_MODEL_fe4f4b539e384b2b9335ba964c515da3",
        "IPY_MODEL_de29e1b57dcf47c3a34884c7192a0f1e"
       ],
       "layout": "IPY_MODEL_fa2d9535cfa7495aaca195a3088354fe"
      }
     },
     "af4458c3bfef4a6eb1b133e11187383f": {
      "model_module": "@jupyter-widgets/controls",
      "model_module_version": "1.5.0",
      "model_name": "HBoxModel",
      "state": {
       "children": [
        "IPY_MODEL_dba0dbf115cd4ec98a6e7bdcda8e6921",
        "IPY_MODEL_727414e269a449849185a0af1487da86"
       ],
       "layout": "IPY_MODEL_f640cd63af6a4cd9abbe278877ce39d9"
      }
     },
     "af5c21cc5ff740789d4e7f68b58ca9d8": {
      "model_module": "@jupyter-widgets/base",
      "model_module_version": "1.2.0",
      "model_name": "LayoutModel",
      "state": {
       "width": "5%"
      }
     },
     "af616b0343b144449fca2fc50472c567": {
      "model_module": "@jupyter-widgets/base",
      "model_module_version": "1.2.0",
      "model_name": "LayoutModel",
      "state": {
       "width": "90%"
      }
     },
     "afab403ed9e94dc1966d21557477a5ac": {
      "model_module": "@jupyter-widgets/controls",
      "model_module_version": "1.5.0",
      "model_name": "DescriptionStyleModel",
      "state": {
       "description_width": ""
      }
     },
     "afd208683f9446959c92a2f16e51e47a": {
      "model_module": "@jupyter-widgets/base",
      "model_module_version": "1.2.0",
      "model_name": "LayoutModel",
      "state": {
       "width": "90%"
      }
     },
     "afd4318ce9f24e62b4d984bbfd09d8c6": {
      "model_module": "@jupyter-widgets/controls",
      "model_module_version": "1.5.0",
      "model_name": "DescriptionStyleModel",
      "state": {
       "description_width": ""
      }
     },
     "afd6e21fb23645d5816d867c1bac09f3": {
      "model_module": "@jupyter-widgets/base",
      "model_module_version": "1.2.0",
      "model_name": "LayoutModel",
      "state": {
       "width": "5%"
      }
     },
     "afdb4d7029504d6a8acde1d7cc5432cc": {
      "model_module": "@jupyter-widgets/base",
      "model_module_version": "1.2.0",
      "model_name": "LayoutModel",
      "state": {}
     },
     "afe975d6fdca4f9ebb711140d290ddcb": {
      "model_module": "@jupyter-widgets/controls",
      "model_module_version": "1.5.0",
      "model_name": "HBoxModel",
      "state": {
       "children": [
        "IPY_MODEL_cbeb7496fd984172820ac066b2a27b44",
        "IPY_MODEL_a2d6deda773940a6941f64c27f2e0d78"
       ],
       "layout": "IPY_MODEL_b542af2aa1144ff398a6cda2179c31bb"
      }
     },
     "afebde63d8444a339646a747230b5cbf": {
      "model_module": "@jupyter-widgets/base",
      "model_module_version": "1.2.0",
      "model_name": "LayoutModel",
      "state": {}
     },
     "aff7ac4c94c04740b795f2c387078ba6": {
      "model_module": "@jupyter-widgets/controls",
      "model_module_version": "1.5.0",
      "model_name": "LabelModel",
      "state": {
       "layout": "IPY_MODEL_1ddbdec245694e47a2fb46322369937a",
       "style": "IPY_MODEL_13a5ddf3b1a342b3a30b17521450f664"
      }
     },
     "b02d89df50784b6e98226e5543f62ebc": {
      "model_module": "@jupyter-widgets/controls",
      "model_module_version": "1.5.0",
      "model_name": "ButtonModel",
      "state": {
       "description": "Review Answers",
       "layout": "IPY_MODEL_90ad220b89194a16ac1d5ec934eab7cf",
       "style": "IPY_MODEL_cf0a5222482148cea4df3194eb722275",
       "tooltip": "Click to review answers"
      }
     },
     "b05707fa413f426fa6bef0b84a304e40": {
      "model_module": "@jupyter-widgets/controls",
      "model_module_version": "1.5.0",
      "model_name": "LabelModel",
      "state": {
       "layout": "IPY_MODEL_82e587526d914ecb842a7d59c3fe3de5",
       "style": "IPY_MODEL_e07f4a550d644504a0e10c7ba165384e"
      }
     },
     "b05794639c5c4c4097cc270d18a14083": {
      "model_module": "@jupyter-widgets/controls",
      "model_module_version": "1.5.0",
      "model_name": "DescriptionStyleModel",
      "state": {
       "description_width": ""
      }
     },
     "b072bab29c0d4f8d8780a469712163be": {
      "model_module": "@jupyter-widgets/controls",
      "model_module_version": "1.5.0",
      "model_name": "LabelModel",
      "state": {
       "layout": "IPY_MODEL_07ba51b7db1e42a49c3c21a6388df100",
       "style": "IPY_MODEL_954ce16f23ef4060bbac51290a9a0f2a"
      }
     },
     "b0b76f49c9e54fc2b1754134753f2c60": {
      "model_module": "@jupyter-widgets/base",
      "model_module_version": "1.2.0",
      "model_name": "LayoutModel",
      "state": {}
     },
     "b0ddca2d3f454699a0f1a3eb3a6c5b14": {
      "model_module": "@jupyter-widgets/controls",
      "model_module_version": "1.5.0",
      "model_name": "LabelModel",
      "state": {
       "layout": "IPY_MODEL_cec5e6aa50f343e089602bea8eb13fcc",
       "style": "IPY_MODEL_40c6d1f3248a44b1bf71c2328aa03d43"
      }
     },
     "b0e8127407b04b31ac8f74fb101d9a95": {
      "model_module": "@jupyter-widgets/controls",
      "model_module_version": "1.5.0",
      "model_name": "TextareaModel",
      "state": {
       "description": "Answer:",
       "layout": "IPY_MODEL_3ff690c55a7044a7aa685f8eabe5b8ef",
       "placeholder": "Type something",
       "style": "IPY_MODEL_2f7f3c78662d4431b79ce8818eb7fef7"
      }
     },
     "b12045bbe2fd44d3a77ff49e6826e164": {
      "model_module": "@jupyter-widgets/controls",
      "model_module_version": "1.5.0",
      "model_name": "TextareaModel",
      "state": {
       "description": "Code:",
       "layout": "IPY_MODEL_8c24e4c1777045af859eaf163ddf9593",
       "placeholder": "Type code here",
       "style": "IPY_MODEL_2e243c41fd0c4489b34be42d5f8bf040",
       "value": "plt.plot(range(0, 5))"
      }
     },
     "b161dfbad2764448a74ec0dc8783e3cc": {
      "model_module": "@jupyter-widgets/controls",
      "model_module_version": "1.5.0",
      "model_name": "LabelModel",
      "state": {
       "layout": "IPY_MODEL_ced5026997ee426caf92a11d4c4e8c70",
       "style": "IPY_MODEL_0b0efb6bcf7942678cbe2608dff4e001"
      }
     },
     "b1905b86ed894e90998ec2e315599c1a": {
      "model_module": "@jupyter-widgets/base",
      "model_module_version": "1.2.0",
      "model_name": "LayoutModel",
      "state": {
       "width": "90%"
      }
     },
     "b1b8af58dc4547ec9635a807a0d96bfd": {
      "model_module": "@jupyter-widgets/controls",
      "model_module_version": "1.5.0",
      "model_name": "DescriptionStyleModel",
      "state": {
       "description_width": ""
      }
     },
     "b1c5f54519474a6995ce6a88e4978e94": {
      "model_module": "@jupyter-widgets/controls",
      "model_module_version": "1.5.0",
      "model_name": "DescriptionStyleModel",
      "state": {
       "description_width": ""
      }
     },
     "b21342aedd2244e7899a743397316a1f": {
      "model_module": "@jupyter-widgets/base",
      "model_module_version": "1.2.0",
      "model_name": "LayoutModel",
      "state": {}
     },
     "b217ece0a4914120a471cc189215367c": {
      "model_module": "@jupyter-widgets/controls",
      "model_module_version": "1.5.0",
      "model_name": "TextareaModel",
      "state": {
       "description": "Code:",
       "layout": "IPY_MODEL_b90efcb7c39a443fa6ae27baae8bb547",
       "placeholder": "Type code here",
       "style": "IPY_MODEL_b5049b83c4764bdeac5bb6fc5dd84029",
       "value": "print('hello there')"
      }
     },
     "b219ea32380f4c539d0f34fa695561a8": {
      "model_module": "@jupyter-widgets/base",
      "model_module_version": "1.2.0",
      "model_name": "LayoutModel",
      "state": {}
     },
     "b269c3b692f84b85b98363f41482faaf": {
      "model_module": "@jupyter-widgets/base",
      "model_module_version": "1.2.0",
      "model_name": "LayoutModel",
      "state": {
       "width": "5%"
      }
     },
     "b26dd91a17494c7da1b9a15d53b22ce5": {
      "model_module": "@jupyter-widgets/controls",
      "model_module_version": "1.5.0",
      "model_name": "DescriptionStyleModel",
      "state": {
       "description_width": ""
      }
     },
     "b27ca71261a34912bbbcbec49b48ca42": {
      "model_module": "@jupyter-widgets/controls",
      "model_module_version": "1.5.0",
      "model_name": "DescriptionStyleModel",
      "state": {
       "description_width": ""
      }
     },
     "b27cb6192efc40dbae72e66447a714ef": {
      "model_module": "@jupyter-widgets/base",
      "model_module_version": "1.2.0",
      "model_name": "LayoutModel",
      "state": {
       "width": "90%"
      }
     },
     "b27f12d3e4fc4184b62402d93b6cfcdc": {
      "model_module": "@jupyter-widgets/controls",
      "model_module_version": "1.5.0",
      "model_name": "HBoxModel",
      "state": {
       "children": [
        "IPY_MODEL_f3d2346951d14153a872527e4816e7ef",
        "IPY_MODEL_100f3bf3d94b4fef9e9942a1e83e458d"
       ],
       "layout": "IPY_MODEL_9b40e449f3894d218d55c978de5c4cbe"
      }
     },
     "b2adc5bb5b3a43fab176aa16d144b85c": {
      "model_module": "@jupyter-widgets/base",
      "model_module_version": "1.2.0",
      "model_name": "LayoutModel",
      "state": {}
     },
     "b2b346f3a00d42f6b78518fb047400ef": {
      "model_module": "@jupyter-widgets/base",
      "model_module_version": "1.2.0",
      "model_name": "LayoutModel",
      "state": {}
     },
     "b2c3cf09000445c792f4d7ede3b3d00f": {
      "model_module": "@jupyter-widgets/controls",
      "model_module_version": "1.5.0",
      "model_name": "LabelModel",
      "state": {
       "layout": "IPY_MODEL_683cd8895af2482782949dfc8206c3a7",
       "style": "IPY_MODEL_c3bf3a2c08234f7690727842a937fe6a"
      }
     },
     "b2c71ffab2cd422e9f05d15cf526da19": {
      "model_module": "@jupyter-widgets/base",
      "model_module_version": "1.2.0",
      "model_name": "LayoutModel",
      "state": {}
     },
     "b2e7bff9a69d463a81b16699a4e4e1fa": {
      "model_module": "@jupyter-widgets/base",
      "model_module_version": "1.2.0",
      "model_name": "LayoutModel",
      "state": {}
     },
     "b2ecef400ca24d93961f775a5d52fa61": {
      "model_module": "@jupyter-widgets/controls",
      "model_module_version": "1.5.0",
      "model_name": "HBoxModel",
      "state": {
       "children": [
        "IPY_MODEL_cf13c8c03fa844ab93d17bd20c1d308a",
        "IPY_MODEL_d3f1c12eb353492c8232359664e3e273"
       ],
       "layout": "IPY_MODEL_b2f87495638a4c55984c679161c2b85a"
      }
     },
     "b2f109be656b4f2398d658d56c3e6d07": {
      "model_module": "@jupyter-widgets/controls",
      "model_module_version": "1.5.0",
      "model_name": "LabelModel",
      "state": {
       "layout": "IPY_MODEL_5219a07b89a04ef1bbb563c9909dd335",
       "style": "IPY_MODEL_0e38b85964664d29905ad014fcf56e45"
      }
     },
     "b2f87495638a4c55984c679161c2b85a": {
      "model_module": "@jupyter-widgets/base",
      "model_module_version": "1.2.0",
      "model_name": "LayoutModel",
      "state": {}
     },
     "b2fa8192d89a4829b5c22de1c05a7e31": {
      "model_module": "@jupyter-widgets/base",
      "model_module_version": "1.2.0",
      "model_name": "LayoutModel",
      "state": {}
     },
     "b30b600cf52d426aa73f352ea50439e2": {
      "model_module": "@jupyter-widgets/base",
      "model_module_version": "1.2.0",
      "model_name": "LayoutModel",
      "state": {}
     },
     "b30fbdee83a94dea84c250ba604c6feb": {
      "model_module": "@jupyter-widgets/base",
      "model_module_version": "1.2.0",
      "model_name": "LayoutModel",
      "state": {}
     },
     "b31ec63f0ab94fd484e08537f1815010": {
      "model_module": "@jupyter-widgets/base",
      "model_module_version": "1.2.0",
      "model_name": "LayoutModel",
      "state": {}
     },
     "b34cbb579907485abb2ab26a4f04424e": {
      "model_module": "@jupyter-widgets/controls",
      "model_module_version": "1.5.0",
      "model_name": "TextareaModel",
      "state": {
       "description": "Code:",
       "layout": "IPY_MODEL_158c05dd3b9a4a72bc13399f920653cd",
       "placeholder": "Type code here",
       "style": "IPY_MODEL_dfa841d0f0124846ba0c7ccfc4aba012",
       "value": "plt.plot(range(0,10))"
      }
     },
     "b366fd8c10e94cbfb5765f9a541db053": {
      "model_module": "@jupyter-widgets/controls",
      "model_module_version": "1.5.0",
      "model_name": "HBoxModel",
      "state": {
       "children": [
        "IPY_MODEL_644fe8f266d84a07a230ee54465ee32a",
        "IPY_MODEL_d7ddd7467a5049f9a95a0888d43df9bc"
       ],
       "layout": "IPY_MODEL_103753027a174d0590e9ff73fc4cce4e"
      }
     },
     "b37b6b2d43bd4250bd2e397096ccd8b0": {
      "model_module": "@jupyter-widgets/base",
      "model_module_version": "1.2.0",
      "model_name": "LayoutModel",
      "state": {}
     },
     "b39be5246a374a7c8f5da486f766f512": {
      "model_module": "@jupyter-widgets/controls",
      "model_module_version": "1.5.0",
      "model_name": "DescriptionStyleModel",
      "state": {
       "description_width": ""
      }
     },
     "b3b139a4e0d74ccd98e2a0d9808b9d54": {
      "model_module": "@jupyter-widgets/controls",
      "model_module_version": "1.5.0",
      "model_name": "DescriptionStyleModel",
      "state": {
       "description_width": ""
      }
     },
     "b3c19bfe4608482587e96adbf772090d": {
      "model_module": "@jupyter-widgets/controls",
      "model_module_version": "1.5.0",
      "model_name": "VBoxModel",
      "state": {
       "children": [
        "IPY_MODEL_2b28af279eb34557ba3435ea349aa423",
        "IPY_MODEL_0702d06eff4844ad987ad33aaa5f33a1"
       ],
       "layout": "IPY_MODEL_ca05951f8ec64a17b723bfff4b6faaf3"
      }
     },
     "b409839855274e3ca1d1969a17c907d3": {
      "model_module": "@jupyter-widgets/controls",
      "model_module_version": "1.5.0",
      "model_name": "HBoxModel",
      "state": {
       "children": [
        "IPY_MODEL_0f86a3606471481b8cede6cfde625ea1",
        "IPY_MODEL_ce3ac25991a943a387e6f378ad1685fe"
       ],
       "layout": "IPY_MODEL_0f8adea1e42c4469b6c51a3249052975"
      }
     },
     "b40e34bdf4c84133a419cf23270ca430": {
      "model_module": "@jupyter-widgets/base",
      "model_module_version": "1.2.0",
      "model_name": "LayoutModel",
      "state": {
       "width": "90%"
      }
     },
     "b411f6d3e85b4037b00100feca062f06": {
      "model_module": "@jupyter-widgets/controls",
      "model_module_version": "1.5.0",
      "model_name": "RadioButtonsModel",
      "state": {
       "_options_labels": [
        "a. The electric field",
        "b. The charge density",
        "c. The current density",
        "d. Both b and c"
       ],
       "index": 0,
       "layout": "IPY_MODEL_f958a14a1e7a4fc4966863e5b4b89d93",
       "style": "IPY_MODEL_568f430663354ad5b39cc07d415d461c"
      }
     },
     "b420b7945d5645ecbf36fe3086038cc8": {
      "model_module": "@jupyter-widgets/controls",
      "model_module_version": "1.5.0",
      "model_name": "HBoxModel",
      "state": {
       "children": [
        "IPY_MODEL_acfe7ed108a245f58ce095d10b827033",
        "IPY_MODEL_525d3a5b413945b088ebd632d5e36b98"
       ],
       "layout": "IPY_MODEL_a893bf1b53024131b56d16efd5472aa4"
      }
     },
     "b43c55e9b0624f739286f3154d8b1b48": {
      "model_module": "@jupyter-widgets/controls",
      "model_module_version": "1.5.0",
      "model_name": "HBoxModel",
      "state": {
       "children": [
        "IPY_MODEL_d8a48e835e0e49f5935c3603745a2780",
        "IPY_MODEL_a9d06d38e17041128472d21db11f5789"
       ],
       "layout": "IPY_MODEL_5fa685fdb6d44e7e8a9111c5b342cfa7"
      }
     },
     "b483fb88b660404f9e6db2bf464cff17": {
      "model_module": "@jupyter-widgets/controls",
      "model_module_version": "1.5.0",
      "model_name": "DescriptionStyleModel",
      "state": {
       "description_width": ""
      }
     },
     "b4851d3f11c44c569d72080c0fbaa6b8": {
      "model_module": "@jupyter-widgets/controls",
      "model_module_version": "1.5.0",
      "model_name": "RadioButtonsModel",
      "state": {
       "_options_labels": [
        "a. Stabilize (prolong) induced polarizations",
        "b. Cause more rapid decay of the induced polarization",
        "c. Increase the magnitude of the induced polarization",
        "d. Waste money"
       ],
       "index": 0,
       "layout": "IPY_MODEL_c8ab7906c7b2440392a5ecb0acfcb857",
       "style": "IPY_MODEL_a4aa40cf7d6142819a1708506fdb7b92"
      }
     },
     "b49e7a17ff0c4786bb475415d6fd69bb": {
      "model_module": "@jupyter-widgets/base",
      "model_module_version": "1.2.0",
      "model_name": "LayoutModel",
      "state": {
       "width": "5%"
      }
     },
     "b4be92f34ca7496ea12dd6043e69cc61": {
      "model_module": "@jupyter-widgets/controls",
      "model_module_version": "1.5.0",
      "model_name": "ButtonStyleModel",
      "state": {}
     },
     "b4c1d733a1984041bdfb13a6f13303ac": {
      "model_module": "@jupyter-widgets/base",
      "model_module_version": "1.2.0",
      "model_name": "LayoutModel",
      "state": {}
     },
     "b4d50e0c1e34437781d6547242cfe008": {
      "model_module": "@jupyter-widgets/controls",
      "model_module_version": "1.5.0",
      "model_name": "HBoxModel",
      "state": {
       "children": [
        "IPY_MODEL_4d012971e493400a9cff04791ebddf34",
        "IPY_MODEL_d34cd56d34a342139ddc8294d200cc8d"
       ],
       "layout": "IPY_MODEL_c4b2d74dbd9c42db9fb56c27f8332cc9"
      }
     },
     "b4dc3a29579348e5b64adbbc107163e1": {
      "model_module": "@jupyter-widgets/controls",
      "model_module_version": "1.5.0",
      "model_name": "DescriptionStyleModel",
      "state": {
       "description_width": ""
      }
     },
     "b4e396eb29c54054ac8fc41fda69e2d4": {
      "model_module": "@jupyter-widgets/controls",
      "model_module_version": "1.5.0",
      "model_name": "DescriptionStyleModel",
      "state": {
       "description_width": ""
      }
     },
     "b4ee9abab3f0463eac62b63758fafd2d": {
      "model_module": "@jupyter-widgets/controls",
      "model_module_version": "1.5.0",
      "model_name": "RadioButtonsModel",
      "state": {
       "_options_labels": [
        "a. Diverges",
        "b. Converges",
        "c. Implodes",
        "d. Extrapolates"
       ],
       "index": 0,
       "layout": "IPY_MODEL_83c4b30e4f6a45b6a48a0921c01292ae",
       "style": "IPY_MODEL_1b048eed985f42b6929471a9e6b21416"
      }
     },
     "b4f4e241ace946cc9205f850bd6f0f1b": {
      "model_module": "@jupyter-widgets/controls",
      "model_module_version": "1.5.0",
      "model_name": "HBoxModel",
      "state": {
       "children": [
        "IPY_MODEL_da6defa7373a4744a48f47bfa89cd9c6",
        "IPY_MODEL_27c027f87c1d404092564f5d8dab9692"
       ],
       "layout": "IPY_MODEL_a8d7d84d80b14cf88c67b7610ffbca90"
      }
     },
     "b5049b83c4764bdeac5bb6fc5dd84029": {
      "model_module": "@jupyter-widgets/controls",
      "model_module_version": "1.5.0",
      "model_name": "DescriptionStyleModel",
      "state": {
       "description_width": ""
      }
     },
     "b505df4aa6b74b96b7a7953e78a7d1aa": {
      "model_module": "@jupyter-widgets/base",
      "model_module_version": "1.2.0",
      "model_name": "LayoutModel",
      "state": {}
     },
     "b50bece88ef44534a50eeaf092778acf": {
      "model_module": "@jupyter-widgets/controls",
      "model_module_version": "1.5.0",
      "model_name": "HBoxModel",
      "state": {
       "children": [
        "IPY_MODEL_56c3eedd9de542e29b6187a3f835ddce",
        "IPY_MODEL_e6ad09d44c994625a589190435c14cec"
       ],
       "layout": "IPY_MODEL_2eacd95ab4c0412d90d348d2ad2ea30c"
      }
     },
     "b521398d8533451888533b7159487407": {
      "model_module": "@jupyter-widgets/controls",
      "model_module_version": "1.5.0",
      "model_name": "LabelModel",
      "state": {
       "layout": "IPY_MODEL_10c1a705cf3749c5a12c573c65f31e9b",
       "style": "IPY_MODEL_78942631adad42b7a54a76954604e2e7"
      }
     },
     "b52b7697739e4870bf5245061ef39074": {
      "model_module": "@jupyter-widgets/base",
      "model_module_version": "1.2.0",
      "model_name": "LayoutModel",
      "state": {
       "width": "5%"
      }
     },
     "b530a27c1c2f49cc88fb0ed5a7ca9cf7": {
      "model_module": "@jupyter-widgets/controls",
      "model_module_version": "1.5.0",
      "model_name": "DescriptionStyleModel",
      "state": {
       "description_width": ""
      }
     },
     "b531a0546f834059a22f936e698c7659": {
      "model_module": "@jupyter-widgets/controls",
      "model_module_version": "1.5.0",
      "model_name": "DescriptionStyleModel",
      "state": {
       "description_width": ""
      }
     },
     "b5416acdfc074fde968ae14234b33651": {
      "model_module": "@jupyter-widgets/base",
      "model_module_version": "1.2.0",
      "model_name": "LayoutModel",
      "state": {
       "width": "5%"
      }
     },
     "b542af2aa1144ff398a6cda2179c31bb": {
      "model_module": "@jupyter-widgets/base",
      "model_module_version": "1.2.0",
      "model_name": "LayoutModel",
      "state": {}
     },
     "b5483b54fde44480bfeb0cb928d3f1a5": {
      "model_module": "@jupyter-widgets/base",
      "model_module_version": "1.2.0",
      "model_name": "LayoutModel",
      "state": {
       "width": "90%"
      }
     },
     "b5528a1fa625478e984d325a240e99a8": {
      "model_module": "@jupyter-widgets/controls",
      "model_module_version": "1.5.0",
      "model_name": "HBoxModel",
      "state": {
       "children": [
        "IPY_MODEL_18892c083d1c42e3974cb8a670dd8b10",
        "IPY_MODEL_3e8e37a9274c4f79958d97dcd62bc8d3"
       ],
       "layout": "IPY_MODEL_27289fb71c4842e39317cdbb29a4f4a6"
      }
     },
     "b573b86c7bcc425e9c6488c57a83c225": {
      "model_module": "@jupyter-widgets/controls",
      "model_module_version": "1.5.0",
      "model_name": "LabelModel",
      "state": {
       "layout": "IPY_MODEL_230e71178739456c85965bce792718b0",
       "style": "IPY_MODEL_2bccb28af367420cafd405c485e91120"
      }
     },
     "b5794cbdcd164f94b85c01b12ce5e081": {
      "model_module": "@jupyter-widgets/controls",
      "model_module_version": "1.5.0",
      "model_name": "HBoxModel",
      "state": {
       "children": [
        "IPY_MODEL_32741e06f80e47b0a7c9b0213574cb18",
        "IPY_MODEL_e75acb0230fd468bb760a7d7e0cd6e4a"
       ],
       "layout": "IPY_MODEL_4f220c08a4894105a301aae1794ba107"
      }
     },
     "b5fe748e91014a3ab0338c01b1a6c3e0": {
      "model_module": "@jupyter-widgets/controls",
      "model_module_version": "1.5.0",
      "model_name": "LabelModel",
      "state": {
       "layout": "IPY_MODEL_97c4745dc1864155a40693d013c444c1",
       "style": "IPY_MODEL_383b9401829844519897bebbc23ed505"
      }
     },
     "b602d0db8e9740e69a2e045e6a6c9652": {
      "model_module": "@jupyter-widgets/controls",
      "model_module_version": "1.5.0",
      "model_name": "TextareaModel",
      "state": {
       "description": "String:",
       "layout": "IPY_MODEL_ed9642e5c87647a3a536267b697d8021",
       "placeholder": "Type something",
       "style": "IPY_MODEL_dbbd27c5c03a4f589d8b131b592d1fab"
      }
     },
     "b62076cd638d4522988ffa99b6f1e919": {
      "model_module": "@jupyter-widgets/base",
      "model_module_version": "1.2.0",
      "model_name": "LayoutModel",
      "state": {
       "width": "90%"
      }
     },
     "b642941ead84407698b5d22b9917b1b8": {
      "model_module": "@jupyter-widgets/controls",
      "model_module_version": "1.5.0",
      "model_name": "DescriptionStyleModel",
      "state": {
       "description_width": ""
      }
     },
     "b6952e19ab7e466389ac6fb6ae1df172": {
      "model_module": "@jupyter-widgets/controls",
      "model_module_version": "1.5.0",
      "model_name": "HBoxModel",
      "state": {
       "children": [
        "IPY_MODEL_dc06ad3a1ca448beb0163552a1b585b3",
        "IPY_MODEL_a8187b42a9234de986c5b32ac2870779"
       ],
       "layout": "IPY_MODEL_a5aa3ce349f245e3acc2f68a8ffd30bc"
      }
     },
     "b699bb391c1b40ac99786629528f255c": {
      "model_module": "@jupyter-widgets/controls",
      "model_module_version": "1.5.0",
      "model_name": "VBoxModel",
      "state": {
       "children": [
        "IPY_MODEL_0d498ec52aaa430892a92b955c7c6f0d",
        "IPY_MODEL_addbde89b11f449497da2c42b66b20a9"
       ],
       "layout": "IPY_MODEL_cb857a535c3b4652a914ca392c140bea"
      }
     },
     "b6a50f51990d45999315fafe66427bd4": {
      "model_module": "@jupyter-widgets/base",
      "model_module_version": "1.2.0",
      "model_name": "LayoutModel",
      "state": {
       "width": "90%"
      }
     },
     "b6d124520c564877994a3075be673b39": {
      "model_module": "@jupyter-widgets/controls",
      "model_module_version": "1.5.0",
      "model_name": "ButtonStyleModel",
      "state": {}
     },
     "b6e40e854ff94198845e78b5305c1331": {
      "model_module": "@jupyter-widgets/base",
      "model_module_version": "1.2.0",
      "model_name": "LayoutModel",
      "state": {
       "width": "90%"
      }
     },
     "b7569efec6814afca7f2d49fe39fbbdb": {
      "model_module": "@jupyter-widgets/base",
      "model_module_version": "1.2.0",
      "model_name": "LayoutModel",
      "state": {
       "width": "90%"
      }
     },
     "b762565a16f9489e9c3b3c547556b09a": {
      "model_module": "@jupyter-widgets/base",
      "model_module_version": "1.2.0",
      "model_name": "LayoutModel",
      "state": {}
     },
     "b7626ad8673c48e8bc89b751e2bc7b02": {
      "model_module": "@jupyter-widgets/base",
      "model_module_version": "1.2.0",
      "model_name": "LayoutModel",
      "state": {
       "width": "5%"
      }
     },
     "b7683f04d94c402bab5374dba1ac62cb": {
      "model_module": "@jupyter-widgets/controls",
      "model_module_version": "1.5.0",
      "model_name": "ButtonModel",
      "state": {
       "description": "Review Answers",
       "layout": "IPY_MODEL_3eb61c28c7964971afce2f26eb0a91cb",
       "style": "IPY_MODEL_3ebe3511caf64a8cbb8745c2cb4da354",
       "tooltip": "Click to review answers"
      }
     },
     "b7796e78e2bc40ae896ec20a524272be": {
      "model_module": "@jupyter-widgets/base",
      "model_module_version": "1.2.0",
      "model_name": "LayoutModel",
      "state": {}
     },
     "b7a23376595540b28ca57a66c4128d23": {
      "model_module": "@jupyter-widgets/controls",
      "model_module_version": "1.5.0",
      "model_name": "LabelModel",
      "state": {
       "layout": "IPY_MODEL_9e304f5f0dcd46cb819c85ef6c854b8d",
       "style": "IPY_MODEL_92ce288eaec84a3190350aa2cc01f632"
      }
     },
     "b7ad783121714fc9a2de574244148086": {
      "model_module": "@jupyter-widgets/controls",
      "model_module_version": "1.5.0",
      "model_name": "HBoxModel",
      "state": {
       "children": [
        "IPY_MODEL_0ba02ed2b64646528ab0d13de0c2bea0",
        "IPY_MODEL_d7fc1a1d39654228b342c0cdd8da11ce"
       ],
       "layout": "IPY_MODEL_bdcd101b2f314770b314bc7ef3735699"
      }
     },
     "b7b97244dac644f291a3a95a73b5609d": {
      "model_module": "@jupyter-widgets/controls",
      "model_module_version": "1.5.0",
      "model_name": "DescriptionStyleModel",
      "state": {
       "description_width": ""
      }
     },
     "b7ce1e95b17d4cad8078513e65c4a8d4": {
      "model_module": "@jupyter-widgets/controls",
      "model_module_version": "1.5.0",
      "model_name": "DescriptionStyleModel",
      "state": {
       "description_width": ""
      }
     },
     "b7ef77541982496fa23bacbcf12c6c9a": {
      "model_module": "@jupyter-widgets/controls",
      "model_module_version": "1.5.0",
      "model_name": "VBoxModel",
      "state": {
       "children": [
        "IPY_MODEL_0498522cb9af4f85a29835703e86c555",
        "IPY_MODEL_fa0786515f234de8a49d2049ff822243"
       ],
       "layout": "IPY_MODEL_4d8ee0ed41464e5bb27812ce7300a82d"
      }
     },
     "b7f74d0e73964001ad6efa3791e1da12": {
      "model_module": "@jupyter-widgets/controls",
      "model_module_version": "1.5.0",
      "model_name": "LabelModel",
      "state": {
       "layout": "IPY_MODEL_b9ceba37e1ca4a6c9872743a4c52a6f7",
       "style": "IPY_MODEL_60cacd068abb47aa95da8600b2ba2002"
      }
     },
     "b81c8be7d5ab4c86aa6e950b6f824644": {
      "model_module": "@jupyter-widgets/controls",
      "model_module_version": "1.5.0",
      "model_name": "RadioButtonsModel",
      "state": {
       "_options_labels": [
        "True",
        "False"
       ],
       "index": 0,
       "layout": "IPY_MODEL_fdb38f66555d49b5b2f26c5d02828e02",
       "style": "IPY_MODEL_c17d74ed600f45f5a1e8953ea53a6fe2"
      }
     },
     "b8847c598a0d4b23aeaf118ba9232ff7": {
      "model_module": "@jupyter-widgets/controls",
      "model_module_version": "1.5.0",
      "model_name": "TextareaModel",
      "state": {
       "description": "String:",
       "layout": "IPY_MODEL_a78b04bce0ca431ebd8c88827e3db9a7",
       "placeholder": "Type something",
       "style": "IPY_MODEL_c6c980313aed44afb478897dc3e86430"
      }
     },
     "b8c3e2a8dc2244b89581b8a7ac2d3892": {
      "model_module": "@jupyter-widgets/controls",
      "model_module_version": "1.5.0",
      "model_name": "DescriptionStyleModel",
      "state": {
       "description_width": ""
      }
     },
     "b8d481d30cd543b996bedf33be10f271": {
      "model_module": "@jupyter-widgets/base",
      "model_module_version": "1.2.0",
      "model_name": "LayoutModel",
      "state": {}
     },
     "b8db3acb368548a39d87d776c8eb732e": {
      "model_module": "@jupyter-widgets/base",
      "model_module_version": "1.2.0",
      "model_name": "LayoutModel",
      "state": {}
     },
     "b8ebb298aebc456ebb7b4333d3dfa8bb": {
      "model_module": "@jupyter-widgets/controls",
      "model_module_version": "1.5.0",
      "model_name": "HBoxModel",
      "state": {
       "children": [
        "IPY_MODEL_e1b4543ac3834a6e9980bd21a3788c75",
        "IPY_MODEL_7f5a938075b849b6b1d3871e60ea84c1"
       ],
       "layout": "IPY_MODEL_94f43d4de7a942e5822e648fc6574308"
      }
     },
     "b9019fedfb744540873196a4fdb48d3e": {
      "model_module": "@jupyter-widgets/controls",
      "model_module_version": "1.5.0",
      "model_name": "DescriptionStyleModel",
      "state": {
       "description_width": ""
      }
     },
     "b90efcb7c39a443fa6ae27baae8bb547": {
      "model_module": "@jupyter-widgets/base",
      "model_module_version": "1.2.0",
      "model_name": "LayoutModel",
      "state": {
       "width": "90%"
      }
     },
     "b91c3a3ae66c494ebb642848806f25cb": {
      "model_module": "@jupyter-widgets/controls",
      "model_module_version": "1.5.0",
      "model_name": "DescriptionStyleModel",
      "state": {
       "description_width": ""
      }
     },
     "b92036d130a241d08e327657872117bb": {
      "model_module": "@jupyter-widgets/controls",
      "model_module_version": "1.5.0",
      "model_name": "DescriptionStyleModel",
      "state": {
       "description_width": ""
      }
     },
     "b9463b26194942a2b0a72c50521a69b4": {
      "model_module": "@jupyter-widgets/base",
      "model_module_version": "1.2.0",
      "model_name": "LayoutModel",
      "state": {
       "width": "5%"
      }
     },
     "b948a80627aa4ab9910eb776c856f9be": {
      "model_module": "@jupyter-widgets/base",
      "model_module_version": "1.2.0",
      "model_name": "LayoutModel",
      "state": {}
     },
     "b9536f02d6364f5bad4837255d94ccdc": {
      "model_module": "@jupyter-widgets/base",
      "model_module_version": "1.2.0",
      "model_name": "LayoutModel",
      "state": {
       "width": "90%"
      }
     },
     "b95d9599362441f58cfcbade30089537": {
      "model_module": "@jupyter-widgets/controls",
      "model_module_version": "1.5.0",
      "model_name": "HBoxModel",
      "state": {
       "children": [
        "IPY_MODEL_54d231ba99a44d5d9f51e389280e979a",
        "IPY_MODEL_e6f6a573b373441da4fd3639b3745cc4"
       ],
       "layout": "IPY_MODEL_0429437e989841f3b435b97923629e9f"
      }
     },
     "b95ea88fa3144f72a598183663906de9": {
      "model_module": "@jupyter-widgets/base",
      "model_module_version": "1.2.0",
      "model_name": "LayoutModel",
      "state": {
       "width": "90%"
      }
     },
     "b978d6b01dfe4cb0941c0c80b32fab1c": {
      "model_module": "@jupyter-widgets/controls",
      "model_module_version": "1.5.0",
      "model_name": "TextareaModel",
      "state": {
       "description": "Code:",
       "layout": "IPY_MODEL_47fd2d806b854765b6fe8800de8010c1",
       "placeholder": "Type code here",
       "style": "IPY_MODEL_0b4319b60b02492d972a4b12985ea1a8",
       "value": "for n in range(0,10):\n  print(n)"
      }
     },
     "b980a8cf5f04490bb162a2934a03f2eb": {
      "model_module": "@jupyter-widgets/controls",
      "model_module_version": "1.5.0",
      "model_name": "LabelModel",
      "state": {
       "layout": "IPY_MODEL_4a6e510e320547b99d97ca4cf68a865f",
       "style": "IPY_MODEL_7b075e8916a24ebc9bbd8467e1061092"
      }
     },
     "b9867eefeda7405e9c4f6fc57f7126aa": {
      "model_module": "@jupyter-widgets/controls",
      "model_module_version": "1.5.0",
      "model_name": "TextareaModel",
      "state": {
       "description": "Answer:",
       "layout": "IPY_MODEL_af616b0343b144449fca2fc50472c567",
       "placeholder": "Type something",
       "style": "IPY_MODEL_1574f47a838d458699d4e90458108b81"
      }
     },
     "b98a5f1790724118a9ef3b13ec855c65": {
      "model_module": "@jupyter-widgets/controls",
      "model_module_version": "1.5.0",
      "model_name": "LabelModel",
      "state": {
       "layout": "IPY_MODEL_4495736abf434601903e877943f17eee",
       "style": "IPY_MODEL_93c60ad0989448ee8fa260a159910840"
      }
     },
     "b9c6e1db8fd045169b03f3217f55ddd2": {
      "model_module": "@jupyter-widgets/base",
      "model_module_version": "1.2.0",
      "model_name": "LayoutModel",
      "state": {
       "width": "90%"
      }
     },
     "b9ceba37e1ca4a6c9872743a4c52a6f7": {
      "model_module": "@jupyter-widgets/base",
      "model_module_version": "1.2.0",
      "model_name": "LayoutModel",
      "state": {
       "width": "5%"
      }
     },
     "b9d0583a9740436196f31f8f63288558": {
      "model_module": "@jupyter-widgets/base",
      "model_module_version": "1.2.0",
      "model_name": "LayoutModel",
      "state": {
       "width": "90%"
      }
     },
     "b9ec2d12db6a4cdba08f0795c43ea7f0": {
      "model_module": "@jupyter-widgets/base",
      "model_module_version": "1.2.0",
      "model_name": "LayoutModel",
      "state": {}
     },
     "b9f719fecf9049bdb5ea96d9c5cee2f1": {
      "model_module": "@jupyter-widgets/controls",
      "model_module_version": "1.5.0",
      "model_name": "HBoxModel",
      "state": {
       "children": [
        "IPY_MODEL_643084ca34c94689a559d2f2789fc4b0",
        "IPY_MODEL_f2924502b9a342368cdcc6f80cb63002"
       ],
       "layout": "IPY_MODEL_e937a88c8f0043ce99cc6c1e40805deb"
      }
     },
     "b9f9dba187fb401aad8251368a057155": {
      "model_module": "@jupyter-widgets/base",
      "model_module_version": "1.2.0",
      "model_name": "LayoutModel",
      "state": {
       "width": "90%"
      }
     },
     "ba1075f689794ec18fdd27c0784d2667": {
      "model_module": "@jupyter-widgets/controls",
      "model_module_version": "1.5.0",
      "model_name": "DescriptionStyleModel",
      "state": {
       "description_width": ""
      }
     },
     "ba126f74b2ec420eba025b0ba36c2c54": {
      "model_module": "@jupyter-widgets/base",
      "model_module_version": "1.2.0",
      "model_name": "LayoutModel",
      "state": {}
     },
     "ba24def15afb4f76ab5a7d97bfe4c08d": {
      "model_module": "@jupyter-widgets/base",
      "model_module_version": "1.2.0",
      "model_name": "LayoutModel",
      "state": {}
     },
     "ba255bfabccc45629d2e653167687427": {
      "model_module": "@jupyter-widgets/controls",
      "model_module_version": "1.5.0",
      "model_name": "DescriptionStyleModel",
      "state": {
       "description_width": ""
      }
     },
     "ba36cea09f5345888f4414fe35abbe97": {
      "model_module": "@jupyter-widgets/controls",
      "model_module_version": "1.5.0",
      "model_name": "LabelModel",
      "state": {
       "layout": "IPY_MODEL_5c574f0cf7324f419e87c329aa0af62e",
       "style": "IPY_MODEL_3d82dd328ce64d5ab9217a3127bdf33c"
      }
     },
     "ba41a82c14554528baf8dbfe926d80df": {
      "model_module": "@jupyter-widgets/output",
      "model_module_version": "1.0.0",
      "model_name": "OutputModel",
      "state": {
       "layout": "IPY_MODEL_3add4760bb7b452f95bbc8b34de73b4c",
       "outputs": [
        {
         "name": "stdout",
         "output_type": "stream",
         "text": "The output works\nfor n in range(0, 10):\n  print(n)\n"
        }
       ]
      }
     },
     "ba41ee07c8bd414599899e0f755f88ef": {
      "model_module": "@jupyter-widgets/base",
      "model_module_version": "1.2.0",
      "model_name": "LayoutModel",
      "state": {
       "width": "5%"
      }
     },
     "ba436e5197df4b868f908fff54e4a7c5": {
      "model_module": "@jupyter-widgets/controls",
      "model_module_version": "1.5.0",
      "model_name": "DescriptionStyleModel",
      "state": {
       "description_width": ""
      }
     },
     "ba60b4c9dea540f48f8d300ebc09bbca": {
      "model_module": "@jupyter-widgets/controls",
      "model_module_version": "1.5.0",
      "model_name": "ButtonStyleModel",
      "state": {}
     },
     "ba85beb20a914f41afb5d91cb8ea039e": {
      "model_module": "@jupyter-widgets/base",
      "model_module_version": "1.2.0",
      "model_name": "LayoutModel",
      "state": {
       "width": "5%"
      }
     },
     "ba895984b1be48d7b23aa2a3261bb17d": {
      "model_module": "@jupyter-widgets/controls",
      "model_module_version": "1.5.0",
      "model_name": "TextareaModel",
      "state": {
       "description": "Code:",
       "layout": "IPY_MODEL_3bbf1db854414e89a63575d47f6d746f",
       "placeholder": "Type code here",
       "style": "IPY_MODEL_4704fd852e6848fa9a366babb3ba1652"
      }
     },
     "baa6b6cea50c48e7a8db9c0e4d995c01": {
      "model_module": "@jupyter-widgets/base",
      "model_module_version": "1.2.0",
      "model_name": "LayoutModel",
      "state": {}
     },
     "bae2226361524755b5e03e683daf2790": {
      "model_module": "@jupyter-widgets/controls",
      "model_module_version": "1.5.0",
      "model_name": "DescriptionStyleModel",
      "state": {
       "description_width": ""
      }
     },
     "bae9db7238bf4212904f391062fce88f": {
      "model_module": "@jupyter-widgets/controls",
      "model_module_version": "1.5.0",
      "model_name": "DescriptionStyleModel",
      "state": {
       "description_width": ""
      }
     },
     "baeb626baab24a479bb168507555845b": {
      "model_module": "@jupyter-widgets/controls",
      "model_module_version": "1.5.0",
      "model_name": "TextareaModel",
      "state": {
       "description": "String:",
       "layout": "IPY_MODEL_b1905b86ed894e90998ec2e315599c1a",
       "placeholder": "Type something",
       "style": "IPY_MODEL_174a6c5f44ed4c62a21d404a45e0f0aa"
      }
     },
     "baf0338e4cff44fba60a23aee0d77be9": {
      "model_module": "@jupyter-widgets/controls",
      "model_module_version": "1.5.0",
      "model_name": "DescriptionStyleModel",
      "state": {
       "description_width": ""
      }
     },
     "baf5c4e9c4bf41c28cb1e718fb970287": {
      "model_module": "@jupyter-widgets/base",
      "model_module_version": "1.2.0",
      "model_name": "LayoutModel",
      "state": {
       "width": "90%"
      }
     },
     "bb096257662444aba928c67911a12c97": {
      "model_module": "@jupyter-widgets/controls",
      "model_module_version": "1.5.0",
      "model_name": "HBoxModel",
      "state": {
       "children": [
        "IPY_MODEL_8bce387d433741b08369524701e58f3f",
        "IPY_MODEL_db57560b891e43489d5b3385306ffe9d"
       ],
       "layout": "IPY_MODEL_880d753d5f6d482a803bca0f2e4c6c4f"
      }
     },
     "bb0e1eadfebb4f1e999af32215749193": {
      "model_module": "@jupyter-widgets/controls",
      "model_module_version": "1.5.0",
      "model_name": "DescriptionStyleModel",
      "state": {
       "description_width": ""
      }
     },
     "bb2dfc462e644748bc899b402806b35d": {
      "model_module": "@jupyter-widgets/controls",
      "model_module_version": "1.5.0",
      "model_name": "DescriptionStyleModel",
      "state": {
       "description_width": ""
      }
     },
     "bb2e0f085b614ad18162dda5a22ca7d2": {
      "model_module": "@jupyter-widgets/controls",
      "model_module_version": "1.5.0",
      "model_name": "LabelModel",
      "state": {
       "layout": "IPY_MODEL_aeffbfe40f3a4ac986f9a451cc88a8a8",
       "style": "IPY_MODEL_5e4a2be7f875441c8ea7d568591399c0"
      }
     },
     "bb3a1765226e4812b2434c9f09e1b84d": {
      "model_module": "@jupyter-widgets/base",
      "model_module_version": "1.2.0",
      "model_name": "LayoutModel",
      "state": {}
     },
     "bb40acf3c65448e1ac7c8f06345f6a69": {
      "model_module": "@jupyter-widgets/controls",
      "model_module_version": "1.5.0",
      "model_name": "DescriptionStyleModel",
      "state": {
       "description_width": ""
      }
     },
     "bb42171eef904051a9a808fb1659e4c6": {
      "model_module": "@jupyter-widgets/controls",
      "model_module_version": "1.5.0",
      "model_name": "DescriptionStyleModel",
      "state": {
       "description_width": ""
      }
     },
     "bb489d3cdc6346d1975572d9a0698557": {
      "model_module": "@jupyter-widgets/controls",
      "model_module_version": "1.5.0",
      "model_name": "TextareaModel",
      "state": {
       "description": "String:",
       "layout": "IPY_MODEL_5a644e38ecc7487090f08c33a367f0c4",
       "placeholder": "Type something",
       "style": "IPY_MODEL_06f8af0a8aba4039a5f14d2c9c3ad4ba"
      }
     },
     "bb569de13fa0438aa4c3888c8c9cfe69": {
      "model_module": "@jupyter-widgets/controls",
      "model_module_version": "1.5.0",
      "model_name": "DescriptionStyleModel",
      "state": {
       "description_width": ""
      }
     },
     "bb622053f7aa412fb734641f34df9889": {
      "model_module": "@jupyter-widgets/controls",
      "model_module_version": "1.5.0",
      "model_name": "DescriptionStyleModel",
      "state": {
       "description_width": ""
      }
     },
     "bb6d65c007d04dce815ff9256ce25b68": {
      "model_module": "@jupyter-widgets/controls",
      "model_module_version": "1.5.0",
      "model_name": "DescriptionStyleModel",
      "state": {
       "description_width": ""
      }
     },
     "bb7a1fdc5dac4edeaf2d92e2755f7bb7": {
      "model_module": "@jupyter-widgets/base",
      "model_module_version": "1.2.0",
      "model_name": "LayoutModel",
      "state": {
       "width": "90%"
      }
     },
     "bbb3eb8fca6842849ff0906eae4b6be2": {
      "model_module": "@jupyter-widgets/base",
      "model_module_version": "1.2.0",
      "model_name": "LayoutModel",
      "state": {}
     },
     "bbcce003faa846e3a78c14045ade8c39": {
      "model_module": "@jupyter-widgets/controls",
      "model_module_version": "1.5.0",
      "model_name": "HBoxModel",
      "state": {
       "children": [
        "IPY_MODEL_e47cc6ef991a4d14a3c5c25a8ef88fd2",
        "IPY_MODEL_35107219ce8b41b98be8213551ab5170"
       ],
       "layout": "IPY_MODEL_886cde1a1f214dfeabbecacc88219fa7"
      }
     },
     "bc00cfc95ed7430eac7bab2e0cbfb2e1": {
      "model_module": "@jupyter-widgets/controls",
      "model_module_version": "1.5.0",
      "model_name": "LabelModel",
      "state": {
       "layout": "IPY_MODEL_520979970d0141bdbc23b831a9f29f80",
       "style": "IPY_MODEL_ef13b9ca4a5f4224aaf43a348169d46e"
      }
     },
     "bc12aeedaf7e4da6a641e83838ebde00": {
      "model_module": "@jupyter-widgets/controls",
      "model_module_version": "1.5.0",
      "model_name": "TextareaModel",
      "state": {
       "description": "Answer:",
       "layout": "IPY_MODEL_da72e2257fa0459789e79b6d44ea9f3d",
       "placeholder": "Type something",
       "style": "IPY_MODEL_b531a0546f834059a22f936e698c7659"
      }
     },
     "bc1bd4cae96442a3b619d2688bf80b4d": {
      "model_module": "@jupyter-widgets/controls",
      "model_module_version": "1.5.0",
      "model_name": "DescriptionStyleModel",
      "state": {
       "description_width": ""
      }
     },
     "bc1cf64c93d84ac3b24db862df9ddcb8": {
      "model_module": "@jupyter-widgets/controls",
      "model_module_version": "1.5.0",
      "model_name": "HBoxModel",
      "state": {
       "children": [
        "IPY_MODEL_cfe0ccf37f0d4d2d8fb5186191fc8d96",
        "IPY_MODEL_4a19d3e4cd4c4f0cb2766fcd44ecf956"
       ],
       "layout": "IPY_MODEL_4797462512ed47109b2bd70b823ac9c6"
      }
     },
     "bc383bb6711d428c851494917f9b0ac9": {
      "model_module": "@jupyter-widgets/controls",
      "model_module_version": "1.5.0",
      "model_name": "TextareaModel",
      "state": {
       "description": "String:",
       "layout": "IPY_MODEL_9838ccad17d34bf495462940390e328f",
       "placeholder": "Type code here",
       "style": "IPY_MODEL_b92036d130a241d08e327657872117bb"
      }
     },
     "bc3c09050e2c4dacbdecc5558e2981df": {
      "model_module": "@jupyter-widgets/controls",
      "model_module_version": "1.5.0",
      "model_name": "HBoxModel",
      "state": {
       "children": [
        "IPY_MODEL_d4e03a4434b443db8abf33b3986124fc",
        "IPY_MODEL_ad27ee340ac0494d939bd6edc28b17d0"
       ],
       "layout": "IPY_MODEL_3e8fae2b81a4436e82949730c12231e2"
      }
     },
     "bc44c366a81c48178df35bdf56e384eb": {
      "model_module": "@jupyter-widgets/base",
      "model_module_version": "1.2.0",
      "model_name": "LayoutModel",
      "state": {
       "width": "90%"
      }
     },
     "bc7788ab63364079bfd7cf5f39d2ee55": {
      "model_module": "@jupyter-widgets/base",
      "model_module_version": "1.2.0",
      "model_name": "LayoutModel",
      "state": {}
     },
     "bc7d501b441a44ac9e4675df6bafbb15": {
      "model_module": "@jupyter-widgets/controls",
      "model_module_version": "1.5.0",
      "model_name": "RadioButtonsModel",
      "state": {
       "_options_labels": [
        "a. Temperature",
        "b. Color",
        "c. Mass",
        "d. Charge"
       ],
       "index": 0,
       "layout": "IPY_MODEL_131f94ddae434080961e2e93c5f00673",
       "style": "IPY_MODEL_08cbf48dd35849ff92a73e19eba28632"
      }
     },
     "bc9e124b1df8454f8ebbba573d62e03e": {
      "model_module": "@jupyter-widgets/controls",
      "model_module_version": "1.5.0",
      "model_name": "LabelModel",
      "state": {
       "layout": "IPY_MODEL_893ee1fd7cab45cebc9272b40c62f752",
       "style": "IPY_MODEL_2490f881f912408d8fcb033ad5a9e9cb"
      }
     },
     "bca35732f1c04967932c76b4983c26c9": {
      "model_module": "@jupyter-widgets/base",
      "model_module_version": "1.2.0",
      "model_name": "LayoutModel",
      "state": {}
     },
     "bcab7b5d67dd4a808112d7db16683ff9": {
      "model_module": "@jupyter-widgets/controls",
      "model_module_version": "1.5.0",
      "model_name": "ButtonStyleModel",
      "state": {}
     },
     "bccf301abe1b433d94af5431c82d8e23": {
      "model_module": "@jupyter-widgets/base",
      "model_module_version": "1.2.0",
      "model_name": "LayoutModel",
      "state": {
       "width": "5%"
      }
     },
     "bce0f66fd6dc4024a38c6bdbb20954c3": {
      "model_module": "@jupyter-widgets/controls",
      "model_module_version": "1.5.0",
      "model_name": "ButtonModel",
      "state": {
       "description": "Test Code",
       "layout": "IPY_MODEL_3007a43f7efd4db3b146aa78d9f4376b",
       "style": "IPY_MODEL_3788ecc43c3c49aba5ba322b93cb9266",
       "tooltip": "Click to test your code"
      }
     },
     "bcf5456b088945708ea572a73dfa3ce2": {
      "model_module": "@jupyter-widgets/controls",
      "model_module_version": "1.5.0",
      "model_name": "RadioButtonsModel",
      "state": {
       "_options_labels": [
        "a. The free charge density",
        "b. The polarization density",
        "c. The free charge current",
        "d. The magnetic field"
       ],
       "index": 0,
       "layout": "IPY_MODEL_82bf9f3a8b1e495e8fae2cd4d24050b5",
       "style": "IPY_MODEL_ae059f0ba8e1400fb1275f08e79b0c6b"
      }
     },
     "bcffe78e4b344477a950baa077d62f89": {
      "model_module": "@jupyter-widgets/controls",
      "model_module_version": "1.5.0",
      "model_name": "RadioButtonsModel",
      "state": {
       "_options_labels": [
        "a. Far field",
        "b. Near field",
        "c. Both near field and far field",
        "d. Neither near field nor far field"
       ],
       "index": 0,
       "layout": "IPY_MODEL_fb7af98d0e3f4f7aa399500682b32404",
       "style": "IPY_MODEL_c467a430d06747b3b27963423264e5ee"
      }
     },
     "bd4430a532934e61842708bba9349bbc": {
      "model_module": "@jupyter-widgets/output",
      "model_module_version": "1.0.0",
      "model_name": "OutputModel",
      "state": {
       "layout": "IPY_MODEL_ec428272d66e44cea4318c2bd66d7a1f",
       "outputs": [
        {
         "name": "stdout",
         "output_type": "stream",
         "text": "3\n3\n3\n"
        }
       ]
      }
     },
     "bd6a49b0b0ea42caa60ef0c76063912a": {
      "model_module": "@jupyter-widgets/base",
      "model_module_version": "1.2.0",
      "model_name": "LayoutModel",
      "state": {}
     },
     "bda9c22fb7f345a9b2b8dec45c181c50": {
      "model_module": "@jupyter-widgets/controls",
      "model_module_version": "1.5.0",
      "model_name": "DescriptionStyleModel",
      "state": {
       "description_width": ""
      }
     },
     "bdcc1c3304284f409fa92562619fc7a6": {
      "model_module": "@jupyter-widgets/base",
      "model_module_version": "1.2.0",
      "model_name": "LayoutModel",
      "state": {
       "width": "5%"
      }
     },
     "bdcd101b2f314770b314bc7ef3735699": {
      "model_module": "@jupyter-widgets/base",
      "model_module_version": "1.2.0",
      "model_name": "LayoutModel",
      "state": {}
     },
     "bdd639cb3f564113ba80d6a5b3170734": {
      "model_module": "@jupyter-widgets/controls",
      "model_module_version": "1.5.0",
      "model_name": "LabelModel",
      "state": {
       "layout": "IPY_MODEL_332f7689210f4edfa43d5e68c68d1455",
       "style": "IPY_MODEL_79292e9b119544b8a074b8845124b053"
      }
     },
     "bde1e633bb8945d5af85265235676123": {
      "model_module": "@jupyter-widgets/base",
      "model_module_version": "1.2.0",
      "model_name": "LayoutModel",
      "state": {
       "width": "5%"
      }
     },
     "bde4502dc38b4331b8c01f5b427c0888": {
      "model_module": "@jupyter-widgets/controls",
      "model_module_version": "1.5.0",
      "model_name": "RadioButtonsModel",
      "state": {
       "_options_labels": [
        "a. light and matter",
        "b. time and space",
        "c. dephasing and dissipation",
        "d. linear and nonlinear processes"
       ],
       "index": 0,
       "layout": "IPY_MODEL_18dba10b38cb473a86edf7911d17e199",
       "style": "IPY_MODEL_fd918d3dc58b430f82a9ce113c327948"
      }
     },
     "be06e23a7d73424f91cda4c7afcbe8c7": {
      "model_module": "@jupyter-widgets/base",
      "model_module_version": "1.2.0",
      "model_name": "LayoutModel",
      "state": {}
     },
     "be0891371980438682ebad1d3bbbcace": {
      "model_module": "@jupyter-widgets/controls",
      "model_module_version": "1.5.0",
      "model_name": "ButtonModel",
      "state": {
       "description": "Run Code",
       "layout": "IPY_MODEL_2451f181dcdb4ef489f2a55fd269e180",
       "style": "IPY_MODEL_5f2d8866c42c49a098b733e5835b4914",
       "tooltip": "Click to test your code"
      }
     },
     "be469499c76945069650b1aee205a503": {
      "model_module": "@jupyter-widgets/base",
      "model_module_version": "1.2.0",
      "model_name": "LayoutModel",
      "state": {}
     },
     "be5e716dd40d4d7da03ccadc90674d6a": {
      "model_module": "@jupyter-widgets/controls",
      "model_module_version": "1.5.0",
      "model_name": "VBoxModel",
      "state": {
       "children": [
        "IPY_MODEL_3b3608a4ee15486c8ca9a9ac130a0859",
        "IPY_MODEL_5acaae872acf497b8333c8f240488a2c"
       ],
       "layout": "IPY_MODEL_152a3304d4784e4d8fef67b9550211ea"
      }
     },
     "bed02cc47ba14d2fba46b6fdda35db0a": {
      "model_module": "@jupyter-widgets/base",
      "model_module_version": "1.2.0",
      "model_name": "LayoutModel",
      "state": {}
     },
     "bed048f9c83848a8a48fc12779923a8c": {
      "model_module": "@jupyter-widgets/controls",
      "model_module_version": "1.5.0",
      "model_name": "DescriptionStyleModel",
      "state": {
       "description_width": ""
      }
     },
     "bee60f760ba647aba1e26007e03067ce": {
      "model_module": "@jupyter-widgets/base",
      "model_module_version": "1.2.0",
      "model_name": "LayoutModel",
      "state": {}
     },
     "bf0a779709414e84bb0f735efadbd4e5": {
      "model_module": "@jupyter-widgets/controls",
      "model_module_version": "1.5.0",
      "model_name": "DescriptionStyleModel",
      "state": {
       "description_width": ""
      }
     },
     "bf39690ad0e34b8b8ace2fd8c9b38cb6": {
      "model_module": "@jupyter-widgets/controls",
      "model_module_version": "1.5.0",
      "model_name": "DescriptionStyleModel",
      "state": {
       "description_width": ""
      }
     },
     "bf43f9f47c5f4b8b92bd6ca5d377bee6": {
      "model_module": "@jupyter-widgets/base",
      "model_module_version": "1.2.0",
      "model_name": "LayoutModel",
      "state": {
       "width": "5%"
      }
     },
     "bf937449777042458b6d848b2454e9f7": {
      "model_module": "@jupyter-widgets/base",
      "model_module_version": "1.2.0",
      "model_name": "LayoutModel",
      "state": {}
     },
     "bf9634590da644e0a1f1815cc82f2786": {
      "model_module": "@jupyter-widgets/controls",
      "model_module_version": "1.5.0",
      "model_name": "DescriptionStyleModel",
      "state": {
       "description_width": ""
      }
     },
     "bfc3baa6b5c941b1ab78567752d98f35": {
      "model_module": "@jupyter-widgets/controls",
      "model_module_version": "1.5.0",
      "model_name": "DescriptionStyleModel",
      "state": {
       "description_width": ""
      }
     },
     "bfcb9902c0a84ebf8934e209b30bbb91": {
      "model_module": "@jupyter-widgets/controls",
      "model_module_version": "1.5.0",
      "model_name": "DescriptionStyleModel",
      "state": {
       "description_width": ""
      }
     },
     "c014aad2ab274934bad9f0aeca6db2b3": {
      "model_module": "@jupyter-widgets/controls",
      "model_module_version": "1.5.0",
      "model_name": "DescriptionStyleModel",
      "state": {
       "description_width": ""
      }
     },
     "c06a91f26e854337a199feb1ae7e47ed": {
      "model_module": "@jupyter-widgets/controls",
      "model_module_version": "1.5.0",
      "model_name": "DescriptionStyleModel",
      "state": {
       "description_width": ""
      }
     },
     "c06af3f423ae493d8ce49a53124fd645": {
      "model_module": "@jupyter-widgets/base",
      "model_module_version": "1.2.0",
      "model_name": "LayoutModel",
      "state": {
       "width": "90%"
      }
     },
     "c082800763204277a8aa5775b9375896": {
      "model_module": "@jupyter-widgets/controls",
      "model_module_version": "1.5.0",
      "model_name": "LabelModel",
      "state": {
       "layout": "IPY_MODEL_afd6e21fb23645d5816d867c1bac09f3",
       "style": "IPY_MODEL_ff24ca9baaa44777a93e8a877c0f98fd"
      }
     },
     "c0866bed7a1b4436abfa120b7e2ceee3": {
      "model_module": "@jupyter-widgets/controls",
      "model_module_version": "1.5.0",
      "model_name": "DescriptionStyleModel",
      "state": {
       "description_width": ""
      }
     },
     "c0a821ae8ced446a8aa16b399a71b012": {
      "model_module": "@jupyter-widgets/base",
      "model_module_version": "1.2.0",
      "model_name": "LayoutModel",
      "state": {
       "width": "5%"
      }
     },
     "c0b4ac92253c4aa5b5146dca4936d516": {
      "model_module": "@jupyter-widgets/base",
      "model_module_version": "1.2.0",
      "model_name": "LayoutModel",
      "state": {
       "width": "5%"
      }
     },
     "c0bbf3e7d9d54104b0cb97310583e0bb": {
      "model_module": "@jupyter-widgets/controls",
      "model_module_version": "1.5.0",
      "model_name": "ButtonModel",
      "state": {
       "description": "Run Code",
       "layout": "IPY_MODEL_5c517015b4194aa49863bc583a9403d7",
       "style": "IPY_MODEL_4dbd30fbd0f64f31b333d604cb04e880",
       "tooltip": "Click to test your code"
      }
     },
     "c1144ff9ca7645b8b4dedd128fcff1f8": {
      "model_module": "@jupyter-widgets/output",
      "model_module_version": "1.0.0",
      "model_name": "OutputModel",
      "state": {
       "layout": "IPY_MODEL_fb18dc05b40b42ea9d0494d829888fb8"
      }
     },
     "c12331e11e204a48bd93abb6aa55ee88": {
      "model_module": "@jupyter-widgets/base",
      "model_module_version": "1.2.0",
      "model_name": "LayoutModel",
      "state": {
       "width": "90%"
      }
     },
     "c126e88b7af14e538e7cd5ce397d2a12": {
      "model_module": "@jupyter-widgets/base",
      "model_module_version": "1.2.0",
      "model_name": "LayoutModel",
      "state": {}
     },
     "c12d27433b8b4772b5251191d2c00f90": {
      "model_module": "@jupyter-widgets/controls",
      "model_module_version": "1.5.0",
      "model_name": "DescriptionStyleModel",
      "state": {
       "description_width": ""
      }
     },
     "c13ac3e0e72a4b369a614f48fd11e4e8": {
      "model_module": "@jupyter-widgets/controls",
      "model_module_version": "1.5.0",
      "model_name": "RadioButtonsModel",
      "state": {
       "_options_labels": [
        "a. Polarization",
        "b. Phase",
        "c. Frequency",
        "d. Propagation axis"
       ],
       "index": 0,
       "layout": "IPY_MODEL_09da4945e0da4acb976b3f614c4f816b",
       "style": "IPY_MODEL_83611dd0ce9849ff96ee49207acdcfb6"
      }
     },
     "c13e169b744d465aa33258f3b88fcef9": {
      "model_module": "@jupyter-widgets/controls",
      "model_module_version": "1.5.0",
      "model_name": "LabelModel",
      "state": {
       "layout": "IPY_MODEL_0bcc285bc8b2402bb46dc276d9e9555f",
       "style": "IPY_MODEL_515d53d747a548cb8fce0d638aeeb508"
      }
     },
     "c16838b6cea444ca9fe59ec73250aeb9": {
      "model_module": "@jupyter-widgets/controls",
      "model_module_version": "1.5.0",
      "model_name": "DescriptionStyleModel",
      "state": {
       "description_width": ""
      }
     },
     "c175b478ada1464f80728dc628c0db66": {
      "model_module": "@jupyter-widgets/base",
      "model_module_version": "1.2.0",
      "model_name": "LayoutModel",
      "state": {}
     },
     "c17d74ed600f45f5a1e8953ea53a6fe2": {
      "model_module": "@jupyter-widgets/controls",
      "model_module_version": "1.5.0",
      "model_name": "DescriptionStyleModel",
      "state": {
       "description_width": ""
      }
     },
     "c182e7a571084808ba39e59e41885985": {
      "model_module": "@jupyter-widgets/base",
      "model_module_version": "1.2.0",
      "model_name": "LayoutModel",
      "state": {}
     },
     "c1986cd4abf643aca24f77cc53c51801": {
      "model_module": "@jupyter-widgets/controls",
      "model_module_version": "1.5.0",
      "model_name": "RadioButtonsModel",
      "state": {
       "_options_labels": [
        "a. Diverges",
        "b. Converges",
        "c. Implodes",
        "d. Extrapolates"
       ],
       "index": 0,
       "layout": "IPY_MODEL_7748a6cae0a54cef8b5aa865be06b2e1",
       "style": "IPY_MODEL_c67c6446966c49689d73c077830f8f3c"
      }
     },
     "c1a185a712384d76a6453e0dbf86e169": {
      "model_module": "@jupyter-widgets/controls",
      "model_module_version": "1.5.0",
      "model_name": "DescriptionStyleModel",
      "state": {
       "description_width": ""
      }
     },
     "c1c654e7a7ed4e4099461bad61bff8f0": {
      "model_module": "@jupyter-widgets/base",
      "model_module_version": "1.2.0",
      "model_name": "LayoutModel",
      "state": {}
     },
     "c21bd7c6e3e943c0b30afcc20bf73c43": {
      "model_module": "@jupyter-widgets/controls",
      "model_module_version": "1.5.0",
      "model_name": "RadioButtonsModel",
      "state": {
       "_options_labels": [
        "a. The free charge density",
        "b. The polarization density",
        "c. The free charge current",
        "d. The magnetic field"
       ],
       "index": 0,
       "layout": "IPY_MODEL_ff09eb8a29054158b7152c6aac0b05b5",
       "style": "IPY_MODEL_d2212020430b49d9b5d26b0f35d72d5d"
      }
     },
     "c21f8f1d5b544ab4b564c5227057b6c5": {
      "model_module": "@jupyter-widgets/base",
      "model_module_version": "1.2.0",
      "model_name": "LayoutModel",
      "state": {
       "width": "90%"
      }
     },
     "c22202c9bb104a43a42c4d2d7f96fb27": {
      "model_module": "@jupyter-widgets/controls",
      "model_module_version": "1.5.0",
      "model_name": "VBoxModel",
      "state": {
       "children": [
        "IPY_MODEL_e60385fa308d404fafa9df21206c12be",
        "IPY_MODEL_38b8684696e64d238c0fe367b132ca8d"
       ],
       "layout": "IPY_MODEL_d05fca25bf0048cfa707c44ee7da5b7d"
      }
     },
     "c248201ee0ab41c1af93f07aed6596ca": {
      "model_module": "@jupyter-widgets/controls",
      "model_module_version": "1.5.0",
      "model_name": "DescriptionStyleModel",
      "state": {
       "description_width": ""
      }
     },
     "c2a57e8a7c794e51b3746ec5e251cd4c": {
      "model_module": "@jupyter-widgets/controls",
      "model_module_version": "1.5.0",
      "model_name": "DescriptionStyleModel",
      "state": {
       "description_width": ""
      }
     },
     "c2c989b3f53a4c478f6bc28296a6d142": {
      "model_module": "@jupyter-widgets/base",
      "model_module_version": "1.2.0",
      "model_name": "LayoutModel",
      "state": {
       "width": "90%"
      }
     },
     "c2d08468a16a4efbb83e23f93dac3474": {
      "model_module": "@jupyter-widgets/base",
      "model_module_version": "1.2.0",
      "model_name": "LayoutModel",
      "state": {
       "width": "5%"
      }
     },
     "c2e67f03e17c49509b4da5ce2f1cd1e4": {
      "model_module": "@jupyter-widgets/output",
      "model_module_version": "1.0.0",
      "model_name": "OutputModel",
      "state": {
       "layout": "IPY_MODEL_5fe90a3a70ee4e38b0e35715a8f1de56"
      }
     },
     "c2f45358547a4f31a2bc5fa8422f708f": {
      "model_module": "@jupyter-widgets/base",
      "model_module_version": "1.2.0",
      "model_name": "LayoutModel",
      "state": {
       "width": "5%"
      }
     },
     "c32ab2a0ad54487591213a4060ea9dec": {
      "model_module": "@jupyter-widgets/controls",
      "model_module_version": "1.5.0",
      "model_name": "LabelModel",
      "state": {
       "layout": "IPY_MODEL_8a8b72eb40a149c6a1200e9fe19a8a81",
       "style": "IPY_MODEL_27d99c7912d54777abc0fc59a9669938"
      }
     },
     "c32aefd949874f5688ed6119f4ed7304": {
      "model_module": "@jupyter-widgets/base",
      "model_module_version": "1.2.0",
      "model_name": "LayoutModel",
      "state": {
       "width": "5%"
      }
     },
     "c33c2f6278c243238ae2885dec4cc77f": {
      "model_module": "@jupyter-widgets/controls",
      "model_module_version": "1.5.0",
      "model_name": "HBoxModel",
      "state": {
       "children": [
        "IPY_MODEL_70e3f1a3774a448e98d53f4741a4957e",
        "IPY_MODEL_ec6c909dc68f491b93e21add98fb911b"
       ],
       "layout": "IPY_MODEL_5fe2dcaa29bc4c088d3283395b0855a9"
      }
     },
     "c34bc9d369cc425287d7ad0392d29cc5": {
      "model_module": "@jupyter-widgets/controls",
      "model_module_version": "1.5.0",
      "model_name": "LabelModel",
      "state": {
       "layout": "IPY_MODEL_ff7ebee6f8d24242bdbac45117796654",
       "style": "IPY_MODEL_e0fc3c86a72e465488e2c4bd4a022ee4"
      }
     },
     "c34de7e2d4294dd184abff528cdd32a8": {
      "model_module": "@jupyter-widgets/controls",
      "model_module_version": "1.5.0",
      "model_name": "TextareaModel",
      "state": {
       "description": "String:",
       "layout": "IPY_MODEL_9eaa13de864b4f6b9687928d38395a14",
       "placeholder": "Type something",
       "style": "IPY_MODEL_cc09580238b7452891b81881df54c70b"
      }
     },
     "c351b11aee434d80b8ed38d3db8ec3cc": {
      "model_module": "@jupyter-widgets/controls",
      "model_module_version": "1.5.0",
      "model_name": "RadioButtonsModel",
      "state": {
       "_options_labels": [
        "a. Far field",
        "b. Near field",
        "c. Both near field and far field",
        "d. Neither near field nor far field"
       ],
       "index": 0,
       "layout": "IPY_MODEL_d3a87b13513f47a1a5b7f12c85d07acf",
       "style": "IPY_MODEL_cf10f48dc6054bb9a7e595a95e92a905"
      }
     },
     "c35a2ca4db4740d6a04f60b4da946871": {
      "model_module": "@jupyter-widgets/controls",
      "model_module_version": "1.5.0",
      "model_name": "DescriptionStyleModel",
      "state": {
       "description_width": ""
      }
     },
     "c374b752adcf495daefab417c7822306": {
      "model_module": "@jupyter-widgets/controls",
      "model_module_version": "1.5.0",
      "model_name": "HBoxModel",
      "state": {
       "children": [
        "IPY_MODEL_1624ace6b1c7407086495aab56cf9a8b",
        "IPY_MODEL_72989df2ea1144e4834affca4697b9e0"
       ],
       "layout": "IPY_MODEL_b2b346f3a00d42f6b78518fb047400ef"
      }
     },
     "c3808b1317cb49d7aa218930fa0dcecd": {
      "model_module": "@jupyter-widgets/base",
      "model_module_version": "1.2.0",
      "model_name": "LayoutModel",
      "state": {
       "width": "90%"
      }
     },
     "c3b0fc6d29cf44269c6e4d749c71215e": {
      "model_module": "@jupyter-widgets/base",
      "model_module_version": "1.2.0",
      "model_name": "LayoutModel",
      "state": {
       "width": "90%"
      }
     },
     "c3bf3a2c08234f7690727842a937fe6a": {
      "model_module": "@jupyter-widgets/controls",
      "model_module_version": "1.5.0",
      "model_name": "DescriptionStyleModel",
      "state": {
       "description_width": ""
      }
     },
     "c42e840723c4430c86e5645d1878ee7f": {
      "model_module": "@jupyter-widgets/base",
      "model_module_version": "1.2.0",
      "model_name": "LayoutModel",
      "state": {
       "width": "5%"
      }
     },
     "c45c9d432db140b19a0d47e5f9be9797": {
      "model_module": "@jupyter-widgets/base",
      "model_module_version": "1.2.0",
      "model_name": "LayoutModel",
      "state": {}
     },
     "c46291e19b3347dabf8f4506fbeeb11f": {
      "model_module": "@jupyter-widgets/controls",
      "model_module_version": "1.5.0",
      "model_name": "HBoxModel",
      "state": {
       "children": [
        "IPY_MODEL_2226d0cc484241c2bb071669c914ce49",
        "IPY_MODEL_9869ab628336445f9f5252709312bef6"
       ],
       "layout": "IPY_MODEL_8c9a0c84ec9d4a9085be93d271fbd1d5"
      }
     },
     "c467a430d06747b3b27963423264e5ee": {
      "model_module": "@jupyter-widgets/controls",
      "model_module_version": "1.5.0",
      "model_name": "DescriptionStyleModel",
      "state": {
       "description_width": ""
      }
     },
     "c46d02daa5ec43fcaa0474f97382ef82": {
      "model_module": "@jupyter-widgets/controls",
      "model_module_version": "1.5.0",
      "model_name": "ButtonStyleModel",
      "state": {}
     },
     "c4745f63ee584d6fbd08e1939844cfda": {
      "model_module": "@jupyter-widgets/controls",
      "model_module_version": "1.5.0",
      "model_name": "LabelModel",
      "state": {
       "layout": "IPY_MODEL_1166862fe73348a6874af44ddb0741a6",
       "style": "IPY_MODEL_bb42171eef904051a9a808fb1659e4c6"
      }
     },
     "c4815b26bc724820adcad1481b6733c4": {
      "model_module": "@jupyter-widgets/controls",
      "model_module_version": "1.5.0",
      "model_name": "DescriptionStyleModel",
      "state": {
       "description_width": ""
      }
     },
     "c4856631c0ed4ca38f72df9350312334": {
      "model_module": "@jupyter-widgets/controls",
      "model_module_version": "1.5.0",
      "model_name": "ButtonStyleModel",
      "state": {}
     },
     "c486776fef2e4bd4bc141e6186a1d7c1": {
      "model_module": "@jupyter-widgets/controls",
      "model_module_version": "1.5.0",
      "model_name": "TextareaModel",
      "state": {
       "description": "String:",
       "layout": "IPY_MODEL_d4307ed4a9204bdeb8c2cb27df30acdb",
       "placeholder": "Type something",
       "style": "IPY_MODEL_60d7440f98f84cecb3d217c31eba6f57"
      }
     },
     "c4b2d74dbd9c42db9fb56c27f8332cc9": {
      "model_module": "@jupyter-widgets/base",
      "model_module_version": "1.2.0",
      "model_name": "LayoutModel",
      "state": {}
     },
     "c4b8dbad684241e899c7dcd1065cb100": {
      "model_module": "@jupyter-widgets/output",
      "model_module_version": "1.0.0",
      "model_name": "OutputModel",
      "state": {
       "layout": "IPY_MODEL_17eddc7b94634769bc46b0b52762f9c0",
       "outputs": [
        {
         "name": "stdout",
         "output_type": "stream",
         "text": "0\n1\n2\n3\n4\n5\n6\n7\n8\n9\n"
        }
       ]
      }
     },
     "c4c0e9a4155145559a1a35d3ee4e3b96": {
      "model_module": "@jupyter-widgets/controls",
      "model_module_version": "1.5.0",
      "model_name": "DescriptionStyleModel",
      "state": {
       "description_width": ""
      }
     },
     "c4c69642568d49e482814f0150f675dc": {
      "model_module": "@jupyter-widgets/base",
      "model_module_version": "1.2.0",
      "model_name": "LayoutModel",
      "state": {
       "width": "5%"
      }
     },
     "c4d57363d7464eb1a50c6322ec1bbd3e": {
      "model_module": "@jupyter-widgets/base",
      "model_module_version": "1.2.0",
      "model_name": "LayoutModel",
      "state": {}
     },
     "c4d6e7384c9249ee8238519fb2e3ea4d": {
      "model_module": "@jupyter-widgets/base",
      "model_module_version": "1.2.0",
      "model_name": "LayoutModel",
      "state": {}
     },
     "c4eb95a968a7440b8756926006dc978d": {
      "model_module": "@jupyter-widgets/controls",
      "model_module_version": "1.5.0",
      "model_name": "DescriptionStyleModel",
      "state": {
       "description_width": ""
      }
     },
     "c53cd2109df846e09b3585af8216464d": {
      "model_module": "@jupyter-widgets/controls",
      "model_module_version": "1.5.0",
      "model_name": "LabelModel",
      "state": {
       "layout": "IPY_MODEL_5ef65e763b0d4526907e2b5cc58d1fbd",
       "style": "IPY_MODEL_3e4a35327c4244cbb12fc9a41e532686"
      }
     },
     "c542738c64464f2f9798de0ebaa52cf7": {
      "model_module": "@jupyter-widgets/controls",
      "model_module_version": "1.5.0",
      "model_name": "DescriptionStyleModel",
      "state": {
       "description_width": ""
      }
     },
     "c5475134611b479e9ead1a3263f12bfd": {
      "model_module": "@jupyter-widgets/base",
      "model_module_version": "1.2.0",
      "model_name": "LayoutModel",
      "state": {}
     },
     "c5477f244d0142b2b2d41d3f39eb4387": {
      "model_module": "@jupyter-widgets/controls",
      "model_module_version": "1.5.0",
      "model_name": "DescriptionStyleModel",
      "state": {
       "description_width": ""
      }
     },
     "c588bc5268f5430ab81368be20e5f37a": {
      "model_module": "@jupyter-widgets/base",
      "model_module_version": "1.2.0",
      "model_name": "LayoutModel",
      "state": {}
     },
     "c5a48a79bb844b60b3475a2412d9d8a1": {
      "model_module": "@jupyter-widgets/controls",
      "model_module_version": "1.5.0",
      "model_name": "HBoxModel",
      "state": {
       "children": [
        "IPY_MODEL_85233dcfebfd4d3da42040ea6443ace2",
        "IPY_MODEL_e26e0cf8180e459c8a9a0fbf95d188b5"
       ],
       "layout": "IPY_MODEL_56a3e964badd465391c1f4d7daf0db69"
      }
     },
     "c5a7fcc4cbf14fc2b8706f421840eb43": {
      "model_module": "@jupyter-widgets/base",
      "model_module_version": "1.2.0",
      "model_name": "LayoutModel",
      "state": {
       "width": "90%"
      }
     },
     "c5b2a9441e2a40188519526cf3d209d9": {
      "model_module": "@jupyter-widgets/controls",
      "model_module_version": "1.5.0",
      "model_name": "TextareaModel",
      "state": {
       "description": "String:",
       "layout": "IPY_MODEL_7ad635c1842e473c9d79d98306788416",
       "placeholder": "Type something",
       "style": "IPY_MODEL_a082ff2448c64d8a9b7ab40b80fe726c"
      }
     },
     "c5c2a233903040c5ae0cad3486753acb": {
      "model_module": "@jupyter-widgets/controls",
      "model_module_version": "1.5.0",
      "model_name": "DescriptionStyleModel",
      "state": {
       "description_width": ""
      }
     },
     "c5d782c5a2dd47f296be2e637cf6bef6": {
      "model_module": "@jupyter-widgets/controls",
      "model_module_version": "1.5.0",
      "model_name": "LabelModel",
      "state": {
       "layout": "IPY_MODEL_63d756cdf8d64339806a54f32387ed97",
       "style": "IPY_MODEL_0f71617982e749859620b7f0d179422e"
      }
     },
     "c60239397cb44adab4789932b6f3e21c": {
      "model_module": "@jupyter-widgets/controls",
      "model_module_version": "1.5.0",
      "model_name": "LabelModel",
      "state": {
       "layout": "IPY_MODEL_8dd3af1f7a2144bebe155df87aea2220",
       "style": "IPY_MODEL_872d5744969c403bb3c2bcbb223faba5"
      }
     },
     "c60581177cac42c3a6aed607c41a861d": {
      "model_module": "@jupyter-widgets/controls",
      "model_module_version": "1.5.0",
      "model_name": "HBoxModel",
      "state": {
       "children": [
        "IPY_MODEL_0444f6ac4bf34efb9a559b967527b46d",
        "IPY_MODEL_36bac5f3535c4c4fb04e65513641b013"
       ],
       "layout": "IPY_MODEL_5b0d4fb663c649a482ac1c4f178fbc8f"
      }
     },
     "c650f7722a6845f7af1843932312803f": {
      "model_module": "@jupyter-widgets/base",
      "model_module_version": "1.2.0",
      "model_name": "LayoutModel",
      "state": {}
     },
     "c65728419f7e4102817f3bc5d4d4f77c": {
      "model_module": "@jupyter-widgets/controls",
      "model_module_version": "1.5.0",
      "model_name": "LabelModel",
      "state": {
       "layout": "IPY_MODEL_2d8df81ce4d24dcf8d4a3836dc721cae",
       "style": "IPY_MODEL_f1fbb21290c648c5bc916214667910c8"
      }
     },
     "c6624000a48c45e0a5f48723e9020401": {
      "model_module": "@jupyter-widgets/base",
      "model_module_version": "1.2.0",
      "model_name": "LayoutModel",
      "state": {}
     },
     "c66ac1532f3548508f27d5868df38aa6": {
      "model_module": "@jupyter-widgets/controls",
      "model_module_version": "1.5.0",
      "model_name": "DescriptionStyleModel",
      "state": {
       "description_width": ""
      }
     },
     "c671c1ec48b043eb9d50270e77d51660": {
      "model_module": "@jupyter-widgets/controls",
      "model_module_version": "1.5.0",
      "model_name": "DescriptionStyleModel",
      "state": {
       "description_width": ""
      }
     },
     "c67c6446966c49689d73c077830f8f3c": {
      "model_module": "@jupyter-widgets/controls",
      "model_module_version": "1.5.0",
      "model_name": "DescriptionStyleModel",
      "state": {
       "description_width": ""
      }
     },
     "c69e3d6e49154d2388846005a3096c35": {
      "model_module": "@jupyter-widgets/controls",
      "model_module_version": "1.5.0",
      "model_name": "HBoxModel",
      "state": {
       "children": [
        "IPY_MODEL_386f1b9b93004d1e8113be1ce10c8daf",
        "IPY_MODEL_f9869df9b9524bd28a3f155512151335"
       ],
       "layout": "IPY_MODEL_89bdcc97983d403081fafd6cad60f4ca"
      }
     },
     "c6bb83c2e4bf4aeea7c270e0013dce85": {
      "model_module": "@jupyter-widgets/controls",
      "model_module_version": "1.5.0",
      "model_name": "TextareaModel",
      "state": {
       "description": "String:",
       "layout": "IPY_MODEL_4234874ff811444c8918ae3b61d866f3",
       "placeholder": "Type something",
       "style": "IPY_MODEL_04222072c92748a0a20119fa7c1b0331"
      }
     },
     "c6c4bf61747c40afbdcd678d39db75f3": {
      "model_module": "@jupyter-widgets/controls",
      "model_module_version": "1.5.0",
      "model_name": "DescriptionStyleModel",
      "state": {
       "description_width": ""
      }
     },
     "c6c980313aed44afb478897dc3e86430": {
      "model_module": "@jupyter-widgets/controls",
      "model_module_version": "1.5.0",
      "model_name": "DescriptionStyleModel",
      "state": {
       "description_width": ""
      }
     },
     "c6d5a96d28fd40fcbb97b48fa7cb46a5": {
      "model_module": "@jupyter-widgets/controls",
      "model_module_version": "1.5.0",
      "model_name": "DescriptionStyleModel",
      "state": {
       "description_width": ""
      }
     },
     "c6d6541d20574f0d80533d5919d2d208": {
      "model_module": "@jupyter-widgets/controls",
      "model_module_version": "1.5.0",
      "model_name": "LabelModel",
      "state": {
       "layout": "IPY_MODEL_005c235c10ac4fd1ac4bda37f86c3eac",
       "style": "IPY_MODEL_74e1849037a6452487bd9f9cd7dcfaf9"
      }
     },
     "c6f405106ef84fd3990b068a59a9b1f1": {
      "model_module": "@jupyter-widgets/base",
      "model_module_version": "1.2.0",
      "model_name": "LayoutModel",
      "state": {
       "width": "90%"
      }
     },
     "c72bed6002574799ae36d85c1f083789": {
      "model_module": "@jupyter-widgets/controls",
      "model_module_version": "1.5.0",
      "model_name": "LabelModel",
      "state": {
       "layout": "IPY_MODEL_789cea95e6ce432cb4e2b6e7ca0138a4",
       "style": "IPY_MODEL_4d816ea7f8ca43eaaca040a4834d68de"
      }
     },
     "c753d4dccc0c4071929957652d8f0898": {
      "model_module": "@jupyter-widgets/controls",
      "model_module_version": "1.5.0",
      "model_name": "DescriptionStyleModel",
      "state": {
       "description_width": ""
      }
     },
     "c78616976ea544f0be866311c0a06211": {
      "model_module": "@jupyter-widgets/base",
      "model_module_version": "1.2.0",
      "model_name": "LayoutModel",
      "state": {
       "width": "90%"
      }
     },
     "c79cb1f10a194740a5423dfcb4269bd9": {
      "model_module": "@jupyter-widgets/base",
      "model_module_version": "1.2.0",
      "model_name": "LayoutModel",
      "state": {}
     },
     "c7bd4eb736f34013acf0d4cf930a68dc": {
      "model_module": "@jupyter-widgets/controls",
      "model_module_version": "1.5.0",
      "model_name": "TextareaModel",
      "state": {
       "description": "Code:",
       "layout": "IPY_MODEL_9e56913740b94cbbb16e11db60b558a1",
       "placeholder": "Type code here",
       "style": "IPY_MODEL_3d3bec47ee2449d79d67b685a61e5f75",
       "value": "plt.plot(range(0,10),'o')"
      }
     },
     "c7c80c3179c144bd96370d2fa95aacf7": {
      "model_module": "@jupyter-widgets/base",
      "model_module_version": "1.2.0",
      "model_name": "LayoutModel",
      "state": {}
     },
     "c7ca0e9998434ef083f479dacfa75ce4": {
      "model_module": "@jupyter-widgets/controls",
      "model_module_version": "1.5.0",
      "model_name": "DescriptionStyleModel",
      "state": {
       "description_width": ""
      }
     },
     "c7ce69ce154f4ce4b7237eaa2c51d80d": {
      "model_module": "@jupyter-widgets/base",
      "model_module_version": "1.2.0",
      "model_name": "LayoutModel",
      "state": {}
     },
     "c7d7b66c268c4b87a34681e3587e4cf6": {
      "model_module": "@jupyter-widgets/output",
      "model_module_version": "1.0.0",
      "model_name": "OutputModel",
      "state": {
       "layout": "IPY_MODEL_0453827f88c04c25b9c202d46bdd4138"
      }
     },
     "c7e153ca14564f8fbe65a3dd5cfab1f8": {
      "model_module": "@jupyter-widgets/base",
      "model_module_version": "1.2.0",
      "model_name": "LayoutModel",
      "state": {
       "width": "5%"
      }
     },
     "c7e1c3f8c86f4ed1bc725e25fecb7324": {
      "model_module": "@jupyter-widgets/controls",
      "model_module_version": "1.5.0",
      "model_name": "RadioButtonsModel",
      "state": {
       "_options_labels": [
        "a. The free charge density",
        "b. The polarization density",
        "c. The free charge current",
        "d. The magnetic field"
       ],
       "index": 0,
       "layout": "IPY_MODEL_e817e293253e46edb2e9092d5ccce5ff",
       "style": "IPY_MODEL_54ef3cddbe584d1895e0742356c3be32"
      }
     },
     "c827f499c65243a29fd465d01fbd6a83": {
      "model_module": "@jupyter-widgets/controls",
      "model_module_version": "1.5.0",
      "model_name": "ButtonModel",
      "state": {
       "description": "Review Answers",
       "layout": "IPY_MODEL_a7485b0136ef4a29bc9aae4da86e3445",
       "style": "IPY_MODEL_34d45f35f5f149c6a5241f22bef51ff7",
       "tooltip": "Click to review answers"
      }
     },
     "c8391ded369f49219cc91adb64b38378": {
      "model_module": "@jupyter-widgets/controls",
      "model_module_version": "1.5.0",
      "model_name": "VBoxModel",
      "state": {
       "children": [
        "IPY_MODEL_d97f3b7dc7634494b586ae1bde128a2b",
        "IPY_MODEL_81b776b277e444f3a10337e7c5659d88"
       ],
       "layout": "IPY_MODEL_ec1bad154ae644698a79d3ea4a4dc871"
      }
     },
     "c84f1d1efb324d229dd840e7622d05b1": {
      "model_module": "@jupyter-widgets/base",
      "model_module_version": "1.2.0",
      "model_name": "LayoutModel",
      "state": {}
     },
     "c8692b99f4da4fcb8a7ea5d5745e0e64": {
      "model_module": "@jupyter-widgets/controls",
      "model_module_version": "1.5.0",
      "model_name": "TextareaModel",
      "state": {
       "description": "Code:",
       "layout": "IPY_MODEL_61c5035c0ea94c968f52fafdd3f8a2d0",
       "placeholder": "Type code here",
       "style": "IPY_MODEL_4bbd4db4b4104fa4b8076e7642cd4a9c",
       "value": "for n in range(0, 10):\n  print(n)"
      }
     },
     "c884ad3ce0c149e58501541f2ac4c6f5": {
      "model_module": "@jupyter-widgets/base",
      "model_module_version": "1.2.0",
      "model_name": "LayoutModel",
      "state": {
       "width": "90%"
      }
     },
     "c8a0190ad76743c9916e287cbd686da2": {
      "model_module": "@jupyter-widgets/base",
      "model_module_version": "1.2.0",
      "model_name": "LayoutModel",
      "state": {
       "width": "5%"
      }
     },
     "c8a75f91bc5d442285e2feb5222aa6a1": {
      "model_module": "@jupyter-widgets/controls",
      "model_module_version": "1.5.0",
      "model_name": "ButtonStyleModel",
      "state": {}
     },
     "c8ab7906c7b2440392a5ecb0acfcb857": {
      "model_module": "@jupyter-widgets/base",
      "model_module_version": "1.2.0",
      "model_name": "LayoutModel",
      "state": {}
     },
     "c8b48b510b9a4f4fa8ae4b672a8f4b28": {
      "model_module": "@jupyter-widgets/controls",
      "model_module_version": "1.5.0",
      "model_name": "DescriptionStyleModel",
      "state": {
       "description_width": ""
      }
     },
     "c8d251c5813a4021b9c612c3e9cb97b6": {
      "model_module": "@jupyter-widgets/controls",
      "model_module_version": "1.5.0",
      "model_name": "HBoxModel",
      "state": {
       "children": [
        "IPY_MODEL_5c30ff6ba7ba43a18f33742f92dddfde",
        "IPY_MODEL_52dbc1eafdf54373b75f26ef7fbf51be"
       ],
       "layout": "IPY_MODEL_9d097f55aa584f46830daf4be366c70c"
      }
     },
     "c8ebcea52b5043a4b9145a9c33744d80": {
      "model_module": "@jupyter-widgets/controls",
      "model_module_version": "1.5.0",
      "model_name": "DescriptionStyleModel",
      "state": {
       "description_width": ""
      }
     },
     "c8fb893a91364ec995e94abfe12696c3": {
      "model_module": "@jupyter-widgets/controls",
      "model_module_version": "1.5.0",
      "model_name": "RadioButtonsModel",
      "state": {
       "_options_labels": [
        "a. The Schrodinger equation",
        "b. Newton's Equations",
        "c. Maxwell's Equations",
        "d. The Klein-Gordon Equation"
       ],
       "index": 0,
       "layout": "IPY_MODEL_6771652d2312419f8a1afe8450bdd7e9",
       "style": "IPY_MODEL_71fcf93cf5ea4f2d8c395684b4c25875"
      }
     },
     "c8fba774cd2145f5a448511ba465a451": {
      "model_module": "@jupyter-widgets/controls",
      "model_module_version": "1.5.0",
      "model_name": "DescriptionStyleModel",
      "state": {
       "description_width": ""
      }
     },
     "c9132c2c501e4a1cbac5b5178691b88e": {
      "model_module": "@jupyter-widgets/controls",
      "model_module_version": "1.5.0",
      "model_name": "ButtonStyleModel",
      "state": {}
     },
     "c9490e6cb2c34782a490d7c9f875482e": {
      "model_module": "@jupyter-widgets/controls",
      "model_module_version": "1.5.0",
      "model_name": "RadioButtonsModel",
      "state": {
       "_options_labels": [
        "True",
        "False"
       ],
       "index": 0,
       "layout": "IPY_MODEL_004169c2422146ffa66f8ab232e1017e",
       "style": "IPY_MODEL_2d2dc10ef5ae4db8969387361fc408bc"
      }
     },
     "c9548dab833e4dcbbd21201d626bd1cd": {
      "model_module": "@jupyter-widgets/controls",
      "model_module_version": "1.5.0",
      "model_name": "TextareaModel",
      "state": {
       "description": "Code:",
       "layout": "IPY_MODEL_a93e882b7526413a87a259ac9df92cc5",
       "placeholder": "Type code here",
       "style": "IPY_MODEL_d4f6ba26426747caba28f83a671e90a5",
       "value": "import matplotlib.pyplot as plt \nplt.plot(0,5)"
      }
     },
     "c979b563babe49619c03ca4ae720dddc": {
      "model_module": "@jupyter-widgets/base",
      "model_module_version": "1.2.0",
      "model_name": "LayoutModel",
      "state": {}
     },
     "c98083590ecd4bd5a750a460c893789c": {
      "model_module": "@jupyter-widgets/base",
      "model_module_version": "1.2.0",
      "model_name": "LayoutModel",
      "state": {}
     },
     "c99f87a287b7469592f823b0d978d9fc": {
      "model_module": "@jupyter-widgets/controls",
      "model_module_version": "1.5.0",
      "model_name": "ButtonStyleModel",
      "state": {}
     },
     "c9c4ef95b34f434eb47c2abf681fc443": {
      "model_module": "@jupyter-widgets/controls",
      "model_module_version": "1.5.0",
      "model_name": "DescriptionStyleModel",
      "state": {
       "description_width": ""
      }
     },
     "c9d27409d3c244e3bac08440f0a473a2": {
      "model_module": "@jupyter-widgets/output",
      "model_module_version": "1.0.0",
      "model_name": "OutputModel",
      "state": {
       "layout": "IPY_MODEL_6e45008f29a9401c937954f2bd443169"
      }
     },
     "c9de2990cf1d4de799bf6b3c604af124": {
      "model_module": "@jupyter-widgets/controls",
      "model_module_version": "1.5.0",
      "model_name": "HBoxModel",
      "state": {
       "children": [
        "IPY_MODEL_e60572520b244e05bcba9f85505e8787",
        "IPY_MODEL_dda218a7ae144e3a88aae73ce37900dc"
       ],
       "layout": "IPY_MODEL_cc001a44dd5044bab6d094e164ef2bfe"
      }
     },
     "c9ed0a1f32af43e88ec3e498b89d93ef": {
      "model_module": "@jupyter-widgets/controls",
      "model_module_version": "1.5.0",
      "model_name": "ButtonStyleModel",
      "state": {}
     },
     "c9f1d2fe00d84c16ae12303a4a4c61f3": {
      "model_module": "@jupyter-widgets/controls",
      "model_module_version": "1.5.0",
      "model_name": "ButtonStyleModel",
      "state": {}
     },
     "c9f2d57cc7f546c7a7dbc307f88de473": {
      "model_module": "@jupyter-widgets/base",
      "model_module_version": "1.2.0",
      "model_name": "LayoutModel",
      "state": {}
     },
     "ca014a0762e346eb9a12e490d0c10287": {
      "model_module": "@jupyter-widgets/base",
      "model_module_version": "1.2.0",
      "model_name": "LayoutModel",
      "state": {
       "width": "5%"
      }
     },
     "ca05951f8ec64a17b723bfff4b6faaf3": {
      "model_module": "@jupyter-widgets/base",
      "model_module_version": "1.2.0",
      "model_name": "LayoutModel",
      "state": {}
     },
     "ca1a1278ff7444c18721241e7c40ba36": {
      "model_module": "@jupyter-widgets/controls",
      "model_module_version": "1.5.0",
      "model_name": "LabelModel",
      "state": {
       "layout": "IPY_MODEL_37bd7bfacfb445969ef747a85aa46457",
       "style": "IPY_MODEL_a8cf0a9873e04d038393e853d51fc903"
      }
     },
     "ca30754298fd4e87bd5eaf754221dadb": {
      "model_module": "@jupyter-widgets/controls",
      "model_module_version": "1.5.0",
      "model_name": "DescriptionStyleModel",
      "state": {
       "description_width": ""
      }
     },
     "ca68afb42567404fafeba840473ea39f": {
      "model_module": "@jupyter-widgets/controls",
      "model_module_version": "1.5.0",
      "model_name": "TextareaModel",
      "state": {
       "description": "Code:",
       "layout": "IPY_MODEL_fe38dc1833284bb4996470bb2b3cedf4",
       "placeholder": "Type code here",
       "style": "IPY_MODEL_c671c1ec48b043eb9d50270e77d51660",
       "value": "plt.plot(range(0,10), 'o')"
      }
     },
     "ca6b5401dbcb46c8986ecc961af6efc1": {
      "model_module": "@jupyter-widgets/base",
      "model_module_version": "1.2.0",
      "model_name": "LayoutModel",
      "state": {
       "width": "5%"
      }
     },
     "ca8130c2b96b423fab294c55e6b0e025": {
      "model_module": "@jupyter-widgets/base",
      "model_module_version": "1.2.0",
      "model_name": "LayoutModel",
      "state": {}
     },
     "ca9c5a1d708a47b0a66e1f5a8032ffe1": {
      "model_module": "@jupyter-widgets/controls",
      "model_module_version": "1.5.0",
      "model_name": "DescriptionStyleModel",
      "state": {
       "description_width": ""
      }
     },
     "cabd0022da7641e8b0391afb536440d5": {
      "model_module": "@jupyter-widgets/base",
      "model_module_version": "1.2.0",
      "model_name": "LayoutModel",
      "state": {}
     },
     "cac064dafce74091babc6762c6c881bf": {
      "model_module": "@jupyter-widgets/controls",
      "model_module_version": "1.5.0",
      "model_name": "TextareaModel",
      "state": {
       "description": "Code:",
       "layout": "IPY_MODEL_d4a2495d39774b00a2115b9b2d810044",
       "placeholder": "Type code here",
       "style": "IPY_MODEL_1c7c865369aa419e830aef37b53b029c"
      }
     },
     "cadedaf2404546c38bfb9498721fa8ff": {
      "model_module": "@jupyter-widgets/base",
      "model_module_version": "1.2.0",
      "model_name": "LayoutModel",
      "state": {
       "width": "5%"
      }
     },
     "cae99c2692dc4a42ae8f1776d26a814c": {
      "model_module": "@jupyter-widgets/controls",
      "model_module_version": "1.5.0",
      "model_name": "TextareaModel",
      "state": {
       "description": "Answer:",
       "layout": "IPY_MODEL_56bdf5d14aa242e2b3954fd9e543964d",
       "placeholder": "Type something",
       "style": "IPY_MODEL_495db9fe81fa44718cd91fd308729dd8"
      }
     },
     "cb124a12728c42989228e77fa7b71c9c": {
      "model_module": "@jupyter-widgets/base",
      "model_module_version": "1.2.0",
      "model_name": "LayoutModel",
      "state": {
       "width": "5%"
      }
     },
     "cb19e6cede9a4b0da19a8dfafc0ffd63": {
      "model_module": "@jupyter-widgets/controls",
      "model_module_version": "1.5.0",
      "model_name": "TextareaModel",
      "state": {
       "description": "Answer:",
       "layout": "IPY_MODEL_7c13e716dfdb45b48d12eb9a972a12b5",
       "placeholder": "Type something",
       "style": "IPY_MODEL_f01e4913171d4a92aed69e93b01ca254"
      }
     },
     "cb36178a1f6544138a2c4228bd40a222": {
      "model_module": "@jupyter-widgets/base",
      "model_module_version": "1.2.0",
      "model_name": "LayoutModel",
      "state": {}
     },
     "cb3d31c112274774a19b8ec9407634dc": {
      "model_module": "@jupyter-widgets/controls",
      "model_module_version": "1.5.0",
      "model_name": "DescriptionStyleModel",
      "state": {
       "description_width": ""
      }
     },
     "cb485a8d1d124dfb891b425a3267a11f": {
      "model_module": "@jupyter-widgets/controls",
      "model_module_version": "1.5.0",
      "model_name": "LabelModel",
      "state": {
       "layout": "IPY_MODEL_96fabbaa6c804ab09f612870cc32e06a",
       "style": "IPY_MODEL_675a690b4ed8438f85b93076bed18701"
      }
     },
     "cb857a535c3b4652a914ca392c140bea": {
      "model_module": "@jupyter-widgets/base",
      "model_module_version": "1.2.0",
      "model_name": "LayoutModel",
      "state": {}
     },
     "cb8afee2768a4c0b91b2e75eafaa2738": {
      "model_module": "@jupyter-widgets/controls",
      "model_module_version": "1.5.0",
      "model_name": "LabelModel",
      "state": {
       "layout": "IPY_MODEL_e63d39d6df634822aa090949f380ea6a",
       "style": "IPY_MODEL_715517f958c8481ea6f15262983bb65f"
      }
     },
     "cbd79e4dfa544e88bf96444a4e803836": {
      "model_module": "@jupyter-widgets/controls",
      "model_module_version": "1.5.0",
      "model_name": "DescriptionStyleModel",
      "state": {
       "description_width": ""
      }
     },
     "cbe5f119fe504ab2b8dd2efa9213b5fb": {
      "model_module": "@jupyter-widgets/base",
      "model_module_version": "1.2.0",
      "model_name": "LayoutModel",
      "state": {}
     },
     "cbeb7496fd984172820ac066b2a27b44": {
      "model_module": "@jupyter-widgets/controls",
      "model_module_version": "1.5.0",
      "model_name": "LabelModel",
      "state": {
       "layout": "IPY_MODEL_217360b04f3e4fa9a046867bf8d364ba",
       "style": "IPY_MODEL_7d9ec088999b4fafaba8655160c56b9c"
      }
     },
     "cbf5327238384e8e81169554605e12de": {
      "model_module": "@jupyter-widgets/base",
      "model_module_version": "1.2.0",
      "model_name": "LayoutModel",
      "state": {}
     },
     "cbfd9d33171e47ac95583810918738d4": {
      "model_module": "@jupyter-widgets/controls",
      "model_module_version": "1.5.0",
      "model_name": "TextareaModel",
      "state": {
       "description": "String:",
       "layout": "IPY_MODEL_439ff74482654d1aa04fdfd0297a5b36",
       "placeholder": "Type something",
       "style": "IPY_MODEL_5673719a28ce4e74a0e282295bee1fd2"
      }
     },
     "cbfe65c276514b4bb31441f491866e42": {
      "model_module": "@jupyter-widgets/base",
      "model_module_version": "1.2.0",
      "model_name": "LayoutModel",
      "state": {
       "width": "5%"
      }
     },
     "cc001a44dd5044bab6d094e164ef2bfe": {
      "model_module": "@jupyter-widgets/base",
      "model_module_version": "1.2.0",
      "model_name": "LayoutModel",
      "state": {}
     },
     "cc0600e41e12434998dd2cb78620b6b7": {
      "model_module": "@jupyter-widgets/base",
      "model_module_version": "1.2.0",
      "model_name": "LayoutModel",
      "state": {
       "width": "90%"
      }
     },
     "cc09580238b7452891b81881df54c70b": {
      "model_module": "@jupyter-widgets/controls",
      "model_module_version": "1.5.0",
      "model_name": "DescriptionStyleModel",
      "state": {
       "description_width": ""
      }
     },
     "cc253ade7650468384b5da36e2edae18": {
      "model_module": "@jupyter-widgets/base",
      "model_module_version": "1.2.0",
      "model_name": "LayoutModel",
      "state": {}
     },
     "cc3899b8b7a04f26974af8df2959f25c": {
      "model_module": "@jupyter-widgets/controls",
      "model_module_version": "1.5.0",
      "model_name": "LabelModel",
      "state": {
       "layout": "IPY_MODEL_d06e76ca13964cc9b01e7717460390ee",
       "style": "IPY_MODEL_529265679e984401a1a0a294e3ac318b"
      }
     },
     "cc474d3b48204f3ca76f2573003c249d": {
      "model_module": "@jupyter-widgets/output",
      "model_module_version": "1.0.0",
      "model_name": "OutputModel",
      "state": {
       "layout": "IPY_MODEL_6ea28ae7c65942d6991ee77c049cfe1a"
      }
     },
     "cc51c7b316e6483e955957f06f548dc0": {
      "model_module": "@jupyter-widgets/controls",
      "model_module_version": "1.5.0",
      "model_name": "TextareaModel",
      "state": {
       "description": "String:",
       "layout": "IPY_MODEL_2ab84c6a6983491eb7ca833d2cb1a15e",
       "placeholder": "Type something",
       "style": "IPY_MODEL_f7598aab4bc64288a1aff0b5db9d94d5"
      }
     },
     "cc66a1ffbcf04d1c9f32955aa733ba9e": {
      "model_module": "@jupyter-widgets/output",
      "model_module_version": "1.0.0",
      "model_name": "OutputModel",
      "state": {
       "layout": "IPY_MODEL_09295eaf40b34f08bf240ccd7a32ce96",
       "outputs": [
        {
         "name": "stdout",
         "output_type": "stream",
         "text": "Hi there!\n"
        }
       ]
      }
     },
     "cc7815a709fb4f17849418e6529e9438": {
      "model_module": "@jupyter-widgets/controls",
      "model_module_version": "1.5.0",
      "model_name": "DescriptionStyleModel",
      "state": {
       "description_width": ""
      }
     },
     "cc79db804de84a4cbe1923218f4fdfc1": {
      "model_module": "@jupyter-widgets/controls",
      "model_module_version": "1.5.0",
      "model_name": "DescriptionStyleModel",
      "state": {
       "description_width": ""
      }
     },
     "ccb2127e1f7e482099d636fad9ae75a8": {
      "model_module": "@jupyter-widgets/controls",
      "model_module_version": "1.5.0",
      "model_name": "DescriptionStyleModel",
      "state": {
       "description_width": ""
      }
     },
     "ccc9d0aad75745acb91ce89530c45262": {
      "model_module": "@jupyter-widgets/base",
      "model_module_version": "1.2.0",
      "model_name": "LayoutModel",
      "state": {
       "width": "5%"
      }
     },
     "ccd3219c7dfc4842a18c459627f93540": {
      "model_module": "@jupyter-widgets/base",
      "model_module_version": "1.2.0",
      "model_name": "LayoutModel",
      "state": {}
     },
     "ccded69dcb8e47d4a7d1f6b40ae45ca2": {
      "model_module": "@jupyter-widgets/controls",
      "model_module_version": "1.5.0",
      "model_name": "HBoxModel",
      "state": {
       "children": [
        "IPY_MODEL_8991f4c97158450582e5b2a593abbe44",
        "IPY_MODEL_88302d539be149759daa88b061bdd12a"
       ],
       "layout": "IPY_MODEL_2a662b2b4bf24708bd93fb7c284381da"
      }
     },
     "cd215c4c47f949acb39a94c4aff8d479": {
      "model_module": "@jupyter-widgets/base",
      "model_module_version": "1.2.0",
      "model_name": "LayoutModel",
      "state": {}
     },
     "cd3052b349e04e61ac09c56a4efde826": {
      "model_module": "@jupyter-widgets/controls",
      "model_module_version": "1.5.0",
      "model_name": "VBoxModel",
      "state": {
       "children": [
        "IPY_MODEL_c1144ff9ca7645b8b4dedd128fcff1f8",
        "IPY_MODEL_d734628fba4a4446b0cc8a943b50385d"
       ],
       "layout": "IPY_MODEL_61d67dc4539943e3be5eb21a9ce880c7"
      }
     },
     "cd6726e52d58460ea4dce514b55ed6e9": {
      "model_module": "@jupyter-widgets/controls",
      "model_module_version": "1.5.0",
      "model_name": "HBoxModel",
      "state": {
       "children": [
        "IPY_MODEL_8ae1acd965624406ab3d0191e8eb723e",
        "IPY_MODEL_f64e9ff530d640e88fee5fd3c1be66ed"
       ],
       "layout": "IPY_MODEL_c84f1d1efb324d229dd840e7622d05b1"
      }
     },
     "cd682e92e50349eba4c5aef4a9cb76d2": {
      "model_module": "@jupyter-widgets/base",
      "model_module_version": "1.2.0",
      "model_name": "LayoutModel",
      "state": {}
     },
     "cd91c91cd0284ac1b94cb6d6c5ffb6a5": {
      "model_module": "@jupyter-widgets/base",
      "model_module_version": "1.2.0",
      "model_name": "LayoutModel",
      "state": {
       "width": "90%"
      }
     },
     "cd93b63635054366b28e59158624e90d": {
      "model_module": "@jupyter-widgets/controls",
      "model_module_version": "1.5.0",
      "model_name": "TextareaModel",
      "state": {
       "description": "Answer:",
       "layout": "IPY_MODEL_f3b53b59695842deafcaf180b761f8aa",
       "placeholder": "Type something",
       "style": "IPY_MODEL_eb132b1434c84ee993bb3d34f88f6cfb"
      }
     },
     "cdc88b57ff924bcd979be2fe62f457ee": {
      "model_module": "@jupyter-widgets/base",
      "model_module_version": "1.2.0",
      "model_name": "LayoutModel",
      "state": {
       "width": "90%"
      }
     },
     "cdc92b81328f45df954a852db51cbe01": {
      "model_module": "@jupyter-widgets/controls",
      "model_module_version": "1.5.0",
      "model_name": "DescriptionStyleModel",
      "state": {
       "description_width": ""
      }
     },
     "cdcf3568c76948c88642b189a1eb7434": {
      "model_module": "@jupyter-widgets/controls",
      "model_module_version": "1.5.0",
      "model_name": "HBoxModel",
      "state": {
       "children": [
        "IPY_MODEL_df333b77f96049e7863d9fb9aea6eb1b",
        "IPY_MODEL_3e65d083dcaf4f91b39e5a650df661d0"
       ],
       "layout": "IPY_MODEL_9b727e68d5b84710853b979c5288b471"
      }
     },
     "ce0eaf155ee9464daaa7a76e7737c1d9": {
      "model_module": "@jupyter-widgets/base",
      "model_module_version": "1.2.0",
      "model_name": "LayoutModel",
      "state": {
       "width": "90%"
      }
     },
     "ce1fb3281e0d42f78706cfd8bb9e2a4c": {
      "model_module": "@jupyter-widgets/base",
      "model_module_version": "1.2.0",
      "model_name": "LayoutModel",
      "state": {
       "width": "5%"
      }
     },
     "ce3ac25991a943a387e6f378ad1685fe": {
      "model_module": "@jupyter-widgets/controls",
      "model_module_version": "1.5.0",
      "model_name": "RadioButtonsModel",
      "state": {
       "_options_labels": [
        "a. The free charge density",
        "b. The polarization density",
        "c. The free charge current",
        "d. The magnetic field"
       ],
       "index": 0,
       "layout": "IPY_MODEL_e7088511b2144586b044f01d188d9b6d",
       "style": "IPY_MODEL_afd4318ce9f24e62b4d984bbfd09d8c6"
      }
     },
     "ce40134031b44ea1a5a02fac9644cb5e": {
      "model_module": "@jupyter-widgets/controls",
      "model_module_version": "1.5.0",
      "model_name": "DescriptionStyleModel",
      "state": {
       "description_width": ""
      }
     },
     "ce63bfd84f0a4b38bc2f12974ad60e57": {
      "model_module": "@jupyter-widgets/controls",
      "model_module_version": "1.5.0",
      "model_name": "LabelModel",
      "state": {
       "layout": "IPY_MODEL_3e9e0ec4f5114025abeebfe5405f7cb6",
       "style": "IPY_MODEL_0151eae18ce84e409a98553bf8c73b8f"
      }
     },
     "ce7509e6c3004fd79731e6db1402397a": {
      "model_module": "@jupyter-widgets/controls",
      "model_module_version": "1.5.0",
      "model_name": "DescriptionStyleModel",
      "state": {
       "description_width": ""
      }
     },
     "ce8d8a56ee2e415aaa9da11ba406c350": {
      "model_module": "@jupyter-widgets/controls",
      "model_module_version": "1.5.0",
      "model_name": "RadioButtonsModel",
      "state": {
       "_options_labels": [
        "a. df = 1/(N*dt)",
        "b. df = 1/dt",
        "c. df = N*dt",
        "d. df = N/dt"
       ],
       "index": 0,
       "layout": "IPY_MODEL_8aac855d53634ce7902be62ea747f896",
       "style": "IPY_MODEL_e30b19e4099b4f209ba8360ab49d796e"
      }
     },
     "ce922cd1c08c4b9f97853f9c5b824653": {
      "model_module": "@jupyter-widgets/base",
      "model_module_version": "1.2.0",
      "model_name": "LayoutModel",
      "state": {}
     },
     "ce936241f1f04d4683165652cf64c864": {
      "model_module": "@jupyter-widgets/controls",
      "model_module_version": "1.5.0",
      "model_name": "DescriptionStyleModel",
      "state": {
       "description_width": ""
      }
     },
     "ceae1652c3984533a1791793772ee3e8": {
      "model_module": "@jupyter-widgets/base",
      "model_module_version": "1.2.0",
      "model_name": "LayoutModel",
      "state": {}
     },
     "ceb8b9b3714548c7a3216355ceb7052d": {
      "model_module": "@jupyter-widgets/controls",
      "model_module_version": "1.5.0",
      "model_name": "DescriptionStyleModel",
      "state": {
       "description_width": ""
      }
     },
     "cec5e6aa50f343e089602bea8eb13fcc": {
      "model_module": "@jupyter-widgets/base",
      "model_module_version": "1.2.0",
      "model_name": "LayoutModel",
      "state": {
       "width": "5%"
      }
     },
     "cec5fcd622c24d829edf9cb2d5b43d90": {
      "model_module": "@jupyter-widgets/base",
      "model_module_version": "1.2.0",
      "model_name": "LayoutModel",
      "state": {
       "width": "90%"
      }
     },
     "cec9e8fd4eed4ef5a330a4966a3e84b0": {
      "model_module": "@jupyter-widgets/controls",
      "model_module_version": "1.5.0",
      "model_name": "DescriptionStyleModel",
      "state": {
       "description_width": ""
      }
     },
     "ced5026997ee426caf92a11d4c4e8c70": {
      "model_module": "@jupyter-widgets/base",
      "model_module_version": "1.2.0",
      "model_name": "LayoutModel",
      "state": {
       "width": "5%"
      }
     },
     "cf05f456ff174aeeb370d5f1b21966bf": {
      "model_module": "@jupyter-widgets/base",
      "model_module_version": "1.2.0",
      "model_name": "LayoutModel",
      "state": {
       "width": "5%"
      }
     },
     "cf0a5222482148cea4df3194eb722275": {
      "model_module": "@jupyter-widgets/controls",
      "model_module_version": "1.5.0",
      "model_name": "ButtonStyleModel",
      "state": {}
     },
     "cf0f7b06e1d54b4583becfb42fac19d1": {
      "model_module": "@jupyter-widgets/controls",
      "model_module_version": "1.5.0",
      "model_name": "HBoxModel",
      "state": {
       "children": [
        "IPY_MODEL_3c7bdeee805942d58026a3b6643862a8",
        "IPY_MODEL_905eb6d75ba242f78df8cc26024f59ab"
       ],
       "layout": "IPY_MODEL_2ea27129171c4677b9e7b3aa66035979"
      }
     },
     "cf10f48dc6054bb9a7e595a95e92a905": {
      "model_module": "@jupyter-widgets/controls",
      "model_module_version": "1.5.0",
      "model_name": "DescriptionStyleModel",
      "state": {
       "description_width": ""
      }
     },
     "cf13c8c03fa844ab93d17bd20c1d308a": {
      "model_module": "@jupyter-widgets/controls",
      "model_module_version": "1.5.0",
      "model_name": "LabelModel",
      "state": {
       "layout": "IPY_MODEL_709daf28fca34a5db0f23243afafc318",
       "style": "IPY_MODEL_d529e424cc994760bc51286c7fadc1eb"
      }
     },
     "cf77be898aad4b868bfa2086d83a582e": {
      "model_module": "@jupyter-widgets/controls",
      "model_module_version": "1.5.0",
      "model_name": "ButtonModel",
      "state": {
       "description": "Run Code",
       "layout": "IPY_MODEL_441b2c6d6f7f41aaa26d9ace72f2b5a0",
       "style": "IPY_MODEL_56f4a2da0ad8452982637331012f50c9",
       "tooltip": "Click to test your code"
      }
     },
     "cf85c203d4c64073b3381e0fbe330f48": {
      "model_module": "@jupyter-widgets/base",
      "model_module_version": "1.2.0",
      "model_name": "LayoutModel",
      "state": {
       "width": "5%"
      }
     },
     "cfaaa8d52e024323b14320479412b709": {
      "model_module": "@jupyter-widgets/controls",
      "model_module_version": "1.5.0",
      "model_name": "LabelModel",
      "state": {
       "layout": "IPY_MODEL_58593ed4aa304bb38951af3ee3ca093b",
       "style": "IPY_MODEL_4b8bc26846654a208b8f2555338ce563"
      }
     },
     "cfcb149ccae24d0eb5818e02882e5f5b": {
      "model_module": "@jupyter-widgets/controls",
      "model_module_version": "1.5.0",
      "model_name": "DescriptionStyleModel",
      "state": {
       "description_width": ""
      }
     },
     "cfe0ccf37f0d4d2d8fb5186191fc8d96": {
      "model_module": "@jupyter-widgets/controls",
      "model_module_version": "1.5.0",
      "model_name": "LabelModel",
      "state": {
       "layout": "IPY_MODEL_5356568bacd743d98f3a6643ef944977",
       "style": "IPY_MODEL_1ac30843371b497286bf35a3d547fc31"
      }
     },
     "d01d748181af4be888c9654dd0065e2e": {
      "model_module": "@jupyter-widgets/controls",
      "model_module_version": "1.5.0",
      "model_name": "ButtonModel",
      "state": {
       "description": "Test Code",
       "layout": "IPY_MODEL_0e6af32e313f4c2899cf5e053035bdf9",
       "style": "IPY_MODEL_7dadf4eee061455d9068c263e652122c",
       "tooltip": "Click to test your code"
      }
     },
     "d0561f559e2a4d4c97aa81f51cc47b5b": {
      "model_module": "@jupyter-widgets/controls",
      "model_module_version": "1.5.0",
      "model_name": "HBoxModel",
      "state": {
       "children": [
        "IPY_MODEL_41cf7f84ee3b47ebbeb616b872a371f7",
        "IPY_MODEL_3c3de3cc1149451e86d2e947a2ead819"
       ],
       "layout": "IPY_MODEL_0085a7db9e3a4adba22dc2ee72a97512"
      }
     },
     "d05fca25bf0048cfa707c44ee7da5b7d": {
      "model_module": "@jupyter-widgets/base",
      "model_module_version": "1.2.0",
      "model_name": "LayoutModel",
      "state": {}
     },
     "d06e76ca13964cc9b01e7717460390ee": {
      "model_module": "@jupyter-widgets/base",
      "model_module_version": "1.2.0",
      "model_name": "LayoutModel",
      "state": {
       "width": "5%"
      }
     },
     "d0726380190e46949b67f5befb025e0d": {
      "model_module": "@jupyter-widgets/controls",
      "model_module_version": "1.5.0",
      "model_name": "LabelModel",
      "state": {
       "layout": "IPY_MODEL_d9efa11459ee4040b9590bee1d6601d9",
       "style": "IPY_MODEL_14deb869cbd54ad5a3c85173253884c7"
      }
     },
     "d08e394636644399b2956fcf5948d0de": {
      "model_module": "@jupyter-widgets/output",
      "model_module_version": "1.0.0",
      "model_name": "OutputModel",
      "state": {
       "layout": "IPY_MODEL_a27b52b43f68415eb26983fb32fd4e4c"
      }
     },
     "d0c1832116b14f9c9277ba18e5c3dbd1": {
      "model_module": "@jupyter-widgets/base",
      "model_module_version": "1.2.0",
      "model_name": "LayoutModel",
      "state": {}
     },
     "d0e210fe90794186bf3bd3108d564af7": {
      "model_module": "@jupyter-widgets/controls",
      "model_module_version": "1.5.0",
      "model_name": "VBoxModel",
      "state": {
       "children": [
        "IPY_MODEL_8944ff552e7d4f3eba2ec176599bf312",
        "IPY_MODEL_fcb36109d5404fcfa6d4bfeb48d952f3"
       ],
       "layout": "IPY_MODEL_0812f2e504224ce39c66017551a0836d"
      }
     },
     "d0e6c24033534ab38d5cd638660f86f0": {
      "model_module": "@jupyter-widgets/controls",
      "model_module_version": "1.5.0",
      "model_name": "DescriptionStyleModel",
      "state": {
       "description_width": ""
      }
     },
     "d10cb9aae26f41708f8fcbff47e487c0": {
      "model_module": "@jupyter-widgets/base",
      "model_module_version": "1.2.0",
      "model_name": "LayoutModel",
      "state": {}
     },
     "d1140f6ad1884ebeab68833e41ebf107": {
      "model_module": "@jupyter-widgets/base",
      "model_module_version": "1.2.0",
      "model_name": "LayoutModel",
      "state": {}
     },
     "d117fb0aea3b402f96be22a50d090e69": {
      "model_module": "@jupyter-widgets/base",
      "model_module_version": "1.2.0",
      "model_name": "LayoutModel",
      "state": {
       "width": "90%"
      }
     },
     "d1805867553c4a63b179df0048f9c62d": {
      "model_module": "@jupyter-widgets/controls",
      "model_module_version": "1.5.0",
      "model_name": "LabelModel",
      "state": {
       "layout": "IPY_MODEL_6837fb4cd99842daa923e4589b571a9b",
       "style": "IPY_MODEL_65d217e5305b44159c61ef5c5328e3ef"
      }
     },
     "d1a28ebe8fc84d469ebfb15936e19541": {
      "model_module": "@jupyter-widgets/controls",
      "model_module_version": "1.5.0",
      "model_name": "TextareaModel",
      "state": {
       "description": "String:",
       "layout": "IPY_MODEL_254e948766944c29bff1a50e39f233a1",
       "placeholder": "Type something",
       "style": "IPY_MODEL_430c4ea64edb40d3b9576e36a34e1da5"
      }
     },
     "d1a62c328ec84cff8490bf496e145214": {
      "model_module": "@jupyter-widgets/base",
      "model_module_version": "1.2.0",
      "model_name": "LayoutModel",
      "state": {
       "width": "90%"
      }
     },
     "d1abf1554bca46babd9eb315c0e8028c": {
      "model_module": "@jupyter-widgets/controls",
      "model_module_version": "1.5.0",
      "model_name": "TextareaModel",
      "state": {
       "description": "String:",
       "layout": "IPY_MODEL_82d8d77739d2457ab1b1fcc26841c735",
       "placeholder": "Type something",
       "style": "IPY_MODEL_0afef947366d4e2abb9dfcb905434843"
      }
     },
     "d1bf4d6df5464c5d8a1593ba71da51de": {
      "model_module": "@jupyter-widgets/base",
      "model_module_version": "1.2.0",
      "model_name": "LayoutModel",
      "state": {}
     },
     "d1c1be6148d34917b25088dab7c03d6a": {
      "model_module": "@jupyter-widgets/controls",
      "model_module_version": "1.5.0",
      "model_name": "RadioButtonsModel",
      "state": {
       "_options_labels": [
        "a. Temperature",
        "b. Color",
        "c. Mass",
        "d. Charge"
       ],
       "index": 0,
       "layout": "IPY_MODEL_975a99e0e0ce445ab0fd3a63be18053e",
       "style": "IPY_MODEL_7a7e3d4f5fd84cc9b3f2a7a804d89201"
      }
     },
     "d1ef105b5f1b49499e66a15708ef0581": {
      "model_module": "@jupyter-widgets/controls",
      "model_module_version": "1.5.0",
      "model_name": "HBoxModel",
      "state": {
       "children": [
        "IPY_MODEL_6aa4b671e0c9481f91241d97390bfe13",
        "IPY_MODEL_0acacbd2c09e44fc9caf338dd390a526"
       ],
       "layout": "IPY_MODEL_9ec4da4b7eb941fab5fb43e237ea82ad"
      }
     },
     "d1fa20e146d04fd7bc8c99a22120c3ce": {
      "model_module": "@jupyter-widgets/base",
      "model_module_version": "1.2.0",
      "model_name": "LayoutModel",
      "state": {
       "width": "90%"
      }
     },
     "d1fc1b28e51042a5b9a55c62e65c6572": {
      "model_module": "@jupyter-widgets/controls",
      "model_module_version": "1.5.0",
      "model_name": "VBoxModel",
      "state": {
       "children": [
        "IPY_MODEL_670140e97fac4e3eae6642f499d45da9",
        "IPY_MODEL_5debfe135bd447748e541f7e3ba5e03d"
       ],
       "layout": "IPY_MODEL_127520ec71984bae9ac1d9e4b6ec9027"
      }
     },
     "d2212020430b49d9b5d26b0f35d72d5d": {
      "model_module": "@jupyter-widgets/controls",
      "model_module_version": "1.5.0",
      "model_name": "DescriptionStyleModel",
      "state": {
       "description_width": ""
      }
     },
     "d2232c0ad31645e2a1c95869fa6bab0a": {
      "model_module": "@jupyter-widgets/base",
      "model_module_version": "1.2.0",
      "model_name": "LayoutModel",
      "state": {
       "width": "5%"
      }
     },
     "d2259cc62a204140849ad4a1fe02d96f": {
      "model_module": "@jupyter-widgets/base",
      "model_module_version": "1.2.0",
      "model_name": "LayoutModel",
      "state": {
       "width": "90%"
      }
     },
     "d259230b354346dca903a31b160c9d5b": {
      "model_module": "@jupyter-widgets/controls",
      "model_module_version": "1.5.0",
      "model_name": "ButtonModel",
      "state": {
       "description": "Run Code",
       "layout": "IPY_MODEL_fa067b389fcc4fe3a8464b54707aa85c",
       "style": "IPY_MODEL_870844ba84e04d08be9ca1eb0d8fd7df",
       "tooltip": "Click to test your code"
      }
     },
     "d2592a74d36d4291833816a902905069": {
      "model_module": "@jupyter-widgets/controls",
      "model_module_version": "1.5.0",
      "model_name": "LabelModel",
      "state": {
       "layout": "IPY_MODEL_fec63915f91748f9a04537f0b4d4297a",
       "style": "IPY_MODEL_ccb2127e1f7e482099d636fad9ae75a8"
      }
     },
     "d25d0463660d40609fdc4c95feec1b32": {
      "model_module": "@jupyter-widgets/base",
      "model_module_version": "1.2.0",
      "model_name": "LayoutModel",
      "state": {}
     },
     "d2ef4736342e46af8467b5be432e1ae1": {
      "model_module": "@jupyter-widgets/controls",
      "model_module_version": "1.5.0",
      "model_name": "HBoxModel",
      "state": {
       "children": [
        "IPY_MODEL_f313b99be4a04dfbaa6563f907f5bb13",
        "IPY_MODEL_4aea385a7298478687ccf8cbba3d8772"
       ],
       "layout": "IPY_MODEL_b7796e78e2bc40ae896ec20a524272be"
      }
     },
     "d3000d57518745f1af1d0701f0357197": {
      "model_module": "@jupyter-widgets/base",
      "model_module_version": "1.2.0",
      "model_name": "LayoutModel",
      "state": {
       "width": "90%"
      }
     },
     "d3078672f48d40c2aede9a381d3e1927": {
      "model_module": "@jupyter-widgets/controls",
      "model_module_version": "1.5.0",
      "model_name": "DescriptionStyleModel",
      "state": {
       "description_width": ""
      }
     },
     "d3085cf9784b4c7e9bbf2f2c83017b47": {
      "model_module": "@jupyter-widgets/base",
      "model_module_version": "1.2.0",
      "model_name": "LayoutModel",
      "state": {}
     },
     "d33b5a99de2149609cf1a37d77a328b7": {
      "model_module": "@jupyter-widgets/controls",
      "model_module_version": "1.5.0",
      "model_name": "DescriptionStyleModel",
      "state": {
       "description_width": ""
      }
     },
     "d34cd56d34a342139ddc8294d200cc8d": {
      "model_module": "@jupyter-widgets/controls",
      "model_module_version": "1.5.0",
      "model_name": "RadioButtonsModel",
      "state": {
       "_options_labels": [
        "a. Stabilize (prolong) induced polarizations",
        "b. Cause more rapid decay of the induced polarization",
        "c. Increase the magnitude of the induced polarization",
        "d. Waste money"
       ],
       "index": 0,
       "layout": "IPY_MODEL_d9aaa5dea07e45f6af91c9ffc071fefe",
       "style": "IPY_MODEL_91a13fb25b0e497f9f4890aeef136824"
      }
     },
     "d36e0f4d338648a2a61965633a354a77": {
      "model_module": "@jupyter-widgets/controls",
      "model_module_version": "1.5.0",
      "model_name": "TextareaModel",
      "state": {
       "description": "String:",
       "layout": "IPY_MODEL_7c0b7d99e7a341caa2b916720c65c484",
       "placeholder": "Type something",
       "style": "IPY_MODEL_2bbd5f27c8a042c7ad497ba78172ddaf"
      }
     },
     "d387a678303a42f2be246b12a2d2f446": {
      "model_module": "@jupyter-widgets/base",
      "model_module_version": "1.2.0",
      "model_name": "LayoutModel",
      "state": {}
     },
     "d3a87b13513f47a1a5b7f12c85d07acf": {
      "model_module": "@jupyter-widgets/base",
      "model_module_version": "1.2.0",
      "model_name": "LayoutModel",
      "state": {
       "width": "90%"
      }
     },
     "d3bcca5142b2427096272f06f89f886f": {
      "model_module": "@jupyter-widgets/controls",
      "model_module_version": "1.5.0",
      "model_name": "ButtonStyleModel",
      "state": {}
     },
     "d3df205d6ae742e8b478f38debbed52c": {
      "model_module": "@jupyter-widgets/controls",
      "model_module_version": "1.5.0",
      "model_name": "LabelModel",
      "state": {
       "layout": "IPY_MODEL_25ab7b26725a421d9d59f53db5ba94ae",
       "style": "IPY_MODEL_ce7509e6c3004fd79731e6db1402397a"
      }
     },
     "d3f1c12eb353492c8232359664e3e273": {
      "model_module": "@jupyter-widgets/controls",
      "model_module_version": "1.5.0",
      "model_name": "TextareaModel",
      "state": {
       "description": "String:",
       "layout": "IPY_MODEL_f8d3411c7b4f4d699ccd6467caa18707",
       "placeholder": "Type something",
       "style": "IPY_MODEL_c9c4ef95b34f434eb47c2abf681fc443"
      }
     },
     "d416980c98674546a8e5afe3bffd19f2": {
      "model_module": "@jupyter-widgets/controls",
      "model_module_version": "1.5.0",
      "model_name": "HBoxModel",
      "state": {
       "children": [
        "IPY_MODEL_14c4d0dfaaed4412812883ca6fad3f9e",
        "IPY_MODEL_6eeb26b97c854825bce36edc8156ec3a"
       ],
       "layout": "IPY_MODEL_67d133d2a74146cbbb4f47ded9f3ed01"
      }
     },
     "d41f06e4ebd24d54a3ebd4e915e760a8": {
      "model_module": "@jupyter-widgets/controls",
      "model_module_version": "1.5.0",
      "model_name": "LabelModel",
      "state": {
       "layout": "IPY_MODEL_7313a8a604214042a97cb67b982521dc",
       "style": "IPY_MODEL_fc4cc9431f544d41a9a358d1310ffc5f"
      }
     },
     "d4222d8a253c4f259d140479c99ef186": {
      "model_module": "@jupyter-widgets/base",
      "model_module_version": "1.2.0",
      "model_name": "LayoutModel",
      "state": {
       "width": "90%"
      }
     },
     "d4307ed4a9204bdeb8c2cb27df30acdb": {
      "model_module": "@jupyter-widgets/base",
      "model_module_version": "1.2.0",
      "model_name": "LayoutModel",
      "state": {
       "width": "90%"
      }
     },
     "d436eb7fcd25460bb9032742f8e071b5": {
      "model_module": "@jupyter-widgets/controls",
      "model_module_version": "1.5.0",
      "model_name": "HBoxModel",
      "state": {
       "children": [
        "IPY_MODEL_09c43fc9a1b3438fa5bb2dede6ca4b27",
        "IPY_MODEL_354e31f523cd4d4d9f367bc832097085"
       ],
       "layout": "IPY_MODEL_d25d0463660d40609fdc4c95feec1b32"
      }
     },
     "d466a171134846de85c5f439031a12e9": {
      "model_module": "@jupyter-widgets/base",
      "model_module_version": "1.2.0",
      "model_name": "LayoutModel",
      "state": {
       "width": "90%"
      }
     },
     "d487b58a88944df7b33513d2d4ef1ada": {
      "model_module": "@jupyter-widgets/controls",
      "model_module_version": "1.5.0",
      "model_name": "LabelModel",
      "state": {
       "layout": "IPY_MODEL_03c4c58060f34cebb1412e22d42cc50b",
       "style": "IPY_MODEL_bc1bd4cae96442a3b619d2688bf80b4d"
      }
     },
     "d4a2495d39774b00a2115b9b2d810044": {
      "model_module": "@jupyter-widgets/base",
      "model_module_version": "1.2.0",
      "model_name": "LayoutModel",
      "state": {
       "width": "90%"
      }
     },
     "d4b11295505748f6aeaa9f16a2c3db60": {
      "model_module": "@jupyter-widgets/base",
      "model_module_version": "1.2.0",
      "model_name": "LayoutModel",
      "state": {
       "width": "5%"
      }
     },
     "d4c83d2e249f4032b72bf0d51dbe5031": {
      "model_module": "@jupyter-widgets/controls",
      "model_module_version": "1.5.0",
      "model_name": "DescriptionStyleModel",
      "state": {
       "description_width": ""
      }
     },
     "d4ca8a9e30d84cb587ad74f38c6f7c10": {
      "model_module": "@jupyter-widgets/base",
      "model_module_version": "1.2.0",
      "model_name": "LayoutModel",
      "state": {}
     },
     "d4d35f7c1ef74377b92354be09a3cd27": {
      "model_module": "@jupyter-widgets/controls",
      "model_module_version": "1.5.0",
      "model_name": "LabelModel",
      "state": {
       "layout": "IPY_MODEL_c4c69642568d49e482814f0150f675dc",
       "style": "IPY_MODEL_a921911f44734713b193c4266337b17e"
      }
     },
     "d4e03a4434b443db8abf33b3986124fc": {
      "model_module": "@jupyter-widgets/controls",
      "model_module_version": "1.5.0",
      "model_name": "LabelModel",
      "state": {
       "layout": "IPY_MODEL_d7d1e15a68124713805fc51760cc9d0a",
       "style": "IPY_MODEL_068ba9e9d8994accb6d76d4ac684e234"
      }
     },
     "d4f6ba26426747caba28f83a671e90a5": {
      "model_module": "@jupyter-widgets/controls",
      "model_module_version": "1.5.0",
      "model_name": "DescriptionStyleModel",
      "state": {
       "description_width": ""
      }
     },
     "d517dba65ddd4ca1af2008e18459d8d4": {
      "model_module": "@jupyter-widgets/controls",
      "model_module_version": "1.5.0",
      "model_name": "HBoxModel",
      "state": {
       "children": [
        "IPY_MODEL_9c034da6fda5478ebd1a5d49709727e0",
        "IPY_MODEL_40d0d976d068460d8f0ca7a3c3c32c8f"
       ],
       "layout": "IPY_MODEL_4569490e7533415882842eef2e4a99e7"
      }
     },
     "d529e424cc994760bc51286c7fadc1eb": {
      "model_module": "@jupyter-widgets/controls",
      "model_module_version": "1.5.0",
      "model_name": "DescriptionStyleModel",
      "state": {
       "description_width": ""
      }
     },
     "d52f8def71ec42e79cbf0d36bc50d967": {
      "model_module": "@jupyter-widgets/controls",
      "model_module_version": "1.5.0",
      "model_name": "DescriptionStyleModel",
      "state": {
       "description_width": ""
      }
     },
     "d530753cfbef4dc5bb74725b74a02cc3": {
      "model_module": "@jupyter-widgets/controls",
      "model_module_version": "1.5.0",
      "model_name": "ButtonStyleModel",
      "state": {}
     },
     "d541ed0273f84c509997a60555636029": {
      "model_module": "@jupyter-widgets/controls",
      "model_module_version": "1.5.0",
      "model_name": "DescriptionStyleModel",
      "state": {
       "description_width": ""
      }
     },
     "d5446f487f1848c6ac2e6a752e13c717": {
      "model_module": "@jupyter-widgets/controls",
      "model_module_version": "1.5.0",
      "model_name": "TextareaModel",
      "state": {
       "description": "Code:",
       "layout": "IPY_MODEL_463a884e8a9c4ac0acf946ea1f7958da",
       "placeholder": "Type code here",
       "style": "IPY_MODEL_924f2f6841de4e279df569d09195d281"
      }
     },
     "d54a2d6983f7400f938095b8f80cc171": {
      "model_module": "@jupyter-widgets/controls",
      "model_module_version": "1.5.0",
      "model_name": "LabelModel",
      "state": {
       "layout": "IPY_MODEL_4d72569938694c048330878dff213460",
       "style": "IPY_MODEL_25577b1f56bd4eb8befcd4be99914b23"
      }
     },
     "d55022897e7248d5877f485c1aed5e26": {
      "model_module": "@jupyter-widgets/controls",
      "model_module_version": "1.5.0",
      "model_name": "DescriptionStyleModel",
      "state": {
       "description_width": ""
      }
     },
     "d56ccc0a1417400ba0723fc6799be932": {
      "model_module": "@jupyter-widgets/controls",
      "model_module_version": "1.5.0",
      "model_name": "ButtonStyleModel",
      "state": {}
     },
     "d5885d680d854397be46027e179aa840": {
      "model_module": "@jupyter-widgets/controls",
      "model_module_version": "1.5.0",
      "model_name": "DescriptionStyleModel",
      "state": {
       "description_width": ""
      }
     },
     "d59697b1c6d04b9898b1d35c8d4e939f": {
      "model_module": "@jupyter-widgets/controls",
      "model_module_version": "1.5.0",
      "model_name": "LabelModel",
      "state": {
       "layout": "IPY_MODEL_291fd97e49744b3c977f65175f9cf708",
       "style": "IPY_MODEL_1602fe6f0a7a49569bf4f83a4d5ca79c"
      }
     },
     "d5d3dcdc8c6e4f288befbd204eff9de4": {
      "model_module": "@jupyter-widgets/controls",
      "model_module_version": "1.5.0",
      "model_name": "DescriptionStyleModel",
      "state": {
       "description_width": ""
      }
     },
     "d5eb5697e49b4870800ac4935e22eeb0": {
      "model_module": "@jupyter-widgets/controls",
      "model_module_version": "1.5.0",
      "model_name": "DescriptionStyleModel",
      "state": {
       "description_width": ""
      }
     },
     "d608df80cc4a4054b3f079cbf5732c6b": {
      "model_module": "@jupyter-widgets/controls",
      "model_module_version": "1.5.0",
      "model_name": "HBoxModel",
      "state": {
       "children": [
        "IPY_MODEL_828d09bb5fe748fe85447e513974d034",
        "IPY_MODEL_2fbf412c88e0467c8ec21c298608c3ed"
       ],
       "layout": "IPY_MODEL_db02c4165fbe47d8940b21292f93206d"
      }
     },
     "d61403cf7e69482b934c9700b81ea721": {
      "model_module": "@jupyter-widgets/controls",
      "model_module_version": "1.5.0",
      "model_name": "VBoxModel",
      "state": {
       "children": [
        "IPY_MODEL_e9122497ee0942278804bcc71779dee9",
        "IPY_MODEL_a603a4578e7e4ecaa6520926514c7aa6"
       ],
       "layout": "IPY_MODEL_6507b86716f0459486e6aa5d08d0ccf0"
      }
     },
     "d615618376854e8db484d36bd6f52e9c": {
      "model_module": "@jupyter-widgets/controls",
      "model_module_version": "1.5.0",
      "model_name": "HBoxModel",
      "state": {
       "children": [
        "IPY_MODEL_90b97596339d4d2eb2d3fc9bc03a8cda",
        "IPY_MODEL_00fc5531227d4ef7914cfd1cdfe08cf2"
       ],
       "layout": "IPY_MODEL_c588bc5268f5430ab81368be20e5f37a"
      }
     },
     "d6200b6f65454afa83b4f27f84a0227b": {
      "model_module": "@jupyter-widgets/controls",
      "model_module_version": "1.5.0",
      "model_name": "TextareaModel",
      "state": {
       "description": "Answer:",
       "layout": "IPY_MODEL_53358075fe3a457b9b5d9b4ed4e5393b",
       "placeholder": "Type something",
       "style": "IPY_MODEL_fffb0fd7b581459e9eb21e84b8b54125"
      }
     },
     "d6364a02ea1948aabc4ff49932ee546d": {
      "model_module": "@jupyter-widgets/controls",
      "model_module_version": "1.5.0",
      "model_name": "HBoxModel",
      "state": {
       "children": [
        "IPY_MODEL_d2592a74d36d4291833816a902905069",
        "IPY_MODEL_0248fa6131cf47e7bb4fdcb348537260"
       ],
       "layout": "IPY_MODEL_dff9e485e50c44e6af000ba2003164ec"
      }
     },
     "d66b5360b73447948806dd1d61077dfa": {
      "model_module": "@jupyter-widgets/base",
      "model_module_version": "1.2.0",
      "model_name": "LayoutModel",
      "state": {
       "width": "90%"
      }
     },
     "d67f8c38827749f3a86e5baf61395726": {
      "model_module": "@jupyter-widgets/base",
      "model_module_version": "1.2.0",
      "model_name": "LayoutModel",
      "state": {
       "width": "90%"
      }
     },
     "d68c3fb13f184d5198275686bdc10c99": {
      "model_module": "@jupyter-widgets/base",
      "model_module_version": "1.2.0",
      "model_name": "LayoutModel",
      "state": {}
     },
     "d697d5cb30874b21a7014e6303986c3b": {
      "model_module": "@jupyter-widgets/controls",
      "model_module_version": "1.5.0",
      "model_name": "RadioButtonsModel",
      "state": {
       "_options_labels": [
        "a. light and matter",
        "b. time and space",
        "c. dephasing and dissipation",
        "d. linear and nonlinear processes"
       ],
       "index": 0,
       "layout": "IPY_MODEL_a5bf7aa39c424f138c8b973244310941",
       "style": "IPY_MODEL_247abd2a403545359439daf5b0b6c148"
      }
     },
     "d6a169aaaec1499f86b4f52992df8cd5": {
      "model_module": "@jupyter-widgets/controls",
      "model_module_version": "1.5.0",
      "model_name": "HBoxModel",
      "state": {
       "children": [
        "IPY_MODEL_0e44a26a7fe74c50895a6e9736e2fad1",
        "IPY_MODEL_c7bd4eb736f34013acf0d4cf930a68dc"
       ],
       "layout": "IPY_MODEL_bd6a49b0b0ea42caa60ef0c76063912a"
      }
     },
     "d6a8a2c8f976462eabca94d032aecd6a": {
      "model_module": "@jupyter-widgets/base",
      "model_module_version": "1.2.0",
      "model_name": "LayoutModel",
      "state": {}
     },
     "d6ba18c2dc4b4a9581cd51743ecc8d96": {
      "model_module": "@jupyter-widgets/controls",
      "model_module_version": "1.5.0",
      "model_name": "DescriptionStyleModel",
      "state": {
       "description_width": ""
      }
     },
     "d6e69e048c7649788cf9e412c1f82ea6": {
      "model_module": "@jupyter-widgets/base",
      "model_module_version": "1.2.0",
      "model_name": "LayoutModel",
      "state": {}
     },
     "d6fe8d71c39543cd8e5af65d3f44d355": {
      "model_module": "@jupyter-widgets/controls",
      "model_module_version": "1.5.0",
      "model_name": "LabelModel",
      "state": {
       "layout": "IPY_MODEL_1d81b495b2b1468eab3f06e176ed7e78",
       "style": "IPY_MODEL_6a0c84157bb345d08c3eb5b52949c1a9"
      }
     },
     "d705de74bc52402c85f728d7faeffe8a": {
      "model_module": "@jupyter-widgets/controls",
      "model_module_version": "1.5.0",
      "model_name": "HBoxModel",
      "state": {
       "children": [
        "IPY_MODEL_c6d6541d20574f0d80533d5919d2d208",
        "IPY_MODEL_b411f6d3e85b4037b00100feca062f06"
       ],
       "layout": "IPY_MODEL_5040ffaa4bc74e2885297b9e3ad478c0"
      }
     },
     "d71682e34449456092a9c0246fe9b8bc": {
      "model_module": "@jupyter-widgets/controls",
      "model_module_version": "1.5.0",
      "model_name": "LabelModel",
      "state": {
       "layout": "IPY_MODEL_679bb37d849847ea9494b041bff2de98",
       "style": "IPY_MODEL_581b33022bfe4e2b9bf2956bdea08a57"
      }
     },
     "d718d4e2a5964596978876b5b9878218": {
      "model_module": "@jupyter-widgets/controls",
      "model_module_version": "1.5.0",
      "model_name": "VBoxModel",
      "state": {
       "children": [
        "IPY_MODEL_566d0b0dffe74a01800f7f94022990d5",
        "IPY_MODEL_a8ea608eb5114a52b9551b0d56fa5dc7"
       ],
       "layout": "IPY_MODEL_22c0d8871e124e0092045cc6d4155897"
      }
     },
     "d734628fba4a4446b0cc8a943b50385d": {
      "model_module": "@jupyter-widgets/controls",
      "model_module_version": "1.5.0",
      "model_name": "ButtonModel",
      "state": {
       "description": "Test Code",
       "layout": "IPY_MODEL_87803aec13b544fba907780ffbb0d9e5",
       "style": "IPY_MODEL_d530753cfbef4dc5bb74725b74a02cc3",
       "tooltip": "Click to test your code"
      }
     },
     "d73ce27585be44958d647dc503073da8": {
      "model_module": "@jupyter-widgets/base",
      "model_module_version": "1.2.0",
      "model_name": "LayoutModel",
      "state": {
       "width": "90%"
      }
     },
     "d74f61ca7b0947a9896415a78cdcbffb": {
      "model_module": "@jupyter-widgets/base",
      "model_module_version": "1.2.0",
      "model_name": "LayoutModel",
      "state": {
       "width": "90%"
      }
     },
     "d7681f181ca3420b88d70f0fb1d7643c": {
      "model_module": "@jupyter-widgets/base",
      "model_module_version": "1.2.0",
      "model_name": "LayoutModel",
      "state": {}
     },
     "d790379e2bab406b8bfe30d6bf5db359": {
      "model_module": "@jupyter-widgets/base",
      "model_module_version": "1.2.0",
      "model_name": "LayoutModel",
      "state": {}
     },
     "d79b3cc1747445f59b3bc467d5da644d": {
      "model_module": "@jupyter-widgets/base",
      "model_module_version": "1.2.0",
      "model_name": "LayoutModel",
      "state": {
       "width": "90%"
      }
     },
     "d7d1e15a68124713805fc51760cc9d0a": {
      "model_module": "@jupyter-widgets/base",
      "model_module_version": "1.2.0",
      "model_name": "LayoutModel",
      "state": {
       "width": "5%"
      }
     },
     "d7ddd7467a5049f9a95a0888d43df9bc": {
      "model_module": "@jupyter-widgets/controls",
      "model_module_version": "1.5.0",
      "model_name": "TextareaModel",
      "state": {
       "description": "Answer:",
       "layout": "IPY_MODEL_c12331e11e204a48bd93abb6aa55ee88",
       "placeholder": "Type something",
       "style": "IPY_MODEL_df834fc1499c4013a26386128749cbbf"
      }
     },
     "d7fc1a1d39654228b342c0cdd8da11ce": {
      "model_module": "@jupyter-widgets/controls",
      "model_module_version": "1.5.0",
      "model_name": "TextareaModel",
      "state": {
       "description": "String:",
       "layout": "IPY_MODEL_a4b71278257e4d989389c4a2342439fb",
       "placeholder": "Type something",
       "style": "IPY_MODEL_147e55cd2739450b8e60582768dab26e"
      }
     },
     "d85ce0ea6863486aac467e07e63c2e65": {
      "model_module": "@jupyter-widgets/base",
      "model_module_version": "1.2.0",
      "model_name": "LayoutModel",
      "state": {
       "width": "90%"
      }
     },
     "d86e251d25d6411993feb96cb6e4c078": {
      "model_module": "@jupyter-widgets/controls",
      "model_module_version": "1.5.0",
      "model_name": "LabelModel",
      "state": {
       "layout": "IPY_MODEL_6438b6e69b3b481c900043217c7dd9c5",
       "style": "IPY_MODEL_56a12e8451c64646971890460972ba39"
      }
     },
     "d8a48e835e0e49f5935c3603745a2780": {
      "model_module": "@jupyter-widgets/controls",
      "model_module_version": "1.5.0",
      "model_name": "LabelModel",
      "state": {
       "layout": "IPY_MODEL_b9463b26194942a2b0a72c50521a69b4",
       "style": "IPY_MODEL_0c88355eb6ce4c0e87ff91a3811135d4"
      }
     },
     "d8bae8fe9b404fe496d4bb368a64b67d": {
      "model_module": "@jupyter-widgets/controls",
      "model_module_version": "1.5.0",
      "model_name": "HBoxModel",
      "state": {
       "children": [
        "IPY_MODEL_a716701a15cc4315a0ede16b5d919732",
        "IPY_MODEL_0634d6ab4dd84851aea3e2ac04d38365"
       ],
       "layout": "IPY_MODEL_5b5b3600f3f944158e00927422e1f96c"
      }
     },
     "d900bf9254fd4594be1b5a3e0485c9b6": {
      "model_module": "@jupyter-widgets/controls",
      "model_module_version": "1.5.0",
      "model_name": "TextareaModel",
      "state": {
       "description": "Code:",
       "layout": "IPY_MODEL_b6a50f51990d45999315fafe66427bd4",
       "placeholder": "Type code here",
       "style": "IPY_MODEL_bb622053f7aa412fb734641f34df9889"
      }
     },
     "d9062bce7c2e498b8bdf9201fa485e1f": {
      "model_module": "@jupyter-widgets/base",
      "model_module_version": "1.2.0",
      "model_name": "LayoutModel",
      "state": {}
     },
     "d93e6797cc8b4f809ddc1f082d3b530c": {
      "model_module": "@jupyter-widgets/controls",
      "model_module_version": "1.5.0",
      "model_name": "DescriptionStyleModel",
      "state": {
       "description_width": ""
      }
     },
     "d947b4d31bfd492a9af94091a8bf4fec": {
      "model_module": "@jupyter-widgets/base",
      "model_module_version": "1.2.0",
      "model_name": "LayoutModel",
      "state": {}
     },
     "d96aa3513fe2470e9058e6a8a762e17b": {
      "model_module": "@jupyter-widgets/base",
      "model_module_version": "1.2.0",
      "model_name": "LayoutModel",
      "state": {
       "width": "90%"
      }
     },
     "d97f3b7dc7634494b586ae1bde128a2b": {
      "model_module": "@jupyter-widgets/output",
      "model_module_version": "1.0.0",
      "model_name": "OutputModel",
      "state": {
       "layout": "IPY_MODEL_f09fad981293442191e7614371f2b22a"
      }
     },
     "d99f31f041c4418695fc6adb44dd01b6": {
      "model_module": "@jupyter-widgets/controls",
      "model_module_version": "1.5.0",
      "model_name": "DescriptionStyleModel",
      "state": {
       "description_width": ""
      }
     },
     "d9aaa5dea07e45f6af91c9ffc071fefe": {
      "model_module": "@jupyter-widgets/base",
      "model_module_version": "1.2.0",
      "model_name": "LayoutModel",
      "state": {
       "width": "90%"
      }
     },
     "d9b6ca447dea4db7b152209ddf247218": {
      "model_module": "@jupyter-widgets/controls",
      "model_module_version": "1.5.0",
      "model_name": "TextareaModel",
      "state": {
       "description": "Code:",
       "layout": "IPY_MODEL_cec5fcd622c24d829edf9cb2d5b43d90",
       "placeholder": "Type code here",
       "style": "IPY_MODEL_0a6816b22d4f45748587936783f1a43a",
       "value": "for n in range(0,10):\n  print(n)"
      }
     },
     "d9bab028053d4559858addfcc6a1ef7b": {
      "model_module": "@jupyter-widgets/controls",
      "model_module_version": "1.5.0",
      "model_name": "LabelModel",
      "state": {
       "layout": "IPY_MODEL_ca6b5401dbcb46c8986ecc961af6efc1",
       "style": "IPY_MODEL_94a53ac47ca8435ba307292d63b37f24"
      }
     },
     "d9cf3327224e478295ac664bea010d9e": {
      "model_module": "@jupyter-widgets/base",
      "model_module_version": "1.2.0",
      "model_name": "LayoutModel",
      "state": {}
     },
     "d9dcdac5f2914818826c3fe8a6cd41a3": {
      "model_module": "@jupyter-widgets/base",
      "model_module_version": "1.2.0",
      "model_name": "LayoutModel",
      "state": {}
     },
     "d9efa11459ee4040b9590bee1d6601d9": {
      "model_module": "@jupyter-widgets/base",
      "model_module_version": "1.2.0",
      "model_name": "LayoutModel",
      "state": {
       "width": "5%"
      }
     },
     "da0b5b36fb5846a38eb7647507b48004": {
      "model_module": "@jupyter-widgets/controls",
      "model_module_version": "1.5.0",
      "model_name": "LabelModel",
      "state": {
       "layout": "IPY_MODEL_7af864c753094332b9ef877f9448d2d5",
       "style": "IPY_MODEL_2a95d13dc1534ad28fed5e33fb2d1184"
      }
     },
     "da1bdf4b741c4f82aba2258cef14f688": {
      "model_module": "@jupyter-widgets/base",
      "model_module_version": "1.2.0",
      "model_name": "LayoutModel",
      "state": {
       "width": "5%"
      }
     },
     "da2bbd03fe3b48fba05c6654e73ce6ae": {
      "model_module": "@jupyter-widgets/controls",
      "model_module_version": "1.5.0",
      "model_name": "RadioButtonsModel",
      "state": {
       "_options_labels": [
        "a. The Coulomb potential",
        "b. Mental anguish",
        "c. Propagating electromagnetic waves",
        "d. More charges"
       ],
       "index": 0,
       "layout": "IPY_MODEL_dcb19b2756a94d82be3054eb38266959",
       "style": "IPY_MODEL_ea90046d10be47e8acf55bfb6799ade6"
      }
     },
     "da30a10f726248658c05e72ffb0b111a": {
      "model_module": "@jupyter-widgets/base",
      "model_module_version": "1.2.0",
      "model_name": "LayoutModel",
      "state": {}
     },
     "da5ab9a626e34a3b909fe18596ee5388": {
      "model_module": "@jupyter-widgets/controls",
      "model_module_version": "1.5.0",
      "model_name": "DescriptionStyleModel",
      "state": {
       "description_width": ""
      }
     },
     "da6defa7373a4744a48f47bfa89cd9c6": {
      "model_module": "@jupyter-widgets/controls",
      "model_module_version": "1.5.0",
      "model_name": "LabelModel",
      "state": {
       "layout": "IPY_MODEL_14a956b9c3bd4de0a06220ac7f236b26",
       "style": "IPY_MODEL_1913b8cdbfa742e9a72ffbff47e5bab3"
      }
     },
     "da71cd1c827c4eeba792d5d209130300": {
      "model_module": "@jupyter-widgets/controls",
      "model_module_version": "1.5.0",
      "model_name": "TextareaModel",
      "state": {
       "description": "Code:",
       "layout": "IPY_MODEL_35795399227246d5ac926b31f1d999d7",
       "placeholder": "Type code here",
       "style": "IPY_MODEL_cc79db804de84a4cbe1923218f4fdfc1",
       "value": "for n in range(0,10):\n  print(n**2)"
      }
     },
     "da72e2257fa0459789e79b6d44ea9f3d": {
      "model_module": "@jupyter-widgets/base",
      "model_module_version": "1.2.0",
      "model_name": "LayoutModel",
      "state": {
       "width": "90%"
      }
     },
     "da816d3614764bb78f28e1636415d760": {
      "model_module": "@jupyter-widgets/controls",
      "model_module_version": "1.5.0",
      "model_name": "RadioButtonsModel",
      "state": {
       "_options_labels": [
        "a. df = 1/(N*dt)",
        "b. df = 1/dt",
        "c. df = N*dt",
        "d. df = N/dt"
       ],
       "index": 0,
       "layout": "IPY_MODEL_d6e69e048c7649788cf9e412c1f82ea6",
       "style": "IPY_MODEL_5e897bf3e75e40c6a6bc678ba047dbbb"
      }
     },
     "da99650d6efb4aff9ff76c30b8a3638b": {
      "model_module": "@jupyter-widgets/base",
      "model_module_version": "1.2.0",
      "model_name": "LayoutModel",
      "state": {}
     },
     "daa5027145fd4e3bbcaa23ae8626574b": {
      "model_module": "@jupyter-widgets/controls",
      "model_module_version": "1.5.0",
      "model_name": "LabelModel",
      "state": {
       "layout": "IPY_MODEL_631228888577453a8bd63df5e889475d",
       "style": "IPY_MODEL_9b923df0471b4f2d85747566bfa2d3c3"
      }
     },
     "daa63af477c045b1b9ce81ac0deeb65b": {
      "model_module": "@jupyter-widgets/base",
      "model_module_version": "1.2.0",
      "model_name": "LayoutModel",
      "state": {
       "width": "90%"
      }
     },
     "daae088fbff545a2a3fd695b95415806": {
      "model_module": "@jupyter-widgets/base",
      "model_module_version": "1.2.0",
      "model_name": "LayoutModel",
      "state": {
       "width": "5%"
      }
     },
     "dac5e653c27b4ad18649b45ca4656640": {
      "model_module": "@jupyter-widgets/controls",
      "model_module_version": "1.5.0",
      "model_name": "DescriptionStyleModel",
      "state": {
       "description_width": ""
      }
     },
     "daf6cc71042b403ba2357881bc07af6a": {
      "model_module": "@jupyter-widgets/base",
      "model_module_version": "1.2.0",
      "model_name": "LayoutModel",
      "state": {}
     },
     "dafe4f35d3cb4ca6be7c8dcc47b12332": {
      "model_module": "@jupyter-widgets/base",
      "model_module_version": "1.2.0",
      "model_name": "LayoutModel",
      "state": {
       "width": "5%"
      }
     },
     "db02c4165fbe47d8940b21292f93206d": {
      "model_module": "@jupyter-widgets/base",
      "model_module_version": "1.2.0",
      "model_name": "LayoutModel",
      "state": {}
     },
     "db1091b0e2164b5abb5b2810789fefd3": {
      "model_module": "@jupyter-widgets/controls",
      "model_module_version": "1.5.0",
      "model_name": "HBoxModel",
      "state": {
       "children": [
        "IPY_MODEL_c13e169b744d465aa33258f3b88fcef9",
        "IPY_MODEL_8a22baa7fe334c099852a8d4b053c474"
       ],
       "layout": "IPY_MODEL_25192be955f741bbbf5ab84b4ac6c1bc"
      }
     },
     "db14575a98ab42ac97b715f90ae1a08d": {
      "model_module": "@jupyter-widgets/output",
      "model_module_version": "1.0.0",
      "model_name": "OutputModel",
      "state": {
       "layout": "IPY_MODEL_5a8ec2dd66f54a95b7952c86fd5feabe",
       "outputs": [
        {
         "name": "stdout",
         "output_type": "stream",
         "text": "0\n1\n2\n3\n4\n5\n6\n7\n8\n9\n"
        }
       ]
      }
     },
     "db5252e9876a4697b1eb06f96600a7f4": {
      "model_module": "@jupyter-widgets/base",
      "model_module_version": "1.2.0",
      "model_name": "LayoutModel",
      "state": {
       "width": "90%"
      }
     },
     "db57560b891e43489d5b3385306ffe9d": {
      "model_module": "@jupyter-widgets/controls",
      "model_module_version": "1.5.0",
      "model_name": "TextareaModel",
      "state": {
       "description": "String:",
       "layout": "IPY_MODEL_f8ab6a30021c4dc7bc19184aed74a2ac",
       "placeholder": "Type something",
       "style": "IPY_MODEL_fb1290c09637473ca1cadd0b99d244a4"
      }
     },
     "db806e2547784001ae6dd7831667d8b9": {
      "model_module": "@jupyter-widgets/controls",
      "model_module_version": "1.5.0",
      "model_name": "TextareaModel",
      "state": {
       "description": "String:",
       "layout": "IPY_MODEL_e753e44c93844d648d077c5d379a9f21",
       "placeholder": "Type something",
       "style": "IPY_MODEL_2bc289afe1914a5698f6ff663e32a633"
      }
     },
     "db985567f2dd469ab9097071f24d66a0": {
      "model_module": "@jupyter-widgets/controls",
      "model_module_version": "1.5.0",
      "model_name": "RadioButtonsModel",
      "state": {
       "_options_labels": [
        "a. The Schrodinger equation",
        "b. Newton's Equations",
        "c. Maxwell's Equations",
        "d. The Klein-Gordon Equation"
       ],
       "index": 0,
       "layout": "IPY_MODEL_05ed29549be240d692c9ab4894559697",
       "style": "IPY_MODEL_2726179f35264ddfbf61cb92204a7e67"
      }
     },
     "db997bde5c274d30afd0b3dd99d3f199": {
      "model_module": "@jupyter-widgets/controls",
      "model_module_version": "1.5.0",
      "model_name": "DescriptionStyleModel",
      "state": {
       "description_width": ""
      }
     },
     "db9f8701b6044e348c79a8b359be853d": {
      "model_module": "@jupyter-widgets/controls",
      "model_module_version": "1.5.0",
      "model_name": "DescriptionStyleModel",
      "state": {
       "description_width": ""
      }
     },
     "dba0dbf115cd4ec98a6e7bdcda8e6921": {
      "model_module": "@jupyter-widgets/controls",
      "model_module_version": "1.5.0",
      "model_name": "LabelModel",
      "state": {
       "layout": "IPY_MODEL_14d00612372a44518abefaba2879a5a4",
       "style": "IPY_MODEL_56bbb83493fc4b1794155037d288d193"
      }
     },
     "dbb6a710bcfc4aaf9e6c268e58dfd1b4": {
      "model_module": "@jupyter-widgets/controls",
      "model_module_version": "1.5.0",
      "model_name": "DescriptionStyleModel",
      "state": {
       "description_width": ""
      }
     },
     "dbbd0acf30f34408bae31b673547d795": {
      "model_module": "@jupyter-widgets/controls",
      "model_module_version": "1.5.0",
      "model_name": "DescriptionStyleModel",
      "state": {
       "description_width": ""
      }
     },
     "dbbd27c5c03a4f589d8b131b592d1fab": {
      "model_module": "@jupyter-widgets/controls",
      "model_module_version": "1.5.0",
      "model_name": "DescriptionStyleModel",
      "state": {
       "description_width": ""
      }
     },
     "dbd384d1d8804d5095e53915806607e3": {
      "model_module": "@jupyter-widgets/controls",
      "model_module_version": "1.5.0",
      "model_name": "DescriptionStyleModel",
      "state": {
       "description_width": ""
      }
     },
     "dbde11f9e7e14545a20679680e4080a9": {
      "model_module": "@jupyter-widgets/controls",
      "model_module_version": "1.5.0",
      "model_name": "LabelModel",
      "state": {
       "layout": "IPY_MODEL_459bc05aa457499394524165c95ff752",
       "style": "IPY_MODEL_3d4de910070d4cccbc0ef92fd846a0c4"
      }
     },
     "dbe014b90a1245a09ba5a241e986950c": {
      "model_module": "@jupyter-widgets/controls",
      "model_module_version": "1.5.0",
      "model_name": "DescriptionStyleModel",
      "state": {
       "description_width": ""
      }
     },
     "dbf6a0b02a97449cb1a665fb28020bee": {
      "model_module": "@jupyter-widgets/controls",
      "model_module_version": "1.5.0",
      "model_name": "LabelModel",
      "state": {
       "layout": "IPY_MODEL_18067e3760ac40919d37b1e52ca29e10",
       "style": "IPY_MODEL_02929bdacb944261bbd758025bd330f9"
      }
     },
     "dc06ad3a1ca448beb0163552a1b585b3": {
      "model_module": "@jupyter-widgets/controls",
      "model_module_version": "1.5.0",
      "model_name": "LabelModel",
      "state": {
       "layout": "IPY_MODEL_96c5444a80e748fb9203e2b182e1550b",
       "style": "IPY_MODEL_4b7fab9bc0c9411c89449af2b7a66c69"
      }
     },
     "dc5b32afd89e426fb164bcd11681bb59": {
      "model_module": "@jupyter-widgets/controls",
      "model_module_version": "1.5.0",
      "model_name": "DescriptionStyleModel",
      "state": {
       "description_width": ""
      }
     },
     "dc72bf47b01e4654a7b46e252817208c": {
      "model_module": "@jupyter-widgets/controls",
      "model_module_version": "1.5.0",
      "model_name": "HBoxModel",
      "state": {
       "children": [
        "IPY_MODEL_cc3899b8b7a04f26974af8df2959f25c",
        "IPY_MODEL_6e24b326ebba4222ada6be2222d7f456"
       ],
       "layout": "IPY_MODEL_2e5010aab6a74a19a2a518c30cf8e687"
      }
     },
     "dc821d906f044cd7a00cc8190a2fc834": {
      "model_module": "@jupyter-widgets/base",
      "model_module_version": "1.2.0",
      "model_name": "LayoutModel",
      "state": {
       "width": "5%"
      }
     },
     "dc8f17b2ae14432d852f991e9d8c46d8": {
      "model_module": "@jupyter-widgets/controls",
      "model_module_version": "1.5.0",
      "model_name": "TextareaModel",
      "state": {
       "description": "String:",
       "layout": "IPY_MODEL_29c8d321f2954ee99a0eb18e45465a43",
       "placeholder": "Type something",
       "style": "IPY_MODEL_66732528f95d4bfe9febf57b4868fc10"
      }
     },
     "dc9fc508e37d4d22aefe0ea4fa61a512": {
      "model_module": "@jupyter-widgets/controls",
      "model_module_version": "1.5.0",
      "model_name": "HBoxModel",
      "state": {
       "children": [
        "IPY_MODEL_aeb996611547471eaba92ad5087c7e2a",
        "IPY_MODEL_07e56aea1b684d38b8df840d09f73fca"
       ],
       "layout": "IPY_MODEL_a25a9c1c1a30444fa417783c562579e0"
      }
     },
     "dcb19b2756a94d82be3054eb38266959": {
      "model_module": "@jupyter-widgets/base",
      "model_module_version": "1.2.0",
      "model_name": "LayoutModel",
      "state": {
       "width": "90%"
      }
     },
     "dcb2e61822c94f86bca214a9ca949e6d": {
      "model_module": "@jupyter-widgets/controls",
      "model_module_version": "1.5.0",
      "model_name": "HBoxModel",
      "state": {
       "children": [
        "IPY_MODEL_b0ddca2d3f454699a0f1a3eb3a6c5b14",
        "IPY_MODEL_2e49c81c16044989a9df44f9455ecaf6"
       ],
       "layout": "IPY_MODEL_d7681f181ca3420b88d70f0fb1d7643c"
      }
     },
     "dcb5e04a4ff94c5c86955cf25f1d1153": {
      "model_module": "@jupyter-widgets/base",
      "model_module_version": "1.2.0",
      "model_name": "LayoutModel",
      "state": {}
     },
     "dcd47b59f1d944e5be87beede891bea0": {
      "model_module": "@jupyter-widgets/output",
      "model_module_version": "1.0.0",
      "model_name": "OutputModel",
      "state": {
       "layout": "IPY_MODEL_2080fcc286da47b0ac92b5f4593b455a"
      }
     },
     "dce035d7d67d48e9b2e1bf9a276f61ca": {
      "model_module": "@jupyter-widgets/controls",
      "model_module_version": "1.5.0",
      "model_name": "DescriptionStyleModel",
      "state": {
       "description_width": ""
      }
     },
     "dced2d7ea69741a69e3ab7d2ff352a50": {
      "model_module": "@jupyter-widgets/base",
      "model_module_version": "1.2.0",
      "model_name": "LayoutModel",
      "state": {
       "width": "90%"
      }
     },
     "dcede049aeaa487cab97f6560cbce075": {
      "model_module": "@jupyter-widgets/controls",
      "model_module_version": "1.5.0",
      "model_name": "TextareaModel",
      "state": {
       "description": "String:",
       "layout": "IPY_MODEL_b5483b54fde44480bfeb0cb928d3f1a5",
       "placeholder": "Type something",
       "style": "IPY_MODEL_742e1aeac5a4404e97464cd52f8ed94b"
      }
     },
     "dd081dc1cf994f2598234405c6182da2": {
      "model_module": "@jupyter-widgets/controls",
      "model_module_version": "1.5.0",
      "model_name": "DescriptionStyleModel",
      "state": {
       "description_width": ""
      }
     },
     "dd087d89513b4e3f849a5c3f44661d9c": {
      "model_module": "@jupyter-widgets/controls",
      "model_module_version": "1.5.0",
      "model_name": "HBoxModel",
      "state": {
       "children": [
        "IPY_MODEL_1b3ba1292ffc45629fdbe7d23e1b4fac",
        "IPY_MODEL_a2c2a45dd2f848d1b343b3fc387b03d1"
       ],
       "layout": "IPY_MODEL_4965071dae92491992bc5e64775ce697"
      }
     },
     "dd0a85a652e44343a53029612b330935": {
      "model_module": "@jupyter-widgets/controls",
      "model_module_version": "1.5.0",
      "model_name": "ButtonModel",
      "state": {
       "description": "Run Code",
       "layout": "IPY_MODEL_ec44026d01f14324838258493b0ecebe",
       "style": "IPY_MODEL_33bda95fdf094d90a16fd2fe2286fde6",
       "tooltip": "Click to test your code"
      }
     },
     "dd3820b69fd2408a94667d6e34b1063a": {
      "model_module": "@jupyter-widgets/base",
      "model_module_version": "1.2.0",
      "model_name": "LayoutModel",
      "state": {
       "width": "5%"
      }
     },
     "dd3e4582ece24d9b809730245535af64": {
      "model_module": "@jupyter-widgets/controls",
      "model_module_version": "1.5.0",
      "model_name": "LabelModel",
      "state": {
       "layout": "IPY_MODEL_07abae8aa6a449c3873994a4c74ec693",
       "style": "IPY_MODEL_a3228eac08534d2d8a22a0e2a12ff003"
      }
     },
     "dd652464f5924ab38f70784cc26147e3": {
      "model_module": "@jupyter-widgets/controls",
      "model_module_version": "1.5.0",
      "model_name": "DescriptionStyleModel",
      "state": {
       "description_width": ""
      }
     },
     "dd8779ffdc6049e6ad87a227a9a4f5c8": {
      "model_module": "@jupyter-widgets/base",
      "model_module_version": "1.2.0",
      "model_name": "LayoutModel",
      "state": {}
     },
     "dda218a7ae144e3a88aae73ce37900dc": {
      "model_module": "@jupyter-widgets/controls",
      "model_module_version": "1.5.0",
      "model_name": "RadioButtonsModel",
      "state": {
       "_options_labels": [
        "a. light and matter",
        "b. time and space",
        "c. dephasing and dissipation",
        "d. linear and nonlinear processes"
       ],
       "index": 0,
       "layout": "IPY_MODEL_2999b100ce914a67bcf96f06f8f6b616",
       "style": "IPY_MODEL_c2a57e8a7c794e51b3746ec5e251cd4c"
      }
     },
     "ddb4a89a322647c5a60a24121bb940d2": {
      "model_module": "@jupyter-widgets/controls",
      "model_module_version": "1.5.0",
      "model_name": "VBoxModel",
      "state": {
       "children": [
        "IPY_MODEL_aaef47321aa443da803b04e005683bd5",
        "IPY_MODEL_21acf975e0b346b9a5e5787f4a2df1a7"
       ],
       "layout": "IPY_MODEL_5a4cc70dae9c4051bdc5ff3f226ae995"
      }
     },
     "ddd071c8c75b461c94f3896d69b115cf": {
      "model_module": "@jupyter-widgets/base",
      "model_module_version": "1.2.0",
      "model_name": "LayoutModel",
      "state": {}
     },
     "dde12b2ee38d4a42a5c81a1b33ce287f": {
      "model_module": "@jupyter-widgets/base",
      "model_module_version": "1.2.0",
      "model_name": "LayoutModel",
      "state": {}
     },
     "ddf1d72705bf426ea80e48dfc2a5bcdc": {
      "model_module": "@jupyter-widgets/base",
      "model_module_version": "1.2.0",
      "model_name": "LayoutModel",
      "state": {}
     },
     "ddf5ee80d0f440afa924017413f1a4a5": {
      "model_module": "@jupyter-widgets/controls",
      "model_module_version": "1.5.0",
      "model_name": "TextareaModel",
      "state": {
       "description": "String:",
       "layout": "IPY_MODEL_29e5f3f9da2c42c6b7a307143507f919",
       "placeholder": "Type something",
       "style": "IPY_MODEL_6e062e669b1a4bceba5ab392e7b54665"
      }
     },
     "de0edd9040b840eaafa8d6ddd1d2c56f": {
      "model_module": "@jupyter-widgets/base",
      "model_module_version": "1.2.0",
      "model_name": "LayoutModel",
      "state": {
       "width": "90%"
      }
     },
     "de29e1b57dcf47c3a34884c7192a0f1e": {
      "model_module": "@jupyter-widgets/controls",
      "model_module_version": "1.5.0",
      "model_name": "TextareaModel",
      "state": {
       "description": "String:",
       "layout": "IPY_MODEL_87ea68842af6436d9436f5b6d7585c36",
       "placeholder": "Type something",
       "style": "IPY_MODEL_7468aafa88a14d88a4051848a026a1d4"
      }
     },
     "de513c48c3e24b51979e62cc1dcee3b7": {
      "model_module": "@jupyter-widgets/base",
      "model_module_version": "1.2.0",
      "model_name": "LayoutModel",
      "state": {
       "width": "5%"
      }
     },
     "decc6d1573ea4ec2a10298bdfffac483": {
      "model_module": "@jupyter-widgets/base",
      "model_module_version": "1.2.0",
      "model_name": "LayoutModel",
      "state": {}
     },
     "df0a8bdcad5745729ef55f8b2ced37a4": {
      "model_module": "@jupyter-widgets/base",
      "model_module_version": "1.2.0",
      "model_name": "LayoutModel",
      "state": {}
     },
     "df1b8d6c46d74e0bbb057580e303dc8d": {
      "model_module": "@jupyter-widgets/controls",
      "model_module_version": "1.5.0",
      "model_name": "HBoxModel",
      "state": {
       "children": [
        "IPY_MODEL_4191c5b369d94406a2dcd27f302829d6",
        "IPY_MODEL_6973d6840a424e0096415c83a0c3c976"
       ],
       "layout": "IPY_MODEL_30034e00e088435bbb0354e478f2dee9"
      }
     },
     "df253d86e0c5426bada5e8b991cc6f30": {
      "model_module": "@jupyter-widgets/controls",
      "model_module_version": "1.5.0",
      "model_name": "LabelModel",
      "state": {
       "layout": "IPY_MODEL_2bd600264e5b4869b2fccf00a9bb70a7",
       "style": "IPY_MODEL_ecd563153b434a8b97e9b057ed3b00ed"
      }
     },
     "df333b77f96049e7863d9fb9aea6eb1b": {
      "model_module": "@jupyter-widgets/controls",
      "model_module_version": "1.5.0",
      "model_name": "LabelModel",
      "state": {
       "layout": "IPY_MODEL_55ead108632540c3a66df750a32c368a",
       "style": "IPY_MODEL_6906dd624e2b4490b0237debada6ef1f"
      }
     },
     "df834fc1499c4013a26386128749cbbf": {
      "model_module": "@jupyter-widgets/controls",
      "model_module_version": "1.5.0",
      "model_name": "DescriptionStyleModel",
      "state": {
       "description_width": ""
      }
     },
     "dfa841d0f0124846ba0c7ccfc4aba012": {
      "model_module": "@jupyter-widgets/controls",
      "model_module_version": "1.5.0",
      "model_name": "DescriptionStyleModel",
      "state": {
       "description_width": ""
      }
     },
     "dfcf9165481643a7aa1be730fe26c80e": {
      "model_module": "@jupyter-widgets/base",
      "model_module_version": "1.2.0",
      "model_name": "LayoutModel",
      "state": {
       "width": "5%"
      }
     },
     "dff99256904d4299a80412e9e7a0b5ea": {
      "model_module": "@jupyter-widgets/controls",
      "model_module_version": "1.5.0",
      "model_name": "DescriptionStyleModel",
      "state": {
       "description_width": ""
      }
     },
     "dff9e485e50c44e6af000ba2003164ec": {
      "model_module": "@jupyter-widgets/base",
      "model_module_version": "1.2.0",
      "model_name": "LayoutModel",
      "state": {}
     },
     "e00937d2973045b6bc612e4fe96d9641": {
      "model_module": "@jupyter-widgets/controls",
      "model_module_version": "1.5.0",
      "model_name": "HBoxModel",
      "state": {
       "children": [
        "IPY_MODEL_6d12aeea9aba4ac79599b5f177144ef1",
        "IPY_MODEL_4f293feaa2c34c79b8fa12dabf3e67eb"
       ],
       "layout": "IPY_MODEL_010bb3fa750b429794421f3641987b1a"
      }
     },
     "e036ee62afca4fab888b7255a1d09ba9": {
      "model_module": "@jupyter-widgets/base",
      "model_module_version": "1.2.0",
      "model_name": "LayoutModel",
      "state": {}
     },
     "e061e325a4b347e997bc4004665f1b53": {
      "model_module": "@jupyter-widgets/controls",
      "model_module_version": "1.5.0",
      "model_name": "DescriptionStyleModel",
      "state": {
       "description_width": ""
      }
     },
     "e077facadf2e43c9876013d5e50f254e": {
      "model_module": "@jupyter-widgets/controls",
      "model_module_version": "1.5.0",
      "model_name": "LabelModel",
      "state": {
       "layout": "IPY_MODEL_f3cd4b9a1b9549c9a15ff8ae58efcec9",
       "style": "IPY_MODEL_f0bdcc1d31534f3ea497c08ac3bee06b"
      }
     },
     "e07d1b2c046b45dbb8605f17d0cbf2f0": {
      "model_module": "@jupyter-widgets/base",
      "model_module_version": "1.2.0",
      "model_name": "LayoutModel",
      "state": {}
     },
     "e07ebd1909424a55b349f87fa89427c9": {
      "model_module": "@jupyter-widgets/controls",
      "model_module_version": "1.5.0",
      "model_name": "LabelModel",
      "state": {
       "layout": "IPY_MODEL_ca014a0762e346eb9a12e490d0c10287",
       "style": "IPY_MODEL_4b86191f41d1419fb532efaff3876fe4"
      }
     },
     "e07f4a550d644504a0e10c7ba165384e": {
      "model_module": "@jupyter-widgets/controls",
      "model_module_version": "1.5.0",
      "model_name": "DescriptionStyleModel",
      "state": {
       "description_width": ""
      }
     },
     "e08b0c906c3646029cce1c2c66902c37": {
      "model_module": "@jupyter-widgets/controls",
      "model_module_version": "1.5.0",
      "model_name": "HBoxModel",
      "state": {
       "children": [
        "IPY_MODEL_7149b6f505c5481fb910a312cf09e8e2",
        "IPY_MODEL_a046ba98d7e24101a7ab84286efa7d16"
       ],
       "layout": "IPY_MODEL_4effcbdf94674afdbfb11e7a80b93063"
      }
     },
     "e0a5b7d346ad43f49a176e993795d4e7": {
      "model_module": "@jupyter-widgets/controls",
      "model_module_version": "1.5.0",
      "model_name": "TextareaModel",
      "state": {
       "description": "Code:",
       "layout": "IPY_MODEL_1945d2182a4a4beba94cba13ffec877d",
       "placeholder": "Type code here",
       "style": "IPY_MODEL_8f98f01a3bde42d7914ec9866bdf7e8e",
       "value": "print('Hi there!')"
      }
     },
     "e0b0ddd2c3e34fa7a40cd5f0e17325ab": {
      "model_module": "@jupyter-widgets/controls",
      "model_module_version": "1.5.0",
      "model_name": "LabelModel",
      "state": {
       "layout": "IPY_MODEL_9e4ad30aa1f042a0b6caf70e0e44356c",
       "style": "IPY_MODEL_531613874c4647589594a0c726b6eac3"
      }
     },
     "e0cdeb0b6e814abc846985b55761778c": {
      "model_module": "@jupyter-widgets/controls",
      "model_module_version": "1.5.0",
      "model_name": "DescriptionStyleModel",
      "state": {
       "description_width": ""
      }
     },
     "e0d8dd71b381437c82383a5a8fdc0575": {
      "model_module": "@jupyter-widgets/controls",
      "model_module_version": "1.5.0",
      "model_name": "DescriptionStyleModel",
      "state": {
       "description_width": ""
      }
     },
     "e0e283d8c569494ea9b8024c37702381": {
      "model_module": "@jupyter-widgets/controls",
      "model_module_version": "1.5.0",
      "model_name": "HBoxModel",
      "state": {
       "children": [
        "IPY_MODEL_6c373787734b4bc4b5a38b5abc010a87",
        "IPY_MODEL_a957bad839a3402ba6a4e227e0742d7e"
       ],
       "layout": "IPY_MODEL_a7baa2fa62cb4e91aef3be7e9dd498b2"
      }
     },
     "e0e81bcd0db04146afb78fc679c563fa": {
      "model_module": "@jupyter-widgets/controls",
      "model_module_version": "1.5.0",
      "model_name": "TextareaModel",
      "state": {
       "description": "String:",
       "layout": "IPY_MODEL_903694c1295247b1952b8175be62afc4",
       "placeholder": "Type something",
       "style": "IPY_MODEL_ecfa360bd0224e438207ae1e208ec123"
      }
     },
     "e0efe626d3ff467fafc6e2df089ef8a0": {
      "model_module": "@jupyter-widgets/controls",
      "model_module_version": "1.5.0",
      "model_name": "DescriptionStyleModel",
      "state": {
       "description_width": ""
      }
     },
     "e0fb605c82bb4f1fbed8d7aae370a84e": {
      "model_module": "@jupyter-widgets/controls",
      "model_module_version": "1.5.0",
      "model_name": "HBoxModel",
      "state": {
       "children": [
        "IPY_MODEL_2e27bcff67fe4ee6a972f3d8efc869a8",
        "IPY_MODEL_9daf6a885efb495790548f2a70d95c36"
       ],
       "layout": "IPY_MODEL_4d8e49d4aca9444aa60a25b80f1b570d"
      }
     },
     "e0fc3c86a72e465488e2c4bd4a022ee4": {
      "model_module": "@jupyter-widgets/controls",
      "model_module_version": "1.5.0",
      "model_name": "DescriptionStyleModel",
      "state": {
       "description_width": ""
      }
     },
     "e12c5416646643b586a363d27a810c7d": {
      "model_module": "@jupyter-widgets/base",
      "model_module_version": "1.2.0",
      "model_name": "LayoutModel",
      "state": {}
     },
     "e1320effd3754f668013d00b23611248": {
      "model_module": "@jupyter-widgets/controls",
      "model_module_version": "1.5.0",
      "model_name": "DescriptionStyleModel",
      "state": {
       "description_width": ""
      }
     },
     "e14ce94817e442ee8a1366e2430c0d1d": {
      "model_module": "@jupyter-widgets/base",
      "model_module_version": "1.2.0",
      "model_name": "LayoutModel",
      "state": {
       "width": "90%"
      }
     },
     "e14e1945ab4649c588019127290eeefa": {
      "model_module": "@jupyter-widgets/controls",
      "model_module_version": "1.5.0",
      "model_name": "HBoxModel",
      "state": {
       "children": [
        "IPY_MODEL_2ce2a0b72ecb434aa183b1e57c3447c1",
        "IPY_MODEL_9c631861299849f58e2554c5d1c361a9"
       ],
       "layout": "IPY_MODEL_4d524bed90d44b28b8caa3ab725deaa0"
      }
     },
     "e19ced9664d34f99aa27a4bc6f4fc3f1": {
      "model_module": "@jupyter-widgets/controls",
      "model_module_version": "1.5.0",
      "model_name": "DescriptionStyleModel",
      "state": {
       "description_width": ""
      }
     },
     "e1b4543ac3834a6e9980bd21a3788c75": {
      "model_module": "@jupyter-widgets/controls",
      "model_module_version": "1.5.0",
      "model_name": "LabelModel",
      "state": {
       "layout": "IPY_MODEL_0265e2f54ec84dacb7fc71fa35fcd0a4",
       "style": "IPY_MODEL_d33b5a99de2149609cf1a37d77a328b7"
      }
     },
     "e1bfd6243b9241a69c60436ca9d412d5": {
      "model_module": "@jupyter-widgets/controls",
      "model_module_version": "1.5.0",
      "model_name": "TextareaModel",
      "state": {
       "description": "String:",
       "layout": "IPY_MODEL_e446871ad29e4fc88d35cd2721bfdbe9",
       "placeholder": "Type something",
       "style": "IPY_MODEL_06ce936a1607471c91eb60f013c30e95"
      }
     },
     "e1c3e0336421491a8efa00a2f7680122": {
      "model_module": "@jupyter-widgets/base",
      "model_module_version": "1.2.0",
      "model_name": "LayoutModel",
      "state": {}
     },
     "e1d533be749341d1865ae61d73e7e12a": {
      "model_module": "@jupyter-widgets/base",
      "model_module_version": "1.2.0",
      "model_name": "LayoutModel",
      "state": {
       "width": "90%"
      }
     },
     "e1d9ffba1fd347fe8bab2f7e50e8238a": {
      "model_module": "@jupyter-widgets/controls",
      "model_module_version": "1.5.0",
      "model_name": "RadioButtonsModel",
      "state": {
       "_options_labels": [
        "a. Polarization",
        "b. Phase",
        "c. Frequency",
        "d. Propagation axis"
       ],
       "index": 0,
       "layout": "IPY_MODEL_b4c1d733a1984041bdfb13a6f13303ac",
       "style": "IPY_MODEL_c1a185a712384d76a6453e0dbf86e169"
      }
     },
     "e1ddf508506241a7a4be28ef7755153e": {
      "model_module": "@jupyter-widgets/controls",
      "model_module_version": "1.5.0",
      "model_name": "LabelModel",
      "state": {
       "layout": "IPY_MODEL_7cc6b22867174ad99240deef429b1cb2",
       "style": "IPY_MODEL_9424cf7103434fd098ffb08b3d5e54bd"
      }
     },
     "e2270ad8ac2343e79072512fb259fefa": {
      "model_module": "@jupyter-widgets/controls",
      "model_module_version": "1.5.0",
      "model_name": "DescriptionStyleModel",
      "state": {
       "description_width": ""
      }
     },
     "e22b4b96434b4a599af5dd4efc911d8f": {
      "model_module": "@jupyter-widgets/controls",
      "model_module_version": "1.5.0",
      "model_name": "HBoxModel",
      "state": {
       "children": [
        "IPY_MODEL_668b414360774a7e89e67a6405693d56",
        "IPY_MODEL_9f3644e7f8c5428b9b5c0a3e6dbf44f0"
       ],
       "layout": "IPY_MODEL_fef66b679de54ec3b32619314ba04636"
      }
     },
     "e23657328a6f463d8db5722daae160f7": {
      "model_module": "@jupyter-widgets/controls",
      "model_module_version": "1.5.0",
      "model_name": "VBoxModel",
      "state": {
       "children": [
        "IPY_MODEL_cc66a1ffbcf04d1c9f32955aa733ba9e",
        "IPY_MODEL_11604b22a45f40eaa5d5932b867b594c"
       ],
       "layout": "IPY_MODEL_5ff1252f66b2410eb045012345855111"
      }
     },
     "e2674b5301aa4d138af91ea56ecca696": {
      "model_module": "@jupyter-widgets/controls",
      "model_module_version": "1.5.0",
      "model_name": "HBoxModel",
      "state": {
       "children": [
        "IPY_MODEL_b072bab29c0d4f8d8780a469712163be",
        "IPY_MODEL_52a38ba0c6d64d59b9ad60f43c2e9ad0"
       ],
       "layout": "IPY_MODEL_b21342aedd2244e7899a743397316a1f"
      }
     },
     "e26e0cf8180e459c8a9a0fbf95d188b5": {
      "model_module": "@jupyter-widgets/controls",
      "model_module_version": "1.5.0",
      "model_name": "RadioButtonsModel",
      "state": {
       "_options_labels": [
        "True",
        "False"
       ],
       "index": 0,
       "layout": "IPY_MODEL_b30b600cf52d426aa73f352ea50439e2",
       "style": "IPY_MODEL_4900d1ba603f41a397bcc8f121c91938"
      }
     },
     "e2cda4c54e974d62953d6aec18e2279a": {
      "model_module": "@jupyter-widgets/base",
      "model_module_version": "1.2.0",
      "model_name": "LayoutModel",
      "state": {
       "width": "5%"
      }
     },
     "e2d5141f83194781a10f4f68d8e4bc10": {
      "model_module": "@jupyter-widgets/controls",
      "model_module_version": "1.5.0",
      "model_name": "HBoxModel",
      "state": {
       "children": [
        "IPY_MODEL_bdd639cb3f564113ba80d6a5b3170734",
        "IPY_MODEL_d36e0f4d338648a2a61965633a354a77"
       ],
       "layout": "IPY_MODEL_52f61aa238274538916403d7d2388b89"
      }
     },
     "e2e20651e92344a1b2d6ef1a5c5d5976": {
      "model_module": "@jupyter-widgets/base",
      "model_module_version": "1.2.0",
      "model_name": "LayoutModel",
      "state": {
       "width": "5%"
      }
     },
     "e2fcee3aa56a4bb48e53e0f62c212dce": {
      "model_module": "@jupyter-widgets/controls",
      "model_module_version": "1.5.0",
      "model_name": "HBoxModel",
      "state": {
       "children": [
        "IPY_MODEL_406283f832954d179d7be36060c81e61",
        "IPY_MODEL_9ca1f243a9ae46518adaa446258e330d"
       ],
       "layout": "IPY_MODEL_6423561ab5424d4588b1eef0e3a06f21"
      }
     },
     "e2fe8efdea8c451c9572492c6fab62bd": {
      "model_module": "@jupyter-widgets/controls",
      "model_module_version": "1.5.0",
      "model_name": "RadioButtonsModel",
      "state": {
       "_options_labels": [
        "a. The electric field",
        "b. The charge density",
        "c. The current density",
        "d. Both b and c"
       ],
       "index": 0,
       "layout": "IPY_MODEL_b9f9dba187fb401aad8251368a057155",
       "style": "IPY_MODEL_c6c4bf61747c40afbdcd678d39db75f3"
      }
     },
     "e30754018f2a4d3a91305edddb4e85d1": {
      "model_module": "@jupyter-widgets/controls",
      "model_module_version": "1.5.0",
      "model_name": "DescriptionStyleModel",
      "state": {
       "description_width": ""
      }
     },
     "e30b19e4099b4f209ba8360ab49d796e": {
      "model_module": "@jupyter-widgets/controls",
      "model_module_version": "1.5.0",
      "model_name": "DescriptionStyleModel",
      "state": {
       "description_width": ""
      }
     },
     "e31ad64b3d9c4ec38a303e393b5e21b2": {
      "model_module": "@jupyter-widgets/controls",
      "model_module_version": "1.5.0",
      "model_name": "TextareaModel",
      "state": {
       "description": "String:",
       "layout": "IPY_MODEL_003c3e639e8d4a70be5d39f7cc6d360e",
       "placeholder": "Type something",
       "style": "IPY_MODEL_25de17457cb040378f0517a011714a3d"
      }
     },
     "e33feae725ae4033abb4336f7e0c60a5": {
      "model_module": "@jupyter-widgets/base",
      "model_module_version": "1.2.0",
      "model_name": "LayoutModel",
      "state": {}
     },
     "e34c346fa8714775a37809d08f73b839": {
      "model_module": "@jupyter-widgets/base",
      "model_module_version": "1.2.0",
      "model_name": "LayoutModel",
      "state": {}
     },
     "e3575457bf49412ba85c2482e7f67516": {
      "model_module": "@jupyter-widgets/controls",
      "model_module_version": "1.5.0",
      "model_name": "ButtonModel",
      "state": {
       "description": "Run Code",
       "layout": "IPY_MODEL_443d175dd48942dda64eee7cf22c8f34",
       "style": "IPY_MODEL_4cee931e00ce4e5a901be25353af4f09",
       "tooltip": "Click to test your code"
      }
     },
     "e3624edea63b4df484165fc267e1538c": {
      "model_module": "@jupyter-widgets/base",
      "model_module_version": "1.2.0",
      "model_name": "LayoutModel",
      "state": {
       "width": "5%"
      }
     },
     "e36fd81157b44c4ab6c8bec0a9c7ef07": {
      "model_module": "@jupyter-widgets/controls",
      "model_module_version": "1.5.0",
      "model_name": "LabelModel",
      "state": {
       "layout": "IPY_MODEL_91476dd603864e598e2c15d626b554df",
       "style": "IPY_MODEL_33c65bd4048243abb47ad39b884ec52b"
      }
     },
     "e373da79c2374377aebae347898b9ef8": {
      "model_module": "@jupyter-widgets/base",
      "model_module_version": "1.2.0",
      "model_name": "LayoutModel",
      "state": {
       "width": "90%"
      }
     },
     "e37976f93f1f43f1ae03d17e3550cf8d": {
      "model_module": "@jupyter-widgets/controls",
      "model_module_version": "1.5.0",
      "model_name": "HBoxModel",
      "state": {
       "children": [
        "IPY_MODEL_213a1010e4fb49fdb3f22c9f012e74dc",
        "IPY_MODEL_38768d0b1cfa4f789cd0fc9d17d94913"
       ],
       "layout": "IPY_MODEL_5a3998d21dbb4331ae148ab23751ac93"
      }
     },
     "e3881677ee004251a646da4bdc801762": {
      "model_module": "@jupyter-widgets/base",
      "model_module_version": "1.2.0",
      "model_name": "LayoutModel",
      "state": {}
     },
     "e395208fa9d14e858b804a240ffb3332": {
      "model_module": "@jupyter-widgets/controls",
      "model_module_version": "1.5.0",
      "model_name": "DescriptionStyleModel",
      "state": {
       "description_width": ""
      }
     },
     "e3f2f8b84e3e422687bf8a30897d67ef": {
      "model_module": "@jupyter-widgets/controls",
      "model_module_version": "1.5.0",
      "model_name": "ButtonModel",
      "state": {
       "description": "Run Code",
       "layout": "IPY_MODEL_64ff395bc67142a59a55bc2b2a71a828",
       "style": "IPY_MODEL_e41292fec4184082b754e73cf773f4bb",
       "tooltip": "Click to test your code"
      }
     },
     "e3ffa899a14740f98fcac8f85b592983": {
      "model_module": "@jupyter-widgets/controls",
      "model_module_version": "1.5.0",
      "model_name": "VBoxModel",
      "state": {
       "children": [
        "IPY_MODEL_1891b18f8e3a403ab09f151a81e744e7",
        "IPY_MODEL_50386acaf48f4feeae3c51bbc854bb3b"
       ],
       "layout": "IPY_MODEL_ccd3219c7dfc4842a18c459627f93540"
      }
     },
     "e41292fec4184082b754e73cf773f4bb": {
      "model_module": "@jupyter-widgets/controls",
      "model_module_version": "1.5.0",
      "model_name": "ButtonStyleModel",
      "state": {}
     },
     "e446871ad29e4fc88d35cd2721bfdbe9": {
      "model_module": "@jupyter-widgets/base",
      "model_module_version": "1.2.0",
      "model_name": "LayoutModel",
      "state": {
       "width": "90%"
      }
     },
     "e47cc6ef991a4d14a3c5c25a8ef88fd2": {
      "model_module": "@jupyter-widgets/controls",
      "model_module_version": "1.5.0",
      "model_name": "LabelModel",
      "state": {
       "layout": "IPY_MODEL_08018faca9ff4af69d2496172923a2e8",
       "style": "IPY_MODEL_ea98233562f6447aac4546e2ca72d01c"
      }
     },
     "e48947c3ab6342688e3d957ea32e42ec": {
      "model_module": "@jupyter-widgets/controls",
      "model_module_version": "1.5.0",
      "model_name": "DescriptionStyleModel",
      "state": {
       "description_width": ""
      }
     },
     "e48b56e4fa9b4703a501b5be134a75f8": {
      "model_module": "@jupyter-widgets/base",
      "model_module_version": "1.2.0",
      "model_name": "LayoutModel",
      "state": {
       "width": "5%"
      }
     },
     "e4b217cb14c54e40a1531019349fcc89": {
      "model_module": "@jupyter-widgets/controls",
      "model_module_version": "1.5.0",
      "model_name": "DescriptionStyleModel",
      "state": {
       "description_width": ""
      }
     },
     "e4caad405bf64994be9fb77af940aaa4": {
      "model_module": "@jupyter-widgets/base",
      "model_module_version": "1.2.0",
      "model_name": "LayoutModel",
      "state": {}
     },
     "e4e15c5148fd43f4ab19ba228ebc70c9": {
      "model_module": "@jupyter-widgets/base",
      "model_module_version": "1.2.0",
      "model_name": "LayoutModel",
      "state": {
       "width": "5%"
      }
     },
     "e506c66758124e28b16f74b528bc0701": {
      "model_module": "@jupyter-widgets/controls",
      "model_module_version": "1.5.0",
      "model_name": "HBoxModel",
      "state": {
       "children": [
        "IPY_MODEL_7887bee1e21d4f78b64cdf67646d4cdc",
        "IPY_MODEL_bb489d3cdc6346d1975572d9a0698557"
       ],
       "layout": "IPY_MODEL_6d90af2638184ea2903e4358eb9c26e6"
      }
     },
     "e50ad9ba992a4ed19dbd543fd784b935": {
      "model_module": "@jupyter-widgets/controls",
      "model_module_version": "1.5.0",
      "model_name": "LabelModel",
      "state": {
       "layout": "IPY_MODEL_da1bdf4b741c4f82aba2258cef14f688",
       "style": "IPY_MODEL_c35a2ca4db4740d6a04f60b4da946871"
      }
     },
     "e5111fb20142496fbc5d1ab0a44b53eb": {
      "model_module": "@jupyter-widgets/controls",
      "model_module_version": "1.5.0",
      "model_name": "RadioButtonsModel",
      "state": {
       "_options_labels": [
        "a. Maxwell's equations",
        "b. Newton's Equations",
        "c. The boundary conditions",
        "d. A given macrostate"
       ],
       "index": 0,
       "layout": "IPY_MODEL_29fdc6169b0e495aa1c57598a9dfae16",
       "style": "IPY_MODEL_c0866bed7a1b4436abfa120b7e2ceee3"
      }
     },
     "e513258767ca4b2ea18dbf4b47e1da44": {
      "model_module": "@jupyter-widgets/controls",
      "model_module_version": "1.5.0",
      "model_name": "HBoxModel",
      "state": {
       "children": [
        "IPY_MODEL_3ddc75856803496588612356c6804961",
        "IPY_MODEL_720544b44bf8487791d225ab6e8d2b83"
       ],
       "layout": "IPY_MODEL_3ff93fd00b80456e9f079ba87dfd8395"
      }
     },
     "e518cc13147e4697a7eccb7d98705a74": {
      "model_module": "@jupyter-widgets/controls",
      "model_module_version": "1.5.0",
      "model_name": "LabelModel",
      "state": {
       "layout": "IPY_MODEL_32eba09db80749ee8f716f9854483397",
       "style": "IPY_MODEL_54b84086c1d647f9852439533c4bcccd"
      }
     },
     "e58ce7ce27d7405d95f0d52d59d5c8fd": {
      "model_module": "@jupyter-widgets/base",
      "model_module_version": "1.2.0",
      "model_name": "LayoutModel",
      "state": {
       "width": "5%"
      }
     },
     "e5dfbeffd2ed470090251dbb4708d115": {
      "model_module": "@jupyter-widgets/base",
      "model_module_version": "1.2.0",
      "model_name": "LayoutModel",
      "state": {
       "width": "90%"
      }
     },
     "e5e06891c21747a59dd211a98f630981": {
      "model_module": "@jupyter-widgets/controls",
      "model_module_version": "1.5.0",
      "model_name": "HBoxModel",
      "state": {
       "children": [
        "IPY_MODEL_46c4d2c2263e4b10ba702eafc1f232d3",
        "IPY_MODEL_0e527dcf6c214d60a868b3cdee76bcfd"
       ],
       "layout": "IPY_MODEL_01ae8c4ac0384c33a6dd47e8fab5ad83"
      }
     },
     "e5e3bba17bbb47c88c1c4bc7d8768543": {
      "model_module": "@jupyter-widgets/controls",
      "model_module_version": "1.5.0",
      "model_name": "DescriptionStyleModel",
      "state": {
       "description_width": ""
      }
     },
     "e60385fa308d404fafa9df21206c12be": {
      "model_module": "@jupyter-widgets/output",
      "model_module_version": "1.0.0",
      "model_name": "OutputModel",
      "state": {
       "layout": "IPY_MODEL_d947b4d31bfd492a9af94091a8bf4fec"
      }
     },
     "e60572520b244e05bcba9f85505e8787": {
      "model_module": "@jupyter-widgets/controls",
      "model_module_version": "1.5.0",
      "model_name": "LabelModel",
      "state": {
       "layout": "IPY_MODEL_603c39c4489a4f2492bb9215048cd681",
       "style": "IPY_MODEL_3bcc138140244543929a5cde008eeb9b"
      }
     },
     "e609462c7ca341b6856a5169eb6c7cd3": {
      "model_module": "@jupyter-widgets/controls",
      "model_module_version": "1.5.0",
      "model_name": "DescriptionStyleModel",
      "state": {
       "description_width": ""
      }
     },
     "e6096350d52c43389a69fc6cb3c28826": {
      "model_module": "@jupyter-widgets/controls",
      "model_module_version": "1.5.0",
      "model_name": "DescriptionStyleModel",
      "state": {
       "description_width": ""
      }
     },
     "e619c763956347f69f558417270f21a6": {
      "model_module": "@jupyter-widgets/controls",
      "model_module_version": "1.5.0",
      "model_name": "RadioButtonsModel",
      "state": {
       "_options_labels": [
        "a. Polarization",
        "b. Phase",
        "c. Frequency",
        "d. Propagation axis"
       ],
       "index": 0,
       "layout": "IPY_MODEL_e14ce94817e442ee8a1366e2430c0d1d",
       "style": "IPY_MODEL_980d522de58a49b1b7251a643f4b8b92"
      }
     },
     "e63d39d6df634822aa090949f380ea6a": {
      "model_module": "@jupyter-widgets/base",
      "model_module_version": "1.2.0",
      "model_name": "LayoutModel",
      "state": {
       "width": "5%"
      }
     },
     "e669f211825a4475844d0f9a4eb46bc5": {
      "model_module": "@jupyter-widgets/base",
      "model_module_version": "1.2.0",
      "model_name": "LayoutModel",
      "state": {
       "width": "5%"
      }
     },
     "e66fe9a12af348efa2a16e64737af481": {
      "model_module": "@jupyter-widgets/output",
      "model_module_version": "1.0.0",
      "model_name": "OutputModel",
      "state": {
       "layout": "IPY_MODEL_8f0b83bc0a5542f98ba8a10cfc9b1daf",
       "outputs": [
        {
         "name": "stdout",
         "output_type": "stream",
         "text": "2\n3\n4\n5\n6\n7\n8\n9\n10\n11\n"
        }
       ]
      }
     },
     "e6759a06f0984fdb8e6d76c3a17fb32f": {
      "model_module": "@jupyter-widgets/controls",
      "model_module_version": "1.5.0",
      "model_name": "DescriptionStyleModel",
      "state": {
       "description_width": ""
      }
     },
     "e67b4a993fce4bcc8c1eb4b8d459ef3c": {
      "model_module": "@jupyter-widgets/controls",
      "model_module_version": "1.5.0",
      "model_name": "TextareaModel",
      "state": {
       "description": "Answer:",
       "layout": "IPY_MODEL_fb768448e3b042069ae6bcd014310414",
       "placeholder": "Type something",
       "style": "IPY_MODEL_e609462c7ca341b6856a5169eb6c7cd3"
      }
     },
     "e6ad09d44c994625a589190435c14cec": {
      "model_module": "@jupyter-widgets/controls",
      "model_module_version": "1.5.0",
      "model_name": "TextareaModel",
      "state": {
       "description": "Answer:",
       "layout": "IPY_MODEL_d85ce0ea6863486aac467e07e63c2e65",
       "placeholder": "Type something",
       "style": "IPY_MODEL_5c210f756b9d4134adffe1b247daee2a"
      }
     },
     "e6f6a573b373441da4fd3639b3745cc4": {
      "model_module": "@jupyter-widgets/controls",
      "model_module_version": "1.5.0",
      "model_name": "TextareaModel",
      "state": {
       "description": "String:",
       "layout": "IPY_MODEL_75a871df50454312983e52293a7625d3",
       "placeholder": "Type something",
       "style": "IPY_MODEL_9862c731e0914b228ad74ec1e3b85244"
      }
     },
     "e6fad87ea9b648c59bb40e427f8dd94a": {
      "model_module": "@jupyter-widgets/base",
      "model_module_version": "1.2.0",
      "model_name": "LayoutModel",
      "state": {
       "width": "90%"
      }
     },
     "e6fb9d92cf764535a3360ffeca7c139e": {
      "model_module": "@jupyter-widgets/controls",
      "model_module_version": "1.5.0",
      "model_name": "HBoxModel",
      "state": {
       "children": [
        "IPY_MODEL_b573b86c7bcc425e9c6488c57a83c225",
        "IPY_MODEL_f69bce2cba8d46e4b14f1bba3351c3b6"
       ],
       "layout": "IPY_MODEL_0d3cab3e271148918c8f618bdcc2322f"
      }
     },
     "e7076db91c3043a0a37470e1768bf6c2": {
      "model_module": "@jupyter-widgets/base",
      "model_module_version": "1.2.0",
      "model_name": "LayoutModel",
      "state": {
       "width": "5%"
      }
     },
     "e7088511b2144586b044f01d188d9b6d": {
      "model_module": "@jupyter-widgets/base",
      "model_module_version": "1.2.0",
      "model_name": "LayoutModel",
      "state": {
       "width": "90%"
      }
     },
     "e7102981245a4f59a227bda7bf111f30": {
      "model_module": "@jupyter-widgets/controls",
      "model_module_version": "1.5.0",
      "model_name": "HBoxModel",
      "state": {
       "children": [
        "IPY_MODEL_8080e0268a164521b226fb9f384d08f8",
        "IPY_MODEL_cc51c7b316e6483e955957f06f548dc0"
       ],
       "layout": "IPY_MODEL_73fc8e9467c14963a942cee407a484a6"
      }
     },
     "e710dfdf8169409f8927b4ba151abcae": {
      "model_module": "@jupyter-widgets/controls",
      "model_module_version": "1.5.0",
      "model_name": "ButtonStyleModel",
      "state": {}
     },
     "e72a0f58167a41f5a608077dd294c777": {
      "model_module": "@jupyter-widgets/controls",
      "model_module_version": "1.5.0",
      "model_name": "LabelModel",
      "state": {
       "layout": "IPY_MODEL_39de7cf731f2499789db1f961beab460",
       "style": "IPY_MODEL_ebe394de981944519a7494973df24687"
      }
     },
     "e734d9463ca4480395046abca70ffc0d": {
      "model_module": "@jupyter-widgets/base",
      "model_module_version": "1.2.0",
      "model_name": "LayoutModel",
      "state": {}
     },
     "e7535db039e14fd4836def3564e5cfd8": {
      "model_module": "@jupyter-widgets/controls",
      "model_module_version": "1.5.0",
      "model_name": "LabelModel",
      "state": {
       "layout": "IPY_MODEL_3c8b375c400e40e7933141eaeef9e2c0",
       "style": "IPY_MODEL_3e5a466b1f2a4cb7b8eee6dd5996beec"
      }
     },
     "e753e44c93844d648d077c5d379a9f21": {
      "model_module": "@jupyter-widgets/base",
      "model_module_version": "1.2.0",
      "model_name": "LayoutModel",
      "state": {
       "width": "90%"
      }
     },
     "e75acb0230fd468bb760a7d7e0cd6e4a": {
      "model_module": "@jupyter-widgets/controls",
      "model_module_version": "1.5.0",
      "model_name": "TextareaModel",
      "state": {
       "description": "String:",
       "layout": "IPY_MODEL_26aa5f3b3a124978addf487b7ab9e233",
       "placeholder": "Type something",
       "style": "IPY_MODEL_586696b6bfc14042938d7160d82fdbbc"
      }
     },
     "e774a7fbeb8742b691a3117c494e5932": {
      "model_module": "@jupyter-widgets/base",
      "model_module_version": "1.2.0",
      "model_name": "LayoutModel",
      "state": {}
     },
     "e7965e8b1e7d4f58ad9e0895944518c7": {
      "model_module": "@jupyter-widgets/base",
      "model_module_version": "1.2.0",
      "model_name": "LayoutModel",
      "state": {
       "width": "5%"
      }
     },
     "e7a829bed700413dbfdef97af4a271a3": {
      "model_module": "@jupyter-widgets/controls",
      "model_module_version": "1.5.0",
      "model_name": "LabelModel",
      "state": {
       "layout": "IPY_MODEL_dafe4f35d3cb4ca6be7c8dcc47b12332",
       "style": "IPY_MODEL_bb569de13fa0438aa4c3888c8c9cfe69"
      }
     },
     "e7b1f3d9d0e34459a73ba6567659ea5a": {
      "model_module": "@jupyter-widgets/base",
      "model_module_version": "1.2.0",
      "model_name": "LayoutModel",
      "state": {
       "width": "5%"
      }
     },
     "e7b43c22b4dd4220a093942f422df5c3": {
      "model_module": "@jupyter-widgets/controls",
      "model_module_version": "1.5.0",
      "model_name": "DescriptionStyleModel",
      "state": {
       "description_width": ""
      }
     },
     "e817e293253e46edb2e9092d5ccce5ff": {
      "model_module": "@jupyter-widgets/base",
      "model_module_version": "1.2.0",
      "model_name": "LayoutModel",
      "state": {
       "width": "90%"
      }
     },
     "e82ba7fa5ff94a72bbb559019909fab9": {
      "model_module": "@jupyter-widgets/base",
      "model_module_version": "1.2.0",
      "model_name": "LayoutModel",
      "state": {
       "width": "90%"
      }
     },
     "e854ef75c3ed492e86a75f2d6bb52d6c": {
      "model_module": "@jupyter-widgets/base",
      "model_module_version": "1.2.0",
      "model_name": "LayoutModel",
      "state": {}
     },
     "e86c463965c341e1a05cfe815dc1da67": {
      "model_module": "@jupyter-widgets/controls",
      "model_module_version": "1.5.0",
      "model_name": "LabelModel",
      "state": {
       "layout": "IPY_MODEL_b7626ad8673c48e8bc89b751e2bc7b02",
       "style": "IPY_MODEL_63600082291f4e65a9797c72677af3be"
      }
     },
     "e8723a2265cb40e380b543c7bf097d1f": {
      "model_module": "@jupyter-widgets/controls",
      "model_module_version": "1.5.0",
      "model_name": "HBoxModel",
      "state": {
       "children": [
        "IPY_MODEL_04209f8f94a6417aae05cc589551881e",
        "IPY_MODEL_07eae30be9e547468c24694e5748ef15"
       ],
       "layout": "IPY_MODEL_8c55056050cc4b50ad3a83e190e009a7"
      }
     },
     "e87423b5836842c4a6cedcb5ca922a55": {
      "model_module": "@jupyter-widgets/controls",
      "model_module_version": "1.5.0",
      "model_name": "DescriptionStyleModel",
      "state": {
       "description_width": ""
      }
     },
     "e89d4e7314a84159aa5a56eb27b1184a": {
      "model_module": "@jupyter-widgets/controls",
      "model_module_version": "1.5.0",
      "model_name": "HBoxModel",
      "state": {
       "children": [
        "IPY_MODEL_169bd6c322824544be9c44617b33ebfd",
        "IPY_MODEL_6e5491a25a9b458d9817f7b809b5eb67"
       ],
       "layout": "IPY_MODEL_6e70779088394b46a6b5a18d3c6c91b1"
      }
     },
     "e8a240cd941846ea9092ddb43ed6cdd1": {
      "model_module": "@jupyter-widgets/base",
      "model_module_version": "1.2.0",
      "model_name": "LayoutModel",
      "state": {}
     },
     "e8ac0ab041de4dec9cc88cc10789f2d9": {
      "model_module": "@jupyter-widgets/base",
      "model_module_version": "1.2.0",
      "model_name": "LayoutModel",
      "state": {
       "width": "90%"
      }
     },
     "e8b7fff5e7ac473e8fd279da6ed183aa": {
      "model_module": "@jupyter-widgets/controls",
      "model_module_version": "1.5.0",
      "model_name": "RadioButtonsModel",
      "state": {
       "_options_labels": [
        "a. Algebraic sums",
        "b. Time derivatives",
        "c. Products",
        "d. More convolutions"
       ],
       "index": 0,
       "layout": "IPY_MODEL_97ace8a2d51248f388e36bb97fa07136",
       "style": "IPY_MODEL_780adcf535d14c36afb7d0a022a87344"
      }
     },
     "e8c0e47b819e41b99db86e5ca61921ac": {
      "model_module": "@jupyter-widgets/controls",
      "model_module_version": "1.5.0",
      "model_name": "DescriptionStyleModel",
      "state": {
       "description_width": ""
      }
     },
     "e8e8ecd3df764915be678abbb9bf78ef": {
      "model_module": "@jupyter-widgets/base",
      "model_module_version": "1.2.0",
      "model_name": "LayoutModel",
      "state": {
       "width": "90%"
      }
     },
     "e8ec01a1d0dc415889e44a6167239454": {
      "model_module": "@jupyter-widgets/controls",
      "model_module_version": "1.5.0",
      "model_name": "DescriptionStyleModel",
      "state": {
       "description_width": ""
      }
     },
     "e90a5ee7815142c18d4a65e661bc0013": {
      "model_module": "@jupyter-widgets/controls",
      "model_module_version": "1.5.0",
      "model_name": "DescriptionStyleModel",
      "state": {
       "description_width": ""
      }
     },
     "e9122497ee0942278804bcc71779dee9": {
      "model_module": "@jupyter-widgets/output",
      "model_module_version": "1.0.0",
      "model_name": "OutputModel",
      "state": {
       "layout": "IPY_MODEL_66b250cfadbe4007a64ba064718bc91d"
      }
     },
     "e93631682ddb42b497c4ab4b7e2bbc8a": {
      "model_module": "@jupyter-widgets/controls",
      "model_module_version": "1.5.0",
      "model_name": "LabelModel",
      "state": {
       "layout": "IPY_MODEL_5d449a2b973f4cf6b4ab9abe6d502587",
       "style": "IPY_MODEL_3972e214d9b7407698019cbaf468a997"
      }
     },
     "e937a88c8f0043ce99cc6c1e40805deb": {
      "model_module": "@jupyter-widgets/base",
      "model_module_version": "1.2.0",
      "model_name": "LayoutModel",
      "state": {}
     },
     "e93fb950b5fa40e6a988e5017bfdbf25": {
      "model_module": "@jupyter-widgets/controls",
      "model_module_version": "1.5.0",
      "model_name": "LabelModel",
      "state": {
       "layout": "IPY_MODEL_30a6ce2134134fa5ad2cab2812704d1c",
       "style": "IPY_MODEL_ac60974c81b1499c9fe3dfec219c9fa2"
      }
     },
     "e94a7e406be84888b36ea0322637b989": {
      "model_module": "@jupyter-widgets/controls",
      "model_module_version": "1.5.0",
      "model_name": "DescriptionStyleModel",
      "state": {
       "description_width": ""
      }
     },
     "e9c9ad324081474d9de48dadbe960312": {
      "model_module": "@jupyter-widgets/controls",
      "model_module_version": "1.5.0",
      "model_name": "TextareaModel",
      "state": {
       "description": "String:",
       "layout": "IPY_MODEL_b27cb6192efc40dbae72e66447a714ef",
       "placeholder": "Type something",
       "style": "IPY_MODEL_1e910163adda4e9782fdeb590d917476"
      }
     },
     "e9ca0fe510ed4bb29b6c37d2ee9c17f2": {
      "model_module": "@jupyter-widgets/base",
      "model_module_version": "1.2.0",
      "model_name": "LayoutModel",
      "state": {
       "width": "90%"
      }
     },
     "e9cfedbf05724bab945a4b3b2b295e85": {
      "model_module": "@jupyter-widgets/controls",
      "model_module_version": "1.5.0",
      "model_name": "DescriptionStyleModel",
      "state": {
       "description_width": ""
      }
     },
     "e9f98a80b73b40339958d6310e64a632": {
      "model_module": "@jupyter-widgets/controls",
      "model_module_version": "1.5.0",
      "model_name": "HBoxModel",
      "state": {
       "children": [
        "IPY_MODEL_70c678db4eda4603b4ddf96b2a586756",
        "IPY_MODEL_8619083b06d64bffb3d9e88aedad7033"
       ],
       "layout": "IPY_MODEL_4e4624d9ba254cd9b4124d91abc4a9f4"
      }
     },
     "ea6182267d0f41518c629cd8091573ac": {
      "model_module": "@jupyter-widgets/controls",
      "model_module_version": "1.5.0",
      "model_name": "HBoxModel",
      "state": {
       "children": [
        "IPY_MODEL_900ee8290ec24af9ba147c083329dd01",
        "IPY_MODEL_89bbfed6b0194dcf9bbea8f258224cf7"
       ],
       "layout": "IPY_MODEL_b9ec2d12db6a4cdba08f0795c43ea7f0"
      }
     },
     "ea8a3064ca934374bd807dafde86ed4a": {
      "model_module": "@jupyter-widgets/base",
      "model_module_version": "1.2.0",
      "model_name": "LayoutModel",
      "state": {}
     },
     "ea90046d10be47e8acf55bfb6799ade6": {
      "model_module": "@jupyter-widgets/controls",
      "model_module_version": "1.5.0",
      "model_name": "DescriptionStyleModel",
      "state": {
       "description_width": ""
      }
     },
     "ea908c580fd44af58bc8f2804b98a783": {
      "model_module": "@jupyter-widgets/controls",
      "model_module_version": "1.5.0",
      "model_name": "HBoxModel",
      "state": {
       "children": [
        "IPY_MODEL_97155048d6b343d0ac61389ff87cad39",
        "IPY_MODEL_abc8e81a8ff842eb850d5a7c0c8a97ce"
       ],
       "layout": "IPY_MODEL_32e937e39e0c4ec182c01f75228126a5"
      }
     },
     "ea98233562f6447aac4546e2ca72d01c": {
      "model_module": "@jupyter-widgets/controls",
      "model_module_version": "1.5.0",
      "model_name": "DescriptionStyleModel",
      "state": {
       "description_width": ""
      }
     },
     "eaaad50222494294b0e2442a23ff8899": {
      "model_module": "@jupyter-widgets/controls",
      "model_module_version": "1.5.0",
      "model_name": "DescriptionStyleModel",
      "state": {
       "description_width": ""
      }
     },
     "eaafcd826b4346338d0351bddee7c660": {
      "model_module": "@jupyter-widgets/controls",
      "model_module_version": "1.5.0",
      "model_name": "DescriptionStyleModel",
      "state": {
       "description_width": ""
      }
     },
     "eab27af73a2f4fcfbac6a24187cdcfad": {
      "model_module": "@jupyter-widgets/base",
      "model_module_version": "1.2.0",
      "model_name": "LayoutModel",
      "state": {
       "width": "5%"
      }
     },
     "eb132b1434c84ee993bb3d34f88f6cfb": {
      "model_module": "@jupyter-widgets/controls",
      "model_module_version": "1.5.0",
      "model_name": "DescriptionStyleModel",
      "state": {
       "description_width": ""
      }
     },
     "eb3970cce3a042e9b0f2003ccb6eb156": {
      "model_module": "@jupyter-widgets/base",
      "model_module_version": "1.2.0",
      "model_name": "LayoutModel",
      "state": {
       "width": "90%"
      }
     },
     "eb3b90c901e7462fb43250ec819c7142": {
      "model_module": "@jupyter-widgets/base",
      "model_module_version": "1.2.0",
      "model_name": "LayoutModel",
      "state": {
       "width": "5%"
      }
     },
     "eb47cb1e434f40e1993a0de924030f1f": {
      "model_module": "@jupyter-widgets/controls",
      "model_module_version": "1.5.0",
      "model_name": "RadioButtonsModel",
      "state": {
       "_options_labels": [
        "a. Bite-sized pieces",
        "b. Frequency components",
        "c. A power series in small displacements",
        "d. Absolute values"
       ],
       "index": 0,
       "layout": "IPY_MODEL_ed8210893407449780fe198106676faf",
       "style": "IPY_MODEL_589309402fde46a1b5285d6b828a38dc"
      }
     },
     "eb6d8ee9cc1a452ab382ba6c7b94e4ff": {
      "model_module": "@jupyter-widgets/controls",
      "model_module_version": "1.5.0",
      "model_name": "LabelModel",
      "state": {
       "layout": "IPY_MODEL_57aa678e678c407f8ade0750273c68d2",
       "style": "IPY_MODEL_9bfa526c3898480aa156d8604cec4b10"
      }
     },
     "ebd58f9974ce472e9b45237dc9645f0b": {
      "model_module": "@jupyter-widgets/controls",
      "model_module_version": "1.5.0",
      "model_name": "LabelModel",
      "state": {
       "layout": "IPY_MODEL_6b70018cfdb944af95d298c09ba1d36a",
       "style": "IPY_MODEL_4593cbdfc7dd4489a4a6c0553048a5bc"
      }
     },
     "ebdd00fd05464274bbd96db2ed58e621": {
      "model_module": "@jupyter-widgets/controls",
      "model_module_version": "1.5.0",
      "model_name": "ButtonStyleModel",
      "state": {}
     },
     "ebe394de981944519a7494973df24687": {
      "model_module": "@jupyter-widgets/controls",
      "model_module_version": "1.5.0",
      "model_name": "DescriptionStyleModel",
      "state": {
       "description_width": ""
      }
     },
     "ebedd0e6bbc848e89cba918b91fd95b0": {
      "model_module": "@jupyter-widgets/controls",
      "model_module_version": "1.5.0",
      "model_name": "HBoxModel",
      "state": {
       "children": [
        "IPY_MODEL_79ec6b32209b460b909021aef0a4c2b0",
        "IPY_MODEL_14373bbf22d64ee681883500310fc6e7"
       ],
       "layout": "IPY_MODEL_fdb919d63d534a148e52b2bbfc1df072"
      }
     },
     "ec164d3da498459594a2930325d5f7ef": {
      "model_module": "@jupyter-widgets/controls",
      "model_module_version": "1.5.0",
      "model_name": "HBoxModel",
      "state": {
       "children": [
        "IPY_MODEL_a73697e99b8245df89f5418ebd2ce9f5",
        "IPY_MODEL_c9548dab833e4dcbbd21201d626bd1cd"
       ],
       "layout": "IPY_MODEL_bf937449777042458b6d848b2454e9f7"
      }
     },
     "ec1bad154ae644698a79d3ea4a4dc871": {
      "model_module": "@jupyter-widgets/base",
      "model_module_version": "1.2.0",
      "model_name": "LayoutModel",
      "state": {}
     },
     "ec3e71a956144d17a1b133133de12a77": {
      "model_module": "@jupyter-widgets/base",
      "model_module_version": "1.2.0",
      "model_name": "LayoutModel",
      "state": {
       "width": "5%"
      }
     },
     "ec428272d66e44cea4318c2bd66d7a1f": {
      "model_module": "@jupyter-widgets/base",
      "model_module_version": "1.2.0",
      "model_name": "LayoutModel",
      "state": {}
     },
     "ec44026d01f14324838258493b0ecebe": {
      "model_module": "@jupyter-widgets/base",
      "model_module_version": "1.2.0",
      "model_name": "LayoutModel",
      "state": {}
     },
     "ec46c9164e1248368d103d3a091a8a69": {
      "model_module": "@jupyter-widgets/base",
      "model_module_version": "1.2.0",
      "model_name": "LayoutModel",
      "state": {
       "width": "5%"
      }
     },
     "ec65ce1ed3b143d69c8aa9bab4ebada3": {
      "model_module": "@jupyter-widgets/controls",
      "model_module_version": "1.5.0",
      "model_name": "VBoxModel",
      "state": {
       "children": [
        "IPY_MODEL_fd3a7adab3864f1f9972c94b404e8079",
        "IPY_MODEL_82cffb595ae04894a8242983961454bc"
       ],
       "layout": "IPY_MODEL_8fe9071c116841f384d4694ee1a49d3a"
      }
     },
     "ec6a8d0054af42b99e5d938cc58264b2": {
      "model_module": "@jupyter-widgets/base",
      "model_module_version": "1.2.0",
      "model_name": "LayoutModel",
      "state": {
       "width": "5%"
      }
     },
     "ec6c909dc68f491b93e21add98fb911b": {
      "model_module": "@jupyter-widgets/controls",
      "model_module_version": "1.5.0",
      "model_name": "TextareaModel",
      "state": {
       "description": "String:",
       "layout": "IPY_MODEL_1b50ccb29f9c4d00b0f305ec50f5cefa",
       "placeholder": "Type something",
       "style": "IPY_MODEL_91c7132a58a3499f8c4c8d1fee89d5b8"
      }
     },
     "ec914579a06f497db3f2bc26ca98400d": {
      "model_module": "@jupyter-widgets/base",
      "model_module_version": "1.2.0",
      "model_name": "LayoutModel",
      "state": {
       "width": "90%"
      }
     },
     "eca6b7181e4848628432100a79c05978": {
      "model_module": "@jupyter-widgets/output",
      "model_module_version": "1.0.0",
      "model_name": "OutputModel",
      "state": {
       "layout": "IPY_MODEL_f663de366a01482485e8195c433dfacc"
      }
     },
     "ecd563153b434a8b97e9b057ed3b00ed": {
      "model_module": "@jupyter-widgets/controls",
      "model_module_version": "1.5.0",
      "model_name": "DescriptionStyleModel",
      "state": {
       "description_width": ""
      }
     },
     "ecfa360bd0224e438207ae1e208ec123": {
      "model_module": "@jupyter-widgets/controls",
      "model_module_version": "1.5.0",
      "model_name": "DescriptionStyleModel",
      "state": {
       "description_width": ""
      }
     },
     "ecfe0b0a48294b5ea5a5cef18aded9bf": {
      "model_module": "@jupyter-widgets/controls",
      "model_module_version": "1.5.0",
      "model_name": "DescriptionStyleModel",
      "state": {
       "description_width": ""
      }
     },
     "ed1f1715fa6c4bb196dc9519435557a7": {
      "model_module": "@jupyter-widgets/base",
      "model_module_version": "1.2.0",
      "model_name": "LayoutModel",
      "state": {
       "width": "5%"
      }
     },
     "ed2b5f63e8644143b07bcb83dc817c9a": {
      "model_module": "@jupyter-widgets/controls",
      "model_module_version": "1.5.0",
      "model_name": "DescriptionStyleModel",
      "state": {
       "description_width": ""
      }
     },
     "ed8210893407449780fe198106676faf": {
      "model_module": "@jupyter-widgets/base",
      "model_module_version": "1.2.0",
      "model_name": "LayoutModel",
      "state": {}
     },
     "ed9642e5c87647a3a536267b697d8021": {
      "model_module": "@jupyter-widgets/base",
      "model_module_version": "1.2.0",
      "model_name": "LayoutModel",
      "state": {
       "width": "90%"
      }
     },
     "edcaf0fb95b64d1d8f767b1c988f9787": {
      "model_module": "@jupyter-widgets/controls",
      "model_module_version": "1.5.0",
      "model_name": "DescriptionStyleModel",
      "state": {
       "description_width": ""
      }
     },
     "edcb2e2718484dd39f7ee29208b966b5": {
      "model_module": "@jupyter-widgets/base",
      "model_module_version": "1.2.0",
      "model_name": "LayoutModel",
      "state": {}
     },
     "edda096466054bd8867f06942c0991bc": {
      "model_module": "@jupyter-widgets/controls",
      "model_module_version": "1.5.0",
      "model_name": "TextareaModel",
      "state": {
       "description": "String:",
       "layout": "IPY_MODEL_170a0744ee624315b29e72988bc384c6",
       "placeholder": "Type something",
       "style": "IPY_MODEL_f1fa14e6ecf747fd8084ce02f779ca58"
      }
     },
     "eddc759a2cdb4326b04b266605d659e8": {
      "model_module": "@jupyter-widgets/controls",
      "model_module_version": "1.5.0",
      "model_name": "TextareaModel",
      "state": {
       "description": "String:",
       "layout": "IPY_MODEL_101c5d63181e40bfa7340bec086330e9",
       "placeholder": "Type something",
       "style": "IPY_MODEL_e19ced9664d34f99aa27a4bc6f4fc3f1"
      }
     },
     "ede2a4b3aed2490d871b345428d88ea8": {
      "model_module": "@jupyter-widgets/base",
      "model_module_version": "1.2.0",
      "model_name": "LayoutModel",
      "state": {}
     },
     "ee061ac24bbd4393bcd6c6135abf3522": {
      "model_module": "@jupyter-widgets/base",
      "model_module_version": "1.2.0",
      "model_name": "LayoutModel",
      "state": {}
     },
     "ee18db194eb64c3b9de595d309400fdb": {
      "model_module": "@jupyter-widgets/output",
      "model_module_version": "1.0.0",
      "model_name": "OutputModel",
      "state": {
       "layout": "IPY_MODEL_43fc946ca0a645bd8c04fbe66c329476"
      }
     },
     "ee254cfc97a34f398beacb5875a08f5d": {
      "model_module": "@jupyter-widgets/controls",
      "model_module_version": "1.5.0",
      "model_name": "VBoxModel",
      "state": {
       "children": [
        "IPY_MODEL_83b361e20a564b448c4ba38ae1025fa7",
        "IPY_MODEL_f08a6faf3af5411fbf3dedc1a5d3b60d"
       ],
       "layout": "IPY_MODEL_d9dcdac5f2914818826c3fe8a6cd41a3"
      }
     },
     "ee59b80a0b6e45a6a5308e0cc0b2fe15": {
      "model_module": "@jupyter-widgets/base",
      "model_module_version": "1.2.0",
      "model_name": "LayoutModel",
      "state": {}
     },
     "ee7e0d3a5c284ddab6ec4201abdd32b5": {
      "model_module": "@jupyter-widgets/controls",
      "model_module_version": "1.5.0",
      "model_name": "ButtonModel",
      "state": {
       "description": "Run Code",
       "layout": "IPY_MODEL_bb3a1765226e4812b2434c9f09e1b84d",
       "style": "IPY_MODEL_442cb7f54a994d1294ea4e5677b2ec13",
       "tooltip": "Click to test your code"
      }
     },
     "eeb55106626a449dac389210f1768202": {
      "model_module": "@jupyter-widgets/controls",
      "model_module_version": "1.5.0",
      "model_name": "LabelModel",
      "state": {
       "layout": "IPY_MODEL_41807961ac654f4491b82328de29e8fc",
       "style": "IPY_MODEL_18b78a2072624f58ae382c0ee9dd5250"
      }
     },
     "eec52c3ab28d4ab6ba20735f50485104": {
      "model_module": "@jupyter-widgets/base",
      "model_module_version": "1.2.0",
      "model_name": "LayoutModel",
      "state": {
       "width": "90%"
      }
     },
     "eed69bf2d0a346fd871270430f8cdd73": {
      "model_module": "@jupyter-widgets/controls",
      "model_module_version": "1.5.0",
      "model_name": "DescriptionStyleModel",
      "state": {
       "description_width": ""
      }
     },
     "eeda8e07fff140c5ba9cf94867995b9c": {
      "model_module": "@jupyter-widgets/controls",
      "model_module_version": "1.5.0",
      "model_name": "ButtonModel",
      "state": {
       "description": "Test Code",
       "layout": "IPY_MODEL_622b49abcaac4053aeec632ba86cfd77",
       "style": "IPY_MODEL_c9132c2c501e4a1cbac5b5178691b88e",
       "tooltip": "Click to test your code"
      }
     },
     "eee30ca8c2864277bb054b6973d9ba65": {
      "model_module": "@jupyter-widgets/controls",
      "model_module_version": "1.5.0",
      "model_name": "DescriptionStyleModel",
      "state": {
       "description_width": ""
      }
     },
     "eeed39cf5c984e178cfd867ae92d6d83": {
      "model_module": "@jupyter-widgets/base",
      "model_module_version": "1.2.0",
      "model_name": "LayoutModel",
      "state": {}
     },
     "eef0a044e7e24bcda4d3066e95e09508": {
      "model_module": "@jupyter-widgets/base",
      "model_module_version": "1.2.0",
      "model_name": "LayoutModel",
      "state": {
       "width": "5%"
      }
     },
     "ef13b9ca4a5f4224aaf43a348169d46e": {
      "model_module": "@jupyter-widgets/controls",
      "model_module_version": "1.5.0",
      "model_name": "DescriptionStyleModel",
      "state": {
       "description_width": ""
      }
     },
     "ef1d89ce4651439a826353c0e903a336": {
      "model_module": "@jupyter-widgets/base",
      "model_module_version": "1.2.0",
      "model_name": "LayoutModel",
      "state": {}
     },
     "ef2d59f1df87427ab186b06eeb2b6676": {
      "model_module": "@jupyter-widgets/base",
      "model_module_version": "1.2.0",
      "model_name": "LayoutModel",
      "state": {
       "width": "90%"
      }
     },
     "ef37a8e3b7834a9eb3ca25a3bfccbf22": {
      "model_module": "@jupyter-widgets/controls",
      "model_module_version": "1.5.0",
      "model_name": "DescriptionStyleModel",
      "state": {
       "description_width": ""
      }
     },
     "ef3b3615512046938fbaafeb85626649": {
      "model_module": "@jupyter-widgets/controls",
      "model_module_version": "1.5.0",
      "model_name": "HBoxModel",
      "state": {
       "children": [
        "IPY_MODEL_209bb6df6e4042b5b1918bcab0e1f18d",
        "IPY_MODEL_2e7e0e0da4b94e249aaf250d8f173fde"
       ],
       "layout": "IPY_MODEL_b219ea32380f4c539d0f34fa695561a8"
      }
     },
     "ef41f6ede35144f0b37a6d7cf31e051a": {
      "model_module": "@jupyter-widgets/controls",
      "model_module_version": "1.5.0",
      "model_name": "DescriptionStyleModel",
      "state": {
       "description_width": ""
      }
     },
     "ef557c8e452d424e835c65b5b1c3efb6": {
      "model_module": "@jupyter-widgets/controls",
      "model_module_version": "1.5.0",
      "model_name": "TextareaModel",
      "state": {
       "description": "Code:",
       "layout": "IPY_MODEL_6715a396b1274de493149b9b5d03f745",
       "placeholder": "Type code here",
       "style": "IPY_MODEL_7a855999557f440dae6b84af6cfec69a",
       "value": "print('here')"
      }
     },
     "ef6dbc14661d44118c6661feccbd767a": {
      "model_module": "@jupyter-widgets/controls",
      "model_module_version": "1.5.0",
      "model_name": "DescriptionStyleModel",
      "state": {
       "description_width": ""
      }
     },
     "ef8b786f4ca74031880db680ebca5944": {
      "model_module": "@jupyter-widgets/controls",
      "model_module_version": "1.5.0",
      "model_name": "DescriptionStyleModel",
      "state": {
       "description_width": ""
      }
     },
     "efe52ab1c5aa42f58f7105d947796bba": {
      "model_module": "@jupyter-widgets/controls",
      "model_module_version": "1.5.0",
      "model_name": "TextareaModel",
      "state": {
       "description": "String:",
       "layout": "IPY_MODEL_4ccc390405c3441f96967056dfb48e46",
       "placeholder": "Type something",
       "style": "IPY_MODEL_61a05e22620f4fd9aeeea91410983d69"
      }
     },
     "efe92fb66a2e47d2908261230c4f6cc2": {
      "model_module": "@jupyter-widgets/base",
      "model_module_version": "1.2.0",
      "model_name": "LayoutModel",
      "state": {}
     },
     "f01e4913171d4a92aed69e93b01ca254": {
      "model_module": "@jupyter-widgets/controls",
      "model_module_version": "1.5.0",
      "model_name": "DescriptionStyleModel",
      "state": {
       "description_width": ""
      }
     },
     "f0351ca55c434be6b7d21b8979058c13": {
      "model_module": "@jupyter-widgets/base",
      "model_module_version": "1.2.0",
      "model_name": "LayoutModel",
      "state": {
       "width": "90%"
      }
     },
     "f044da5608df43a08ddf904469019c77": {
      "model_module": "@jupyter-widgets/controls",
      "model_module_version": "1.5.0",
      "model_name": "LabelModel",
      "state": {
       "layout": "IPY_MODEL_330b71db961249dcb80ab4b269abf930",
       "style": "IPY_MODEL_76865debf06b4844a484a7b0bde81559"
      }
     },
     "f04f6697576a4f2d859ef1fb4cc66c7c": {
      "model_module": "@jupyter-widgets/controls",
      "model_module_version": "1.5.0",
      "model_name": "RadioButtonsModel",
      "state": {
       "_options_labels": [
        "a. Stabilize (prolong) induced polarizations",
        "b. Cause more rapid decay of the induced polarization",
        "c. Increase the magnitude of the induced polarization",
        "d. Waste money"
       ],
       "index": 0,
       "layout": "IPY_MODEL_9c2640d6390d45e799427befd5097908",
       "style": "IPY_MODEL_0a9fa48ba9e847e5872ad5a187a35c0f"
      }
     },
     "f07935ba9182420bbc274539c1bae70a": {
      "model_module": "@jupyter-widgets/base",
      "model_module_version": "1.2.0",
      "model_name": "LayoutModel",
      "state": {}
     },
     "f08a6faf3af5411fbf3dedc1a5d3b60d": {
      "model_module": "@jupyter-widgets/controls",
      "model_module_version": "1.5.0",
      "model_name": "ButtonModel",
      "state": {
       "description": "Test Code",
       "layout": "IPY_MODEL_c182e7a571084808ba39e59e41885985",
       "style": "IPY_MODEL_36f5a664619f4e7887d9522979b7b89c",
       "tooltip": "Click to test your code"
      }
     },
     "f08b3b832d234e838df94cb5dad50a9d": {
      "model_module": "@jupyter-widgets/base",
      "model_module_version": "1.2.0",
      "model_name": "LayoutModel",
      "state": {
       "width": "90%"
      }
     },
     "f0976a09bab841639e85b19a147edaf5": {
      "model_module": "@jupyter-widgets/base",
      "model_module_version": "1.2.0",
      "model_name": "LayoutModel",
      "state": {
       "width": "90%"
      }
     },
     "f09fad981293442191e7614371f2b22a": {
      "model_module": "@jupyter-widgets/base",
      "model_module_version": "1.2.0",
      "model_name": "LayoutModel",
      "state": {}
     },
     "f0bdcc1d31534f3ea497c08ac3bee06b": {
      "model_module": "@jupyter-widgets/controls",
      "model_module_version": "1.5.0",
      "model_name": "DescriptionStyleModel",
      "state": {
       "description_width": ""
      }
     },
     "f0d264a32f9841b5a4d4637c6df0669d": {
      "model_module": "@jupyter-widgets/controls",
      "model_module_version": "1.5.0",
      "model_name": "TextareaModel",
      "state": {
       "description": "Code:",
       "layout": "IPY_MODEL_e1d533be749341d1865ae61d73e7e12a",
       "placeholder": "Type code here",
       "style": "IPY_MODEL_a8e3216833ee4fd080eefeb7037d6929",
       "value": "plt.plot(np.abs(np.fft.fft(np.sin(np.arange(0, 10,0.1)))))"
      }
     },
     "f0e17bf386dd449495f2ca2728bbac8e": {
      "model_module": "@jupyter-widgets/controls",
      "model_module_version": "1.5.0",
      "model_name": "HBoxModel",
      "state": {
       "children": [
        "IPY_MODEL_d4d35f7c1ef74377b92354be09a3cd27",
        "IPY_MODEL_6d1a5c53c17f433bb3c1744b0cf770c9"
       ],
       "layout": "IPY_MODEL_eeed39cf5c984e178cfd867ae92d6d83"
      }
     },
     "f0f55181e8834abf8c5d64f5046e6c5e": {
      "model_module": "@jupyter-widgets/base",
      "model_module_version": "1.2.0",
      "model_name": "LayoutModel",
      "state": {}
     },
     "f1070388809b42a880ba9e57c8b22521": {
      "model_module": "@jupyter-widgets/base",
      "model_module_version": "1.2.0",
      "model_name": "LayoutModel",
      "state": {
       "width": "90%"
      }
     },
     "f118cb76af51495ea18f12250d6ab1c9": {
      "model_module": "@jupyter-widgets/controls",
      "model_module_version": "1.5.0",
      "model_name": "LabelModel",
      "state": {
       "layout": "IPY_MODEL_f94c5a30e5c842d49deabf641fbfdccf",
       "style": "IPY_MODEL_2798ca301fac4c8284c7e660dafad7be"
      }
     },
     "f11c8b74c35d4b069e72d858cf9c0a0f": {
      "model_module": "@jupyter-widgets/base",
      "model_module_version": "1.2.0",
      "model_name": "LayoutModel",
      "state": {}
     },
     "f1369906a78f4c3d86d6fd681724c739": {
      "model_module": "@jupyter-widgets/controls",
      "model_module_version": "1.5.0",
      "model_name": "HBoxModel",
      "state": {
       "children": [
        "IPY_MODEL_c53cd2109df846e09b3585af8216464d",
        "IPY_MODEL_0ae171d48c344b05bcdaed2134bdebfd"
       ],
       "layout": "IPY_MODEL_e036ee62afca4fab888b7255a1d09ba9"
      }
     },
     "f163edea248d4a479c6a86f3353361f9": {
      "model_module": "@jupyter-widgets/controls",
      "model_module_version": "1.5.0",
      "model_name": "DescriptionStyleModel",
      "state": {
       "description_width": ""
      }
     },
     "f1796a47af4b4629bd3bc9f44958dd21": {
      "model_module": "@jupyter-widgets/controls",
      "model_module_version": "1.5.0",
      "model_name": "LabelModel",
      "state": {
       "layout": "IPY_MODEL_0e95a568094d4713aa179ce03c9dd6e8",
       "style": "IPY_MODEL_d0e6c24033534ab38d5cd638660f86f0"
      }
     },
     "f1af3c5fa6084d59b7ea45b51051c883": {
      "model_module": "@jupyter-widgets/base",
      "model_module_version": "1.2.0",
      "model_name": "LayoutModel",
      "state": {
       "width": "5%"
      }
     },
     "f1fa14e6ecf747fd8084ce02f779ca58": {
      "model_module": "@jupyter-widgets/controls",
      "model_module_version": "1.5.0",
      "model_name": "DescriptionStyleModel",
      "state": {
       "description_width": ""
      }
     },
     "f1fbb21290c648c5bc916214667910c8": {
      "model_module": "@jupyter-widgets/controls",
      "model_module_version": "1.5.0",
      "model_name": "DescriptionStyleModel",
      "state": {
       "description_width": ""
      }
     },
     "f2084ea9e7f9499ba1971b02d96e0be0": {
      "model_module": "@jupyter-widgets/controls",
      "model_module_version": "1.5.0",
      "model_name": "HBoxModel",
      "state": {
       "children": [
        "IPY_MODEL_4b349d4458f24e1dab65a880fb015324",
        "IPY_MODEL_3773f39e3fcd4188bd794d6283bfe7de"
       ],
       "layout": "IPY_MODEL_162fe5e2bcd14386905ca83c10ee7135"
      }
     },
     "f2095eca512742bfa4b2472e612816bc": {
      "model_module": "@jupyter-widgets/controls",
      "model_module_version": "1.5.0",
      "model_name": "DescriptionStyleModel",
      "state": {
       "description_width": ""
      }
     },
     "f210b73a3f9d4267a7dca9700e636eae": {
      "model_module": "@jupyter-widgets/base",
      "model_module_version": "1.2.0",
      "model_name": "LayoutModel",
      "state": {}
     },
     "f22572ffca864241b0693b08f9e16056": {
      "model_module": "@jupyter-widgets/output",
      "model_module_version": "1.0.0",
      "model_name": "OutputModel",
      "state": {
       "layout": "IPY_MODEL_56c33b9dc4bd481cabb09c7303a26a9b"
      }
     },
     "f236da7753274bc9bc05b0c704630d54": {
      "model_module": "@jupyter-widgets/controls",
      "model_module_version": "1.5.0",
      "model_name": "HBoxModel",
      "state": {
       "children": [
        "IPY_MODEL_aa8d69877c5c4fb1881e401cb40a6387",
        "IPY_MODEL_50d65f33d4634b86bc85476f5e511394"
       ],
       "layout": "IPY_MODEL_2421d98d653b471e8c9ea78d7ed1a974"
      }
     },
     "f2495be463a04229b40dcb5c99607b57": {
      "model_module": "@jupyter-widgets/controls",
      "model_module_version": "1.5.0",
      "model_name": "HBoxModel",
      "state": {
       "children": [
        "IPY_MODEL_5f729b8ffead401c91b91a2d579a4d68",
        "IPY_MODEL_712d8bdcba1749078fc3e836eb3bee48"
       ],
       "layout": "IPY_MODEL_91af76b14b7248e6bdd64a7ed659a8d1"
      }
     },
     "f2924502b9a342368cdcc6f80cb63002": {
      "model_module": "@jupyter-widgets/controls",
      "model_module_version": "1.5.0",
      "model_name": "TextareaModel",
      "state": {
       "description": "String:",
       "layout": "IPY_MODEL_4d00c62fd19e4d07812aaf8010f9e1b8",
       "placeholder": "Type something",
       "style": "IPY_MODEL_ba436e5197df4b868f908fff54e4a7c5"
      }
     },
     "f2bbd52645bd440ab11efd31228245ac": {
      "model_module": "@jupyter-widgets/base",
      "model_module_version": "1.2.0",
      "model_name": "LayoutModel",
      "state": {}
     },
     "f2c2212c43cc434db9211e42f1ae10a3": {
      "model_module": "@jupyter-widgets/base",
      "model_module_version": "1.2.0",
      "model_name": "LayoutModel",
      "state": {
       "width": "90%"
      }
     },
     "f2f1e7b3f2594a7c97f7ae5f4c5f6e41": {
      "model_module": "@jupyter-widgets/controls",
      "model_module_version": "1.5.0",
      "model_name": "HBoxModel",
      "state": {
       "children": [
        "IPY_MODEL_b5fe748e91014a3ab0338c01b1a6c3e0",
        "IPY_MODEL_16ea58bad4c94ea0bb6f40529b729b96"
       ],
       "layout": "IPY_MODEL_cbf5327238384e8e81169554605e12de"
      }
     },
     "f313b99be4a04dfbaa6563f907f5bb13": {
      "model_module": "@jupyter-widgets/controls",
      "model_module_version": "1.5.0",
      "model_name": "LabelModel",
      "state": {
       "layout": "IPY_MODEL_ed1f1715fa6c4bb196dc9519435557a7",
       "style": "IPY_MODEL_aabe1cd10a66482599b5f388b4dcd9a4"
      }
     },
     "f32d6a74a8694e8bac57f39656bec203": {
      "model_module": "@jupyter-widgets/controls",
      "model_module_version": "1.5.0",
      "model_name": "LabelModel",
      "state": {
       "layout": "IPY_MODEL_ba85beb20a914f41afb5d91cb8ea039e",
       "style": "IPY_MODEL_f6337faea2804cd5ae27fa9742cf63b3"
      }
     },
     "f3354ed4a6634779a46de79a52afda64": {
      "model_module": "@jupyter-widgets/controls",
      "model_module_version": "1.5.0",
      "model_name": "RadioButtonsModel",
      "state": {
       "_options_labels": [
        "a. Maxwell's equations",
        "b. Newton's Equations",
        "c. The boundary conditions",
        "d. A given macrostate"
       ],
       "index": 0,
       "layout": "IPY_MODEL_c6624000a48c45e0a5f48723e9020401",
       "style": "IPY_MODEL_525703a3c4f24cb8a3af565cedd982cc"
      }
     },
     "f3532552461c4d06a964772d08b6594f": {
      "model_module": "@jupyter-widgets/controls",
      "model_module_version": "1.5.0",
      "model_name": "LabelModel",
      "state": {
       "layout": "IPY_MODEL_13e86b2f05534aebb59b450ddf8b4a0b",
       "style": "IPY_MODEL_7958c2e061be45c89ae69c0751c0328d"
      }
     },
     "f384a511e67842a993fdca5d5b832586": {
      "model_module": "@jupyter-widgets/base",
      "model_module_version": "1.2.0",
      "model_name": "LayoutModel",
      "state": {}
     },
     "f38df868ab7c468386c320a06600a40a": {
      "model_module": "@jupyter-widgets/base",
      "model_module_version": "1.2.0",
      "model_name": "LayoutModel",
      "state": {}
     },
     "f392068b5c3e4f5f81cf0882e620fc1b": {
      "model_module": "@jupyter-widgets/base",
      "model_module_version": "1.2.0",
      "model_name": "LayoutModel",
      "state": {}
     },
     "f3a058484d574abf8409a4b1a20a6a18": {
      "model_module": "@jupyter-widgets/base",
      "model_module_version": "1.2.0",
      "model_name": "LayoutModel",
      "state": {}
     },
     "f3afe2b0e6c64bb4b7685633ec94d3e4": {
      "model_module": "@jupyter-widgets/controls",
      "model_module_version": "1.5.0",
      "model_name": "ButtonModel",
      "state": {
       "description": "Run Code",
       "layout": "IPY_MODEL_7b81cc2353394f80b7ffd2ba2ae614cf",
       "style": "IPY_MODEL_9d483dadb8c147d49cc08af718835b57",
       "tooltip": "Click to test your code"
      }
     },
     "f3b53b59695842deafcaf180b761f8aa": {
      "model_module": "@jupyter-widgets/base",
      "model_module_version": "1.2.0",
      "model_name": "LayoutModel",
      "state": {
       "width": "90%"
      }
     },
     "f3cd4b9a1b9549c9a15ff8ae58efcec9": {
      "model_module": "@jupyter-widgets/base",
      "model_module_version": "1.2.0",
      "model_name": "LayoutModel",
      "state": {
       "width": "5%"
      }
     },
     "f3d2346951d14153a872527e4816e7ef": {
      "model_module": "@jupyter-widgets/controls",
      "model_module_version": "1.5.0",
      "model_name": "LabelModel",
      "state": {
       "layout": "IPY_MODEL_4e3217726dbc41a79f088d45e12a075a",
       "style": "IPY_MODEL_9ef9857fe32d4194b795dbfd25158987"
      }
     },
     "f3fa45eddc0143f18125fda6bca9fbee": {
      "model_module": "@jupyter-widgets/output",
      "model_module_version": "1.0.0",
      "model_name": "OutputModel",
      "state": {
       "layout": "IPY_MODEL_50ae5ca4f83c451cb12b44c21d77c578",
       "outputs": [
        {
         "name": "stdout",
         "output_type": "stream",
         "text": "0\n1\n2\n3\n4\n5\n6\n7\n8\n9\n"
        }
       ]
      }
     },
     "f404218db9a4496db170bdfb40be61dd": {
      "model_module": "@jupyter-widgets/controls",
      "model_module_version": "1.5.0",
      "model_name": "ButtonModel",
      "state": {
       "description": "Run Code",
       "layout": "IPY_MODEL_922d487b2d1743c8863f31a415299f95",
       "style": "IPY_MODEL_3fe3d2707f514cb395e8c74f049c730b",
       "tooltip": "Click to test your code"
      }
     },
     "f428994c45014f458751b062bc63342c": {
      "model_module": "@jupyter-widgets/base",
      "model_module_version": "1.2.0",
      "model_name": "LayoutModel",
      "state": {
       "width": "90%"
      }
     },
     "f43a45277b3742d08ca4568479140ba4": {
      "model_module": "@jupyter-widgets/controls",
      "model_module_version": "1.5.0",
      "model_name": "LabelModel",
      "state": {
       "layout": "IPY_MODEL_e3624edea63b4df484165fc267e1538c",
       "style": "IPY_MODEL_93fcd9a4b1924348800a5d719c36ffb0"
      }
     },
     "f450ba83194b4102970c417ea46c3c92": {
      "model_module": "@jupyter-widgets/controls",
      "model_module_version": "1.5.0",
      "model_name": "DescriptionStyleModel",
      "state": {
       "description_width": ""
      }
     },
     "f46abfbcb4d840c6995b64b40a5b8513": {
      "model_module": "@jupyter-widgets/base",
      "model_module_version": "1.2.0",
      "model_name": "LayoutModel",
      "state": {}
     },
     "f4e76f3230534feb8c69e9b9aa2ed801": {
      "model_module": "@jupyter-widgets/base",
      "model_module_version": "1.2.0",
      "model_name": "LayoutModel",
      "state": {}
     },
     "f51585ae90dd4bfca5570c8837d005ef": {
      "model_module": "@jupyter-widgets/controls",
      "model_module_version": "1.5.0",
      "model_name": "HBoxModel",
      "state": {
       "children": [
        "IPY_MODEL_7ed5208454824869a3b20a813f9fcd22",
        "IPY_MODEL_146c5007c1f84392bda30907163ec5d8"
       ],
       "layout": "IPY_MODEL_491397de7bdd4ecc8f2849dbb682d4e2"
      }
     },
     "f56ac1d65a774f3d83f17ebb5cea889b": {
      "model_module": "@jupyter-widgets/controls",
      "model_module_version": "1.5.0",
      "model_name": "DescriptionStyleModel",
      "state": {
       "description_width": ""
      }
     },
     "f581990bc24948508829ee09938d9a02": {
      "model_module": "@jupyter-widgets/base",
      "model_module_version": "1.2.0",
      "model_name": "LayoutModel",
      "state": {
       "width": "5%"
      }
     },
     "f5b01a8477404bf98ef736d88ec6ab1f": {
      "model_module": "@jupyter-widgets/controls",
      "model_module_version": "1.5.0",
      "model_name": "RadioButtonsModel",
      "state": {
       "_options_labels": [
        "a. Diverges",
        "b. Converges",
        "c. Implodes",
        "d. Extrapolates"
       ],
       "index": 0,
       "layout": "IPY_MODEL_e8a240cd941846ea9092ddb43ed6cdd1",
       "style": "IPY_MODEL_b530a27c1c2f49cc88fb0ed5a7ca9cf7"
      }
     },
     "f5d92a5efd55456981987744a3a2c337": {
      "model_module": "@jupyter-widgets/base",
      "model_module_version": "1.2.0",
      "model_name": "LayoutModel",
      "state": {
       "width": "5%"
      }
     },
     "f5db7a4fc9aa49a8b16ed3e97bb33f0c": {
      "model_module": "@jupyter-widgets/base",
      "model_module_version": "1.2.0",
      "model_name": "LayoutModel",
      "state": {
       "width": "90%"
      }
     },
     "f60651d8ce864ee483369850abb3e576": {
      "model_module": "@jupyter-widgets/controls",
      "model_module_version": "1.5.0",
      "model_name": "VBoxModel",
      "state": {
       "children": [
        "IPY_MODEL_fbbc2058bfb648b0a3f358ff0aff8556",
        "IPY_MODEL_d01d748181af4be888c9654dd0065e2e"
       ],
       "layout": "IPY_MODEL_42999902a2dc4076a1ee4951c45a8c89"
      }
     },
     "f61556240bc249d28457f4c1d9cca79c": {
      "model_module": "@jupyter-widgets/controls",
      "model_module_version": "1.5.0",
      "model_name": "DescriptionStyleModel",
      "state": {
       "description_width": ""
      }
     },
     "f6337faea2804cd5ae27fa9742cf63b3": {
      "model_module": "@jupyter-widgets/controls",
      "model_module_version": "1.5.0",
      "model_name": "DescriptionStyleModel",
      "state": {
       "description_width": ""
      }
     },
     "f63b37bd507a4365be4fc23038329b11": {
      "model_module": "@jupyter-widgets/controls",
      "model_module_version": "1.5.0",
      "model_name": "HBoxModel",
      "state": {
       "children": [
        "IPY_MODEL_b05707fa413f426fa6bef0b84a304e40",
        "IPY_MODEL_e1d9ffba1fd347fe8bab2f7e50e8238a"
       ],
       "layout": "IPY_MODEL_45a61638dc9a4aaab0003df241b11a47"
      }
     },
     "f640cd63af6a4cd9abbe278877ce39d9": {
      "model_module": "@jupyter-widgets/base",
      "model_module_version": "1.2.0",
      "model_name": "LayoutModel",
      "state": {}
     },
     "f64d826fe94f4dd1acc56c942c5bffb5": {
      "model_module": "@jupyter-widgets/controls",
      "model_module_version": "1.5.0",
      "model_name": "TextareaModel",
      "state": {
       "description": "String:",
       "layout": "IPY_MODEL_c5a7fcc4cbf14fc2b8706f421840eb43",
       "placeholder": "Type something",
       "style": "IPY_MODEL_42ba4c71fabc4f869012cac1ed25d34a"
      }
     },
     "f64e9ff530d640e88fee5fd3c1be66ed": {
      "model_module": "@jupyter-widgets/controls",
      "model_module_version": "1.5.0",
      "model_name": "RadioButtonsModel",
      "state": {
       "_options_labels": [
        "a. Diverges",
        "b. Converges",
        "c. Implodes",
        "d. Extrapolates"
       ],
       "index": 0,
       "layout": "IPY_MODEL_580f9c1e26ef4dc6902ea0caad1c0ad2",
       "style": "IPY_MODEL_cec9e8fd4eed4ef5a330a4966a3e84b0"
      }
     },
     "f6565f00f3e54ad98276730467eec5ba": {
      "model_module": "@jupyter-widgets/base",
      "model_module_version": "1.2.0",
      "model_name": "LayoutModel",
      "state": {}
     },
     "f663de366a01482485e8195c433dfacc": {
      "model_module": "@jupyter-widgets/base",
      "model_module_version": "1.2.0",
      "model_name": "LayoutModel",
      "state": {}
     },
     "f67d7d37450b496792f56190f9f80835": {
      "model_module": "@jupyter-widgets/controls",
      "model_module_version": "1.5.0",
      "model_name": "LabelModel",
      "state": {
       "layout": "IPY_MODEL_09c522c90a0a4c838bc48360ce95b6ef",
       "style": "IPY_MODEL_28dc14d285c04614941c8180edd77c8c"
      }
     },
     "f697b35b2097498880583176912e0c7e": {
      "model_module": "@jupyter-widgets/controls",
      "model_module_version": "1.5.0",
      "model_name": "HBoxModel",
      "state": {
       "children": [
        "IPY_MODEL_ba36cea09f5345888f4414fe35abbe97",
        "IPY_MODEL_09495f102cfa489ea71d079b24736a35"
       ],
       "layout": "IPY_MODEL_d1140f6ad1884ebeab68833e41ebf107"
      }
     },
     "f69bce2cba8d46e4b14f1bba3351c3b6": {
      "model_module": "@jupyter-widgets/controls",
      "model_module_version": "1.5.0",
      "model_name": "RadioButtonsModel",
      "state": {
       "_options_labels": [
        "True",
        "False"
       ],
       "index": 0,
       "layout": "IPY_MODEL_980a7d51912f42eabe02b94c6c278304",
       "style": "IPY_MODEL_8bc36ec1590c46939a9215460ac08f63"
      }
     },
     "f6af6e8704e0492b802e966a7d45031d": {
      "model_module": "@jupyter-widgets/output",
      "model_module_version": "1.0.0",
      "model_name": "OutputModel",
      "state": {
       "layout": "IPY_MODEL_a4aa9c1ee2904534ad3b4f233b9562de",
       "outputs": [
        {
         "data": {
          "application/javascript": "/* Put everything inside the global mpl namespace */\n/* global mpl */\nwindow.mpl = {};\n\nmpl.get_websocket_type = function () {\n    if (typeof WebSocket !== 'undefined') {\n        return WebSocket;\n    } else if (typeof MozWebSocket !== 'undefined') {\n        return MozWebSocket;\n    } else {\n        alert(\n            'Your browser does not have WebSocket support. ' +\n                'Please try Chrome, Safari or Firefox ≥ 6. ' +\n                'Firefox 4 and 5 are also supported but you ' +\n                'have to enable WebSockets in about:config.'\n        );\n    }\n};\n\nmpl.figure = function (figure_id, websocket, ondownload, parent_element) {\n    this.id = figure_id;\n\n    this.ws = websocket;\n\n    this.supports_binary = this.ws.binaryType !== undefined;\n\n    if (!this.supports_binary) {\n        var warnings = document.getElementById('mpl-warnings');\n        if (warnings) {\n            warnings.style.display = 'block';\n            warnings.textContent =\n                'This browser does not support binary websocket messages. ' +\n                'Performance may be slow.';\n        }\n    }\n\n    this.imageObj = new Image();\n\n    this.context = undefined;\n    this.message = undefined;\n    this.canvas = undefined;\n    this.rubberband_canvas = undefined;\n    this.rubberband_context = undefined;\n    this.format_dropdown = undefined;\n\n    this.image_mode = 'full';\n\n    this.root = document.createElement('div');\n    this.root.setAttribute('style', 'display: inline-block');\n    this._root_extra_style(this.root);\n\n    parent_element.appendChild(this.root);\n\n    this._init_header(this);\n    this._init_canvas(this);\n    this._init_toolbar(this);\n\n    var fig = this;\n\n    this.waiting = false;\n\n    this.ws.onopen = function () {\n        fig.send_message('supports_binary', { value: fig.supports_binary });\n        fig.send_message('send_image_mode', {});\n        if (mpl.ratio !== 1) {\n            fig.send_message('set_dpi_ratio', { dpi_ratio: mpl.ratio });\n        }\n        fig.send_message('refresh', {});\n    };\n\n    this.imageObj.onload = function () {\n        if (fig.image_mode === 'full') {\n            // Full images could contain transparency (where diff images\n            // almost always do), so we need to clear the canvas so that\n            // there is no ghosting.\n            fig.context.clearRect(0, 0, fig.canvas.width, fig.canvas.height);\n        }\n        fig.context.drawImage(fig.imageObj, 0, 0);\n    };\n\n    this.imageObj.onunload = function () {\n        fig.ws.close();\n    };\n\n    this.ws.onmessage = this._make_on_message_function(this);\n\n    this.ondownload = ondownload;\n};\n\nmpl.figure.prototype._init_header = function () {\n    var titlebar = document.createElement('div');\n    titlebar.classList =\n        'ui-dialog-titlebar ui-widget-header ui-corner-all ui-helper-clearfix';\n    var titletext = document.createElement('div');\n    titletext.classList = 'ui-dialog-title';\n    titletext.setAttribute(\n        'style',\n        'width: 100%; text-align: center; padding: 3px;'\n    );\n    titlebar.appendChild(titletext);\n    this.root.appendChild(titlebar);\n    this.header = titletext;\n};\n\nmpl.figure.prototype._canvas_extra_style = function (_canvas_div) {};\n\nmpl.figure.prototype._root_extra_style = function (_canvas_div) {};\n\nmpl.figure.prototype._init_canvas = function () {\n    var fig = this;\n\n    var canvas_div = (this.canvas_div = document.createElement('div'));\n    canvas_div.setAttribute(\n        'style',\n        'border: 1px solid #ddd;' +\n            'box-sizing: content-box;' +\n            'clear: both;' +\n            'min-height: 1px;' +\n            'min-width: 1px;' +\n            'outline: 0;' +\n            'overflow: hidden;' +\n            'position: relative;' +\n            'resize: both;'\n    );\n\n    function on_keyboard_event_closure(name) {\n        return function (event) {\n            return fig.key_event(event, name);\n        };\n    }\n\n    canvas_div.addEventListener(\n        'keydown',\n        on_keyboard_event_closure('key_press')\n    );\n    canvas_div.addEventListener(\n        'keyup',\n        on_keyboard_event_closure('key_release')\n    );\n\n    this._canvas_extra_style(canvas_div);\n    this.root.appendChild(canvas_div);\n\n    var canvas = (this.canvas = document.createElement('canvas'));\n    canvas.classList.add('mpl-canvas');\n    canvas.setAttribute('style', 'box-sizing: content-box;');\n\n    this.context = canvas.getContext('2d');\n\n    var backingStore =\n        this.context.backingStorePixelRatio ||\n        this.context.webkitBackingStorePixelRatio ||\n        this.context.mozBackingStorePixelRatio ||\n        this.context.msBackingStorePixelRatio ||\n        this.context.oBackingStorePixelRatio ||\n        this.context.backingStorePixelRatio ||\n        1;\n\n    mpl.ratio = (window.devicePixelRatio || 1) / backingStore;\n\n    var rubberband_canvas = (this.rubberband_canvas = document.createElement(\n        'canvas'\n    ));\n    rubberband_canvas.setAttribute(\n        'style',\n        'box-sizing: content-box; position: absolute; left: 0; top: 0; z-index: 1;'\n    );\n\n    var resizeObserver = new ResizeObserver(function (entries) {\n        var nentries = entries.length;\n        for (var i = 0; i < nentries; i++) {\n            var entry = entries[i];\n            var width, height;\n            if (entry.contentBoxSize) {\n                if (entry.contentBoxSize instanceof Array) {\n                    // Chrome 84 implements new version of spec.\n                    width = entry.contentBoxSize[0].inlineSize;\n                    height = entry.contentBoxSize[0].blockSize;\n                } else {\n                    // Firefox implements old version of spec.\n                    width = entry.contentBoxSize.inlineSize;\n                    height = entry.contentBoxSize.blockSize;\n                }\n            } else {\n                // Chrome <84 implements even older version of spec.\n                width = entry.contentRect.width;\n                height = entry.contentRect.height;\n            }\n\n            // Keep the size of the canvas and rubber band canvas in sync with\n            // the canvas container.\n            if (entry.devicePixelContentBoxSize) {\n                // Chrome 84 implements new version of spec.\n                canvas.setAttribute(\n                    'width',\n                    entry.devicePixelContentBoxSize[0].inlineSize\n                );\n                canvas.setAttribute(\n                    'height',\n                    entry.devicePixelContentBoxSize[0].blockSize\n                );\n            } else {\n                canvas.setAttribute('width', width * mpl.ratio);\n                canvas.setAttribute('height', height * mpl.ratio);\n            }\n            canvas.setAttribute(\n                'style',\n                'width: ' + width + 'px; height: ' + height + 'px;'\n            );\n\n            rubberband_canvas.setAttribute('width', width);\n            rubberband_canvas.setAttribute('height', height);\n\n            // And update the size in Python. We ignore the initial 0/0 size\n            // that occurs as the element is placed into the DOM, which should\n            // otherwise not happen due to the minimum size styling.\n            if (width != 0 && height != 0) {\n                fig.request_resize(width, height);\n            }\n        }\n    });\n    resizeObserver.observe(canvas_div);\n\n    function on_mouse_event_closure(name) {\n        return function (event) {\n            return fig.mouse_event(event, name);\n        };\n    }\n\n    rubberband_canvas.addEventListener(\n        'mousedown',\n        on_mouse_event_closure('button_press')\n    );\n    rubberband_canvas.addEventListener(\n        'mouseup',\n        on_mouse_event_closure('button_release')\n    );\n    // Throttle sequential mouse events to 1 every 20ms.\n    rubberband_canvas.addEventListener(\n        'mousemove',\n        on_mouse_event_closure('motion_notify')\n    );\n\n    rubberband_canvas.addEventListener(\n        'mouseenter',\n        on_mouse_event_closure('figure_enter')\n    );\n    rubberband_canvas.addEventListener(\n        'mouseleave',\n        on_mouse_event_closure('figure_leave')\n    );\n\n    canvas_div.addEventListener('wheel', function (event) {\n        if (event.deltaY < 0) {\n            event.step = 1;\n        } else {\n            event.step = -1;\n        }\n        on_mouse_event_closure('scroll')(event);\n    });\n\n    canvas_div.appendChild(canvas);\n    canvas_div.appendChild(rubberband_canvas);\n\n    this.rubberband_context = rubberband_canvas.getContext('2d');\n    this.rubberband_context.strokeStyle = '#000000';\n\n    this._resize_canvas = function (width, height, forward) {\n        if (forward) {\n            canvas_div.style.width = width + 'px';\n            canvas_div.style.height = height + 'px';\n        }\n    };\n\n    // Disable right mouse context menu.\n    this.rubberband_canvas.addEventListener('contextmenu', function (_e) {\n        event.preventDefault();\n        return false;\n    });\n\n    function set_focus() {\n        canvas.focus();\n        canvas_div.focus();\n    }\n\n    window.setTimeout(set_focus, 100);\n};\n\nmpl.figure.prototype._init_toolbar = function () {\n    var fig = this;\n\n    var toolbar = document.createElement('div');\n    toolbar.classList = 'mpl-toolbar';\n    this.root.appendChild(toolbar);\n\n    function on_click_closure(name) {\n        return function (_event) {\n            return fig.toolbar_button_onclick(name);\n        };\n    }\n\n    function on_mouseover_closure(tooltip) {\n        return function (event) {\n            if (!event.currentTarget.disabled) {\n                return fig.toolbar_button_onmouseover(tooltip);\n            }\n        };\n    }\n\n    fig.buttons = {};\n    var buttonGroup = document.createElement('div');\n    buttonGroup.classList = 'mpl-button-group';\n    for (var toolbar_ind in mpl.toolbar_items) {\n        var name = mpl.toolbar_items[toolbar_ind][0];\n        var tooltip = mpl.toolbar_items[toolbar_ind][1];\n        var image = mpl.toolbar_items[toolbar_ind][2];\n        var method_name = mpl.toolbar_items[toolbar_ind][3];\n\n        if (!name) {\n            /* Instead of a spacer, we start a new button group. */\n            if (buttonGroup.hasChildNodes()) {\n                toolbar.appendChild(buttonGroup);\n            }\n            buttonGroup = document.createElement('div');\n            buttonGroup.classList = 'mpl-button-group';\n            continue;\n        }\n\n        var button = (fig.buttons[name] = document.createElement('button'));\n        button.classList = 'mpl-widget';\n        button.setAttribute('role', 'button');\n        button.setAttribute('aria-disabled', 'false');\n        button.addEventListener('click', on_click_closure(method_name));\n        button.addEventListener('mouseover', on_mouseover_closure(tooltip));\n\n        var icon_img = document.createElement('img');\n        icon_img.src = '_images/' + image + '.png';\n        icon_img.srcset = '_images/' + image + '_large.png 2x';\n        icon_img.alt = tooltip;\n        button.appendChild(icon_img);\n\n        buttonGroup.appendChild(button);\n    }\n\n    if (buttonGroup.hasChildNodes()) {\n        toolbar.appendChild(buttonGroup);\n    }\n\n    var fmt_picker = document.createElement('select');\n    fmt_picker.classList = 'mpl-widget';\n    toolbar.appendChild(fmt_picker);\n    this.format_dropdown = fmt_picker;\n\n    for (var ind in mpl.extensions) {\n        var fmt = mpl.extensions[ind];\n        var option = document.createElement('option');\n        option.selected = fmt === mpl.default_extension;\n        option.innerHTML = fmt;\n        fmt_picker.appendChild(option);\n    }\n\n    var status_bar = document.createElement('span');\n    status_bar.classList = 'mpl-message';\n    toolbar.appendChild(status_bar);\n    this.message = status_bar;\n};\n\nmpl.figure.prototype.request_resize = function (x_pixels, y_pixels) {\n    // Request matplotlib to resize the figure. Matplotlib will then trigger a resize in the client,\n    // which will in turn request a refresh of the image.\n    this.send_message('resize', { width: x_pixels, height: y_pixels });\n};\n\nmpl.figure.prototype.send_message = function (type, properties) {\n    properties['type'] = type;\n    properties['figure_id'] = this.id;\n    this.ws.send(JSON.stringify(properties));\n};\n\nmpl.figure.prototype.send_draw_message = function () {\n    if (!this.waiting) {\n        this.waiting = true;\n        this.ws.send(JSON.stringify({ type: 'draw', figure_id: this.id }));\n    }\n};\n\nmpl.figure.prototype.handle_save = function (fig, _msg) {\n    var format_dropdown = fig.format_dropdown;\n    var format = format_dropdown.options[format_dropdown.selectedIndex].value;\n    fig.ondownload(fig, format);\n};\n\nmpl.figure.prototype.handle_resize = function (fig, msg) {\n    var size = msg['size'];\n    if (size[0] !== fig.canvas.width || size[1] !== fig.canvas.height) {\n        fig._resize_canvas(size[0], size[1], msg['forward']);\n        fig.send_message('refresh', {});\n    }\n};\n\nmpl.figure.prototype.handle_rubberband = function (fig, msg) {\n    var x0 = msg['x0'] / mpl.ratio;\n    var y0 = (fig.canvas.height - msg['y0']) / mpl.ratio;\n    var x1 = msg['x1'] / mpl.ratio;\n    var y1 = (fig.canvas.height - msg['y1']) / mpl.ratio;\n    x0 = Math.floor(x0) + 0.5;\n    y0 = Math.floor(y0) + 0.5;\n    x1 = Math.floor(x1) + 0.5;\n    y1 = Math.floor(y1) + 0.5;\n    var min_x = Math.min(x0, x1);\n    var min_y = Math.min(y0, y1);\n    var width = Math.abs(x1 - x0);\n    var height = Math.abs(y1 - y0);\n\n    fig.rubberband_context.clearRect(\n        0,\n        0,\n        fig.canvas.width / mpl.ratio,\n        fig.canvas.height / mpl.ratio\n    );\n\n    fig.rubberband_context.strokeRect(min_x, min_y, width, height);\n};\n\nmpl.figure.prototype.handle_figure_label = function (fig, msg) {\n    // Updates the figure title.\n    fig.header.textContent = msg['label'];\n};\n\nmpl.figure.prototype.handle_cursor = function (fig, msg) {\n    var cursor = msg['cursor'];\n    switch (cursor) {\n        case 0:\n            cursor = 'pointer';\n            break;\n        case 1:\n            cursor = 'default';\n            break;\n        case 2:\n            cursor = 'crosshair';\n            break;\n        case 3:\n            cursor = 'move';\n            break;\n    }\n    fig.rubberband_canvas.style.cursor = cursor;\n};\n\nmpl.figure.prototype.handle_message = function (fig, msg) {\n    fig.message.textContent = msg['message'];\n};\n\nmpl.figure.prototype.handle_draw = function (fig, _msg) {\n    // Request the server to send over a new figure.\n    fig.send_draw_message();\n};\n\nmpl.figure.prototype.handle_image_mode = function (fig, msg) {\n    fig.image_mode = msg['mode'];\n};\n\nmpl.figure.prototype.handle_history_buttons = function (fig, msg) {\n    for (var key in msg) {\n        if (!(key in fig.buttons)) {\n            continue;\n        }\n        fig.buttons[key].disabled = !msg[key];\n        fig.buttons[key].setAttribute('aria-disabled', !msg[key]);\n    }\n};\n\nmpl.figure.prototype.handle_navigate_mode = function (fig, msg) {\n    if (msg['mode'] === 'PAN') {\n        fig.buttons['Pan'].classList.add('active');\n        fig.buttons['Zoom'].classList.remove('active');\n    } else if (msg['mode'] === 'ZOOM') {\n        fig.buttons['Pan'].classList.remove('active');\n        fig.buttons['Zoom'].classList.add('active');\n    } else {\n        fig.buttons['Pan'].classList.remove('active');\n        fig.buttons['Zoom'].classList.remove('active');\n    }\n};\n\nmpl.figure.prototype.updated_canvas_event = function () {\n    // Called whenever the canvas gets updated.\n    this.send_message('ack', {});\n};\n\n// A function to construct a web socket function for onmessage handling.\n// Called in the figure constructor.\nmpl.figure.prototype._make_on_message_function = function (fig) {\n    return function socket_on_message(evt) {\n        if (evt.data instanceof Blob) {\n            /* FIXME: We get \"Resource interpreted as Image but\n             * transferred with MIME type text/plain:\" errors on\n             * Chrome.  But how to set the MIME type?  It doesn't seem\n             * to be part of the websocket stream */\n            evt.data.type = 'image/png';\n\n            /* Free the memory for the previous frames */\n            if (fig.imageObj.src) {\n                (window.URL || window.webkitURL).revokeObjectURL(\n                    fig.imageObj.src\n                );\n            }\n\n            fig.imageObj.src = (window.URL || window.webkitURL).createObjectURL(\n                evt.data\n            );\n            fig.updated_canvas_event();\n            fig.waiting = false;\n            return;\n        } else if (\n            typeof evt.data === 'string' &&\n            evt.data.slice(0, 21) === 'data:image/png;base64'\n        ) {\n            fig.imageObj.src = evt.data;\n            fig.updated_canvas_event();\n            fig.waiting = false;\n            return;\n        }\n\n        var msg = JSON.parse(evt.data);\n        var msg_type = msg['type'];\n\n        // Call the  \"handle_{type}\" callback, which takes\n        // the figure and JSON message as its only arguments.\n        try {\n            var callback = fig['handle_' + msg_type];\n        } catch (e) {\n            console.log(\n                \"No handler for the '\" + msg_type + \"' message type: \",\n                msg\n            );\n            return;\n        }\n\n        if (callback) {\n            try {\n                // console.log(\"Handling '\" + msg_type + \"' message: \", msg);\n                callback(fig, msg);\n            } catch (e) {\n                console.log(\n                    \"Exception inside the 'handler_\" + msg_type + \"' callback:\",\n                    e,\n                    e.stack,\n                    msg\n                );\n            }\n        }\n    };\n};\n\n// from http://stackoverflow.com/questions/1114465/getting-mouse-location-in-canvas\nmpl.findpos = function (e) {\n    //this section is from http://www.quirksmode.org/js/events_properties.html\n    var targ;\n    if (!e) {\n        e = window.event;\n    }\n    if (e.target) {\n        targ = e.target;\n    } else if (e.srcElement) {\n        targ = e.srcElement;\n    }\n    if (targ.nodeType === 3) {\n        // defeat Safari bug\n        targ = targ.parentNode;\n    }\n\n    // pageX,Y are the mouse positions relative to the document\n    var boundingRect = targ.getBoundingClientRect();\n    var x = e.pageX - (boundingRect.left + document.body.scrollLeft);\n    var y = e.pageY - (boundingRect.top + document.body.scrollTop);\n\n    return { x: x, y: y };\n};\n\n/*\n * return a copy of an object with only non-object keys\n * we need this to avoid circular references\n * http://stackoverflow.com/a/24161582/3208463\n */\nfunction simpleKeys(original) {\n    return Object.keys(original).reduce(function (obj, key) {\n        if (typeof original[key] !== 'object') {\n            obj[key] = original[key];\n        }\n        return obj;\n    }, {});\n}\n\nmpl.figure.prototype.mouse_event = function (event, name) {\n    var canvas_pos = mpl.findpos(event);\n\n    if (name === 'button_press') {\n        this.canvas.focus();\n        this.canvas_div.focus();\n    }\n\n    var x = canvas_pos.x * mpl.ratio;\n    var y = canvas_pos.y * mpl.ratio;\n\n    this.send_message(name, {\n        x: x,\n        y: y,\n        button: event.button,\n        step: event.step,\n        guiEvent: simpleKeys(event),\n    });\n\n    /* This prevents the web browser from automatically changing to\n     * the text insertion cursor when the button is pressed.  We want\n     * to control all of the cursor setting manually through the\n     * 'cursor' event from matplotlib */\n    event.preventDefault();\n    return false;\n};\n\nmpl.figure.prototype._key_event_extra = function (_event, _name) {\n    // Handle any extra behaviour associated with a key event\n};\n\nmpl.figure.prototype.key_event = function (event, name) {\n    // Prevent repeat events\n    if (name === 'key_press') {\n        if (event.which === this._key) {\n            return;\n        } else {\n            this._key = event.which;\n        }\n    }\n    if (name === 'key_release') {\n        this._key = null;\n    }\n\n    var value = '';\n    if (event.ctrlKey && event.which !== 17) {\n        value += 'ctrl+';\n    }\n    if (event.altKey && event.which !== 18) {\n        value += 'alt+';\n    }\n    if (event.shiftKey && event.which !== 16) {\n        value += 'shift+';\n    }\n\n    value += 'k';\n    value += event.which.toString();\n\n    this._key_event_extra(event, name);\n\n    this.send_message(name, { key: value, guiEvent: simpleKeys(event) });\n    return false;\n};\n\nmpl.figure.prototype.toolbar_button_onclick = function (name) {\n    if (name === 'download') {\n        this.handle_save(this, null);\n    } else {\n        this.send_message('toolbar_button', { name: name });\n    }\n};\n\nmpl.figure.prototype.toolbar_button_onmouseover = function (tooltip) {\n    this.message.textContent = tooltip;\n};\nmpl.toolbar_items = [[\"Home\", \"Reset original view\", \"fa fa-home icon-home\", \"home\"], [\"Back\", \"Back to previous view\", \"fa fa-arrow-left icon-arrow-left\", \"back\"], [\"Forward\", \"Forward to next view\", \"fa fa-arrow-right icon-arrow-right\", \"forward\"], [\"\", \"\", \"\", \"\"], [\"Pan\", \"Left button pans, Right button zooms\\nx/y fixes axis, CTRL fixes aspect\", \"fa fa-arrows icon-move\", \"pan\"], [\"Zoom\", \"Zoom to rectangle\\nx/y fixes axis, CTRL fixes aspect\", \"fa fa-square-o icon-check-empty\", \"zoom\"], [\"\", \"\", \"\", \"\"], [\"Download\", \"Download plot\", \"fa fa-floppy-o icon-save\", \"download\"]];\n\nmpl.extensions = [\"eps\", \"jpeg\", \"pdf\", \"png\", \"ps\", \"raw\", \"svg\", \"tif\"];\n\nmpl.default_extension = \"png\";/* global mpl */\n\nvar comm_websocket_adapter = function (comm) {\n    // Create a \"websocket\"-like object which calls the given IPython comm\n    // object with the appropriate methods. Currently this is a non binary\n    // socket, so there is still some room for performance tuning.\n    var ws = {};\n\n    ws.close = function () {\n        comm.close();\n    };\n    ws.send = function (m) {\n        //console.log('sending', m);\n        comm.send(m);\n    };\n    // Register the callback with on_msg.\n    comm.on_msg(function (msg) {\n        //console.log('receiving', msg['content']['data'], msg);\n        // Pass the mpl event to the overridden (by mpl) onmessage function.\n        ws.onmessage(msg['content']['data']);\n    });\n    return ws;\n};\n\nmpl.mpl_figure_comm = function (comm, msg) {\n    // This is the function which gets called when the mpl process\n    // starts-up an IPython Comm through the \"matplotlib\" channel.\n\n    var id = msg.content.data.id;\n    // Get hold of the div created by the display call when the Comm\n    // socket was opened in Python.\n    var element = document.getElementById(id);\n    var ws_proxy = comm_websocket_adapter(comm);\n\n    function ondownload(figure, _format) {\n        window.open(figure.canvas.toDataURL());\n    }\n\n    var fig = new mpl.figure(id, ws_proxy, ondownload, element);\n\n    // Call onopen now - mpl needs it, as it is assuming we've passed it a real\n    // web socket which is closed, not our websocket->open comm proxy.\n    ws_proxy.onopen();\n\n    fig.parent_element = element;\n    fig.cell_info = mpl.find_output_cell(\"<div id='\" + id + \"'></div>\");\n    if (!fig.cell_info) {\n        console.error('Failed to find cell for figure', id, fig);\n        return;\n    }\n};\n\nmpl.figure.prototype.handle_close = function (fig, msg) {\n    var width = fig.canvas.width / mpl.ratio;\n    fig.root.removeEventListener('remove', this._remove_fig_handler);\n\n    // Update the output cell to use the data from the current canvas.\n    fig.push_to_output();\n    var dataURL = fig.canvas.toDataURL();\n    // Re-enable the keyboard manager in IPython - without this line, in FF,\n    // the notebook keyboard shortcuts fail.\n    IPython.keyboard_manager.enable();\n    fig.parent_element.innerHTML =\n        '<img src=\"' + dataURL + '\" width=\"' + width + '\">';\n    fig.close_ws(fig, msg);\n};\n\nmpl.figure.prototype.close_ws = function (fig, msg) {\n    fig.send_message('closing', msg);\n    // fig.ws.close()\n};\n\nmpl.figure.prototype.push_to_output = function (_remove_interactive) {\n    // Turn the data on the canvas into data in the output cell.\n    var width = this.canvas.width / mpl.ratio;\n    var dataURL = this.canvas.toDataURL();\n    this.cell_info[1]['text/html'] =\n        '<img src=\"' + dataURL + '\" width=\"' + width + '\">';\n};\n\nmpl.figure.prototype.updated_canvas_event = function () {\n    // Tell IPython that the notebook contents must change.\n    IPython.notebook.set_dirty(true);\n    this.send_message('ack', {});\n    var fig = this;\n    // Wait a second, then push the new image to the DOM so\n    // that it is saved nicely (might be nice to debounce this).\n    setTimeout(function () {\n        fig.push_to_output();\n    }, 1000);\n};\n\nmpl.figure.prototype._init_toolbar = function () {\n    var fig = this;\n\n    var toolbar = document.createElement('div');\n    toolbar.classList = 'btn-toolbar';\n    this.root.appendChild(toolbar);\n\n    function on_click_closure(name) {\n        return function (_event) {\n            return fig.toolbar_button_onclick(name);\n        };\n    }\n\n    function on_mouseover_closure(tooltip) {\n        return function (event) {\n            if (!event.currentTarget.disabled) {\n                return fig.toolbar_button_onmouseover(tooltip);\n            }\n        };\n    }\n\n    fig.buttons = {};\n    var buttonGroup = document.createElement('div');\n    buttonGroup.classList = 'btn-group';\n    var button;\n    for (var toolbar_ind in mpl.toolbar_items) {\n        var name = mpl.toolbar_items[toolbar_ind][0];\n        var tooltip = mpl.toolbar_items[toolbar_ind][1];\n        var image = mpl.toolbar_items[toolbar_ind][2];\n        var method_name = mpl.toolbar_items[toolbar_ind][3];\n\n        if (!name) {\n            /* Instead of a spacer, we start a new button group. */\n            if (buttonGroup.hasChildNodes()) {\n                toolbar.appendChild(buttonGroup);\n            }\n            buttonGroup = document.createElement('div');\n            buttonGroup.classList = 'btn-group';\n            continue;\n        }\n\n        button = fig.buttons[name] = document.createElement('button');\n        button.classList = 'btn btn-default';\n        button.href = '#';\n        button.title = name;\n        button.innerHTML = '<i class=\"fa ' + image + ' fa-lg\"></i>';\n        button.addEventListener('click', on_click_closure(method_name));\n        button.addEventListener('mouseover', on_mouseover_closure(tooltip));\n        buttonGroup.appendChild(button);\n    }\n\n    if (buttonGroup.hasChildNodes()) {\n        toolbar.appendChild(buttonGroup);\n    }\n\n    // Add the status bar.\n    var status_bar = document.createElement('span');\n    status_bar.classList = 'mpl-message pull-right';\n    toolbar.appendChild(status_bar);\n    this.message = status_bar;\n\n    // Add the close button to the window.\n    var buttongrp = document.createElement('div');\n    buttongrp.classList = 'btn-group inline pull-right';\n    button = document.createElement('button');\n    button.classList = 'btn btn-mini btn-primary';\n    button.href = '#';\n    button.title = 'Stop Interaction';\n    button.innerHTML = '<i class=\"fa fa-power-off icon-remove icon-large\"></i>';\n    button.addEventListener('click', function (_evt) {\n        fig.handle_close(fig, {});\n    });\n    button.addEventListener(\n        'mouseover',\n        on_mouseover_closure('Stop Interaction')\n    );\n    buttongrp.appendChild(button);\n    var titlebar = this.root.querySelector('.ui-dialog-titlebar');\n    titlebar.insertBefore(buttongrp, titlebar.firstChild);\n};\n\nmpl.figure.prototype._remove_fig_handler = function () {\n    this.close_ws(this, {});\n};\n\nmpl.figure.prototype._root_extra_style = function (el) {\n    el.style.boxSizing = 'content-box'; // override notebook setting of border-box.\n    el.addEventListener('remove', this._remove_fig_handler);\n};\n\nmpl.figure.prototype._canvas_extra_style = function (el) {\n    // this is important to make the div 'focusable\n    el.setAttribute('tabindex', 0);\n    // reach out to IPython and tell the keyboard manager to turn it's self\n    // off when our div gets focus\n\n    // location in version 3\n    if (IPython.notebook.keyboard_manager) {\n        IPython.notebook.keyboard_manager.register_events(el);\n    } else {\n        // location in version 2\n        IPython.keyboard_manager.register_events(el);\n    }\n};\n\nmpl.figure.prototype._key_event_extra = function (event, _name) {\n    var manager = IPython.notebook.keyboard_manager;\n    if (!manager) {\n        manager = IPython.keyboard_manager;\n    }\n\n    // Check for shift+enter\n    if (event.shiftKey && event.which === 13) {\n        this.canvas_div.blur();\n        // select the cell after this one\n        var index = IPython.notebook.find_cell_index(this.cell_info[0]);\n        IPython.notebook.select(index + 1);\n    }\n};\n\nmpl.figure.prototype.handle_save = function (fig, _msg) {\n    fig.ondownload(fig, null);\n};\n\nmpl.find_output_cell = function (html_output) {\n    // Return the cell and output element which can be found *uniquely* in the notebook.\n    // Note - this is a bit hacky, but it is done because the \"notebook_saving.Notebook\"\n    // IPython event is triggered only after the cells have been serialised, which for\n    // our purposes (turning an active figure into a static one), is too late.\n    var cells = IPython.notebook.get_cells();\n    var ncells = cells.length;\n    for (var i = 0; i < ncells; i++) {\n        var cell = cells[i];\n        if (cell.cell_type === 'code') {\n            for (var j = 0; j < cell.output_area.outputs.length; j++) {\n                var data = cell.output_area.outputs[j];\n                if (data.data) {\n                    // IPython >= 3 moved mimebundle to data attribute of output\n                    data = data.data;\n                }\n                if (data['text/html'] === html_output) {\n                    return [cell, data, j];\n                }\n            }\n        }\n    }\n};\n\n// Register the function which deals with the matplotlib target/channel.\n// The kernel may be null if the page has been refreshed.\nif (IPython.notebook.kernel !== null) {\n    IPython.notebook.kernel.comm_manager.register_target(\n        'matplotlib',\n        mpl.mpl_figure_comm\n    );\n}\n",
          "text/plain": "<IPython.core.display.Javascript object>"
         },
         "metadata": {},
         "output_type": "display_data"
        },
        {
         "data": {
          "text/html": "<div id='22132f92-2003-49fa-b9bc-1f9eef7e20c0'></div>",
          "text/plain": "<IPython.core.display.HTML object>"
         },
         "metadata": {},
         "output_type": "display_data"
        }
       ]
      }
     },
     "f6b9e885fe28484b89749fb88bfd2081": {
      "model_module": "@jupyter-widgets/controls",
      "model_module_version": "1.5.0",
      "model_name": "DescriptionStyleModel",
      "state": {
       "description_width": ""
      }
     },
     "f6ba9ee9d7314a67af1d19634127d4d2": {
      "model_module": "@jupyter-widgets/base",
      "model_module_version": "1.2.0",
      "model_name": "LayoutModel",
      "state": {}
     },
     "f6e8573201c7451fabe8446a8770f73a": {
      "model_module": "@jupyter-widgets/base",
      "model_module_version": "1.2.0",
      "model_name": "LayoutModel",
      "state": {}
     },
     "f7081dd3b86a48d5b1ab097847a502c5": {
      "model_module": "@jupyter-widgets/base",
      "model_module_version": "1.2.0",
      "model_name": "LayoutModel",
      "state": {
       "width": "5%"
      }
     },
     "f71a0e135b384ef1b15f5db6cd4e2139": {
      "model_module": "@jupyter-widgets/controls",
      "model_module_version": "1.5.0",
      "model_name": "HBoxModel",
      "state": {
       "children": [
        "IPY_MODEL_c60239397cb44adab4789932b6f3e21c",
        "IPY_MODEL_9cb37bec3054428ba6d51b6cba0fda76"
       ],
       "layout": "IPY_MODEL_904cf3da09154218be4c716f5bc88692"
      }
     },
     "f72443689df44beda0e8c83cf8e2c6d4": {
      "model_module": "@jupyter-widgets/controls",
      "model_module_version": "1.5.0",
      "model_name": "DescriptionStyleModel",
      "state": {
       "description_width": ""
      }
     },
     "f7598aab4bc64288a1aff0b5db9d94d5": {
      "model_module": "@jupyter-widgets/controls",
      "model_module_version": "1.5.0",
      "model_name": "DescriptionStyleModel",
      "state": {
       "description_width": ""
      }
     },
     "f773ee667f1048f995146504476eb911": {
      "model_module": "@jupyter-widgets/controls",
      "model_module_version": "1.5.0",
      "model_name": "RadioButtonsModel",
      "state": {
       "_options_labels": [
        "a. df = 1/(N*dt)",
        "b. df = 1/dt",
        "c. df = N*dt",
        "d. df = N/dt"
       ],
       "index": 0,
       "layout": "IPY_MODEL_17d13e78be384df1a5fe2953cf750652",
       "style": "IPY_MODEL_8be040685f77467ab185fd71826aec88"
      }
     },
     "f7896dbd498b4d01bdaec8638c73c9be": {
      "model_module": "@jupyter-widgets/controls",
      "model_module_version": "1.5.0",
      "model_name": "HBoxModel",
      "state": {
       "children": [
        "IPY_MODEL_3fbec7b03abd4b5399966762335d6e1e",
        "IPY_MODEL_4357555822054437baf8fb97bcd39b17"
       ],
       "layout": "IPY_MODEL_b37b6b2d43bd4250bd2e397096ccd8b0"
      }
     },
     "f7ed5bbd3646417583be1447544845b2": {
      "model_module": "@jupyter-widgets/controls",
      "model_module_version": "1.5.0",
      "model_name": "LabelModel",
      "state": {
       "layout": "IPY_MODEL_994262d7a046449a952795a7708a5649",
       "style": "IPY_MODEL_1f7c5a63c0384141aeab95a091c07f9f"
      }
     },
     "f80a0ea3e4b342a5a731ed7ef629aebd": {
      "model_module": "@jupyter-widgets/base",
      "model_module_version": "1.2.0",
      "model_name": "LayoutModel",
      "state": {
       "width": "90%"
      }
     },
     "f8216b5a6908404dafacbd64c8022ab1": {
      "model_module": "@jupyter-widgets/output",
      "model_module_version": "1.0.0",
      "model_name": "OutputModel",
      "state": {
       "layout": "IPY_MODEL_31f51731bc044c2fb56b9097c86cea6d",
       "outputs": [
        {
         "name": "stdout",
         "output_type": "stream",
         "text": "here\n"
        }
       ]
      }
     },
     "f8680c6682db4214b04dc1385373225f": {
      "model_module": "@jupyter-widgets/controls",
      "model_module_version": "1.5.0",
      "model_name": "LabelModel",
      "state": {
       "layout": "IPY_MODEL_40a20928d2aa472d943590484e87abbe",
       "style": "IPY_MODEL_969f68229f7647019b5a7324af0fe00e"
      }
     },
     "f873d80ff8cf464a813906492f060ea0": {
      "model_module": "@jupyter-widgets/base",
      "model_module_version": "1.2.0",
      "model_name": "LayoutModel",
      "state": {}
     },
     "f88431d99d764c45935e09ee7e334324": {
      "model_module": "@jupyter-widgets/controls",
      "model_module_version": "1.5.0",
      "model_name": "HBoxModel",
      "state": {
       "children": [
        "IPY_MODEL_f1796a47af4b4629bd3bc9f44958dd21",
        "IPY_MODEL_5a2d4a3fa6cf4a68a8b01193ceb6f805"
       ],
       "layout": "IPY_MODEL_da30a10f726248658c05e72ffb0b111a"
      }
     },
     "f8ab6a30021c4dc7bc19184aed74a2ac": {
      "model_module": "@jupyter-widgets/base",
      "model_module_version": "1.2.0",
      "model_name": "LayoutModel",
      "state": {
       "width": "90%"
      }
     },
     "f8d3411c7b4f4d699ccd6467caa18707": {
      "model_module": "@jupyter-widgets/base",
      "model_module_version": "1.2.0",
      "model_name": "LayoutModel",
      "state": {
       "width": "90%"
      }
     },
     "f8e0197d60834edab8402bc6ff244557": {
      "model_module": "@jupyter-widgets/base",
      "model_module_version": "1.2.0",
      "model_name": "LayoutModel",
      "state": {
       "width": "5%"
      }
     },
     "f8f73cfca49446239e3322ffa81949f9": {
      "model_module": "@jupyter-widgets/controls",
      "model_module_version": "1.5.0",
      "model_name": "LabelModel",
      "state": {
       "layout": "IPY_MODEL_2dba3a7d4f994649b253abeb8388af6b",
       "style": "IPY_MODEL_6175a9ba682e488e8f18137138dda441"
      }
     },
     "f93f950247cf4c59a1f3c298ab388279": {
      "model_module": "@jupyter-widgets/controls",
      "model_module_version": "1.5.0",
      "model_name": "LabelModel",
      "state": {
       "layout": "IPY_MODEL_e7076db91c3043a0a37470e1768bf6c2",
       "style": "IPY_MODEL_9dd6c5591be743ddab9c95f1831519ef"
      }
     },
     "f941f97a61d34f2987ede3cb2afb7203": {
      "model_module": "@jupyter-widgets/controls",
      "model_module_version": "1.5.0",
      "model_name": "DescriptionStyleModel",
      "state": {
       "description_width": ""
      }
     },
     "f94b2b1d60e542f1ac3e7b6a57f33c80": {
      "model_module": "@jupyter-widgets/base",
      "model_module_version": "1.2.0",
      "model_name": "LayoutModel",
      "state": {
       "width": "90%"
      }
     },
     "f94c5a30e5c842d49deabf641fbfdccf": {
      "model_module": "@jupyter-widgets/base",
      "model_module_version": "1.2.0",
      "model_name": "LayoutModel",
      "state": {
       "width": "5%"
      }
     },
     "f958a14a1e7a4fc4966863e5b4b89d93": {
      "model_module": "@jupyter-widgets/base",
      "model_module_version": "1.2.0",
      "model_name": "LayoutModel",
      "state": {
       "width": "90%"
      }
     },
     "f9657c585e634624bc9dd1ca4a1d1e1b": {
      "model_module": "@jupyter-widgets/base",
      "model_module_version": "1.2.0",
      "model_name": "LayoutModel",
      "state": {
       "width": "5%"
      }
     },
     "f9869df9b9524bd28a3f155512151335": {
      "model_module": "@jupyter-widgets/controls",
      "model_module_version": "1.5.0",
      "model_name": "TextareaModel",
      "state": {
       "description": "String:",
       "layout": "IPY_MODEL_6e0c9d1e272e406a8616407f5ef9665b",
       "placeholder": "Type code here",
       "style": "IPY_MODEL_55fc717b94db463887e29bd51e8ee19b"
      }
     },
     "f98d264615f247e8a40b8b476e49da1d": {
      "model_module": "@jupyter-widgets/controls",
      "model_module_version": "1.5.0",
      "model_name": "TextareaModel",
      "state": {
       "description": "String:",
       "layout": "IPY_MODEL_882cf466c4ff41959782f949fb506033",
       "placeholder": "Type something",
       "style": "IPY_MODEL_0f603174661e4f10acbba0be537af0cc"
      }
     },
     "f993654a48a342229bbab11ca4a8bf5a": {
      "model_module": "@jupyter-widgets/base",
      "model_module_version": "1.2.0",
      "model_name": "LayoutModel",
      "state": {
       "width": "5%"
      }
     },
     "f99b1057109d48f796ef698f762b6e5d": {
      "model_module": "@jupyter-widgets/controls",
      "model_module_version": "1.5.0",
      "model_name": "VBoxModel",
      "state": {
       "children": [
        "IPY_MODEL_829e280018554e4e99421d34b8dea441",
        "IPY_MODEL_20f27bf0fbca405884535f172801938d"
       ],
       "layout": "IPY_MODEL_f07935ba9182420bbc274539c1bae70a"
      }
     },
     "f9b388bf94324a9bb7dede6955969bea": {
      "model_module": "@jupyter-widgets/controls",
      "model_module_version": "1.5.0",
      "model_name": "DescriptionStyleModel",
      "state": {
       "description_width": ""
      }
     },
     "f9f0a3f62e1c4d5088c5d68eb3e112da": {
      "model_module": "@jupyter-widgets/controls",
      "model_module_version": "1.5.0",
      "model_name": "LabelModel",
      "state": {
       "layout": "IPY_MODEL_8e928c29c610443b8adf83207dbc22a6",
       "style": "IPY_MODEL_ad3d0917aa6a42d6ac8a618d4b54c938"
      }
     },
     "fa067b389fcc4fe3a8464b54707aa85c": {
      "model_module": "@jupyter-widgets/base",
      "model_module_version": "1.2.0",
      "model_name": "LayoutModel",
      "state": {}
     },
     "fa0786515f234de8a49d2049ff822243": {
      "model_module": "@jupyter-widgets/controls",
      "model_module_version": "1.5.0",
      "model_name": "ButtonModel",
      "state": {
       "description": "Test Code",
       "layout": "IPY_MODEL_0eaeafa04755480da642359c4dde0b49",
       "style": "IPY_MODEL_1b5ed7840a05403f9e3986333c3ce22e",
       "tooltip": "Click to test your code"
      }
     },
     "fa2d9535cfa7495aaca195a3088354fe": {
      "model_module": "@jupyter-widgets/base",
      "model_module_version": "1.2.0",
      "model_name": "LayoutModel",
      "state": {}
     },
     "fa4abd5df7a748e0b429c1840ca90a3b": {
      "model_module": "@jupyter-widgets/base",
      "model_module_version": "1.2.0",
      "model_name": "LayoutModel",
      "state": {}
     },
     "fa5266f1d8d344b0ab92c16bbb6240fd": {
      "model_module": "@jupyter-widgets/controls",
      "model_module_version": "1.5.0",
      "model_name": "DescriptionStyleModel",
      "state": {
       "description_width": ""
      }
     },
     "fa6e683f5cec4bbd98a48d2942502579": {
      "model_module": "@jupyter-widgets/controls",
      "model_module_version": "1.5.0",
      "model_name": "RadioButtonsModel",
      "state": {
       "_options_labels": [
        "a. The free charge density",
        "b. The polarization density",
        "c. The free charge current",
        "d. The magnetic field"
       ],
       "index": 0,
       "layout": "IPY_MODEL_b6e40e854ff94198845e78b5305c1331",
       "style": "IPY_MODEL_4a37f552c0b446ca9d61ca4efbacf824"
      }
     },
     "fa883de9a1f84335be919a7ce848341f": {
      "model_module": "@jupyter-widgets/base",
      "model_module_version": "1.2.0",
      "model_name": "LayoutModel",
      "state": {}
     },
     "fac200f5c45949008c89f846db023485": {
      "model_module": "@jupyter-widgets/controls",
      "model_module_version": "1.5.0",
      "model_name": "RadioButtonsModel",
      "state": {
       "_options_labels": [
        "a. The Schrodinger equation",
        "b. Newton's Equations",
        "c. Maxwell's Equations",
        "d. The Klein-Gordon Equation"
       ],
       "index": 0,
       "layout": "IPY_MODEL_afd208683f9446959c92a2f16e51e47a",
       "style": "IPY_MODEL_5d27e8d89e82494d8e97291f100f75ac"
      }
     },
     "fad302a813ae492c88eaed45beaf2312": {
      "model_module": "@jupyter-widgets/controls",
      "model_module_version": "1.5.0",
      "model_name": "DescriptionStyleModel",
      "state": {
       "description_width": ""
      }
     },
     "faec9347dc1d49be93ff2e57e20d9579": {
      "model_module": "@jupyter-widgets/base",
      "model_module_version": "1.2.0",
      "model_name": "LayoutModel",
      "state": {}
     },
     "fb0214ae05b7414bb7c5b135338c2703": {
      "model_module": "@jupyter-widgets/controls",
      "model_module_version": "1.5.0",
      "model_name": "VBoxModel",
      "state": {
       "children": [
        "IPY_MODEL_d08e394636644399b2956fcf5948d0de",
        "IPY_MODEL_a7aef266f3a44c4ca198b3912f7ebd6a"
       ],
       "layout": "IPY_MODEL_36a71a0bd5a54423a5a232f54907bc82"
      }
     },
     "fb0a2ba858e54f0cbf07891599ce8783": {
      "model_module": "@jupyter-widgets/base",
      "model_module_version": "1.2.0",
      "model_name": "LayoutModel",
      "state": {}
     },
     "fb1290c09637473ca1cadd0b99d244a4": {
      "model_module": "@jupyter-widgets/controls",
      "model_module_version": "1.5.0",
      "model_name": "DescriptionStyleModel",
      "state": {
       "description_width": ""
      }
     },
     "fb18dc05b40b42ea9d0494d829888fb8": {
      "model_module": "@jupyter-widgets/base",
      "model_module_version": "1.2.0",
      "model_name": "LayoutModel",
      "state": {}
     },
     "fb1d9914a8f040b3b959b09e7d31b07c": {
      "model_module": "@jupyter-widgets/controls",
      "model_module_version": "1.5.0",
      "model_name": "LabelModel",
      "state": {
       "layout": "IPY_MODEL_0f32dfdd35864d5d98a61d97e9bd94ea",
       "style": "IPY_MODEL_3abf205c612943728aea5f6b25d47574"
      }
     },
     "fb25dec9f34e409da35b5ddcc5664c06": {
      "model_module": "@jupyter-widgets/controls",
      "model_module_version": "1.5.0",
      "model_name": "DescriptionStyleModel",
      "state": {
       "description_width": ""
      }
     },
     "fb32e2b522614d8f98a28e08dd9566a5": {
      "model_module": "@jupyter-widgets/controls",
      "model_module_version": "1.5.0",
      "model_name": "LabelModel",
      "state": {
       "layout": "IPY_MODEL_4710c0e99cf54f5d8afbe516740bdb2a",
       "style": "IPY_MODEL_64d6f58f8e9d45d885620eadb21a4acc"
      }
     },
     "fb5dbc0566b84f3ba3e620daf5e4be90": {
      "model_module": "@jupyter-widgets/base",
      "model_module_version": "1.2.0",
      "model_name": "LayoutModel",
      "state": {
       "width": "5%"
      }
     },
     "fb768448e3b042069ae6bcd014310414": {
      "model_module": "@jupyter-widgets/base",
      "model_module_version": "1.2.0",
      "model_name": "LayoutModel",
      "state": {
       "width": "90%"
      }
     },
     "fb7af98d0e3f4f7aa399500682b32404": {
      "model_module": "@jupyter-widgets/base",
      "model_module_version": "1.2.0",
      "model_name": "LayoutModel",
      "state": {
       "width": "90%"
      }
     },
     "fb813b4e83844642be250807f881f1d2": {
      "model_module": "@jupyter-widgets/controls",
      "model_module_version": "1.5.0",
      "model_name": "LabelModel",
      "state": {
       "layout": "IPY_MODEL_a8af9d641dbd4ad093452580d8dd5a89",
       "style": "IPY_MODEL_4e1588601de3454bb5bcb80e169af3c6"
      }
     },
     "fb8879d60c774c29b354caa030fc7eaa": {
      "model_module": "@jupyter-widgets/base",
      "model_module_version": "1.2.0",
      "model_name": "LayoutModel",
      "state": {}
     },
     "fbae1fa6dc974304b30aa0956b9cd90e": {
      "model_module": "@jupyter-widgets/controls",
      "model_module_version": "1.5.0",
      "model_name": "HBoxModel",
      "state": {
       "children": [
        "IPY_MODEL_012ee3a50eae4dcbae73f0ff30d1de28",
        "IPY_MODEL_a94bc3c10c4d4a3fb086350824a31e7e"
       ],
       "layout": "IPY_MODEL_0ca5bfb485154a1d8c9f37e6cd0c82e3"
      }
     },
     "fbbc2058bfb648b0a3f358ff0aff8556": {
      "model_module": "@jupyter-widgets/output",
      "model_module_version": "1.0.0",
      "model_name": "OutputModel",
      "state": {
       "layout": "IPY_MODEL_9d1285a314e841cb872324b8f211b538"
      }
     },
     "fbc3619fd0934aecb3f4faf649a90af2": {
      "model_module": "@jupyter-widgets/controls",
      "model_module_version": "1.5.0",
      "model_name": "TextareaModel",
      "state": {
       "description": "Answer:",
       "layout": "IPY_MODEL_91d85c07658d4098bb1d6422295ca9bf",
       "placeholder": "Type something",
       "style": "IPY_MODEL_5fd229fea272433ebe4febe4667d5ae6"
      }
     },
     "fbf2697ab7614e1d85b9c0145e3d9fdc": {
      "model_module": "@jupyter-widgets/controls",
      "model_module_version": "1.5.0",
      "model_name": "ButtonStyleModel",
      "state": {}
     },
     "fc0516a0407e40f09c3398501b3769a2": {
      "model_module": "@jupyter-widgets/controls",
      "model_module_version": "1.5.0",
      "model_name": "RadioButtonsModel",
      "state": {
       "_options_labels": [
        "True",
        "False"
       ],
       "index": 0,
       "layout": "IPY_MODEL_c98083590ecd4bd5a750a460c893789c",
       "style": "IPY_MODEL_081c504cae744c44abdb2ff9892e8e15"
      }
     },
     "fc063594ffec462690c97178cdc65152": {
      "model_module": "@jupyter-widgets/base",
      "model_module_version": "1.2.0",
      "model_name": "LayoutModel",
      "state": {
       "width": "90%"
      }
     },
     "fc25557ba85e443097f88b3f307909c9": {
      "model_module": "@jupyter-widgets/controls",
      "model_module_version": "1.5.0",
      "model_name": "HBoxModel",
      "state": {
       "children": [
        "IPY_MODEL_df253d86e0c5426bada5e8b991cc6f30",
        "IPY_MODEL_8d27c1b834dd48bf84e15236df1dd908"
       ],
       "layout": "IPY_MODEL_0f04a836b3ef4b93bdc6fff5fdafa7b6"
      }
     },
     "fc4cc9431f544d41a9a358d1310ffc5f": {
      "model_module": "@jupyter-widgets/controls",
      "model_module_version": "1.5.0",
      "model_name": "DescriptionStyleModel",
      "state": {
       "description_width": ""
      }
     },
     "fca6529d968b417d8e905b27141fb5b6": {
      "model_module": "@jupyter-widgets/base",
      "model_module_version": "1.2.0",
      "model_name": "LayoutModel",
      "state": {}
     },
     "fcb27d6aff5f4d44b3c7ba6f27c5c915": {
      "model_module": "@jupyter-widgets/base",
      "model_module_version": "1.2.0",
      "model_name": "LayoutModel",
      "state": {}
     },
     "fcb288a51f2e4050af3bea0d3c55762a": {
      "model_module": "@jupyter-widgets/base",
      "model_module_version": "1.2.0",
      "model_name": "LayoutModel",
      "state": {}
     },
     "fcb36109d5404fcfa6d4bfeb48d952f3": {
      "model_module": "@jupyter-widgets/controls",
      "model_module_version": "1.5.0",
      "model_name": "ButtonModel",
      "state": {
       "description": "Test Code",
       "layout": "IPY_MODEL_38ae7ab5e51e49879dcef0165db756ed",
       "style": "IPY_MODEL_c8a75f91bc5d442285e2feb5222aa6a1",
       "tooltip": "Click to test your code"
      }
     },
     "fcca2535ab2d47b0af68e15f59ffb479": {
      "model_module": "@jupyter-widgets/base",
      "model_module_version": "1.2.0",
      "model_name": "LayoutModel",
      "state": {
       "width": "5%"
      }
     },
     "fcd6ad052be64c598953d016368ffc6a": {
      "model_module": "@jupyter-widgets/controls",
      "model_module_version": "1.5.0",
      "model_name": "LabelModel",
      "state": {
       "layout": "IPY_MODEL_bde1e633bb8945d5af85265235676123",
       "style": "IPY_MODEL_2f921974f8ad4690bd2c753d2ee052fa"
      }
     },
     "fd0dbb04408b4d998cd7929724c875f3": {
      "model_module": "@jupyter-widgets/base",
      "model_module_version": "1.2.0",
      "model_name": "LayoutModel",
      "state": {
       "width": "5%"
      }
     },
     "fd1983ed002e4da7b22e5650fc19c6bc": {
      "model_module": "@jupyter-widgets/base",
      "model_module_version": "1.2.0",
      "model_name": "LayoutModel",
      "state": {
       "width": "5%"
      }
     },
     "fd20d8d7199049aa8f01606d73248dc7": {
      "model_module": "@jupyter-widgets/controls",
      "model_module_version": "1.5.0",
      "model_name": "HBoxModel",
      "state": {
       "children": [
        "IPY_MODEL_6d595b1419684eeb828c792c42b25173",
        "IPY_MODEL_182bf784baf741a2bd3709c3e2551e7a"
       ],
       "layout": "IPY_MODEL_3f77df7eb4314f9b94691be878a085e5"
      }
     },
     "fd3a7adab3864f1f9972c94b404e8079": {
      "model_module": "@jupyter-widgets/output",
      "model_module_version": "1.0.0",
      "model_name": "OutputModel",
      "state": {
       "layout": "IPY_MODEL_62af0b1cf06244fea85bf43d79be060e"
      }
     },
     "fd3dff9e567e45778aa13309d6f0c786": {
      "model_module": "@jupyter-widgets/controls",
      "model_module_version": "1.5.0",
      "model_name": "HBoxModel",
      "state": {
       "children": [
        "IPY_MODEL_dd3e4582ece24d9b809730245535af64",
        "IPY_MODEL_025a25c0295d44ccb9775d60471180c2"
       ],
       "layout": "IPY_MODEL_b948a80627aa4ab9910eb776c856f9be"
      }
     },
     "fd4917c9fc784aacb9f65aca6f1adcf7": {
      "model_module": "@jupyter-widgets/controls",
      "model_module_version": "1.5.0",
      "model_name": "TextareaModel",
      "state": {
       "description": "String:",
       "layout": "IPY_MODEL_d4222d8a253c4f259d140479c99ef186",
       "placeholder": "Type something",
       "style": "IPY_MODEL_a6bb09e334824da7a8430a831e0b4dfa"
      }
     },
     "fd4bbfeb5bf64e6a9d71d4faedd6845b": {
      "model_module": "@jupyter-widgets/controls",
      "model_module_version": "1.5.0",
      "model_name": "DescriptionStyleModel",
      "state": {
       "description_width": ""
      }
     },
     "fd85e6d46cb74f5bb11f88ad6074a053": {
      "model_module": "@jupyter-widgets/controls",
      "model_module_version": "1.5.0",
      "model_name": "DescriptionStyleModel",
      "state": {
       "description_width": ""
      }
     },
     "fd918d3dc58b430f82a9ce113c327948": {
      "model_module": "@jupyter-widgets/controls",
      "model_module_version": "1.5.0",
      "model_name": "DescriptionStyleModel",
      "state": {
       "description_width": ""
      }
     },
     "fdb38f66555d49b5b2f26c5d02828e02": {
      "model_module": "@jupyter-widgets/base",
      "model_module_version": "1.2.0",
      "model_name": "LayoutModel",
      "state": {}
     },
     "fdb7e09d83934448aa97ce2d63b72efc": {
      "model_module": "@jupyter-widgets/controls",
      "model_module_version": "1.5.0",
      "model_name": "ButtonModel",
      "state": {
       "description": "Run Code",
       "layout": "IPY_MODEL_09275ed207344edd9458c4d3b3c8bfbd",
       "style": "IPY_MODEL_4b10f023d4994ec19fcb7378d133b42a",
       "tooltip": "Click to test your code"
      }
     },
     "fdb919d63d534a148e52b2bbfc1df072": {
      "model_module": "@jupyter-widgets/base",
      "model_module_version": "1.2.0",
      "model_name": "LayoutModel",
      "state": {}
     },
     "fdc01233d1a442d89620396229883744": {
      "model_module": "@jupyter-widgets/controls",
      "model_module_version": "1.5.0",
      "model_name": "TextareaModel",
      "state": {
       "description": "String:",
       "layout": "IPY_MODEL_c06af3f423ae493d8ce49a53124fd645",
       "placeholder": "Type something",
       "style": "IPY_MODEL_ad8d608b49fb4a5ba85c240b17b060aa"
      }
     },
     "fe38dc1833284bb4996470bb2b3cedf4": {
      "model_module": "@jupyter-widgets/base",
      "model_module_version": "1.2.0",
      "model_name": "LayoutModel",
      "state": {
       "width": "90%"
      }
     },
     "fe4f4b539e384b2b9335ba964c515da3": {
      "model_module": "@jupyter-widgets/controls",
      "model_module_version": "1.5.0",
      "model_name": "LabelModel",
      "state": {
       "layout": "IPY_MODEL_26edd9be90a94bbba6c4d49cc561f4c9",
       "style": "IPY_MODEL_72e6cc4e795d467e9ec00fb9e3587191"
      }
     },
     "fe543f6e4330493b90c1146a1af6c7c9": {
      "model_module": "@jupyter-widgets/controls",
      "model_module_version": "1.5.0",
      "model_name": "DescriptionStyleModel",
      "state": {
       "description_width": ""
      }
     },
     "fe7f9d34fe6c4a84b8cefb360013f079": {
      "model_module": "@jupyter-widgets/base",
      "model_module_version": "1.2.0",
      "model_name": "LayoutModel",
      "state": {}
     },
     "fe869f5f8f6a411fb3193271616962c8": {
      "model_module": "@jupyter-widgets/controls",
      "model_module_version": "1.5.0",
      "model_name": "HBoxModel",
      "state": {
       "children": [
        "IPY_MODEL_a47c79fbd76041daac9c6bba8938e210",
        "IPY_MODEL_ce8d8a56ee2e415aaa9da11ba406c350"
       ],
       "layout": "IPY_MODEL_efe92fb66a2e47d2908261230c4f6cc2"
      }
     },
     "fec63915f91748f9a04537f0b4d4297a": {
      "model_module": "@jupyter-widgets/base",
      "model_module_version": "1.2.0",
      "model_name": "LayoutModel",
      "state": {
       "width": "5%"
      }
     },
     "fef5254a7a624f52aea2fe1e5c137ffe": {
      "model_module": "@jupyter-widgets/controls",
      "model_module_version": "1.5.0",
      "model_name": "TextareaModel",
      "state": {
       "description": "String:",
       "layout": "IPY_MODEL_19a6794229c34ac99e2ad822410869d3",
       "placeholder": "Type something",
       "style": "IPY_MODEL_63d31fa247c443cbb34b0243f0f1d96d"
      }
     },
     "fef66b679de54ec3b32619314ba04636": {
      "model_module": "@jupyter-widgets/base",
      "model_module_version": "1.2.0",
      "model_name": "LayoutModel",
      "state": {}
     },
     "ff09eb8a29054158b7152c6aac0b05b5": {
      "model_module": "@jupyter-widgets/base",
      "model_module_version": "1.2.0",
      "model_name": "LayoutModel",
      "state": {
       "width": "90%"
      }
     },
     "ff1edab8b7e749e49fa01c491f346757": {
      "model_module": "@jupyter-widgets/controls",
      "model_module_version": "1.5.0",
      "model_name": "HBoxModel",
      "state": {
       "children": [
        "IPY_MODEL_292814f3c1b644a085ba51efdb9e008d",
        "IPY_MODEL_3f7c1b359165415281f9762d644e5547"
       ],
       "layout": "IPY_MODEL_757a998f66fe478e930ed3af1bf7a982"
      }
     },
     "ff248f9518724d4b8d1b479303fd39dd": {
      "model_module": "@jupyter-widgets/base",
      "model_module_version": "1.2.0",
      "model_name": "LayoutModel",
      "state": {}
     },
     "ff24ca9baaa44777a93e8a877c0f98fd": {
      "model_module": "@jupyter-widgets/controls",
      "model_module_version": "1.5.0",
      "model_name": "DescriptionStyleModel",
      "state": {
       "description_width": ""
      }
     },
     "ff38bf6344b14694a17bb723002991b5": {
      "model_module": "@jupyter-widgets/base",
      "model_module_version": "1.2.0",
      "model_name": "LayoutModel",
      "state": {}
     },
     "ff43c276421a461193b8bbc90ce755f9": {
      "model_module": "@jupyter-widgets/controls",
      "model_module_version": "1.5.0",
      "model_name": "DescriptionStyleModel",
      "state": {
       "description_width": ""
      }
     },
     "ff4ed90524a2421fa61c5edd2070258b": {
      "model_module": "@jupyter-widgets/base",
      "model_module_version": "1.2.0",
      "model_name": "LayoutModel",
      "state": {}
     },
     "ff559ccd5de2453cbe5c366a66a8ca3a": {
      "model_module": "@jupyter-widgets/controls",
      "model_module_version": "1.5.0",
      "model_name": "HBoxModel",
      "state": {
       "children": [
        "IPY_MODEL_b98a5f1790724118a9ef3b13ec855c65",
        "IPY_MODEL_93a2067466274930b36833b465117796"
       ],
       "layout": "IPY_MODEL_9ac6c182c47144208744365a5e977264"
      }
     },
     "ff6216bf110b4b13a89255070619a2a3": {
      "model_module": "@jupyter-widgets/controls",
      "model_module_version": "1.5.0",
      "model_name": "DescriptionStyleModel",
      "state": {
       "description_width": ""
      }
     },
     "ff7ebee6f8d24242bdbac45117796654": {
      "model_module": "@jupyter-widgets/base",
      "model_module_version": "1.2.0",
      "model_name": "LayoutModel",
      "state": {
       "width": "5%"
      }
     },
     "ff827611032b4b5f92f58e98010eb378": {
      "model_module": "@jupyter-widgets/base",
      "model_module_version": "1.2.0",
      "model_name": "LayoutModel",
      "state": {
       "width": "5%"
      }
     },
     "ff95bbcf3c6049bf8711fe6ce34447e0": {
      "model_module": "@jupyter-widgets/controls",
      "model_module_version": "1.5.0",
      "model_name": "HBoxModel",
      "state": {
       "children": [
        "IPY_MODEL_f7ed5bbd3646417583be1447544845b2",
        "IPY_MODEL_a0759a462ee64cba9fdf6bf9ec2ebed9"
       ],
       "layout": "IPY_MODEL_0b45628ac4664420afa5b0d119820784"
      }
     },
     "ff9fc85d19b14ab3832743ca5ed2ee9f": {
      "model_module": "@jupyter-widgets/controls",
      "model_module_version": "1.5.0",
      "model_name": "DescriptionStyleModel",
      "state": {
       "description_width": ""
      }
     },
     "ffa3ede986aa4518a1dfc0c1c9ccb40d": {
      "model_module": "@jupyter-widgets/controls",
      "model_module_version": "1.5.0",
      "model_name": "ButtonModel",
      "state": {
       "description": "Review Answers",
       "layout": "IPY_MODEL_aacf957b6f694ed199abc6fab2fb42a6",
       "style": "IPY_MODEL_9aad2d7a376f472cabba15983a7e3cce",
       "tooltip": "Click to review answers"
      }
     },
     "ffc1dbafe94844788ef07886af902aa1": {
      "model_module": "@jupyter-widgets/controls",
      "model_module_version": "1.5.0",
      "model_name": "DescriptionStyleModel",
      "state": {
       "description_width": ""
      }
     },
     "fffb0fd7b581459e9eb21e84b8b54125": {
      "model_module": "@jupyter-widgets/controls",
      "model_module_version": "1.5.0",
      "model_name": "DescriptionStyleModel",
      "state": {
       "description_width": ""
      }
     }
    },
    "version_major": 2,
    "version_minor": 0
   }
  }
 },
 "nbformat": 4,
 "nbformat_minor": 2
}
