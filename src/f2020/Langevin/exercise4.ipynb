{
 "cells": [
  {
   "cell_type": "markdown",
   "metadata": {},
   "source": [
    "## Homework\n",
    "\n",
    "For your homework, answer the questions below in the Markdown cells provided. \n",
    "\n",
    "1. Run a simulation with $\\tau_{pulse} = 1000 fs$, $\\nu_{pulse} = 0$ THz, $E_{max} = 250$ statV/cm, and with $t_{pulse}$ and $t_{max}$ set to 3 ps. Leave the other parameters at their default values. This will produce an electric field that increases gradually during the simulation. What happens to the molecules as the simulation progresses? Why? "
   ]
  },
  {
   "cell_type": "markdown",
   "metadata": {},
   "source": []
  },
  {
   "cell_type": "markdown",
   "metadata": {},
   "source": [
    "2. Now run a simulation with a single particle, $\\tau_{pulse} = 200$ fs, $\\nu_{pulse} = 4$ THz, $E_{max} = 100$ statV/cm, $t_{pulse} = 1.5 ps$ and $t_{max} = 3$ ps. Keep the \"Skip Frames\" box turned off so that you can watch the particle trajectory in detail. What kind of motion does the pulse induce in the oscillator? What kind of spectroscopy does this represent? Can you find a pulse frequency that maximizes the response? \n"
   ]
  },
  {
   "cell_type": "markdown",
   "metadata": {},
   "source": []
  },
  {
   "cell_type": "markdown",
   "metadata": {},
   "source": [
    "3. Finally, repeat the last simulation with $\\nu_{pulse} = 50$ THz. What kind of motion does this induce in the oscillator? What sort of spectroscopy does it represent? "
   ]
  },
  {
   "cell_type": "markdown",
   "metadata": {},
   "source": []
  },
  {
   "cell_type": "markdown",
   "metadata": {},
   "source": [
    "4. Finally, repeat the last simulation with a larger number (say 15) of particles and with $E_{max} = 250$ statV/cm, $t_{max} = 10$ ps, and $t_{pulse} = 5$ ps. (You can leave the \"Skip Steps\" box unchecked to speed up the simulation). You should now see that in the first half of the simulation (before the pulse arrives) the polarization $P(t)$ decays to zero while the box equilibrates. When the pulls arrives, a non-zero polarization is induced. Run the simulation with $\\gamma$ set to 20 pg/s and 100 pg/s. In which case does the induced polarization decay faster after the pulse leaves? Why? "
   ]
  },
  {
   "cell_type": "markdown",
   "metadata": {},
   "source": []
  }
 ],
 "metadata": {
  "kernelspec": {
   "display_name": "Python 3",
   "language": "python",
   "name": "python3"
  },
  "language_info": {
   "codemirror_mode": {
    "name": "ipython",
    "version": 3
   },
   "file_extension": ".py",
   "mimetype": "text/x-python",
   "name": "python",
   "nbconvert_exporter": "python",
   "pygments_lexer": "ipython3",
   "version": "3.7.7"
  }
 },
 "nbformat": 4,
 "nbformat_minor": 2
}
