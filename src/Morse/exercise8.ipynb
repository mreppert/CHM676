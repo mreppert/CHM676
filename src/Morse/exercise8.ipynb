{
 "cells": [
  {
   "cell_type": "markdown",
   "metadata": {},
   "source": [
    "# Exercise 8\n",
    "\n",
    "For your assignment this week you will:\n",
    "1. Use the **pump-probe** (PP) app to run simulations relevant to each question below. (Be sure to report your parameters in the answer to each question.)\n",
    "2. Take screenshots of *the PP spectra and time traces*; use the Print Screen button on your keyboard.\n",
    "3. Paste these images into this Jupyter Notebook and use them to answer the assigned questions. \n",
    "\n",
    "\n",
    "## Questions ##\n",
    "\n",
    "1. **Dissipation vs Dephasing**: Find parameters for which PP spectrum is *primarily broadened by dissipation*. How can you tell from the pump-probe data that the broadening is driven by dissipation (and not dephasing)? "
   ]
  },
  {
   "cell_type": "markdown",
   "metadata": {},
   "source": []
  },
  {
   "cell_type": "markdown",
   "metadata": {},
   "source": [
    "2. **Inhomogeneous Broadening**: Find parameter values that illustrate the phenomenon of inhomogeneous broadening. Just by looking at the pump-probe data, can you tell that the system exhibits inhomogeneous broadening (as opposed to homogeneous broadening)? (Explain your answer.)\n"
   ]
  },
  {
   "cell_type": "markdown",
   "metadata": {},
   "source": []
  },
  {
   "cell_type": "markdown",
   "metadata": {},
   "source": [
    "3. **Motional Narrowing**: Change *exactly one parameter* (from the inhomogeneous broadening case) so that the spectrum exhibits motional narrowing. Is the spectrum now homogeneously or inhomogeneously broadened? Is this broadening driven by dissipation or dephasing? "
   ]
  },
  {
   "cell_type": "markdown",
   "metadata": {},
   "source": []
  },
  {
   "cell_type": "markdown",
   "metadata": {},
   "source": [
    "4. **\"Window\" Broadening**: Run two simulations using the pump-probe app with default simulation parameters **except** that $\\gamma$ is set to 10 pg/s, $\\tau_2^{(max)}$ is set to 50 fs, and $t_{max}$ is set to either 2 ps (first simulation) or 10 ps (second simulation). How does the *width* of the pump-probe spectrum (in the frequency domain) change between these two simulations? What causes this \"broadening\"? "
   ]
  },
  {
   "cell_type": "markdown",
   "metadata": {},
   "source": []
  },
  {
   "cell_type": "markdown",
   "metadata": {},
   "source": [
    "\n",
    "5. **Comparison to 2D Spectroscopy** Finally, you may have found it difficult in Question 2 to distinguish homogeneous vs inhomogeneous broadening. Explain (using screenshots from the 2D simulation notebook) how 2D spectroscopy allows these different broadening mechanisms to be distinguished. (What key feature(s) do you look for?)\n"
   ]
  },
  {
   "cell_type": "markdown",
   "metadata": {},
   "source": []
  },
  {
   "cell_type": "markdown",
   "metadata": {},
   "source": []
  }
 ],
 "metadata": {
  "kernelspec": {
   "display_name": "Python 3.8",
   "language": "python",
   "name": "python3"
  },
  "language_info": {
   "codemirror_mode": {
    "name": "ipython",
    "version": 3
   },
   "file_extension": ".py",
   "mimetype": "text/x-python",
   "name": "python",
   "nbconvert_exporter": "python",
   "pygments_lexer": "ipython3",
   "version": "3.8.10"
  },
  "toc": {
   "base_numbering": 1,
   "nav_menu": {},
   "number_sections": true,
   "sideBar": true,
   "skip_h1_title": false,
   "title_cell": "Table of Contents",
   "title_sidebar": "Contents",
   "toc_cell": false,
   "toc_position": {},
   "toc_section_display": true,
   "toc_window_display": false
  },
  "varInspector": {
   "cols": {
    "lenName": 16,
    "lenType": 16,
    "lenVar": 40
   },
   "kernels_config": {
    "python": {
     "delete_cmd_postfix": "",
     "delete_cmd_prefix": "del ",
     "library": "var_list.py",
     "varRefreshCmd": "print(var_dic_list())"
    },
    "r": {
     "delete_cmd_postfix": ") ",
     "delete_cmd_prefix": "rm(",
     "library": "var_list.r",
     "varRefreshCmd": "cat(var_dic_list()) "
    }
   },
   "types_to_exclude": [
    "module",
    "function",
    "builtin_function_or_method",
    "instance",
    "_Feature"
   ],
   "window_display": false
  }
 },
 "nbformat": 4,
 "nbformat_minor": 2
}
