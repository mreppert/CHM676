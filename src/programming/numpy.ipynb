{
 "cells": [
  {
   "cell_type": "markdown",
   "metadata": {},
   "source": [
    "# NumPy Arrays\n",
    "\n",
    "### General Features\n",
    "\n",
    "NumPy arrays are defined by the NumPy module, which we'll import using the command `import numpy as np`. The string ``np`` now serves as a short-hand for referring to all NumPy objects, including NumPy arrays. \n",
    "\n",
    "In general, NumPy arrays behave very much like the matrices you may (or may not!) have worked with in a linear algebra class. The NumPy module contains many useful routines for matrix manipulation, as we'll explore in more detail shortly. But first, let's contrast NumPy arrays with Python lists: Python lists are designed to be user-friendly and to allow for simple searching. NumPy arrays are designed to allow for very fast numerical operations like matrix addition, multiplication, and eigenvalue decomposition. Because of this emphasis on numerical efficiency, there are more restrictions on what is \"allowed\" in a NumPy array vs a Python list. Specifically:\n",
    "* All elements of a NumPy array must have the same (generally numeric) data type (e.g., `float` or `int`). It is not possible, for example, for the same array to contain both a float `3.1415` and an int `10` or char `c`. \n",
    "* NumPy arrays must be rectangular. Trying to initialize a NumPy array in the shape `[1, [2, 3]]` used above for My2DList will return an error. \n",
    "\n",
    "### Initializing NumPy Arrays\n",
    "\n",
    "NumPy arrays can be initialized in a variety of ways. For example: \n",
    "\n",
    "* **Direct initialization**: The most direct is to pass a rectangular-shaped Python list to the `np.array()` command. E.g., `My1DArray = np.array([1, 2, 3])` creates a one-dimensional array containing the integers 1 through 3. The command `My1DArray = np.array([[1, 2, 3], [4, 5, 6]])` creates a two-dimensional array containing the integers 1 through 6. \n",
    "\n",
    "* **np.zeros()**: Alternatively, one can create an array whose entries are all zero by calling the `np.zeros()` function. E.g., `np.zeros((2,3))` returns an 2x3 array whose entries are all zero. This syntax can be used to create arrays with arbitrary (rectangular) dimensions. E.g., `np.zeros((2,3,10))` creates a 2x3x10 array containing 60 entries (all of which are set to zero). \n",
    "\n",
    "* **np.ones()**: The command `np.ones()` behaves similarly, but all entries are set to `1` instead of `0`. \n",
    "\n",
    "* **np.arange()**: The command `arange(start, stop, stride)` command produces a NumPy vector of numbers beginning with `start`, increasing by `stride`, and ending *before* `stop`. For example, `np.arange(0, 6, 2)` produces the array `[0, 2, 4]`. If only two arguments are given (e.g., `np.arange(0,10)`), they are interpreted as `start` and `stop`, with `stride` assumed to be one. If only a single argument is given (e.g., `np.arange(10)`, it is interpreted as `stop`, with `start` assumed to be zero and `stride` assumed to be one. Thus the three statements `np.arange(0, 10, 1)`, `np.arange(0, 10)`, and `np.arange(10)` all produce the array `[0, 1, 2, 3, 4, 5, 6, 7, 8, 9]`. \n",
    "\n",
    "* **np.eye()**: The `np.eye(N)` command produces an *identity matrix* of size NxN. Identity matrices are a special class of *square* matrix whose diagonal entries are all one and whose off-diagonal entries are all zero. Identity matrices play a special role in matrix operations because multiplication by an identity matrix leaves other matrices unchanged. \n",
    "\n",
    "* **np.random.rand()**: The `np.random.random(N)` command produces a vector of length N containing *random numbers* evenly distributed between 0 and 1. Similarly to np.zeros(), multiple dimensions can also be specified, e.g., np.random.random((2,3,10)) produces a 2x3x10 array of random numbers. \n",
    "\n",
    "\n",
    "### Changing the shape of a NumPy array\n",
    "\n",
    "Sometimes it is convenient to change the shape of a NumPy array, without changing the values it contains. For example, the syntax\n",
    "``x = np.arange(10)``\n",
    "creates the NumPy vector `[0, 1, 2, 3, 4, 5, 6, 7, 8, 9]`. If we then add the command\n",
    "``x.shape = (2,5)``\n",
    "the form of `x` will be changed to `[[0 1 2 3 4], [5 6 7 8 9]]`, i.e., so that it contains the same data but stored as two rows of five elements each. The command `x.shape = (5,2)` would instead have reshaped `x` to have five rows and two columns. Note that is is necessary for the total number of elements in the initial and final arrays to be the same: `x.shape = (5,3)` would return an error since the number of elements in the requested shape (5x3 = 15) is larger than the number of elements (10) in the initial array. \n",
    "\n",
    "\n",
    "### Indexing NumPy Arrays\n",
    "\n",
    "Indexing in NumPy arrays is a bit more complicated than the simple single-integer indexing of Python lists. In the first place, NumPy arrays can be multi-dimensional, so there is often more than one index to specify. But complicating matters still further are a variety of \"shortcut\" notations built into the NumPy syntax for specifying multiple indices at once. To be sure, these features are extremely useful, but they can also be a little confusing. For a complete description of NumPy indexing, you are strongly advised to read through the [official NumPy documentation](https://numpy.org/doc/stable/user/basics.indexing.html?highlight=indexing). Here we provide only a brief overview. \n",
    "\n",
    "##### Single-element Indexing\n",
    "\n",
    "1. *Single elements are indexed by passing one integer (index) per dimension.* For example, if we create an array of random numbers `MyRandArray = np.random.random((2,3))`, then we can access the first element as `MyRandArray[0,0]`. The second element of the first row is `MyRandArray[0,1]`, while the last index is `MyRandArray[1,2]`. Note again that indexing begins at zero, so that the last elements in a row or column always have an index *one less* than the size of the array. \n",
    "\n",
    "2. *Negative indices are used to specify elements from the end of a dimension, instead of the start.* In the example, just given, the final element could just as well have been specified as `MyRandArray[-1,-1]` instead of `MyRandArray[1,2]`. The element in the last row and second-to-last column is given by `MyRandArray[-1,-2]`. \n",
    "\n",
    "##### Multi-element Indexing\n",
    "\n",
    "3. *Slices* of NumPy arrays allow the user to view consecutive elements from an array and are specified by the start and stop indices, separated by a colon (\":\"). For example, if `x = np.arange(10)`, then `x[0:3]` is `[0, 1, 2]` and `x[2:5]` is `[2, 3, 4]`. \n",
    "\n",
    "4. A non-unit *stride* for slicing along an array can be specified by adding an additional colon and a stride length after the final index. For example, `x[0:5:2]` produces a view of the array `x` that starts at the 0th element, stops before the 5th element, with a step size of 2, i.e., (with `x = np.arange(10)`) the array `[0, 2, 4]`. Note that negative strides are allowed, so long as the stop index is *smaller than* the start! (E.g., `x[5:0:-2]` is `[5, 3, 1]`). \n",
    "\n",
    "5. *Default values* of `start = 0` and `stride = 1` are assumed if either of these values are missing. E.g., `x[:5:2]` produces the same output as `x[0:5:2]` and `x[:5]` produces the same output as `x[:5:1]`. If no `stop` index is specified, the slice is taken to extend to the end of the dimension. \n",
    "\n",
    "##### Multi-dimensional Indexing\n",
    "\n",
    "Multi-dimensional indexing is generally similar to single-dimensional indexing, so long as a rectangular sub-array is extracted. E.g., if `x.shape = (5,2)`, then `x[0::2,0]` produces `[0, 4, 8]`, i.e., the extracted array contains data from the first column of every other row. More complicated indexing options are available that allow the user to access non-rectangular sub-arrays (see the [documentation](https://numpy.org/doc/stable/user/basics.indexing.html?highlight=indexing)), but we'll leave these for future study. \n",
    "\n",
    "\n",
    "### Viewing vs. Copying NumPy Arrays\n",
    "\n",
    "The methods just described for *viewing* the elements of a NumPy array can also be used to *change values* of the same elements. So, for example, if `x = np.arange(10)`, the syntax `x[0] = 0` will set the first element of `x` to zero, while the syntax `x[2:5] = 2` will set elements `x[2]`, `x[3]`, and `x[4]` to zero. \n",
    "\n",
    "Where this behavior can become a bit confusing is when we define a *new array* that contains elements *extracted from* another array. Here two different behaviors are possible:\n",
    "\n",
    "1. Creating a *copy*: The syntax `y = x[2:5].copy()` creates a new array named \"y\" that contains the same values as were stored in elements 2 through 4 of the array `x`. Changing the values in `y` (e.g., setting `y[0] = 0`) will not affect the values in `x`. For example, in the following code, setting `y[0] = 0` changes the output of `print(y)` but not the output of `print(x)`:"
   ]
  },
  {
   "cell_type": "code",
   "execution_count": 44,
   "metadata": {},
   "outputs": [
    {
     "name": "stdout",
     "output_type": "stream",
     "text": [
      "[0 3 4]\n",
      "[0 1 2 3 4 5 6 7 8 9]\n"
     ]
    }
   ],
   "source": [
    "x = np.arange(10)\n",
    "y = x[2:5].copy()\n",
    "y[0] = 0\n",
    "print(y)\n",
    "print(x)"
   ]
  },
  {
   "cell_type": "markdown",
   "metadata": {},
   "source": [
    "2. Creating a *view*: In contrast, the syntax `y = x[2:5]` does **not** create a new array! Instead it creates a \"pointer\" to the values stored in the `x` array. If we set `y[0] = 0`, we *change the value of the corresponding element in* `x`. In the code below, the values of *both `y` and `x` are modified* by setting `y[0] = 0`. \n",
    "    \n"
   ]
  },
  {
   "cell_type": "code",
   "execution_count": 48,
   "metadata": {},
   "outputs": [
    {
     "name": "stdout",
     "output_type": "stream",
     "text": [
      "[0 3 4]\n",
      "[0 1 0 3 4 5 6 7 8 9]\n",
      "[10  1  0  3  4  5  6  7  8  9]\n"
     ]
    }
   ],
   "source": [
    "x = np.arange(10)\n",
    "y = x[2:5]\n",
    "y[0] = 0\n",
    "print(y)\n",
    "print(x)"
   ]
  },
  {
   "cell_type": "markdown",
   "metadata": {},
   "source": [
    "This distinction may seem a bit nuanced, but it can have dramatic consequences in a programming project. When creating new array variables from other array variables, make sure you know whether you are copying or viewing! When in doubt, it's safest to add an explicit `.copy()` command to the right-hand-side of an assignment so as to avoid the possibility that modifications of the new variable will affect the old one. Similarly, adding an explicit statement `.view()` to the right-hand-side makes clear that any modifications to the new variable will be passed to the original. \n",
    "\n",
    "\n",
    "### NumPy Array Operations\n",
    "\n",
    "The great value of the NumPy library is its massive collection of array routines. Here we offer only a brief glimpse. We'll cover many more as the semester progresses. \n",
    "\n",
    "1. **Matrix-Scalar operations** generally follow the syntax of the corresponding scalar-scalar operation. E.g., if `A` is a NumPy array, then `A + 3` adds the scalar 3 to each element in the array. `3*A` multiplies each element by 3, `A - 3` subtracts 3 from each element, and `A/3` divides each element by 3. \n",
    "\n",
    "2. **Matrix Addition and Subtraction**: NumPy arrays can be added and subtracted element-wise using the `+` and `-` operators, just like numbers. So, for example, `np.random.random(2,2) + np.random.random(2,2)` creates a 2x2 array whose elements are random numbers between 0 and 2. Matrices can also be added to scalars: `np.random.random(2,2) + 5` creates a 2x2 array whose elements are random numbers between 5 and 6. \n",
    "\n",
    "3. **Matrix Multiplication**: There are several types of matrix multiplication common in scientific computing: \n",
    "\n",
    "    * In the **element-wise product** of two matrices, each element is the product of the corresponding element in each of the input matrices. In NumPy, this is accomplished by the `*` operator or by the `np.multiply()` command. E.g., if `X = A*B`, then `X[m,n] = A[m,n]*B[m,n]`. \n",
    "    \n",
    "    * The **scalar product** of two matrices is the sum over all elements of the element-wise product. In the special case that the two matrices are vectors (one-dimensional matrices), this is exactly the dot product familiar from linear algebra. In NumPy scalar products are calculated using the command `np.dot()`. \n",
    "    \n",
    "    * In the **matrix product** of two matrices, the [m,n] element is the vector dot product of the mth *row* of the first matrix with the nth *column* of the second matrix. In NumPy, the matrix product is indicated by the `@` operator or the `np.matmul()` function. So if `X = A@B` (or equivalently `X = np.matmul(A,B)`), then `X[m,n] = np.dot(A[m,:], B[:,n)`. \n",
    "\n",
    "4. **Element-Wise Division**: Element-wise division of NumPy arrays is accomplished using the usual division operator `/`. So, for example, if `x` is a matrix whose elements are all non-zero, then all elements of `x / x` are one. \n",
    "\n",
    "5. **Matrix Diagonalization**: Finally, in spectroscopic applications, we will often need to calculate matrix eigenvalues and eigenvectors using the `np.linalg.eig()`. The syntax `vals, vecs = np.linalg.eig(x)` produces a vector `vals` whose elements are the eigenvalues of the matrix `x`, while the nth *column* of the array `vecs` is an eigenvector corresponding to the nth entry in `vals`. Thus `x@vecs[:,n] = vals[n]*vecs[:,n]`. (This relationship is the defining feature of an eigenvalue/eigenvector pair.) "
   ]
  }
 ],
 "metadata": {
  "kernelspec": {
   "display_name": "Python 3",
   "language": "python",
   "name": "python3"
  },
  "language_info": {
   "codemirror_mode": {
    "name": "ipython",
    "version": 3
   },
   "file_extension": ".py",
   "mimetype": "text/x-python",
   "name": "python",
   "nbconvert_exporter": "python",
   "pygments_lexer": "ipython3",
   "version": "3.7.7"
  }
 },
 "nbformat": 4,
 "nbformat_minor": 2
}
